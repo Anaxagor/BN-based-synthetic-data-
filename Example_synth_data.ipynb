{
 "metadata": {
  "language_info": {
   "codemirror_mode": {
    "name": "ipython",
    "version": 3
   },
   "file_extension": ".py",
   "mimetype": "text/x-python",
   "name": "python",
   "nbconvert_exporter": "python",
   "pygments_lexer": "ipython3",
   "version": "3.6.6-final"
  },
  "orig_nbformat": 2,
  "kernelspec": {
   "name": "python3",
   "display_name": "Python 3",
   "language": "python"
  }
 },
 "nbformat": 4,
 "nbformat_minor": 2,
 "cells": [
  {
   "cell_type": "code",
   "execution_count": 1,
   "metadata": {},
   "outputs": [],
   "source": [
    "import pandas as pd\n",
    "from data_process.preprocessing import discretization, get_nodes_type, code_categories\n",
    "from block_learning.train_bn import structure_learning, parameter_learning\n",
    "from block_learning.partial_bn_train import connect_partial_bn, hierarchical_train, direct_connect, direct_train\n",
    "import seaborn as sns\n",
    "import numpy as np\n",
    "import time\n",
    "import matplotlib.pyplot as plt\n",
    "from sklearn.preprocessing import StandardScaler, MinMaxScaler\n",
    "from block_learning.save_bn import save_structure, save_params\n",
    "from block_learning.read_bn import read_structure, read_params\n",
    "from block_learning.sampling import generate_synthetics, get_probability\n",
    "from libpgm.hybayesiannetwork import HyBayesianNetwork\n",
    "from visualization.visualization import visualizer, draw_comparative_hist\n",
    "import networkx as nx\n",
    "from pomegranate import log_probability, BayesianNetwork\n",
    "from libpgm.sampleaggregator import SampleAggregator"
   ]
  },
  {
   "cell_type": "code",
   "execution_count": 2,
   "metadata": {},
   "outputs": [
    {
     "output_type": "execute_result",
     "data": {
      "text/plain": [
       "   age  age_hidden  has_high_education  is_closed  len_of_about  \\\n",
       "0   34         0.0                   1          0            14   \n",
       "1    0         1.0                   0          0             0   \n",
       "2   37         0.0                   0          0             0   \n",
       "3   39         0.0                   1          0             0   \n",
       "4   34         0.0                   0          0             0   \n",
       "5   36         0.0                   0          0             0   \n",
       "6    0         1.0                   0          0             0   \n",
       "7   35         0.0                   0          0             0   \n",
       "8   41         0.0                   0          0             0   \n",
       "9   34         0.0                   1          0             0   \n",
       "\n",
       "   len_of_status  number_of_activities  number_of_books  number_of_followers  \\\n",
       "0             16                     1                1                  720   \n",
       "1              0                     0                0                87638   \n",
       "2              2                     0                0                    0   \n",
       "3             11                     1                1                  317   \n",
       "4             11                     0                0                  328   \n",
       "5              0                     0                0                  474   \n",
       "6              3                     0                0                 7458   \n",
       "7              0                     0                0                 2659   \n",
       "8              0                     0                0                  651   \n",
       "9              4                     1                4                 1522   \n",
       "\n",
       "   number_of_friends  ...  driver  has_pets  cash_usage  gulyaka  zhavoronok  \\\n",
       "0                911  ...       0         0           0        1           0   \n",
       "1                687  ...       1         0           0        1           0   \n",
       "2                 24  ...       0         1           0        0           0   \n",
       "3                291  ...       0         0           0        1           0   \n",
       "4                413  ...       0         0           0        1           0   \n",
       "5                175  ...       1         0           0        0           0   \n",
       "6                982  ...       0         1           0        1           0   \n",
       "7                279  ...       1         0           0        0           0   \n",
       "8                134  ...       1         0           0        0           0   \n",
       "9                177  ...       1         0           0        0           0   \n",
       "\n",
       "   sum_act                top1                top2                top3  \\\n",
       "0        1    Gifts & holidays               Music  History & politics   \n",
       "1        2    Gifts & holidays  History & politics     Love & relation   \n",
       "2        1     Purchase & sale    Gifts & holidays             Cooking   \n",
       "3        2  History & politics    Gifts & holidays     Love & relation   \n",
       "4        1    Gifts & holidays               Music  History & politics   \n",
       "5        1    Gifts & holidays  History & politics     Love & relation   \n",
       "6        2    Gifts & holidays               Music  History & politics   \n",
       "7        1    Gifts & holidays  History & politics               Music   \n",
       "8        1    Gifts & holidays     Love & relation  History & politics   \n",
       "9        2    Gifts & holidays     Love & relation  History & politics   \n",
       "\n",
       "                    top4  \n",
       "0        Purchase & sale  \n",
       "1                  Music  \n",
       "2        Love & relation  \n",
       "3            Job & money  \n",
       "4        Love & relation  \n",
       "5  Fitness & cosmetology  \n",
       "6        Purchase & sale  \n",
       "7        Purchase & sale  \n",
       "8        Purchase & sale  \n",
       "9                Cooking  \n",
       "\n",
       "[10 rows x 49 columns]"
      ],
      "text/html": "<div>\n<style scoped>\n    .dataframe tbody tr th:only-of-type {\n        vertical-align: middle;\n    }\n\n    .dataframe tbody tr th {\n        vertical-align: top;\n    }\n\n    .dataframe thead th {\n        text-align: right;\n    }\n</style>\n<table border=\"1\" class=\"dataframe\">\n  <thead>\n    <tr style=\"text-align: right;\">\n      <th></th>\n      <th>age</th>\n      <th>age_hidden</th>\n      <th>has_high_education</th>\n      <th>is_closed</th>\n      <th>len_of_about</th>\n      <th>len_of_status</th>\n      <th>number_of_activities</th>\n      <th>number_of_books</th>\n      <th>number_of_followers</th>\n      <th>number_of_friends</th>\n      <th>...</th>\n      <th>driver</th>\n      <th>has_pets</th>\n      <th>cash_usage</th>\n      <th>gulyaka</th>\n      <th>zhavoronok</th>\n      <th>sum_act</th>\n      <th>top1</th>\n      <th>top2</th>\n      <th>top3</th>\n      <th>top4</th>\n    </tr>\n  </thead>\n  <tbody>\n    <tr>\n      <th>0</th>\n      <td>34</td>\n      <td>0.0</td>\n      <td>1</td>\n      <td>0</td>\n      <td>14</td>\n      <td>16</td>\n      <td>1</td>\n      <td>1</td>\n      <td>720</td>\n      <td>911</td>\n      <td>...</td>\n      <td>0</td>\n      <td>0</td>\n      <td>0</td>\n      <td>1</td>\n      <td>0</td>\n      <td>1</td>\n      <td>Gifts &amp; holidays</td>\n      <td>Music</td>\n      <td>History &amp; politics</td>\n      <td>Purchase &amp; sale</td>\n    </tr>\n    <tr>\n      <th>1</th>\n      <td>0</td>\n      <td>1.0</td>\n      <td>0</td>\n      <td>0</td>\n      <td>0</td>\n      <td>0</td>\n      <td>0</td>\n      <td>0</td>\n      <td>87638</td>\n      <td>687</td>\n      <td>...</td>\n      <td>1</td>\n      <td>0</td>\n      <td>0</td>\n      <td>1</td>\n      <td>0</td>\n      <td>2</td>\n      <td>Gifts &amp; holidays</td>\n      <td>History &amp; politics</td>\n      <td>Love &amp; relation</td>\n      <td>Music</td>\n    </tr>\n    <tr>\n      <th>2</th>\n      <td>37</td>\n      <td>0.0</td>\n      <td>0</td>\n      <td>0</td>\n      <td>0</td>\n      <td>2</td>\n      <td>0</td>\n      <td>0</td>\n      <td>0</td>\n      <td>24</td>\n      <td>...</td>\n      <td>0</td>\n      <td>1</td>\n      <td>0</td>\n      <td>0</td>\n      <td>0</td>\n      <td>1</td>\n      <td>Purchase &amp; sale</td>\n      <td>Gifts &amp; holidays</td>\n      <td>Cooking</td>\n      <td>Love &amp; relation</td>\n    </tr>\n    <tr>\n      <th>3</th>\n      <td>39</td>\n      <td>0.0</td>\n      <td>1</td>\n      <td>0</td>\n      <td>0</td>\n      <td>11</td>\n      <td>1</td>\n      <td>1</td>\n      <td>317</td>\n      <td>291</td>\n      <td>...</td>\n      <td>0</td>\n      <td>0</td>\n      <td>0</td>\n      <td>1</td>\n      <td>0</td>\n      <td>2</td>\n      <td>History &amp; politics</td>\n      <td>Gifts &amp; holidays</td>\n      <td>Love &amp; relation</td>\n      <td>Job &amp; money</td>\n    </tr>\n    <tr>\n      <th>4</th>\n      <td>34</td>\n      <td>0.0</td>\n      <td>0</td>\n      <td>0</td>\n      <td>0</td>\n      <td>11</td>\n      <td>0</td>\n      <td>0</td>\n      <td>328</td>\n      <td>413</td>\n      <td>...</td>\n      <td>0</td>\n      <td>0</td>\n      <td>0</td>\n      <td>1</td>\n      <td>0</td>\n      <td>1</td>\n      <td>Gifts &amp; holidays</td>\n      <td>Music</td>\n      <td>History &amp; politics</td>\n      <td>Love &amp; relation</td>\n    </tr>\n    <tr>\n      <th>5</th>\n      <td>36</td>\n      <td>0.0</td>\n      <td>0</td>\n      <td>0</td>\n      <td>0</td>\n      <td>0</td>\n      <td>0</td>\n      <td>0</td>\n      <td>474</td>\n      <td>175</td>\n      <td>...</td>\n      <td>1</td>\n      <td>0</td>\n      <td>0</td>\n      <td>0</td>\n      <td>0</td>\n      <td>1</td>\n      <td>Gifts &amp; holidays</td>\n      <td>History &amp; politics</td>\n      <td>Love &amp; relation</td>\n      <td>Fitness &amp; cosmetology</td>\n    </tr>\n    <tr>\n      <th>6</th>\n      <td>0</td>\n      <td>1.0</td>\n      <td>0</td>\n      <td>0</td>\n      <td>0</td>\n      <td>3</td>\n      <td>0</td>\n      <td>0</td>\n      <td>7458</td>\n      <td>982</td>\n      <td>...</td>\n      <td>0</td>\n      <td>1</td>\n      <td>0</td>\n      <td>1</td>\n      <td>0</td>\n      <td>2</td>\n      <td>Gifts &amp; holidays</td>\n      <td>Music</td>\n      <td>History &amp; politics</td>\n      <td>Purchase &amp; sale</td>\n    </tr>\n    <tr>\n      <th>7</th>\n      <td>35</td>\n      <td>0.0</td>\n      <td>0</td>\n      <td>0</td>\n      <td>0</td>\n      <td>0</td>\n      <td>0</td>\n      <td>0</td>\n      <td>2659</td>\n      <td>279</td>\n      <td>...</td>\n      <td>1</td>\n      <td>0</td>\n      <td>0</td>\n      <td>0</td>\n      <td>0</td>\n      <td>1</td>\n      <td>Gifts &amp; holidays</td>\n      <td>History &amp; politics</td>\n      <td>Music</td>\n      <td>Purchase &amp; sale</td>\n    </tr>\n    <tr>\n      <th>8</th>\n      <td>41</td>\n      <td>0.0</td>\n      <td>0</td>\n      <td>0</td>\n      <td>0</td>\n      <td>0</td>\n      <td>0</td>\n      <td>0</td>\n      <td>651</td>\n      <td>134</td>\n      <td>...</td>\n      <td>1</td>\n      <td>0</td>\n      <td>0</td>\n      <td>0</td>\n      <td>0</td>\n      <td>1</td>\n      <td>Gifts &amp; holidays</td>\n      <td>Love &amp; relation</td>\n      <td>History &amp; politics</td>\n      <td>Purchase &amp; sale</td>\n    </tr>\n    <tr>\n      <th>9</th>\n      <td>34</td>\n      <td>0.0</td>\n      <td>1</td>\n      <td>0</td>\n      <td>0</td>\n      <td>4</td>\n      <td>1</td>\n      <td>4</td>\n      <td>1522</td>\n      <td>177</td>\n      <td>...</td>\n      <td>1</td>\n      <td>0</td>\n      <td>0</td>\n      <td>0</td>\n      <td>0</td>\n      <td>2</td>\n      <td>Gifts &amp; holidays</td>\n      <td>Love &amp; relation</td>\n      <td>History &amp; politics</td>\n      <td>Cooking</td>\n    </tr>\n  </tbody>\n</table>\n<p>10 rows × 49 columns</p>\n</div>"
     },
     "metadata": {},
     "execution_count": 2
    }
   ],
   "source": [
    "data = pd.read_csv('data/final_dataset_no_posts_info.csv')\n",
    "data.head(10)"
   ]
  },
  {
   "cell_type": "code",
   "execution_count": 3,
   "metadata": {},
   "outputs": [],
   "source": [
    "data = data[['age',\t'sex',\t'has_high_education',\t'relation_status',\t'number_of_relatives','len_of_about',\t'number_of_activities',\t'number_of_books',\t'number_of_interests',\t'number_of_movies','top1','top2','top3','top4', 'nodes',\t'betweenness_centrality',\t'density',\t'eigenvector_centrality',\t'degree_assortativity_coefficient','max_tr',\t'mean_tr', 'parent',\t'driver',\t'has_pets',\t'cash_usage']] #'posts_count',\t'posts_per_month',\t'likes_per_post',\t'views_per_post',\t'repost_ratio']]"
   ]
  },
  {
   "cell_type": "code",
   "execution_count": 4,
   "metadata": {},
   "outputs": [
    {
     "output_type": "execute_result",
     "data": {
      "text/plain": [
       "(51478, 25)"
      ]
     },
     "metadata": {},
     "execution_count": 4
    }
   ],
   "source": [
    "data.shape"
   ]
  },
  {
   "cell_type": "code",
   "execution_count": 5,
   "metadata": {},
   "outputs": [],
   "source": [
    "data.dropna(inplace=True)\n",
    "data.reset_index(inplace=True, drop=True)"
   ]
  },
  {
   "cell_type": "code",
   "execution_count": 6,
   "metadata": {},
   "outputs": [
    {
     "output_type": "execute_result",
     "data": {
      "text/plain": [
       "(51371, 25)"
      ]
     },
     "metadata": {},
     "execution_count": 6
    }
   ],
   "source": [
    "data.shape"
   ]
  },
  {
   "cell_type": "code",
   "execution_count": 7,
   "metadata": {},
   "outputs": [],
   "source": [
    "discrete_data = discretization(data, 'equal_frequency', bins= 5, columns=['betweenness_centrality',\t'density',\t'eigenvector_centrality',\t'degree_assortativity_coefficient','max_tr', 'mean_tr'])#, 'posts_per_month', 'repost_ratio'])"
   ]
  },
  {
   "cell_type": "code",
   "execution_count": 8,
   "metadata": {},
   "outputs": [],
   "source": [
    "new_data = code_categories(discrete_data, ['top1', 'top2', 'top3', 'top4'])"
   ]
  },
  {
   "cell_type": "code",
   "execution_count": 9,
   "metadata": {},
   "outputs": [],
   "source": [
    "module1 = new_data[['age',\t'sex',\t'has_high_education',\t'relation_status',\t'number_of_relatives']]\n",
    "module2 = new_data[['len_of_about',\t'number_of_activities',\t'number_of_books',\t'number_of_interests',\t'number_of_movies']]\n",
    "module3 = new_data[['top1', 'top2', 'top3', 'top4']]\n",
    "module4 = new_data[['nodes',\t'betweenness_centrality',\t'eigenvector_centrality', 'density', 'degree_assortativity_coefficient']]\n",
    "module5 = new_data[['max_tr',\t'mean_tr', 'parent',\t'driver',\t'has_pets',\t'cash_usage']]\n",
    "#module6 = new_data[['posts_per_month',\t'likes_per_post',\t'views_per_post',\t'repost_ratio']]"
   ]
  },
  {
   "cell_type": "code",
   "execution_count": 10,
   "metadata": {},
   "outputs": [
    {
     "output_type": "execute_result",
     "data": {
      "text/plain": [
       "{'age': 'disc',\n",
       " 'sex': 'disc',\n",
       " 'has_high_education': 'disc',\n",
       " 'relation_status': 'disc',\n",
       " 'number_of_relatives': 'disc'}"
      ]
     },
     "metadata": {},
     "execution_count": 10
    }
   ],
   "source": [
    "node_type1 = get_nodes_type(data[['age',\t'sex',\t'has_high_education',\t'relation_status',\t'number_of_relatives']])\n",
    "node_type1"
   ]
  },
  {
   "cell_type": "code",
   "execution_count": 11,
   "metadata": {},
   "outputs": [
    {
     "output_type": "execute_result",
     "data": {
      "text/plain": [
       "{'len_of_about': 'disc',\n",
       " 'number_of_activities': 'disc',\n",
       " 'number_of_books': 'disc',\n",
       " 'number_of_interests': 'disc',\n",
       " 'number_of_movies': 'disc'}"
      ]
     },
     "metadata": {},
     "execution_count": 11
    }
   ],
   "source": [
    "node_type2 = get_nodes_type(data[['len_of_about',\t'number_of_activities',\t'number_of_books',\t'number_of_interests',\t'number_of_movies']])\n",
    "node_type2"
   ]
  },
  {
   "cell_type": "code",
   "execution_count": 12,
   "metadata": {},
   "outputs": [
    {
     "output_type": "execute_result",
     "data": {
      "text/plain": [
       "{'top1': 'disc', 'top2': 'disc', 'top3': 'disc', 'top4': 'disc'}"
      ]
     },
     "metadata": {},
     "execution_count": 12
    }
   ],
   "source": [
    "node_type3 = get_nodes_type(data[['top1', 'top2', 'top3', 'top4']])\n",
    "node_type3"
   ]
  },
  {
   "cell_type": "code",
   "execution_count": 13,
   "metadata": {},
   "outputs": [
    {
     "output_type": "execute_result",
     "data": {
      "text/plain": [
       "{'nodes': 'disc',\n",
       " 'betweenness_centrality': 'cont',\n",
       " 'eigenvector_centrality': 'cont',\n",
       " 'density': 'cont',\n",
       " 'degree_assortativity_coefficient': 'cont'}"
      ]
     },
     "metadata": {},
     "execution_count": 13
    }
   ],
   "source": [
    "node_type4 = get_nodes_type(data[['nodes',\t'betweenness_centrality',\t'eigenvector_centrality', 'density', 'degree_assortativity_coefficient']])\n",
    "node_type4"
   ]
  },
  {
   "cell_type": "code",
   "execution_count": 14,
   "metadata": {},
   "outputs": [
    {
     "output_type": "execute_result",
     "data": {
      "text/plain": [
       "{'max_tr': 'cont',\n",
       " 'mean_tr': 'cont',\n",
       " 'parent': 'disc',\n",
       " 'driver': 'disc',\n",
       " 'has_pets': 'disc',\n",
       " 'cash_usage': 'disc'}"
      ]
     },
     "metadata": {},
     "execution_count": 14
    }
   ],
   "source": [
    "node_type5 = get_nodes_type(data[['max_tr',\t'mean_tr', 'parent',\t'driver',\t'has_pets',\t'cash_usage']])\n",
    "node_type5"
   ]
  },
  {
   "cell_type": "code",
   "execution_count": 15,
   "metadata": {},
   "outputs": [],
   "source": [
    "#node_type6 = get_nodes_type(data[['posts_per_month',\t'likes_per_post',\t'views_per_post',\t'repost_ratio']])\n",
    "#node_type6"
   ]
  },
  {
   "cell_type": "code",
   "execution_count": 16,
   "metadata": {},
   "outputs": [
    {
     "output_type": "stream",
     "name": "stderr",
     "text": [
      "  0%|          | 51/1000000 [01:45<575:40:26,  2.07s/it]118.1953775882721\n"
     ]
    }
   ],
   "source": [
    "start = time.time()\n",
    "node_type = {**node_type1, **node_type2, **node_type3, **node_type4, **node_type5}\n",
    "bn = structure_learning(new_data[['age',\t'sex',\t'has_high_education',\t'relation_status',\t'number_of_relatives','len_of_about',\t'number_of_activities',\t'number_of_books',\t'number_of_interests',\t'number_of_movies','top1', 'top2', 'top3', 'top4','nodes',\t'betweenness_centrality',\t'eigenvector_centrality', 'density', 'degree_assortativity_coefficient', 'max_tr',\t'mean_tr', 'parent',\t'driver',\t'has_pets',\t'cash_usage']], 'K2', node_type)\n",
    "param = parameter_learning(data[['age',\t'sex',\t'has_high_education',\t'relation_status',\t'number_of_relatives','len_of_about',\t'number_of_activities',\t'number_of_books',\t'number_of_interests',\t'number_of_movies','top1', 'top2', 'top3', 'top4','nodes',\t'betweenness_centrality',\t'eigenvector_centrality', 'density', 'degree_assortativity_coefficient','max_tr',\t'mean_tr', 'parent',\t'driver',\t'has_pets',\t'cash_usage']], node_type, bn)\n",
    "end = time.time()\n",
    "print(end - start)"
   ]
  },
  {
   "cell_type": "code",
   "execution_count": 17,
   "metadata": {},
   "outputs": [],
   "source": [
    "save_structure(bn, 'full_net')\n",
    "skel = read_structure('full_net')\n",
    "save_params(param, 'full_net_param')\n",
    "params = read_params('full_net_param')\n",
    "full = HyBayesianNetwork(skel, params)"
   ]
  },
  {
   "cell_type": "code",
   "execution_count": 18,
   "metadata": {},
   "outputs": [
    {
     "output_type": "display_data",
     "data": {
      "text/plain": "<Figure size 2025x225 with 1 Axes>",
      "image/svg+xml": "<?xml version=\"1.0\" encoding=\"utf-8\" standalone=\"no\"?>\r\n<!DOCTYPE svg PUBLIC \"-//W3C//DTD SVG 1.1//EN\"\r\n  \"http://www.w3.org/Graphics/SVG/1.1/DTD/svg11.dtd\">\r\n<!-- Created with matplotlib (https://matplotlib.org/) -->\r\n<svg height=\"100.837344pt\" version=\"1.1\" viewBox=\"0 0 958.444687 100.837344\" width=\"958.444687pt\" xmlns=\"http://www.w3.org/2000/svg\" xmlns:xlink=\"http://www.w3.org/1999/xlink\">\r\n <defs>\r\n  <style type=\"text/css\">\r\n*{stroke-linecap:butt;stroke-linejoin:round;}\r\n  </style>\r\n </defs>\r\n <g id=\"figure_1\">\r\n  <g id=\"patch_1\">\r\n   <path d=\"M 0 100.837344 \r\nL 958.444687 100.837344 \r\nL 958.444687 0 \r\nL 0 0 \r\nz\r\n\" style=\"fill:none;\"/>\r\n  </g>\r\n  <g id=\"axes_1\">\r\n   <g id=\"legend_1\">\r\n    <g id=\"patch_2\">\r\n     <path d=\"M 425.843438 52.818281 \r\nL 547.552813 52.818281 \r\nQ 549.552813 52.818281 549.552813 50.818281 \r\nL 549.552813 37.140156 \r\nQ 549.552813 35.140156 547.552813 35.140156 \r\nL 425.843438 35.140156 \r\nQ 423.843438 35.140156 423.843438 37.140156 \r\nL 423.843438 50.818281 \r\nQ 423.843438 52.818281 425.843438 52.818281 \r\nz\r\n\" style=\"fill:#ffffff;opacity:0.8;stroke:#cccccc;stroke-linejoin:miter;\"/>\r\n    </g>\r\n    <g id=\"patch_3\">\r\n     <path d=\"M 427.843438 46.738594 \r\nL 447.843438 46.738594 \r\nL 447.843438 39.738594 \r\nL 427.843438 39.738594 \r\nz\r\n\" style=\"fill:#2f4f4f;stroke:#2f4f4f;stroke-linejoin:miter;\"/>\r\n    </g>\r\n    <g id=\"text_1\">\r\n     <!-- disc -->\r\n     <defs>\r\n      <path d=\"M 45.40625 46.390625 \r\nL 45.40625 75.984375 \r\nL 54.390625 75.984375 \r\nL 54.390625 0 \r\nL 45.40625 0 \r\nL 45.40625 8.203125 \r\nQ 42.578125 3.328125 38.25 0.953125 \r\nQ 33.9375 -1.421875 27.875 -1.421875 \r\nQ 17.96875 -1.421875 11.734375 6.484375 \r\nQ 5.515625 14.40625 5.515625 27.296875 \r\nQ 5.515625 40.1875 11.734375 48.09375 \r\nQ 17.96875 56 27.875 56 \r\nQ 33.9375 56 38.25 53.625 \r\nQ 42.578125 51.265625 45.40625 46.390625 \r\nz\r\nM 14.796875 27.296875 \r\nQ 14.796875 17.390625 18.875 11.75 \r\nQ 22.953125 6.109375 30.078125 6.109375 \r\nQ 37.203125 6.109375 41.296875 11.75 \r\nQ 45.40625 17.390625 45.40625 27.296875 \r\nQ 45.40625 37.203125 41.296875 42.84375 \r\nQ 37.203125 48.484375 30.078125 48.484375 \r\nQ 22.953125 48.484375 18.875 42.84375 \r\nQ 14.796875 37.203125 14.796875 27.296875 \r\nz\r\n\" id=\"DejaVuSans-100\"/>\r\n      <path d=\"M 9.421875 54.6875 \r\nL 18.40625 54.6875 \r\nL 18.40625 0 \r\nL 9.421875 0 \r\nz\r\nM 9.421875 75.984375 \r\nL 18.40625 75.984375 \r\nL 18.40625 64.59375 \r\nL 9.421875 64.59375 \r\nz\r\n\" id=\"DejaVuSans-105\"/>\r\n      <path d=\"M 44.28125 53.078125 \r\nL 44.28125 44.578125 \r\nQ 40.484375 46.53125 36.375 47.5 \r\nQ 32.28125 48.484375 27.875 48.484375 \r\nQ 21.1875 48.484375 17.84375 46.4375 \r\nQ 14.5 44.390625 14.5 40.28125 \r\nQ 14.5 37.15625 16.890625 35.375 \r\nQ 19.28125 33.59375 26.515625 31.984375 \r\nL 29.59375 31.296875 \r\nQ 39.15625 29.25 43.1875 25.515625 \r\nQ 47.21875 21.78125 47.21875 15.09375 \r\nQ 47.21875 7.46875 41.1875 3.015625 \r\nQ 35.15625 -1.421875 24.609375 -1.421875 \r\nQ 20.21875 -1.421875 15.453125 -0.5625 \r\nQ 10.6875 0.296875 5.421875 2 \r\nL 5.421875 11.28125 \r\nQ 10.40625 8.6875 15.234375 7.390625 \r\nQ 20.0625 6.109375 24.8125 6.109375 \r\nQ 31.15625 6.109375 34.5625 8.28125 \r\nQ 37.984375 10.453125 37.984375 14.40625 \r\nQ 37.984375 18.0625 35.515625 20.015625 \r\nQ 33.0625 21.96875 24.703125 23.78125 \r\nL 21.578125 24.515625 \r\nQ 13.234375 26.265625 9.515625 29.90625 \r\nQ 5.8125 33.546875 5.8125 39.890625 \r\nQ 5.8125 47.609375 11.28125 51.796875 \r\nQ 16.75 56 26.8125 56 \r\nQ 31.78125 56 36.171875 55.265625 \r\nQ 40.578125 54.546875 44.28125 53.078125 \r\nz\r\n\" id=\"DejaVuSans-115\"/>\r\n      <path d=\"M 48.78125 52.59375 \r\nL 48.78125 44.1875 \r\nQ 44.96875 46.296875 41.140625 47.34375 \r\nQ 37.3125 48.390625 33.40625 48.390625 \r\nQ 24.65625 48.390625 19.8125 42.84375 \r\nQ 14.984375 37.3125 14.984375 27.296875 \r\nQ 14.984375 17.28125 19.8125 11.734375 \r\nQ 24.65625 6.203125 33.40625 6.203125 \r\nQ 37.3125 6.203125 41.140625 7.25 \r\nQ 44.96875 8.296875 48.78125 10.40625 \r\nL 48.78125 2.09375 \r\nQ 45.015625 0.34375 40.984375 -0.53125 \r\nQ 36.96875 -1.421875 32.421875 -1.421875 \r\nQ 20.0625 -1.421875 12.78125 6.34375 \r\nQ 5.515625 14.109375 5.515625 27.296875 \r\nQ 5.515625 40.671875 12.859375 48.328125 \r\nQ 20.21875 56 33.015625 56 \r\nQ 37.15625 56 41.109375 55.140625 \r\nQ 45.0625 54.296875 48.78125 52.59375 \r\nz\r\n\" id=\"DejaVuSans-99\"/>\r\n     </defs>\r\n     <g transform=\"translate(455.843438 46.738594)scale(0.1 -0.1)\">\r\n      <use xlink:href=\"#DejaVuSans-100\"/>\r\n      <use x=\"63.476562\" xlink:href=\"#DejaVuSans-105\"/>\r\n      <use x=\"91.259766\" xlink:href=\"#DejaVuSans-115\"/>\r\n      <use x=\"143.359375\" xlink:href=\"#DejaVuSans-99\"/>\r\n     </g>\r\n    </g>\r\n    <g id=\"patch_4\">\r\n     <path d=\"M 495.677813 46.738594 \r\nL 515.677813 46.738594 \r\nL 515.677813 39.738594 \r\nL 495.677813 39.738594 \r\nz\r\n\" style=\"fill:#7b68ee;stroke:#7b68ee;stroke-linejoin:miter;\"/>\r\n    </g>\r\n    <g id=\"text_2\">\r\n     <!-- cont -->\r\n     <defs>\r\n      <path d=\"M 30.609375 48.390625 \r\nQ 23.390625 48.390625 19.1875 42.75 \r\nQ 14.984375 37.109375 14.984375 27.296875 \r\nQ 14.984375 17.484375 19.15625 11.84375 \r\nQ 23.34375 6.203125 30.609375 6.203125 \r\nQ 37.796875 6.203125 41.984375 11.859375 \r\nQ 46.1875 17.53125 46.1875 27.296875 \r\nQ 46.1875 37.015625 41.984375 42.703125 \r\nQ 37.796875 48.390625 30.609375 48.390625 \r\nz\r\nM 30.609375 56 \r\nQ 42.328125 56 49.015625 48.375 \r\nQ 55.71875 40.765625 55.71875 27.296875 \r\nQ 55.71875 13.875 49.015625 6.21875 \r\nQ 42.328125 -1.421875 30.609375 -1.421875 \r\nQ 18.84375 -1.421875 12.171875 6.21875 \r\nQ 5.515625 13.875 5.515625 27.296875 \r\nQ 5.515625 40.765625 12.171875 48.375 \r\nQ 18.84375 56 30.609375 56 \r\nz\r\n\" id=\"DejaVuSans-111\"/>\r\n      <path d=\"M 54.890625 33.015625 \r\nL 54.890625 0 \r\nL 45.90625 0 \r\nL 45.90625 32.71875 \r\nQ 45.90625 40.484375 42.875 44.328125 \r\nQ 39.84375 48.1875 33.796875 48.1875 \r\nQ 26.515625 48.1875 22.3125 43.546875 \r\nQ 18.109375 38.921875 18.109375 30.90625 \r\nL 18.109375 0 \r\nL 9.078125 0 \r\nL 9.078125 54.6875 \r\nL 18.109375 54.6875 \r\nL 18.109375 46.1875 \r\nQ 21.34375 51.125 25.703125 53.5625 \r\nQ 30.078125 56 35.796875 56 \r\nQ 45.21875 56 50.046875 50.171875 \r\nQ 54.890625 44.34375 54.890625 33.015625 \r\nz\r\n\" id=\"DejaVuSans-110\"/>\r\n      <path d=\"M 18.3125 70.21875 \r\nL 18.3125 54.6875 \r\nL 36.8125 54.6875 \r\nL 36.8125 47.703125 \r\nL 18.3125 47.703125 \r\nL 18.3125 18.015625 \r\nQ 18.3125 11.328125 20.140625 9.421875 \r\nQ 21.96875 7.515625 27.59375 7.515625 \r\nL 36.8125 7.515625 \r\nL 36.8125 0 \r\nL 27.59375 0 \r\nQ 17.1875 0 13.234375 3.875 \r\nQ 9.28125 7.765625 9.28125 18.015625 \r\nL 9.28125 47.703125 \r\nL 2.6875 47.703125 \r\nL 2.6875 54.6875 \r\nL 9.28125 54.6875 \r\nL 9.28125 70.21875 \r\nz\r\n\" id=\"DejaVuSans-116\"/>\r\n     </defs>\r\n     <g transform=\"translate(523.677813 46.738594)scale(0.1 -0.1)\">\r\n      <use xlink:href=\"#DejaVuSans-99\"/>\r\n      <use x=\"54.980469\" xlink:href=\"#DejaVuSans-111\"/>\r\n      <use x=\"116.162109\" xlink:href=\"#DejaVuSans-110\"/>\r\n      <use x=\"179.541016\" xlink:href=\"#DejaVuSans-116\"/>\r\n     </g>\r\n    </g>\r\n   </g>\r\n  </g>\r\n </g>\r\n</svg>\r\n",
      "image/png": "[encoded data removed]"
     },
     "metadata": {
      "needs_background": "light"
     }
    },
    {
     "output_type": "execute_result",
     "data": {
      "text/plain": [
       "<IPython.lib.display.IFrame at 0xae0f015748>"
      ],
      "text/html": "\n        <iframe\n            width=\"100%\"\n            height=\"800px\"\n            src=\"visualization_result/Full_net.html\"\n            frameborder=\"0\"\n            allowfullscreen\n        ></iframe>\n        "
     },
     "metadata": {},
     "execution_count": 18
    }
   ],
   "source": [
    "visualizer(bn, node_type, 'Full_net')"
   ]
  },
  {
   "cell_type": "code",
   "execution_count": 19,
   "metadata": {},
   "outputs": [],
   "source": [
    "data_filter = data.loc[(data['age']>=50)&(data['age']<=70)& (data['sex']==1)]"
   ]
  },
  {
   "cell_type": "code",
   "execution_count": 20,
   "metadata": {},
   "outputs": [
    {
     "output_type": "execute_result",
     "data": {
      "text/plain": [
       "(4581, 25)"
      ]
     },
     "metadata": {},
     "execution_count": 20
    }
   ],
   "source": [
    "data_filter.reset_index(inplace=True, drop=True)\n",
    "data_filter.shape"
   ]
  },
  {
   "cell_type": "code",
   "execution_count": 21,
   "metadata": {},
   "outputs": [],
   "source": [
    "sample = pd.DataFrame()"
   ]
  },
  {
   "cell_type": "code",
   "execution_count": 22,
   "metadata": {},
   "outputs": [],
   "source": [
    "for i in range (1000):\n",
    "    age = np.random.randint(50,71,1)[0]\n",
    "    evidence = {'age':str(age), 'sex':'1'}\n",
    "    batch = pd.DataFrame(full.randomsample(5,evidence))\n",
    "    sample = pd.concat([sample,batch])\n",
    "\n"
   ]
  },
  {
   "cell_type": "code",
   "execution_count": 23,
   "metadata": {},
   "outputs": [
    {
     "output_type": "display_data",
     "data": {
      "text/plain": "<Figure size 432x288 with 1 Axes>",
      "image/svg+xml": "<?xml version=\"1.0\" encoding=\"utf-8\" standalone=\"no\"?>\r\n<!DOCTYPE svg PUBLIC \"-//W3C//DTD SVG 1.1//EN\"\r\n  \"http://www.w3.org/Graphics/SVG/1.1/DTD/svg11.dtd\">\r\n<!-- Created with matplotlib (https://matplotlib.org/) -->\r\n<svg height=\"369.444687pt\" version=\"1.1\" viewBox=\"0 0 395.64375 369.444687\" width=\"395.64375pt\" xmlns=\"http://www.w3.org/2000/svg\" xmlns:xlink=\"http://www.w3.org/1999/xlink\">\r\n <defs>\r\n  <style type=\"text/css\">\r\n*{stroke-linecap:butt;stroke-linejoin:round;}\r\n  </style>\r\n </defs>\r\n <g id=\"figure_1\">\r\n  <g id=\"patch_1\">\r\n   <path d=\"M 0 369.444687 \r\nL 395.64375 369.444687 \r\nL 395.64375 0 \r\nL 0 0 \r\nz\r\n\" style=\"fill:none;\"/>\r\n  </g>\r\n  <g id=\"axes_1\">\r\n   <g id=\"patch_2\">\r\n    <path d=\"M 50.14375 228.14 \r\nL 384.94375 228.14 \r\nL 384.94375 10.7 \r\nL 50.14375 10.7 \r\nz\r\n\" style=\"fill:#ffffff;\"/>\r\n   </g>\r\n   <g id=\"patch_3\">\r\n    <path clip-path=\"url(#p463c89005c)\" d=\"M 65.361932 228.14 \r\nL 78.595133 228.14 \r\nL 78.595133 183.123457 \r\nL 65.361932 183.123457 \r\nz\r\n\" style=\"fill:#1f77b4;\"/>\r\n   </g>\r\n   <g id=\"patch_4\">\r\n    <path clip-path=\"url(#p463c89005c)\" d=\"M 105.061537 228.14 \r\nL 118.294738 228.14 \r\nL 118.294738 29.072512 \r\nL 105.061537 29.072512 \r\nz\r\n\" style=\"fill:#1f77b4;\"/>\r\n   </g>\r\n   <g id=\"patch_5\">\r\n    <path clip-path=\"url(#p463c89005c)\" d=\"M 144.761141 228.14 \r\nL 157.994343 228.14 \r\nL 157.994343 102.017165 \r\nL 144.761141 102.017165 \r\nz\r\n\" style=\"fill:#1f77b4;\"/>\r\n   </g>\r\n   <g id=\"patch_6\">\r\n    <path clip-path=\"url(#p463c89005c)\" d=\"M 184.460746 228.14 \r\nL 197.693948 228.14 \r\nL 197.693948 119.105597 \r\nL 184.460746 119.105597 \r\nz\r\n\" style=\"fill:#1f77b4;\"/>\r\n   </g>\r\n   <g id=\"patch_7\">\r\n    <path clip-path=\"url(#p463c89005c)\" d=\"M 224.160351 228.14 \r\nL 237.393552 228.14 \r\nL 237.393552 214.877336 \r\nL 224.160351 214.877336 \r\nz\r\n\" style=\"fill:#1f77b4;\"/>\r\n   </g>\r\n   <g id=\"patch_8\">\r\n    <path clip-path=\"url(#p463c89005c)\" d=\"M 263.859956 228.14 \r\nL 277.093157 228.14 \r\nL 277.093157 166.545127 \r\nL 263.859956 166.545127 \r\nz\r\n\" style=\"fill:#1f77b4;\"/>\r\n   </g>\r\n   <g id=\"patch_9\">\r\n    <path clip-path=\"url(#p463c89005c)\" d=\"M 303.55956 228.14 \r\nL 316.792762 228.14 \r\nL 316.792762 210.031362 \r\nL 303.55956 210.031362 \r\nz\r\n\" style=\"fill:#1f77b4;\"/>\r\n   </g>\r\n   <g id=\"patch_10\">\r\n    <path clip-path=\"url(#p463c89005c)\" d=\"M 343.259165 228.14 \r\nL 356.492367 228.14 \r\nL 356.492367 216.152592 \r\nL 343.259165 216.152592 \r\nz\r\n\" style=\"fill:#1f77b4;\"/>\r\n   </g>\r\n   <g id=\"patch_11\">\r\n    <path clip-path=\"url(#p463c89005c)\" d=\"M 78.595133 228.14 \r\nL 91.828335 228.14 \r\nL 91.828335 139.692899 \r\nL 78.595133 139.692899 \r\nz\r\n\" style=\"fill:#ff7f0e;\"/>\r\n   </g>\r\n   <g id=\"patch_12\">\r\n    <path clip-path=\"url(#p463c89005c)\" d=\"M 118.294738 228.14 \r\nL 131.52794 228.14 \r\nL 131.52794 49.726892 \r\nL 118.294738 49.726892 \r\nz\r\n\" style=\"fill:#ff7f0e;\"/>\r\n   </g>\r\n   <g id=\"patch_13\">\r\n    <path clip-path=\"url(#p463c89005c)\" d=\"M 157.994343 228.14 \r\nL 171.227544 228.14 \r\nL 171.227544 143.548585 \r\nL 157.994343 143.548585 \r\nz\r\n\" style=\"fill:#ff7f0e;\"/>\r\n   </g>\r\n   <g id=\"patch_14\">\r\n    <path clip-path=\"url(#p463c89005c)\" d=\"M 197.693948 228.14 \r\nL 210.927149 228.14 \r\nL 210.927149 126.02274 \r\nL 197.693948 126.02274 \r\nz\r\n\" style=\"fill:#ff7f0e;\"/>\r\n   </g>\r\n   <g id=\"patch_15\">\r\n    <path clip-path=\"url(#p463c89005c)\" d=\"M 237.393552 228.14 \r\nL 250.626754 228.14 \r\nL 250.626754 204.655367 \r\nL 237.393552 204.655367 \r\nz\r\n\" style=\"fill:#ff7f0e;\"/>\r\n   </g>\r\n   <g id=\"patch_16\">\r\n    <path clip-path=\"url(#p463c89005c)\" d=\"M 277.093157 228.14 \r\nL 290.326359 228.14 \r\nL 290.326359 158.737652 \r\nL 277.093157 158.737652 \r\nz\r\n\" style=\"fill:#ff7f0e;\"/>\r\n   </g>\r\n   <g id=\"patch_17\">\r\n    <path clip-path=\"url(#p463c89005c)\" d=\"M 316.792762 228.14 \r\nL 330.025963 228.14 \r\nL 330.025963 199.514452 \r\nL 316.792762 199.514452 \r\nz\r\n\" style=\"fill:#ff7f0e;\"/>\r\n   </g>\r\n   <g id=\"patch_18\">\r\n    <path clip-path=\"url(#p463c89005c)\" d=\"M 356.492367 228.14 \r\nL 369.725568 228.14 \r\nL 369.725568 219.02656 \r\nL 356.492367 219.02656 \r\nz\r\n\" style=\"fill:#ff7f0e;\"/>\r\n   </g>\r\n   <g id=\"matplotlib.axis_1\">\r\n    <g id=\"xtick_1\">\r\n     <g id=\"line2d_1\">\r\n      <defs>\r\n       <path d=\"M 0 0 \r\nL 0 3.5 \r\n\" id=\"m81bf0ee019\" style=\"stroke:#000000;stroke-width:0.8;\"/>\r\n      </defs>\r\n      <g>\r\n       <use style=\"stroke:#000000;stroke-width:0.8;\" x=\"78.595133\" xlink:href=\"#m81bf0ee019\" y=\"228.14\"/>\r\n      </g>\r\n     </g>\r\n     <g id=\"text_1\">\r\n      <!-- History &amp; politics -->\r\n      <defs>\r\n       <path d=\"M 9.8125 72.90625 \r\nL 19.671875 72.90625 \r\nL 19.671875 43.015625 \r\nL 55.515625 43.015625 \r\nL 55.515625 72.90625 \r\nL 65.375 72.90625 \r\nL 65.375 0 \r\nL 55.515625 0 \r\nL 55.515625 34.71875 \r\nL 19.671875 34.71875 \r\nL 19.671875 0 \r\nL 9.8125 0 \r\nz\r\n\" id=\"DejaVuSans-72\"/>\r\n       <path d=\"M 9.421875 54.6875 \r\nL 18.40625 54.6875 \r\nL 18.40625 0 \r\nL 9.421875 0 \r\nz\r\nM 9.421875 75.984375 \r\nL 18.40625 75.984375 \r\nL 18.40625 64.59375 \r\nL 9.421875 64.59375 \r\nz\r\n\" id=\"DejaVuSans-105\"/>\r\n       <path d=\"M 44.28125 53.078125 \r\nL 44.28125 44.578125 \r\nQ 40.484375 46.53125 36.375 47.5 \r\nQ 32.28125 48.484375 27.875 48.484375 \r\nQ 21.1875 48.484375 17.84375 46.4375 \r\nQ 14.5 44.390625 14.5 40.28125 \r\nQ 14.5 37.15625 16.890625 35.375 \r\nQ 19.28125 33.59375 26.515625 31.984375 \r\nL 29.59375 31.296875 \r\nQ 39.15625 29.25 43.1875 25.515625 \r\nQ 47.21875 21.78125 47.21875 15.09375 \r\nQ 47.21875 7.46875 41.1875 3.015625 \r\nQ 35.15625 -1.421875 24.609375 -1.421875 \r\nQ 20.21875 -1.421875 15.453125 -0.5625 \r\nQ 10.6875 0.296875 5.421875 2 \r\nL 5.421875 11.28125 \r\nQ 10.40625 8.6875 15.234375 7.390625 \r\nQ 20.0625 6.109375 24.8125 6.109375 \r\nQ 31.15625 6.109375 34.5625 8.28125 \r\nQ 37.984375 10.453125 37.984375 14.40625 \r\nQ 37.984375 18.0625 35.515625 20.015625 \r\nQ 33.0625 21.96875 24.703125 23.78125 \r\nL 21.578125 24.515625 \r\nQ 13.234375 26.265625 9.515625 29.90625 \r\nQ 5.8125 33.546875 5.8125 39.890625 \r\nQ 5.8125 47.609375 11.28125 51.796875 \r\nQ 16.75 56 26.8125 56 \r\nQ 31.78125 56 36.171875 55.265625 \r\nQ 40.578125 54.546875 44.28125 53.078125 \r\nz\r\n\" id=\"DejaVuSans-115\"/>\r\n       <path d=\"M 18.3125 70.21875 \r\nL 18.3125 54.6875 \r\nL 36.8125 54.6875 \r\nL 36.8125 47.703125 \r\nL 18.3125 47.703125 \r\nL 18.3125 18.015625 \r\nQ 18.3125 11.328125 20.140625 9.421875 \r\nQ 21.96875 7.515625 27.59375 7.515625 \r\nL 36.8125 7.515625 \r\nL 36.8125 0 \r\nL 27.59375 0 \r\nQ 17.1875 0 13.234375 3.875 \r\nQ 9.28125 7.765625 9.28125 18.015625 \r\nL 9.28125 47.703125 \r\nL 2.6875 47.703125 \r\nL 2.6875 54.6875 \r\nL 9.28125 54.6875 \r\nL 9.28125 70.21875 \r\nz\r\n\" id=\"DejaVuSans-116\"/>\r\n       <path d=\"M 30.609375 48.390625 \r\nQ 23.390625 48.390625 19.1875 42.75 \r\nQ 14.984375 37.109375 14.984375 27.296875 \r\nQ 14.984375 17.484375 19.15625 11.84375 \r\nQ 23.34375 6.203125 30.609375 6.203125 \r\nQ 37.796875 6.203125 41.984375 11.859375 \r\nQ 46.1875 17.53125 46.1875 27.296875 \r\nQ 46.1875 37.015625 41.984375 42.703125 \r\nQ 37.796875 48.390625 30.609375 48.390625 \r\nz\r\nM 30.609375 56 \r\nQ 42.328125 56 49.015625 48.375 \r\nQ 55.71875 40.765625 55.71875 27.296875 \r\nQ 55.71875 13.875 49.015625 6.21875 \r\nQ 42.328125 -1.421875 30.609375 -1.421875 \r\nQ 18.84375 -1.421875 12.171875 6.21875 \r\nQ 5.515625 13.875 5.515625 27.296875 \r\nQ 5.515625 40.765625 12.171875 48.375 \r\nQ 18.84375 56 30.609375 56 \r\nz\r\n\" id=\"DejaVuSans-111\"/>\r\n       <path d=\"M 41.109375 46.296875 \r\nQ 39.59375 47.171875 37.8125 47.578125 \r\nQ 36.03125 48 33.890625 48 \r\nQ 26.265625 48 22.1875 43.046875 \r\nQ 18.109375 38.09375 18.109375 28.8125 \r\nL 18.109375 0 \r\nL 9.078125 0 \r\nL 9.078125 54.6875 \r\nL 18.109375 54.6875 \r\nL 18.109375 46.1875 \r\nQ 20.953125 51.171875 25.484375 53.578125 \r\nQ 30.03125 56 36.53125 56 \r\nQ 37.453125 56 38.578125 55.875 \r\nQ 39.703125 55.765625 41.0625 55.515625 \r\nz\r\n\" id=\"DejaVuSans-114\"/>\r\n       <path d=\"M 32.171875 -5.078125 \r\nQ 28.375 -14.84375 24.75 -17.8125 \r\nQ 21.140625 -20.796875 15.09375 -20.796875 \r\nL 7.90625 -20.796875 \r\nL 7.90625 -13.28125 \r\nL 13.1875 -13.28125 \r\nQ 16.890625 -13.28125 18.9375 -11.515625 \r\nQ 21 -9.765625 23.484375 -3.21875 \r\nL 25.09375 0.875 \r\nL 2.984375 54.6875 \r\nL 12.5 54.6875 \r\nL 29.59375 11.921875 \r\nL 46.6875 54.6875 \r\nL 56.203125 54.6875 \r\nz\r\n\" id=\"DejaVuSans-121\"/>\r\n       <path id=\"DejaVuSans-32\"/>\r\n       <path d=\"M 24.3125 39.203125 \r\nQ 19.875 35.25 17.796875 31.3125 \r\nQ 15.71875 27.390625 15.71875 23.09375 \r\nQ 15.71875 15.96875 20.890625 11.234375 \r\nQ 26.078125 6.5 33.890625 6.5 \r\nQ 38.53125 6.5 42.578125 8.03125 \r\nQ 46.625 9.578125 50.203125 12.703125 \r\nz\r\nM 31.203125 44.671875 \r\nL 56 19.28125 \r\nQ 58.890625 23.640625 60.5 28.59375 \r\nQ 62.109375 33.546875 62.40625 39.109375 \r\nL 71.484375 39.109375 \r\nQ 70.90625 32.671875 68.359375 26.359375 \r\nQ 65.828125 20.0625 61.28125 13.921875 \r\nL 74.90625 0 \r\nL 62.59375 0 \r\nL 55.609375 7.171875 \r\nQ 50.53125 2.828125 44.96875 0.703125 \r\nQ 39.40625 -1.421875 33.015625 -1.421875 \r\nQ 21.234375 -1.421875 13.765625 5.296875 \r\nQ 6.296875 12.015625 6.296875 22.515625 \r\nQ 6.296875 28.765625 9.5625 34.25 \r\nQ 12.84375 39.75 19.390625 44.578125 \r\nQ 17.046875 47.65625 15.8125 50.703125 \r\nQ 14.59375 53.765625 14.59375 56.6875 \r\nQ 14.59375 64.59375 20.015625 69.40625 \r\nQ 25.4375 74.21875 34.421875 74.21875 \r\nQ 38.484375 74.21875 42.5 73.34375 \r\nQ 46.53125 72.46875 50.6875 70.703125 \r\nL 50.6875 61.8125 \r\nQ 46.4375 64.109375 42.578125 65.296875 \r\nQ 38.71875 66.5 35.40625 66.5 \r\nQ 30.28125 66.5 27.078125 63.78125 \r\nQ 23.875 61.078125 23.875 56.78125 \r\nQ 23.875 54.296875 25.3125 51.78125 \r\nQ 26.765625 49.265625 31.203125 44.671875 \r\nz\r\n\" id=\"DejaVuSans-38\"/>\r\n       <path d=\"M 18.109375 8.203125 \r\nL 18.109375 -20.796875 \r\nL 9.078125 -20.796875 \r\nL 9.078125 54.6875 \r\nL 18.109375 54.6875 \r\nL 18.109375 46.390625 \r\nQ 20.953125 51.265625 25.265625 53.625 \r\nQ 29.59375 56 35.59375 56 \r\nQ 45.5625 56 51.78125 48.09375 \r\nQ 58.015625 40.1875 58.015625 27.296875 \r\nQ 58.015625 14.40625 51.78125 6.484375 \r\nQ 45.5625 -1.421875 35.59375 -1.421875 \r\nQ 29.59375 -1.421875 25.265625 0.953125 \r\nQ 20.953125 3.328125 18.109375 8.203125 \r\nz\r\nM 48.6875 27.296875 \r\nQ 48.6875 37.203125 44.609375 42.84375 \r\nQ 40.53125 48.484375 33.40625 48.484375 \r\nQ 26.265625 48.484375 22.1875 42.84375 \r\nQ 18.109375 37.203125 18.109375 27.296875 \r\nQ 18.109375 17.390625 22.1875 11.75 \r\nQ 26.265625 6.109375 33.40625 6.109375 \r\nQ 40.53125 6.109375 44.609375 11.75 \r\nQ 48.6875 17.390625 48.6875 27.296875 \r\nz\r\n\" id=\"DejaVuSans-112\"/>\r\n       <path d=\"M 9.421875 75.984375 \r\nL 18.40625 75.984375 \r\nL 18.40625 0 \r\nL 9.421875 0 \r\nz\r\n\" id=\"DejaVuSans-108\"/>\r\n       <path d=\"M 48.78125 52.59375 \r\nL 48.78125 44.1875 \r\nQ 44.96875 46.296875 41.140625 47.34375 \r\nQ 37.3125 48.390625 33.40625 48.390625 \r\nQ 24.65625 48.390625 19.8125 42.84375 \r\nQ 14.984375 37.3125 14.984375 27.296875 \r\nQ 14.984375 17.28125 19.8125 11.734375 \r\nQ 24.65625 6.203125 33.40625 6.203125 \r\nQ 37.3125 6.203125 41.140625 7.25 \r\nQ 44.96875 8.296875 48.78125 10.40625 \r\nL 48.78125 2.09375 \r\nQ 45.015625 0.34375 40.984375 -0.53125 \r\nQ 36.96875 -1.421875 32.421875 -1.421875 \r\nQ 20.0625 -1.421875 12.78125 6.34375 \r\nQ 5.515625 14.109375 5.515625 27.296875 \r\nQ 5.515625 40.671875 12.859375 48.328125 \r\nQ 20.21875 56 33.015625 56 \r\nQ 37.15625 56 41.109375 55.140625 \r\nQ 45.0625 54.296875 48.78125 52.59375 \r\nz\r\n\" id=\"DejaVuSans-99\"/>\r\n      </defs>\r\n      <g transform=\"translate(81.354508 320.300937)rotate(-90)scale(0.1 -0.1)\">\r\n       <use xlink:href=\"#DejaVuSans-72\"/>\r\n       <use x=\"75.195312\" xlink:href=\"#DejaVuSans-105\"/>\r\n       <use x=\"102.978516\" xlink:href=\"#DejaVuSans-115\"/>\r\n       <use x=\"155.078125\" xlink:href=\"#DejaVuSans-116\"/>\r\n       <use x=\"194.287109\" xlink:href=\"#DejaVuSans-111\"/>\r\n       <use x=\"255.46875\" xlink:href=\"#DejaVuSans-114\"/>\r\n       <use x=\"296.582031\" xlink:href=\"#DejaVuSans-121\"/>\r\n       <use x=\"355.761719\" xlink:href=\"#DejaVuSans-32\"/>\r\n       <use x=\"387.548828\" xlink:href=\"#DejaVuSans-38\"/>\r\n       <use x=\"465.527344\" xlink:href=\"#DejaVuSans-32\"/>\r\n       <use x=\"497.314453\" xlink:href=\"#DejaVuSans-112\"/>\r\n       <use x=\"560.791016\" xlink:href=\"#DejaVuSans-111\"/>\r\n       <use x=\"621.972656\" xlink:href=\"#DejaVuSans-108\"/>\r\n       <use x=\"649.755859\" xlink:href=\"#DejaVuSans-105\"/>\r\n       <use x=\"677.539062\" xlink:href=\"#DejaVuSans-116\"/>\r\n       <use x=\"716.748047\" xlink:href=\"#DejaVuSans-105\"/>\r\n       <use x=\"744.53125\" xlink:href=\"#DejaVuSans-99\"/>\r\n       <use x=\"799.511719\" xlink:href=\"#DejaVuSans-115\"/>\r\n      </g>\r\n     </g>\r\n    </g>\r\n    <g id=\"xtick_2\">\r\n     <g id=\"line2d_2\">\r\n      <g>\r\n       <use style=\"stroke:#000000;stroke-width:0.8;\" x=\"118.294738\" xlink:href=\"#m81bf0ee019\" y=\"228.14\"/>\r\n      </g>\r\n     </g>\r\n     <g id=\"text_2\">\r\n      <!-- Gifts &amp; holidays -->\r\n      <defs>\r\n       <path d=\"M 59.515625 10.40625 \r\nL 59.515625 29.984375 \r\nL 43.40625 29.984375 \r\nL 43.40625 38.09375 \r\nL 69.28125 38.09375 \r\nL 69.28125 6.78125 \r\nQ 63.578125 2.734375 56.6875 0.65625 \r\nQ 49.8125 -1.421875 42 -1.421875 \r\nQ 24.90625 -1.421875 15.25 8.5625 \r\nQ 5.609375 18.5625 5.609375 36.375 \r\nQ 5.609375 54.25 15.25 64.234375 \r\nQ 24.90625 74.21875 42 74.21875 \r\nQ 49.125 74.21875 55.546875 72.453125 \r\nQ 61.96875 70.703125 67.390625 67.28125 \r\nL 67.390625 56.78125 \r\nQ 61.921875 61.421875 55.765625 63.765625 \r\nQ 49.609375 66.109375 42.828125 66.109375 \r\nQ 29.4375 66.109375 22.71875 58.640625 \r\nQ 16.015625 51.171875 16.015625 36.375 \r\nQ 16.015625 21.625 22.71875 14.15625 \r\nQ 29.4375 6.6875 42.828125 6.6875 \r\nQ 48.046875 6.6875 52.140625 7.59375 \r\nQ 56.25 8.5 59.515625 10.40625 \r\nz\r\n\" id=\"DejaVuSans-71\"/>\r\n       <path d=\"M 37.109375 75.984375 \r\nL 37.109375 68.5 \r\nL 28.515625 68.5 \r\nQ 23.6875 68.5 21.796875 66.546875 \r\nQ 19.921875 64.59375 19.921875 59.515625 \r\nL 19.921875 54.6875 \r\nL 34.71875 54.6875 \r\nL 34.71875 47.703125 \r\nL 19.921875 47.703125 \r\nL 19.921875 0 \r\nL 10.890625 0 \r\nL 10.890625 47.703125 \r\nL 2.296875 47.703125 \r\nL 2.296875 54.6875 \r\nL 10.890625 54.6875 \r\nL 10.890625 58.5 \r\nQ 10.890625 67.625 15.140625 71.796875 \r\nQ 19.390625 75.984375 28.609375 75.984375 \r\nz\r\n\" id=\"DejaVuSans-102\"/>\r\n       <path d=\"M 54.890625 33.015625 \r\nL 54.890625 0 \r\nL 45.90625 0 \r\nL 45.90625 32.71875 \r\nQ 45.90625 40.484375 42.875 44.328125 \r\nQ 39.84375 48.1875 33.796875 48.1875 \r\nQ 26.515625 48.1875 22.3125 43.546875 \r\nQ 18.109375 38.921875 18.109375 30.90625 \r\nL 18.109375 0 \r\nL 9.078125 0 \r\nL 9.078125 75.984375 \r\nL 18.109375 75.984375 \r\nL 18.109375 46.1875 \r\nQ 21.34375 51.125 25.703125 53.5625 \r\nQ 30.078125 56 35.796875 56 \r\nQ 45.21875 56 50.046875 50.171875 \r\nQ 54.890625 44.34375 54.890625 33.015625 \r\nz\r\n\" id=\"DejaVuSans-104\"/>\r\n       <path d=\"M 45.40625 46.390625 \r\nL 45.40625 75.984375 \r\nL 54.390625 75.984375 \r\nL 54.390625 0 \r\nL 45.40625 0 \r\nL 45.40625 8.203125 \r\nQ 42.578125 3.328125 38.25 0.953125 \r\nQ 33.9375 -1.421875 27.875 -1.421875 \r\nQ 17.96875 -1.421875 11.734375 6.484375 \r\nQ 5.515625 14.40625 5.515625 27.296875 \r\nQ 5.515625 40.1875 11.734375 48.09375 \r\nQ 17.96875 56 27.875 56 \r\nQ 33.9375 56 38.25 53.625 \r\nQ 42.578125 51.265625 45.40625 46.390625 \r\nz\r\nM 14.796875 27.296875 \r\nQ 14.796875 17.390625 18.875 11.75 \r\nQ 22.953125 6.109375 30.078125 6.109375 \r\nQ 37.203125 6.109375 41.296875 11.75 \r\nQ 45.40625 17.390625 45.40625 27.296875 \r\nQ 45.40625 37.203125 41.296875 42.84375 \r\nQ 37.203125 48.484375 30.078125 48.484375 \r\nQ 22.953125 48.484375 18.875 42.84375 \r\nQ 14.796875 37.203125 14.796875 27.296875 \r\nz\r\n\" id=\"DejaVuSans-100\"/>\r\n       <path d=\"M 34.28125 27.484375 \r\nQ 23.390625 27.484375 19.1875 25 \r\nQ 14.984375 22.515625 14.984375 16.5 \r\nQ 14.984375 11.71875 18.140625 8.90625 \r\nQ 21.296875 6.109375 26.703125 6.109375 \r\nQ 34.1875 6.109375 38.703125 11.40625 \r\nQ 43.21875 16.703125 43.21875 25.484375 \r\nL 43.21875 27.484375 \r\nz\r\nM 52.203125 31.203125 \r\nL 52.203125 0 \r\nL 43.21875 0 \r\nL 43.21875 8.296875 \r\nQ 40.140625 3.328125 35.546875 0.953125 \r\nQ 30.953125 -1.421875 24.3125 -1.421875 \r\nQ 15.921875 -1.421875 10.953125 3.296875 \r\nQ 6 8.015625 6 15.921875 \r\nQ 6 25.140625 12.171875 29.828125 \r\nQ 18.359375 34.515625 30.609375 34.515625 \r\nL 43.21875 34.515625 \r\nL 43.21875 35.40625 \r\nQ 43.21875 41.609375 39.140625 45 \r\nQ 35.0625 48.390625 27.6875 48.390625 \r\nQ 23 48.390625 18.546875 47.265625 \r\nQ 14.109375 46.140625 10.015625 43.890625 \r\nL 10.015625 52.203125 \r\nQ 14.9375 54.109375 19.578125 55.046875 \r\nQ 24.21875 56 28.609375 56 \r\nQ 40.484375 56 46.34375 49.84375 \r\nQ 52.203125 43.703125 52.203125 31.203125 \r\nz\r\n\" id=\"DejaVuSans-97\"/>\r\n      </defs>\r\n      <g transform=\"translate(121.054113 314.086875)rotate(-90)scale(0.1 -0.1)\">\r\n       <use xlink:href=\"#DejaVuSans-71\"/>\r\n       <use x=\"77.490234\" xlink:href=\"#DejaVuSans-105\"/>\r\n       <use x=\"105.273438\" xlink:href=\"#DejaVuSans-102\"/>\r\n       <use x=\"140.462891\" xlink:href=\"#DejaVuSans-116\"/>\r\n       <use x=\"179.671875\" xlink:href=\"#DejaVuSans-115\"/>\r\n       <use x=\"231.771484\" xlink:href=\"#DejaVuSans-32\"/>\r\n       <use x=\"263.558594\" xlink:href=\"#DejaVuSans-38\"/>\r\n       <use x=\"341.537109\" xlink:href=\"#DejaVuSans-32\"/>\r\n       <use x=\"373.324219\" xlink:href=\"#DejaVuSans-104\"/>\r\n       <use x=\"436.703125\" xlink:href=\"#DejaVuSans-111\"/>\r\n       <use x=\"497.884766\" xlink:href=\"#DejaVuSans-108\"/>\r\n       <use x=\"525.667969\" xlink:href=\"#DejaVuSans-105\"/>\r\n       <use x=\"553.451172\" xlink:href=\"#DejaVuSans-100\"/>\r\n       <use x=\"616.927734\" xlink:href=\"#DejaVuSans-97\"/>\r\n       <use x=\"678.207031\" xlink:href=\"#DejaVuSans-121\"/>\r\n       <use x=\"737.386719\" xlink:href=\"#DejaVuSans-115\"/>\r\n      </g>\r\n     </g>\r\n    </g>\r\n    <g id=\"xtick_3\">\r\n     <g id=\"line2d_3\">\r\n      <g>\r\n       <use style=\"stroke:#000000;stroke-width:0.8;\" x=\"157.994343\" xlink:href=\"#m81bf0ee019\" y=\"228.14\"/>\r\n      </g>\r\n     </g>\r\n     <g id=\"text_3\">\r\n      <!-- Cooking -->\r\n      <defs>\r\n       <path d=\"M 64.40625 67.28125 \r\nL 64.40625 56.890625 \r\nQ 59.421875 61.53125 53.78125 63.8125 \r\nQ 48.140625 66.109375 41.796875 66.109375 \r\nQ 29.296875 66.109375 22.65625 58.46875 \r\nQ 16.015625 50.828125 16.015625 36.375 \r\nQ 16.015625 21.96875 22.65625 14.328125 \r\nQ 29.296875 6.6875 41.796875 6.6875 \r\nQ 48.140625 6.6875 53.78125 8.984375 \r\nQ 59.421875 11.28125 64.40625 15.921875 \r\nL 64.40625 5.609375 \r\nQ 59.234375 2.09375 53.4375 0.328125 \r\nQ 47.65625 -1.421875 41.21875 -1.421875 \r\nQ 24.65625 -1.421875 15.125 8.703125 \r\nQ 5.609375 18.84375 5.609375 36.375 \r\nQ 5.609375 53.953125 15.125 64.078125 \r\nQ 24.65625 74.21875 41.21875 74.21875 \r\nQ 47.75 74.21875 53.53125 72.484375 \r\nQ 59.328125 70.75 64.40625 67.28125 \r\nz\r\n\" id=\"DejaVuSans-67\"/>\r\n       <path d=\"M 9.078125 75.984375 \r\nL 18.109375 75.984375 \r\nL 18.109375 31.109375 \r\nL 44.921875 54.6875 \r\nL 56.390625 54.6875 \r\nL 27.390625 29.109375 \r\nL 57.625 0 \r\nL 45.90625 0 \r\nL 18.109375 26.703125 \r\nL 18.109375 0 \r\nL 9.078125 0 \r\nz\r\n\" id=\"DejaVuSans-107\"/>\r\n       <path d=\"M 54.890625 33.015625 \r\nL 54.890625 0 \r\nL 45.90625 0 \r\nL 45.90625 32.71875 \r\nQ 45.90625 40.484375 42.875 44.328125 \r\nQ 39.84375 48.1875 33.796875 48.1875 \r\nQ 26.515625 48.1875 22.3125 43.546875 \r\nQ 18.109375 38.921875 18.109375 30.90625 \r\nL 18.109375 0 \r\nL 9.078125 0 \r\nL 9.078125 54.6875 \r\nL 18.109375 54.6875 \r\nL 18.109375 46.1875 \r\nQ 21.34375 51.125 25.703125 53.5625 \r\nQ 30.078125 56 35.796875 56 \r\nQ 45.21875 56 50.046875 50.171875 \r\nQ 54.890625 44.34375 54.890625 33.015625 \r\nz\r\n\" id=\"DejaVuSans-110\"/>\r\n       <path d=\"M 45.40625 27.984375 \r\nQ 45.40625 37.75 41.375 43.109375 \r\nQ 37.359375 48.484375 30.078125 48.484375 \r\nQ 22.859375 48.484375 18.828125 43.109375 \r\nQ 14.796875 37.75 14.796875 27.984375 \r\nQ 14.796875 18.265625 18.828125 12.890625 \r\nQ 22.859375 7.515625 30.078125 7.515625 \r\nQ 37.359375 7.515625 41.375 12.890625 \r\nQ 45.40625 18.265625 45.40625 27.984375 \r\nz\r\nM 54.390625 6.78125 \r\nQ 54.390625 -7.171875 48.1875 -13.984375 \r\nQ 42 -20.796875 29.203125 -20.796875 \r\nQ 24.46875 -20.796875 20.265625 -20.09375 \r\nQ 16.0625 -19.390625 12.109375 -17.921875 \r\nL 12.109375 -9.1875 \r\nQ 16.0625 -11.328125 19.921875 -12.34375 \r\nQ 23.78125 -13.375 27.78125 -13.375 \r\nQ 36.625 -13.375 41.015625 -8.765625 \r\nQ 45.40625 -4.15625 45.40625 5.171875 \r\nL 45.40625 9.625 \r\nQ 42.625 4.78125 38.28125 2.390625 \r\nQ 33.9375 0 27.875 0 \r\nQ 17.828125 0 11.671875 7.65625 \r\nQ 5.515625 15.328125 5.515625 27.984375 \r\nQ 5.515625 40.671875 11.671875 48.328125 \r\nQ 17.828125 56 27.875 56 \r\nQ 33.9375 56 38.28125 53.609375 \r\nQ 42.625 51.21875 45.40625 46.390625 \r\nL 45.40625 54.6875 \r\nL 54.390625 54.6875 \r\nz\r\n\" id=\"DejaVuSans-103\"/>\r\n      </defs>\r\n      <g transform=\"translate(160.753718 275.615)rotate(-90)scale(0.1 -0.1)\">\r\n       <use xlink:href=\"#DejaVuSans-67\"/>\r\n       <use x=\"69.824219\" xlink:href=\"#DejaVuSans-111\"/>\r\n       <use x=\"131.005859\" xlink:href=\"#DejaVuSans-111\"/>\r\n       <use x=\"192.1875\" xlink:href=\"#DejaVuSans-107\"/>\r\n       <use x=\"250.097656\" xlink:href=\"#DejaVuSans-105\"/>\r\n       <use x=\"277.880859\" xlink:href=\"#DejaVuSans-110\"/>\r\n       <use x=\"341.259766\" xlink:href=\"#DejaVuSans-103\"/>\r\n      </g>\r\n     </g>\r\n    </g>\r\n    <g id=\"xtick_4\">\r\n     <g id=\"line2d_4\">\r\n      <g>\r\n       <use style=\"stroke:#000000;stroke-width:0.8;\" x=\"197.693948\" xlink:href=\"#m81bf0ee019\" y=\"228.14\"/>\r\n      </g>\r\n     </g>\r\n     <g id=\"text_4\">\r\n      <!-- Love &amp; relation -->\r\n      <defs>\r\n       <path d=\"M 9.8125 72.90625 \r\nL 19.671875 72.90625 \r\nL 19.671875 8.296875 \r\nL 55.171875 8.296875 \r\nL 55.171875 0 \r\nL 9.8125 0 \r\nz\r\n\" id=\"DejaVuSans-76\"/>\r\n       <path d=\"M 2.984375 54.6875 \r\nL 12.5 54.6875 \r\nL 29.59375 8.796875 \r\nL 46.6875 54.6875 \r\nL 56.203125 54.6875 \r\nL 35.6875 0 \r\nL 23.484375 0 \r\nz\r\n\" id=\"DejaVuSans-118\"/>\r\n       <path d=\"M 56.203125 29.59375 \r\nL 56.203125 25.203125 \r\nL 14.890625 25.203125 \r\nQ 15.484375 15.921875 20.484375 11.0625 \r\nQ 25.484375 6.203125 34.421875 6.203125 \r\nQ 39.59375 6.203125 44.453125 7.46875 \r\nQ 49.3125 8.734375 54.109375 11.28125 \r\nL 54.109375 2.78125 \r\nQ 49.265625 0.734375 44.1875 -0.34375 \r\nQ 39.109375 -1.421875 33.890625 -1.421875 \r\nQ 20.796875 -1.421875 13.15625 6.1875 \r\nQ 5.515625 13.8125 5.515625 26.8125 \r\nQ 5.515625 40.234375 12.765625 48.109375 \r\nQ 20.015625 56 32.328125 56 \r\nQ 43.359375 56 49.78125 48.890625 \r\nQ 56.203125 41.796875 56.203125 29.59375 \r\nz\r\nM 47.21875 32.234375 \r\nQ 47.125 39.59375 43.09375 43.984375 \r\nQ 39.0625 48.390625 32.421875 48.390625 \r\nQ 24.90625 48.390625 20.390625 44.140625 \r\nQ 15.875 39.890625 15.1875 32.171875 \r\nz\r\n\" id=\"DejaVuSans-101\"/>\r\n      </defs>\r\n      <g transform=\"translate(200.453323 311.3775)rotate(-90)scale(0.1 -0.1)\">\r\n       <use xlink:href=\"#DejaVuSans-76\"/>\r\n       <use x=\"55.697266\" xlink:href=\"#DejaVuSans-111\"/>\r\n       <use x=\"116.878906\" xlink:href=\"#DejaVuSans-118\"/>\r\n       <use x=\"176.058594\" xlink:href=\"#DejaVuSans-101\"/>\r\n       <use x=\"237.582031\" xlink:href=\"#DejaVuSans-32\"/>\r\n       <use x=\"269.369141\" xlink:href=\"#DejaVuSans-38\"/>\r\n       <use x=\"347.347656\" xlink:href=\"#DejaVuSans-32\"/>\r\n       <use x=\"379.134766\" xlink:href=\"#DejaVuSans-114\"/>\r\n       <use x=\"420.216797\" xlink:href=\"#DejaVuSans-101\"/>\r\n       <use x=\"481.740234\" xlink:href=\"#DejaVuSans-108\"/>\r\n       <use x=\"509.523438\" xlink:href=\"#DejaVuSans-97\"/>\r\n       <use x=\"570.802734\" xlink:href=\"#DejaVuSans-116\"/>\r\n       <use x=\"610.011719\" xlink:href=\"#DejaVuSans-105\"/>\r\n       <use x=\"637.794922\" xlink:href=\"#DejaVuSans-111\"/>\r\n       <use x=\"698.976562\" xlink:href=\"#DejaVuSans-110\"/>\r\n      </g>\r\n     </g>\r\n    </g>\r\n    <g id=\"xtick_5\">\r\n     <g id=\"line2d_5\">\r\n      <g>\r\n       <use style=\"stroke:#000000;stroke-width:0.8;\" x=\"237.393552\" xlink:href=\"#m81bf0ee019\" y=\"228.14\"/>\r\n      </g>\r\n     </g>\r\n     <g id=\"text_5\">\r\n      <!-- Music -->\r\n      <defs>\r\n       <path d=\"M 9.8125 72.90625 \r\nL 24.515625 72.90625 \r\nL 43.109375 23.296875 \r\nL 61.8125 72.90625 \r\nL 76.515625 72.90625 \r\nL 76.515625 0 \r\nL 66.890625 0 \r\nL 66.890625 64.015625 \r\nL 48.09375 14.015625 \r\nL 38.1875 14.015625 \r\nL 19.390625 64.015625 \r\nL 19.390625 0 \r\nL 9.8125 0 \r\nz\r\n\" id=\"DejaVuSans-77\"/>\r\n       <path d=\"M 8.5 21.578125 \r\nL 8.5 54.6875 \r\nL 17.484375 54.6875 \r\nL 17.484375 21.921875 \r\nQ 17.484375 14.15625 20.5 10.265625 \r\nQ 23.53125 6.390625 29.59375 6.390625 \r\nQ 36.859375 6.390625 41.078125 11.03125 \r\nQ 45.3125 15.671875 45.3125 23.6875 \r\nL 45.3125 54.6875 \r\nL 54.296875 54.6875 \r\nL 54.296875 0 \r\nL 45.3125 0 \r\nL 45.3125 8.40625 \r\nQ 42.046875 3.421875 37.71875 1 \r\nQ 33.40625 -1.421875 27.6875 -1.421875 \r\nQ 18.265625 -1.421875 13.375 4.4375 \r\nQ 8.5 10.296875 8.5 21.578125 \r\nz\r\nM 31.109375 56 \r\nz\r\n\" id=\"DejaVuSans-117\"/>\r\n      </defs>\r\n      <g transform=\"translate(240.152927 263.591563)rotate(-90)scale(0.1 -0.1)\">\r\n       <use xlink:href=\"#DejaVuSans-77\"/>\r\n       <use x=\"86.279297\" xlink:href=\"#DejaVuSans-117\"/>\r\n       <use x=\"149.658203\" xlink:href=\"#DejaVuSans-115\"/>\r\n       <use x=\"201.757812\" xlink:href=\"#DejaVuSans-105\"/>\r\n       <use x=\"229.541016\" xlink:href=\"#DejaVuSans-99\"/>\r\n      </g>\r\n     </g>\r\n    </g>\r\n    <g id=\"xtick_6\">\r\n     <g id=\"line2d_6\">\r\n      <g>\r\n       <use style=\"stroke:#000000;stroke-width:0.8;\" x=\"277.093157\" xlink:href=\"#m81bf0ee019\" y=\"228.14\"/>\r\n      </g>\r\n     </g>\r\n     <g id=\"text_6\">\r\n      <!-- Purchase &amp; sale -->\r\n      <defs>\r\n       <path d=\"M 19.671875 64.796875 \r\nL 19.671875 37.40625 \r\nL 32.078125 37.40625 \r\nQ 38.96875 37.40625 42.71875 40.96875 \r\nQ 46.484375 44.53125 46.484375 51.125 \r\nQ 46.484375 57.671875 42.71875 61.234375 \r\nQ 38.96875 64.796875 32.078125 64.796875 \r\nz\r\nM 9.8125 72.90625 \r\nL 32.078125 72.90625 \r\nQ 44.34375 72.90625 50.609375 67.359375 \r\nQ 56.890625 61.8125 56.890625 51.125 \r\nQ 56.890625 40.328125 50.609375 34.8125 \r\nQ 44.34375 29.296875 32.078125 29.296875 \r\nL 19.671875 29.296875 \r\nL 19.671875 0 \r\nL 9.8125 0 \r\nz\r\n\" id=\"DejaVuSans-80\"/>\r\n      </defs>\r\n      <g transform=\"translate(279.852532 315.363437)rotate(-90)scale(0.1 -0.1)\">\r\n       <use xlink:href=\"#DejaVuSans-80\"/>\r\n       <use x=\"60.287109\" xlink:href=\"#DejaVuSans-117\"/>\r\n       <use x=\"123.666016\" xlink:href=\"#DejaVuSans-114\"/>\r\n       <use x=\"164.748047\" xlink:href=\"#DejaVuSans-99\"/>\r\n       <use x=\"219.728516\" xlink:href=\"#DejaVuSans-104\"/>\r\n       <use x=\"283.107422\" xlink:href=\"#DejaVuSans-97\"/>\r\n       <use x=\"344.386719\" xlink:href=\"#DejaVuSans-115\"/>\r\n       <use x=\"396.486328\" xlink:href=\"#DejaVuSans-101\"/>\r\n       <use x=\"458.009766\" xlink:href=\"#DejaVuSans-32\"/>\r\n       <use x=\"489.796875\" xlink:href=\"#DejaVuSans-38\"/>\r\n       <use x=\"567.775391\" xlink:href=\"#DejaVuSans-32\"/>\r\n       <use x=\"599.5625\" xlink:href=\"#DejaVuSans-115\"/>\r\n       <use x=\"651.662109\" xlink:href=\"#DejaVuSans-97\"/>\r\n       <use x=\"712.941406\" xlink:href=\"#DejaVuSans-108\"/>\r\n       <use x=\"740.724609\" xlink:href=\"#DejaVuSans-101\"/>\r\n      </g>\r\n     </g>\r\n    </g>\r\n    <g id=\"xtick_7\">\r\n     <g id=\"line2d_7\">\r\n      <g>\r\n       <use style=\"stroke:#000000;stroke-width:0.8;\" x=\"316.792762\" xlink:href=\"#m81bf0ee019\" y=\"228.14\"/>\r\n      </g>\r\n     </g>\r\n     <g id=\"text_7\">\r\n      <!-- Job &amp; money -->\r\n      <defs>\r\n       <path d=\"M 9.8125 72.90625 \r\nL 19.671875 72.90625 \r\nL 19.671875 5.078125 \r\nQ 19.671875 -8.109375 14.671875 -14.0625 \r\nQ 9.671875 -20.015625 -1.421875 -20.015625 \r\nL -5.171875 -20.015625 \r\nL -5.171875 -11.71875 \r\nL -2.09375 -11.71875 \r\nQ 4.4375 -11.71875 7.125 -8.046875 \r\nQ 9.8125 -4.390625 9.8125 5.078125 \r\nz\r\n\" id=\"DejaVuSans-74\"/>\r\n       <path d=\"M 48.6875 27.296875 \r\nQ 48.6875 37.203125 44.609375 42.84375 \r\nQ 40.53125 48.484375 33.40625 48.484375 \r\nQ 26.265625 48.484375 22.1875 42.84375 \r\nQ 18.109375 37.203125 18.109375 27.296875 \r\nQ 18.109375 17.390625 22.1875 11.75 \r\nQ 26.265625 6.109375 33.40625 6.109375 \r\nQ 40.53125 6.109375 44.609375 11.75 \r\nQ 48.6875 17.390625 48.6875 27.296875 \r\nz\r\nM 18.109375 46.390625 \r\nQ 20.953125 51.265625 25.265625 53.625 \r\nQ 29.59375 56 35.59375 56 \r\nQ 45.5625 56 51.78125 48.09375 \r\nQ 58.015625 40.1875 58.015625 27.296875 \r\nQ 58.015625 14.40625 51.78125 6.484375 \r\nQ 45.5625 -1.421875 35.59375 -1.421875 \r\nQ 29.59375 -1.421875 25.265625 0.953125 \r\nQ 20.953125 3.328125 18.109375 8.203125 \r\nL 18.109375 0 \r\nL 9.078125 0 \r\nL 9.078125 75.984375 \r\nL 18.109375 75.984375 \r\nz\r\n\" id=\"DejaVuSans-98\"/>\r\n       <path d=\"M 52 44.1875 \r\nQ 55.375 50.25 60.0625 53.125 \r\nQ 64.75 56 71.09375 56 \r\nQ 79.640625 56 84.28125 50.015625 \r\nQ 88.921875 44.046875 88.921875 33.015625 \r\nL 88.921875 0 \r\nL 79.890625 0 \r\nL 79.890625 32.71875 \r\nQ 79.890625 40.578125 77.09375 44.375 \r\nQ 74.3125 48.1875 68.609375 48.1875 \r\nQ 61.625 48.1875 57.5625 43.546875 \r\nQ 53.515625 38.921875 53.515625 30.90625 \r\nL 53.515625 0 \r\nL 44.484375 0 \r\nL 44.484375 32.71875 \r\nQ 44.484375 40.625 41.703125 44.40625 \r\nQ 38.921875 48.1875 33.109375 48.1875 \r\nQ 26.21875 48.1875 22.15625 43.53125 \r\nQ 18.109375 38.875 18.109375 30.90625 \r\nL 18.109375 0 \r\nL 9.078125 0 \r\nL 9.078125 54.6875 \r\nL 18.109375 54.6875 \r\nL 18.109375 46.1875 \r\nQ 21.1875 51.21875 25.484375 53.609375 \r\nQ 29.78125 56 35.6875 56 \r\nQ 41.65625 56 45.828125 52.96875 \r\nQ 50 49.953125 52 44.1875 \r\nz\r\n\" id=\"DejaVuSans-109\"/>\r\n      </defs>\r\n      <g transform=\"translate(319.552137 298.980625)rotate(-90)scale(0.1 -0.1)\">\r\n       <use xlink:href=\"#DejaVuSans-74\"/>\r\n       <use x=\"29.492188\" xlink:href=\"#DejaVuSans-111\"/>\r\n       <use x=\"90.673828\" xlink:href=\"#DejaVuSans-98\"/>\r\n       <use x=\"154.150391\" xlink:href=\"#DejaVuSans-32\"/>\r\n       <use x=\"185.9375\" xlink:href=\"#DejaVuSans-38\"/>\r\n       <use x=\"263.916016\" xlink:href=\"#DejaVuSans-32\"/>\r\n       <use x=\"295.703125\" xlink:href=\"#DejaVuSans-109\"/>\r\n       <use x=\"393.115234\" xlink:href=\"#DejaVuSans-111\"/>\r\n       <use x=\"454.296875\" xlink:href=\"#DejaVuSans-110\"/>\r\n       <use x=\"517.675781\" xlink:href=\"#DejaVuSans-101\"/>\r\n       <use x=\"579.199219\" xlink:href=\"#DejaVuSans-121\"/>\r\n      </g>\r\n     </g>\r\n    </g>\r\n    <g id=\"xtick_8\">\r\n     <g id=\"line2d_8\">\r\n      <g>\r\n       <use style=\"stroke:#000000;stroke-width:0.8;\" x=\"356.492367\" xlink:href=\"#m81bf0ee019\" y=\"228.14\"/>\r\n      </g>\r\n     </g>\r\n     <g id=\"text_8\">\r\n      <!-- Fitness &amp; cosmetology -->\r\n      <defs>\r\n       <path d=\"M 9.8125 72.90625 \r\nL 51.703125 72.90625 \r\nL 51.703125 64.59375 \r\nL 19.671875 64.59375 \r\nL 19.671875 43.109375 \r\nL 48.578125 43.109375 \r\nL 48.578125 34.8125 \r\nL 19.671875 34.8125 \r\nL 19.671875 0 \r\nL 9.8125 0 \r\nz\r\n\" id=\"DejaVuSans-70\"/>\r\n      </defs>\r\n      <g transform=\"translate(359.251742 348.566562)rotate(-90)scale(0.1 -0.1)\">\r\n       <use xlink:href=\"#DejaVuSans-70\"/>\r\n       <use x=\"57.410156\" xlink:href=\"#DejaVuSans-105\"/>\r\n       <use x=\"85.193359\" xlink:href=\"#DejaVuSans-116\"/>\r\n       <use x=\"124.402344\" xlink:href=\"#DejaVuSans-110\"/>\r\n       <use x=\"187.78125\" xlink:href=\"#DejaVuSans-101\"/>\r\n       <use x=\"249.304688\" xlink:href=\"#DejaVuSans-115\"/>\r\n       <use x=\"301.404297\" xlink:href=\"#DejaVuSans-115\"/>\r\n       <use x=\"353.503906\" xlink:href=\"#DejaVuSans-32\"/>\r\n       <use x=\"385.291016\" xlink:href=\"#DejaVuSans-38\"/>\r\n       <use x=\"463.269531\" xlink:href=\"#DejaVuSans-32\"/>\r\n       <use x=\"495.056641\" xlink:href=\"#DejaVuSans-99\"/>\r\n       <use x=\"550.037109\" xlink:href=\"#DejaVuSans-111\"/>\r\n       <use x=\"611.21875\" xlink:href=\"#DejaVuSans-115\"/>\r\n       <use x=\"663.318359\" xlink:href=\"#DejaVuSans-109\"/>\r\n       <use x=\"760.730469\" xlink:href=\"#DejaVuSans-101\"/>\r\n       <use x=\"822.253906\" xlink:href=\"#DejaVuSans-116\"/>\r\n       <use x=\"861.462891\" xlink:href=\"#DejaVuSans-111\"/>\r\n       <use x=\"922.644531\" xlink:href=\"#DejaVuSans-108\"/>\r\n       <use x=\"950.427734\" xlink:href=\"#DejaVuSans-111\"/>\r\n       <use x=\"1011.609375\" xlink:href=\"#DejaVuSans-103\"/>\r\n       <use x=\"1075.085938\" xlink:href=\"#DejaVuSans-121\"/>\r\n      </g>\r\n     </g>\r\n    </g>\r\n    <g id=\"text_9\">\r\n     <!-- top1 -->\r\n     <defs>\r\n      <path d=\"M 12.40625 8.296875 \r\nL 28.515625 8.296875 \r\nL 28.515625 63.921875 \r\nL 10.984375 60.40625 \r\nL 10.984375 69.390625 \r\nL 28.421875 72.90625 \r\nL 38.28125 72.90625 \r\nL 38.28125 8.296875 \r\nL 54.390625 8.296875 \r\nL 54.390625 0 \r\nL 12.40625 0 \r\nz\r\n\" id=\"DejaVuSans-49\"/>\r\n     </defs>\r\n     <g transform=\"translate(206.16875 360.165)scale(0.1 -0.1)\">\r\n      <use xlink:href=\"#DejaVuSans-116\"/>\r\n      <use x=\"39.208984\" xlink:href=\"#DejaVuSans-111\"/>\r\n      <use x=\"100.390625\" xlink:href=\"#DejaVuSans-112\"/>\r\n      <use x=\"163.867188\" xlink:href=\"#DejaVuSans-49\"/>\r\n     </g>\r\n    </g>\r\n   </g>\r\n   <g id=\"matplotlib.axis_2\">\r\n    <g id=\"ytick_1\">\r\n     <g id=\"line2d_9\">\r\n      <defs>\r\n       <path d=\"M 0 0 \r\nL -3.5 0 \r\n\" id=\"m5f4aff4d6a\" style=\"stroke:#000000;stroke-width:0.8;\"/>\r\n      </defs>\r\n      <g>\r\n       <use style=\"stroke:#000000;stroke-width:0.8;\" x=\"50.14375\" xlink:href=\"#m5f4aff4d6a\" y=\"228.14\"/>\r\n      </g>\r\n     </g>\r\n     <g id=\"text_10\">\r\n      <!-- 0.00 -->\r\n      <defs>\r\n       <path d=\"M 31.78125 66.40625 \r\nQ 24.171875 66.40625 20.328125 58.90625 \r\nQ 16.5 51.421875 16.5 36.375 \r\nQ 16.5 21.390625 20.328125 13.890625 \r\nQ 24.171875 6.390625 31.78125 6.390625 \r\nQ 39.453125 6.390625 43.28125 13.890625 \r\nQ 47.125 21.390625 47.125 36.375 \r\nQ 47.125 51.421875 43.28125 58.90625 \r\nQ 39.453125 66.40625 31.78125 66.40625 \r\nz\r\nM 31.78125 74.21875 \r\nQ 44.046875 74.21875 50.515625 64.515625 \r\nQ 56.984375 54.828125 56.984375 36.375 \r\nQ 56.984375 17.96875 50.515625 8.265625 \r\nQ 44.046875 -1.421875 31.78125 -1.421875 \r\nQ 19.53125 -1.421875 13.0625 8.265625 \r\nQ 6.59375 17.96875 6.59375 36.375 \r\nQ 6.59375 54.828125 13.0625 64.515625 \r\nQ 19.53125 74.21875 31.78125 74.21875 \r\nz\r\n\" id=\"DejaVuSans-48\"/>\r\n       <path d=\"M 10.6875 12.40625 \r\nL 21 12.40625 \r\nL 21 0 \r\nL 10.6875 0 \r\nz\r\n\" id=\"DejaVuSans-46\"/>\r\n      </defs>\r\n      <g transform=\"translate(20.878125 231.939219)scale(0.1 -0.1)\">\r\n       <use xlink:href=\"#DejaVuSans-48\"/>\r\n       <use x=\"63.623047\" xlink:href=\"#DejaVuSans-46\"/>\r\n       <use x=\"95.410156\" xlink:href=\"#DejaVuSans-48\"/>\r\n       <use x=\"159.033203\" xlink:href=\"#DejaVuSans-48\"/>\r\n      </g>\r\n     </g>\r\n    </g>\r\n    <g id=\"ytick_2\">\r\n     <g id=\"line2d_10\">\r\n      <g>\r\n       <use style=\"stroke:#000000;stroke-width:0.8;\" x=\"50.14375\" xlink:href=\"#m5f4aff4d6a\" y=\"198.930257\"/>\r\n      </g>\r\n     </g>\r\n     <g id=\"text_11\">\r\n      <!-- 0.05 -->\r\n      <defs>\r\n       <path d=\"M 10.796875 72.90625 \r\nL 49.515625 72.90625 \r\nL 49.515625 64.59375 \r\nL 19.828125 64.59375 \r\nL 19.828125 46.734375 \r\nQ 21.96875 47.46875 24.109375 47.828125 \r\nQ 26.265625 48.1875 28.421875 48.1875 \r\nQ 40.625 48.1875 47.75 41.5 \r\nQ 54.890625 34.8125 54.890625 23.390625 \r\nQ 54.890625 11.625 47.5625 5.09375 \r\nQ 40.234375 -1.421875 26.90625 -1.421875 \r\nQ 22.3125 -1.421875 17.546875 -0.640625 \r\nQ 12.796875 0.140625 7.71875 1.703125 \r\nL 7.71875 11.625 \r\nQ 12.109375 9.234375 16.796875 8.0625 \r\nQ 21.484375 6.890625 26.703125 6.890625 \r\nQ 35.15625 6.890625 40.078125 11.328125 \r\nQ 45.015625 15.765625 45.015625 23.390625 \r\nQ 45.015625 31 40.078125 35.4375 \r\nQ 35.15625 39.890625 26.703125 39.890625 \r\nQ 22.75 39.890625 18.8125 39.015625 \r\nQ 14.890625 38.140625 10.796875 36.28125 \r\nz\r\n\" id=\"DejaVuSans-53\"/>\r\n      </defs>\r\n      <g transform=\"translate(20.878125 202.729476)scale(0.1 -0.1)\">\r\n       <use xlink:href=\"#DejaVuSans-48\"/>\r\n       <use x=\"63.623047\" xlink:href=\"#DejaVuSans-46\"/>\r\n       <use x=\"95.410156\" xlink:href=\"#DejaVuSans-48\"/>\r\n       <use x=\"159.033203\" xlink:href=\"#DejaVuSans-53\"/>\r\n      </g>\r\n     </g>\r\n    </g>\r\n    <g id=\"ytick_3\">\r\n     <g id=\"line2d_11\">\r\n      <g>\r\n       <use style=\"stroke:#000000;stroke-width:0.8;\" x=\"50.14375\" xlink:href=\"#m5f4aff4d6a\" y=\"169.720515\"/>\r\n      </g>\r\n     </g>\r\n     <g id=\"text_12\">\r\n      <!-- 0.10 -->\r\n      <g transform=\"translate(20.878125 173.519734)scale(0.1 -0.1)\">\r\n       <use xlink:href=\"#DejaVuSans-48\"/>\r\n       <use x=\"63.623047\" xlink:href=\"#DejaVuSans-46\"/>\r\n       <use x=\"95.410156\" xlink:href=\"#DejaVuSans-49\"/>\r\n       <use x=\"159.033203\" xlink:href=\"#DejaVuSans-48\"/>\r\n      </g>\r\n     </g>\r\n    </g>\r\n    <g id=\"ytick_4\">\r\n     <g id=\"line2d_12\">\r\n      <g>\r\n       <use style=\"stroke:#000000;stroke-width:0.8;\" x=\"50.14375\" xlink:href=\"#m5f4aff4d6a\" y=\"140.510772\"/>\r\n      </g>\r\n     </g>\r\n     <g id=\"text_13\">\r\n      <!-- 0.15 -->\r\n      <g transform=\"translate(20.878125 144.309991)scale(0.1 -0.1)\">\r\n       <use xlink:href=\"#DejaVuSans-48\"/>\r\n       <use x=\"63.623047\" xlink:href=\"#DejaVuSans-46\"/>\r\n       <use x=\"95.410156\" xlink:href=\"#DejaVuSans-49\"/>\r\n       <use x=\"159.033203\" xlink:href=\"#DejaVuSans-53\"/>\r\n      </g>\r\n     </g>\r\n    </g>\r\n    <g id=\"ytick_5\">\r\n     <g id=\"line2d_13\">\r\n      <g>\r\n       <use style=\"stroke:#000000;stroke-width:0.8;\" x=\"50.14375\" xlink:href=\"#m5f4aff4d6a\" y=\"111.30103\"/>\r\n      </g>\r\n     </g>\r\n     <g id=\"text_14\">\r\n      <!-- 0.20 -->\r\n      <defs>\r\n       <path d=\"M 19.1875 8.296875 \r\nL 53.609375 8.296875 \r\nL 53.609375 0 \r\nL 7.328125 0 \r\nL 7.328125 8.296875 \r\nQ 12.9375 14.109375 22.625 23.890625 \r\nQ 32.328125 33.6875 34.8125 36.53125 \r\nQ 39.546875 41.84375 41.421875 45.53125 \r\nQ 43.3125 49.21875 43.3125 52.78125 \r\nQ 43.3125 58.59375 39.234375 62.25 \r\nQ 35.15625 65.921875 28.609375 65.921875 \r\nQ 23.96875 65.921875 18.8125 64.3125 \r\nQ 13.671875 62.703125 7.8125 59.421875 \r\nL 7.8125 69.390625 \r\nQ 13.765625 71.78125 18.9375 73 \r\nQ 24.125 74.21875 28.421875 74.21875 \r\nQ 39.75 74.21875 46.484375 68.546875 \r\nQ 53.21875 62.890625 53.21875 53.421875 \r\nQ 53.21875 48.921875 51.53125 44.890625 \r\nQ 49.859375 40.875 45.40625 35.40625 \r\nQ 44.1875 33.984375 37.640625 27.21875 \r\nQ 31.109375 20.453125 19.1875 8.296875 \r\nz\r\n\" id=\"DejaVuSans-50\"/>\r\n      </defs>\r\n      <g transform=\"translate(20.878125 115.100248)scale(0.1 -0.1)\">\r\n       <use xlink:href=\"#DejaVuSans-48\"/>\r\n       <use x=\"63.623047\" xlink:href=\"#DejaVuSans-46\"/>\r\n       <use x=\"95.410156\" xlink:href=\"#DejaVuSans-50\"/>\r\n       <use x=\"159.033203\" xlink:href=\"#DejaVuSans-48\"/>\r\n      </g>\r\n     </g>\r\n    </g>\r\n    <g id=\"ytick_6\">\r\n     <g id=\"line2d_14\">\r\n      <g>\r\n       <use style=\"stroke:#000000;stroke-width:0.8;\" x=\"50.14375\" xlink:href=\"#m5f4aff4d6a\" y=\"82.091287\"/>\r\n      </g>\r\n     </g>\r\n     <g id=\"text_15\">\r\n      <!-- 0.25 -->\r\n      <g transform=\"translate(20.878125 85.890506)scale(0.1 -0.1)\">\r\n       <use xlink:href=\"#DejaVuSans-48\"/>\r\n       <use x=\"63.623047\" xlink:href=\"#DejaVuSans-46\"/>\r\n       <use x=\"95.410156\" xlink:href=\"#DejaVuSans-50\"/>\r\n       <use x=\"159.033203\" xlink:href=\"#DejaVuSans-53\"/>\r\n      </g>\r\n     </g>\r\n    </g>\r\n    <g id=\"ytick_7\">\r\n     <g id=\"line2d_15\">\r\n      <g>\r\n       <use style=\"stroke:#000000;stroke-width:0.8;\" x=\"50.14375\" xlink:href=\"#m5f4aff4d6a\" y=\"52.881544\"/>\r\n      </g>\r\n     </g>\r\n     <g id=\"text_16\">\r\n      <!-- 0.30 -->\r\n      <defs>\r\n       <path d=\"M 40.578125 39.3125 \r\nQ 47.65625 37.796875 51.625 33 \r\nQ 55.609375 28.21875 55.609375 21.1875 \r\nQ 55.609375 10.40625 48.1875 4.484375 \r\nQ 40.765625 -1.421875 27.09375 -1.421875 \r\nQ 22.515625 -1.421875 17.65625 -0.515625 \r\nQ 12.796875 0.390625 7.625 2.203125 \r\nL 7.625 11.71875 \r\nQ 11.71875 9.328125 16.59375 8.109375 \r\nQ 21.484375 6.890625 26.8125 6.890625 \r\nQ 36.078125 6.890625 40.9375 10.546875 \r\nQ 45.796875 14.203125 45.796875 21.1875 \r\nQ 45.796875 27.640625 41.28125 31.265625 \r\nQ 36.765625 34.90625 28.71875 34.90625 \r\nL 20.21875 34.90625 \r\nL 20.21875 43.015625 \r\nL 29.109375 43.015625 \r\nQ 36.375 43.015625 40.234375 45.921875 \r\nQ 44.09375 48.828125 44.09375 54.296875 \r\nQ 44.09375 59.90625 40.109375 62.90625 \r\nQ 36.140625 65.921875 28.71875 65.921875 \r\nQ 24.65625 65.921875 20.015625 65.03125 \r\nQ 15.375 64.15625 9.8125 62.3125 \r\nL 9.8125 71.09375 \r\nQ 15.4375 72.65625 20.34375 73.4375 \r\nQ 25.25 74.21875 29.59375 74.21875 \r\nQ 40.828125 74.21875 47.359375 69.109375 \r\nQ 53.90625 64.015625 53.90625 55.328125 \r\nQ 53.90625 49.265625 50.4375 45.09375 \r\nQ 46.96875 40.921875 40.578125 39.3125 \r\nz\r\n\" id=\"DejaVuSans-51\"/>\r\n      </defs>\r\n      <g transform=\"translate(20.878125 56.680763)scale(0.1 -0.1)\">\r\n       <use xlink:href=\"#DejaVuSans-48\"/>\r\n       <use x=\"63.623047\" xlink:href=\"#DejaVuSans-46\"/>\r\n       <use x=\"95.410156\" xlink:href=\"#DejaVuSans-51\"/>\r\n       <use x=\"159.033203\" xlink:href=\"#DejaVuSans-48\"/>\r\n      </g>\r\n     </g>\r\n    </g>\r\n    <g id=\"ytick_8\">\r\n     <g id=\"line2d_16\">\r\n      <g>\r\n       <use style=\"stroke:#000000;stroke-width:0.8;\" x=\"50.14375\" xlink:href=\"#m5f4aff4d6a\" y=\"23.671802\"/>\r\n      </g>\r\n     </g>\r\n     <g id=\"text_17\">\r\n      <!-- 0.35 -->\r\n      <g transform=\"translate(20.878125 27.47102)scale(0.1 -0.1)\">\r\n       <use xlink:href=\"#DejaVuSans-48\"/>\r\n       <use x=\"63.623047\" xlink:href=\"#DejaVuSans-46\"/>\r\n       <use x=\"95.410156\" xlink:href=\"#DejaVuSans-51\"/>\r\n       <use x=\"159.033203\" xlink:href=\"#DejaVuSans-53\"/>\r\n      </g>\r\n     </g>\r\n    </g>\r\n    <g id=\"text_18\">\r\n     <!-- Probability -->\r\n     <g transform=\"translate(14.798438 146.046562)rotate(-90)scale(0.1 -0.1)\">\r\n      <use xlink:href=\"#DejaVuSans-80\"/>\r\n      <use x=\"60.287109\" xlink:href=\"#DejaVuSans-114\"/>\r\n      <use x=\"101.369141\" xlink:href=\"#DejaVuSans-111\"/>\r\n      <use x=\"162.550781\" xlink:href=\"#DejaVuSans-98\"/>\r\n      <use x=\"226.027344\" xlink:href=\"#DejaVuSans-97\"/>\r\n      <use x=\"287.306641\" xlink:href=\"#DejaVuSans-98\"/>\r\n      <use x=\"350.783203\" xlink:href=\"#DejaVuSans-105\"/>\r\n      <use x=\"378.566406\" xlink:href=\"#DejaVuSans-108\"/>\r\n      <use x=\"406.349609\" xlink:href=\"#DejaVuSans-105\"/>\r\n      <use x=\"434.132812\" xlink:href=\"#DejaVuSans-116\"/>\r\n      <use x=\"473.341797\" xlink:href=\"#DejaVuSans-121\"/>\r\n     </g>\r\n    </g>\r\n   </g>\r\n   <g id=\"LineCollection_1\">\r\n    <path clip-path=\"url(#p463c89005c)\" d=\"M 71.978533 187.635032 \r\nL 71.978533 178.611882 \r\n\" style=\"fill:none;stroke:#000000;stroke-width:1.5;\"/>\r\n    <path clip-path=\"url(#p463c89005c)\" d=\"M 111.678137 37.090737 \r\nL 111.678137 21.054286 \r\n\" style=\"fill:none;stroke:#000000;stroke-width:1.5;\"/>\r\n    <path clip-path=\"url(#p463c89005c)\" d=\"M 151.377742 108.977652 \r\nL 151.377742 95.056677 \r\n\" style=\"fill:none;stroke:#000000;stroke-width:1.5;\"/>\r\n    <path clip-path=\"url(#p463c89005c)\" d=\"M 191.077347 125.697 \r\nL 191.077347 112.514195 \r\n\" style=\"fill:none;stroke:#000000;stroke-width:1.5;\"/>\r\n    <path clip-path=\"url(#p463c89005c)\" d=\"M 230.776952 217.397237 \r\nL 230.776952 212.357434 \r\n\" style=\"fill:none;stroke:#000000;stroke-width:1.5;\"/>\r\n    <path clip-path=\"url(#p463c89005c)\" d=\"M 270.476556 171.740693 \r\nL 270.476556 161.34956 \r\n\" style=\"fill:none;stroke:#000000;stroke-width:1.5;\"/>\r\n    <path clip-path=\"url(#p463c89005c)\" d=\"M 310.176161 212.963336 \r\nL 310.176161 207.099388 \r\n\" style=\"fill:none;stroke:#000000;stroke-width:1.5;\"/>\r\n    <path clip-path=\"url(#p463c89005c)\" d=\"M 349.875766 218.550957 \r\nL 349.875766 213.754227 \r\n\" style=\"fill:none;stroke:#000000;stroke-width:1.5;\"/>\r\n   </g>\r\n   <g id=\"LineCollection_2\">\r\n    <path clip-path=\"url(#p463c89005c)\" d=\"M 85.211734 145.497111 \r\nL 85.211734 133.888688 \r\n\" style=\"fill:none;stroke:#000000;stroke-width:1.5;\"/>\r\n    <path clip-path=\"url(#p463c89005c)\" d=\"M 124.911339 57.185035 \r\nL 124.911339 42.268749 \r\n\" style=\"fill:none;stroke:#000000;stroke-width:1.5;\"/>\r\n    <path clip-path=\"url(#p463c89005c)\" d=\"M 164.610944 149.246907 \r\nL 164.610944 137.850264 \r\n\" style=\"fill:none;stroke:#000000;stroke-width:1.5;\"/>\r\n    <path clip-path=\"url(#p463c89005c)\" d=\"M 204.310548 132.172796 \r\nL 204.310548 119.872683 \r\n\" style=\"fill:none;stroke:#000000;stroke-width:1.5;\"/>\r\n    <path clip-path=\"url(#p463c89005c)\" d=\"M 244.010153 207.836136 \r\nL 244.010153 201.474597 \r\n\" style=\"fill:none;stroke:#000000;stroke-width:1.5;\"/>\r\n    <path clip-path=\"url(#p463c89005c)\" d=\"M 283.709758 163.976964 \r\nL 283.709758 153.49834 \r\n\" style=\"fill:none;stroke:#000000;stroke-width:1.5;\"/>\r\n    <path clip-path=\"url(#p463c89005c)\" d=\"M 323.409363 203.010015 \r\nL 323.409363 196.01889 \r\n\" style=\"fill:none;stroke:#000000;stroke-width:1.5;\"/>\r\n    <path clip-path=\"url(#p463c89005c)\" d=\"M 363.108967 221.033235 \r\nL 363.108967 217.019886 \r\n\" style=\"fill:none;stroke:#000000;stroke-width:1.5;\"/>\r\n   </g>\r\n   <g id=\"patch_19\">\r\n    <path d=\"M 50.14375 228.14 \r\nL 50.14375 10.7 \r\n\" style=\"fill:none;stroke:#000000;stroke-linecap:square;stroke-linejoin:miter;stroke-width:0.8;\"/>\r\n   </g>\r\n   <g id=\"patch_20\">\r\n    <path d=\"M 384.94375 228.14 \r\nL 384.94375 10.7 \r\n\" style=\"fill:none;stroke:#000000;stroke-linecap:square;stroke-linejoin:miter;stroke-width:0.8;\"/>\r\n   </g>\r\n   <g id=\"patch_21\">\r\n    <path d=\"M 50.14375 228.14 \r\nL 384.94375 228.14 \r\n\" style=\"fill:none;stroke:#000000;stroke-linecap:square;stroke-linejoin:miter;stroke-width:0.8;\"/>\r\n   </g>\r\n   <g id=\"patch_22\">\r\n    <path d=\"M 50.14375 10.7 \r\nL 384.94375 10.7 \r\n\" style=\"fill:none;stroke:#000000;stroke-linecap:square;stroke-linejoin:miter;stroke-width:0.8;\"/>\r\n   </g>\r\n   <g id=\"legend_1\">\r\n    <g id=\"patch_23\">\r\n     <path d=\"M 222.028125 48.05625 \r\nL 377.94375 48.05625 \r\nQ 379.94375 48.05625 379.94375 46.05625 \r\nL 379.94375 17.7 \r\nQ 379.94375 15.7 377.94375 15.7 \r\nL 222.028125 15.7 \r\nQ 220.028125 15.7 220.028125 17.7 \r\nL 220.028125 46.05625 \r\nQ 220.028125 48.05625 222.028125 48.05625 \r\nz\r\n\" style=\"fill:#ffffff;opacity:0.8;stroke:#cccccc;stroke-linejoin:miter;\"/>\r\n    </g>\r\n    <g id=\"patch_24\">\r\n     <path d=\"M 224.028125 27.298437 \r\nL 244.028125 27.298437 \r\nL 244.028125 20.298437 \r\nL 224.028125 20.298437 \r\nz\r\n\" style=\"fill:#1f77b4;\"/>\r\n    </g>\r\n    <g id=\"text_19\">\r\n     <!-- Исходные данные -->\r\n     <defs>\r\n      <path d=\"M 64.984375 72.90625 \r\nL 64.984375 0 \r\nL 55.421875 0 \r\nL 55.421875 60.984375 \r\nL 23.09375 0 \r\nL 9.8125 0 \r\nL 9.8125 72.90625 \r\nL 19.390625 72.90625 \r\nL 19.390625 11.921875 \r\nL 51.703125 72.90625 \r\nz\r\n\" id=\"DejaVuSans-1048\"/>\r\n      <path d=\"M 48.78125 52.59375 \r\nL 48.78125 44.1875 \r\nQ 44.96875 46.296875 41.140625 47.34375 \r\nQ 37.3125 48.390625 33.40625 48.390625 \r\nQ 24.65625 48.390625 19.8125 42.84375 \r\nQ 14.984375 37.3125 14.984375 27.296875 \r\nQ 14.984375 17.28125 19.8125 11.734375 \r\nQ 24.65625 6.203125 33.40625 6.203125 \r\nQ 37.3125 6.203125 41.140625 7.25 \r\nQ 44.96875 8.296875 48.78125 10.40625 \r\nL 48.78125 2.09375 \r\nQ 45.015625 0.34375 40.984375 -0.53125 \r\nQ 36.96875 -1.421875 32.421875 -1.421875 \r\nQ 20.0625 -1.421875 12.78125 6.34375 \r\nQ 5.515625 14.109375 5.515625 27.296875 \r\nQ 5.515625 40.671875 12.859375 48.328125 \r\nQ 20.21875 56 33.015625 56 \r\nQ 37.15625 56 41.109375 55.140625 \r\nQ 45.0625 54.296875 48.78125 52.59375 \r\nz\r\n\" id=\"DejaVuSans-1089\"/>\r\n      <path d=\"M 54.890625 54.6875 \r\nL 35.109375 28.078125 \r\nL 55.90625 0 \r\nL 45.3125 0 \r\nL 29.390625 21.484375 \r\nL 13.484375 0 \r\nL 2.875 0 \r\nL 24.125 28.609375 \r\nL 4.6875 54.6875 \r\nL 15.28125 54.6875 \r\nL 29.78125 35.203125 \r\nL 44.28125 54.6875 \r\nz\r\n\" id=\"DejaVuSans-1093\"/>\r\n      <path d=\"M 30.609375 48.390625 \r\nQ 23.390625 48.390625 19.1875 42.75 \r\nQ 14.984375 37.109375 14.984375 27.296875 \r\nQ 14.984375 17.484375 19.15625 11.84375 \r\nQ 23.34375 6.203125 30.609375 6.203125 \r\nQ 37.796875 6.203125 41.984375 11.859375 \r\nQ 46.1875 17.53125 46.1875 27.296875 \r\nQ 46.1875 37.015625 41.984375 42.703125 \r\nQ 37.796875 48.390625 30.609375 48.390625 \r\nz\r\nM 30.609375 56 \r\nQ 42.328125 56 49.015625 48.375 \r\nQ 55.71875 40.765625 55.71875 27.296875 \r\nQ 55.71875 13.875 49.015625 6.21875 \r\nQ 42.328125 -1.421875 30.609375 -1.421875 \r\nQ 18.84375 -1.421875 12.171875 6.21875 \r\nQ 5.515625 13.875 5.515625 27.296875 \r\nQ 5.515625 40.765625 12.171875 48.375 \r\nQ 18.84375 56 30.609375 56 \r\nz\r\n\" id=\"DejaVuSans-1086\"/>\r\n      <path d=\"M 21.625 7.171875 \r\nL 47.703125 7.171875 \r\nL 47.703125 47.515625 \r\nL 28.8125 47.515625 \r\nL 28.8125 40.671875 \r\nQ 28.8125 20.5625 23.046875 9.8125 \r\nz\r\nM 8.59375 7.171875 \r\nQ 13.03125 9.125 14.984375 13.28125 \r\nQ 19.78125 23.578125 19.78125 44.34375 \r\nL 19.78125 54.6875 \r\nL 56.734375 54.6875 \r\nL 56.734375 7.171875 \r\nL 63.921875 7.171875 \r\nL 63.921875 -13.8125 \r\nL 56.734375 -13.8125 \r\nL 56.734375 0 \r\nL 12.40625 0 \r\nL 12.40625 -13.8125 \r\nL 5.21875 -13.8125 \r\nL 5.21875 7.171875 \r\nz\r\n\" id=\"DejaVuSans-1076\"/>\r\n      <path d=\"M 9.078125 54.6875 \r\nL 18.109375 54.6875 \r\nL 18.109375 32.375 \r\nL 47.265625 32.375 \r\nL 47.265625 54.6875 \r\nL 56.296875 54.6875 \r\nL 56.296875 0 \r\nL 47.265625 0 \r\nL 47.265625 25.203125 \r\nL 18.109375 25.203125 \r\nL 18.109375 0 \r\nL 9.078125 0 \r\nz\r\n\" id=\"DejaVuSans-1085\"/>\r\n      <path d=\"M 61.078125 54.6875 \r\nL 70.0625 54.6875 \r\nL 70.0625 0 \r\nL 61.078125 0 \r\nz\r\nM 65.578125 56 \r\nz\r\nM 43.453125 16.21875 \r\nQ 43.453125 20.609375 40.25 22.90625 \r\nQ 37.0625 25.203125 30.90625 25.203125 \r\nL 18.109375 25.203125 \r\nL 18.109375 7.171875 \r\nL 30.90625 7.171875 \r\nQ 37.0625 7.171875 40.25 9.484375 \r\nQ 43.453125 11.8125 43.453125 16.21875 \r\nz\r\nM 9.078125 54.6875 \r\nL 18.109375 54.6875 \r\nL 18.109375 32.375 \r\nL 31.296875 32.375 \r\nQ 41.75 32.375 47.390625 28.390625 \r\nQ 53.03125 24.421875 53.03125 16.21875 \r\nQ 53.03125 8.015625 47.390625 4 \r\nQ 41.75 0 31.296875 0 \r\nL 9.078125 0 \r\nz\r\n\" id=\"DejaVuSans-1099\"/>\r\n      <path d=\"M 56.203125 29.59375 \r\nL 56.203125 25.203125 \r\nL 14.890625 25.203125 \r\nQ 15.484375 15.921875 20.484375 11.0625 \r\nQ 25.484375 6.203125 34.421875 6.203125 \r\nQ 39.59375 6.203125 44.453125 7.46875 \r\nQ 49.3125 8.734375 54.109375 11.28125 \r\nL 54.109375 2.78125 \r\nQ 49.265625 0.734375 44.1875 -0.34375 \r\nQ 39.109375 -1.421875 33.890625 -1.421875 \r\nQ 20.796875 -1.421875 13.15625 6.1875 \r\nQ 5.515625 13.8125 5.515625 26.8125 \r\nQ 5.515625 40.234375 12.765625 48.109375 \r\nQ 20.015625 56 32.328125 56 \r\nQ 43.359375 56 49.78125 48.890625 \r\nQ 56.203125 41.796875 56.203125 29.59375 \r\nz\r\nM 47.21875 32.234375 \r\nQ 47.125 39.59375 43.09375 43.984375 \r\nQ 39.0625 48.390625 32.421875 48.390625 \r\nQ 24.90625 48.390625 20.390625 44.140625 \r\nQ 15.875 39.890625 15.1875 32.171875 \r\nz\r\n\" id=\"DejaVuSans-1077\"/>\r\n      <path d=\"M 34.28125 27.484375 \r\nQ 23.390625 27.484375 19.1875 25 \r\nQ 14.984375 22.515625 14.984375 16.5 \r\nQ 14.984375 11.71875 18.140625 8.90625 \r\nQ 21.296875 6.109375 26.703125 6.109375 \r\nQ 34.1875 6.109375 38.703125 11.40625 \r\nQ 43.21875 16.703125 43.21875 25.484375 \r\nL 43.21875 27.484375 \r\nz\r\nM 52.203125 31.203125 \r\nL 52.203125 0 \r\nL 43.21875 0 \r\nL 43.21875 8.296875 \r\nQ 40.140625 3.328125 35.546875 0.953125 \r\nQ 30.953125 -1.421875 24.3125 -1.421875 \r\nQ 15.921875 -1.421875 10.953125 3.296875 \r\nQ 6 8.015625 6 15.921875 \r\nQ 6 25.140625 12.171875 29.828125 \r\nQ 18.359375 34.515625 30.609375 34.515625 \r\nL 43.21875 34.515625 \r\nL 43.21875 35.40625 \r\nQ 43.21875 41.609375 39.140625 45 \r\nQ 35.0625 48.390625 27.6875 48.390625 \r\nQ 23 48.390625 18.546875 47.265625 \r\nQ 14.109375 46.140625 10.015625 43.890625 \r\nL 10.015625 52.203125 \r\nQ 14.9375 54.109375 19.578125 55.046875 \r\nQ 24.21875 56 28.609375 56 \r\nQ 40.484375 56 46.34375 49.84375 \r\nQ 52.203125 43.703125 52.203125 31.203125 \r\nz\r\n\" id=\"DejaVuSans-1072\"/>\r\n     </defs>\r\n     <g transform=\"translate(252.028125 27.298437)scale(0.1 -0.1)\">\r\n      <use xlink:href=\"#DejaVuSans-1048\"/>\r\n      <use x=\"74.804688\" xlink:href=\"#DejaVuSans-1089\"/>\r\n      <use x=\"129.785156\" xlink:href=\"#DejaVuSans-1093\"/>\r\n      <use x=\"188.964844\" xlink:href=\"#DejaVuSans-1086\"/>\r\n      <use x=\"250.146484\" xlink:href=\"#DejaVuSans-1076\"/>\r\n      <use x=\"319.287109\" xlink:href=\"#DejaVuSans-1085\"/>\r\n      <use x=\"384.667969\" xlink:href=\"#DejaVuSans-1099\"/>\r\n      <use x=\"463.623047\" xlink:href=\"#DejaVuSans-1077\"/>\r\n      <use x=\"525.146484\" xlink:href=\"#DejaVuSans-32\"/>\r\n      <use x=\"556.933594\" xlink:href=\"#DejaVuSans-1076\"/>\r\n      <use x=\"626.074219\" xlink:href=\"#DejaVuSans-1072\"/>\r\n      <use x=\"687.353516\" xlink:href=\"#DejaVuSans-1085\"/>\r\n      <use x=\"752.734375\" xlink:href=\"#DejaVuSans-1085\"/>\r\n      <use x=\"818.115234\" xlink:href=\"#DejaVuSans-1099\"/>\r\n      <use x=\"897.070312\" xlink:href=\"#DejaVuSans-1077\"/>\r\n     </g>\r\n    </g>\r\n    <g id=\"patch_25\">\r\n     <path d=\"M 224.028125 41.976562 \r\nL 244.028125 41.976562 \r\nL 244.028125 34.976562 \r\nL 224.028125 34.976562 \r\nz\r\n\" style=\"fill:#ff7f0e;\"/>\r\n    </g>\r\n    <g id=\"text_20\">\r\n     <!-- Синтетические данные -->\r\n     <defs>\r\n      <path d=\"M 64.40625 67.28125 \r\nL 64.40625 56.890625 \r\nQ 59.421875 61.53125 53.78125 63.8125 \r\nQ 48.140625 66.109375 41.796875 66.109375 \r\nQ 29.296875 66.109375 22.65625 58.46875 \r\nQ 16.015625 50.828125 16.015625 36.375 \r\nQ 16.015625 21.96875 22.65625 14.328125 \r\nQ 29.296875 6.6875 41.796875 6.6875 \r\nQ 48.140625 6.6875 53.78125 8.984375 \r\nQ 59.421875 11.28125 64.40625 15.921875 \r\nL 64.40625 5.609375 \r\nQ 59.234375 2.09375 53.4375 0.328125 \r\nQ 47.65625 -1.421875 41.21875 -1.421875 \r\nQ 24.65625 -1.421875 15.125 8.703125 \r\nQ 5.609375 18.84375 5.609375 36.375 \r\nQ 5.609375 53.953125 15.125 64.078125 \r\nQ 24.65625 74.21875 41.21875 74.21875 \r\nQ 47.75 74.21875 53.53125 72.484375 \r\nQ 59.328125 70.75 64.40625 67.28125 \r\nz\r\n\" id=\"DejaVuSans-1057\"/>\r\n      <path d=\"M 55.90625 54.6875 \r\nL 55.90625 0 \r\nL 46.96875 0 \r\nL 46.96875 43.890625 \r\nL 20.609375 0 \r\nL 9.078125 0 \r\nL 9.078125 54.6875 \r\nL 18.015625 54.6875 \r\nL 18.015625 10.890625 \r\nL 44.34375 54.6875 \r\nz\r\n\" id=\"DejaVuSans-1080\"/>\r\n      <path d=\"M 2.9375 54.6875 \r\nL 55.328125 54.6875 \r\nL 55.328125 47.515625 \r\nL 33.546875 47.515625 \r\nL 33.546875 0 \r\nL 24.703125 0 \r\nL 24.703125 47.515625 \r\nL 2.9375 47.515625 \r\nz\r\n\" id=\"DejaVuSans-1090\"/>\r\n      <path d=\"M 41.015625 0 \r\nL 41.015625 23 \r\nL 24.265625 23 \r\nQ 16.796875 23 11.8125 27.640625 \r\nQ 7.328125 31.84375 7.328125 40.828125 \r\nL 7.328125 54.6875 \r\nL 16.3125 54.6875 \r\nL 16.3125 41.65625 \r\nQ 16.3125 35.9375 18.84375 33.0625 \r\nQ 21.4375 30.171875 26.515625 30.171875 \r\nL 41.015625 30.171875 \r\nL 41.015625 54.6875 \r\nL 50 54.6875 \r\nL 50 0 \r\nz\r\n\" id=\"DejaVuSans-1095\"/>\r\n      <path d=\"M 9.078125 54.6875 \r\nL 18.015625 54.6875 \r\nL 18.015625 29 \r\nL 43.359375 54.6875 \r\nL 54.390625 54.6875 \r\nL 33.5 33.546875 \r\nL 57.078125 0 \r\nL 47.015625 0 \r\nL 27.640625 27.59375 \r\nL 18.015625 17.828125 \r\nL 18.015625 0 \r\nL 9.078125 0 \r\nz\r\n\" id=\"DejaVuSans-1082\"/>\r\n     </defs>\r\n     <g transform=\"translate(252.028125 41.976562)scale(0.1 -0.1)\">\r\n      <use xlink:href=\"#DejaVuSans-1057\"/>\r\n      <use x=\"69.824219\" xlink:href=\"#DejaVuSans-1080\"/>\r\n      <use x=\"134.814453\" xlink:href=\"#DejaVuSans-1085\"/>\r\n      <use x=\"200.195312\" xlink:href=\"#DejaVuSans-1090\"/>\r\n      <use x=\"258.447266\" xlink:href=\"#DejaVuSans-1077\"/>\r\n      <use x=\"319.970703\" xlink:href=\"#DejaVuSans-1090\"/>\r\n      <use x=\"378.222656\" xlink:href=\"#DejaVuSans-1080\"/>\r\n      <use x=\"443.212891\" xlink:href=\"#DejaVuSans-1095\"/>\r\n      <use x=\"502.294922\" xlink:href=\"#DejaVuSans-1077\"/>\r\n      <use x=\"563.818359\" xlink:href=\"#DejaVuSans-1089\"/>\r\n      <use x=\"618.798828\" xlink:href=\"#DejaVuSans-1082\"/>\r\n      <use x=\"679.199219\" xlink:href=\"#DejaVuSans-1080\"/>\r\n      <use x=\"744.189453\" xlink:href=\"#DejaVuSans-1077\"/>\r\n      <use x=\"805.712891\" xlink:href=\"#DejaVuSans-32\"/>\r\n      <use x=\"837.5\" xlink:href=\"#DejaVuSans-1076\"/>\r\n      <use x=\"906.640625\" xlink:href=\"#DejaVuSans-1072\"/>\r\n      <use x=\"967.919922\" xlink:href=\"#DejaVuSans-1085\"/>\r\n      <use x=\"1033.300781\" xlink:href=\"#DejaVuSans-1085\"/>\r\n      <use x=\"1098.681641\" xlink:href=\"#DejaVuSans-1099\"/>\r\n      <use x=\"1177.636719\" xlink:href=\"#DejaVuSans-1077\"/>\r\n     </g>\r\n    </g>\r\n   </g>\r\n  </g>\r\n </g>\r\n <defs>\r\n  <clipPath id=\"p463c89005c\">\r\n   <rect height=\"217.44\" width=\"334.8\" x=\"50.14375\" y=\"10.7\"/>\r\n  </clipPath>\r\n </defs>\r\n</svg>\r\n",
      "image/png": "[encoded data removed]"
     },
     "metadata": {
      "needs_background": "light"
     }
    }
   ],
   "source": [
    "draw_comparative_hist('top1', data_filter, sample)"
   ]
  },
  {
   "cell_type": "code",
   "execution_count": 24,
   "metadata": {},
   "outputs": [
    {
     "output_type": "stream",
     "name": "stderr",
     "text": [
      "\n",
      "  0%|          | 0/1000000 [00:00<?, ?it/s]\n",
      "  0%|          | 1/1000000 [00:00<105:34:57,  2.63it/s]\n",
      "  0%|          | 4/1000000 [00:00<36:19:43,  7.65it/s] \n"
     ]
    }
   ],
   "source": [
    "start = time.time()\n",
    "bn1 = structure_learning(module1, 'K2', node_type1)"
   ]
  },
  {
   "cell_type": "code",
   "execution_count": 25,
   "metadata": {},
   "outputs": [
    {
     "output_type": "execute_result",
     "data": {
      "text/plain": [
       "{'V': ['age',\n",
       "  'sex',\n",
       "  'has_high_education',\n",
       "  'relation_status',\n",
       "  'number_of_relatives'],\n",
       " 'E': [['age', 'sex'],\n",
       "  ['has_high_education', 'number_of_relatives'],\n",
       "  ['has_high_education', 'age'],\n",
       "  ['relation_status', 'has_high_education'],\n",
       "  ['relation_status', 'age']]}"
      ]
     },
     "metadata": {},
     "execution_count": 25
    }
   ],
   "source": [
    "bn1"
   ]
  },
  {
   "cell_type": "code",
   "execution_count": 26,
   "metadata": {},
   "outputs": [
    {
     "output_type": "display_data",
     "data": {
      "text/plain": "<Figure size 2025x225 with 1 Axes>",
      "image/svg+xml": "<?xml version=\"1.0\" encoding=\"utf-8\" standalone=\"no\"?>\r\n<!DOCTYPE svg PUBLIC \"-//W3C//DTD SVG 1.1//EN\"\r\n  \"http://www.w3.org/Graphics/SVG/1.1/DTD/svg11.dtd\">\r\n<!-- Created with matplotlib (https://matplotlib.org/) -->\r\n<svg height=\"100.837344pt\" version=\"1.1\" viewBox=\"0 0 958.444687 100.837344\" width=\"958.444687pt\" xmlns=\"http://www.w3.org/2000/svg\" xmlns:xlink=\"http://www.w3.org/1999/xlink\">\r\n <defs>\r\n  <style type=\"text/css\">\r\n*{stroke-linecap:butt;stroke-linejoin:round;}\r\n  </style>\r\n </defs>\r\n <g id=\"figure_1\">\r\n  <g id=\"patch_1\">\r\n   <path d=\"M 0 100.837344 \r\nL 958.444687 100.837344 \r\nL 958.444687 0 \r\nL 0 0 \r\nz\r\n\" style=\"fill:none;\"/>\r\n  </g>\r\n  <g id=\"axes_1\">\r\n   <g id=\"legend_1\">\r\n    <g id=\"patch_2\">\r\n     <path d=\"M 460.780938 52.818281 \r\nL 512.615313 52.818281 \r\nQ 514.615313 52.818281 514.615313 50.818281 \r\nL 514.615313 37.140156 \r\nQ 514.615313 35.140156 512.615313 35.140156 \r\nL 460.780938 35.140156 \r\nQ 458.780938 35.140156 458.780938 37.140156 \r\nL 458.780938 50.818281 \r\nQ 458.780938 52.818281 460.780938 52.818281 \r\nz\r\n\" style=\"fill:#ffffff;opacity:0.8;stroke:#cccccc;stroke-linejoin:miter;\"/>\r\n    </g>\r\n    <g id=\"patch_3\">\r\n     <path d=\"M 462.780938 46.738594 \r\nL 482.780938 46.738594 \r\nL 482.780938 39.738594 \r\nL 462.780938 39.738594 \r\nz\r\n\" style=\"fill:#9467bd;stroke:#9467bd;stroke-linejoin:miter;\"/>\r\n    </g>\r\n    <g id=\"text_1\">\r\n     <!-- disc -->\r\n     <defs>\r\n      <path d=\"M 45.40625 46.390625 \r\nL 45.40625 75.984375 \r\nL 54.390625 75.984375 \r\nL 54.390625 0 \r\nL 45.40625 0 \r\nL 45.40625 8.203125 \r\nQ 42.578125 3.328125 38.25 0.953125 \r\nQ 33.9375 -1.421875 27.875 -1.421875 \r\nQ 17.96875 -1.421875 11.734375 6.484375 \r\nQ 5.515625 14.40625 5.515625 27.296875 \r\nQ 5.515625 40.1875 11.734375 48.09375 \r\nQ 17.96875 56 27.875 56 \r\nQ 33.9375 56 38.25 53.625 \r\nQ 42.578125 51.265625 45.40625 46.390625 \r\nz\r\nM 14.796875 27.296875 \r\nQ 14.796875 17.390625 18.875 11.75 \r\nQ 22.953125 6.109375 30.078125 6.109375 \r\nQ 37.203125 6.109375 41.296875 11.75 \r\nQ 45.40625 17.390625 45.40625 27.296875 \r\nQ 45.40625 37.203125 41.296875 42.84375 \r\nQ 37.203125 48.484375 30.078125 48.484375 \r\nQ 22.953125 48.484375 18.875 42.84375 \r\nQ 14.796875 37.203125 14.796875 27.296875 \r\nz\r\n\" id=\"DejaVuSans-100\"/>\r\n      <path d=\"M 9.421875 54.6875 \r\nL 18.40625 54.6875 \r\nL 18.40625 0 \r\nL 9.421875 0 \r\nz\r\nM 9.421875 75.984375 \r\nL 18.40625 75.984375 \r\nL 18.40625 64.59375 \r\nL 9.421875 64.59375 \r\nz\r\n\" id=\"DejaVuSans-105\"/>\r\n      <path d=\"M 44.28125 53.078125 \r\nL 44.28125 44.578125 \r\nQ 40.484375 46.53125 36.375 47.5 \r\nQ 32.28125 48.484375 27.875 48.484375 \r\nQ 21.1875 48.484375 17.84375 46.4375 \r\nQ 14.5 44.390625 14.5 40.28125 \r\nQ 14.5 37.15625 16.890625 35.375 \r\nQ 19.28125 33.59375 26.515625 31.984375 \r\nL 29.59375 31.296875 \r\nQ 39.15625 29.25 43.1875 25.515625 \r\nQ 47.21875 21.78125 47.21875 15.09375 \r\nQ 47.21875 7.46875 41.1875 3.015625 \r\nQ 35.15625 -1.421875 24.609375 -1.421875 \r\nQ 20.21875 -1.421875 15.453125 -0.5625 \r\nQ 10.6875 0.296875 5.421875 2 \r\nL 5.421875 11.28125 \r\nQ 10.40625 8.6875 15.234375 7.390625 \r\nQ 20.0625 6.109375 24.8125 6.109375 \r\nQ 31.15625 6.109375 34.5625 8.28125 \r\nQ 37.984375 10.453125 37.984375 14.40625 \r\nQ 37.984375 18.0625 35.515625 20.015625 \r\nQ 33.0625 21.96875 24.703125 23.78125 \r\nL 21.578125 24.515625 \r\nQ 13.234375 26.265625 9.515625 29.90625 \r\nQ 5.8125 33.546875 5.8125 39.890625 \r\nQ 5.8125 47.609375 11.28125 51.796875 \r\nQ 16.75 56 26.8125 56 \r\nQ 31.78125 56 36.171875 55.265625 \r\nQ 40.578125 54.546875 44.28125 53.078125 \r\nz\r\n\" id=\"DejaVuSans-115\"/>\r\n      <path d=\"M 48.78125 52.59375 \r\nL 48.78125 44.1875 \r\nQ 44.96875 46.296875 41.140625 47.34375 \r\nQ 37.3125 48.390625 33.40625 48.390625 \r\nQ 24.65625 48.390625 19.8125 42.84375 \r\nQ 14.984375 37.3125 14.984375 27.296875 \r\nQ 14.984375 17.28125 19.8125 11.734375 \r\nQ 24.65625 6.203125 33.40625 6.203125 \r\nQ 37.3125 6.203125 41.140625 7.25 \r\nQ 44.96875 8.296875 48.78125 10.40625 \r\nL 48.78125 2.09375 \r\nQ 45.015625 0.34375 40.984375 -0.53125 \r\nQ 36.96875 -1.421875 32.421875 -1.421875 \r\nQ 20.0625 -1.421875 12.78125 6.34375 \r\nQ 5.515625 14.109375 5.515625 27.296875 \r\nQ 5.515625 40.671875 12.859375 48.328125 \r\nQ 20.21875 56 33.015625 56 \r\nQ 37.15625 56 41.109375 55.140625 \r\nQ 45.0625 54.296875 48.78125 52.59375 \r\nz\r\n\" id=\"DejaVuSans-99\"/>\r\n     </defs>\r\n     <g transform=\"translate(490.780938 46.738594)scale(0.1 -0.1)\">\r\n      <use xlink:href=\"#DejaVuSans-100\"/>\r\n      <use x=\"63.476562\" xlink:href=\"#DejaVuSans-105\"/>\r\n      <use x=\"91.259766\" xlink:href=\"#DejaVuSans-115\"/>\r\n      <use x=\"143.359375\" xlink:href=\"#DejaVuSans-99\"/>\r\n     </g>\r\n    </g>\r\n   </g>\r\n  </g>\r\n </g>\r\n</svg>\r\n",
      "image/png": "[encoded data removed]"
     },
     "metadata": {
      "needs_background": "light"
     }
    },
    {
     "output_type": "execute_result",
     "data": {
      "text/plain": [
       "<IPython.lib.display.IFrame at 0xae440648d0>"
      ],
      "text/html": "\n        <iframe\n            width=\"100%\"\n            height=\"800px\"\n            src=\"visualization_result/module1.html\"\n            frameborder=\"0\"\n            allowfullscreen\n        ></iframe>\n        "
     },
     "metadata": {},
     "execution_count": 26
    }
   ],
   "source": [
    "visualizer(bn1, node_type1, 'module1')"
   ]
  },
  {
   "cell_type": "code",
   "execution_count": 27,
   "metadata": {
    "tags": []
   },
   "outputs": [],
   "source": [
    "#param1 = parameter_learning(data[['age',\t'sex',\t'has_high_education',\t'relation_status',\t'number_of_relatives']], node_type1, bn1)"
   ]
  },
  {
   "cell_type": "code",
   "execution_count": 28,
   "metadata": {},
   "outputs": [],
   "source": [
    "# save_structure(bn1, 'skel1')\n",
    "# skel1 = read_structure('skel1')\n",
    "# save_params(param1, 'params1')\n",
    "# params1 = read_params('params1')\n",
    "# hybn1 = HyBayesianNetwork(skel1, params1)"
   ]
  },
  {
   "cell_type": "code",
   "execution_count": 29,
   "metadata": {},
   "outputs": [
    {
     "output_type": "stream",
     "name": "stdout",
     "text": [
      "1.098844051361084\n"
     ]
    }
   ],
   "source": [
    "end = time.time()\n",
    "print(end - start)"
   ]
  },
  {
   "cell_type": "code",
   "execution_count": 30,
   "metadata": {},
   "outputs": [
    {
     "output_type": "stream",
     "name": "stderr",
     "text": [
      "\n",
      "  0%|          | 0/1000000 [00:00<?, ?it/s]\n",
      "  0%|          | 1/1000000 [00:00<86:57:45,  3.19it/s]\n",
      "  0%|          | 2/1000000 [00:00<57:55:53,  4.79it/s]\n",
      "  0%|          | 3/1000000 [00:00<49:27:19,  5.62it/s]"
     ]
    }
   ],
   "source": [
    "bn2 = structure_learning(module2, 'K2', node_type2)"
   ]
  },
  {
   "cell_type": "code",
   "execution_count": 31,
   "metadata": {},
   "outputs": [
    {
     "output_type": "execute_result",
     "data": {
      "text/plain": [
       "{'V': ['len_of_about',\n",
       "  'number_of_activities',\n",
       "  'number_of_books',\n",
       "  'number_of_interests',\n",
       "  'number_of_movies'],\n",
       " 'E': [['number_of_activities', 'number_of_interests'],\n",
       "  ['number_of_activities', 'len_of_about'],\n",
       "  ['number_of_interests', 'number_of_movies'],\n",
       "  ['number_of_movies', 'number_of_books']]}"
      ]
     },
     "metadata": {},
     "execution_count": 31
    }
   ],
   "source": [
    "bn2"
   ]
  },
  {
   "cell_type": "code",
   "execution_count": 32,
   "metadata": {},
   "outputs": [
    {
     "output_type": "display_data",
     "data": {
      "text/plain": "<Figure size 2025x225 with 1 Axes>",
      "image/svg+xml": "<?xml version=\"1.0\" encoding=\"utf-8\" standalone=\"no\"?>\r\n<!DOCTYPE svg PUBLIC \"-//W3C//DTD SVG 1.1//EN\"\r\n  \"http://www.w3.org/Graphics/SVG/1.1/DTD/svg11.dtd\">\r\n<!-- Created with matplotlib (https://matplotlib.org/) -->\r\n<svg height=\"100.837344pt\" version=\"1.1\" viewBox=\"0 0 958.444687 100.837344\" width=\"958.444687pt\" xmlns=\"http://www.w3.org/2000/svg\" xmlns:xlink=\"http://www.w3.org/1999/xlink\">\r\n <defs>\r\n  <style type=\"text/css\">\r\n*{stroke-linecap:butt;stroke-linejoin:round;}\r\n  </style>\r\n </defs>\r\n <g id=\"figure_1\">\r\n  <g id=\"patch_1\">\r\n   <path d=\"M 0 100.837344 \r\nL 958.444687 100.837344 \r\nL 958.444687 0 \r\nL 0 0 \r\nz\r\n\" style=\"fill:none;\"/>\r\n  </g>\r\n  <g id=\"axes_1\">\r\n   <g id=\"legend_1\">\r\n    <g id=\"patch_2\">\r\n     <path d=\"M 460.780938 52.818281 \r\nL 512.615313 52.818281 \r\nQ 514.615313 52.818281 514.615313 50.818281 \r\nL 514.615313 37.140156 \r\nQ 514.615313 35.140156 512.615313 35.140156 \r\nL 460.780938 35.140156 \r\nQ 458.780938 35.140156 458.780938 37.140156 \r\nL 458.780938 50.818281 \r\nQ 458.780938 52.818281 460.780938 52.818281 \r\nz\r\n\" style=\"fill:#ffffff;opacity:0.8;stroke:#cccccc;stroke-linejoin:miter;\"/>\r\n    </g>\r\n    <g id=\"patch_3\">\r\n     <path d=\"M 462.780938 46.738594 \r\nL 482.780938 46.738594 \r\nL 482.780938 39.738594 \r\nL 462.780938 39.738594 \r\nz\r\n\" style=\"fill:#9467bd;stroke:#9467bd;stroke-linejoin:miter;\"/>\r\n    </g>\r\n    <g id=\"text_1\">\r\n     <!-- disc -->\r\n     <defs>\r\n      <path d=\"M 45.40625 46.390625 \r\nL 45.40625 75.984375 \r\nL 54.390625 75.984375 \r\nL 54.390625 0 \r\nL 45.40625 0 \r\nL 45.40625 8.203125 \r\nQ 42.578125 3.328125 38.25 0.953125 \r\nQ 33.9375 -1.421875 27.875 -1.421875 \r\nQ 17.96875 -1.421875 11.734375 6.484375 \r\nQ 5.515625 14.40625 5.515625 27.296875 \r\nQ 5.515625 40.1875 11.734375 48.09375 \r\nQ 17.96875 56 27.875 56 \r\nQ 33.9375 56 38.25 53.625 \r\nQ 42.578125 51.265625 45.40625 46.390625 \r\nz\r\nM 14.796875 27.296875 \r\nQ 14.796875 17.390625 18.875 11.75 \r\nQ 22.953125 6.109375 30.078125 6.109375 \r\nQ 37.203125 6.109375 41.296875 11.75 \r\nQ 45.40625 17.390625 45.40625 27.296875 \r\nQ 45.40625 37.203125 41.296875 42.84375 \r\nQ 37.203125 48.484375 30.078125 48.484375 \r\nQ 22.953125 48.484375 18.875 42.84375 \r\nQ 14.796875 37.203125 14.796875 27.296875 \r\nz\r\n\" id=\"DejaVuSans-100\"/>\r\n      <path d=\"M 9.421875 54.6875 \r\nL 18.40625 54.6875 \r\nL 18.40625 0 \r\nL 9.421875 0 \r\nz\r\nM 9.421875 75.984375 \r\nL 18.40625 75.984375 \r\nL 18.40625 64.59375 \r\nL 9.421875 64.59375 \r\nz\r\n\" id=\"DejaVuSans-105\"/>\r\n      <path d=\"M 44.28125 53.078125 \r\nL 44.28125 44.578125 \r\nQ 40.484375 46.53125 36.375 47.5 \r\nQ 32.28125 48.484375 27.875 48.484375 \r\nQ 21.1875 48.484375 17.84375 46.4375 \r\nQ 14.5 44.390625 14.5 40.28125 \r\nQ 14.5 37.15625 16.890625 35.375 \r\nQ 19.28125 33.59375 26.515625 31.984375 \r\nL 29.59375 31.296875 \r\nQ 39.15625 29.25 43.1875 25.515625 \r\nQ 47.21875 21.78125 47.21875 15.09375 \r\nQ 47.21875 7.46875 41.1875 3.015625 \r\nQ 35.15625 -1.421875 24.609375 -1.421875 \r\nQ 20.21875 -1.421875 15.453125 -0.5625 \r\nQ 10.6875 0.296875 5.421875 2 \r\nL 5.421875 11.28125 \r\nQ 10.40625 8.6875 15.234375 7.390625 \r\nQ 20.0625 6.109375 24.8125 6.109375 \r\nQ 31.15625 6.109375 34.5625 8.28125 \r\nQ 37.984375 10.453125 37.984375 14.40625 \r\nQ 37.984375 18.0625 35.515625 20.015625 \r\nQ 33.0625 21.96875 24.703125 23.78125 \r\nL 21.578125 24.515625 \r\nQ 13.234375 26.265625 9.515625 29.90625 \r\nQ 5.8125 33.546875 5.8125 39.890625 \r\nQ 5.8125 47.609375 11.28125 51.796875 \r\nQ 16.75 56 26.8125 56 \r\nQ 31.78125 56 36.171875 55.265625 \r\nQ 40.578125 54.546875 44.28125 53.078125 \r\nz\r\n\" id=\"DejaVuSans-115\"/>\r\n      <path d=\"M 48.78125 52.59375 \r\nL 48.78125 44.1875 \r\nQ 44.96875 46.296875 41.140625 47.34375 \r\nQ 37.3125 48.390625 33.40625 48.390625 \r\nQ 24.65625 48.390625 19.8125 42.84375 \r\nQ 14.984375 37.3125 14.984375 27.296875 \r\nQ 14.984375 17.28125 19.8125 11.734375 \r\nQ 24.65625 6.203125 33.40625 6.203125 \r\nQ 37.3125 6.203125 41.140625 7.25 \r\nQ 44.96875 8.296875 48.78125 10.40625 \r\nL 48.78125 2.09375 \r\nQ 45.015625 0.34375 40.984375 -0.53125 \r\nQ 36.96875 -1.421875 32.421875 -1.421875 \r\nQ 20.0625 -1.421875 12.78125 6.34375 \r\nQ 5.515625 14.109375 5.515625 27.296875 \r\nQ 5.515625 40.671875 12.859375 48.328125 \r\nQ 20.21875 56 33.015625 56 \r\nQ 37.15625 56 41.109375 55.140625 \r\nQ 45.0625 54.296875 48.78125 52.59375 \r\nz\r\n\" id=\"DejaVuSans-99\"/>\r\n     </defs>\r\n     <g transform=\"translate(490.780938 46.738594)scale(0.1 -0.1)\">\r\n      <use xlink:href=\"#DejaVuSans-100\"/>\r\n      <use x=\"63.476562\" xlink:href=\"#DejaVuSans-105\"/>\r\n      <use x=\"91.259766\" xlink:href=\"#DejaVuSans-115\"/>\r\n      <use x=\"143.359375\" xlink:href=\"#DejaVuSans-99\"/>\r\n     </g>\r\n    </g>\r\n   </g>\r\n  </g>\r\n </g>\r\n</svg>\r\n",
      "image/png": "[encoded data removed]"
     },
     "metadata": {
      "needs_background": "light"
     }
    },
    {
     "output_type": "execute_result",
     "data": {
      "text/plain": [
       "<IPython.lib.display.IFrame at 0xaf5df5bd30>"
      ],
      "text/html": "\n        <iframe\n            width=\"100%\"\n            height=\"800px\"\n            src=\"visualization_result/module2.html\"\n            frameborder=\"0\"\n            allowfullscreen\n        ></iframe>\n        "
     },
     "metadata": {},
     "execution_count": 32
    }
   ],
   "source": [
    "visualizer(bn2, node_type2, 'module2')"
   ]
  },
  {
   "cell_type": "code",
   "execution_count": 33,
   "metadata": {},
   "outputs": [],
   "source": [
    "#param2 = parameter_learning(data[['len_of_about',\t'number_of_activities',\t'number_of_books',\t'number_of_interests',\t'number_of_movies']], node_type2, bn2)"
   ]
  },
  {
   "cell_type": "code",
   "execution_count": 34,
   "metadata": {},
   "outputs": [],
   "source": [
    "# save_structure(bn2, 'skel2')\n",
    "# skel2 = read_structure('skel2')\n",
    "# save_params(param2, 'params2')\n",
    "# params2 = read_params('params2')\n",
    "# hybn2 = HyBayesianNetwork(skel2, params2)\n"
   ]
  },
  {
   "cell_type": "code",
   "execution_count": 35,
   "metadata": {},
   "outputs": [
    {
     "output_type": "stream",
     "name": "stdout",
     "text": [
      "2.421198844909668\n"
     ]
    }
   ],
   "source": [
    "end = time.time()\n",
    "print(end - start)"
   ]
  },
  {
   "cell_type": "code",
   "execution_count": 36,
   "metadata": {},
   "outputs": [],
   "source": [
    "# node_type_final = {**node_type1, **node_type2}\n",
    "# hybn_connect = direct_connect([bn1,bn2],new_data, node_type_final)\n",
    "# hybn_final = direct_train([bn1,bn2], data, hybn_connect)"
   ]
  },
  {
   "cell_type": "code",
   "execution_count": 37,
   "metadata": {},
   "outputs": [],
   "source": [
    "# end = time.time()\n",
    "# print(end - start)"
   ]
  },
  {
   "cell_type": "code",
   "execution_count": 38,
   "metadata": {},
   "outputs": [
    {
     "output_type": "stream",
     "name": "stderr",
     "text": [
      "\n",
      "\n",
      "  0%|          | 0/1000000 [00:00<?, ?it/s]\n",
      "\n",
      "  0%|          | 1/1000000 [00:00<54:10:48,  5.13it/s]\n",
      "\n",
      "  0%|          | 5/1000000 [00:00<17:06:55, 16.23it/s]\n",
      "\n"
     ]
    },
    {
     "output_type": "execute_result",
     "data": {
      "text/plain": [
       "{'V': ['top1', 'top2', 'top3', 'top4'],\n",
       " 'E': [['top1', 'top2'],\n",
       "  ['top1', 'top4'],\n",
       "  ['top1', 'top3'],\n",
       "  ['top2', 'top4'],\n",
       "  ['top2', 'top3'],\n",
       "  ['top3', 'top4']]}"
      ]
     },
     "metadata": {},
     "execution_count": 38
    }
   ],
   "source": [
    "bn3 = structure_learning(module3, 'K2', node_type3)\n",
    "bn3"
   ]
  },
  {
   "cell_type": "code",
   "execution_count": 39,
   "metadata": {},
   "outputs": [
    {
     "output_type": "display_data",
     "data": {
      "text/plain": "<Figure size 2025x225 with 1 Axes>",
      "image/svg+xml": "<?xml version=\"1.0\" encoding=\"utf-8\" standalone=\"no\"?>\r\n<!DOCTYPE svg PUBLIC \"-//W3C//DTD SVG 1.1//EN\"\r\n  \"http://www.w3.org/Graphics/SVG/1.1/DTD/svg11.dtd\">\r\n<!-- Created with matplotlib (https://matplotlib.org/) -->\r\n<svg height=\"100.837344pt\" version=\"1.1\" viewBox=\"0 0 958.444687 100.837344\" width=\"958.444687pt\" xmlns=\"http://www.w3.org/2000/svg\" xmlns:xlink=\"http://www.w3.org/1999/xlink\">\r\n <defs>\r\n  <style type=\"text/css\">\r\n*{stroke-linecap:butt;stroke-linejoin:round;}\r\n  </style>\r\n </defs>\r\n <g id=\"figure_1\">\r\n  <g id=\"patch_1\">\r\n   <path d=\"M 0 100.837344 \r\nL 958.444687 100.837344 \r\nL 958.444687 0 \r\nL 0 0 \r\nz\r\n\" style=\"fill:none;\"/>\r\n  </g>\r\n  <g id=\"axes_1\">\r\n   <g id=\"legend_1\">\r\n    <g id=\"patch_2\">\r\n     <path d=\"M 460.780938 52.818281 \r\nL 512.615313 52.818281 \r\nQ 514.615313 52.818281 514.615313 50.818281 \r\nL 514.615313 37.140156 \r\nQ 514.615313 35.140156 512.615313 35.140156 \r\nL 460.780938 35.140156 \r\nQ 458.780938 35.140156 458.780938 37.140156 \r\nL 458.780938 50.818281 \r\nQ 458.780938 52.818281 460.780938 52.818281 \r\nz\r\n\" style=\"fill:#ffffff;opacity:0.8;stroke:#cccccc;stroke-linejoin:miter;\"/>\r\n    </g>\r\n    <g id=\"patch_3\">\r\n     <path d=\"M 462.780938 46.738594 \r\nL 482.780938 46.738594 \r\nL 482.780938 39.738594 \r\nL 462.780938 39.738594 \r\nz\r\n\" style=\"fill:#d62728;stroke:#d62728;stroke-linejoin:miter;\"/>\r\n    </g>\r\n    <g id=\"text_1\">\r\n     <!-- disc -->\r\n     <defs>\r\n      <path d=\"M 45.40625 46.390625 \r\nL 45.40625 75.984375 \r\nL 54.390625 75.984375 \r\nL 54.390625 0 \r\nL 45.40625 0 \r\nL 45.40625 8.203125 \r\nQ 42.578125 3.328125 38.25 0.953125 \r\nQ 33.9375 -1.421875 27.875 -1.421875 \r\nQ 17.96875 -1.421875 11.734375 6.484375 \r\nQ 5.515625 14.40625 5.515625 27.296875 \r\nQ 5.515625 40.1875 11.734375 48.09375 \r\nQ 17.96875 56 27.875 56 \r\nQ 33.9375 56 38.25 53.625 \r\nQ 42.578125 51.265625 45.40625 46.390625 \r\nz\r\nM 14.796875 27.296875 \r\nQ 14.796875 17.390625 18.875 11.75 \r\nQ 22.953125 6.109375 30.078125 6.109375 \r\nQ 37.203125 6.109375 41.296875 11.75 \r\nQ 45.40625 17.390625 45.40625 27.296875 \r\nQ 45.40625 37.203125 41.296875 42.84375 \r\nQ 37.203125 48.484375 30.078125 48.484375 \r\nQ 22.953125 48.484375 18.875 42.84375 \r\nQ 14.796875 37.203125 14.796875 27.296875 \r\nz\r\n\" id=\"DejaVuSans-100\"/>\r\n      <path d=\"M 9.421875 54.6875 \r\nL 18.40625 54.6875 \r\nL 18.40625 0 \r\nL 9.421875 0 \r\nz\r\nM 9.421875 75.984375 \r\nL 18.40625 75.984375 \r\nL 18.40625 64.59375 \r\nL 9.421875 64.59375 \r\nz\r\n\" id=\"DejaVuSans-105\"/>\r\n      <path d=\"M 44.28125 53.078125 \r\nL 44.28125 44.578125 \r\nQ 40.484375 46.53125 36.375 47.5 \r\nQ 32.28125 48.484375 27.875 48.484375 \r\nQ 21.1875 48.484375 17.84375 46.4375 \r\nQ 14.5 44.390625 14.5 40.28125 \r\nQ 14.5 37.15625 16.890625 35.375 \r\nQ 19.28125 33.59375 26.515625 31.984375 \r\nL 29.59375 31.296875 \r\nQ 39.15625 29.25 43.1875 25.515625 \r\nQ 47.21875 21.78125 47.21875 15.09375 \r\nQ 47.21875 7.46875 41.1875 3.015625 \r\nQ 35.15625 -1.421875 24.609375 -1.421875 \r\nQ 20.21875 -1.421875 15.453125 -0.5625 \r\nQ 10.6875 0.296875 5.421875 2 \r\nL 5.421875 11.28125 \r\nQ 10.40625 8.6875 15.234375 7.390625 \r\nQ 20.0625 6.109375 24.8125 6.109375 \r\nQ 31.15625 6.109375 34.5625 8.28125 \r\nQ 37.984375 10.453125 37.984375 14.40625 \r\nQ 37.984375 18.0625 35.515625 20.015625 \r\nQ 33.0625 21.96875 24.703125 23.78125 \r\nL 21.578125 24.515625 \r\nQ 13.234375 26.265625 9.515625 29.90625 \r\nQ 5.8125 33.546875 5.8125 39.890625 \r\nQ 5.8125 47.609375 11.28125 51.796875 \r\nQ 16.75 56 26.8125 56 \r\nQ 31.78125 56 36.171875 55.265625 \r\nQ 40.578125 54.546875 44.28125 53.078125 \r\nz\r\n\" id=\"DejaVuSans-115\"/>\r\n      <path d=\"M 48.78125 52.59375 \r\nL 48.78125 44.1875 \r\nQ 44.96875 46.296875 41.140625 47.34375 \r\nQ 37.3125 48.390625 33.40625 48.390625 \r\nQ 24.65625 48.390625 19.8125 42.84375 \r\nQ 14.984375 37.3125 14.984375 27.296875 \r\nQ 14.984375 17.28125 19.8125 11.734375 \r\nQ 24.65625 6.203125 33.40625 6.203125 \r\nQ 37.3125 6.203125 41.140625 7.25 \r\nQ 44.96875 8.296875 48.78125 10.40625 \r\nL 48.78125 2.09375 \r\nQ 45.015625 0.34375 40.984375 -0.53125 \r\nQ 36.96875 -1.421875 32.421875 -1.421875 \r\nQ 20.0625 -1.421875 12.78125 6.34375 \r\nQ 5.515625 14.109375 5.515625 27.296875 \r\nQ 5.515625 40.671875 12.859375 48.328125 \r\nQ 20.21875 56 33.015625 56 \r\nQ 37.15625 56 41.109375 55.140625 \r\nQ 45.0625 54.296875 48.78125 52.59375 \r\nz\r\n\" id=\"DejaVuSans-99\"/>\r\n     </defs>\r\n     <g transform=\"translate(490.780938 46.738594)scale(0.1 -0.1)\">\r\n      <use xlink:href=\"#DejaVuSans-100\"/>\r\n      <use x=\"63.476562\" xlink:href=\"#DejaVuSans-105\"/>\r\n      <use x=\"91.259766\" xlink:href=\"#DejaVuSans-115\"/>\r\n      <use x=\"143.359375\" xlink:href=\"#DejaVuSans-99\"/>\r\n     </g>\r\n    </g>\r\n   </g>\r\n  </g>\r\n </g>\r\n</svg>\r\n",
      "image/png": "[encoded data removed]"
     },
     "metadata": {
      "needs_background": "light"
     }
    },
    {
     "output_type": "execute_result",
     "data": {
      "text/plain": [
       "<IPython.lib.display.IFrame at 0xaf5e3741d0>"
      ],
      "text/html": "\n        <iframe\n            width=\"100%\"\n            height=\"800px\"\n            src=\"visualization_result/module3.html\"\n            frameborder=\"0\"\n            allowfullscreen\n        ></iframe>\n        "
     },
     "metadata": {},
     "execution_count": 39
    }
   ],
   "source": [
    "visualizer(bn3, node_type3, 'module3')"
   ]
  },
  {
   "cell_type": "code",
   "execution_count": 40,
   "metadata": {},
   "outputs": [],
   "source": [
    "#param3 = parameter_learning(data[['top1', 'top2', 'top3', 'top4']], node_type3, bn3)"
   ]
  },
  {
   "cell_type": "code",
   "execution_count": 41,
   "metadata": {},
   "outputs": [],
   "source": [
    "# save_structure(bn3, 'skel3')\n",
    "# skel3 = read_structure('skel3')\n",
    "# save_params(param3, 'params3')\n",
    "# params3 = read_params('params3')\n",
    "# hybn3 = HyBayesianNetwork(skel3, params3)"
   ]
  },
  {
   "cell_type": "code",
   "execution_count": 42,
   "metadata": {},
   "outputs": [
    {
     "output_type": "stream",
     "name": "stdout",
     "text": [
      "3.4464473724365234\n"
     ]
    }
   ],
   "source": [
    "end = time.time()\n",
    "print(end - start)"
   ]
  },
  {
   "cell_type": "code",
   "execution_count": 43,
   "metadata": {},
   "outputs": [],
   "source": [
    "# node_type_final = {**node_type1, **node_type2,  **node_type3}\n",
    "# hybn_connect = direct_connect([bn1,bn2, bn3],new_data, node_type_final)\n",
    "# hybn_final = direct_train([bn1,bn2, bn3], data, hybn_connect)"
   ]
  },
  {
   "cell_type": "code",
   "execution_count": 44,
   "metadata": {},
   "outputs": [],
   "source": [
    "# end = time.time()\n",
    "# print(end - start)"
   ]
  },
  {
   "cell_type": "code",
   "execution_count": 45,
   "metadata": {},
   "outputs": [
    {
     "output_type": "stream",
     "name": "stderr",
     "text": [
      "\n",
      "\n",
      "  0%|          | 0/1000000 [00:00<?, ?it/s]\n",
      "\n",
      "  0%|          | 1/1000000 [00:00<90:51:41,  3.06it/s]\n",
      "\n",
      "  0%|          | 3/1000000 [00:00<53:26:28,  5.20it/s]\n",
      "\n",
      "  0%|          | 5/1000000 [00:00<52:07:30,  5.33it/s]\n",
      "\n"
     ]
    },
    {
     "output_type": "execute_result",
     "data": {
      "text/plain": [
       "{'V': ['nodes',\n",
       "  'betweenness_centrality',\n",
       "  'eigenvector_centrality',\n",
       "  'density',\n",
       "  'degree_assortativity_coefficient'],\n",
       " 'E': [['nodes', 'degree_assortativity_coefficient'],\n",
       "  ['nodes', 'density'],\n",
       "  ['betweenness_centrality', 'density'],\n",
       "  ['eigenvector_centrality', 'betweenness_centrality'],\n",
       "  ['degree_assortativity_coefficient', 'eigenvector_centrality'],\n",
       "  ['degree_assortativity_coefficient', 'betweenness_centrality']]}"
      ]
     },
     "metadata": {},
     "execution_count": 45
    }
   ],
   "source": [
    "bn4 = structure_learning(module4, 'K2', node_type4)\n",
    "bn4"
   ]
  },
  {
   "cell_type": "code",
   "execution_count": 46,
   "metadata": {},
   "outputs": [
    {
     "output_type": "display_data",
     "data": {
      "text/plain": "<Figure size 2025x225 with 1 Axes>",
      "image/svg+xml": "<?xml version=\"1.0\" encoding=\"utf-8\" standalone=\"no\"?>\r\n<!DOCTYPE svg PUBLIC \"-//W3C//DTD SVG 1.1//EN\"\r\n  \"http://www.w3.org/Graphics/SVG/1.1/DTD/svg11.dtd\">\r\n<!-- Created with matplotlib (https://matplotlib.org/) -->\r\n<svg height=\"100.837344pt\" version=\"1.1\" viewBox=\"0 0 958.444687 100.837344\" width=\"958.444687pt\" xmlns=\"http://www.w3.org/2000/svg\" xmlns:xlink=\"http://www.w3.org/1999/xlink\">\r\n <defs>\r\n  <style type=\"text/css\">\r\n*{stroke-linecap:butt;stroke-linejoin:round;}\r\n  </style>\r\n </defs>\r\n <g id=\"figure_1\">\r\n  <g id=\"patch_1\">\r\n   <path d=\"M 0 100.837344 \r\nL 958.444687 100.837344 \r\nL 958.444687 0 \r\nL 0 0 \r\nz\r\n\" style=\"fill:none;\"/>\r\n  </g>\r\n  <g id=\"axes_1\">\r\n   <g id=\"legend_1\">\r\n    <g id=\"patch_2\">\r\n     <path d=\"M 425.843438 52.818281 \r\nL 547.552813 52.818281 \r\nQ 549.552813 52.818281 549.552813 50.818281 \r\nL 549.552813 37.140156 \r\nQ 549.552813 35.140156 547.552813 35.140156 \r\nL 425.843438 35.140156 \r\nQ 423.843438 35.140156 423.843438 37.140156 \r\nL 423.843438 50.818281 \r\nQ 423.843438 52.818281 425.843438 52.818281 \r\nz\r\n\" style=\"fill:#ffffff;opacity:0.8;stroke:#cccccc;stroke-linejoin:miter;\"/>\r\n    </g>\r\n    <g id=\"patch_3\">\r\n     <path d=\"M 427.843438 46.738594 \r\nL 447.843438 46.738594 \r\nL 447.843438 39.738594 \r\nL 427.843438 39.738594 \r\nz\r\n\" style=\"fill:#1f77b4;stroke:#1f77b4;stroke-linejoin:miter;\"/>\r\n    </g>\r\n    <g id=\"text_1\">\r\n     <!-- disc -->\r\n     <defs>\r\n      <path d=\"M 45.40625 46.390625 \r\nL 45.40625 75.984375 \r\nL 54.390625 75.984375 \r\nL 54.390625 0 \r\nL 45.40625 0 \r\nL 45.40625 8.203125 \r\nQ 42.578125 3.328125 38.25 0.953125 \r\nQ 33.9375 -1.421875 27.875 -1.421875 \r\nQ 17.96875 -1.421875 11.734375 6.484375 \r\nQ 5.515625 14.40625 5.515625 27.296875 \r\nQ 5.515625 40.1875 11.734375 48.09375 \r\nQ 17.96875 56 27.875 56 \r\nQ 33.9375 56 38.25 53.625 \r\nQ 42.578125 51.265625 45.40625 46.390625 \r\nz\r\nM 14.796875 27.296875 \r\nQ 14.796875 17.390625 18.875 11.75 \r\nQ 22.953125 6.109375 30.078125 6.109375 \r\nQ 37.203125 6.109375 41.296875 11.75 \r\nQ 45.40625 17.390625 45.40625 27.296875 \r\nQ 45.40625 37.203125 41.296875 42.84375 \r\nQ 37.203125 48.484375 30.078125 48.484375 \r\nQ 22.953125 48.484375 18.875 42.84375 \r\nQ 14.796875 37.203125 14.796875 27.296875 \r\nz\r\n\" id=\"DejaVuSans-100\"/>\r\n      <path d=\"M 9.421875 54.6875 \r\nL 18.40625 54.6875 \r\nL 18.40625 0 \r\nL 9.421875 0 \r\nz\r\nM 9.421875 75.984375 \r\nL 18.40625 75.984375 \r\nL 18.40625 64.59375 \r\nL 9.421875 64.59375 \r\nz\r\n\" id=\"DejaVuSans-105\"/>\r\n      <path d=\"M 44.28125 53.078125 \r\nL 44.28125 44.578125 \r\nQ 40.484375 46.53125 36.375 47.5 \r\nQ 32.28125 48.484375 27.875 48.484375 \r\nQ 21.1875 48.484375 17.84375 46.4375 \r\nQ 14.5 44.390625 14.5 40.28125 \r\nQ 14.5 37.15625 16.890625 35.375 \r\nQ 19.28125 33.59375 26.515625 31.984375 \r\nL 29.59375 31.296875 \r\nQ 39.15625 29.25 43.1875 25.515625 \r\nQ 47.21875 21.78125 47.21875 15.09375 \r\nQ 47.21875 7.46875 41.1875 3.015625 \r\nQ 35.15625 -1.421875 24.609375 -1.421875 \r\nQ 20.21875 -1.421875 15.453125 -0.5625 \r\nQ 10.6875 0.296875 5.421875 2 \r\nL 5.421875 11.28125 \r\nQ 10.40625 8.6875 15.234375 7.390625 \r\nQ 20.0625 6.109375 24.8125 6.109375 \r\nQ 31.15625 6.109375 34.5625 8.28125 \r\nQ 37.984375 10.453125 37.984375 14.40625 \r\nQ 37.984375 18.0625 35.515625 20.015625 \r\nQ 33.0625 21.96875 24.703125 23.78125 \r\nL 21.578125 24.515625 \r\nQ 13.234375 26.265625 9.515625 29.90625 \r\nQ 5.8125 33.546875 5.8125 39.890625 \r\nQ 5.8125 47.609375 11.28125 51.796875 \r\nQ 16.75 56 26.8125 56 \r\nQ 31.78125 56 36.171875 55.265625 \r\nQ 40.578125 54.546875 44.28125 53.078125 \r\nz\r\n\" id=\"DejaVuSans-115\"/>\r\n      <path d=\"M 48.78125 52.59375 \r\nL 48.78125 44.1875 \r\nQ 44.96875 46.296875 41.140625 47.34375 \r\nQ 37.3125 48.390625 33.40625 48.390625 \r\nQ 24.65625 48.390625 19.8125 42.84375 \r\nQ 14.984375 37.3125 14.984375 27.296875 \r\nQ 14.984375 17.28125 19.8125 11.734375 \r\nQ 24.65625 6.203125 33.40625 6.203125 \r\nQ 37.3125 6.203125 41.140625 7.25 \r\nQ 44.96875 8.296875 48.78125 10.40625 \r\nL 48.78125 2.09375 \r\nQ 45.015625 0.34375 40.984375 -0.53125 \r\nQ 36.96875 -1.421875 32.421875 -1.421875 \r\nQ 20.0625 -1.421875 12.78125 6.34375 \r\nQ 5.515625 14.109375 5.515625 27.296875 \r\nQ 5.515625 40.671875 12.859375 48.328125 \r\nQ 20.21875 56 33.015625 56 \r\nQ 37.15625 56 41.109375 55.140625 \r\nQ 45.0625 54.296875 48.78125 52.59375 \r\nz\r\n\" id=\"DejaVuSans-99\"/>\r\n     </defs>\r\n     <g transform=\"translate(455.843438 46.738594)scale(0.1 -0.1)\">\r\n      <use xlink:href=\"#DejaVuSans-100\"/>\r\n      <use x=\"63.476562\" xlink:href=\"#DejaVuSans-105\"/>\r\n      <use x=\"91.259766\" xlink:href=\"#DejaVuSans-115\"/>\r\n      <use x=\"143.359375\" xlink:href=\"#DejaVuSans-99\"/>\r\n     </g>\r\n    </g>\r\n    <g id=\"patch_4\">\r\n     <path d=\"M 495.677813 46.738594 \r\nL 515.677813 46.738594 \r\nL 515.677813 39.738594 \r\nL 495.677813 39.738594 \r\nz\r\n\" style=\"fill:#9467bd;stroke:#9467bd;stroke-linejoin:miter;\"/>\r\n    </g>\r\n    <g id=\"text_2\">\r\n     <!-- cont -->\r\n     <defs>\r\n      <path d=\"M 30.609375 48.390625 \r\nQ 23.390625 48.390625 19.1875 42.75 \r\nQ 14.984375 37.109375 14.984375 27.296875 \r\nQ 14.984375 17.484375 19.15625 11.84375 \r\nQ 23.34375 6.203125 30.609375 6.203125 \r\nQ 37.796875 6.203125 41.984375 11.859375 \r\nQ 46.1875 17.53125 46.1875 27.296875 \r\nQ 46.1875 37.015625 41.984375 42.703125 \r\nQ 37.796875 48.390625 30.609375 48.390625 \r\nz\r\nM 30.609375 56 \r\nQ 42.328125 56 49.015625 48.375 \r\nQ 55.71875 40.765625 55.71875 27.296875 \r\nQ 55.71875 13.875 49.015625 6.21875 \r\nQ 42.328125 -1.421875 30.609375 -1.421875 \r\nQ 18.84375 -1.421875 12.171875 6.21875 \r\nQ 5.515625 13.875 5.515625 27.296875 \r\nQ 5.515625 40.765625 12.171875 48.375 \r\nQ 18.84375 56 30.609375 56 \r\nz\r\n\" id=\"DejaVuSans-111\"/>\r\n      <path d=\"M 54.890625 33.015625 \r\nL 54.890625 0 \r\nL 45.90625 0 \r\nL 45.90625 32.71875 \r\nQ 45.90625 40.484375 42.875 44.328125 \r\nQ 39.84375 48.1875 33.796875 48.1875 \r\nQ 26.515625 48.1875 22.3125 43.546875 \r\nQ 18.109375 38.921875 18.109375 30.90625 \r\nL 18.109375 0 \r\nL 9.078125 0 \r\nL 9.078125 54.6875 \r\nL 18.109375 54.6875 \r\nL 18.109375 46.1875 \r\nQ 21.34375 51.125 25.703125 53.5625 \r\nQ 30.078125 56 35.796875 56 \r\nQ 45.21875 56 50.046875 50.171875 \r\nQ 54.890625 44.34375 54.890625 33.015625 \r\nz\r\n\" id=\"DejaVuSans-110\"/>\r\n      <path d=\"M 18.3125 70.21875 \r\nL 18.3125 54.6875 \r\nL 36.8125 54.6875 \r\nL 36.8125 47.703125 \r\nL 18.3125 47.703125 \r\nL 18.3125 18.015625 \r\nQ 18.3125 11.328125 20.140625 9.421875 \r\nQ 21.96875 7.515625 27.59375 7.515625 \r\nL 36.8125 7.515625 \r\nL 36.8125 0 \r\nL 27.59375 0 \r\nQ 17.1875 0 13.234375 3.875 \r\nQ 9.28125 7.765625 9.28125 18.015625 \r\nL 9.28125 47.703125 \r\nL 2.6875 47.703125 \r\nL 2.6875 54.6875 \r\nL 9.28125 54.6875 \r\nL 9.28125 70.21875 \r\nz\r\n\" id=\"DejaVuSans-116\"/>\r\n     </defs>\r\n     <g transform=\"translate(523.677813 46.738594)scale(0.1 -0.1)\">\r\n      <use xlink:href=\"#DejaVuSans-99\"/>\r\n      <use x=\"54.980469\" xlink:href=\"#DejaVuSans-111\"/>\r\n      <use x=\"116.162109\" xlink:href=\"#DejaVuSans-110\"/>\r\n      <use x=\"179.541016\" xlink:href=\"#DejaVuSans-116\"/>\r\n     </g>\r\n    </g>\r\n   </g>\r\n  </g>\r\n </g>\r\n</svg>\r\n",
      "image/png": "[encoded data removed]"
     },
     "metadata": {
      "needs_background": "light"
     }
    },
    {
     "output_type": "execute_result",
     "data": {
      "text/plain": [
       "<IPython.lib.display.IFrame at 0xae0f0e2b00>"
      ],
      "text/html": "\n        <iframe\n            width=\"100%\"\n            height=\"800px\"\n            src=\"visualization_result/module4.html\"\n            frameborder=\"0\"\n            allowfullscreen\n        ></iframe>\n        "
     },
     "metadata": {},
     "execution_count": 46
    }
   ],
   "source": [
    "visualizer(bn4, node_type4, 'module4')"
   ]
  },
  {
   "cell_type": "code",
   "execution_count": 47,
   "metadata": {},
   "outputs": [],
   "source": [
    "# param4 = parameter_learning(data[['nodes',\t'betweenness_centrality',\t'eigenvector_centrality', 'density', 'degree_assortativity_coefficient']], node_type4, bn4)"
   ]
  },
  {
   "cell_type": "code",
   "execution_count": 48,
   "metadata": {},
   "outputs": [],
   "source": [
    "# save_structure(bn4, 'skel4')\n",
    "# skel4 = read_structure('skel4')\n",
    "# save_params(param4, 'params4')\n",
    "# params4 = read_params('params4')\n",
    "# hybn4 = HyBayesianNetwork(skel4, params4)"
   ]
  },
  {
   "cell_type": "code",
   "execution_count": 49,
   "metadata": {},
   "outputs": [
    {
     "output_type": "stream",
     "name": "stdout",
     "text": [
      "5.370755910873413\n"
     ]
    }
   ],
   "source": [
    "end = time.time()\n",
    "print(end - start)"
   ]
  },
  {
   "cell_type": "code",
   "execution_count": 50,
   "metadata": {},
   "outputs": [],
   "source": [
    "# node_type_final = {**node_type1, **node_type2,  **node_type3, **node_type4}\n",
    "# hybn_connect = direct_connect([bn1,bn2, bn3, bn4],new_data, node_type_final)\n",
    "# hybn_final = direct_train([bn1,bn2, bn3, bn4], data, hybn_connect)"
   ]
  },
  {
   "cell_type": "code",
   "execution_count": 51,
   "metadata": {},
   "outputs": [],
   "source": [
    "# end = time.time()\n",
    "# print(end - start)"
   ]
  },
  {
   "cell_type": "code",
   "execution_count": 52,
   "metadata": {},
   "outputs": [
    {
     "output_type": "stream",
     "name": "stderr",
     "text": [
      "\n",
      "\n",
      "  0%|          | 0/1000000 [00:00<?, ?it/s]\n",
      "\n",
      "  0%|          | 1/1000000 [00:00<95:34:47,  2.91it/s]\n",
      "\n",
      "  0%|          | 3/1000000 [00:00<43:20:39,  6.41it/s]\n",
      "\n",
      "  0%|          | 5/1000000 [00:00<32:10:28,  8.63it/s]\n",
      "\n",
      "  0%|          | 8/1000000 [00:00<24:43:41, 11.23it/s]\n",
      "\n",
      "  0%|          | 13/1000000 [00:00<17:41:48, 15.70it/s]\n",
      "\n"
     ]
    }
   ],
   "source": [
    "bn5 = structure_learning(module5, 'K2', node_type5)"
   ]
  },
  {
   "cell_type": "code",
   "execution_count": 53,
   "metadata": {},
   "outputs": [
    {
     "output_type": "display_data",
     "data": {
      "text/plain": "<Figure size 2025x225 with 1 Axes>",
      "image/svg+xml": "<?xml version=\"1.0\" encoding=\"utf-8\" standalone=\"no\"?>\r\n<!DOCTYPE svg PUBLIC \"-//W3C//DTD SVG 1.1//EN\"\r\n  \"http://www.w3.org/Graphics/SVG/1.1/DTD/svg11.dtd\">\r\n<!-- Created with matplotlib (https://matplotlib.org/) -->\r\n<svg height=\"100.837344pt\" version=\"1.1\" viewBox=\"0 0 958.444687 100.837344\" width=\"958.444687pt\" xmlns=\"http://www.w3.org/2000/svg\" xmlns:xlink=\"http://www.w3.org/1999/xlink\">\r\n <defs>\r\n  <style type=\"text/css\">\r\n*{stroke-linecap:butt;stroke-linejoin:round;}\r\n  </style>\r\n </defs>\r\n <g id=\"figure_1\">\r\n  <g id=\"patch_1\">\r\n   <path d=\"M 0 100.837344 \r\nL 958.444687 100.837344 \r\nL 958.444687 0 \r\nL 0 0 \r\nz\r\n\" style=\"fill:none;\"/>\r\n  </g>\r\n  <g id=\"axes_1\">\r\n   <g id=\"legend_1\">\r\n    <g id=\"patch_2\">\r\n     <path d=\"M 425.843438 52.818281 \r\nL 547.552813 52.818281 \r\nQ 549.552813 52.818281 549.552813 50.818281 \r\nL 549.552813 37.140156 \r\nQ 549.552813 35.140156 547.552813 35.140156 \r\nL 425.843438 35.140156 \r\nQ 423.843438 35.140156 423.843438 37.140156 \r\nL 423.843438 50.818281 \r\nQ 423.843438 52.818281 425.843438 52.818281 \r\nz\r\n\" style=\"fill:#ffffff;opacity:0.8;stroke:#cccccc;stroke-linejoin:miter;\"/>\r\n    </g>\r\n    <g id=\"patch_3\">\r\n     <path d=\"M 427.843438 46.738594 \r\nL 447.843438 46.738594 \r\nL 447.843438 39.738594 \r\nL 427.843438 39.738594 \r\nz\r\n\" style=\"fill:#ff7f0e;stroke:#ff7f0e;stroke-linejoin:miter;\"/>\r\n    </g>\r\n    <g id=\"text_1\">\r\n     <!-- cont -->\r\n     <defs>\r\n      <path d=\"M 48.78125 52.59375 \r\nL 48.78125 44.1875 \r\nQ 44.96875 46.296875 41.140625 47.34375 \r\nQ 37.3125 48.390625 33.40625 48.390625 \r\nQ 24.65625 48.390625 19.8125 42.84375 \r\nQ 14.984375 37.3125 14.984375 27.296875 \r\nQ 14.984375 17.28125 19.8125 11.734375 \r\nQ 24.65625 6.203125 33.40625 6.203125 \r\nQ 37.3125 6.203125 41.140625 7.25 \r\nQ 44.96875 8.296875 48.78125 10.40625 \r\nL 48.78125 2.09375 \r\nQ 45.015625 0.34375 40.984375 -0.53125 \r\nQ 36.96875 -1.421875 32.421875 -1.421875 \r\nQ 20.0625 -1.421875 12.78125 6.34375 \r\nQ 5.515625 14.109375 5.515625 27.296875 \r\nQ 5.515625 40.671875 12.859375 48.328125 \r\nQ 20.21875 56 33.015625 56 \r\nQ 37.15625 56 41.109375 55.140625 \r\nQ 45.0625 54.296875 48.78125 52.59375 \r\nz\r\n\" id=\"DejaVuSans-99\"/>\r\n      <path d=\"M 30.609375 48.390625 \r\nQ 23.390625 48.390625 19.1875 42.75 \r\nQ 14.984375 37.109375 14.984375 27.296875 \r\nQ 14.984375 17.484375 19.15625 11.84375 \r\nQ 23.34375 6.203125 30.609375 6.203125 \r\nQ 37.796875 6.203125 41.984375 11.859375 \r\nQ 46.1875 17.53125 46.1875 27.296875 \r\nQ 46.1875 37.015625 41.984375 42.703125 \r\nQ 37.796875 48.390625 30.609375 48.390625 \r\nz\r\nM 30.609375 56 \r\nQ 42.328125 56 49.015625 48.375 \r\nQ 55.71875 40.765625 55.71875 27.296875 \r\nQ 55.71875 13.875 49.015625 6.21875 \r\nQ 42.328125 -1.421875 30.609375 -1.421875 \r\nQ 18.84375 -1.421875 12.171875 6.21875 \r\nQ 5.515625 13.875 5.515625 27.296875 \r\nQ 5.515625 40.765625 12.171875 48.375 \r\nQ 18.84375 56 30.609375 56 \r\nz\r\n\" id=\"DejaVuSans-111\"/>\r\n      <path d=\"M 54.890625 33.015625 \r\nL 54.890625 0 \r\nL 45.90625 0 \r\nL 45.90625 32.71875 \r\nQ 45.90625 40.484375 42.875 44.328125 \r\nQ 39.84375 48.1875 33.796875 48.1875 \r\nQ 26.515625 48.1875 22.3125 43.546875 \r\nQ 18.109375 38.921875 18.109375 30.90625 \r\nL 18.109375 0 \r\nL 9.078125 0 \r\nL 9.078125 54.6875 \r\nL 18.109375 54.6875 \r\nL 18.109375 46.1875 \r\nQ 21.34375 51.125 25.703125 53.5625 \r\nQ 30.078125 56 35.796875 56 \r\nQ 45.21875 56 50.046875 50.171875 \r\nQ 54.890625 44.34375 54.890625 33.015625 \r\nz\r\n\" id=\"DejaVuSans-110\"/>\r\n      <path d=\"M 18.3125 70.21875 \r\nL 18.3125 54.6875 \r\nL 36.8125 54.6875 \r\nL 36.8125 47.703125 \r\nL 18.3125 47.703125 \r\nL 18.3125 18.015625 \r\nQ 18.3125 11.328125 20.140625 9.421875 \r\nQ 21.96875 7.515625 27.59375 7.515625 \r\nL 36.8125 7.515625 \r\nL 36.8125 0 \r\nL 27.59375 0 \r\nQ 17.1875 0 13.234375 3.875 \r\nQ 9.28125 7.765625 9.28125 18.015625 \r\nL 9.28125 47.703125 \r\nL 2.6875 47.703125 \r\nL 2.6875 54.6875 \r\nL 9.28125 54.6875 \r\nL 9.28125 70.21875 \r\nz\r\n\" id=\"DejaVuSans-116\"/>\r\n     </defs>\r\n     <g transform=\"translate(455.843438 46.738594)scale(0.1 -0.1)\">\r\n      <use xlink:href=\"#DejaVuSans-99\"/>\r\n      <use x=\"54.980469\" xlink:href=\"#DejaVuSans-111\"/>\r\n      <use x=\"116.162109\" xlink:href=\"#DejaVuSans-110\"/>\r\n      <use x=\"179.541016\" xlink:href=\"#DejaVuSans-116\"/>\r\n     </g>\r\n    </g>\r\n    <g id=\"patch_4\">\r\n     <path d=\"M 497.718438 46.738594 \r\nL 517.718438 46.738594 \r\nL 517.718438 39.738594 \r\nL 497.718438 39.738594 \r\nz\r\n\" style=\"fill:#8c564b;stroke:#8c564b;stroke-linejoin:miter;\"/>\r\n    </g>\r\n    <g id=\"text_2\">\r\n     <!-- disc -->\r\n     <defs>\r\n      <path d=\"M 45.40625 46.390625 \r\nL 45.40625 75.984375 \r\nL 54.390625 75.984375 \r\nL 54.390625 0 \r\nL 45.40625 0 \r\nL 45.40625 8.203125 \r\nQ 42.578125 3.328125 38.25 0.953125 \r\nQ 33.9375 -1.421875 27.875 -1.421875 \r\nQ 17.96875 -1.421875 11.734375 6.484375 \r\nQ 5.515625 14.40625 5.515625 27.296875 \r\nQ 5.515625 40.1875 11.734375 48.09375 \r\nQ 17.96875 56 27.875 56 \r\nQ 33.9375 56 38.25 53.625 \r\nQ 42.578125 51.265625 45.40625 46.390625 \r\nz\r\nM 14.796875 27.296875 \r\nQ 14.796875 17.390625 18.875 11.75 \r\nQ 22.953125 6.109375 30.078125 6.109375 \r\nQ 37.203125 6.109375 41.296875 11.75 \r\nQ 45.40625 17.390625 45.40625 27.296875 \r\nQ 45.40625 37.203125 41.296875 42.84375 \r\nQ 37.203125 48.484375 30.078125 48.484375 \r\nQ 22.953125 48.484375 18.875 42.84375 \r\nQ 14.796875 37.203125 14.796875 27.296875 \r\nz\r\n\" id=\"DejaVuSans-100\"/>\r\n      <path d=\"M 9.421875 54.6875 \r\nL 18.40625 54.6875 \r\nL 18.40625 0 \r\nL 9.421875 0 \r\nz\r\nM 9.421875 75.984375 \r\nL 18.40625 75.984375 \r\nL 18.40625 64.59375 \r\nL 9.421875 64.59375 \r\nz\r\n\" id=\"DejaVuSans-105\"/>\r\n      <path d=\"M 44.28125 53.078125 \r\nL 44.28125 44.578125 \r\nQ 40.484375 46.53125 36.375 47.5 \r\nQ 32.28125 48.484375 27.875 48.484375 \r\nQ 21.1875 48.484375 17.84375 46.4375 \r\nQ 14.5 44.390625 14.5 40.28125 \r\nQ 14.5 37.15625 16.890625 35.375 \r\nQ 19.28125 33.59375 26.515625 31.984375 \r\nL 29.59375 31.296875 \r\nQ 39.15625 29.25 43.1875 25.515625 \r\nQ 47.21875 21.78125 47.21875 15.09375 \r\nQ 47.21875 7.46875 41.1875 3.015625 \r\nQ 35.15625 -1.421875 24.609375 -1.421875 \r\nQ 20.21875 -1.421875 15.453125 -0.5625 \r\nQ 10.6875 0.296875 5.421875 2 \r\nL 5.421875 11.28125 \r\nQ 10.40625 8.6875 15.234375 7.390625 \r\nQ 20.0625 6.109375 24.8125 6.109375 \r\nQ 31.15625 6.109375 34.5625 8.28125 \r\nQ 37.984375 10.453125 37.984375 14.40625 \r\nQ 37.984375 18.0625 35.515625 20.015625 \r\nQ 33.0625 21.96875 24.703125 23.78125 \r\nL 21.578125 24.515625 \r\nQ 13.234375 26.265625 9.515625 29.90625 \r\nQ 5.8125 33.546875 5.8125 39.890625 \r\nQ 5.8125 47.609375 11.28125 51.796875 \r\nQ 16.75 56 26.8125 56 \r\nQ 31.78125 56 36.171875 55.265625 \r\nQ 40.578125 54.546875 44.28125 53.078125 \r\nz\r\n\" id=\"DejaVuSans-115\"/>\r\n     </defs>\r\n     <g transform=\"translate(525.718438 46.738594)scale(0.1 -0.1)\">\r\n      <use xlink:href=\"#DejaVuSans-100\"/>\r\n      <use x=\"63.476562\" xlink:href=\"#DejaVuSans-105\"/>\r\n      <use x=\"91.259766\" xlink:href=\"#DejaVuSans-115\"/>\r\n      <use x=\"143.359375\" xlink:href=\"#DejaVuSans-99\"/>\r\n     </g>\r\n    </g>\r\n   </g>\r\n  </g>\r\n </g>\r\n</svg>\r\n",
      "image/png": "[encoded data removed]"
     },
     "metadata": {
      "needs_background": "light"
     }
    },
    {
     "output_type": "execute_result",
     "data": {
      "text/plain": [
       "<IPython.lib.display.IFrame at 0xaf5e81fc18>"
      ],
      "text/html": "\n        <iframe\n            width=\"100%\"\n            height=\"800px\"\n            src=\"visualization_result/module5.html\"\n            frameborder=\"0\"\n            allowfullscreen\n        ></iframe>\n        "
     },
     "metadata": {},
     "execution_count": 53
    }
   ],
   "source": [
    "visualizer(bn5, node_type5, 'module5')"
   ]
  },
  {
   "cell_type": "code",
   "execution_count": 54,
   "metadata": {},
   "outputs": [],
   "source": [
    "#param5 = parameter_learning(data[['max_tr',\t'mean_tr', 'parent',\t'driver',\t'has_pets',\t'cash_usage']], node_type5, bn5)"
   ]
  },
  {
   "cell_type": "code",
   "execution_count": 55,
   "metadata": {},
   "outputs": [],
   "source": [
    "# save_structure(bn5, 'skel5')\n",
    "# skel5 = read_structure('skel5')\n",
    "# save_params(param5, 'params5')\n",
    "# params5 = read_params('params5')\n",
    "# hybn5 = HyBayesianNetwork(skel5, params5)"
   ]
  },
  {
   "cell_type": "code",
   "execution_count": 56,
   "metadata": {},
   "outputs": [
    {
     "output_type": "stream",
     "name": "stdout",
     "text": [
      "6.8917975425720215\n"
     ]
    }
   ],
   "source": [
    "end = time.time()\n",
    "print(end - start)"
   ]
  },
  {
   "cell_type": "code",
   "execution_count": 57,
   "metadata": {},
   "outputs": [],
   "source": [
    "# bn6 = structure_learning(module6, 'K2', node_type6)\n",
    "# bn6"
   ]
  },
  {
   "cell_type": "code",
   "execution_count": 58,
   "metadata": {},
   "outputs": [],
   "source": [
    "#param6 = parameter_learning(data[['posts_per_month',\t'likes_per_post',\t'views_per_post',\t'repost_ratio']], node_type6, bn6)"
   ]
  },
  {
   "cell_type": "code",
   "execution_count": 59,
   "metadata": {},
   "outputs": [],
   "source": [
    "# save_structure(bn6, 'skel6')\n",
    "# skel6 = read_structure('skel6')\n",
    "# save_params(param6, 'params6')\n",
    "# params6 = read_params('params6')\n",
    "# hybn6 = HyBayesianNetwork(skel6, params6)"
   ]
  },
  {
   "cell_type": "code",
   "execution_count": 60,
   "metadata": {},
   "outputs": [],
   "source": [
    "node_type_final = {**node_type1, **node_type2, **node_type3, **node_type4, **node_type5}"
   ]
  },
  {
   "cell_type": "code",
   "execution_count": 61,
   "metadata": {},
   "outputs": [
    {
     "output_type": "stream",
     "name": "stderr",
     "text": [
      "\n",
      "\n",
      "  0%|          | 0/1000000 [00:00<?, ?it/s]\n",
      "\n",
      "  0%|          | 1/1000000 [00:15<4282:12:26, 15.42s/it]\n",
      "\n",
      "  0%|          | 2/1000000 [00:16<2260:26:15,  8.14s/it]\n",
      "\n",
      "  0%|          | 3/1000000 [00:16<1571:30:37,  5.66s/it]\n",
      "\n",
      "  0%|          | 4/1000000 [00:17<1221:29:22,  4.40s/it]\n",
      "\n",
      "  0%|          | 5/1000000 [00:18<1011:35:18,  3.64s/it]\n",
      "\n",
      "  0%|          | 6/1000000 [00:19<883:38:51,  3.18s/it] \n",
      "\n",
      "  0%|          | 7/1000000 [00:20<795:42:53,  2.86s/it]\n",
      "\n",
      "  0%|          | 8/1000000 [00:20<719:16:34,  2.59s/it]\n",
      "\n",
      "  0%|          | 9/1000000 [00:21<661:12:48,  2.38s/it]\n",
      "\n",
      "  0%|          | 10/1000000 [00:22<613:29:05,  2.21s/it]\n",
      "\n",
      "  0%|          | 11/1000000 [00:22<574:26:03,  2.07s/it]\n",
      "\n",
      "  0%|          | 12/1000000 [00:23<551:53:40,  1.99s/it]\n",
      "\n",
      "  0%|          | 13/1000000 [00:24<522:04:18,  1.88s/it]\n",
      "\n",
      "  0%|          | 14/1000000 [00:25<506:50:57,  1.82s/it]\n",
      "\n",
      "  0%|          | 15/1000000 [00:26<493:51:36,  1.78s/it]\n",
      "\n",
      "  0%|          | 16/1000000 [00:27<484:14:55,  1.74s/it]\n",
      "\n",
      "  0%|          | 17/1000000 [00:28<466:27:06,  1.68s/it]\n",
      "\n",
      "  0%|          | 18/1000000 [00:29<450:33:18,  1.62s/it]\n",
      "\n",
      "  0%|          | 19/1000000 [00:30<450:47:39,  1.62s/it]\n",
      "\n",
      "  0%|          | 20/1000000 [00:32<444:34:39,  1.60s/it]\n",
      "\n",
      "  0%|          | 21/1000000 [00:32<431:07:12,  1.55s/it]\n",
      "\n",
      "  0%|          | 22/1000000 [00:34<433:13:59,  1.56s/it]\n",
      "\n",
      "  0%|          | 23/1000000 [00:34<421:47:22,  1.52s/it]\n",
      "\n",
      "  0%|          | 24/1000000 [00:35<412:14:14,  1.48s/it]\n",
      "\n",
      "  0%|          | 25/1000000 [00:36<405:50:19,  1.46s/it]\n",
      "\n",
      "  0%|          | 26/1000000 [00:37<398:53:44,  1.44s/it]\n",
      "\n",
      "  0%|          | 27/1000000 [00:38<392:42:49,  1.41s/it]\n",
      "\n",
      "  0%|          | 28/1000000 [00:39<390:31:34,  1.41s/it]\n",
      "\n",
      "  0%|          | 29/1000000 [00:41<393:32:16,  1.42s/it]\n",
      "\n",
      "  0%|          | 30/1000000 [00:42<388:57:31,  1.40s/it]\n",
      "\n",
      "  0%|          | 31/1000000 [00:43<386:04:22,  1.39s/it]\n",
      "\n",
      "  0%|          | 32/1000000 [00:44<383:40:48,  1.38s/it]\n",
      "\n",
      "  0%|          | 33/1000000 [00:44<377:57:48,  1.36s/it]\n",
      "\n",
      "  0%|          | 34/1000000 [00:45<371:38:36,  1.34s/it]\n",
      "\n",
      "  0%|          | 35/1000000 [00:46<367:54:54,  1.32s/it]\n",
      "\n",
      "  0%|          | 36/1000000 [00:51<397:12:34,  1.43s/it]\n",
      "\n",
      "  0%|          | 37/1000000 [00:52<394:26:01,  1.42s/it]['0 1', '0 2', '0 3', '0 4', '1 3', '4 2', '3 2']\n"
     ]
    }
   ],
   "source": [
    "hybn_connect = direct_connect([bn1,bn2, bn3, bn4, bn5],new_data, node_type_final)\n"
   ]
  },
  {
   "cell_type": "code",
   "execution_count": 62,
   "metadata": {},
   "outputs": [],
   "source": [
    "hybns = [bn1,bn2, bn3, bn4, bn5]"
   ]
  },
  {
   "cell_type": "code",
   "execution_count": 63,
   "metadata": {},
   "outputs": [
    {
     "output_type": "stream",
     "name": "stdout",
     "text": [
      "0 1\n",
      "0 2\n",
      "0 3\n",
      "0 4\n",
      "1 3\n",
      "4 2\n",
      "3 2\n"
     ]
    }
   ],
   "source": [
    "hybn_final = direct_train(hybns, data, hybn_connect)"
   ]
  },
  {
   "cell_type": "code",
   "execution_count": 64,
   "metadata": {},
   "outputs": [],
   "source": [
    "sample = pd.DataFrame()"
   ]
  },
  {
   "cell_type": "code",
   "execution_count": 65,
   "metadata": {},
   "outputs": [],
   "source": [
    "for i in range (1000):\n",
    "    age = np.random.randint(50,71,1)[0]\n",
    "    evidence = {'age':str(age), 'sex':'1'}\n",
    "    batch = pd.DataFrame(hybn_final.randomsample(5,evidence))\n",
    "    sample = pd.concat([sample,batch])"
   ]
  },
  {
   "cell_type": "code",
   "execution_count": 66,
   "metadata": {},
   "outputs": [
    {
     "output_type": "display_data",
     "data": {
      "text/plain": "<Figure size 432x288 with 1 Axes>",
      "image/svg+xml": "<?xml version=\"1.0\" encoding=\"utf-8\" standalone=\"no\"?>\r\n<!DOCTYPE svg PUBLIC \"-//W3C//DTD SVG 1.1//EN\"\r\n  \"http://www.w3.org/Graphics/SVG/1.1/DTD/svg11.dtd\">\r\n<!-- Created with matplotlib (https://matplotlib.org/) -->\r\n<svg height=\"369.444687pt\" version=\"1.1\" viewBox=\"0 0 395.64375 369.444687\" width=\"395.64375pt\" xmlns=\"http://www.w3.org/2000/svg\" xmlns:xlink=\"http://www.w3.org/1999/xlink\">\r\n <defs>\r\n  <style type=\"text/css\">\r\n*{stroke-linecap:butt;stroke-linejoin:round;}\r\n  </style>\r\n </defs>\r\n <g id=\"figure_1\">\r\n  <g id=\"patch_1\">\r\n   <path d=\"M 0 369.444687 \r\nL 395.64375 369.444687 \r\nL 395.64375 0 \r\nL 0 0 \r\nz\r\n\" style=\"fill:none;\"/>\r\n  </g>\r\n  <g id=\"axes_1\">\r\n   <g id=\"patch_2\">\r\n    <path d=\"M 50.14375 228.14 \r\nL 384.94375 228.14 \r\nL 384.94375 10.7 \r\nL 50.14375 10.7 \r\nz\r\n\" style=\"fill:#ffffff;\"/>\r\n   </g>\r\n   <g id=\"patch_3\">\r\n    <path clip-path=\"url(#pbb98b92925)\" d=\"M 65.361932 228.14 \r\nL 78.595133 228.14 \r\nL 78.595133 183.208202 \r\nL 65.361932 183.208202 \r\nz\r\n\" style=\"fill:#1f77b4;\"/>\r\n   </g>\r\n   <g id=\"patch_4\">\r\n    <path clip-path=\"url(#pbb98b92925)\" d=\"M 105.061537 228.14 \r\nL 118.294738 228.14 \r\nL 118.294738 29.447262 \r\nL 105.061537 29.447262 \r\nz\r\n\" style=\"fill:#1f77b4;\"/>\r\n   </g>\r\n   <g id=\"patch_5\">\r\n    <path clip-path=\"url(#pbb98b92925)\" d=\"M 144.761141 228.14 \r\nL 157.994343 228.14 \r\nL 157.994343 102.254595 \r\nL 144.761141 102.254595 \r\nz\r\n\" style=\"fill:#1f77b4;\"/>\r\n   </g>\r\n   <g id=\"patch_6\">\r\n    <path clip-path=\"url(#pbb98b92925)\" d=\"M 184.460746 228.14 \r\nL 197.693948 228.14 \r\nL 197.693948 119.310858 \r\nL 184.460746 119.310858 \r\nz\r\n\" style=\"fill:#1f77b4;\"/>\r\n   </g>\r\n   <g id=\"patch_7\">\r\n    <path clip-path=\"url(#pbb98b92925)\" d=\"M 224.160351 228.14 \r\nL 237.393552 228.14 \r\nL 237.393552 214.902303 \r\nL 224.160351 214.902303 \r\nz\r\n\" style=\"fill:#1f77b4;\"/>\r\n   </g>\r\n   <g id=\"patch_8\">\r\n    <path clip-path=\"url(#pbb98b92925)\" d=\"M 263.859956 228.14 \r\nL 277.093157 228.14 \r\nL 277.093157 166.661081 \r\nL 263.859956 166.661081 \r\nz\r\n\" style=\"fill:#1f77b4;\"/>\r\n   </g>\r\n   <g id=\"patch_9\">\r\n    <path clip-path=\"url(#pbb98b92925)\" d=\"M 303.55956 228.14 \r\nL 316.792762 228.14 \r\nL 316.792762 210.065452 \r\nL 303.55956 210.065452 \r\nz\r\n\" style=\"fill:#1f77b4;\"/>\r\n   </g>\r\n   <g id=\"patch_10\">\r\n    <path clip-path=\"url(#pbb98b92925)\" d=\"M 343.259165 228.14 \r\nL 356.492367 228.14 \r\nL 356.492367 216.175159 \r\nL 343.259165 216.175159 \r\nz\r\n\" style=\"fill:#1f77b4;\"/>\r\n   </g>\r\n   <g id=\"patch_11\">\r\n    <path clip-path=\"url(#pbb98b92925)\" d=\"M 78.595133 228.14 \r\nL 91.828335 228.14 \r\nL 91.828335 198.985246 \r\nL 78.595133 198.985246 \r\nz\r\n\" style=\"fill:#ff7f0e;\"/>\r\n   </g>\r\n   <g id=\"patch_12\">\r\n    <path clip-path=\"url(#pbb98b92925)\" d=\"M 118.294738 228.14 \r\nL 131.52794 228.14 \r\nL 131.52794 28.72148 \r\nL 118.294738 28.72148 \r\nz\r\n\" style=\"fill:#ff7f0e;\"/>\r\n   </g>\r\n   <g id=\"patch_13\">\r\n    <path clip-path=\"url(#pbb98b92925)\" d=\"M 157.994343 228.14 \r\nL 171.227544 228.14 \r\nL 171.227544 162.366874 \r\nL 157.994343 162.366874 \r\nz\r\n\" style=\"fill:#ff7f0e;\"/>\r\n   </g>\r\n   <g id=\"patch_14\">\r\n    <path clip-path=\"url(#pbb98b92925)\" d=\"M 197.693948 228.14 \r\nL 210.927149 228.14 \r\nL 210.927149 103.590889 \r\nL 197.693948 103.590889 \r\nz\r\n\" style=\"fill:#ff7f0e;\"/>\r\n   </g>\r\n   <g id=\"patch_15\">\r\n    <path clip-path=\"url(#pbb98b92925)\" d=\"M 237.393552 228.14 \r\nL 250.626754 228.14 \r\nL 250.626754 174.028776 \r\nL 237.393552 174.028776 \r\nz\r\n\" style=\"fill:#ff7f0e;\"/>\r\n   </g>\r\n   <g id=\"patch_16\">\r\n    <path clip-path=\"url(#pbb98b92925)\" d=\"M 277.093157 228.14 \r\nL 290.326359 228.14 \r\nL 290.326359 146.623307 \r\nL 277.093157 146.623307 \r\nz\r\n\" style=\"fill:#ff7f0e;\"/>\r\n   </g>\r\n   <g id=\"patch_17\">\r\n    <path clip-path=\"url(#pbb98b92925)\" d=\"M 316.792762 228.14 \r\nL 330.025963 228.14 \r\nL 330.025963 211.929957 \r\nL 316.792762 211.929957 \r\nz\r\n\" style=\"fill:#ff7f0e;\"/>\r\n   </g>\r\n   <g id=\"patch_18\">\r\n    <path clip-path=\"url(#pbb98b92925)\" d=\"M 356.492367 228.14 \r\nL 369.725568 228.14 \r\nL 369.725568 215.778384 \r\nL 356.492367 215.778384 \r\nz\r\n\" style=\"fill:#ff7f0e;\"/>\r\n   </g>\r\n   <g id=\"matplotlib.axis_1\">\r\n    <g id=\"xtick_1\">\r\n     <g id=\"line2d_1\">\r\n      <defs>\r\n       <path d=\"M 0 0 \r\nL 0 3.5 \r\n\" id=\"mda22a0952f\" style=\"stroke:#000000;stroke-width:0.8;\"/>\r\n      </defs>\r\n      <g>\r\n       <use style=\"stroke:#000000;stroke-width:0.8;\" x=\"78.595133\" xlink:href=\"#mda22a0952f\" y=\"228.14\"/>\r\n      </g>\r\n     </g>\r\n     <g id=\"text_1\">\r\n      <!-- History &amp; politics -->\r\n      <defs>\r\n       <path d=\"M 9.8125 72.90625 \r\nL 19.671875 72.90625 \r\nL 19.671875 43.015625 \r\nL 55.515625 43.015625 \r\nL 55.515625 72.90625 \r\nL 65.375 72.90625 \r\nL 65.375 0 \r\nL 55.515625 0 \r\nL 55.515625 34.71875 \r\nL 19.671875 34.71875 \r\nL 19.671875 0 \r\nL 9.8125 0 \r\nz\r\n\" id=\"DejaVuSans-72\"/>\r\n       <path d=\"M 9.421875 54.6875 \r\nL 18.40625 54.6875 \r\nL 18.40625 0 \r\nL 9.421875 0 \r\nz\r\nM 9.421875 75.984375 \r\nL 18.40625 75.984375 \r\nL 18.40625 64.59375 \r\nL 9.421875 64.59375 \r\nz\r\n\" id=\"DejaVuSans-105\"/>\r\n       <path d=\"M 44.28125 53.078125 \r\nL 44.28125 44.578125 \r\nQ 40.484375 46.53125 36.375 47.5 \r\nQ 32.28125 48.484375 27.875 48.484375 \r\nQ 21.1875 48.484375 17.84375 46.4375 \r\nQ 14.5 44.390625 14.5 40.28125 \r\nQ 14.5 37.15625 16.890625 35.375 \r\nQ 19.28125 33.59375 26.515625 31.984375 \r\nL 29.59375 31.296875 \r\nQ 39.15625 29.25 43.1875 25.515625 \r\nQ 47.21875 21.78125 47.21875 15.09375 \r\nQ 47.21875 7.46875 41.1875 3.015625 \r\nQ 35.15625 -1.421875 24.609375 -1.421875 \r\nQ 20.21875 -1.421875 15.453125 -0.5625 \r\nQ 10.6875 0.296875 5.421875 2 \r\nL 5.421875 11.28125 \r\nQ 10.40625 8.6875 15.234375 7.390625 \r\nQ 20.0625 6.109375 24.8125 6.109375 \r\nQ 31.15625 6.109375 34.5625 8.28125 \r\nQ 37.984375 10.453125 37.984375 14.40625 \r\nQ 37.984375 18.0625 35.515625 20.015625 \r\nQ 33.0625 21.96875 24.703125 23.78125 \r\nL 21.578125 24.515625 \r\nQ 13.234375 26.265625 9.515625 29.90625 \r\nQ 5.8125 33.546875 5.8125 39.890625 \r\nQ 5.8125 47.609375 11.28125 51.796875 \r\nQ 16.75 56 26.8125 56 \r\nQ 31.78125 56 36.171875 55.265625 \r\nQ 40.578125 54.546875 44.28125 53.078125 \r\nz\r\n\" id=\"DejaVuSans-115\"/>\r\n       <path d=\"M 18.3125 70.21875 \r\nL 18.3125 54.6875 \r\nL 36.8125 54.6875 \r\nL 36.8125 47.703125 \r\nL 18.3125 47.703125 \r\nL 18.3125 18.015625 \r\nQ 18.3125 11.328125 20.140625 9.421875 \r\nQ 21.96875 7.515625 27.59375 7.515625 \r\nL 36.8125 7.515625 \r\nL 36.8125 0 \r\nL 27.59375 0 \r\nQ 17.1875 0 13.234375 3.875 \r\nQ 9.28125 7.765625 9.28125 18.015625 \r\nL 9.28125 47.703125 \r\nL 2.6875 47.703125 \r\nL 2.6875 54.6875 \r\nL 9.28125 54.6875 \r\nL 9.28125 70.21875 \r\nz\r\n\" id=\"DejaVuSans-116\"/>\r\n       <path d=\"M 30.609375 48.390625 \r\nQ 23.390625 48.390625 19.1875 42.75 \r\nQ 14.984375 37.109375 14.984375 27.296875 \r\nQ 14.984375 17.484375 19.15625 11.84375 \r\nQ 23.34375 6.203125 30.609375 6.203125 \r\nQ 37.796875 6.203125 41.984375 11.859375 \r\nQ 46.1875 17.53125 46.1875 27.296875 \r\nQ 46.1875 37.015625 41.984375 42.703125 \r\nQ 37.796875 48.390625 30.609375 48.390625 \r\nz\r\nM 30.609375 56 \r\nQ 42.328125 56 49.015625 48.375 \r\nQ 55.71875 40.765625 55.71875 27.296875 \r\nQ 55.71875 13.875 49.015625 6.21875 \r\nQ 42.328125 -1.421875 30.609375 -1.421875 \r\nQ 18.84375 -1.421875 12.171875 6.21875 \r\nQ 5.515625 13.875 5.515625 27.296875 \r\nQ 5.515625 40.765625 12.171875 48.375 \r\nQ 18.84375 56 30.609375 56 \r\nz\r\n\" id=\"DejaVuSans-111\"/>\r\n       <path d=\"M 41.109375 46.296875 \r\nQ 39.59375 47.171875 37.8125 47.578125 \r\nQ 36.03125 48 33.890625 48 \r\nQ 26.265625 48 22.1875 43.046875 \r\nQ 18.109375 38.09375 18.109375 28.8125 \r\nL 18.109375 0 \r\nL 9.078125 0 \r\nL 9.078125 54.6875 \r\nL 18.109375 54.6875 \r\nL 18.109375 46.1875 \r\nQ 20.953125 51.171875 25.484375 53.578125 \r\nQ 30.03125 56 36.53125 56 \r\nQ 37.453125 56 38.578125 55.875 \r\nQ 39.703125 55.765625 41.0625 55.515625 \r\nz\r\n\" id=\"DejaVuSans-114\"/>\r\n       <path d=\"M 32.171875 -5.078125 \r\nQ 28.375 -14.84375 24.75 -17.8125 \r\nQ 21.140625 -20.796875 15.09375 -20.796875 \r\nL 7.90625 -20.796875 \r\nL 7.90625 -13.28125 \r\nL 13.1875 -13.28125 \r\nQ 16.890625 -13.28125 18.9375 -11.515625 \r\nQ 21 -9.765625 23.484375 -3.21875 \r\nL 25.09375 0.875 \r\nL 2.984375 54.6875 \r\nL 12.5 54.6875 \r\nL 29.59375 11.921875 \r\nL 46.6875 54.6875 \r\nL 56.203125 54.6875 \r\nz\r\n\" id=\"DejaVuSans-121\"/>\r\n       <path id=\"DejaVuSans-32\"/>\r\n       <path d=\"M 24.3125 39.203125 \r\nQ 19.875 35.25 17.796875 31.3125 \r\nQ 15.71875 27.390625 15.71875 23.09375 \r\nQ 15.71875 15.96875 20.890625 11.234375 \r\nQ 26.078125 6.5 33.890625 6.5 \r\nQ 38.53125 6.5 42.578125 8.03125 \r\nQ 46.625 9.578125 50.203125 12.703125 \r\nz\r\nM 31.203125 44.671875 \r\nL 56 19.28125 \r\nQ 58.890625 23.640625 60.5 28.59375 \r\nQ 62.109375 33.546875 62.40625 39.109375 \r\nL 71.484375 39.109375 \r\nQ 70.90625 32.671875 68.359375 26.359375 \r\nQ 65.828125 20.0625 61.28125 13.921875 \r\nL 74.90625 0 \r\nL 62.59375 0 \r\nL 55.609375 7.171875 \r\nQ 50.53125 2.828125 44.96875 0.703125 \r\nQ 39.40625 -1.421875 33.015625 -1.421875 \r\nQ 21.234375 -1.421875 13.765625 5.296875 \r\nQ 6.296875 12.015625 6.296875 22.515625 \r\nQ 6.296875 28.765625 9.5625 34.25 \r\nQ 12.84375 39.75 19.390625 44.578125 \r\nQ 17.046875 47.65625 15.8125 50.703125 \r\nQ 14.59375 53.765625 14.59375 56.6875 \r\nQ 14.59375 64.59375 20.015625 69.40625 \r\nQ 25.4375 74.21875 34.421875 74.21875 \r\nQ 38.484375 74.21875 42.5 73.34375 \r\nQ 46.53125 72.46875 50.6875 70.703125 \r\nL 50.6875 61.8125 \r\nQ 46.4375 64.109375 42.578125 65.296875 \r\nQ 38.71875 66.5 35.40625 66.5 \r\nQ 30.28125 66.5 27.078125 63.78125 \r\nQ 23.875 61.078125 23.875 56.78125 \r\nQ 23.875 54.296875 25.3125 51.78125 \r\nQ 26.765625 49.265625 31.203125 44.671875 \r\nz\r\n\" id=\"DejaVuSans-38\"/>\r\n       <path d=\"M 18.109375 8.203125 \r\nL 18.109375 -20.796875 \r\nL 9.078125 -20.796875 \r\nL 9.078125 54.6875 \r\nL 18.109375 54.6875 \r\nL 18.109375 46.390625 \r\nQ 20.953125 51.265625 25.265625 53.625 \r\nQ 29.59375 56 35.59375 56 \r\nQ 45.5625 56 51.78125 48.09375 \r\nQ 58.015625 40.1875 58.015625 27.296875 \r\nQ 58.015625 14.40625 51.78125 6.484375 \r\nQ 45.5625 -1.421875 35.59375 -1.421875 \r\nQ 29.59375 -1.421875 25.265625 0.953125 \r\nQ 20.953125 3.328125 18.109375 8.203125 \r\nz\r\nM 48.6875 27.296875 \r\nQ 48.6875 37.203125 44.609375 42.84375 \r\nQ 40.53125 48.484375 33.40625 48.484375 \r\nQ 26.265625 48.484375 22.1875 42.84375 \r\nQ 18.109375 37.203125 18.109375 27.296875 \r\nQ 18.109375 17.390625 22.1875 11.75 \r\nQ 26.265625 6.109375 33.40625 6.109375 \r\nQ 40.53125 6.109375 44.609375 11.75 \r\nQ 48.6875 17.390625 48.6875 27.296875 \r\nz\r\n\" id=\"DejaVuSans-112\"/>\r\n       <path d=\"M 9.421875 75.984375 \r\nL 18.40625 75.984375 \r\nL 18.40625 0 \r\nL 9.421875 0 \r\nz\r\n\" id=\"DejaVuSans-108\"/>\r\n       <path d=\"M 48.78125 52.59375 \r\nL 48.78125 44.1875 \r\nQ 44.96875 46.296875 41.140625 47.34375 \r\nQ 37.3125 48.390625 33.40625 48.390625 \r\nQ 24.65625 48.390625 19.8125 42.84375 \r\nQ 14.984375 37.3125 14.984375 27.296875 \r\nQ 14.984375 17.28125 19.8125 11.734375 \r\nQ 24.65625 6.203125 33.40625 6.203125 \r\nQ 37.3125 6.203125 41.140625 7.25 \r\nQ 44.96875 8.296875 48.78125 10.40625 \r\nL 48.78125 2.09375 \r\nQ 45.015625 0.34375 40.984375 -0.53125 \r\nQ 36.96875 -1.421875 32.421875 -1.421875 \r\nQ 20.0625 -1.421875 12.78125 6.34375 \r\nQ 5.515625 14.109375 5.515625 27.296875 \r\nQ 5.515625 40.671875 12.859375 48.328125 \r\nQ 20.21875 56 33.015625 56 \r\nQ 37.15625 56 41.109375 55.140625 \r\nQ 45.0625 54.296875 48.78125 52.59375 \r\nz\r\n\" id=\"DejaVuSans-99\"/>\r\n      </defs>\r\n      <g transform=\"translate(81.354508 320.300937)rotate(-90)scale(0.1 -0.1)\">\r\n       <use xlink:href=\"#DejaVuSans-72\"/>\r\n       <use x=\"75.195312\" xlink:href=\"#DejaVuSans-105\"/>\r\n       <use x=\"102.978516\" xlink:href=\"#DejaVuSans-115\"/>\r\n       <use x=\"155.078125\" xlink:href=\"#DejaVuSans-116\"/>\r\n       <use x=\"194.287109\" xlink:href=\"#DejaVuSans-111\"/>\r\n       <use x=\"255.46875\" xlink:href=\"#DejaVuSans-114\"/>\r\n       <use x=\"296.582031\" xlink:href=\"#DejaVuSans-121\"/>\r\n       <use x=\"355.761719\" xlink:href=\"#DejaVuSans-32\"/>\r\n       <use x=\"387.548828\" xlink:href=\"#DejaVuSans-38\"/>\r\n       <use x=\"465.527344\" xlink:href=\"#DejaVuSans-32\"/>\r\n       <use x=\"497.314453\" xlink:href=\"#DejaVuSans-112\"/>\r\n       <use x=\"560.791016\" xlink:href=\"#DejaVuSans-111\"/>\r\n       <use x=\"621.972656\" xlink:href=\"#DejaVuSans-108\"/>\r\n       <use x=\"649.755859\" xlink:href=\"#DejaVuSans-105\"/>\r\n       <use x=\"677.539062\" xlink:href=\"#DejaVuSans-116\"/>\r\n       <use x=\"716.748047\" xlink:href=\"#DejaVuSans-105\"/>\r\n       <use x=\"744.53125\" xlink:href=\"#DejaVuSans-99\"/>\r\n       <use x=\"799.511719\" xlink:href=\"#DejaVuSans-115\"/>\r\n      </g>\r\n     </g>\r\n    </g>\r\n    <g id=\"xtick_2\">\r\n     <g id=\"line2d_2\">\r\n      <g>\r\n       <use style=\"stroke:#000000;stroke-width:0.8;\" x=\"118.294738\" xlink:href=\"#mda22a0952f\" y=\"228.14\"/>\r\n      </g>\r\n     </g>\r\n     <g id=\"text_2\">\r\n      <!-- Gifts &amp; holidays -->\r\n      <defs>\r\n       <path d=\"M 59.515625 10.40625 \r\nL 59.515625 29.984375 \r\nL 43.40625 29.984375 \r\nL 43.40625 38.09375 \r\nL 69.28125 38.09375 \r\nL 69.28125 6.78125 \r\nQ 63.578125 2.734375 56.6875 0.65625 \r\nQ 49.8125 -1.421875 42 -1.421875 \r\nQ 24.90625 -1.421875 15.25 8.5625 \r\nQ 5.609375 18.5625 5.609375 36.375 \r\nQ 5.609375 54.25 15.25 64.234375 \r\nQ 24.90625 74.21875 42 74.21875 \r\nQ 49.125 74.21875 55.546875 72.453125 \r\nQ 61.96875 70.703125 67.390625 67.28125 \r\nL 67.390625 56.78125 \r\nQ 61.921875 61.421875 55.765625 63.765625 \r\nQ 49.609375 66.109375 42.828125 66.109375 \r\nQ 29.4375 66.109375 22.71875 58.640625 \r\nQ 16.015625 51.171875 16.015625 36.375 \r\nQ 16.015625 21.625 22.71875 14.15625 \r\nQ 29.4375 6.6875 42.828125 6.6875 \r\nQ 48.046875 6.6875 52.140625 7.59375 \r\nQ 56.25 8.5 59.515625 10.40625 \r\nz\r\n\" id=\"DejaVuSans-71\"/>\r\n       <path d=\"M 37.109375 75.984375 \r\nL 37.109375 68.5 \r\nL 28.515625 68.5 \r\nQ 23.6875 68.5 21.796875 66.546875 \r\nQ 19.921875 64.59375 19.921875 59.515625 \r\nL 19.921875 54.6875 \r\nL 34.71875 54.6875 \r\nL 34.71875 47.703125 \r\nL 19.921875 47.703125 \r\nL 19.921875 0 \r\nL 10.890625 0 \r\nL 10.890625 47.703125 \r\nL 2.296875 47.703125 \r\nL 2.296875 54.6875 \r\nL 10.890625 54.6875 \r\nL 10.890625 58.5 \r\nQ 10.890625 67.625 15.140625 71.796875 \r\nQ 19.390625 75.984375 28.609375 75.984375 \r\nz\r\n\" id=\"DejaVuSans-102\"/>\r\n       <path d=\"M 54.890625 33.015625 \r\nL 54.890625 0 \r\nL 45.90625 0 \r\nL 45.90625 32.71875 \r\nQ 45.90625 40.484375 42.875 44.328125 \r\nQ 39.84375 48.1875 33.796875 48.1875 \r\nQ 26.515625 48.1875 22.3125 43.546875 \r\nQ 18.109375 38.921875 18.109375 30.90625 \r\nL 18.109375 0 \r\nL 9.078125 0 \r\nL 9.078125 75.984375 \r\nL 18.109375 75.984375 \r\nL 18.109375 46.1875 \r\nQ 21.34375 51.125 25.703125 53.5625 \r\nQ 30.078125 56 35.796875 56 \r\nQ 45.21875 56 50.046875 50.171875 \r\nQ 54.890625 44.34375 54.890625 33.015625 \r\nz\r\n\" id=\"DejaVuSans-104\"/>\r\n       <path d=\"M 45.40625 46.390625 \r\nL 45.40625 75.984375 \r\nL 54.390625 75.984375 \r\nL 54.390625 0 \r\nL 45.40625 0 \r\nL 45.40625 8.203125 \r\nQ 42.578125 3.328125 38.25 0.953125 \r\nQ 33.9375 -1.421875 27.875 -1.421875 \r\nQ 17.96875 -1.421875 11.734375 6.484375 \r\nQ 5.515625 14.40625 5.515625 27.296875 \r\nQ 5.515625 40.1875 11.734375 48.09375 \r\nQ 17.96875 56 27.875 56 \r\nQ 33.9375 56 38.25 53.625 \r\nQ 42.578125 51.265625 45.40625 46.390625 \r\nz\r\nM 14.796875 27.296875 \r\nQ 14.796875 17.390625 18.875 11.75 \r\nQ 22.953125 6.109375 30.078125 6.109375 \r\nQ 37.203125 6.109375 41.296875 11.75 \r\nQ 45.40625 17.390625 45.40625 27.296875 \r\nQ 45.40625 37.203125 41.296875 42.84375 \r\nQ 37.203125 48.484375 30.078125 48.484375 \r\nQ 22.953125 48.484375 18.875 42.84375 \r\nQ 14.796875 37.203125 14.796875 27.296875 \r\nz\r\n\" id=\"DejaVuSans-100\"/>\r\n       <path d=\"M 34.28125 27.484375 \r\nQ 23.390625 27.484375 19.1875 25 \r\nQ 14.984375 22.515625 14.984375 16.5 \r\nQ 14.984375 11.71875 18.140625 8.90625 \r\nQ 21.296875 6.109375 26.703125 6.109375 \r\nQ 34.1875 6.109375 38.703125 11.40625 \r\nQ 43.21875 16.703125 43.21875 25.484375 \r\nL 43.21875 27.484375 \r\nz\r\nM 52.203125 31.203125 \r\nL 52.203125 0 \r\nL 43.21875 0 \r\nL 43.21875 8.296875 \r\nQ 40.140625 3.328125 35.546875 0.953125 \r\nQ 30.953125 -1.421875 24.3125 -1.421875 \r\nQ 15.921875 -1.421875 10.953125 3.296875 \r\nQ 6 8.015625 6 15.921875 \r\nQ 6 25.140625 12.171875 29.828125 \r\nQ 18.359375 34.515625 30.609375 34.515625 \r\nL 43.21875 34.515625 \r\nL 43.21875 35.40625 \r\nQ 43.21875 41.609375 39.140625 45 \r\nQ 35.0625 48.390625 27.6875 48.390625 \r\nQ 23 48.390625 18.546875 47.265625 \r\nQ 14.109375 46.140625 10.015625 43.890625 \r\nL 10.015625 52.203125 \r\nQ 14.9375 54.109375 19.578125 55.046875 \r\nQ 24.21875 56 28.609375 56 \r\nQ 40.484375 56 46.34375 49.84375 \r\nQ 52.203125 43.703125 52.203125 31.203125 \r\nz\r\n\" id=\"DejaVuSans-97\"/>\r\n      </defs>\r\n      <g transform=\"translate(121.054113 314.086875)rotate(-90)scale(0.1 -0.1)\">\r\n       <use xlink:href=\"#DejaVuSans-71\"/>\r\n       <use x=\"77.490234\" xlink:href=\"#DejaVuSans-105\"/>\r\n       <use x=\"105.273438\" xlink:href=\"#DejaVuSans-102\"/>\r\n       <use x=\"140.462891\" xlink:href=\"#DejaVuSans-116\"/>\r\n       <use x=\"179.671875\" xlink:href=\"#DejaVuSans-115\"/>\r\n       <use x=\"231.771484\" xlink:href=\"#DejaVuSans-32\"/>\r\n       <use x=\"263.558594\" xlink:href=\"#DejaVuSans-38\"/>\r\n       <use x=\"341.537109\" xlink:href=\"#DejaVuSans-32\"/>\r\n       <use x=\"373.324219\" xlink:href=\"#DejaVuSans-104\"/>\r\n       <use x=\"436.703125\" xlink:href=\"#DejaVuSans-111\"/>\r\n       <use x=\"497.884766\" xlink:href=\"#DejaVuSans-108\"/>\r\n       <use x=\"525.667969\" xlink:href=\"#DejaVuSans-105\"/>\r\n       <use x=\"553.451172\" xlink:href=\"#DejaVuSans-100\"/>\r\n       <use x=\"616.927734\" xlink:href=\"#DejaVuSans-97\"/>\r\n       <use x=\"678.207031\" xlink:href=\"#DejaVuSans-121\"/>\r\n       <use x=\"737.386719\" xlink:href=\"#DejaVuSans-115\"/>\r\n      </g>\r\n     </g>\r\n    </g>\r\n    <g id=\"xtick_3\">\r\n     <g id=\"line2d_3\">\r\n      <g>\r\n       <use style=\"stroke:#000000;stroke-width:0.8;\" x=\"157.994343\" xlink:href=\"#mda22a0952f\" y=\"228.14\"/>\r\n      </g>\r\n     </g>\r\n     <g id=\"text_3\">\r\n      <!-- Cooking -->\r\n      <defs>\r\n       <path d=\"M 64.40625 67.28125 \r\nL 64.40625 56.890625 \r\nQ 59.421875 61.53125 53.78125 63.8125 \r\nQ 48.140625 66.109375 41.796875 66.109375 \r\nQ 29.296875 66.109375 22.65625 58.46875 \r\nQ 16.015625 50.828125 16.015625 36.375 \r\nQ 16.015625 21.96875 22.65625 14.328125 \r\nQ 29.296875 6.6875 41.796875 6.6875 \r\nQ 48.140625 6.6875 53.78125 8.984375 \r\nQ 59.421875 11.28125 64.40625 15.921875 \r\nL 64.40625 5.609375 \r\nQ 59.234375 2.09375 53.4375 0.328125 \r\nQ 47.65625 -1.421875 41.21875 -1.421875 \r\nQ 24.65625 -1.421875 15.125 8.703125 \r\nQ 5.609375 18.84375 5.609375 36.375 \r\nQ 5.609375 53.953125 15.125 64.078125 \r\nQ 24.65625 74.21875 41.21875 74.21875 \r\nQ 47.75 74.21875 53.53125 72.484375 \r\nQ 59.328125 70.75 64.40625 67.28125 \r\nz\r\n\" id=\"DejaVuSans-67\"/>\r\n       <path d=\"M 9.078125 75.984375 \r\nL 18.109375 75.984375 \r\nL 18.109375 31.109375 \r\nL 44.921875 54.6875 \r\nL 56.390625 54.6875 \r\nL 27.390625 29.109375 \r\nL 57.625 0 \r\nL 45.90625 0 \r\nL 18.109375 26.703125 \r\nL 18.109375 0 \r\nL 9.078125 0 \r\nz\r\n\" id=\"DejaVuSans-107\"/>\r\n       <path d=\"M 54.890625 33.015625 \r\nL 54.890625 0 \r\nL 45.90625 0 \r\nL 45.90625 32.71875 \r\nQ 45.90625 40.484375 42.875 44.328125 \r\nQ 39.84375 48.1875 33.796875 48.1875 \r\nQ 26.515625 48.1875 22.3125 43.546875 \r\nQ 18.109375 38.921875 18.109375 30.90625 \r\nL 18.109375 0 \r\nL 9.078125 0 \r\nL 9.078125 54.6875 \r\nL 18.109375 54.6875 \r\nL 18.109375 46.1875 \r\nQ 21.34375 51.125 25.703125 53.5625 \r\nQ 30.078125 56 35.796875 56 \r\nQ 45.21875 56 50.046875 50.171875 \r\nQ 54.890625 44.34375 54.890625 33.015625 \r\nz\r\n\" id=\"DejaVuSans-110\"/>\r\n       <path d=\"M 45.40625 27.984375 \r\nQ 45.40625 37.75 41.375 43.109375 \r\nQ 37.359375 48.484375 30.078125 48.484375 \r\nQ 22.859375 48.484375 18.828125 43.109375 \r\nQ 14.796875 37.75 14.796875 27.984375 \r\nQ 14.796875 18.265625 18.828125 12.890625 \r\nQ 22.859375 7.515625 30.078125 7.515625 \r\nQ 37.359375 7.515625 41.375 12.890625 \r\nQ 45.40625 18.265625 45.40625 27.984375 \r\nz\r\nM 54.390625 6.78125 \r\nQ 54.390625 -7.171875 48.1875 -13.984375 \r\nQ 42 -20.796875 29.203125 -20.796875 \r\nQ 24.46875 -20.796875 20.265625 -20.09375 \r\nQ 16.0625 -19.390625 12.109375 -17.921875 \r\nL 12.109375 -9.1875 \r\nQ 16.0625 -11.328125 19.921875 -12.34375 \r\nQ 23.78125 -13.375 27.78125 -13.375 \r\nQ 36.625 -13.375 41.015625 -8.765625 \r\nQ 45.40625 -4.15625 45.40625 5.171875 \r\nL 45.40625 9.625 \r\nQ 42.625 4.78125 38.28125 2.390625 \r\nQ 33.9375 0 27.875 0 \r\nQ 17.828125 0 11.671875 7.65625 \r\nQ 5.515625 15.328125 5.515625 27.984375 \r\nQ 5.515625 40.671875 11.671875 48.328125 \r\nQ 17.828125 56 27.875 56 \r\nQ 33.9375 56 38.28125 53.609375 \r\nQ 42.625 51.21875 45.40625 46.390625 \r\nL 45.40625 54.6875 \r\nL 54.390625 54.6875 \r\nz\r\n\" id=\"DejaVuSans-103\"/>\r\n      </defs>\r\n      <g transform=\"translate(160.753718 275.615)rotate(-90)scale(0.1 -0.1)\">\r\n       <use xlink:href=\"#DejaVuSans-67\"/>\r\n       <use x=\"69.824219\" xlink:href=\"#DejaVuSans-111\"/>\r\n       <use x=\"131.005859\" xlink:href=\"#DejaVuSans-111\"/>\r\n       <use x=\"192.1875\" xlink:href=\"#DejaVuSans-107\"/>\r\n       <use x=\"250.097656\" xlink:href=\"#DejaVuSans-105\"/>\r\n       <use x=\"277.880859\" xlink:href=\"#DejaVuSans-110\"/>\r\n       <use x=\"341.259766\" xlink:href=\"#DejaVuSans-103\"/>\r\n      </g>\r\n     </g>\r\n    </g>\r\n    <g id=\"xtick_4\">\r\n     <g id=\"line2d_4\">\r\n      <g>\r\n       <use style=\"stroke:#000000;stroke-width:0.8;\" x=\"197.693948\" xlink:href=\"#mda22a0952f\" y=\"228.14\"/>\r\n      </g>\r\n     </g>\r\n     <g id=\"text_4\">\r\n      <!-- Love &amp; relation -->\r\n      <defs>\r\n       <path d=\"M 9.8125 72.90625 \r\nL 19.671875 72.90625 \r\nL 19.671875 8.296875 \r\nL 55.171875 8.296875 \r\nL 55.171875 0 \r\nL 9.8125 0 \r\nz\r\n\" id=\"DejaVuSans-76\"/>\r\n       <path d=\"M 2.984375 54.6875 \r\nL 12.5 54.6875 \r\nL 29.59375 8.796875 \r\nL 46.6875 54.6875 \r\nL 56.203125 54.6875 \r\nL 35.6875 0 \r\nL 23.484375 0 \r\nz\r\n\" id=\"DejaVuSans-118\"/>\r\n       <path d=\"M 56.203125 29.59375 \r\nL 56.203125 25.203125 \r\nL 14.890625 25.203125 \r\nQ 15.484375 15.921875 20.484375 11.0625 \r\nQ 25.484375 6.203125 34.421875 6.203125 \r\nQ 39.59375 6.203125 44.453125 7.46875 \r\nQ 49.3125 8.734375 54.109375 11.28125 \r\nL 54.109375 2.78125 \r\nQ 49.265625 0.734375 44.1875 -0.34375 \r\nQ 39.109375 -1.421875 33.890625 -1.421875 \r\nQ 20.796875 -1.421875 13.15625 6.1875 \r\nQ 5.515625 13.8125 5.515625 26.8125 \r\nQ 5.515625 40.234375 12.765625 48.109375 \r\nQ 20.015625 56 32.328125 56 \r\nQ 43.359375 56 49.78125 48.890625 \r\nQ 56.203125 41.796875 56.203125 29.59375 \r\nz\r\nM 47.21875 32.234375 \r\nQ 47.125 39.59375 43.09375 43.984375 \r\nQ 39.0625 48.390625 32.421875 48.390625 \r\nQ 24.90625 48.390625 20.390625 44.140625 \r\nQ 15.875 39.890625 15.1875 32.171875 \r\nz\r\n\" id=\"DejaVuSans-101\"/>\r\n      </defs>\r\n      <g transform=\"translate(200.453323 311.3775)rotate(-90)scale(0.1 -0.1)\">\r\n       <use xlink:href=\"#DejaVuSans-76\"/>\r\n       <use x=\"55.697266\" xlink:href=\"#DejaVuSans-111\"/>\r\n       <use x=\"116.878906\" xlink:href=\"#DejaVuSans-118\"/>\r\n       <use x=\"176.058594\" xlink:href=\"#DejaVuSans-101\"/>\r\n       <use x=\"237.582031\" xlink:href=\"#DejaVuSans-32\"/>\r\n       <use x=\"269.369141\" xlink:href=\"#DejaVuSans-38\"/>\r\n       <use x=\"347.347656\" xlink:href=\"#DejaVuSans-32\"/>\r\n       <use x=\"379.134766\" xlink:href=\"#DejaVuSans-114\"/>\r\n       <use x=\"420.216797\" xlink:href=\"#DejaVuSans-101\"/>\r\n       <use x=\"481.740234\" xlink:href=\"#DejaVuSans-108\"/>\r\n       <use x=\"509.523438\" xlink:href=\"#DejaVuSans-97\"/>\r\n       <use x=\"570.802734\" xlink:href=\"#DejaVuSans-116\"/>\r\n       <use x=\"610.011719\" xlink:href=\"#DejaVuSans-105\"/>\r\n       <use x=\"637.794922\" xlink:href=\"#DejaVuSans-111\"/>\r\n       <use x=\"698.976562\" xlink:href=\"#DejaVuSans-110\"/>\r\n      </g>\r\n     </g>\r\n    </g>\r\n    <g id=\"xtick_5\">\r\n     <g id=\"line2d_5\">\r\n      <g>\r\n       <use style=\"stroke:#000000;stroke-width:0.8;\" x=\"237.393552\" xlink:href=\"#mda22a0952f\" y=\"228.14\"/>\r\n      </g>\r\n     </g>\r\n     <g id=\"text_5\">\r\n      <!-- Music -->\r\n      <defs>\r\n       <path d=\"M 9.8125 72.90625 \r\nL 24.515625 72.90625 \r\nL 43.109375 23.296875 \r\nL 61.8125 72.90625 \r\nL 76.515625 72.90625 \r\nL 76.515625 0 \r\nL 66.890625 0 \r\nL 66.890625 64.015625 \r\nL 48.09375 14.015625 \r\nL 38.1875 14.015625 \r\nL 19.390625 64.015625 \r\nL 19.390625 0 \r\nL 9.8125 0 \r\nz\r\n\" id=\"DejaVuSans-77\"/>\r\n       <path d=\"M 8.5 21.578125 \r\nL 8.5 54.6875 \r\nL 17.484375 54.6875 \r\nL 17.484375 21.921875 \r\nQ 17.484375 14.15625 20.5 10.265625 \r\nQ 23.53125 6.390625 29.59375 6.390625 \r\nQ 36.859375 6.390625 41.078125 11.03125 \r\nQ 45.3125 15.671875 45.3125 23.6875 \r\nL 45.3125 54.6875 \r\nL 54.296875 54.6875 \r\nL 54.296875 0 \r\nL 45.3125 0 \r\nL 45.3125 8.40625 \r\nQ 42.046875 3.421875 37.71875 1 \r\nQ 33.40625 -1.421875 27.6875 -1.421875 \r\nQ 18.265625 -1.421875 13.375 4.4375 \r\nQ 8.5 10.296875 8.5 21.578125 \r\nz\r\nM 31.109375 56 \r\nz\r\n\" id=\"DejaVuSans-117\"/>\r\n      </defs>\r\n      <g transform=\"translate(240.152927 263.591563)rotate(-90)scale(0.1 -0.1)\">\r\n       <use xlink:href=\"#DejaVuSans-77\"/>\r\n       <use x=\"86.279297\" xlink:href=\"#DejaVuSans-117\"/>\r\n       <use x=\"149.658203\" xlink:href=\"#DejaVuSans-115\"/>\r\n       <use x=\"201.757812\" xlink:href=\"#DejaVuSans-105\"/>\r\n       <use x=\"229.541016\" xlink:href=\"#DejaVuSans-99\"/>\r\n      </g>\r\n     </g>\r\n    </g>\r\n    <g id=\"xtick_6\">\r\n     <g id=\"line2d_6\">\r\n      <g>\r\n       <use style=\"stroke:#000000;stroke-width:0.8;\" x=\"277.093157\" xlink:href=\"#mda22a0952f\" y=\"228.14\"/>\r\n      </g>\r\n     </g>\r\n     <g id=\"text_6\">\r\n      <!-- Purchase &amp; sale -->\r\n      <defs>\r\n       <path d=\"M 19.671875 64.796875 \r\nL 19.671875 37.40625 \r\nL 32.078125 37.40625 \r\nQ 38.96875 37.40625 42.71875 40.96875 \r\nQ 46.484375 44.53125 46.484375 51.125 \r\nQ 46.484375 57.671875 42.71875 61.234375 \r\nQ 38.96875 64.796875 32.078125 64.796875 \r\nz\r\nM 9.8125 72.90625 \r\nL 32.078125 72.90625 \r\nQ 44.34375 72.90625 50.609375 67.359375 \r\nQ 56.890625 61.8125 56.890625 51.125 \r\nQ 56.890625 40.328125 50.609375 34.8125 \r\nQ 44.34375 29.296875 32.078125 29.296875 \r\nL 19.671875 29.296875 \r\nL 19.671875 0 \r\nL 9.8125 0 \r\nz\r\n\" id=\"DejaVuSans-80\"/>\r\n      </defs>\r\n      <g transform=\"translate(279.852532 315.363437)rotate(-90)scale(0.1 -0.1)\">\r\n       <use xlink:href=\"#DejaVuSans-80\"/>\r\n       <use x=\"60.287109\" xlink:href=\"#DejaVuSans-117\"/>\r\n       <use x=\"123.666016\" xlink:href=\"#DejaVuSans-114\"/>\r\n       <use x=\"164.748047\" xlink:href=\"#DejaVuSans-99\"/>\r\n       <use x=\"219.728516\" xlink:href=\"#DejaVuSans-104\"/>\r\n       <use x=\"283.107422\" xlink:href=\"#DejaVuSans-97\"/>\r\n       <use x=\"344.386719\" xlink:href=\"#DejaVuSans-115\"/>\r\n       <use x=\"396.486328\" xlink:href=\"#DejaVuSans-101\"/>\r\n       <use x=\"458.009766\" xlink:href=\"#DejaVuSans-32\"/>\r\n       <use x=\"489.796875\" xlink:href=\"#DejaVuSans-38\"/>\r\n       <use x=\"567.775391\" xlink:href=\"#DejaVuSans-32\"/>\r\n       <use x=\"599.5625\" xlink:href=\"#DejaVuSans-115\"/>\r\n       <use x=\"651.662109\" xlink:href=\"#DejaVuSans-97\"/>\r\n       <use x=\"712.941406\" xlink:href=\"#DejaVuSans-108\"/>\r\n       <use x=\"740.724609\" xlink:href=\"#DejaVuSans-101\"/>\r\n      </g>\r\n     </g>\r\n    </g>\r\n    <g id=\"xtick_7\">\r\n     <g id=\"line2d_7\">\r\n      <g>\r\n       <use style=\"stroke:#000000;stroke-width:0.8;\" x=\"316.792762\" xlink:href=\"#mda22a0952f\" y=\"228.14\"/>\r\n      </g>\r\n     </g>\r\n     <g id=\"text_7\">\r\n      <!-- Job &amp; money -->\r\n      <defs>\r\n       <path d=\"M 9.8125 72.90625 \r\nL 19.671875 72.90625 \r\nL 19.671875 5.078125 \r\nQ 19.671875 -8.109375 14.671875 -14.0625 \r\nQ 9.671875 -20.015625 -1.421875 -20.015625 \r\nL -5.171875 -20.015625 \r\nL -5.171875 -11.71875 \r\nL -2.09375 -11.71875 \r\nQ 4.4375 -11.71875 7.125 -8.046875 \r\nQ 9.8125 -4.390625 9.8125 5.078125 \r\nz\r\n\" id=\"DejaVuSans-74\"/>\r\n       <path d=\"M 48.6875 27.296875 \r\nQ 48.6875 37.203125 44.609375 42.84375 \r\nQ 40.53125 48.484375 33.40625 48.484375 \r\nQ 26.265625 48.484375 22.1875 42.84375 \r\nQ 18.109375 37.203125 18.109375 27.296875 \r\nQ 18.109375 17.390625 22.1875 11.75 \r\nQ 26.265625 6.109375 33.40625 6.109375 \r\nQ 40.53125 6.109375 44.609375 11.75 \r\nQ 48.6875 17.390625 48.6875 27.296875 \r\nz\r\nM 18.109375 46.390625 \r\nQ 20.953125 51.265625 25.265625 53.625 \r\nQ 29.59375 56 35.59375 56 \r\nQ 45.5625 56 51.78125 48.09375 \r\nQ 58.015625 40.1875 58.015625 27.296875 \r\nQ 58.015625 14.40625 51.78125 6.484375 \r\nQ 45.5625 -1.421875 35.59375 -1.421875 \r\nQ 29.59375 -1.421875 25.265625 0.953125 \r\nQ 20.953125 3.328125 18.109375 8.203125 \r\nL 18.109375 0 \r\nL 9.078125 0 \r\nL 9.078125 75.984375 \r\nL 18.109375 75.984375 \r\nz\r\n\" id=\"DejaVuSans-98\"/>\r\n       <path d=\"M 52 44.1875 \r\nQ 55.375 50.25 60.0625 53.125 \r\nQ 64.75 56 71.09375 56 \r\nQ 79.640625 56 84.28125 50.015625 \r\nQ 88.921875 44.046875 88.921875 33.015625 \r\nL 88.921875 0 \r\nL 79.890625 0 \r\nL 79.890625 32.71875 \r\nQ 79.890625 40.578125 77.09375 44.375 \r\nQ 74.3125 48.1875 68.609375 48.1875 \r\nQ 61.625 48.1875 57.5625 43.546875 \r\nQ 53.515625 38.921875 53.515625 30.90625 \r\nL 53.515625 0 \r\nL 44.484375 0 \r\nL 44.484375 32.71875 \r\nQ 44.484375 40.625 41.703125 44.40625 \r\nQ 38.921875 48.1875 33.109375 48.1875 \r\nQ 26.21875 48.1875 22.15625 43.53125 \r\nQ 18.109375 38.875 18.109375 30.90625 \r\nL 18.109375 0 \r\nL 9.078125 0 \r\nL 9.078125 54.6875 \r\nL 18.109375 54.6875 \r\nL 18.109375 46.1875 \r\nQ 21.1875 51.21875 25.484375 53.609375 \r\nQ 29.78125 56 35.6875 56 \r\nQ 41.65625 56 45.828125 52.96875 \r\nQ 50 49.953125 52 44.1875 \r\nz\r\n\" id=\"DejaVuSans-109\"/>\r\n      </defs>\r\n      <g transform=\"translate(319.552137 298.980625)rotate(-90)scale(0.1 -0.1)\">\r\n       <use xlink:href=\"#DejaVuSans-74\"/>\r\n       <use x=\"29.492188\" xlink:href=\"#DejaVuSans-111\"/>\r\n       <use x=\"90.673828\" xlink:href=\"#DejaVuSans-98\"/>\r\n       <use x=\"154.150391\" xlink:href=\"#DejaVuSans-32\"/>\r\n       <use x=\"185.9375\" xlink:href=\"#DejaVuSans-38\"/>\r\n       <use x=\"263.916016\" xlink:href=\"#DejaVuSans-32\"/>\r\n       <use x=\"295.703125\" xlink:href=\"#DejaVuSans-109\"/>\r\n       <use x=\"393.115234\" xlink:href=\"#DejaVuSans-111\"/>\r\n       <use x=\"454.296875\" xlink:href=\"#DejaVuSans-110\"/>\r\n       <use x=\"517.675781\" xlink:href=\"#DejaVuSans-101\"/>\r\n       <use x=\"579.199219\" xlink:href=\"#DejaVuSans-121\"/>\r\n      </g>\r\n     </g>\r\n    </g>\r\n    <g id=\"xtick_8\">\r\n     <g id=\"line2d_8\">\r\n      <g>\r\n       <use style=\"stroke:#000000;stroke-width:0.8;\" x=\"356.492367\" xlink:href=\"#mda22a0952f\" y=\"228.14\"/>\r\n      </g>\r\n     </g>\r\n     <g id=\"text_8\">\r\n      <!-- Fitness &amp; cosmetology -->\r\n      <defs>\r\n       <path d=\"M 9.8125 72.90625 \r\nL 51.703125 72.90625 \r\nL 51.703125 64.59375 \r\nL 19.671875 64.59375 \r\nL 19.671875 43.109375 \r\nL 48.578125 43.109375 \r\nL 48.578125 34.8125 \r\nL 19.671875 34.8125 \r\nL 19.671875 0 \r\nL 9.8125 0 \r\nz\r\n\" id=\"DejaVuSans-70\"/>\r\n      </defs>\r\n      <g transform=\"translate(359.251742 348.566562)rotate(-90)scale(0.1 -0.1)\">\r\n       <use xlink:href=\"#DejaVuSans-70\"/>\r\n       <use x=\"57.410156\" xlink:href=\"#DejaVuSans-105\"/>\r\n       <use x=\"85.193359\" xlink:href=\"#DejaVuSans-116\"/>\r\n       <use x=\"124.402344\" xlink:href=\"#DejaVuSans-110\"/>\r\n       <use x=\"187.78125\" xlink:href=\"#DejaVuSans-101\"/>\r\n       <use x=\"249.304688\" xlink:href=\"#DejaVuSans-115\"/>\r\n       <use x=\"301.404297\" xlink:href=\"#DejaVuSans-115\"/>\r\n       <use x=\"353.503906\" xlink:href=\"#DejaVuSans-32\"/>\r\n       <use x=\"385.291016\" xlink:href=\"#DejaVuSans-38\"/>\r\n       <use x=\"463.269531\" xlink:href=\"#DejaVuSans-32\"/>\r\n       <use x=\"495.056641\" xlink:href=\"#DejaVuSans-99\"/>\r\n       <use x=\"550.037109\" xlink:href=\"#DejaVuSans-111\"/>\r\n       <use x=\"611.21875\" xlink:href=\"#DejaVuSans-115\"/>\r\n       <use x=\"663.318359\" xlink:href=\"#DejaVuSans-109\"/>\r\n       <use x=\"760.730469\" xlink:href=\"#DejaVuSans-101\"/>\r\n       <use x=\"822.253906\" xlink:href=\"#DejaVuSans-116\"/>\r\n       <use x=\"861.462891\" xlink:href=\"#DejaVuSans-111\"/>\r\n       <use x=\"922.644531\" xlink:href=\"#DejaVuSans-108\"/>\r\n       <use x=\"950.427734\" xlink:href=\"#DejaVuSans-111\"/>\r\n       <use x=\"1011.609375\" xlink:href=\"#DejaVuSans-103\"/>\r\n       <use x=\"1075.085938\" xlink:href=\"#DejaVuSans-121\"/>\r\n      </g>\r\n     </g>\r\n    </g>\r\n    <g id=\"text_9\">\r\n     <!-- top1 -->\r\n     <defs>\r\n      <path d=\"M 12.40625 8.296875 \r\nL 28.515625 8.296875 \r\nL 28.515625 63.921875 \r\nL 10.984375 60.40625 \r\nL 10.984375 69.390625 \r\nL 28.421875 72.90625 \r\nL 38.28125 72.90625 \r\nL 38.28125 8.296875 \r\nL 54.390625 8.296875 \r\nL 54.390625 0 \r\nL 12.40625 0 \r\nz\r\n\" id=\"DejaVuSans-49\"/>\r\n     </defs>\r\n     <g transform=\"translate(206.16875 360.165)scale(0.1 -0.1)\">\r\n      <use xlink:href=\"#DejaVuSans-116\"/>\r\n      <use x=\"39.208984\" xlink:href=\"#DejaVuSans-111\"/>\r\n      <use x=\"100.390625\" xlink:href=\"#DejaVuSans-112\"/>\r\n      <use x=\"163.867188\" xlink:href=\"#DejaVuSans-49\"/>\r\n     </g>\r\n    </g>\r\n   </g>\r\n   <g id=\"matplotlib.axis_2\">\r\n    <g id=\"ytick_1\">\r\n     <g id=\"line2d_9\">\r\n      <defs>\r\n       <path d=\"M 0 0 \r\nL -3.5 0 \r\n\" id=\"m65e35a1044\" style=\"stroke:#000000;stroke-width:0.8;\"/>\r\n      </defs>\r\n      <g>\r\n       <use style=\"stroke:#000000;stroke-width:0.8;\" x=\"50.14375\" xlink:href=\"#m65e35a1044\" y=\"228.14\"/>\r\n      </g>\r\n     </g>\r\n     <g id=\"text_10\">\r\n      <!-- 0.00 -->\r\n      <defs>\r\n       <path d=\"M 31.78125 66.40625 \r\nQ 24.171875 66.40625 20.328125 58.90625 \r\nQ 16.5 51.421875 16.5 36.375 \r\nQ 16.5 21.390625 20.328125 13.890625 \r\nQ 24.171875 6.390625 31.78125 6.390625 \r\nQ 39.453125 6.390625 43.28125 13.890625 \r\nQ 47.125 21.390625 47.125 36.375 \r\nQ 47.125 51.421875 43.28125 58.90625 \r\nQ 39.453125 66.40625 31.78125 66.40625 \r\nz\r\nM 31.78125 74.21875 \r\nQ 44.046875 74.21875 50.515625 64.515625 \r\nQ 56.984375 54.828125 56.984375 36.375 \r\nQ 56.984375 17.96875 50.515625 8.265625 \r\nQ 44.046875 -1.421875 31.78125 -1.421875 \r\nQ 19.53125 -1.421875 13.0625 8.265625 \r\nQ 6.59375 17.96875 6.59375 36.375 \r\nQ 6.59375 54.828125 13.0625 64.515625 \r\nQ 19.53125 74.21875 31.78125 74.21875 \r\nz\r\n\" id=\"DejaVuSans-48\"/>\r\n       <path d=\"M 10.6875 12.40625 \r\nL 21 12.40625 \r\nL 21 0 \r\nL 10.6875 0 \r\nz\r\n\" id=\"DejaVuSans-46\"/>\r\n      </defs>\r\n      <g transform=\"translate(20.878125 231.939219)scale(0.1 -0.1)\">\r\n       <use xlink:href=\"#DejaVuSans-48\"/>\r\n       <use x=\"63.623047\" xlink:href=\"#DejaVuSans-46\"/>\r\n       <use x=\"95.410156\" xlink:href=\"#DejaVuSans-48\"/>\r\n       <use x=\"159.033203\" xlink:href=\"#DejaVuSans-48\"/>\r\n      </g>\r\n     </g>\r\n    </g>\r\n    <g id=\"ytick_2\">\r\n     <g id=\"line2d_10\">\r\n      <g>\r\n       <use style=\"stroke:#000000;stroke-width:0.8;\" x=\"50.14375\" xlink:href=\"#m65e35a1044\" y=\"198.985246\"/>\r\n      </g>\r\n     </g>\r\n     <g id=\"text_11\">\r\n      <!-- 0.05 -->\r\n      <defs>\r\n       <path d=\"M 10.796875 72.90625 \r\nL 49.515625 72.90625 \r\nL 49.515625 64.59375 \r\nL 19.828125 64.59375 \r\nL 19.828125 46.734375 \r\nQ 21.96875 47.46875 24.109375 47.828125 \r\nQ 26.265625 48.1875 28.421875 48.1875 \r\nQ 40.625 48.1875 47.75 41.5 \r\nQ 54.890625 34.8125 54.890625 23.390625 \r\nQ 54.890625 11.625 47.5625 5.09375 \r\nQ 40.234375 -1.421875 26.90625 -1.421875 \r\nQ 22.3125 -1.421875 17.546875 -0.640625 \r\nQ 12.796875 0.140625 7.71875 1.703125 \r\nL 7.71875 11.625 \r\nQ 12.109375 9.234375 16.796875 8.0625 \r\nQ 21.484375 6.890625 26.703125 6.890625 \r\nQ 35.15625 6.890625 40.078125 11.328125 \r\nQ 45.015625 15.765625 45.015625 23.390625 \r\nQ 45.015625 31 40.078125 35.4375 \r\nQ 35.15625 39.890625 26.703125 39.890625 \r\nQ 22.75 39.890625 18.8125 39.015625 \r\nQ 14.890625 38.140625 10.796875 36.28125 \r\nz\r\n\" id=\"DejaVuSans-53\"/>\r\n      </defs>\r\n      <g transform=\"translate(20.878125 202.784464)scale(0.1 -0.1)\">\r\n       <use xlink:href=\"#DejaVuSans-48\"/>\r\n       <use x=\"63.623047\" xlink:href=\"#DejaVuSans-46\"/>\r\n       <use x=\"95.410156\" xlink:href=\"#DejaVuSans-48\"/>\r\n       <use x=\"159.033203\" xlink:href=\"#DejaVuSans-53\"/>\r\n      </g>\r\n     </g>\r\n    </g>\r\n    <g id=\"ytick_3\">\r\n     <g id=\"line2d_11\">\r\n      <g>\r\n       <use style=\"stroke:#000000;stroke-width:0.8;\" x=\"50.14375\" xlink:href=\"#m65e35a1044\" y=\"169.830491\"/>\r\n      </g>\r\n     </g>\r\n     <g id=\"text_12\">\r\n      <!-- 0.10 -->\r\n      <g transform=\"translate(20.878125 173.62971)scale(0.1 -0.1)\">\r\n       <use xlink:href=\"#DejaVuSans-48\"/>\r\n       <use x=\"63.623047\" xlink:href=\"#DejaVuSans-46\"/>\r\n       <use x=\"95.410156\" xlink:href=\"#DejaVuSans-49\"/>\r\n       <use x=\"159.033203\" xlink:href=\"#DejaVuSans-48\"/>\r\n      </g>\r\n     </g>\r\n    </g>\r\n    <g id=\"ytick_4\">\r\n     <g id=\"line2d_12\">\r\n      <g>\r\n       <use style=\"stroke:#000000;stroke-width:0.8;\" x=\"50.14375\" xlink:href=\"#m65e35a1044\" y=\"140.675737\"/>\r\n      </g>\r\n     </g>\r\n     <g id=\"text_13\">\r\n      <!-- 0.15 -->\r\n      <g transform=\"translate(20.878125 144.474955)scale(0.1 -0.1)\">\r\n       <use xlink:href=\"#DejaVuSans-48\"/>\r\n       <use x=\"63.623047\" xlink:href=\"#DejaVuSans-46\"/>\r\n       <use x=\"95.410156\" xlink:href=\"#DejaVuSans-49\"/>\r\n       <use x=\"159.033203\" xlink:href=\"#DejaVuSans-53\"/>\r\n      </g>\r\n     </g>\r\n    </g>\r\n    <g id=\"ytick_5\">\r\n     <g id=\"line2d_13\">\r\n      <g>\r\n       <use style=\"stroke:#000000;stroke-width:0.8;\" x=\"50.14375\" xlink:href=\"#m65e35a1044\" y=\"111.520982\"/>\r\n      </g>\r\n     </g>\r\n     <g id=\"text_14\">\r\n      <!-- 0.20 -->\r\n      <defs>\r\n       <path d=\"M 19.1875 8.296875 \r\nL 53.609375 8.296875 \r\nL 53.609375 0 \r\nL 7.328125 0 \r\nL 7.328125 8.296875 \r\nQ 12.9375 14.109375 22.625 23.890625 \r\nQ 32.328125 33.6875 34.8125 36.53125 \r\nQ 39.546875 41.84375 41.421875 45.53125 \r\nQ 43.3125 49.21875 43.3125 52.78125 \r\nQ 43.3125 58.59375 39.234375 62.25 \r\nQ 35.15625 65.921875 28.609375 65.921875 \r\nQ 23.96875 65.921875 18.8125 64.3125 \r\nQ 13.671875 62.703125 7.8125 59.421875 \r\nL 7.8125 69.390625 \r\nQ 13.765625 71.78125 18.9375 73 \r\nQ 24.125 74.21875 28.421875 74.21875 \r\nQ 39.75 74.21875 46.484375 68.546875 \r\nQ 53.21875 62.890625 53.21875 53.421875 \r\nQ 53.21875 48.921875 51.53125 44.890625 \r\nQ 49.859375 40.875 45.40625 35.40625 \r\nQ 44.1875 33.984375 37.640625 27.21875 \r\nQ 31.109375 20.453125 19.1875 8.296875 \r\nz\r\n\" id=\"DejaVuSans-50\"/>\r\n      </defs>\r\n      <g transform=\"translate(20.878125 115.320201)scale(0.1 -0.1)\">\r\n       <use xlink:href=\"#DejaVuSans-48\"/>\r\n       <use x=\"63.623047\" xlink:href=\"#DejaVuSans-46\"/>\r\n       <use x=\"95.410156\" xlink:href=\"#DejaVuSans-50\"/>\r\n       <use x=\"159.033203\" xlink:href=\"#DejaVuSans-48\"/>\r\n      </g>\r\n     </g>\r\n    </g>\r\n    <g id=\"ytick_6\">\r\n     <g id=\"line2d_14\">\r\n      <g>\r\n       <use style=\"stroke:#000000;stroke-width:0.8;\" x=\"50.14375\" xlink:href=\"#m65e35a1044\" y=\"82.366228\"/>\r\n      </g>\r\n     </g>\r\n     <g id=\"text_15\">\r\n      <!-- 0.25 -->\r\n      <g transform=\"translate(20.878125 86.165447)scale(0.1 -0.1)\">\r\n       <use xlink:href=\"#DejaVuSans-48\"/>\r\n       <use x=\"63.623047\" xlink:href=\"#DejaVuSans-46\"/>\r\n       <use x=\"95.410156\" xlink:href=\"#DejaVuSans-50\"/>\r\n       <use x=\"159.033203\" xlink:href=\"#DejaVuSans-53\"/>\r\n      </g>\r\n     </g>\r\n    </g>\r\n    <g id=\"ytick_7\">\r\n     <g id=\"line2d_15\">\r\n      <g>\r\n       <use style=\"stroke:#000000;stroke-width:0.8;\" x=\"50.14375\" xlink:href=\"#m65e35a1044\" y=\"53.211473\"/>\r\n      </g>\r\n     </g>\r\n     <g id=\"text_16\">\r\n      <!-- 0.30 -->\r\n      <defs>\r\n       <path d=\"M 40.578125 39.3125 \r\nQ 47.65625 37.796875 51.625 33 \r\nQ 55.609375 28.21875 55.609375 21.1875 \r\nQ 55.609375 10.40625 48.1875 4.484375 \r\nQ 40.765625 -1.421875 27.09375 -1.421875 \r\nQ 22.515625 -1.421875 17.65625 -0.515625 \r\nQ 12.796875 0.390625 7.625 2.203125 \r\nL 7.625 11.71875 \r\nQ 11.71875 9.328125 16.59375 8.109375 \r\nQ 21.484375 6.890625 26.8125 6.890625 \r\nQ 36.078125 6.890625 40.9375 10.546875 \r\nQ 45.796875 14.203125 45.796875 21.1875 \r\nQ 45.796875 27.640625 41.28125 31.265625 \r\nQ 36.765625 34.90625 28.71875 34.90625 \r\nL 20.21875 34.90625 \r\nL 20.21875 43.015625 \r\nL 29.109375 43.015625 \r\nQ 36.375 43.015625 40.234375 45.921875 \r\nQ 44.09375 48.828125 44.09375 54.296875 \r\nQ 44.09375 59.90625 40.109375 62.90625 \r\nQ 36.140625 65.921875 28.71875 65.921875 \r\nQ 24.65625 65.921875 20.015625 65.03125 \r\nQ 15.375 64.15625 9.8125 62.3125 \r\nL 9.8125 71.09375 \r\nQ 15.4375 72.65625 20.34375 73.4375 \r\nQ 25.25 74.21875 29.59375 74.21875 \r\nQ 40.828125 74.21875 47.359375 69.109375 \r\nQ 53.90625 64.015625 53.90625 55.328125 \r\nQ 53.90625 49.265625 50.4375 45.09375 \r\nQ 46.96875 40.921875 40.578125 39.3125 \r\nz\r\n\" id=\"DejaVuSans-51\"/>\r\n      </defs>\r\n      <g transform=\"translate(20.878125 57.010692)scale(0.1 -0.1)\">\r\n       <use xlink:href=\"#DejaVuSans-48\"/>\r\n       <use x=\"63.623047\" xlink:href=\"#DejaVuSans-46\"/>\r\n       <use x=\"95.410156\" xlink:href=\"#DejaVuSans-51\"/>\r\n       <use x=\"159.033203\" xlink:href=\"#DejaVuSans-48\"/>\r\n      </g>\r\n     </g>\r\n    </g>\r\n    <g id=\"ytick_8\">\r\n     <g id=\"line2d_16\">\r\n      <g>\r\n       <use style=\"stroke:#000000;stroke-width:0.8;\" x=\"50.14375\" xlink:href=\"#m65e35a1044\" y=\"24.056719\"/>\r\n      </g>\r\n     </g>\r\n     <g id=\"text_17\">\r\n      <!-- 0.35 -->\r\n      <g transform=\"translate(20.878125 27.855938)scale(0.1 -0.1)\">\r\n       <use xlink:href=\"#DejaVuSans-48\"/>\r\n       <use x=\"63.623047\" xlink:href=\"#DejaVuSans-46\"/>\r\n       <use x=\"95.410156\" xlink:href=\"#DejaVuSans-51\"/>\r\n       <use x=\"159.033203\" xlink:href=\"#DejaVuSans-53\"/>\r\n      </g>\r\n     </g>\r\n    </g>\r\n    <g id=\"text_18\">\r\n     <!-- Probability -->\r\n     <g transform=\"translate(14.798438 146.046562)rotate(-90)scale(0.1 -0.1)\">\r\n      <use xlink:href=\"#DejaVuSans-80\"/>\r\n      <use x=\"60.287109\" xlink:href=\"#DejaVuSans-114\"/>\r\n      <use x=\"101.369141\" xlink:href=\"#DejaVuSans-111\"/>\r\n      <use x=\"162.550781\" xlink:href=\"#DejaVuSans-98\"/>\r\n      <use x=\"226.027344\" xlink:href=\"#DejaVuSans-97\"/>\r\n      <use x=\"287.306641\" xlink:href=\"#DejaVuSans-98\"/>\r\n      <use x=\"350.783203\" xlink:href=\"#DejaVuSans-105\"/>\r\n      <use x=\"378.566406\" xlink:href=\"#DejaVuSans-108\"/>\r\n      <use x=\"406.349609\" xlink:href=\"#DejaVuSans-105\"/>\r\n      <use x=\"434.132812\" xlink:href=\"#DejaVuSans-116\"/>\r\n      <use x=\"473.341797\" xlink:href=\"#DejaVuSans-121\"/>\r\n     </g>\r\n    </g>\r\n   </g>\r\n   <g id=\"LineCollection_1\">\r\n    <path clip-path=\"url(#pbb98b92925)\" d=\"M 71.978533 187.711284 \r\nL 71.978533 178.70512 \r\n\" style=\"fill:none;stroke:#000000;stroke-width:1.5;\"/>\r\n    <path clip-path=\"url(#pbb98b92925)\" d=\"M 111.678137 37.450393 \r\nL 111.678137 21.444131 \r\n\" style=\"fill:none;stroke:#000000;stroke-width:1.5;\"/>\r\n    <path clip-path=\"url(#pbb98b92925)\" d=\"M 151.377742 109.201979 \r\nL 151.377742 95.30721 \r\n\" style=\"fill:none;stroke:#000000;stroke-width:1.5;\"/>\r\n    <path clip-path=\"url(#pbb98b92925)\" d=\"M 191.077347 125.889852 \r\nL 191.077347 112.731864 \r\n\" style=\"fill:none;stroke:#000000;stroke-width:1.5;\"/>\r\n    <path clip-path=\"url(#pbb98b92925)\" d=\"M 230.776952 217.417461 \r\nL 230.776952 212.387145 \r\n\" style=\"fill:none;stroke:#000000;stroke-width:1.5;\"/>\r\n    <path clip-path=\"url(#pbb98b92925)\" d=\"M 270.476556 171.846867 \r\nL 270.476556 161.475295 \r\n\" style=\"fill:none;stroke:#000000;stroke-width:1.5;\"/>\r\n    <path clip-path=\"url(#pbb98b92925)\" d=\"M 310.176161 212.991907 \r\nL 310.176161 207.138998 \r\n\" style=\"fill:none;stroke:#000000;stroke-width:1.5;\"/>\r\n    <path clip-path=\"url(#pbb98b92925)\" d=\"M 349.875766 218.569009 \r\nL 349.875766 213.781308 \r\n\" style=\"fill:none;stroke:#000000;stroke-width:1.5;\"/>\r\n   </g>\r\n   <g id=\"LineCollection_2\">\r\n    <path clip-path=\"url(#pbb98b92925)\" d=\"M 85.211734 202.507796 \r\nL 85.211734 195.462695 \r\n\" style=\"fill:none;stroke:#000000;stroke-width:1.5;\"/>\r\n    <path clip-path=\"url(#pbb98b92925)\" d=\"M 124.911339 36.388674 \r\nL 124.911339 21.054286 \r\n\" style=\"fill:none;stroke:#000000;stroke-width:1.5;\"/>\r\n    <path clip-path=\"url(#pbb98b92925)\" d=\"M 164.610944 167.479874 \r\nL 164.610944 157.253874 \r\n\" style=\"fill:none;stroke:#000000;stroke-width:1.5;\"/>\r\n    <path clip-path=\"url(#pbb98b92925)\" d=\"M 204.310548 110.21508 \r\nL 204.310548 96.966698 \r\n\" style=\"fill:none;stroke:#000000;stroke-width:1.5;\"/>\r\n    <path clip-path=\"url(#pbb98b92925)\" d=\"M 244.010153 178.718378 \r\nL 244.010153 169.339174 \r\n\" style=\"fill:none;stroke:#000000;stroke-width:1.5;\"/>\r\n    <path clip-path=\"url(#pbb98b92925)\" d=\"M 283.709758 152.228154 \r\nL 283.709758 141.01846 \r\n\" style=\"fill:none;stroke:#000000;stroke-width:1.5;\"/>\r\n    <path clip-path=\"url(#pbb98b92925)\" d=\"M 323.409363 214.587073 \r\nL 323.409363 209.27284 \r\n\" style=\"fill:none;stroke:#000000;stroke-width:1.5;\"/>\r\n    <path clip-path=\"url(#pbb98b92925)\" d=\"M 363.108967 218.106611 \r\nL 363.108967 213.450157 \r\n\" style=\"fill:none;stroke:#000000;stroke-width:1.5;\"/>\r\n   </g>\r\n   <g id=\"patch_19\">\r\n    <path d=\"M 50.14375 228.14 \r\nL 50.14375 10.7 \r\n\" style=\"fill:none;stroke:#000000;stroke-linecap:square;stroke-linejoin:miter;stroke-width:0.8;\"/>\r\n   </g>\r\n   <g id=\"patch_20\">\r\n    <path d=\"M 384.94375 228.14 \r\nL 384.94375 10.7 \r\n\" style=\"fill:none;stroke:#000000;stroke-linecap:square;stroke-linejoin:miter;stroke-width:0.8;\"/>\r\n   </g>\r\n   <g id=\"patch_21\">\r\n    <path d=\"M 50.14375 228.14 \r\nL 384.94375 228.14 \r\n\" style=\"fill:none;stroke:#000000;stroke-linecap:square;stroke-linejoin:miter;stroke-width:0.8;\"/>\r\n   </g>\r\n   <g id=\"patch_22\">\r\n    <path d=\"M 50.14375 10.7 \r\nL 384.94375 10.7 \r\n\" style=\"fill:none;stroke:#000000;stroke-linecap:square;stroke-linejoin:miter;stroke-width:0.8;\"/>\r\n   </g>\r\n   <g id=\"legend_1\">\r\n    <g id=\"patch_23\">\r\n     <path d=\"M 222.028125 48.05625 \r\nL 377.94375 48.05625 \r\nQ 379.94375 48.05625 379.94375 46.05625 \r\nL 379.94375 17.7 \r\nQ 379.94375 15.7 377.94375 15.7 \r\nL 222.028125 15.7 \r\nQ 220.028125 15.7 220.028125 17.7 \r\nL 220.028125 46.05625 \r\nQ 220.028125 48.05625 222.028125 48.05625 \r\nz\r\n\" style=\"fill:#ffffff;opacity:0.8;stroke:#cccccc;stroke-linejoin:miter;\"/>\r\n    </g>\r\n    <g id=\"patch_24\">\r\n     <path d=\"M 224.028125 27.298437 \r\nL 244.028125 27.298437 \r\nL 244.028125 20.298437 \r\nL 224.028125 20.298437 \r\nz\r\n\" style=\"fill:#1f77b4;\"/>\r\n    </g>\r\n    <g id=\"text_19\">\r\n     <!-- Исходные данные -->\r\n     <defs>\r\n      <path d=\"M 64.984375 72.90625 \r\nL 64.984375 0 \r\nL 55.421875 0 \r\nL 55.421875 60.984375 \r\nL 23.09375 0 \r\nL 9.8125 0 \r\nL 9.8125 72.90625 \r\nL 19.390625 72.90625 \r\nL 19.390625 11.921875 \r\nL 51.703125 72.90625 \r\nz\r\n\" id=\"DejaVuSans-1048\"/>\r\n      <path d=\"M 48.78125 52.59375 \r\nL 48.78125 44.1875 \r\nQ 44.96875 46.296875 41.140625 47.34375 \r\nQ 37.3125 48.390625 33.40625 48.390625 \r\nQ 24.65625 48.390625 19.8125 42.84375 \r\nQ 14.984375 37.3125 14.984375 27.296875 \r\nQ 14.984375 17.28125 19.8125 11.734375 \r\nQ 24.65625 6.203125 33.40625 6.203125 \r\nQ 37.3125 6.203125 41.140625 7.25 \r\nQ 44.96875 8.296875 48.78125 10.40625 \r\nL 48.78125 2.09375 \r\nQ 45.015625 0.34375 40.984375 -0.53125 \r\nQ 36.96875 -1.421875 32.421875 -1.421875 \r\nQ 20.0625 -1.421875 12.78125 6.34375 \r\nQ 5.515625 14.109375 5.515625 27.296875 \r\nQ 5.515625 40.671875 12.859375 48.328125 \r\nQ 20.21875 56 33.015625 56 \r\nQ 37.15625 56 41.109375 55.140625 \r\nQ 45.0625 54.296875 48.78125 52.59375 \r\nz\r\n\" id=\"DejaVuSans-1089\"/>\r\n      <path d=\"M 54.890625 54.6875 \r\nL 35.109375 28.078125 \r\nL 55.90625 0 \r\nL 45.3125 0 \r\nL 29.390625 21.484375 \r\nL 13.484375 0 \r\nL 2.875 0 \r\nL 24.125 28.609375 \r\nL 4.6875 54.6875 \r\nL 15.28125 54.6875 \r\nL 29.78125 35.203125 \r\nL 44.28125 54.6875 \r\nz\r\n\" id=\"DejaVuSans-1093\"/>\r\n      <path d=\"M 30.609375 48.390625 \r\nQ 23.390625 48.390625 19.1875 42.75 \r\nQ 14.984375 37.109375 14.984375 27.296875 \r\nQ 14.984375 17.484375 19.15625 11.84375 \r\nQ 23.34375 6.203125 30.609375 6.203125 \r\nQ 37.796875 6.203125 41.984375 11.859375 \r\nQ 46.1875 17.53125 46.1875 27.296875 \r\nQ 46.1875 37.015625 41.984375 42.703125 \r\nQ 37.796875 48.390625 30.609375 48.390625 \r\nz\r\nM 30.609375 56 \r\nQ 42.328125 56 49.015625 48.375 \r\nQ 55.71875 40.765625 55.71875 27.296875 \r\nQ 55.71875 13.875 49.015625 6.21875 \r\nQ 42.328125 -1.421875 30.609375 -1.421875 \r\nQ 18.84375 -1.421875 12.171875 6.21875 \r\nQ 5.515625 13.875 5.515625 27.296875 \r\nQ 5.515625 40.765625 12.171875 48.375 \r\nQ 18.84375 56 30.609375 56 \r\nz\r\n\" id=\"DejaVuSans-1086\"/>\r\n      <path d=\"M 21.625 7.171875 \r\nL 47.703125 7.171875 \r\nL 47.703125 47.515625 \r\nL 28.8125 47.515625 \r\nL 28.8125 40.671875 \r\nQ 28.8125 20.5625 23.046875 9.8125 \r\nz\r\nM 8.59375 7.171875 \r\nQ 13.03125 9.125 14.984375 13.28125 \r\nQ 19.78125 23.578125 19.78125 44.34375 \r\nL 19.78125 54.6875 \r\nL 56.734375 54.6875 \r\nL 56.734375 7.171875 \r\nL 63.921875 7.171875 \r\nL 63.921875 -13.8125 \r\nL 56.734375 -13.8125 \r\nL 56.734375 0 \r\nL 12.40625 0 \r\nL 12.40625 -13.8125 \r\nL 5.21875 -13.8125 \r\nL 5.21875 7.171875 \r\nz\r\n\" id=\"DejaVuSans-1076\"/>\r\n      <path d=\"M 9.078125 54.6875 \r\nL 18.109375 54.6875 \r\nL 18.109375 32.375 \r\nL 47.265625 32.375 \r\nL 47.265625 54.6875 \r\nL 56.296875 54.6875 \r\nL 56.296875 0 \r\nL 47.265625 0 \r\nL 47.265625 25.203125 \r\nL 18.109375 25.203125 \r\nL 18.109375 0 \r\nL 9.078125 0 \r\nz\r\n\" id=\"DejaVuSans-1085\"/>\r\n      <path d=\"M 61.078125 54.6875 \r\nL 70.0625 54.6875 \r\nL 70.0625 0 \r\nL 61.078125 0 \r\nz\r\nM 65.578125 56 \r\nz\r\nM 43.453125 16.21875 \r\nQ 43.453125 20.609375 40.25 22.90625 \r\nQ 37.0625 25.203125 30.90625 25.203125 \r\nL 18.109375 25.203125 \r\nL 18.109375 7.171875 \r\nL 30.90625 7.171875 \r\nQ 37.0625 7.171875 40.25 9.484375 \r\nQ 43.453125 11.8125 43.453125 16.21875 \r\nz\r\nM 9.078125 54.6875 \r\nL 18.109375 54.6875 \r\nL 18.109375 32.375 \r\nL 31.296875 32.375 \r\nQ 41.75 32.375 47.390625 28.390625 \r\nQ 53.03125 24.421875 53.03125 16.21875 \r\nQ 53.03125 8.015625 47.390625 4 \r\nQ 41.75 0 31.296875 0 \r\nL 9.078125 0 \r\nz\r\n\" id=\"DejaVuSans-1099\"/>\r\n      <path d=\"M 56.203125 29.59375 \r\nL 56.203125 25.203125 \r\nL 14.890625 25.203125 \r\nQ 15.484375 15.921875 20.484375 11.0625 \r\nQ 25.484375 6.203125 34.421875 6.203125 \r\nQ 39.59375 6.203125 44.453125 7.46875 \r\nQ 49.3125 8.734375 54.109375 11.28125 \r\nL 54.109375 2.78125 \r\nQ 49.265625 0.734375 44.1875 -0.34375 \r\nQ 39.109375 -1.421875 33.890625 -1.421875 \r\nQ 20.796875 -1.421875 13.15625 6.1875 \r\nQ 5.515625 13.8125 5.515625 26.8125 \r\nQ 5.515625 40.234375 12.765625 48.109375 \r\nQ 20.015625 56 32.328125 56 \r\nQ 43.359375 56 49.78125 48.890625 \r\nQ 56.203125 41.796875 56.203125 29.59375 \r\nz\r\nM 47.21875 32.234375 \r\nQ 47.125 39.59375 43.09375 43.984375 \r\nQ 39.0625 48.390625 32.421875 48.390625 \r\nQ 24.90625 48.390625 20.390625 44.140625 \r\nQ 15.875 39.890625 15.1875 32.171875 \r\nz\r\n\" id=\"DejaVuSans-1077\"/>\r\n      <path d=\"M 34.28125 27.484375 \r\nQ 23.390625 27.484375 19.1875 25 \r\nQ 14.984375 22.515625 14.984375 16.5 \r\nQ 14.984375 11.71875 18.140625 8.90625 \r\nQ 21.296875 6.109375 26.703125 6.109375 \r\nQ 34.1875 6.109375 38.703125 11.40625 \r\nQ 43.21875 16.703125 43.21875 25.484375 \r\nL 43.21875 27.484375 \r\nz\r\nM 52.203125 31.203125 \r\nL 52.203125 0 \r\nL 43.21875 0 \r\nL 43.21875 8.296875 \r\nQ 40.140625 3.328125 35.546875 0.953125 \r\nQ 30.953125 -1.421875 24.3125 -1.421875 \r\nQ 15.921875 -1.421875 10.953125 3.296875 \r\nQ 6 8.015625 6 15.921875 \r\nQ 6 25.140625 12.171875 29.828125 \r\nQ 18.359375 34.515625 30.609375 34.515625 \r\nL 43.21875 34.515625 \r\nL 43.21875 35.40625 \r\nQ 43.21875 41.609375 39.140625 45 \r\nQ 35.0625 48.390625 27.6875 48.390625 \r\nQ 23 48.390625 18.546875 47.265625 \r\nQ 14.109375 46.140625 10.015625 43.890625 \r\nL 10.015625 52.203125 \r\nQ 14.9375 54.109375 19.578125 55.046875 \r\nQ 24.21875 56 28.609375 56 \r\nQ 40.484375 56 46.34375 49.84375 \r\nQ 52.203125 43.703125 52.203125 31.203125 \r\nz\r\n\" id=\"DejaVuSans-1072\"/>\r\n     </defs>\r\n     <g transform=\"translate(252.028125 27.298437)scale(0.1 -0.1)\">\r\n      <use xlink:href=\"#DejaVuSans-1048\"/>\r\n      <use x=\"74.804688\" xlink:href=\"#DejaVuSans-1089\"/>\r\n      <use x=\"129.785156\" xlink:href=\"#DejaVuSans-1093\"/>\r\n      <use x=\"188.964844\" xlink:href=\"#DejaVuSans-1086\"/>\r\n      <use x=\"250.146484\" xlink:href=\"#DejaVuSans-1076\"/>\r\n      <use x=\"319.287109\" xlink:href=\"#DejaVuSans-1085\"/>\r\n      <use x=\"384.667969\" xlink:href=\"#DejaVuSans-1099\"/>\r\n      <use x=\"463.623047\" xlink:href=\"#DejaVuSans-1077\"/>\r\n      <use x=\"525.146484\" xlink:href=\"#DejaVuSans-32\"/>\r\n      <use x=\"556.933594\" xlink:href=\"#DejaVuSans-1076\"/>\r\n      <use x=\"626.074219\" xlink:href=\"#DejaVuSans-1072\"/>\r\n      <use x=\"687.353516\" xlink:href=\"#DejaVuSans-1085\"/>\r\n      <use x=\"752.734375\" xlink:href=\"#DejaVuSans-1085\"/>\r\n      <use x=\"818.115234\" xlink:href=\"#DejaVuSans-1099\"/>\r\n      <use x=\"897.070312\" xlink:href=\"#DejaVuSans-1077\"/>\r\n     </g>\r\n    </g>\r\n    <g id=\"patch_25\">\r\n     <path d=\"M 224.028125 41.976562 \r\nL 244.028125 41.976562 \r\nL 244.028125 34.976562 \r\nL 224.028125 34.976562 \r\nz\r\n\" style=\"fill:#ff7f0e;\"/>\r\n    </g>\r\n    <g id=\"text_20\">\r\n     <!-- Синтетические данные -->\r\n     <defs>\r\n      <path d=\"M 64.40625 67.28125 \r\nL 64.40625 56.890625 \r\nQ 59.421875 61.53125 53.78125 63.8125 \r\nQ 48.140625 66.109375 41.796875 66.109375 \r\nQ 29.296875 66.109375 22.65625 58.46875 \r\nQ 16.015625 50.828125 16.015625 36.375 \r\nQ 16.015625 21.96875 22.65625 14.328125 \r\nQ 29.296875 6.6875 41.796875 6.6875 \r\nQ 48.140625 6.6875 53.78125 8.984375 \r\nQ 59.421875 11.28125 64.40625 15.921875 \r\nL 64.40625 5.609375 \r\nQ 59.234375 2.09375 53.4375 0.328125 \r\nQ 47.65625 -1.421875 41.21875 -1.421875 \r\nQ 24.65625 -1.421875 15.125 8.703125 \r\nQ 5.609375 18.84375 5.609375 36.375 \r\nQ 5.609375 53.953125 15.125 64.078125 \r\nQ 24.65625 74.21875 41.21875 74.21875 \r\nQ 47.75 74.21875 53.53125 72.484375 \r\nQ 59.328125 70.75 64.40625 67.28125 \r\nz\r\n\" id=\"DejaVuSans-1057\"/>\r\n      <path d=\"M 55.90625 54.6875 \r\nL 55.90625 0 \r\nL 46.96875 0 \r\nL 46.96875 43.890625 \r\nL 20.609375 0 \r\nL 9.078125 0 \r\nL 9.078125 54.6875 \r\nL 18.015625 54.6875 \r\nL 18.015625 10.890625 \r\nL 44.34375 54.6875 \r\nz\r\n\" id=\"DejaVuSans-1080\"/>\r\n      <path d=\"M 2.9375 54.6875 \r\nL 55.328125 54.6875 \r\nL 55.328125 47.515625 \r\nL 33.546875 47.515625 \r\nL 33.546875 0 \r\nL 24.703125 0 \r\nL 24.703125 47.515625 \r\nL 2.9375 47.515625 \r\nz\r\n\" id=\"DejaVuSans-1090\"/>\r\n      <path d=\"M 41.015625 0 \r\nL 41.015625 23 \r\nL 24.265625 23 \r\nQ 16.796875 23 11.8125 27.640625 \r\nQ 7.328125 31.84375 7.328125 40.828125 \r\nL 7.328125 54.6875 \r\nL 16.3125 54.6875 \r\nL 16.3125 41.65625 \r\nQ 16.3125 35.9375 18.84375 33.0625 \r\nQ 21.4375 30.171875 26.515625 30.171875 \r\nL 41.015625 30.171875 \r\nL 41.015625 54.6875 \r\nL 50 54.6875 \r\nL 50 0 \r\nz\r\n\" id=\"DejaVuSans-1095\"/>\r\n      <path d=\"M 9.078125 54.6875 \r\nL 18.015625 54.6875 \r\nL 18.015625 29 \r\nL 43.359375 54.6875 \r\nL 54.390625 54.6875 \r\nL 33.5 33.546875 \r\nL 57.078125 0 \r\nL 47.015625 0 \r\nL 27.640625 27.59375 \r\nL 18.015625 17.828125 \r\nL 18.015625 0 \r\nL 9.078125 0 \r\nz\r\n\" id=\"DejaVuSans-1082\"/>\r\n     </defs>\r\n     <g transform=\"translate(252.028125 41.976562)scale(0.1 -0.1)\">\r\n      <use xlink:href=\"#DejaVuSans-1057\"/>\r\n      <use x=\"69.824219\" xlink:href=\"#DejaVuSans-1080\"/>\r\n      <use x=\"134.814453\" xlink:href=\"#DejaVuSans-1085\"/>\r\n      <use x=\"200.195312\" xlink:href=\"#DejaVuSans-1090\"/>\r\n      <use x=\"258.447266\" xlink:href=\"#DejaVuSans-1077\"/>\r\n      <use x=\"319.970703\" xlink:href=\"#DejaVuSans-1090\"/>\r\n      <use x=\"378.222656\" xlink:href=\"#DejaVuSans-1080\"/>\r\n      <use x=\"443.212891\" xlink:href=\"#DejaVuSans-1095\"/>\r\n      <use x=\"502.294922\" xlink:href=\"#DejaVuSans-1077\"/>\r\n      <use x=\"563.818359\" xlink:href=\"#DejaVuSans-1089\"/>\r\n      <use x=\"618.798828\" xlink:href=\"#DejaVuSans-1082\"/>\r\n      <use x=\"679.199219\" xlink:href=\"#DejaVuSans-1080\"/>\r\n      <use x=\"744.189453\" xlink:href=\"#DejaVuSans-1077\"/>\r\n      <use x=\"805.712891\" xlink:href=\"#DejaVuSans-32\"/>\r\n      <use x=\"837.5\" xlink:href=\"#DejaVuSans-1076\"/>\r\n      <use x=\"906.640625\" xlink:href=\"#DejaVuSans-1072\"/>\r\n      <use x=\"967.919922\" xlink:href=\"#DejaVuSans-1085\"/>\r\n      <use x=\"1033.300781\" xlink:href=\"#DejaVuSans-1085\"/>\r\n      <use x=\"1098.681641\" xlink:href=\"#DejaVuSans-1099\"/>\r\n      <use x=\"1177.636719\" xlink:href=\"#DejaVuSans-1077\"/>\r\n     </g>\r\n    </g>\r\n   </g>\r\n  </g>\r\n </g>\r\n <defs>\r\n  <clipPath id=\"pbb98b92925\">\r\n   <rect height=\"217.44\" width=\"334.8\" x=\"50.14375\" y=\"10.7\"/>\r\n  </clipPath>\r\n </defs>\r\n</svg>\r\n",
      "image/png": "[encoded data removed]"
     },
     "metadata": {
      "needs_background": "light"
     }
    }
   ],
   "source": [
    "draw_comparative_hist('top1', data_filter, sample)"
   ]
  },
  {
   "cell_type": "code",
   "execution_count": 67,
   "metadata": {},
   "outputs": [
    {
     "output_type": "stream",
     "name": "stdout",
     "text": [
      "220.57396340370178\n"
     ]
    }
   ],
   "source": [
    "end = time.time()\n",
    "print(end - start)"
   ]
  },
  {
   "cell_type": "code",
   "execution_count": 68,
   "metadata": {},
   "outputs": [],
   "source": [
    "final_struct = dict()\n",
    "final_struct['V'] = hybn_final.V\n",
    "final_struct['E'] = hybn_final.E"
   ]
  },
  {
   "cell_type": "code",
   "execution_count": 69,
   "metadata": {},
   "outputs": [
    {
     "output_type": "execute_result",
     "data": {
      "text/plain": [
       "['relation_status',\n",
       " 'has_high_education',\n",
       " 'number_of_relatives',\n",
       " 'age',\n",
       " 'sex',\n",
       " 'L 0_1',\n",
       " 'number_of_activities',\n",
       " 'number_of_interests',\n",
       " 'number_of_movies',\n",
       " 'number_of_books',\n",
       " 'len_of_about',\n",
       " 'L 1_3',\n",
       " 'L 0_2',\n",
       " 'L 0_4',\n",
       " 'cash_usage',\n",
       " 'parent',\n",
       " 'driver',\n",
       " 'has_pets',\n",
       " 'L 4_2',\n",
       " 'mean_tr',\n",
       " 'max_tr',\n",
       " 'L 0_3',\n",
       " 'nodes',\n",
       " 'L 3_2',\n",
       " 'top1',\n",
       " 'top2',\n",
       " 'top3',\n",
       " 'top4',\n",
       " 'degree_assortativity_coefficient',\n",
       " 'eigenvector_centrality',\n",
       " 'betweenness_centrality',\n",
       " 'density']"
      ]
     },
     "metadata": {},
     "execution_count": 69
    }
   ],
   "source": [
    "final_struct['V'] "
   ]
  },
  {
   "cell_type": "code",
   "execution_count": 70,
   "metadata": {},
   "outputs": [
    {
     "output_type": "execute_result",
     "data": {
      "text/plain": [
       "[['top1', 'top3'],\n",
       " ['driver', 'max_tr'],\n",
       " ['number_of_movies', 'number_of_books'],\n",
       " ['number_of_activities', 'number_of_interests'],\n",
       " ['number_of_relatives', 'L 0_3'],\n",
       " ['eigenvector_centrality', 'betweenness_centrality'],\n",
       " ['has_pets', 'L 4_2'],\n",
       " ['cash_usage', 'mean_tr'],\n",
       " ['number_of_relatives', 'L 0_2'],\n",
       " ['nodes', 'L 3_2'],\n",
       " ['mean_tr', 'max_tr'],\n",
       " ['nodes', 'density'],\n",
       " ['L 0_1', 'number_of_activities'],\n",
       " ['parent', 'max_tr'],\n",
       " ['top3', 'top4'],\n",
       " ['L 0_2', 'top1'],\n",
       " ['top2', 'top3'],\n",
       " ['parent', 'driver'],\n",
       " ['L 4_2', 'top1'],\n",
       " ['sex', 'L 0_1'],\n",
       " ['sex', 'L 0_2'],\n",
       " ['number_of_relatives', 'L 0_4'],\n",
       " ['nodes', 'degree_assortativity_coefficient'],\n",
       " ['has_pets', 'mean_tr'],\n",
       " ['degree_assortativity_coefficient', 'betweenness_centrality'],\n",
       " ['cash_usage', 'driver'],\n",
       " ['top1', 'top2'],\n",
       " ['number_of_relatives', 'L 0_1'],\n",
       " ['has_high_education', 'number_of_relatives'],\n",
       " ['sex', 'L 0_4'],\n",
       " ['parent', 'has_pets'],\n",
       " ['parent', 'L 4_2'],\n",
       " ['top2', 'top4'],\n",
       " ['age', 'sex'],\n",
       " ['cash_usage', 'parent'],\n",
       " ['relation_status', 'age'],\n",
       " ['top1', 'top4'],\n",
       " ['degree_assortativity_coefficient', 'eigenvector_centrality'],\n",
       " ['betweenness_centrality', 'density'],\n",
       " ['driver', 'mean_tr'],\n",
       " ['relation_status', 'has_high_education'],\n",
       " ['L 0_4', 'cash_usage'],\n",
       " ['has_high_education', 'age'],\n",
       " ['has_pets', 'max_tr'],\n",
       " ['L 1_3', 'nodes'],\n",
       " ['number_of_activities', 'len_of_about'],\n",
       " ['driver', 'has_pets'],\n",
       " ['len_of_about', 'L 1_3'],\n",
       " ['L 0_3', 'nodes'],\n",
       " ['sex', 'L 0_3'],\n",
       " ['number_of_books', 'L 1_3'],\n",
       " ['driver', 'L 4_2'],\n",
       " ['parent', 'mean_tr'],\n",
       " ['number_of_interests', 'number_of_movies'],\n",
       " ['L 3_2', 'top1']]"
      ]
     },
     "metadata": {},
     "execution_count": 70
    }
   ],
   "source": [
    "final_struct['E']"
   ]
  },
  {
   "cell_type": "code",
   "execution_count": 71,
   "metadata": {},
   "outputs": [],
   "source": [
    "node_type_final['L 0_1'] = 'disc'\n",
    "node_type_final['L 0_3'] = 'disc'\n",
    "node_type_final['L 0_4'] = 'disc'\n",
    "node_type_final['L 0_2'] = 'disc'\n",
    "node_type_final['L 2_4'] = 'disc'\n",
    "node_type_final['L 2_0'] = 'disc'\n",
    "node_type_final['L 4_2'] = 'disc'\n",
    "node_type_final['L 3_0'] = 'disc'\n",
    "node_type_final['L 1_0'] = 'disc'\n",
    "node_type_final['L 1_3'] = 'disc'\n",
    "node_type_final['L 3_2'] = 'disc'"
   ]
  },
  {
   "cell_type": "code",
   "execution_count": 72,
   "metadata": {},
   "outputs": [
    {
     "output_type": "execute_result",
     "data": {
      "text/plain": [
       "{'age': 'disc',\n",
       " 'sex': 'disc',\n",
       " 'has_high_education': 'disc',\n",
       " 'relation_status': 'disc',\n",
       " 'number_of_relatives': 'disc',\n",
       " 'len_of_about': 'disc',\n",
       " 'number_of_activities': 'disc',\n",
       " 'number_of_books': 'disc',\n",
       " 'number_of_interests': 'disc',\n",
       " 'number_of_movies': 'disc',\n",
       " 'top1': 'disc',\n",
       " 'top2': 'disc',\n",
       " 'top3': 'disc',\n",
       " 'top4': 'disc',\n",
       " 'nodes': 'disc',\n",
       " 'betweenness_centrality': 'cont',\n",
       " 'eigenvector_centrality': 'cont',\n",
       " 'density': 'cont',\n",
       " 'degree_assortativity_coefficient': 'cont',\n",
       " 'max_tr': 'cont',\n",
       " 'mean_tr': 'cont',\n",
       " 'parent': 'disc',\n",
       " 'driver': 'disc',\n",
       " 'has_pets': 'disc',\n",
       " 'cash_usage': 'disc',\n",
       " 'L 0_1': 'disc',\n",
       " 'L 0_3': 'disc',\n",
       " 'L 0_4': 'disc',\n",
       " 'L 0_2': 'disc',\n",
       " 'L 2_4': 'disc',\n",
       " 'L 2_0': 'disc',\n",
       " 'L 4_2': 'disc',\n",
       " 'L 3_0': 'disc',\n",
       " 'L 1_0': 'disc',\n",
       " 'L 1_3': 'disc',\n",
       " 'L 3_2': 'disc'}"
      ]
     },
     "metadata": {},
     "execution_count": 72
    }
   ],
   "source": [
    "node_type_final"
   ]
  },
  {
   "cell_type": "code",
   "execution_count": 76,
   "metadata": {},
   "outputs": [
    {
     "output_type": "execute_result",
     "data": {
      "text/plain": [
       "{'V': ['relation_status',\n",
       "  'has_high_education',\n",
       "  'number_of_relatives',\n",
       "  'age',\n",
       "  'sex',\n",
       "  'L 0_1',\n",
       "  'number_of_activities',\n",
       "  'number_of_interests',\n",
       "  'number_of_movies',\n",
       "  'number_of_books',\n",
       "  'len_of_about',\n",
       "  'L 1_3',\n",
       "  'L 0_2',\n",
       "  'L 0_4',\n",
       "  'cash_usage',\n",
       "  'parent',\n",
       "  'driver',\n",
       "  'has_pets',\n",
       "  'L 4_2',\n",
       "  'mean_tr',\n",
       "  'max_tr',\n",
       "  'L 0_3',\n",
       "  'nodes',\n",
       "  'L 3_2',\n",
       "  'top1',\n",
       "  'top2',\n",
       "  'top3',\n",
       "  'top4',\n",
       "  'degree_assortativity_coefficient',\n",
       "  'eigenvector_centrality',\n",
       "  'betweenness_centrality',\n",
       "  'density'],\n",
       " 'E': [['top1', 'top3'],\n",
       "  ['driver', 'max_tr'],\n",
       "  ['number_of_movies', 'number_of_books'],\n",
       "  ['number_of_activities', 'number_of_interests'],\n",
       "  ['number_of_relatives', 'L 0_3'],\n",
       "  ['eigenvector_centrality', 'betweenness_centrality'],\n",
       "  ['has_pets', 'L 4_2'],\n",
       "  ['cash_usage', 'mean_tr'],\n",
       "  ['number_of_relatives', 'L 0_2'],\n",
       "  ['nodes', 'L 3_2'],\n",
       "  ['mean_tr', 'max_tr'],\n",
       "  ['nodes', 'density'],\n",
       "  ['L 0_1', 'number_of_activities'],\n",
       "  ['parent', 'max_tr'],\n",
       "  ['top3', 'top4'],\n",
       "  ['L 0_2', 'top1'],\n",
       "  ['top2', 'top3'],\n",
       "  ['parent', 'driver'],\n",
       "  ['L 4_2', 'top1'],\n",
       "  ['sex', 'L 0_1'],\n",
       "  ['sex', 'L 0_2'],\n",
       "  ['number_of_relatives', 'L 0_4'],\n",
       "  ['nodes', 'degree_assortativity_coefficient'],\n",
       "  ['has_pets', 'mean_tr'],\n",
       "  ['degree_assortativity_coefficient', 'betweenness_centrality'],\n",
       "  ['cash_usage', 'driver'],\n",
       "  ['top1', 'top2'],\n",
       "  ['number_of_relatives', 'L 0_1'],\n",
       "  ['has_high_education', 'number_of_relatives'],\n",
       "  ['sex', 'L 0_4'],\n",
       "  ['parent', 'has_pets'],\n",
       "  ['parent', 'L 4_2'],\n",
       "  ['top2', 'top4'],\n",
       "  ['age', 'sex'],\n",
       "  ['cash_usage', 'parent'],\n",
       "  ['relation_status', 'age'],\n",
       "  ['top1', 'top4'],\n",
       "  ['degree_assortativity_coefficient', 'eigenvector_centrality'],\n",
       "  ['betweenness_centrality', 'density'],\n",
       "  ['driver', 'mean_tr'],\n",
       "  ['relation_status', 'has_high_education'],\n",
       "  ['L 0_4', 'cash_usage'],\n",
       "  ['has_high_education', 'age'],\n",
       "  ['has_pets', 'max_tr'],\n",
       "  ['L 1_3', 'nodes'],\n",
       "  ['number_of_activities', 'len_of_about'],\n",
       "  ['driver', 'has_pets'],\n",
       "  ['len_of_about', 'L 1_3'],\n",
       "  ['L 0_3', 'nodes'],\n",
       "  ['sex', 'L 0_3'],\n",
       "  ['number_of_books', 'L 1_3'],\n",
       "  ['driver', 'L 4_2'],\n",
       "  ['parent', 'mean_tr'],\n",
       "  ['number_of_interests', 'number_of_movies'],\n",
       "  ['L 3_2', 'top1']]}"
      ]
     },
     "metadata": {},
     "execution_count": 76
    }
   ],
   "source": [
    "final_struct"
   ]
  },
  {
   "cell_type": "code",
   "execution_count": 75,
   "metadata": {},
   "outputs": [
    {
     "output_type": "display_data",
     "data": {
      "text/plain": "<Figure size 2025x225 with 1 Axes>",
      "image/svg+xml": "<?xml version=\"1.0\" encoding=\"utf-8\" standalone=\"no\"?>\r\n<!DOCTYPE svg PUBLIC \"-//W3C//DTD SVG 1.1//EN\"\r\n  \"http://www.w3.org/Graphics/SVG/1.1/DTD/svg11.dtd\">\r\n<!-- Created with matplotlib (https://matplotlib.org/) -->\r\n<svg height=\"100.837344pt\" version=\"1.1\" viewBox=\"0 0 958.444687 100.837344\" width=\"958.444687pt\" xmlns=\"http://www.w3.org/2000/svg\" xmlns:xlink=\"http://www.w3.org/1999/xlink\">\r\n <defs>\r\n  <style type=\"text/css\">\r\n*{stroke-linecap:butt;stroke-linejoin:round;}\r\n  </style>\r\n </defs>\r\n <g id=\"figure_1\">\r\n  <g id=\"patch_1\">\r\n   <path d=\"M 0 100.837344 \r\nL 958.444687 100.837344 \r\nL 958.444687 0 \r\nL 0 0 \r\nz\r\n\" style=\"fill:none;\"/>\r\n  </g>\r\n  <g id=\"axes_1\">\r\n   <g id=\"legend_1\">\r\n    <g id=\"patch_2\">\r\n     <path d=\"M 425.843438 52.818281 \r\nL 547.552813 52.818281 \r\nQ 549.552813 52.818281 549.552813 50.818281 \r\nL 549.552813 37.140156 \r\nQ 549.552813 35.140156 547.552813 35.140156 \r\nL 425.843438 35.140156 \r\nQ 423.843438 35.140156 423.843438 37.140156 \r\nL 423.843438 50.818281 \r\nQ 423.843438 52.818281 425.843438 52.818281 \r\nz\r\n\" style=\"fill:#ffffff;opacity:0.8;stroke:#cccccc;stroke-linejoin:miter;\"/>\r\n    </g>\r\n    <g id=\"patch_3\">\r\n     <path d=\"M 427.843438 46.738594 \r\nL 447.843438 46.738594 \r\nL 447.843438 39.738594 \r\nL 427.843438 39.738594 \r\nz\r\n\" style=\"fill:#fafad2;stroke:#fafad2;stroke-linejoin:miter;\"/>\r\n    </g>\r\n    <g id=\"text_1\">\r\n     <!-- disc -->\r\n     <defs>\r\n      <path d=\"M 45.40625 46.390625 \r\nL 45.40625 75.984375 \r\nL 54.390625 75.984375 \r\nL 54.390625 0 \r\nL 45.40625 0 \r\nL 45.40625 8.203125 \r\nQ 42.578125 3.328125 38.25 0.953125 \r\nQ 33.9375 -1.421875 27.875 -1.421875 \r\nQ 17.96875 -1.421875 11.734375 6.484375 \r\nQ 5.515625 14.40625 5.515625 27.296875 \r\nQ 5.515625 40.1875 11.734375 48.09375 \r\nQ 17.96875 56 27.875 56 \r\nQ 33.9375 56 38.25 53.625 \r\nQ 42.578125 51.265625 45.40625 46.390625 \r\nz\r\nM 14.796875 27.296875 \r\nQ 14.796875 17.390625 18.875 11.75 \r\nQ 22.953125 6.109375 30.078125 6.109375 \r\nQ 37.203125 6.109375 41.296875 11.75 \r\nQ 45.40625 17.390625 45.40625 27.296875 \r\nQ 45.40625 37.203125 41.296875 42.84375 \r\nQ 37.203125 48.484375 30.078125 48.484375 \r\nQ 22.953125 48.484375 18.875 42.84375 \r\nQ 14.796875 37.203125 14.796875 27.296875 \r\nz\r\n\" id=\"DejaVuSans-100\"/>\r\n      <path d=\"M 9.421875 54.6875 \r\nL 18.40625 54.6875 \r\nL 18.40625 0 \r\nL 9.421875 0 \r\nz\r\nM 9.421875 75.984375 \r\nL 18.40625 75.984375 \r\nL 18.40625 64.59375 \r\nL 9.421875 64.59375 \r\nz\r\n\" id=\"DejaVuSans-105\"/>\r\n      <path d=\"M 44.28125 53.078125 \r\nL 44.28125 44.578125 \r\nQ 40.484375 46.53125 36.375 47.5 \r\nQ 32.28125 48.484375 27.875 48.484375 \r\nQ 21.1875 48.484375 17.84375 46.4375 \r\nQ 14.5 44.390625 14.5 40.28125 \r\nQ 14.5 37.15625 16.890625 35.375 \r\nQ 19.28125 33.59375 26.515625 31.984375 \r\nL 29.59375 31.296875 \r\nQ 39.15625 29.25 43.1875 25.515625 \r\nQ 47.21875 21.78125 47.21875 15.09375 \r\nQ 47.21875 7.46875 41.1875 3.015625 \r\nQ 35.15625 -1.421875 24.609375 -1.421875 \r\nQ 20.21875 -1.421875 15.453125 -0.5625 \r\nQ 10.6875 0.296875 5.421875 2 \r\nL 5.421875 11.28125 \r\nQ 10.40625 8.6875 15.234375 7.390625 \r\nQ 20.0625 6.109375 24.8125 6.109375 \r\nQ 31.15625 6.109375 34.5625 8.28125 \r\nQ 37.984375 10.453125 37.984375 14.40625 \r\nQ 37.984375 18.0625 35.515625 20.015625 \r\nQ 33.0625 21.96875 24.703125 23.78125 \r\nL 21.578125 24.515625 \r\nQ 13.234375 26.265625 9.515625 29.90625 \r\nQ 5.8125 33.546875 5.8125 39.890625 \r\nQ 5.8125 47.609375 11.28125 51.796875 \r\nQ 16.75 56 26.8125 56 \r\nQ 31.78125 56 36.171875 55.265625 \r\nQ 40.578125 54.546875 44.28125 53.078125 \r\nz\r\n\" id=\"DejaVuSans-115\"/>\r\n      <path d=\"M 48.78125 52.59375 \r\nL 48.78125 44.1875 \r\nQ 44.96875 46.296875 41.140625 47.34375 \r\nQ 37.3125 48.390625 33.40625 48.390625 \r\nQ 24.65625 48.390625 19.8125 42.84375 \r\nQ 14.984375 37.3125 14.984375 27.296875 \r\nQ 14.984375 17.28125 19.8125 11.734375 \r\nQ 24.65625 6.203125 33.40625 6.203125 \r\nQ 37.3125 6.203125 41.140625 7.25 \r\nQ 44.96875 8.296875 48.78125 10.40625 \r\nL 48.78125 2.09375 \r\nQ 45.015625 0.34375 40.984375 -0.53125 \r\nQ 36.96875 -1.421875 32.421875 -1.421875 \r\nQ 20.0625 -1.421875 12.78125 6.34375 \r\nQ 5.515625 14.109375 5.515625 27.296875 \r\nQ 5.515625 40.671875 12.859375 48.328125 \r\nQ 20.21875 56 33.015625 56 \r\nQ 37.15625 56 41.109375 55.140625 \r\nQ 45.0625 54.296875 48.78125 52.59375 \r\nz\r\n\" id=\"DejaVuSans-99\"/>\r\n     </defs>\r\n     <g transform=\"translate(455.843438 46.738594)scale(0.1 -0.1)\">\r\n      <use xlink:href=\"#DejaVuSans-100\"/>\r\n      <use x=\"63.476562\" xlink:href=\"#DejaVuSans-105\"/>\r\n      <use x=\"91.259766\" xlink:href=\"#DejaVuSans-115\"/>\r\n      <use x=\"143.359375\" xlink:href=\"#DejaVuSans-99\"/>\r\n     </g>\r\n    </g>\r\n    <g id=\"patch_4\">\r\n     <path d=\"M 495.677813 46.738594 \r\nL 515.677813 46.738594 \r\nL 515.677813 39.738594 \r\nL 495.677813 39.738594 \r\nz\r\n\" style=\"fill:#778899;stroke:#778899;stroke-linejoin:miter;\"/>\r\n    </g>\r\n    <g id=\"text_2\">\r\n     <!-- cont -->\r\n     <defs>\r\n      <path d=\"M 30.609375 48.390625 \r\nQ 23.390625 48.390625 19.1875 42.75 \r\nQ 14.984375 37.109375 14.984375 27.296875 \r\nQ 14.984375 17.484375 19.15625 11.84375 \r\nQ 23.34375 6.203125 30.609375 6.203125 \r\nQ 37.796875 6.203125 41.984375 11.859375 \r\nQ 46.1875 17.53125 46.1875 27.296875 \r\nQ 46.1875 37.015625 41.984375 42.703125 \r\nQ 37.796875 48.390625 30.609375 48.390625 \r\nz\r\nM 30.609375 56 \r\nQ 42.328125 56 49.015625 48.375 \r\nQ 55.71875 40.765625 55.71875 27.296875 \r\nQ 55.71875 13.875 49.015625 6.21875 \r\nQ 42.328125 -1.421875 30.609375 -1.421875 \r\nQ 18.84375 -1.421875 12.171875 6.21875 \r\nQ 5.515625 13.875 5.515625 27.296875 \r\nQ 5.515625 40.765625 12.171875 48.375 \r\nQ 18.84375 56 30.609375 56 \r\nz\r\n\" id=\"DejaVuSans-111\"/>\r\n      <path d=\"M 54.890625 33.015625 \r\nL 54.890625 0 \r\nL 45.90625 0 \r\nL 45.90625 32.71875 \r\nQ 45.90625 40.484375 42.875 44.328125 \r\nQ 39.84375 48.1875 33.796875 48.1875 \r\nQ 26.515625 48.1875 22.3125 43.546875 \r\nQ 18.109375 38.921875 18.109375 30.90625 \r\nL 18.109375 0 \r\nL 9.078125 0 \r\nL 9.078125 54.6875 \r\nL 18.109375 54.6875 \r\nL 18.109375 46.1875 \r\nQ 21.34375 51.125 25.703125 53.5625 \r\nQ 30.078125 56 35.796875 56 \r\nQ 45.21875 56 50.046875 50.171875 \r\nQ 54.890625 44.34375 54.890625 33.015625 \r\nz\r\n\" id=\"DejaVuSans-110\"/>\r\n      <path d=\"M 18.3125 70.21875 \r\nL 18.3125 54.6875 \r\nL 36.8125 54.6875 \r\nL 36.8125 47.703125 \r\nL 18.3125 47.703125 \r\nL 18.3125 18.015625 \r\nQ 18.3125 11.328125 20.140625 9.421875 \r\nQ 21.96875 7.515625 27.59375 7.515625 \r\nL 36.8125 7.515625 \r\nL 36.8125 0 \r\nL 27.59375 0 \r\nQ 17.1875 0 13.234375 3.875 \r\nQ 9.28125 7.765625 9.28125 18.015625 \r\nL 9.28125 47.703125 \r\nL 2.6875 47.703125 \r\nL 2.6875 54.6875 \r\nL 9.28125 54.6875 \r\nL 9.28125 70.21875 \r\nz\r\n\" id=\"DejaVuSans-116\"/>\r\n     </defs>\r\n     <g transform=\"translate(523.677813 46.738594)scale(0.1 -0.1)\">\r\n      <use xlink:href=\"#DejaVuSans-99\"/>\r\n      <use x=\"54.980469\" xlink:href=\"#DejaVuSans-111\"/>\r\n      <use x=\"116.162109\" xlink:href=\"#DejaVuSans-110\"/>\r\n      <use x=\"179.541016\" xlink:href=\"#DejaVuSans-116\"/>\r\n     </g>\r\n    </g>\r\n   </g>\r\n  </g>\r\n </g>\r\n</svg>\r\n",
      "image/png": "[encoded data removed]"
     },
     "metadata": {
      "needs_background": "light"
     }
    },
    {
     "output_type": "execute_result",
     "data": {
      "text/plain": [
       "<IPython.lib.display.IFrame at 0xae440eb6d8>"
      ],
      "text/html": "\n        <iframe\n            width=\"100%\"\n            height=\"800px\"\n            src=\"visualization_result/final_net.html\"\n            frameborder=\"0\"\n            allowfullscreen\n        ></iframe>\n        "
     },
     "metadata": {},
     "execution_count": 75
    }
   ],
   "source": [
    "visualizer(final_struct, node_type_final, 'final_net')"
   ]
  }
 ]
}