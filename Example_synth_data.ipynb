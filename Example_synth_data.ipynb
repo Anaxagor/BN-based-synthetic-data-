{
 "metadata": {
  "language_info": {
   "codemirror_mode": {
    "name": "ipython",
    "version": 3
   },
   "file_extension": ".py",
   "mimetype": "text/x-python",
   "name": "python",
   "nbconvert_exporter": "python",
   "pygments_lexer": "ipython3",
   "version": "3.8.8"
  },
  "orig_nbformat": 2,
  "kernelspec": {
   "name": "python388jvsc74a57bd00110e3ad3d2995649b9eed0505b86961f21d80e4cfa55b9dc2096312fa84aa23",
   "display_name": "Python 3.8.8 64-bit"
  },
  "metadata": {
   "interpreter": {
    "hash": "0110e3ad3d2995649b9eed0505b86961f21d80e4cfa55b9dc2096312fa84aa23"
   }
  }
 },
 "nbformat": 4,
 "nbformat_minor": 2,
 "cells": [
  {
   "cell_type": "code",
   "execution_count": 43,
   "metadata": {},
   "outputs": [],
   "source": [
    "import pandas as pd\n",
    "from preprocess.discretization import discretization, get_nodes_type, code_categories, get_nodes_sign\n",
    "from bayesian.train_bn import structure_learning, parameter_learning\n",
    "from block_learning.partial_bn_train import connect_partial_bn, hierarchical_train, direct_connect, direct_train, range_pairs\n",
    "import seaborn as sns\n",
    "import numpy as np\n",
    "from copy import  copy\n",
    "import time\n",
    "import matplotlib.pyplot as plt\n",
    "from sklearn.preprocessing import StandardScaler, MinMaxScaler\n",
    "from bayesian.save_bn import save_structure, save_params, read_structure, read_params\n",
    "from bayesian.sampling import generate_synthetics\n",
    "from external.libpgm.hybayesiannetwork import HyBayesianNetwork\n",
    "from visualization.visualization import draw_BN, draw_comparative_hist\n",
    "import networkx as nx\n",
    "from pomegranate import log_probability, BayesianNetwork\n",
    "from external.libpgm.sampleaggregator import SampleAggregator\n",
    "import operator"
   ]
  },
  {
   "cell_type": "code",
   "execution_count": 59,
   "metadata": {},
   "outputs": [
    {
     "output_type": "execute_result",
     "data": {
      "text/plain": [
       "  first_name      last_name  sex  age  city_id  has_high_education  relation  \\\n",
       "0      Darya     Tsiberkina  1.0   33        2                   0         4   \n",
       "1       Gleb        Kotenev  2.0   18        2                   0         0   \n",
       "2       Anna        Pavlova  1.0   34        2                   0         0   \n",
       "3     Serega       Martynov  2.0   39        2                   0         0   \n",
       "4      Maria     Pavlyukova  1.0    0        2                   0         0   \n",
       "5       Yury       Golubkov  2.0   47        2                   0         0   \n",
       "6   Svetlana       Muratova  1.0   48        2                   0         4   \n",
       "7       Ivan       Poletaev  2.0    0        2                   0         0   \n",
       "8  Anastasia  Yaguzhinskaya  1.0   25        1                   0         0   \n",
       "9  Valentina       Trokhova  1.0   55        2                   0         0   \n",
       "\n",
       "   num_of_relatives  followers_count  status  ...  top3     top3_mean  \\\n",
       "0                 2              486       8  ...  5812   1277.784568   \n",
       "1                 2                0       5  ...  5814    384.000000   \n",
       "2                 2                7       0  ...  6011  24000.000000   \n",
       "3                 2                7      10  ...  5411    142.175000   \n",
       "4                 2              144       0  ...  6011   1095.238095   \n",
       "5                 2                0       0  ...  5964    760.580000   \n",
       "6                 2               30       0  ...  5411    113.000000   \n",
       "7                 2               53      23  ...  5411    446.565263   \n",
       "8                 2              111       3  ...  5499    185.523529   \n",
       "9                12               56       0  ...  5499    345.572472   \n",
       "\n",
       "   game_sum  is_gamer  parent_sum is_parent  driver_sum is_driver  pets_sum  \\\n",
       "0       0.0         0     9968.00         1         0.0         0       0.0   \n",
       "1       0.0         0        0.00         0         0.0         0       0.0   \n",
       "2       0.0         0        0.00         0         0.0         0       0.0   \n",
       "3       0.0         0        0.00         0         0.0         0       0.0   \n",
       "4       0.0         0    60331.59         1         0.0         0      80.0   \n",
       "5       0.0         0        0.00         0         0.0         0       0.0   \n",
       "6       0.0         0        0.00         0         0.0         0       0.0   \n",
       "7    1000.0         1        0.00         0         0.0         0       0.0   \n",
       "8       0.0         0        0.00         0         0.0         0    1287.0   \n",
       "9       0.0         0        0.00         0         0.0         0       0.0   \n",
       "\n",
       "   has_pets  \n",
       "0         0  \n",
       "1         0  \n",
       "2         0  \n",
       "3         0  \n",
       "4         0  \n",
       "5         0  \n",
       "6         0  \n",
       "7         0  \n",
       "8         0  \n",
       "9         0  \n",
       "\n",
       "[10 rows x 78 columns]"
      ],
      "text/html": "<div>\n<style scoped>\n    .dataframe tbody tr th:only-of-type {\n        vertical-align: middle;\n    }\n\n    .dataframe tbody tr th {\n        vertical-align: top;\n    }\n\n    .dataframe thead th {\n        text-align: right;\n    }\n</style>\n<table border=\"1\" class=\"dataframe\">\n  <thead>\n    <tr style=\"text-align: right;\">\n      <th></th>\n      <th>first_name</th>\n      <th>last_name</th>\n      <th>sex</th>\n      <th>age</th>\n      <th>city_id</th>\n      <th>has_high_education</th>\n      <th>relation</th>\n      <th>num_of_relatives</th>\n      <th>followers_count</th>\n      <th>status</th>\n      <th>...</th>\n      <th>top3</th>\n      <th>top3_mean</th>\n      <th>game_sum</th>\n      <th>is_gamer</th>\n      <th>parent_sum</th>\n      <th>is_parent</th>\n      <th>driver_sum</th>\n      <th>is_driver</th>\n      <th>pets_sum</th>\n      <th>has_pets</th>\n    </tr>\n  </thead>\n  <tbody>\n    <tr>\n      <th>0</th>\n      <td>Darya</td>\n      <td>Tsiberkina</td>\n      <td>1.0</td>\n      <td>33</td>\n      <td>2</td>\n      <td>0</td>\n      <td>4</td>\n      <td>2</td>\n      <td>486</td>\n      <td>8</td>\n      <td>...</td>\n      <td>5812</td>\n      <td>1277.784568</td>\n      <td>0.0</td>\n      <td>0</td>\n      <td>9968.00</td>\n      <td>1</td>\n      <td>0.0</td>\n      <td>0</td>\n      <td>0.0</td>\n      <td>0</td>\n    </tr>\n    <tr>\n      <th>1</th>\n      <td>Gleb</td>\n      <td>Kotenev</td>\n      <td>2.0</td>\n      <td>18</td>\n      <td>2</td>\n      <td>0</td>\n      <td>0</td>\n      <td>2</td>\n      <td>0</td>\n      <td>5</td>\n      <td>...</td>\n      <td>5814</td>\n      <td>384.000000</td>\n      <td>0.0</td>\n      <td>0</td>\n      <td>0.00</td>\n      <td>0</td>\n      <td>0.0</td>\n      <td>0</td>\n      <td>0.0</td>\n      <td>0</td>\n    </tr>\n    <tr>\n      <th>2</th>\n      <td>Anna</td>\n      <td>Pavlova</td>\n      <td>1.0</td>\n      <td>34</td>\n      <td>2</td>\n      <td>0</td>\n      <td>0</td>\n      <td>2</td>\n      <td>7</td>\n      <td>0</td>\n      <td>...</td>\n      <td>6011</td>\n      <td>24000.000000</td>\n      <td>0.0</td>\n      <td>0</td>\n      <td>0.00</td>\n      <td>0</td>\n      <td>0.0</td>\n      <td>0</td>\n      <td>0.0</td>\n      <td>0</td>\n    </tr>\n    <tr>\n      <th>3</th>\n      <td>Serega</td>\n      <td>Martynov</td>\n      <td>2.0</td>\n      <td>39</td>\n      <td>2</td>\n      <td>0</td>\n      <td>0</td>\n      <td>2</td>\n      <td>7</td>\n      <td>10</td>\n      <td>...</td>\n      <td>5411</td>\n      <td>142.175000</td>\n      <td>0.0</td>\n      <td>0</td>\n      <td>0.00</td>\n      <td>0</td>\n      <td>0.0</td>\n      <td>0</td>\n      <td>0.0</td>\n      <td>0</td>\n    </tr>\n    <tr>\n      <th>4</th>\n      <td>Maria</td>\n      <td>Pavlyukova</td>\n      <td>1.0</td>\n      <td>0</td>\n      <td>2</td>\n      <td>0</td>\n      <td>0</td>\n      <td>2</td>\n      <td>144</td>\n      <td>0</td>\n      <td>...</td>\n      <td>6011</td>\n      <td>1095.238095</td>\n      <td>0.0</td>\n      <td>0</td>\n      <td>60331.59</td>\n      <td>1</td>\n      <td>0.0</td>\n      <td>0</td>\n      <td>80.0</td>\n      <td>0</td>\n    </tr>\n    <tr>\n      <th>5</th>\n      <td>Yury</td>\n      <td>Golubkov</td>\n      <td>2.0</td>\n      <td>47</td>\n      <td>2</td>\n      <td>0</td>\n      <td>0</td>\n      <td>2</td>\n      <td>0</td>\n      <td>0</td>\n      <td>...</td>\n      <td>5964</td>\n      <td>760.580000</td>\n      <td>0.0</td>\n      <td>0</td>\n      <td>0.00</td>\n      <td>0</td>\n      <td>0.0</td>\n      <td>0</td>\n      <td>0.0</td>\n      <td>0</td>\n    </tr>\n    <tr>\n      <th>6</th>\n      <td>Svetlana</td>\n      <td>Muratova</td>\n      <td>1.0</td>\n      <td>48</td>\n      <td>2</td>\n      <td>0</td>\n      <td>4</td>\n      <td>2</td>\n      <td>30</td>\n      <td>0</td>\n      <td>...</td>\n      <td>5411</td>\n      <td>113.000000</td>\n      <td>0.0</td>\n      <td>0</td>\n      <td>0.00</td>\n      <td>0</td>\n      <td>0.0</td>\n      <td>0</td>\n      <td>0.0</td>\n      <td>0</td>\n    </tr>\n    <tr>\n      <th>7</th>\n      <td>Ivan</td>\n      <td>Poletaev</td>\n      <td>2.0</td>\n      <td>0</td>\n      <td>2</td>\n      <td>0</td>\n      <td>0</td>\n      <td>2</td>\n      <td>53</td>\n      <td>23</td>\n      <td>...</td>\n      <td>5411</td>\n      <td>446.565263</td>\n      <td>1000.0</td>\n      <td>1</td>\n      <td>0.00</td>\n      <td>0</td>\n      <td>0.0</td>\n      <td>0</td>\n      <td>0.0</td>\n      <td>0</td>\n    </tr>\n    <tr>\n      <th>8</th>\n      <td>Anastasia</td>\n      <td>Yaguzhinskaya</td>\n      <td>1.0</td>\n      <td>25</td>\n      <td>1</td>\n      <td>0</td>\n      <td>0</td>\n      <td>2</td>\n      <td>111</td>\n      <td>3</td>\n      <td>...</td>\n      <td>5499</td>\n      <td>185.523529</td>\n      <td>0.0</td>\n      <td>0</td>\n      <td>0.00</td>\n      <td>0</td>\n      <td>0.0</td>\n      <td>0</td>\n      <td>1287.0</td>\n      <td>0</td>\n    </tr>\n    <tr>\n      <th>9</th>\n      <td>Valentina</td>\n      <td>Trokhova</td>\n      <td>1.0</td>\n      <td>55</td>\n      <td>2</td>\n      <td>0</td>\n      <td>0</td>\n      <td>12</td>\n      <td>56</td>\n      <td>0</td>\n      <td>...</td>\n      <td>5499</td>\n      <td>345.572472</td>\n      <td>0.0</td>\n      <td>0</td>\n      <td>0.00</td>\n      <td>0</td>\n      <td>0.0</td>\n      <td>0</td>\n      <td>0.0</td>\n      <td>0</td>\n    </tr>\n  </tbody>\n</table>\n<p>10 rows × 78 columns</p>\n</div>"
     },
     "metadata": {},
     "execution_count": 59
    }
   ],
   "source": [
    "vk_interes = pd.read_csv('data/vk_interests_finance.csv')\n",
    "vk_interes.head(10)"
   ]
  },
  {
   "cell_type": "code",
   "execution_count": 60,
   "metadata": {},
   "outputs": [],
   "source": [
    "vk_interes = vk_interes.loc[(vk_interes['age'] != 0) & (vk_interes['age'] <= 90)]"
   ]
  },
  {
   "cell_type": "code",
   "execution_count": 61,
   "metadata": {},
   "outputs": [],
   "source": [
    "vk_interes.loc[:,'sex'] = vk_interes.loc[:,'sex'].astype('int')\n",
    "vk_interes.loc[:,'age'] = vk_interes.loc[:,'age'].astype('float')"
   ]
  },
  {
   "cell_type": "code",
   "execution_count": 62,
   "metadata": {},
   "outputs": [],
   "source": [
    "vk_no_edu = vk_interes.loc[vk_interes['has_high_education'] != 1]"
   ]
  },
  {
   "cell_type": "code",
   "execution_count": 63,
   "metadata": {},
   "outputs": [],
   "source": [
    "vk_no_edu = vk_no_edu.sample(18000)"
   ]
  },
  {
   "cell_type": "code",
   "execution_count": 64,
   "metadata": {},
   "outputs": [],
   "source": [
    "vk_edu = vk_interes.loc[vk_interes['has_high_education'] == 1]"
   ]
  },
  {
   "cell_type": "code",
   "execution_count": 65,
   "metadata": {},
   "outputs": [],
   "source": [
    "vk_final = pd.concat([vk_edu, vk_no_edu])"
   ]
  },
  {
   "cell_type": "code",
   "execution_count": 66,
   "metadata": {},
   "outputs": [
    {
     "output_type": "execute_result",
     "data": {
      "text/plain": [
       "      first_name    last_name  sex   age  city_id  has_high_education  \\\n",
       "0         Sergey      Fedotov    2  50.0        2                   1   \n",
       "1           Olga     Smirnova    1  23.0        2                   1   \n",
       "2        Natalia     Gazizova    1  45.0        2                   1   \n",
       "3         Alexey    Zhurikhin    2  43.0        2                   1   \n",
       "4          Elena   Devyatkina    1  32.0        2                   1   \n",
       "...          ...          ...  ...   ...      ...                 ...   \n",
       "33288    Tatyana  Sadovnikova    1  63.0        2                   0   \n",
       "33289    Anatoly      Lomunov    2  55.0        2                   0   \n",
       "33290       Яков      Никитин    2  72.0        2                   0   \n",
       "33291    Дмитрий       Саблин    2  35.0        2                   0   \n",
       "33292     Оксана      Петрова    1  41.0        2                   0   \n",
       "\n",
       "       relation  num_of_relatives  followers_count  status  ...  top3  \\\n",
       "0             0                 2                3       0  ...  4111   \n",
       "1             4                33               98       0  ...  6011   \n",
       "2             0                 2                8       0  ...  5691   \n",
       "3             4                 2               11      11  ...  5499   \n",
       "4             4                 2               82       7  ...  6011   \n",
       "...         ...               ...              ...     ...  ...   ...   \n",
       "33288         0                 2              260      10  ...  5541   \n",
       "33289         0                 2              111       0  ...  5812   \n",
       "33290         0                 2               22       1  ...  6011   \n",
       "33291         0                 2                0       5  ...  6010   \n",
       "33292         0                 2               17       0  ...  5912   \n",
       "\n",
       "          top3_mean  game_sum  is_gamer  parent_sum is_parent  driver_sum  \\\n",
       "0         92.200000     339.0         1        0.00         0        0.00   \n",
       "1       2808.159574       0.0         0        0.00         0        0.00   \n",
       "2       2636.000000       0.0         0        0.00         0        0.00   \n",
       "3        224.100795       0.0         0    29327.91         1        0.00   \n",
       "4       5566.666667       0.0         0     2345.00         1        0.00   \n",
       "...             ...       ...       ...         ...       ...         ...   \n",
       "33288   1626.609231       0.0         0        0.00         0        0.00   \n",
       "33289    940.204483       0.0         0      406.20         1    23499.65   \n",
       "33290  14055.555556       0.0         0        0.00         0        0.00   \n",
       "33291  16500.000000       0.0         0        0.00         0        0.00   \n",
       "33292   1625.294737       0.0         0     2615.00         1        0.00   \n",
       "\n",
       "      is_driver  pets_sum  has_pets  \n",
       "0             0      0.00         0  \n",
       "1             0    113.00         0  \n",
       "2             0      0.00         0  \n",
       "3             0  30629.00         0  \n",
       "4             0      0.00         0  \n",
       "...         ...       ...       ...  \n",
       "33288         0   4690.00         0  \n",
       "33289         1   6428.50         0  \n",
       "33290         0   7103.95         0  \n",
       "33291         0      0.00         0  \n",
       "33292         0      0.00         0  \n",
       "\n",
       "[33293 rows x 78 columns]"
      ],
      "text/html": "<div>\n<style scoped>\n    .dataframe tbody tr th:only-of-type {\n        vertical-align: middle;\n    }\n\n    .dataframe tbody tr th {\n        vertical-align: top;\n    }\n\n    .dataframe thead th {\n        text-align: right;\n    }\n</style>\n<table border=\"1\" class=\"dataframe\">\n  <thead>\n    <tr style=\"text-align: right;\">\n      <th></th>\n      <th>first_name</th>\n      <th>last_name</th>\n      <th>sex</th>\n      <th>age</th>\n      <th>city_id</th>\n      <th>has_high_education</th>\n      <th>relation</th>\n      <th>num_of_relatives</th>\n      <th>followers_count</th>\n      <th>status</th>\n      <th>...</th>\n      <th>top3</th>\n      <th>top3_mean</th>\n      <th>game_sum</th>\n      <th>is_gamer</th>\n      <th>parent_sum</th>\n      <th>is_parent</th>\n      <th>driver_sum</th>\n      <th>is_driver</th>\n      <th>pets_sum</th>\n      <th>has_pets</th>\n    </tr>\n  </thead>\n  <tbody>\n    <tr>\n      <th>0</th>\n      <td>Sergey</td>\n      <td>Fedotov</td>\n      <td>2</td>\n      <td>50.0</td>\n      <td>2</td>\n      <td>1</td>\n      <td>0</td>\n      <td>2</td>\n      <td>3</td>\n      <td>0</td>\n      <td>...</td>\n      <td>4111</td>\n      <td>92.200000</td>\n      <td>339.0</td>\n      <td>1</td>\n      <td>0.00</td>\n      <td>0</td>\n      <td>0.00</td>\n      <td>0</td>\n      <td>0.00</td>\n      <td>0</td>\n    </tr>\n    <tr>\n      <th>1</th>\n      <td>Olga</td>\n      <td>Smirnova</td>\n      <td>1</td>\n      <td>23.0</td>\n      <td>2</td>\n      <td>1</td>\n      <td>4</td>\n      <td>33</td>\n      <td>98</td>\n      <td>0</td>\n      <td>...</td>\n      <td>6011</td>\n      <td>2808.159574</td>\n      <td>0.0</td>\n      <td>0</td>\n      <td>0.00</td>\n      <td>0</td>\n      <td>0.00</td>\n      <td>0</td>\n      <td>113.00</td>\n      <td>0</td>\n    </tr>\n    <tr>\n      <th>2</th>\n      <td>Natalia</td>\n      <td>Gazizova</td>\n      <td>1</td>\n      <td>45.0</td>\n      <td>2</td>\n      <td>1</td>\n      <td>0</td>\n      <td>2</td>\n      <td>8</td>\n      <td>0</td>\n      <td>...</td>\n      <td>5691</td>\n      <td>2636.000000</td>\n      <td>0.0</td>\n      <td>0</td>\n      <td>0.00</td>\n      <td>0</td>\n      <td>0.00</td>\n      <td>0</td>\n      <td>0.00</td>\n      <td>0</td>\n    </tr>\n    <tr>\n      <th>3</th>\n      <td>Alexey</td>\n      <td>Zhurikhin</td>\n      <td>2</td>\n      <td>43.0</td>\n      <td>2</td>\n      <td>1</td>\n      <td>4</td>\n      <td>2</td>\n      <td>11</td>\n      <td>11</td>\n      <td>...</td>\n      <td>5499</td>\n      <td>224.100795</td>\n      <td>0.0</td>\n      <td>0</td>\n      <td>29327.91</td>\n      <td>1</td>\n      <td>0.00</td>\n      <td>0</td>\n      <td>30629.00</td>\n      <td>0</td>\n    </tr>\n    <tr>\n      <th>4</th>\n      <td>Elena</td>\n      <td>Devyatkina</td>\n      <td>1</td>\n      <td>32.0</td>\n      <td>2</td>\n      <td>1</td>\n      <td>4</td>\n      <td>2</td>\n      <td>82</td>\n      <td>7</td>\n      <td>...</td>\n      <td>6011</td>\n      <td>5566.666667</td>\n      <td>0.0</td>\n      <td>0</td>\n      <td>2345.00</td>\n      <td>1</td>\n      <td>0.00</td>\n      <td>0</td>\n      <td>0.00</td>\n      <td>0</td>\n    </tr>\n    <tr>\n      <th>...</th>\n      <td>...</td>\n      <td>...</td>\n      <td>...</td>\n      <td>...</td>\n      <td>...</td>\n      <td>...</td>\n      <td>...</td>\n      <td>...</td>\n      <td>...</td>\n      <td>...</td>\n      <td>...</td>\n      <td>...</td>\n      <td>...</td>\n      <td>...</td>\n      <td>...</td>\n      <td>...</td>\n      <td>...</td>\n      <td>...</td>\n      <td>...</td>\n      <td>...</td>\n      <td>...</td>\n    </tr>\n    <tr>\n      <th>33288</th>\n      <td>Tatyana</td>\n      <td>Sadovnikova</td>\n      <td>1</td>\n      <td>63.0</td>\n      <td>2</td>\n      <td>0</td>\n      <td>0</td>\n      <td>2</td>\n      <td>260</td>\n      <td>10</td>\n      <td>...</td>\n      <td>5541</td>\n      <td>1626.609231</td>\n      <td>0.0</td>\n      <td>0</td>\n      <td>0.00</td>\n      <td>0</td>\n      <td>0.00</td>\n      <td>0</td>\n      <td>4690.00</td>\n      <td>0</td>\n    </tr>\n    <tr>\n      <th>33289</th>\n      <td>Anatoly</td>\n      <td>Lomunov</td>\n      <td>2</td>\n      <td>55.0</td>\n      <td>2</td>\n      <td>0</td>\n      <td>0</td>\n      <td>2</td>\n      <td>111</td>\n      <td>0</td>\n      <td>...</td>\n      <td>5812</td>\n      <td>940.204483</td>\n      <td>0.0</td>\n      <td>0</td>\n      <td>406.20</td>\n      <td>1</td>\n      <td>23499.65</td>\n      <td>1</td>\n      <td>6428.50</td>\n      <td>0</td>\n    </tr>\n    <tr>\n      <th>33290</th>\n      <td>Яков</td>\n      <td>Никитин</td>\n      <td>2</td>\n      <td>72.0</td>\n      <td>2</td>\n      <td>0</td>\n      <td>0</td>\n      <td>2</td>\n      <td>22</td>\n      <td>1</td>\n      <td>...</td>\n      <td>6011</td>\n      <td>14055.555556</td>\n      <td>0.0</td>\n      <td>0</td>\n      <td>0.00</td>\n      <td>0</td>\n      <td>0.00</td>\n      <td>0</td>\n      <td>7103.95</td>\n      <td>0</td>\n    </tr>\n    <tr>\n      <th>33291</th>\n      <td>Дмитрий</td>\n      <td>Саблин</td>\n      <td>2</td>\n      <td>35.0</td>\n      <td>2</td>\n      <td>0</td>\n      <td>0</td>\n      <td>2</td>\n      <td>0</td>\n      <td>5</td>\n      <td>...</td>\n      <td>6010</td>\n      <td>16500.000000</td>\n      <td>0.0</td>\n      <td>0</td>\n      <td>0.00</td>\n      <td>0</td>\n      <td>0.00</td>\n      <td>0</td>\n      <td>0.00</td>\n      <td>0</td>\n    </tr>\n    <tr>\n      <th>33292</th>\n      <td>Оксана</td>\n      <td>Петрова</td>\n      <td>1</td>\n      <td>41.0</td>\n      <td>2</td>\n      <td>0</td>\n      <td>0</td>\n      <td>2</td>\n      <td>17</td>\n      <td>0</td>\n      <td>...</td>\n      <td>5912</td>\n      <td>1625.294737</td>\n      <td>0.0</td>\n      <td>0</td>\n      <td>2615.00</td>\n      <td>1</td>\n      <td>0.00</td>\n      <td>0</td>\n      <td>0.00</td>\n      <td>0</td>\n    </tr>\n  </tbody>\n</table>\n<p>33293 rows × 78 columns</p>\n</div>"
     },
     "metadata": {},
     "execution_count": 66
    }
   ],
   "source": [
    "vk_final.reset_index(inplace=True, drop=True)\n",
    "vk_final"
   ]
  },
  {
   "cell_type": "code",
   "execution_count": 67,
   "metadata": {},
   "outputs": [],
   "source": [
    "vk_base = copy(vk_final[['sex', 'age', 'has_high_education', 'relation', 'платье размер наличие цвет', 'массаж тело   йога',\n",
    "       'игра команда место', 'цвет цветок букет интерьер',\n",
    "       'iphone apple торт набор pro чехол',\n",
    "       'клиент который проект интернет бизнес', 'год война время ссср армия',\n",
    "       'волос маникюр   ресница', 'handmade ряд ручнаяработа что петля лицо',\n",
    "       'работа год график день', 'концерт билет музыка рок группа',\n",
    "       'лечение заболевание кровь врач болезнь',\n",
    "       'школа искать год вопрос тема', 'кожа лицо масло волос',\n",
    "       'книга язык слово', 'санкт петербург участие фестиваль май',\n",
    "       'отдых море   день стоимость', 'магазин цена наличие подарок интернет',\n",
    "       '  дома ремонт работа это', 'фильм игра серия кино',\n",
    "       'футбол матч россия сегодня мск зенит',\n",
    "       'автомобиль добавлять авто машина', 'руб цена рубль продавать размер ',\n",
    "       'минута добавлять ингредиент соль масло ', 'год театр спектакль кино',\n",
    "       'фото фотография шоу фотограф свадьба праздник']])"
   ]
  },
  {
   "cell_type": "code",
   "execution_count": 68,
   "metadata": {},
   "outputs": [
    {
     "output_type": "execute_result",
     "data": {
      "text/plain": [
       "(33291, 30)"
      ]
     },
     "metadata": {},
     "execution_count": 68
    }
   ],
   "source": [
    "vk_base.dropna(inplace=True)\n",
    "vk_base.shape"
   ]
  },
  {
   "cell_type": "code",
   "execution_count": 69,
   "metadata": {},
   "outputs": [],
   "source": [
    "vk_base.columns = ['sex', 'age', 'has_high_education', 'relation', 'dress, fashion, color, style', 'massage, meditation, yoga',\n",
    "       'game, team, competition, sport', 'color, flowers, interior, design',\n",
    "       'iphone, apple, technology, equipment, smartphone',\n",
    "       'client, project, internet, business, company', 'war, history, army, politics',\n",
    "       'beauty, hair, manicure, salon', 'handmade, materials, products',\n",
    "       'work, schedule, earnings, money', 'music, concerts, rock, tickets, festivals',\n",
    "       'treatment, doctors, tests, clinic, health',\n",
    "       'school, education, question, topic', 'skin, face, care, cosmitology',\n",
    "       'book, reading, language, word, literature', 'St. Petersburg, participation, festival, exhibition',\n",
    "       'vacation, sea, accommodation, cost', 'shop, price, gifts, internet',\n",
    "       'home, renovation, decoration, installation', 'film, series, cinema, genre',\n",
    "       'football, match, russia, team, goalkeeper',\n",
    "       'car, cars, sale, tires', 'sale, clothes, size, price, sewing',\n",
    "       'ingredients, cooking, dishes, salt, spices', 'theater, performance, actors',\n",
    "       'photographer, photography, show, wedding, photographer']"
   ]
  },
  {
   "cell_type": "code",
   "execution_count": 70,
   "metadata": {},
   "outputs": [],
   "source": [
    "vk_base['top1'] = vk_base[['dress, fashion, color, style', 'massage, meditation, yoga',\n",
    "       'game, team, competition, sport', 'color, flowers, interior, design',\n",
    "       'iphone, apple, technology, equipment, smartphone',\n",
    "       'client, project, internet, business, company', 'war, history, army, politics',\n",
    "       'beauty, hair, manicure, salon', 'handmade, materials, products',\n",
    "       'work, schedule, earnings, money', 'music, concerts, rock, tickets, festivals',\n",
    "       'treatment, doctors, tests, clinic, health',\n",
    "       'school, education, question, topic', 'skin, face, care, cosmitology',\n",
    "       'book, reading, language, word, literature', 'St. Petersburg, participation, festival, exhibition',\n",
    "       'vacation, sea, accommodation, cost', 'shop, price, gifts, internet',\n",
    "       'home, renovation, decoration, installation', 'film, series, cinema, genre',\n",
    "       'football, match, russia, team, goalkeeper',\n",
    "       'car, cars, sale, tires', 'sale, clothes, size, price, sewing',\n",
    "       'ingredients, cooking, dishes, salt, spices', 'theater, performance, actors',\n",
    "       'photographer, photography, show, wedding, photographer']].apply(lambda row: row.nlargest(1).index.values[-1],axis=1)"
   ]
  },
  {
   "cell_type": "code",
   "execution_count": 71,
   "metadata": {},
   "outputs": [],
   "source": [
    "vk_base['top2'] = vk_base[['dress, fashion, color, style', 'massage, meditation, yoga',\n",
    "       'game, team, competition, sport', 'color, flowers, interior, design',\n",
    "       'iphone, apple, technology, equipment, smartphone',\n",
    "       'client, project, internet, business, company', 'war, history, army, politics',\n",
    "       'beauty, hair, manicure, salon', 'handmade, materials, products',\n",
    "       'work, schedule, earnings, money', 'music, concerts, rock, tickets, festivals',\n",
    "       'treatment, doctors, tests, clinic, health',\n",
    "       'school, education, question, topic', 'skin, face, care, cosmitology',\n",
    "       'book, reading, language, word, literature', 'St. Petersburg, participation, festival, exhibition',\n",
    "       'vacation, sea, accommodation, cost', 'shop, price, gifts, internet',\n",
    "       'home, renovation, decoration, installation', 'film, series, cinema, genre',\n",
    "       'football, match, russia, team, goalkeeper',\n",
    "       'car, cars, sale, tires', 'sale, clothes, size, price, sewing',\n",
    "       'ingredients, cooking, dishes, salt, spices', 'theater, performance, actors',\n",
    "       'photographer, photography, show, wedding, photographer']].apply(lambda row: row.nlargest(2).index.values[-1],axis=1)"
   ]
  },
  {
   "cell_type": "code",
   "execution_count": 72,
   "metadata": {},
   "outputs": [],
   "source": [
    "vk_base['top3'] = vk_base[['dress, fashion, color, style', 'massage, meditation, yoga',\n",
    "       'game, team, competition, sport', 'color, flowers, interior, design',\n",
    "       'iphone, apple, technology, equipment, smartphone',\n",
    "       'client, project, internet, business, company', 'war, history, army, politics',\n",
    "       'beauty, hair, manicure, salon', 'handmade, materials, products',\n",
    "       'work, schedule, earnings, money', 'music, concerts, rock, tickets, festivals',\n",
    "       'treatment, doctors, tests, clinic, health',\n",
    "       'school, education, question, topic', 'skin, face, care, cosmitology',\n",
    "       'book, reading, language, word, literature', 'St. Petersburg, participation, festival, exhibition',\n",
    "       'vacation, sea, accommodation, cost', 'shop, price, gifts, internet',\n",
    "       'home, renovation, decoration, installation', 'film, series, cinema, genre',\n",
    "       'football, match, russia, team, goalkeeper',\n",
    "       'car, cars, sale, tires', 'sale, clothes, size, price, sewing',\n",
    "       'ingredients, cooking, dishes, salt, spices', 'theater, performance, actors',\n",
    "       'photographer, photography, show, wedding, photographer']].apply(lambda row: row.nlargest(3).index.values[-1],axis=1)"
   ]
  },
  {
   "cell_type": "code",
   "execution_count": 73,
   "metadata": {},
   "outputs": [],
   "source": [
    "vk_base['top4'] = vk_base[['dress, fashion, color, style', 'massage, meditation, yoga',\n",
    "       'game, team, competition, sport', 'color, flowers, interior, design',\n",
    "       'iphone, apple, technology, equipment, smartphone',\n",
    "       'client, project, internet, business, company', 'war, history, army, politics',\n",
    "       'beauty, hair, manicure, salon', 'handmade, materials, products',\n",
    "       'work, schedule, earnings, money', 'music, concerts, rock, tickets, festivals',\n",
    "       'treatment, doctors, tests, clinic, health',\n",
    "       'school, education, question, topic', 'skin, face, care, cosmitology',\n",
    "       'book, reading, language, word, literature', 'St. Petersburg, participation, festival, exhibition',\n",
    "       'vacation, sea, accommodation, cost', 'shop, price, gifts, internet',\n",
    "       'home, renovation, decoration, installation', 'film, series, cinema, genre',\n",
    "       'football, match, russia, team, goalkeeper',\n",
    "       'car, cars, sale, tires', 'sale, clothes, size, price, sewing',\n",
    "       'ingredients, cooking, dishes, salt, spices', 'theater, performance, actors',\n",
    "       'photographer, photography, show, wedding, photographer']].apply(lambda row: row.nlargest(4).index.values[-1],axis=1)"
   ]
  },
  {
   "cell_type": "code",
   "execution_count": 74,
   "metadata": {},
   "outputs": [],
   "source": [
    "vk_base['top5'] = vk_base[['dress, fashion, color, style', 'massage, meditation, yoga',\n",
    "       'game, team, competition, sport', 'color, flowers, interior, design',\n",
    "       'iphone, apple, technology, equipment, smartphone',\n",
    "       'client, project, internet, business, company', 'war, history, army, politics',\n",
    "       'beauty, hair, manicure, salon', 'handmade, materials, products',\n",
    "       'work, schedule, earnings, money', 'music, concerts, rock, tickets, festivals',\n",
    "       'treatment, doctors, tests, clinic, health',\n",
    "       'school, education, question, topic', 'skin, face, care, cosmitology',\n",
    "       'book, reading, language, word, literature', 'St. Petersburg, participation, festival, exhibition',\n",
    "       'vacation, sea, accommodation, cost', 'shop, price, gifts, internet',\n",
    "       'home, renovation, decoration, installation', 'film, series, cinema, genre',\n",
    "       'football, match, russia, team, goalkeeper',\n",
    "       'car, cars, sale, tires', 'sale, clothes, size, price, sewing',\n",
    "       'ingredients, cooking, dishes, salt, spices', 'theater, performance, actors',\n",
    "       'photographer, photography, show, wedding, photographer']].apply(lambda row: row.nlargest(5).index.values[-1],axis=1)"
   ]
  },
  {
   "cell_type": "code",
   "execution_count": 75,
   "metadata": {},
   "outputs": [
    {
     "output_type": "execute_result",
     "data": {
      "text/plain": [
       "{'sex': 'disc',\n",
       " 'age': 'cont',\n",
       " 'has_high_education': 'disc',\n",
       " 'relation': 'disc',\n",
       " 'dress, fashion, color, style': 'cont',\n",
       " 'massage, meditation, yoga': 'cont',\n",
       " 'game, team, competition, sport': 'cont',\n",
       " 'color, flowers, interior, design': 'cont',\n",
       " 'iphone, apple, technology, equipment, smartphone': 'cont',\n",
       " 'client, project, internet, business, company': 'cont',\n",
       " 'war, history, army, politics': 'cont',\n",
       " 'beauty, hair, manicure, salon': 'cont',\n",
       " 'handmade, materials, products': 'cont',\n",
       " 'work, schedule, earnings, money': 'cont',\n",
       " 'music, concerts, rock, tickets, festivals': 'cont',\n",
       " 'treatment, doctors, tests, clinic, health': 'cont',\n",
       " 'school, education, question, topic': 'cont',\n",
       " 'skin, face, care, cosmitology': 'cont',\n",
       " 'book, reading, language, word, literature': 'cont',\n",
       " 'St. Petersburg, participation, festival, exhibition': 'cont',\n",
       " 'vacation, sea, accommodation, cost': 'cont',\n",
       " 'shop, price, gifts, internet': 'cont',\n",
       " 'home, renovation, decoration, installation': 'cont',\n",
       " 'film, series, cinema, genre': 'cont',\n",
       " 'football, match, russia, team, goalkeeper': 'cont',\n",
       " 'car, cars, sale, tires': 'cont',\n",
       " 'sale, clothes, size, price, sewing': 'cont',\n",
       " 'ingredients, cooking, dishes, salt, spices': 'cont',\n",
       " 'theater, performance, actors': 'cont',\n",
       " 'photographer, photography, show, wedding, photographer': 'cont',\n",
       " 'top1': 'disc',\n",
       " 'top2': 'disc',\n",
       " 'top3': 'disc',\n",
       " 'top4': 'disc',\n",
       " 'top5': 'disc'}"
      ]
     },
     "metadata": {},
     "execution_count": 75
    }
   ],
   "source": [
    "node_types = get_nodes_type(vk_base)\n",
    "node_types"
   ]
  },
  {
   "cell_type": "code",
   "execution_count": 76,
   "metadata": {},
   "outputs": [
    {
     "output_type": "execute_result",
     "data": {
      "text/plain": [
       "{'age': 'pos',\n",
       " 'dress, fashion, color, style': 'pos',\n",
       " 'massage, meditation, yoga': 'pos',\n",
       " 'game, team, competition, sport': 'pos',\n",
       " 'color, flowers, interior, design': 'pos',\n",
       " 'iphone, apple, technology, equipment, smartphone': 'pos',\n",
       " 'client, project, internet, business, company': 'pos',\n",
       " 'war, history, army, politics': 'pos',\n",
       " 'beauty, hair, manicure, salon': 'pos',\n",
       " 'handmade, materials, products': 'pos',\n",
       " 'work, schedule, earnings, money': 'pos',\n",
       " 'music, concerts, rock, tickets, festivals': 'pos',\n",
       " 'treatment, doctors, tests, clinic, health': 'pos',\n",
       " 'school, education, question, topic': 'pos',\n",
       " 'skin, face, care, cosmitology': 'pos',\n",
       " 'book, reading, language, word, literature': 'pos',\n",
       " 'St. Petersburg, participation, festival, exhibition': 'pos',\n",
       " 'vacation, sea, accommodation, cost': 'pos',\n",
       " 'shop, price, gifts, internet': 'pos',\n",
       " 'home, renovation, decoration, installation': 'pos',\n",
       " 'film, series, cinema, genre': 'pos',\n",
       " 'football, match, russia, team, goalkeeper': 'pos',\n",
       " 'car, cars, sale, tires': 'pos',\n",
       " 'sale, clothes, size, price, sewing': 'pos',\n",
       " 'ingredients, cooking, dishes, salt, spices': 'pos',\n",
       " 'theater, performance, actors': 'pos',\n",
       " 'photographer, photography, show, wedding, photographer': 'pos'}"
      ]
     },
     "metadata": {},
     "execution_count": 76
    }
   ],
   "source": [
    "nodes_sign = get_nodes_sign(vk_base)\n",
    "nodes_sign"
   ]
  },
  {
   "cell_type": "code",
   "execution_count": 20,
   "metadata": {},
   "outputs": [],
   "source": [
    "top_dict = {'dress, fashion, color, style':0, \n",
    "       'massage, meditation, yoga':1,\n",
    "       'game, team, competition, sport':2, \n",
    "       'color, flowers, interior, design':3,\n",
    "       'iphone, apple, technology, equipment, smartphone':4,\n",
    "       'client, project, internet, business, company':5, \n",
    "       'war, history, army, politics': 6,\n",
    "       'beauty, hair, manicure, salon': 7, \n",
    "       'handmade, materials, products': 8,\n",
    "       'work, schedule, earnings, money':9, \n",
    "       'music, concerts, rock, tickets, festivals':10,\n",
    "       'treatment, doctors, tests, clinic, health':11,\n",
    "       'school, education, question, topic':12, \n",
    "       'skin, face, care, cosmitology':13,\n",
    "       'book, reading, language, word, literature':14, \n",
    "       'St. Petersburg, participation, festival, exhibition':15,\n",
    "       'vacation, sea, accommodation, cost':16, \n",
    "       'shop, price, gifts, internet':17,\n",
    "       'home, renovation, decoration, installation':18, \n",
    "       'film, series, cinema, genre':19,\n",
    "       'football, match, russia, team, goalkeeper':20,\n",
    "       'car, cars, sale, tires':21, \n",
    "       'sale, clothes, size, price, sewing':22,\n",
    "       'ingredients, cooking, dishes, salt, spices':23, \n",
    "       'theater, performance, actors':24,\n",
    "       'photographer, photography, show, wedding, photographer':25}"
   ]
  },
  {
   "cell_type": "code",
   "execution_count": 21,
   "metadata": {},
   "outputs": [],
   "source": [
    "coded_data = copy(vk_base)\n",
    "coded_data['top1'] = coded_data['top1'].apply(lambda x: top_dict[x])\n",
    "coded_data['top2'] = coded_data['top2'].apply(lambda x: top_dict[x])\n",
    "coded_data['top3'] = coded_data['top3'].apply(lambda x: top_dict[x])\n",
    "coded_data['top4'] = coded_data['top4'].apply(lambda x: top_dict[x])\n",
    "coded_data['top5'] = coded_data['top5'].apply(lambda x: top_dict[x])"
   ]
  },
  {
   "cell_type": "code",
   "execution_count": 22,
   "metadata": {},
   "outputs": [
    {
     "output_type": "execute_result",
     "data": {
      "text/plain": [
       "       sex   age  has_high_education  relation  top1  top2  top3  top4  top5\n",
       "0        2  50.0                   1         0    21     6    15    16    24\n",
       "1        1  23.0                   1         4     0    23     6     2    14\n",
       "2        1  45.0                   1         0     9     3    12    15     5\n",
       "3        2  43.0                   1         4     2    15    23    21    17\n",
       "4        1  32.0                   1         4     7    17    25    22     5\n",
       "...    ...   ...                 ...       ...   ...   ...   ...   ...   ...\n",
       "33288    2  43.0                   0         0    19    10    16    15    13\n",
       "33289    2  39.0                   0         0     6    24    11    19     5\n",
       "33290    2  51.0                   0         0     9    10    15    24    14\n",
       "33291    1  34.0                   0         0     7    16     0    17    22\n",
       "33292    1  36.0                   0         0    10    18     7    15     3\n",
       "\n",
       "[33291 rows x 9 columns]"
      ],
      "text/html": "<div>\n<style scoped>\n    .dataframe tbody tr th:only-of-type {\n        vertical-align: middle;\n    }\n\n    .dataframe tbody tr th {\n        vertical-align: top;\n    }\n\n    .dataframe thead th {\n        text-align: right;\n    }\n</style>\n<table border=\"1\" class=\"dataframe\">\n  <thead>\n    <tr style=\"text-align: right;\">\n      <th></th>\n      <th>sex</th>\n      <th>age</th>\n      <th>has_high_education</th>\n      <th>relation</th>\n      <th>top1</th>\n      <th>top2</th>\n      <th>top3</th>\n      <th>top4</th>\n      <th>top5</th>\n    </tr>\n  </thead>\n  <tbody>\n    <tr>\n      <th>0</th>\n      <td>2</td>\n      <td>50.0</td>\n      <td>1</td>\n      <td>0</td>\n      <td>21</td>\n      <td>6</td>\n      <td>15</td>\n      <td>16</td>\n      <td>24</td>\n    </tr>\n    <tr>\n      <th>1</th>\n      <td>1</td>\n      <td>23.0</td>\n      <td>1</td>\n      <td>4</td>\n      <td>0</td>\n      <td>23</td>\n      <td>6</td>\n      <td>2</td>\n      <td>14</td>\n    </tr>\n    <tr>\n      <th>2</th>\n      <td>1</td>\n      <td>45.0</td>\n      <td>1</td>\n      <td>0</td>\n      <td>9</td>\n      <td>3</td>\n      <td>12</td>\n      <td>15</td>\n      <td>5</td>\n    </tr>\n    <tr>\n      <th>3</th>\n      <td>2</td>\n      <td>43.0</td>\n      <td>1</td>\n      <td>4</td>\n      <td>2</td>\n      <td>15</td>\n      <td>23</td>\n      <td>21</td>\n      <td>17</td>\n    </tr>\n    <tr>\n      <th>4</th>\n      <td>1</td>\n      <td>32.0</td>\n      <td>1</td>\n      <td>4</td>\n      <td>7</td>\n      <td>17</td>\n      <td>25</td>\n      <td>22</td>\n      <td>5</td>\n    </tr>\n    <tr>\n      <th>...</th>\n      <td>...</td>\n      <td>...</td>\n      <td>...</td>\n      <td>...</td>\n      <td>...</td>\n      <td>...</td>\n      <td>...</td>\n      <td>...</td>\n      <td>...</td>\n    </tr>\n    <tr>\n      <th>33288</th>\n      <td>2</td>\n      <td>43.0</td>\n      <td>0</td>\n      <td>0</td>\n      <td>19</td>\n      <td>10</td>\n      <td>16</td>\n      <td>15</td>\n      <td>13</td>\n    </tr>\n    <tr>\n      <th>33289</th>\n      <td>2</td>\n      <td>39.0</td>\n      <td>0</td>\n      <td>0</td>\n      <td>6</td>\n      <td>24</td>\n      <td>11</td>\n      <td>19</td>\n      <td>5</td>\n    </tr>\n    <tr>\n      <th>33290</th>\n      <td>2</td>\n      <td>51.0</td>\n      <td>0</td>\n      <td>0</td>\n      <td>9</td>\n      <td>10</td>\n      <td>15</td>\n      <td>24</td>\n      <td>14</td>\n    </tr>\n    <tr>\n      <th>33291</th>\n      <td>1</td>\n      <td>34.0</td>\n      <td>0</td>\n      <td>0</td>\n      <td>7</td>\n      <td>16</td>\n      <td>0</td>\n      <td>17</td>\n      <td>22</td>\n    </tr>\n    <tr>\n      <th>33292</th>\n      <td>1</td>\n      <td>36.0</td>\n      <td>0</td>\n      <td>0</td>\n      <td>10</td>\n      <td>18</td>\n      <td>7</td>\n      <td>15</td>\n      <td>3</td>\n    </tr>\n  </tbody>\n</table>\n<p>33291 rows × 9 columns</p>\n</div>"
     },
     "metadata": {},
     "execution_count": 22
    }
   ],
   "source": [
    "coded_data"
   ]
  },
  {
   "cell_type": "code",
   "execution_count": 23,
   "metadata": {},
   "outputs": [
    {
     "output_type": "stream",
     "name": "stderr",
     "text": [
      "  0%|          | 14/1000000 [00:02<44:19:35,  6.27it/s]\n"
     ]
    }
   ],
   "source": [
    "bn_structure = structure_learning(coded_data,'HC', node_types, 'K2')"
   ]
  },
  {
   "cell_type": "code",
   "execution_count": 25,
   "metadata": {},
   "outputs": [],
   "source": [
    "bn_parameters = parameter_learning(vk_base, node_types, bn_structure)"
   ]
  },
  {
   "cell_type": "code",
   "execution_count": 26,
   "metadata": {},
   "outputs": [],
   "source": [
    "save_structure(bn_structure, 'bn_structure_new')\n",
    "skel = read_structure('bn_structure_new')\n",
    "save_params(bn_parameters, 'bn_params_new')\n",
    "params = read_params('bn_params_new')\n",
    "bn = HyBayesianNetwork(skel, params)"
   ]
  },
  {
   "cell_type": "code",
   "execution_count": 45,
   "metadata": {},
   "outputs": [
    {
     "output_type": "execute_result",
     "data": {
      "text/plain": [
       "(33291, 9)"
      ]
     },
     "metadata": {},
     "execution_count": 45
    }
   ],
   "source": [
    "sample = generate_synthetics(bn, nodes_sign, 33291)\n",
    "sample.dropna(inplace=True)\n",
    "sample.shape"
   ]
  },
  {
   "cell_type": "code",
   "execution_count": 46,
   "metadata": {},
   "outputs": [
    {
     "output_type": "execute_result",
     "data": {
      "text/plain": [
       "      relation has_high_education  \\\n",
       "0            1                  1   \n",
       "1            4                  1   \n",
       "2            0                  0   \n",
       "3            0                  0   \n",
       "4            0                  0   \n",
       "...        ...                ...   \n",
       "33286        0                  1   \n",
       "33287        4                  0   \n",
       "33288        4                  1   \n",
       "33289        4                  0   \n",
       "33290        0                  1   \n",
       "\n",
       "                                                    top1 sex  \\\n",
       "0             home, renovation, decoration, installation   2   \n",
       "1                     school, education, question, topic   2   \n",
       "2                            film, series, cinema, genre   1   \n",
       "3             ingredients, cooking, dishes, salt, spices   1   \n",
       "4                                 car, cars, sale, tires   2   \n",
       "...                                                  ...  ..   \n",
       "33286                        film, series, cinema, genre   2   \n",
       "33287         home, renovation, decoration, installation   2   \n",
       "33288                             car, cars, sale, tires   2   \n",
       "33289  St. Petersburg, participation, festival, exhib...   1   \n",
       "33290          music, concerts, rock, tickets, festivals   1   \n",
       "\n",
       "                                                    top2  \\\n",
       "0                     sale, clothes, size, price, sewing   \n",
       "1                        work, schedule, earnings, money   \n",
       "2                          handmade, materials, products   \n",
       "3      St. Petersburg, participation, festival, exhib...   \n",
       "4                           shop, price, gifts, internet   \n",
       "...                                                  ...   \n",
       "33286          football, match, russia, team, goalkeeper   \n",
       "33287                     game, team, competition, sport   \n",
       "33288                        film, series, cinema, genre   \n",
       "33289                      beauty, hair, manicure, salon   \n",
       "33290                 vacation, sea, accommodation, cost   \n",
       "\n",
       "                                                    top3  \\\n",
       "0                     school, education, question, topic   \n",
       "1                       color, flowers, interior, design   \n",
       "2              book, reading, language, word, literature   \n",
       "3                         game, team, competition, sport   \n",
       "4              football, match, russia, team, goalkeeper   \n",
       "...                                                  ...   \n",
       "33286       client, project, internet, business, company   \n",
       "33287  St. Petersburg, participation, festival, exhib...   \n",
       "33288          music, concerts, rock, tickets, festivals   \n",
       "33289                       war, history, army, politics   \n",
       "33290                 school, education, question, topic   \n",
       "\n",
       "                                                    top4  \\\n",
       "0                     sale, clothes, size, price, sewing   \n",
       "1                                 car, cars, sale, tires   \n",
       "2                          skin, face, care, cosmitology   \n",
       "3      St. Petersburg, participation, festival, exhib...   \n",
       "4             home, renovation, decoration, installation   \n",
       "...                                                  ...   \n",
       "33286          music, concerts, rock, tickets, festivals   \n",
       "33287          music, concerts, rock, tickets, festivals   \n",
       "33288          music, concerts, rock, tickets, festivals   \n",
       "33289                       dress, fashion, color, style   \n",
       "33290                        film, series, cinema, genre   \n",
       "\n",
       "                                                    top5        age  \n",
       "0              music, concerts, rock, tickets, festivals  17.756980  \n",
       "1                          handmade, materials, products  49.639970  \n",
       "2                     school, education, question, topic  44.414425  \n",
       "3                          handmade, materials, products  31.385692  \n",
       "4           client, project, internet, business, company  27.801382  \n",
       "...                                                  ...        ...  \n",
       "33286  photographer, photography, show, wedding, phot...  37.244361  \n",
       "33287                             car, cars, sale, tires  43.841215  \n",
       "33288          book, reading, language, word, literature  39.128840  \n",
       "33289                       dress, fashion, color, style  31.055491  \n",
       "33290                 school, education, question, topic  40.437600  \n",
       "\n",
       "[33291 rows x 9 columns]"
      ],
      "text/html": "<div>\n<style scoped>\n    .dataframe tbody tr th:only-of-type {\n        vertical-align: middle;\n    }\n\n    .dataframe tbody tr th {\n        vertical-align: top;\n    }\n\n    .dataframe thead th {\n        text-align: right;\n    }\n</style>\n<table border=\"1\" class=\"dataframe\">\n  <thead>\n    <tr style=\"text-align: right;\">\n      <th></th>\n      <th>relation</th>\n      <th>has_high_education</th>\n      <th>top1</th>\n      <th>sex</th>\n      <th>top2</th>\n      <th>top3</th>\n      <th>top4</th>\n      <th>top5</th>\n      <th>age</th>\n    </tr>\n  </thead>\n  <tbody>\n    <tr>\n      <th>0</th>\n      <td>1</td>\n      <td>1</td>\n      <td>home, renovation, decoration, installation</td>\n      <td>2</td>\n      <td>sale, clothes, size, price, sewing</td>\n      <td>school, education, question, topic</td>\n      <td>sale, clothes, size, price, sewing</td>\n      <td>music, concerts, rock, tickets, festivals</td>\n      <td>17.756980</td>\n    </tr>\n    <tr>\n      <th>1</th>\n      <td>4</td>\n      <td>1</td>\n      <td>school, education, question, topic</td>\n      <td>2</td>\n      <td>work, schedule, earnings, money</td>\n      <td>color, flowers, interior, design</td>\n      <td>car, cars, sale, tires</td>\n      <td>handmade, materials, products</td>\n      <td>49.639970</td>\n    </tr>\n    <tr>\n      <th>2</th>\n      <td>0</td>\n      <td>0</td>\n      <td>film, series, cinema, genre</td>\n      <td>1</td>\n      <td>handmade, materials, products</td>\n      <td>book, reading, language, word, literature</td>\n      <td>skin, face, care, cosmitology</td>\n      <td>school, education, question, topic</td>\n      <td>44.414425</td>\n    </tr>\n    <tr>\n      <th>3</th>\n      <td>0</td>\n      <td>0</td>\n      <td>ingredients, cooking, dishes, salt, spices</td>\n      <td>1</td>\n      <td>St. Petersburg, participation, festival, exhib...</td>\n      <td>game, team, competition, sport</td>\n      <td>St. Petersburg, participation, festival, exhib...</td>\n      <td>handmade, materials, products</td>\n      <td>31.385692</td>\n    </tr>\n    <tr>\n      <th>4</th>\n      <td>0</td>\n      <td>0</td>\n      <td>car, cars, sale, tires</td>\n      <td>2</td>\n      <td>shop, price, gifts, internet</td>\n      <td>football, match, russia, team, goalkeeper</td>\n      <td>home, renovation, decoration, installation</td>\n      <td>client, project, internet, business, company</td>\n      <td>27.801382</td>\n    </tr>\n    <tr>\n      <th>...</th>\n      <td>...</td>\n      <td>...</td>\n      <td>...</td>\n      <td>...</td>\n      <td>...</td>\n      <td>...</td>\n      <td>...</td>\n      <td>...</td>\n      <td>...</td>\n    </tr>\n    <tr>\n      <th>33286</th>\n      <td>0</td>\n      <td>1</td>\n      <td>film, series, cinema, genre</td>\n      <td>2</td>\n      <td>football, match, russia, team, goalkeeper</td>\n      <td>client, project, internet, business, company</td>\n      <td>music, concerts, rock, tickets, festivals</td>\n      <td>photographer, photography, show, wedding, phot...</td>\n      <td>37.244361</td>\n    </tr>\n    <tr>\n      <th>33287</th>\n      <td>4</td>\n      <td>0</td>\n      <td>home, renovation, decoration, installation</td>\n      <td>2</td>\n      <td>game, team, competition, sport</td>\n      <td>St. Petersburg, participation, festival, exhib...</td>\n      <td>music, concerts, rock, tickets, festivals</td>\n      <td>car, cars, sale, tires</td>\n      <td>43.841215</td>\n    </tr>\n    <tr>\n      <th>33288</th>\n      <td>4</td>\n      <td>1</td>\n      <td>car, cars, sale, tires</td>\n      <td>2</td>\n      <td>film, series, cinema, genre</td>\n      <td>music, concerts, rock, tickets, festivals</td>\n      <td>music, concerts, rock, tickets, festivals</td>\n      <td>book, reading, language, word, literature</td>\n      <td>39.128840</td>\n    </tr>\n    <tr>\n      <th>33289</th>\n      <td>4</td>\n      <td>0</td>\n      <td>St. Petersburg, participation, festival, exhib...</td>\n      <td>1</td>\n      <td>beauty, hair, manicure, salon</td>\n      <td>war, history, army, politics</td>\n      <td>dress, fashion, color, style</td>\n      <td>dress, fashion, color, style</td>\n      <td>31.055491</td>\n    </tr>\n    <tr>\n      <th>33290</th>\n      <td>0</td>\n      <td>1</td>\n      <td>music, concerts, rock, tickets, festivals</td>\n      <td>1</td>\n      <td>vacation, sea, accommodation, cost</td>\n      <td>school, education, question, topic</td>\n      <td>film, series, cinema, genre</td>\n      <td>school, education, question, topic</td>\n      <td>40.437600</td>\n    </tr>\n  </tbody>\n</table>\n<p>33291 rows × 9 columns</p>\n</div>"
     },
     "metadata": {},
     "execution_count": 46
    }
   ],
   "source": [
    "sample"
   ]
  },
  {
   "cell_type": "code",
   "execution_count": 47,
   "metadata": {},
   "outputs": [],
   "source": [
    "sample['relation'] = sample['relation'].apply(lambda x: int(x))\n",
    "sample['has_high_education'] = sample['has_high_education'].apply(lambda x: int(x))\n",
    "sample['sex'] = sample['sex'].apply(lambda x: int(x))"
   ]
  },
  {
   "cell_type": "code",
   "execution_count": 48,
   "metadata": {},
   "outputs": [],
   "source": [
    "sample['age'] = sample['age'].apply(lambda x: int(x))"
   ]
  },
  {
   "cell_type": "code",
   "execution_count": 49,
   "metadata": {},
   "outputs": [],
   "source": [
    "sample['top1'] = sample['top1'].apply(lambda x: str(x))\n",
    "sample['top2'] = sample['top2'].apply(lambda x: str(x))\n",
    "sample['top3'] = sample['top3'].apply(lambda x: str(x))\n",
    "sample['top4'] = sample['top4'].apply(lambda x: str(x))\n",
    "sample['top5'] = sample['top5'].apply(lambda x: str(x))"
   ]
  },
  {
   "cell_type": "code",
   "execution_count": 50,
   "metadata": {},
   "outputs": [],
   "source": [
    "coded_data['top1'] = coded_data['top1'].apply(lambda x: str(x))\n",
    "coded_data['top2'] = coded_data['top2'].apply(lambda x: str(x))\n",
    "coded_data['top3'] = coded_data['top3'].apply(lambda x: str(x))\n",
    "coded_data['top4'] = coded_data['top4'].apply(lambda x: str(x))\n",
    "coded_data['top5'] = coded_data['top5'].apply(lambda x: str(x))"
   ]
  },
  {
   "cell_type": "code",
   "execution_count": 51,
   "metadata": {},
   "outputs": [],
   "source": [
    "all_data = copy(sample)\n",
    "all_data['label'] = ['Synthetic' for i in range(sample.shape[0])]"
   ]
  },
  {
   "cell_type": "code",
   "execution_count": 52,
   "metadata": {},
   "outputs": [],
   "source": [
    "vk_base['label'] = ['Real' for i in range(vk_base.shape[0])]"
   ]
  },
  {
   "cell_type": "code",
   "execution_count": 53,
   "metadata": {},
   "outputs": [],
   "source": [
    "all_data = pd.concat([all_data, vk_base])"
   ]
  },
  {
   "cell_type": "code",
   "execution_count": 54,
   "metadata": {},
   "outputs": [],
   "source": [
    "all_data = all_data.sample(frac=1).reset_index(drop=True)"
   ]
  },
  {
   "cell_type": "code",
   "execution_count": 55,
   "metadata": {},
   "outputs": [
    {
     "output_type": "execute_result",
     "data": {
      "text/plain": [
       "<seaborn.axisgrid.FacetGrid at 0x1bc49b28910>"
      ]
     },
     "metadata": {},
     "execution_count": 55
    },
    {
     "output_type": "display_data",
     "data": {
      "text/plain": "<Figure size 443.125x360 with 1 Axes>",
      "image/svg+xml": "<?xml version=\"1.0\" encoding=\"utf-8\" standalone=\"no\"?>\r\n<!DOCTYPE svg PUBLIC \"-//W3C//DTD SVG 1.1//EN\"\r\n  \"http://www.w3.org/Graphics/SVG/1.1/DTD/svg11.dtd\">\r\n<!-- Created with matplotlib (https://matplotlib.org/) -->\r\n<svg height=\"352.15625pt\" version=\"1.1\" viewBox=\"0 0 441.603125 352.15625\" width=\"441.603125pt\" xmlns=\"http://www.w3.org/2000/svg\" xmlns:xlink=\"http://www.w3.org/1999/xlink\">\r\n <metadata>\r\n  <rdf:RDF xmlns:cc=\"http://creativecommons.org/ns#\" xmlns:dc=\"http://purl.org/dc/elements/1.1/\" xmlns:rdf=\"http://www.w3.org/1999/02/22-rdf-syntax-ns#\">\r\n   <cc:Work>\r\n    <dc:type rdf:resource=\"http://purl.org/dc/dcmitype/StillImage\"/>\r\n    <dc:date>2021-05-27T17:55:59.632749</dc:date>\r\n    <dc:format>image/svg+xml</dc:format>\r\n    <dc:creator>\r\n     <cc:Agent>\r\n      <dc:title>Matplotlib v3.3.4, https://matplotlib.org/</dc:title>\r\n     </cc:Agent>\r\n    </dc:creator>\r\n   </cc:Work>\r\n  </rdf:RDF>\r\n </metadata>\r\n <defs>\r\n  <style type=\"text/css\">*{stroke-linecap:butt;stroke-linejoin:round;}</style>\r\n </defs>\r\n <g id=\"figure_1\">\r\n  <g id=\"patch_1\">\r\n   <path d=\"M 0 352.15625 \r\nL 441.603125 352.15625 \r\nL 441.603125 0 \r\nL 0 0 \r\nz\r\n\" style=\"fill:none;\"/>\r\n  </g>\r\n  <g id=\"axes_1\">\r\n   <g id=\"patch_2\">\r\n    <path d=\"M 53.328125 314.6 \r\nL 341.046875 314.6 \r\nL 341.046875 7.2 \r\nL 53.328125 7.2 \r\nz\r\n\" style=\"fill:#ffffff;\"/>\r\n   </g>\r\n   <g id=\"patch_3\">\r\n    <path clip-path=\"url(#pa21aba8eca)\" d=\"M 66.40625 314.6 \r\nL 68.720962 314.6 \r\nL 68.720962 314.387082 \r\nL 66.40625 314.387082 \r\nz\r\n\" style=\"fill:#ff7f0e;fill-opacity:0.5;stroke:#000000;stroke-linejoin:miter;stroke-width:0.247456;\"/>\r\n   </g>\r\n   <g id=\"patch_4\">\r\n    <path clip-path=\"url(#pa21aba8eca)\" d=\"M 68.720962 314.6 \r\nL 71.035675 314.6 \r\nL 71.035675 313.748329 \r\nL 68.720962 313.748329 \r\nz\r\n\" style=\"fill:#ff7f0e;fill-opacity:0.5;stroke:#000000;stroke-linejoin:miter;stroke-width:0.247456;\"/>\r\n   </g>\r\n   <g id=\"patch_5\">\r\n    <path clip-path=\"url(#pa21aba8eca)\" d=\"M 71.035675 314.6 \r\nL 73.350387 314.6 \r\nL 73.350387 312.257905 \r\nL 71.035675 312.257905 \r\nz\r\n\" style=\"fill:#ff7f0e;fill-opacity:0.5;stroke:#000000;stroke-linejoin:miter;stroke-width:0.247456;\"/>\r\n   </g>\r\n   <g id=\"patch_6\">\r\n    <path clip-path=\"url(#pa21aba8eca)\" d=\"M 73.350387 314.6 \r\nL 75.6651 314.6 \r\nL 75.6651 311.406234 \r\nL 73.350387 311.406234 \r\nz\r\n\" style=\"fill:#ff7f0e;fill-opacity:0.5;stroke:#000000;stroke-linejoin:miter;stroke-width:0.247456;\"/>\r\n   </g>\r\n   <g id=\"patch_7\">\r\n    <path clip-path=\"url(#pa21aba8eca)\" d=\"M 75.6651 314.6 \r\nL 77.979812 314.6 \r\nL 77.979812 314.6 \r\nL 75.6651 314.6 \r\nz\r\n\" style=\"fill:#ff7f0e;fill-opacity:0.5;stroke:#000000;stroke-linejoin:miter;stroke-width:0.247456;\"/>\r\n   </g>\r\n   <g id=\"patch_8\">\r\n    <path clip-path=\"url(#pa21aba8eca)\" d=\"M 77.979812 314.6 \r\nL 80.294524 314.6 \r\nL 80.294524 312.470823 \r\nL 77.979812 312.470823 \r\nz\r\n\" style=\"fill:#ff7f0e;fill-opacity:0.5;stroke:#000000;stroke-linejoin:miter;stroke-width:0.247456;\"/>\r\n   </g>\r\n   <g id=\"patch_9\">\r\n    <path clip-path=\"url(#pa21aba8eca)\" d=\"M 80.294524 314.6 \r\nL 82.609237 314.6 \r\nL 82.609237 312.257905 \r\nL 80.294524 312.257905 \r\nz\r\n\" style=\"fill:#ff7f0e;fill-opacity:0.5;stroke:#000000;stroke-linejoin:miter;stroke-width:0.247456;\"/>\r\n   </g>\r\n   <g id=\"patch_10\">\r\n    <path clip-path=\"url(#pa21aba8eca)\" d=\"M 82.609237 314.6 \r\nL 84.923949 314.6 \r\nL 84.923949 310.554563 \r\nL 82.609237 310.554563 \r\nz\r\n\" style=\"fill:#ff7f0e;fill-opacity:0.5;stroke:#000000;stroke-linejoin:miter;stroke-width:0.247456;\"/>\r\n   </g>\r\n   <g id=\"patch_11\">\r\n    <path clip-path=\"url(#pa21aba8eca)\" d=\"M 84.923949 314.6 \r\nL 87.238662 314.6 \r\nL 87.238662 309.277056 \r\nL 84.923949 309.277056 \r\nz\r\n\" style=\"fill:#ff7f0e;fill-opacity:0.5;stroke:#000000;stroke-linejoin:miter;stroke-width:0.247456;\"/>\r\n   </g>\r\n   <g id=\"patch_12\">\r\n    <path clip-path=\"url(#pa21aba8eca)\" d=\"M 87.238662 314.6 \r\nL 89.553374 314.6 \r\nL 89.553374 314.6 \r\nL 87.238662 314.6 \r\nz\r\n\" style=\"fill:#ff7f0e;fill-opacity:0.5;stroke:#000000;stroke-linejoin:miter;stroke-width:0.247456;\"/>\r\n   </g>\r\n   <g id=\"patch_13\">\r\n    <path clip-path=\"url(#pa21aba8eca)\" d=\"M 89.553374 314.6 \r\nL 91.868086 314.6 \r\nL 91.868086 308.425385 \r\nL 89.553374 308.425385 \r\nz\r\n\" style=\"fill:#ff7f0e;fill-opacity:0.5;stroke:#000000;stroke-linejoin:miter;stroke-width:0.247456;\"/>\r\n   </g>\r\n   <g id=\"patch_14\">\r\n    <path clip-path=\"url(#pa21aba8eca)\" d=\"M 91.868086 314.6 \r\nL 94.182799 314.6 \r\nL 94.182799 304.805784 \r\nL 91.868086 304.805784 \r\nz\r\n\" style=\"fill:#ff7f0e;fill-opacity:0.5;stroke:#000000;stroke-linejoin:miter;stroke-width:0.247456;\"/>\r\n   </g>\r\n   <g id=\"patch_15\">\r\n    <path clip-path=\"url(#pa21aba8eca)\" d=\"M 94.182799 314.6 \r\nL 96.497511 314.6 \r\nL 96.497511 306.296208 \r\nL 94.182799 306.296208 \r\nz\r\n\" style=\"fill:#ff7f0e;fill-opacity:0.5;stroke:#000000;stroke-linejoin:miter;stroke-width:0.247456;\"/>\r\n   </g>\r\n   <g id=\"patch_16\">\r\n    <path clip-path=\"url(#pa21aba8eca)\" d=\"M 96.497511 314.6 \r\nL 98.812223 314.6 \r\nL 98.812223 302.463688 \r\nL 96.497511 302.463688 \r\nz\r\n\" style=\"fill:#ff7f0e;fill-opacity:0.5;stroke:#000000;stroke-linejoin:miter;stroke-width:0.247456;\"/>\r\n   </g>\r\n   <g id=\"patch_17\">\r\n    <path clip-path=\"url(#pa21aba8eca)\" d=\"M 98.812223 314.6 \r\nL 101.126936 314.6 \r\nL 101.126936 314.6 \r\nL 98.812223 314.6 \r\nz\r\n\" style=\"fill:#ff7f0e;fill-opacity:0.5;stroke:#000000;stroke-linejoin:miter;stroke-width:0.247456;\"/>\r\n   </g>\r\n   <g id=\"patch_18\">\r\n    <path clip-path=\"url(#pa21aba8eca)\" d=\"M 101.126936 314.6 \r\nL 103.441648 314.6 \r\nL 103.441648 300.334511 \r\nL 101.126936 300.334511 \r\nz\r\n\" style=\"fill:#ff7f0e;fill-opacity:0.5;stroke:#000000;stroke-linejoin:miter;stroke-width:0.247456;\"/>\r\n   </g>\r\n   <g id=\"patch_19\">\r\n    <path clip-path=\"url(#pa21aba8eca)\" d=\"M 103.441648 314.6 \r\nL 105.756361 314.6 \r\nL 105.756361 294.585732 \r\nL 103.441648 294.585732 \r\nz\r\n\" style=\"fill:#ff7f0e;fill-opacity:0.5;stroke:#000000;stroke-linejoin:miter;stroke-width:0.247456;\"/>\r\n   </g>\r\n   <g id=\"patch_20\">\r\n    <path clip-path=\"url(#pa21aba8eca)\" d=\"M 105.756361 314.6 \r\nL 108.071073 314.6 \r\nL 108.071073 290.327377 \r\nL 105.756361 290.327377 \r\nz\r\n\" style=\"fill:#ff7f0e;fill-opacity:0.5;stroke:#000000;stroke-linejoin:miter;stroke-width:0.247456;\"/>\r\n   </g>\r\n   <g id=\"patch_21\">\r\n    <path clip-path=\"url(#pa21aba8eca)\" d=\"M 108.071073 314.6 \r\nL 110.385785 314.6 \r\nL 110.385785 314.6 \r\nL 108.071073 314.6 \r\nz\r\n\" style=\"fill:#ff7f0e;fill-opacity:0.5;stroke:#000000;stroke-linejoin:miter;stroke-width:0.247456;\"/>\r\n   </g>\r\n   <g id=\"patch_22\">\r\n    <path clip-path=\"url(#pa21aba8eca)\" d=\"M 110.385785 314.6 \r\nL 112.700498 314.6 \r\nL 112.700498 286.920693 \r\nL 110.385785 286.920693 \r\nz\r\n\" style=\"fill:#ff7f0e;fill-opacity:0.5;stroke:#000000;stroke-linejoin:miter;stroke-width:0.247456;\"/>\r\n   </g>\r\n   <g id=\"patch_23\">\r\n    <path clip-path=\"url(#pa21aba8eca)\" d=\"M 112.700498 314.6 \r\nL 115.01521 314.6 \r\nL 115.01521 280.958996 \r\nL 112.700498 280.958996 \r\nz\r\n\" style=\"fill:#ff7f0e;fill-opacity:0.5;stroke:#000000;stroke-linejoin:miter;stroke-width:0.247456;\"/>\r\n   </g>\r\n   <g id=\"patch_24\">\r\n    <path clip-path=\"url(#pa21aba8eca)\" d=\"M 115.01521 314.6 \r\nL 117.329923 314.6 \r\nL 117.329923 270.10019 \r\nL 115.01521 270.10019 \r\nz\r\n\" style=\"fill:#ff7f0e;fill-opacity:0.5;stroke:#000000;stroke-linejoin:miter;stroke-width:0.247456;\"/>\r\n   </g>\r\n   <g id=\"patch_25\">\r\n    <path clip-path=\"url(#pa21aba8eca)\" d=\"M 117.329923 314.6 \r\nL 119.644635 314.6 \r\nL 119.644635 267.545177 \r\nL 117.329923 267.545177 \r\nz\r\n\" style=\"fill:#ff7f0e;fill-opacity:0.5;stroke:#000000;stroke-linejoin:miter;stroke-width:0.247456;\"/>\r\n   </g>\r\n   <g id=\"patch_26\">\r\n    <path clip-path=\"url(#pa21aba8eca)\" d=\"M 119.644635 314.6 \r\nL 121.959347 314.6 \r\nL 121.959347 314.6 \r\nL 119.644635 314.6 \r\nz\r\n\" style=\"fill:#ff7f0e;fill-opacity:0.5;stroke:#000000;stroke-linejoin:miter;stroke-width:0.247456;\"/>\r\n   </g>\r\n   <g id=\"patch_27\">\r\n    <path clip-path=\"url(#pa21aba8eca)\" d=\"M 121.959347 314.6 \r\nL 124.27406 314.6 \r\nL 124.27406 263.49974 \r\nL 121.959347 263.49974 \r\nz\r\n\" style=\"fill:#ff7f0e;fill-opacity:0.5;stroke:#000000;stroke-linejoin:miter;stroke-width:0.247456;\"/>\r\n   </g>\r\n   <g id=\"patch_28\">\r\n    <path clip-path=\"url(#pa21aba8eca)\" d=\"M 124.27406 314.6 \r\nL 126.588772 314.6 \r\nL 126.588772 254.770113 \r\nL 124.27406 254.770113 \r\nz\r\n\" style=\"fill:#ff7f0e;fill-opacity:0.5;stroke:#000000;stroke-linejoin:miter;stroke-width:0.247456;\"/>\r\n   </g>\r\n   <g id=\"patch_29\">\r\n    <path clip-path=\"url(#pa21aba8eca)\" d=\"M 126.588772 314.6 \r\nL 128.903485 314.6 \r\nL 128.903485 245.188814 \r\nL 126.588772 245.188814 \r\nz\r\n\" style=\"fill:#ff7f0e;fill-opacity:0.5;stroke:#000000;stroke-linejoin:miter;stroke-width:0.247456;\"/>\r\n   </g>\r\n   <g id=\"patch_30\">\r\n    <path clip-path=\"url(#pa21aba8eca)\" d=\"M 128.903485 314.6 \r\nL 131.218197 314.6 \r\nL 131.218197 239.227117 \r\nL 128.903485 239.227117 \r\nz\r\n\" style=\"fill:#ff7f0e;fill-opacity:0.5;stroke:#000000;stroke-linejoin:miter;stroke-width:0.247456;\"/>\r\n   </g>\r\n   <g id=\"patch_31\">\r\n    <path clip-path=\"url(#pa21aba8eca)\" d=\"M 131.218197 314.6 \r\nL 133.532909 314.6 \r\nL 133.532909 314.6 \r\nL 131.218197 314.6 \r\nz\r\n\" style=\"fill:#ff7f0e;fill-opacity:0.5;stroke:#000000;stroke-linejoin:miter;stroke-width:0.247456;\"/>\r\n   </g>\r\n   <g id=\"patch_32\">\r\n    <path clip-path=\"url(#pa21aba8eca)\" d=\"M 133.532909 314.6 \r\nL 135.847622 314.6 \r\nL 135.847622 221.980779 \r\nL 133.532909 221.980779 \r\nz\r\n\" style=\"fill:#ff7f0e;fill-opacity:0.5;stroke:#000000;stroke-linejoin:miter;stroke-width:0.247456;\"/>\r\n   </g>\r\n   <g id=\"patch_33\">\r\n    <path clip-path=\"url(#pa21aba8eca)\" d=\"M 135.847622 314.6 \r\nL 138.162334 314.6 \r\nL 138.162334 206.650701 \r\nL 135.847622 206.650701 \r\nz\r\n\" style=\"fill:#ff7f0e;fill-opacity:0.5;stroke:#000000;stroke-linejoin:miter;stroke-width:0.247456;\"/>\r\n   </g>\r\n   <g id=\"patch_34\">\r\n    <path clip-path=\"url(#pa21aba8eca)\" d=\"M 138.162334 314.6 \r\nL 140.477046 314.6 \r\nL 140.477046 204.095688 \r\nL 138.162334 204.095688 \r\nz\r\n\" style=\"fill:#ff7f0e;fill-opacity:0.5;stroke:#000000;stroke-linejoin:miter;stroke-width:0.247456;\"/>\r\n   </g>\r\n   <g id=\"patch_35\">\r\n    <path clip-path=\"url(#pa21aba8eca)\" d=\"M 140.477046 314.6 \r\nL 142.791759 314.6 \r\nL 142.791759 314.6 \r\nL 140.477046 314.6 \r\nz\r\n\" style=\"fill:#ff7f0e;fill-opacity:0.5;stroke:#000000;stroke-linejoin:miter;stroke-width:0.247456;\"/>\r\n   </g>\r\n   <g id=\"patch_36\">\r\n    <path clip-path=\"url(#pa21aba8eca)\" d=\"M 142.791759 314.6 \r\nL 145.106471 314.6 \r\nL 145.106471 187.913939 \r\nL 142.791759 187.913939 \r\nz\r\n\" style=\"fill:#ff7f0e;fill-opacity:0.5;stroke:#000000;stroke-linejoin:miter;stroke-width:0.247456;\"/>\r\n   </g>\r\n   <g id=\"patch_37\">\r\n    <path clip-path=\"url(#pa21aba8eca)\" d=\"M 145.106471 314.6 \r\nL 147.421184 314.6 \r\nL 147.421184 179.610147 \r\nL 145.106471 179.610147 \r\nz\r\n\" style=\"fill:#ff7f0e;fill-opacity:0.5;stroke:#000000;stroke-linejoin:miter;stroke-width:0.247456;\"/>\r\n   </g>\r\n   <g id=\"patch_38\">\r\n    <path clip-path=\"url(#pa21aba8eca)\" d=\"M 147.421184 314.6 \r\nL 149.735896 314.6 \r\nL 149.735896 160.021714 \r\nL 147.421184 160.021714 \r\nz\r\n\" style=\"fill:#ff7f0e;fill-opacity:0.5;stroke:#000000;stroke-linejoin:miter;stroke-width:0.247456;\"/>\r\n   </g>\r\n   <g id=\"patch_39\">\r\n    <path clip-path=\"url(#pa21aba8eca)\" d=\"M 149.735896 314.6 \r\nL 152.050608 314.6 \r\nL 152.050608 149.588745 \r\nL 149.735896 149.588745 \r\nz\r\n\" style=\"fill:#ff7f0e;fill-opacity:0.5;stroke:#000000;stroke-linejoin:miter;stroke-width:0.247456;\"/>\r\n   </g>\r\n   <g id=\"patch_40\">\r\n    <path clip-path=\"url(#pa21aba8eca)\" d=\"M 152.050608 314.6 \r\nL 154.365321 314.6 \r\nL 154.365321 314.6 \r\nL 152.050608 314.6 \r\nz\r\n\" style=\"fill:#ff7f0e;fill-opacity:0.5;stroke:#000000;stroke-linejoin:miter;stroke-width:0.247456;\"/>\r\n   </g>\r\n   <g id=\"patch_41\">\r\n    <path clip-path=\"url(#pa21aba8eca)\" d=\"M 154.365321 314.6 \r\nL 156.680033 314.6 \r\nL 156.680033 139.58161 \r\nL 154.365321 139.58161 \r\nz\r\n\" style=\"fill:#ff7f0e;fill-opacity:0.5;stroke:#000000;stroke-linejoin:miter;stroke-width:0.247456;\"/>\r\n   </g>\r\n   <g id=\"patch_42\">\r\n    <path clip-path=\"url(#pa21aba8eca)\" d=\"M 156.680033 314.6 \r\nL 158.994746 314.6 \r\nL 158.994746 127.445299 \r\nL 156.680033 127.445299 \r\nz\r\n\" style=\"fill:#ff7f0e;fill-opacity:0.5;stroke:#000000;stroke-linejoin:miter;stroke-width:0.247456;\"/>\r\n   </g>\r\n   <g id=\"patch_43\">\r\n    <path clip-path=\"url(#pa21aba8eca)\" d=\"M 158.994746 314.6 \r\nL 161.309458 314.6 \r\nL 161.309458 112.115221 \r\nL 158.994746 112.115221 \r\nz\r\n\" style=\"fill:#ff7f0e;fill-opacity:0.5;stroke:#000000;stroke-linejoin:miter;stroke-width:0.247456;\"/>\r\n   </g>\r\n   <g id=\"patch_44\">\r\n    <path clip-path=\"url(#pa21aba8eca)\" d=\"M 161.309458 314.6 \r\nL 163.62417 314.6 \r\nL 163.62417 91.675117 \r\nL 161.309458 91.675117 \r\nz\r\n\" style=\"fill:#ff7f0e;fill-opacity:0.5;stroke:#000000;stroke-linejoin:miter;stroke-width:0.247456;\"/>\r\n   </g>\r\n   <g id=\"patch_45\">\r\n    <path clip-path=\"url(#pa21aba8eca)\" d=\"M 163.62417 314.6 \r\nL 165.938883 314.6 \r\nL 165.938883 314.6 \r\nL 163.62417 314.6 \r\nz\r\n\" style=\"fill:#ff7f0e;fill-opacity:0.5;stroke:#000000;stroke-linejoin:miter;stroke-width:0.247456;\"/>\r\n   </g>\r\n   <g id=\"patch_46\">\r\n    <path clip-path=\"url(#pa21aba8eca)\" d=\"M 165.938883 314.6 \r\nL 168.253595 314.6 \r\nL 168.253595 97.636814 \r\nL 165.938883 97.636814 \r\nz\r\n\" style=\"fill:#ff7f0e;fill-opacity:0.5;stroke:#000000;stroke-linejoin:miter;stroke-width:0.247456;\"/>\r\n   </g>\r\n   <g id=\"patch_47\">\r\n    <path clip-path=\"url(#pa21aba8eca)\" d=\"M 168.253595 314.6 \r\nL 170.568308 314.6 \r\nL 170.568308 82.519654 \r\nL 168.253595 82.519654 \r\nz\r\n\" style=\"fill:#ff7f0e;fill-opacity:0.5;stroke:#000000;stroke-linejoin:miter;stroke-width:0.247456;\"/>\r\n   </g>\r\n   <g id=\"patch_48\">\r\n    <path clip-path=\"url(#pa21aba8eca)\" d=\"M 170.568308 314.6 \r\nL 172.88302 314.6 \r\nL 172.88302 88.481351 \r\nL 170.568308 88.481351 \r\nz\r\n\" style=\"fill:#ff7f0e;fill-opacity:0.5;stroke:#000000;stroke-linejoin:miter;stroke-width:0.247456;\"/>\r\n   </g>\r\n   <g id=\"patch_49\">\r\n    <path clip-path=\"url(#pa21aba8eca)\" d=\"M 172.88302 314.6 \r\nL 175.197732 314.6 \r\nL 175.197732 75.28045 \r\nL 172.88302 75.28045 \r\nz\r\n\" style=\"fill:#ff7f0e;fill-opacity:0.5;stroke:#000000;stroke-linejoin:miter;stroke-width:0.247456;\"/>\r\n   </g>\r\n   <g id=\"patch_50\">\r\n    <path clip-path=\"url(#pa21aba8eca)\" d=\"M 175.197732 314.6 \r\nL 177.512445 314.6 \r\nL 177.512445 314.6 \r\nL 175.197732 314.6 \r\nz\r\n\" style=\"fill:#ff7f0e;fill-opacity:0.5;stroke:#000000;stroke-linejoin:miter;stroke-width:0.247456;\"/>\r\n   </g>\r\n   <g id=\"patch_51\">\r\n    <path clip-path=\"url(#pa21aba8eca)\" d=\"M 177.512445 314.6 \r\nL 179.827157 314.6 \r\nL 179.827157 70.383342 \r\nL 177.512445 70.383342 \r\nz\r\n\" style=\"fill:#ff7f0e;fill-opacity:0.5;stroke:#000000;stroke-linejoin:miter;stroke-width:0.247456;\"/>\r\n   </g>\r\n   <g id=\"patch_52\">\r\n    <path clip-path=\"url(#pa21aba8eca)\" d=\"M 179.827157 314.6 \r\nL 182.141869 314.6 \r\nL 182.141869 70.59626 \r\nL 179.827157 70.59626 \r\nz\r\n\" style=\"fill:#ff7f0e;fill-opacity:0.5;stroke:#000000;stroke-linejoin:miter;stroke-width:0.247456;\"/>\r\n   </g>\r\n   <g id=\"patch_53\">\r\n    <path clip-path=\"url(#pa21aba8eca)\" d=\"M 182.141869 314.6 \r\nL 184.456582 314.6 \r\nL 184.456582 71.873766 \r\nL 182.141869 71.873766 \r\nz\r\n\" style=\"fill:#ff7f0e;fill-opacity:0.5;stroke:#000000;stroke-linejoin:miter;stroke-width:0.247456;\"/>\r\n   </g>\r\n   <g id=\"patch_54\">\r\n    <path clip-path=\"url(#pa21aba8eca)\" d=\"M 184.456582 314.6 \r\nL 186.771294 314.6 \r\nL 186.771294 314.6 \r\nL 184.456582 314.6 \r\nz\r\n\" style=\"fill:#ff7f0e;fill-opacity:0.5;stroke:#000000;stroke-linejoin:miter;stroke-width:0.247456;\"/>\r\n   </g>\r\n   <g id=\"patch_55\">\r\n    <path clip-path=\"url(#pa21aba8eca)\" d=\"M 186.771294 314.6 \r\nL 189.086007 314.6 \r\nL 189.086007 71.022095 \r\nL 186.771294 71.022095 \r\nz\r\n\" style=\"fill:#ff7f0e;fill-opacity:0.5;stroke:#000000;stroke-linejoin:miter;stroke-width:0.247456;\"/>\r\n   </g>\r\n   <g id=\"patch_56\">\r\n    <path clip-path=\"url(#pa21aba8eca)\" d=\"M 189.086007 314.6 \r\nL 191.400719 314.6 \r\nL 191.400719 76.983792 \r\nL 189.086007 76.983792 \r\nz\r\n\" style=\"fill:#ff7f0e;fill-opacity:0.5;stroke:#000000;stroke-linejoin:miter;stroke-width:0.247456;\"/>\r\n   </g>\r\n   <g id=\"patch_57\">\r\n    <path clip-path=\"url(#pa21aba8eca)\" d=\"M 191.400719 314.6 \r\nL 193.715431 314.6 \r\nL 193.715431 92.100952 \r\nL 191.400719 92.100952 \r\nz\r\n\" style=\"fill:#ff7f0e;fill-opacity:0.5;stroke:#000000;stroke-linejoin:miter;stroke-width:0.247456;\"/>\r\n   </g>\r\n   <g id=\"patch_58\">\r\n    <path clip-path=\"url(#pa21aba8eca)\" d=\"M 193.715431 314.6 \r\nL 196.030144 314.6 \r\nL 196.030144 83.79716 \r\nL 193.715431 83.79716 \r\nz\r\n\" style=\"fill:#ff7f0e;fill-opacity:0.5;stroke:#000000;stroke-linejoin:miter;stroke-width:0.247456;\"/>\r\n   </g>\r\n   <g id=\"patch_59\">\r\n    <path clip-path=\"url(#pa21aba8eca)\" d=\"M 196.030144 314.6 \r\nL 198.344856 314.6 \r\nL 198.344856 314.6 \r\nL 196.030144 314.6 \r\nz\r\n\" style=\"fill:#ff7f0e;fill-opacity:0.5;stroke:#000000;stroke-linejoin:miter;stroke-width:0.247456;\"/>\r\n   </g>\r\n   <g id=\"patch_60\">\r\n    <path clip-path=\"url(#pa21aba8eca)\" d=\"M 198.344856 314.6 \r\nL 200.659569 314.6 \r\nL 200.659569 95.720554 \r\nL 198.344856 95.720554 \r\nz\r\n\" style=\"fill:#ff7f0e;fill-opacity:0.5;stroke:#000000;stroke-linejoin:miter;stroke-width:0.247456;\"/>\r\n   </g>\r\n   <g id=\"patch_61\">\r\n    <path clip-path=\"url(#pa21aba8eca)\" d=\"M 200.659569 314.6 \r\nL 202.974281 314.6 \r\nL 202.974281 109.34729 \r\nL 200.659569 109.34729 \r\nz\r\n\" style=\"fill:#ff7f0e;fill-opacity:0.5;stroke:#000000;stroke-linejoin:miter;stroke-width:0.247456;\"/>\r\n   </g>\r\n   <g id=\"patch_62\">\r\n    <path clip-path=\"url(#pa21aba8eca)\" d=\"M 202.974281 314.6 \r\nL 205.288993 314.6 \r\nL 205.288993 131.490736 \r\nL 202.974281 131.490736 \r\nz\r\n\" style=\"fill:#ff7f0e;fill-opacity:0.5;stroke:#000000;stroke-linejoin:miter;stroke-width:0.247456;\"/>\r\n   </g>\r\n   <g id=\"patch_63\">\r\n    <path clip-path=\"url(#pa21aba8eca)\" d=\"M 205.288993 314.6 \r\nL 207.603706 314.6 \r\nL 207.603706 123.612779 \r\nL 205.288993 123.612779 \r\nz\r\n\" style=\"fill:#ff7f0e;fill-opacity:0.5;stroke:#000000;stroke-linejoin:miter;stroke-width:0.247456;\"/>\r\n   </g>\r\n   <g id=\"patch_64\">\r\n    <path clip-path=\"url(#pa21aba8eca)\" d=\"M 207.603706 314.6 \r\nL 209.918418 314.6 \r\nL 209.918418 314.6 \r\nL 207.603706 314.6 \r\nz\r\n\" style=\"fill:#ff7f0e;fill-opacity:0.5;stroke:#000000;stroke-linejoin:miter;stroke-width:0.247456;\"/>\r\n   </g>\r\n   <g id=\"patch_65\">\r\n    <path clip-path=\"url(#pa21aba8eca)\" d=\"M 209.918418 314.6 \r\nL 212.233131 314.6 \r\nL 212.233131 143.627048 \r\nL 209.918418 143.627048 \r\nz\r\n\" style=\"fill:#ff7f0e;fill-opacity:0.5;stroke:#000000;stroke-linejoin:miter;stroke-width:0.247456;\"/>\r\n   </g>\r\n   <g id=\"patch_66\">\r\n    <path clip-path=\"url(#pa21aba8eca)\" d=\"M 212.233131 314.6 \r\nL 214.547843 314.6 \r\nL 214.547843 154.272935 \r\nL 212.233131 154.272935 \r\nz\r\n\" style=\"fill:#ff7f0e;fill-opacity:0.5;stroke:#000000;stroke-linejoin:miter;stroke-width:0.247456;\"/>\r\n   </g>\r\n   <g id=\"patch_67\">\r\n    <path clip-path=\"url(#pa21aba8eca)\" d=\"M 214.547843 314.6 \r\nL 216.862555 314.6 \r\nL 216.862555 170.241766 \r\nL 214.547843 170.241766 \r\nz\r\n\" style=\"fill:#ff7f0e;fill-opacity:0.5;stroke:#000000;stroke-linejoin:miter;stroke-width:0.247456;\"/>\r\n   </g>\r\n   <g id=\"patch_68\">\r\n    <path clip-path=\"url(#pa21aba8eca)\" d=\"M 216.862555 314.6 \r\nL 219.177268 314.6 \r\nL 219.177268 314.6 \r\nL 216.862555 314.6 \r\nz\r\n\" style=\"fill:#ff7f0e;fill-opacity:0.5;stroke:#000000;stroke-linejoin:miter;stroke-width:0.247456;\"/>\r\n   </g>\r\n   <g id=\"patch_69\">\r\n    <path clip-path=\"url(#pa21aba8eca)\" d=\"M 219.177268 314.6 \r\nL 221.49198 314.6 \r\nL 221.49198 181.952242 \r\nL 219.177268 181.952242 \r\nz\r\n\" style=\"fill:#ff7f0e;fill-opacity:0.5;stroke:#000000;stroke-linejoin:miter;stroke-width:0.247456;\"/>\r\n   </g>\r\n   <g id=\"patch_70\">\r\n    <path clip-path=\"url(#pa21aba8eca)\" d=\"M 221.49198 314.6 \r\nL 223.806692 314.6 \r\nL 223.806692 196.856485 \r\nL 221.49198 196.856485 \r\nz\r\n\" style=\"fill:#ff7f0e;fill-opacity:0.5;stroke:#000000;stroke-linejoin:miter;stroke-width:0.247456;\"/>\r\n   </g>\r\n   <g id=\"patch_71\">\r\n    <path clip-path=\"url(#pa21aba8eca)\" d=\"M 223.806692 314.6 \r\nL 226.121405 314.6 \r\nL 226.121405 201.11484 \r\nL 223.806692 201.11484 \r\nz\r\n\" style=\"fill:#ff7f0e;fill-opacity:0.5;stroke:#000000;stroke-linejoin:miter;stroke-width:0.247456;\"/>\r\n   </g>\r\n   <g id=\"patch_72\">\r\n    <path clip-path=\"url(#pa21aba8eca)\" d=\"M 226.121405 314.6 \r\nL 228.436117 314.6 \r\nL 228.436117 217.509506 \r\nL 226.121405 217.509506 \r\nz\r\n\" style=\"fill:#ff7f0e;fill-opacity:0.5;stroke:#000000;stroke-linejoin:miter;stroke-width:0.247456;\"/>\r\n   </g>\r\n   <g id=\"patch_73\">\r\n    <path clip-path=\"url(#pa21aba8eca)\" d=\"M 228.436117 314.6 \r\nL 230.75083 314.6 \r\nL 230.75083 314.6 \r\nL 228.436117 314.6 \r\nz\r\n\" style=\"fill:#ff7f0e;fill-opacity:0.5;stroke:#000000;stroke-linejoin:miter;stroke-width:0.247456;\"/>\r\n   </g>\r\n   <g id=\"patch_74\">\r\n    <path clip-path=\"url(#pa21aba8eca)\" d=\"M 230.75083 314.6 \r\nL 233.065542 314.6 \r\nL 233.065542 230.497489 \r\nL 230.75083 230.497489 \r\nz\r\n\" style=\"fill:#ff7f0e;fill-opacity:0.5;stroke:#000000;stroke-linejoin:miter;stroke-width:0.247456;\"/>\r\n   </g>\r\n   <g id=\"patch_75\">\r\n    <path clip-path=\"url(#pa21aba8eca)\" d=\"M 233.065542 314.6 \r\nL 235.380254 314.6 \r\nL 235.380254 236.033351 \r\nL 233.065542 236.033351 \r\nz\r\n\" style=\"fill:#ff7f0e;fill-opacity:0.5;stroke:#000000;stroke-linejoin:miter;stroke-width:0.247456;\"/>\r\n   </g>\r\n   <g id=\"patch_76\">\r\n    <path clip-path=\"url(#pa21aba8eca)\" d=\"M 235.380254 314.6 \r\nL 237.694967 314.6 \r\nL 237.694967 246.892156 \r\nL 235.380254 246.892156 \r\nz\r\n\" style=\"fill:#ff7f0e;fill-opacity:0.5;stroke:#000000;stroke-linejoin:miter;stroke-width:0.247456;\"/>\r\n   </g>\r\n   <g id=\"patch_77\">\r\n    <path clip-path=\"url(#pa21aba8eca)\" d=\"M 237.694967 314.6 \r\nL 240.009679 314.6 \r\nL 240.009679 256.89929 \r\nL 237.694967 256.89929 \r\nz\r\n\" style=\"fill:#ff7f0e;fill-opacity:0.5;stroke:#000000;stroke-linejoin:miter;stroke-width:0.247456;\"/>\r\n   </g>\r\n   <g id=\"patch_78\">\r\n    <path clip-path=\"url(#pa21aba8eca)\" d=\"M 240.009679 314.6 \r\nL 242.324392 314.6 \r\nL 242.324392 314.6 \r\nL 240.009679 314.6 \r\nz\r\n\" style=\"fill:#ff7f0e;fill-opacity:0.5;stroke:#000000;stroke-linejoin:miter;stroke-width:0.247456;\"/>\r\n   </g>\r\n   <g id=\"patch_79\">\r\n    <path clip-path=\"url(#pa21aba8eca)\" d=\"M 242.324392 314.6 \r\nL 244.639104 314.6 \r\nL 244.639104 273.506874 \r\nL 242.324392 273.506874 \r\nz\r\n\" style=\"fill:#ff7f0e;fill-opacity:0.5;stroke:#000000;stroke-linejoin:miter;stroke-width:0.247456;\"/>\r\n   </g>\r\n   <g id=\"patch_80\">\r\n    <path clip-path=\"url(#pa21aba8eca)\" d=\"M 244.639104 314.6 \r\nL 246.953816 314.6 \r\nL 246.953816 273.293957 \r\nL 244.639104 273.293957 \r\nz\r\n\" style=\"fill:#ff7f0e;fill-opacity:0.5;stroke:#000000;stroke-linejoin:miter;stroke-width:0.247456;\"/>\r\n   </g>\r\n   <g id=\"patch_81\">\r\n    <path clip-path=\"url(#pa21aba8eca)\" d=\"M 246.953816 314.6 \r\nL 249.268529 314.6 \r\nL 249.268529 276.700641 \r\nL 246.953816 276.700641 \r\nz\r\n\" style=\"fill:#ff7f0e;fill-opacity:0.5;stroke:#000000;stroke-linejoin:miter;stroke-width:0.247456;\"/>\r\n   </g>\r\n   <g id=\"patch_82\">\r\n    <path clip-path=\"url(#pa21aba8eca)\" d=\"M 249.268529 314.6 \r\nL 251.583241 314.6 \r\nL 251.583241 287.985281 \r\nL 249.268529 287.985281 \r\nz\r\n\" style=\"fill:#ff7f0e;fill-opacity:0.5;stroke:#000000;stroke-linejoin:miter;stroke-width:0.247456;\"/>\r\n   </g>\r\n   <g id=\"patch_83\">\r\n    <path clip-path=\"url(#pa21aba8eca)\" d=\"M 251.583241 314.6 \r\nL 253.897954 314.6 \r\nL 253.897954 314.6 \r\nL 251.583241 314.6 \r\nz\r\n\" style=\"fill:#ff7f0e;fill-opacity:0.5;stroke:#000000;stroke-linejoin:miter;stroke-width:0.247456;\"/>\r\n   </g>\r\n   <g id=\"patch_84\">\r\n    <path clip-path=\"url(#pa21aba8eca)\" d=\"M 253.897954 314.6 \r\nL 256.212666 314.6 \r\nL 256.212666 288.624035 \r\nL 253.897954 288.624035 \r\nz\r\n\" style=\"fill:#ff7f0e;fill-opacity:0.5;stroke:#000000;stroke-linejoin:miter;stroke-width:0.247456;\"/>\r\n   </g>\r\n   <g id=\"patch_85\">\r\n    <path clip-path=\"url(#pa21aba8eca)\" d=\"M 256.212666 314.6 \r\nL 258.527378 314.6 \r\nL 258.527378 290.540294 \r\nL 256.212666 290.540294 \r\nz\r\n\" style=\"fill:#ff7f0e;fill-opacity:0.5;stroke:#000000;stroke-linejoin:miter;stroke-width:0.247456;\"/>\r\n   </g>\r\n   <g id=\"patch_86\">\r\n    <path clip-path=\"url(#pa21aba8eca)\" d=\"M 258.527378 314.6 \r\nL 260.842091 314.6 \r\nL 260.842091 297.779498 \r\nL 258.527378 297.779498 \r\nz\r\n\" style=\"fill:#ff7f0e;fill-opacity:0.5;stroke:#000000;stroke-linejoin:miter;stroke-width:0.247456;\"/>\r\n   </g>\r\n   <g id=\"patch_87\">\r\n    <path clip-path=\"url(#pa21aba8eca)\" d=\"M 260.842091 314.6 \r\nL 263.156803 314.6 \r\nL 263.156803 314.6 \r\nL 260.842091 314.6 \r\nz\r\n\" style=\"fill:#ff7f0e;fill-opacity:0.5;stroke:#000000;stroke-linejoin:miter;stroke-width:0.247456;\"/>\r\n   </g>\r\n   <g id=\"patch_88\">\r\n    <path clip-path=\"url(#pa21aba8eca)\" d=\"M 263.156803 314.6 \r\nL 265.471515 314.6 \r\nL 265.471515 301.612017 \r\nL 263.156803 301.612017 \r\nz\r\n\" style=\"fill:#ff7f0e;fill-opacity:0.5;stroke:#000000;stroke-linejoin:miter;stroke-width:0.247456;\"/>\r\n   </g>\r\n   <g id=\"patch_89\">\r\n    <path clip-path=\"url(#pa21aba8eca)\" d=\"M 265.471515 314.6 \r\nL 267.786228 314.6 \r\nL 267.786228 301.186182 \r\nL 265.471515 301.186182 \r\nz\r\n\" style=\"fill:#ff7f0e;fill-opacity:0.5;stroke:#000000;stroke-linejoin:miter;stroke-width:0.247456;\"/>\r\n   </g>\r\n   <g id=\"patch_90\">\r\n    <path clip-path=\"url(#pa21aba8eca)\" d=\"M 267.786228 314.6 \r\nL 270.10094 314.6 \r\nL 270.10094 303.528277 \r\nL 267.786228 303.528277 \r\nz\r\n\" style=\"fill:#ff7f0e;fill-opacity:0.5;stroke:#000000;stroke-linejoin:miter;stroke-width:0.247456;\"/>\r\n   </g>\r\n   <g id=\"patch_91\">\r\n    <path clip-path=\"url(#pa21aba8eca)\" d=\"M 270.10094 314.6 \r\nL 272.415653 314.6 \r\nL 272.415653 307.573714 \r\nL 270.10094 307.573714 \r\nz\r\n\" style=\"fill:#ff7f0e;fill-opacity:0.5;stroke:#000000;stroke-linejoin:miter;stroke-width:0.247456;\"/>\r\n   </g>\r\n   <g id=\"patch_92\">\r\n    <path clip-path=\"url(#pa21aba8eca)\" d=\"M 272.415653 314.6 \r\nL 274.730365 314.6 \r\nL 274.730365 314.6 \r\nL 272.415653 314.6 \r\nz\r\n\" style=\"fill:#ff7f0e;fill-opacity:0.5;stroke:#000000;stroke-linejoin:miter;stroke-width:0.247456;\"/>\r\n   </g>\r\n   <g id=\"patch_93\">\r\n    <path clip-path=\"url(#pa21aba8eca)\" d=\"M 274.730365 314.6 \r\nL 277.045077 314.6 \r\nL 277.045077 308.425385 \r\nL 274.730365 308.425385 \r\nz\r\n\" style=\"fill:#ff7f0e;fill-opacity:0.5;stroke:#000000;stroke-linejoin:miter;stroke-width:0.247456;\"/>\r\n   </g>\r\n   <g id=\"patch_94\">\r\n    <path clip-path=\"url(#pa21aba8eca)\" d=\"M 277.045077 314.6 \r\nL 279.35979 314.6 \r\nL 279.35979 311.406234 \r\nL 277.045077 311.406234 \r\nz\r\n\" style=\"fill:#ff7f0e;fill-opacity:0.5;stroke:#000000;stroke-linejoin:miter;stroke-width:0.247456;\"/>\r\n   </g>\r\n   <g id=\"patch_95\">\r\n    <path clip-path=\"url(#pa21aba8eca)\" d=\"M 279.35979 314.6 \r\nL 281.674502 314.6 \r\nL 281.674502 311.832069 \r\nL 279.35979 311.832069 \r\nz\r\n\" style=\"fill:#ff7f0e;fill-opacity:0.5;stroke:#000000;stroke-linejoin:miter;stroke-width:0.247456;\"/>\r\n   </g>\r\n   <g id=\"patch_96\">\r\n    <path clip-path=\"url(#pa21aba8eca)\" d=\"M 281.674502 314.6 \r\nL 283.989215 314.6 \r\nL 283.989215 312.68374 \r\nL 281.674502 312.68374 \r\nz\r\n\" style=\"fill:#ff7f0e;fill-opacity:0.5;stroke:#000000;stroke-linejoin:miter;stroke-width:0.247456;\"/>\r\n   </g>\r\n   <g id=\"patch_97\">\r\n    <path clip-path=\"url(#pa21aba8eca)\" d=\"M 283.989215 314.6 \r\nL 286.303927 314.6 \r\nL 286.303927 314.6 \r\nL 283.989215 314.6 \r\nz\r\n\" style=\"fill:#ff7f0e;fill-opacity:0.5;stroke:#000000;stroke-linejoin:miter;stroke-width:0.247456;\"/>\r\n   </g>\r\n   <g id=\"patch_98\">\r\n    <path clip-path=\"url(#pa21aba8eca)\" d=\"M 286.303927 314.6 \r\nL 288.618639 314.6 \r\nL 288.618639 312.470823 \r\nL 286.303927 312.470823 \r\nz\r\n\" style=\"fill:#ff7f0e;fill-opacity:0.5;stroke:#000000;stroke-linejoin:miter;stroke-width:0.247456;\"/>\r\n   </g>\r\n   <g id=\"patch_99\">\r\n    <path clip-path=\"url(#pa21aba8eca)\" d=\"M 288.618639 314.6 \r\nL 290.933352 314.6 \r\nL 290.933352 312.896658 \r\nL 288.618639 312.896658 \r\nz\r\n\" style=\"fill:#ff7f0e;fill-opacity:0.5;stroke:#000000;stroke-linejoin:miter;stroke-width:0.247456;\"/>\r\n   </g>\r\n   <g id=\"patch_100\">\r\n    <path clip-path=\"url(#pa21aba8eca)\" d=\"M 290.933352 314.6 \r\nL 293.248064 314.6 \r\nL 293.248064 313.109576 \r\nL 290.933352 313.109576 \r\nz\r\n\" style=\"fill:#ff7f0e;fill-opacity:0.5;stroke:#000000;stroke-linejoin:miter;stroke-width:0.247456;\"/>\r\n   </g>\r\n   <g id=\"patch_101\">\r\n    <path clip-path=\"url(#pa21aba8eca)\" d=\"M 293.248064 314.6 \r\nL 295.562777 314.6 \r\nL 295.562777 314.6 \r\nL 293.248064 314.6 \r\nz\r\n\" style=\"fill:#ff7f0e;fill-opacity:0.5;stroke:#000000;stroke-linejoin:miter;stroke-width:0.247456;\"/>\r\n   </g>\r\n   <g id=\"patch_102\">\r\n    <path clip-path=\"url(#pa21aba8eca)\" d=\"M 295.562777 314.6 \r\nL 297.877489 314.6 \r\nL 297.877489 314.174165 \r\nL 295.562777 314.174165 \r\nz\r\n\" style=\"fill:#ff7f0e;fill-opacity:0.5;stroke:#000000;stroke-linejoin:miter;stroke-width:0.247456;\"/>\r\n   </g>\r\n   <g id=\"patch_103\">\r\n    <path clip-path=\"url(#pa21aba8eca)\" d=\"M 297.877489 314.6 \r\nL 300.192201 314.6 \r\nL 300.192201 313.109576 \r\nL 297.877489 313.109576 \r\nz\r\n\" style=\"fill:#ff7f0e;fill-opacity:0.5;stroke:#000000;stroke-linejoin:miter;stroke-width:0.247456;\"/>\r\n   </g>\r\n   <g id=\"patch_104\">\r\n    <path clip-path=\"url(#pa21aba8eca)\" d=\"M 300.192201 314.6 \r\nL 302.506914 314.6 \r\nL 302.506914 314.6 \r\nL 300.192201 314.6 \r\nz\r\n\" style=\"fill:#ff7f0e;fill-opacity:0.5;stroke:#000000;stroke-linejoin:miter;stroke-width:0.247456;\"/>\r\n   </g>\r\n   <g id=\"patch_105\">\r\n    <path clip-path=\"url(#pa21aba8eca)\" d=\"M 302.506914 314.6 \r\nL 304.821626 314.6 \r\nL 304.821626 313.961247 \r\nL 302.506914 313.961247 \r\nz\r\n\" style=\"fill:#ff7f0e;fill-opacity:0.5;stroke:#000000;stroke-linejoin:miter;stroke-width:0.247456;\"/>\r\n   </g>\r\n   <g id=\"patch_106\">\r\n    <path clip-path=\"url(#pa21aba8eca)\" d=\"M 304.821626 314.6 \r\nL 307.136338 314.6 \r\nL 307.136338 314.6 \r\nL 304.821626 314.6 \r\nz\r\n\" style=\"fill:#ff7f0e;fill-opacity:0.5;stroke:#000000;stroke-linejoin:miter;stroke-width:0.247456;\"/>\r\n   </g>\r\n   <g id=\"patch_107\">\r\n    <path clip-path=\"url(#pa21aba8eca)\" d=\"M 307.136338 314.6 \r\nL 309.451051 314.6 \r\nL 309.451051 314.387082 \r\nL 307.136338 314.387082 \r\nz\r\n\" style=\"fill:#ff7f0e;fill-opacity:0.5;stroke:#000000;stroke-linejoin:miter;stroke-width:0.247456;\"/>\r\n   </g>\r\n   <g id=\"patch_108\">\r\n    <path clip-path=\"url(#pa21aba8eca)\" d=\"M 309.451051 314.6 \r\nL 311.765763 314.6 \r\nL 311.765763 314.6 \r\nL 309.451051 314.6 \r\nz\r\n\" style=\"fill:#ff7f0e;fill-opacity:0.5;stroke:#000000;stroke-linejoin:miter;stroke-width:0.247456;\"/>\r\n   </g>\r\n   <g id=\"patch_109\">\r\n    <path clip-path=\"url(#pa21aba8eca)\" d=\"M 311.765763 314.6 \r\nL 314.080476 314.6 \r\nL 314.080476 314.387082 \r\nL 311.765763 314.387082 \r\nz\r\n\" style=\"fill:#ff7f0e;fill-opacity:0.5;stroke:#000000;stroke-linejoin:miter;stroke-width:0.247456;\"/>\r\n   </g>\r\n   <g id=\"patch_110\">\r\n    <path clip-path=\"url(#pa21aba8eca)\" d=\"M 314.080476 314.6 \r\nL 316.395188 314.6 \r\nL 316.395188 314.387082 \r\nL 314.080476 314.387082 \r\nz\r\n\" style=\"fill:#ff7f0e;fill-opacity:0.5;stroke:#000000;stroke-linejoin:miter;stroke-width:0.247456;\"/>\r\n   </g>\r\n   <g id=\"patch_111\">\r\n    <path clip-path=\"url(#pa21aba8eca)\" d=\"M 316.395188 314.6 \r\nL 318.7099 314.6 \r\nL 318.7099 314.6 \r\nL 316.395188 314.6 \r\nz\r\n\" style=\"fill:#ff7f0e;fill-opacity:0.5;stroke:#000000;stroke-linejoin:miter;stroke-width:0.247456;\"/>\r\n   </g>\r\n   <g id=\"patch_112\">\r\n    <path clip-path=\"url(#pa21aba8eca)\" d=\"M 318.7099 314.6 \r\nL 321.024613 314.6 \r\nL 321.024613 314.174165 \r\nL 318.7099 314.174165 \r\nz\r\n\" style=\"fill:#ff7f0e;fill-opacity:0.5;stroke:#000000;stroke-linejoin:miter;stroke-width:0.247456;\"/>\r\n   </g>\r\n   <g id=\"patch_113\">\r\n    <path clip-path=\"url(#pa21aba8eca)\" d=\"M 321.024613 314.6 \r\nL 323.339325 314.6 \r\nL 323.339325 314.387082 \r\nL 321.024613 314.387082 \r\nz\r\n\" style=\"fill:#ff7f0e;fill-opacity:0.5;stroke:#000000;stroke-linejoin:miter;stroke-width:0.247456;\"/>\r\n   </g>\r\n   <g id=\"patch_114\">\r\n    <path clip-path=\"url(#pa21aba8eca)\" d=\"M 323.339325 314.6 \r\nL 325.654038 314.6 \r\nL 325.654038 314.6 \r\nL 323.339325 314.6 \r\nz\r\n\" style=\"fill:#ff7f0e;fill-opacity:0.5;stroke:#000000;stroke-linejoin:miter;stroke-width:0.247456;\"/>\r\n   </g>\r\n   <g id=\"patch_115\">\r\n    <path clip-path=\"url(#pa21aba8eca)\" d=\"M 325.654038 314.6 \r\nL 327.96875 314.6 \r\nL 327.96875 314.6 \r\nL 325.654038 314.6 \r\nz\r\n\" style=\"fill:#ff7f0e;fill-opacity:0.5;stroke:#000000;stroke-linejoin:miter;stroke-width:0.247456;\"/>\r\n   </g>\r\n   <g id=\"patch_116\">\r\n    <path clip-path=\"url(#pa21aba8eca)\" d=\"M 66.40625 314.6 \r\nL 68.720962 314.6 \r\nL 68.720962 314.6 \r\nL 66.40625 314.6 \r\nz\r\n\" style=\"fill:#1f77b4;fill-opacity:0.5;stroke:#000000;stroke-linejoin:miter;stroke-width:0.247456;\"/>\r\n   </g>\r\n   <g id=\"patch_117\">\r\n    <path clip-path=\"url(#pa21aba8eca)\" d=\"M 68.720962 314.6 \r\nL 71.035675 314.6 \r\nL 71.035675 314.6 \r\nL 68.720962 314.6 \r\nz\r\n\" style=\"fill:#1f77b4;fill-opacity:0.5;stroke:#000000;stroke-linejoin:miter;stroke-width:0.247456;\"/>\r\n   </g>\r\n   <g id=\"patch_118\">\r\n    <path clip-path=\"url(#pa21aba8eca)\" d=\"M 71.035675 314.6 \r\nL 73.350387 314.6 \r\nL 73.350387 314.6 \r\nL 71.035675 314.6 \r\nz\r\n\" style=\"fill:#1f77b4;fill-opacity:0.5;stroke:#000000;stroke-linejoin:miter;stroke-width:0.247456;\"/>\r\n   </g>\r\n   <g id=\"patch_119\">\r\n    <path clip-path=\"url(#pa21aba8eca)\" d=\"M 73.350387 314.6 \r\nL 75.6651 314.6 \r\nL 75.6651 314.6 \r\nL 73.350387 314.6 \r\nz\r\n\" style=\"fill:#1f77b4;fill-opacity:0.5;stroke:#000000;stroke-linejoin:miter;stroke-width:0.247456;\"/>\r\n   </g>\r\n   <g id=\"patch_120\">\r\n    <path clip-path=\"url(#pa21aba8eca)\" d=\"M 75.6651 314.6 \r\nL 77.979812 314.6 \r\nL 77.979812 314.6 \r\nL 75.6651 314.6 \r\nz\r\n\" style=\"fill:#1f77b4;fill-opacity:0.5;stroke:#000000;stroke-linejoin:miter;stroke-width:0.247456;\"/>\r\n   </g>\r\n   <g id=\"patch_121\">\r\n    <path clip-path=\"url(#pa21aba8eca)\" d=\"M 77.979812 314.6 \r\nL 80.294524 314.6 \r\nL 80.294524 314.6 \r\nL 77.979812 314.6 \r\nz\r\n\" style=\"fill:#1f77b4;fill-opacity:0.5;stroke:#000000;stroke-linejoin:miter;stroke-width:0.247456;\"/>\r\n   </g>\r\n   <g id=\"patch_122\">\r\n    <path clip-path=\"url(#pa21aba8eca)\" d=\"M 80.294524 314.6 \r\nL 82.609237 314.6 \r\nL 82.609237 314.6 \r\nL 80.294524 314.6 \r\nz\r\n\" style=\"fill:#1f77b4;fill-opacity:0.5;stroke:#000000;stroke-linejoin:miter;stroke-width:0.247456;\"/>\r\n   </g>\r\n   <g id=\"patch_123\">\r\n    <path clip-path=\"url(#pa21aba8eca)\" d=\"M 82.609237 314.6 \r\nL 84.923949 314.6 \r\nL 84.923949 314.6 \r\nL 82.609237 314.6 \r\nz\r\n\" style=\"fill:#1f77b4;fill-opacity:0.5;stroke:#000000;stroke-linejoin:miter;stroke-width:0.247456;\"/>\r\n   </g>\r\n   <g id=\"patch_124\">\r\n    <path clip-path=\"url(#pa21aba8eca)\" d=\"M 84.923949 314.6 \r\nL 87.238662 314.6 \r\nL 87.238662 314.6 \r\nL 84.923949 314.6 \r\nz\r\n\" style=\"fill:#1f77b4;fill-opacity:0.5;stroke:#000000;stroke-linejoin:miter;stroke-width:0.247456;\"/>\r\n   </g>\r\n   <g id=\"patch_125\">\r\n    <path clip-path=\"url(#pa21aba8eca)\" d=\"M 87.238662 314.6 \r\nL 89.553374 314.6 \r\nL 89.553374 314.6 \r\nL 87.238662 314.6 \r\nz\r\n\" style=\"fill:#1f77b4;fill-opacity:0.5;stroke:#000000;stroke-linejoin:miter;stroke-width:0.247456;\"/>\r\n   </g>\r\n   <g id=\"patch_126\">\r\n    <path clip-path=\"url(#pa21aba8eca)\" d=\"M 89.553374 314.6 \r\nL 91.868086 314.6 \r\nL 91.868086 314.6 \r\nL 89.553374 314.6 \r\nz\r\n\" style=\"fill:#1f77b4;fill-opacity:0.5;stroke:#000000;stroke-linejoin:miter;stroke-width:0.247456;\"/>\r\n   </g>\r\n   <g id=\"patch_127\">\r\n    <path clip-path=\"url(#pa21aba8eca)\" d=\"M 91.868086 314.6 \r\nL 94.182799 314.6 \r\nL 94.182799 314.6 \r\nL 91.868086 314.6 \r\nz\r\n\" style=\"fill:#1f77b4;fill-opacity:0.5;stroke:#000000;stroke-linejoin:miter;stroke-width:0.247456;\"/>\r\n   </g>\r\n   <g id=\"patch_128\">\r\n    <path clip-path=\"url(#pa21aba8eca)\" d=\"M 94.182799 314.6 \r\nL 96.497511 314.6 \r\nL 96.497511 314.6 \r\nL 94.182799 314.6 \r\nz\r\n\" style=\"fill:#1f77b4;fill-opacity:0.5;stroke:#000000;stroke-linejoin:miter;stroke-width:0.247456;\"/>\r\n   </g>\r\n   <g id=\"patch_129\">\r\n    <path clip-path=\"url(#pa21aba8eca)\" d=\"M 96.497511 314.6 \r\nL 98.812223 314.6 \r\nL 98.812223 314.6 \r\nL 96.497511 314.6 \r\nz\r\n\" style=\"fill:#1f77b4;fill-opacity:0.5;stroke:#000000;stroke-linejoin:miter;stroke-width:0.247456;\"/>\r\n   </g>\r\n   <g id=\"patch_130\">\r\n    <path clip-path=\"url(#pa21aba8eca)\" d=\"M 98.812223 314.6 \r\nL 101.126936 314.6 \r\nL 101.126936 314.6 \r\nL 98.812223 314.6 \r\nz\r\n\" style=\"fill:#1f77b4;fill-opacity:0.5;stroke:#000000;stroke-linejoin:miter;stroke-width:0.247456;\"/>\r\n   </g>\r\n   <g id=\"patch_131\">\r\n    <path clip-path=\"url(#pa21aba8eca)\" d=\"M 101.126936 314.6 \r\nL 103.441648 314.6 \r\nL 103.441648 314.6 \r\nL 101.126936 314.6 \r\nz\r\n\" style=\"fill:#1f77b4;fill-opacity:0.5;stroke:#000000;stroke-linejoin:miter;stroke-width:0.247456;\"/>\r\n   </g>\r\n   <g id=\"patch_132\">\r\n    <path clip-path=\"url(#pa21aba8eca)\" d=\"M 103.441648 314.6 \r\nL 105.756361 314.6 \r\nL 105.756361 314.6 \r\nL 103.441648 314.6 \r\nz\r\n\" style=\"fill:#1f77b4;fill-opacity:0.5;stroke:#000000;stroke-linejoin:miter;stroke-width:0.247456;\"/>\r\n   </g>\r\n   <g id=\"patch_133\">\r\n    <path clip-path=\"url(#pa21aba8eca)\" d=\"M 105.756361 314.6 \r\nL 108.071073 314.6 \r\nL 108.071073 314.6 \r\nL 105.756361 314.6 \r\nz\r\n\" style=\"fill:#1f77b4;fill-opacity:0.5;stroke:#000000;stroke-linejoin:miter;stroke-width:0.247456;\"/>\r\n   </g>\r\n   <g id=\"patch_134\">\r\n    <path clip-path=\"url(#pa21aba8eca)\" d=\"M 108.071073 314.6 \r\nL 110.385785 314.6 \r\nL 110.385785 314.6 \r\nL 108.071073 314.6 \r\nz\r\n\" style=\"fill:#1f77b4;fill-opacity:0.5;stroke:#000000;stroke-linejoin:miter;stroke-width:0.247456;\"/>\r\n   </g>\r\n   <g id=\"patch_135\">\r\n    <path clip-path=\"url(#pa21aba8eca)\" d=\"M 110.385785 314.6 \r\nL 112.700498 314.6 \r\nL 112.700498 314.387082 \r\nL 110.385785 314.387082 \r\nz\r\n\" style=\"fill:#1f77b4;fill-opacity:0.5;stroke:#000000;stroke-linejoin:miter;stroke-width:0.247456;\"/>\r\n   </g>\r\n   <g id=\"patch_136\">\r\n    <path clip-path=\"url(#pa21aba8eca)\" d=\"M 112.700498 314.6 \r\nL 115.01521 314.6 \r\nL 115.01521 313.748329 \r\nL 112.700498 313.748329 \r\nz\r\n\" style=\"fill:#1f77b4;fill-opacity:0.5;stroke:#000000;stroke-linejoin:miter;stroke-width:0.247456;\"/>\r\n   </g>\r\n   <g id=\"patch_137\">\r\n    <path clip-path=\"url(#pa21aba8eca)\" d=\"M 115.01521 314.6 \r\nL 117.329923 314.6 \r\nL 117.329923 314.6 \r\nL 115.01521 314.6 \r\nz\r\n\" style=\"fill:#1f77b4;fill-opacity:0.5;stroke:#000000;stroke-linejoin:miter;stroke-width:0.247456;\"/>\r\n   </g>\r\n   <g id=\"patch_138\">\r\n    <path clip-path=\"url(#pa21aba8eca)\" d=\"M 117.329923 314.6 \r\nL 119.644635 314.6 \r\nL 119.644635 312.257905 \r\nL 117.329923 312.257905 \r\nz\r\n\" style=\"fill:#1f77b4;fill-opacity:0.5;stroke:#000000;stroke-linejoin:miter;stroke-width:0.247456;\"/>\r\n   </g>\r\n   <g id=\"patch_139\">\r\n    <path clip-path=\"url(#pa21aba8eca)\" d=\"M 119.644635 314.6 \r\nL 121.959347 314.6 \r\nL 121.959347 314.6 \r\nL 119.644635 314.6 \r\nz\r\n\" style=\"fill:#1f77b4;fill-opacity:0.5;stroke:#000000;stroke-linejoin:miter;stroke-width:0.247456;\"/>\r\n   </g>\r\n   <g id=\"patch_140\">\r\n    <path clip-path=\"url(#pa21aba8eca)\" d=\"M 121.959347 314.6 \r\nL 124.27406 314.6 \r\nL 124.27406 301.3991 \r\nL 121.959347 301.3991 \r\nz\r\n\" style=\"fill:#1f77b4;fill-opacity:0.5;stroke:#000000;stroke-linejoin:miter;stroke-width:0.247456;\"/>\r\n   </g>\r\n   <g id=\"patch_141\">\r\n    <path clip-path=\"url(#pa21aba8eca)\" d=\"M 124.27406 314.6 \r\nL 126.588772 314.6 \r\nL 126.588772 289.04987 \r\nL 124.27406 289.04987 \r\nz\r\n\" style=\"fill:#1f77b4;fill-opacity:0.5;stroke:#000000;stroke-linejoin:miter;stroke-width:0.247456;\"/>\r\n   </g>\r\n   <g id=\"patch_142\">\r\n    <path clip-path=\"url(#pa21aba8eca)\" d=\"M 126.588772 314.6 \r\nL 128.903485 314.6 \r\nL 128.903485 236.885022 \r\nL 126.588772 236.885022 \r\nz\r\n\" style=\"fill:#1f77b4;fill-opacity:0.5;stroke:#000000;stroke-linejoin:miter;stroke-width:0.247456;\"/>\r\n   </g>\r\n   <g id=\"patch_143\">\r\n    <path clip-path=\"url(#pa21aba8eca)\" d=\"M 128.903485 314.6 \r\nL 131.218197 314.6 \r\nL 131.218197 167.260918 \r\nL 128.903485 167.260918 \r\nz\r\n\" style=\"fill:#1f77b4;fill-opacity:0.5;stroke:#000000;stroke-linejoin:miter;stroke-width:0.247456;\"/>\r\n   </g>\r\n   <g id=\"patch_144\">\r\n    <path clip-path=\"url(#pa21aba8eca)\" d=\"M 131.218197 314.6 \r\nL 133.532909 314.6 \r\nL 133.532909 314.6 \r\nL 131.218197 314.6 \r\nz\r\n\" style=\"fill:#1f77b4;fill-opacity:0.5;stroke:#000000;stroke-linejoin:miter;stroke-width:0.247456;\"/>\r\n   </g>\r\n   <g id=\"patch_145\">\r\n    <path clip-path=\"url(#pa21aba8eca)\" d=\"M 133.532909 314.6 \r\nL 135.847622 314.6 \r\nL 135.847622 148.949991 \r\nL 133.532909 148.949991 \r\nz\r\n\" style=\"fill:#1f77b4;fill-opacity:0.5;stroke:#000000;stroke-linejoin:miter;stroke-width:0.247456;\"/>\r\n   </g>\r\n   <g id=\"patch_146\">\r\n    <path clip-path=\"url(#pa21aba8eca)\" d=\"M 135.847622 314.6 \r\nL 138.162334 314.6 \r\nL 138.162334 164.280069 \r\nL 135.847622 164.280069 \r\nz\r\n\" style=\"fill:#1f77b4;fill-opacity:0.5;stroke:#000000;stroke-linejoin:miter;stroke-width:0.247456;\"/>\r\n   </g>\r\n   <g id=\"patch_147\">\r\n    <path clip-path=\"url(#pa21aba8eca)\" d=\"M 138.162334 314.6 \r\nL 140.477046 314.6 \r\nL 140.477046 147.459567 \r\nL 138.162334 147.459567 \r\nz\r\n\" style=\"fill:#1f77b4;fill-opacity:0.5;stroke:#000000;stroke-linejoin:miter;stroke-width:0.247456;\"/>\r\n   </g>\r\n   <g id=\"patch_148\">\r\n    <path clip-path=\"url(#pa21aba8eca)\" d=\"M 140.477046 314.6 \r\nL 142.791759 314.6 \r\nL 142.791759 314.6 \r\nL 140.477046 314.6 \r\nz\r\n\" style=\"fill:#1f77b4;fill-opacity:0.5;stroke:#000000;stroke-linejoin:miter;stroke-width:0.247456;\"/>\r\n   </g>\r\n   <g id=\"patch_149\">\r\n    <path clip-path=\"url(#pa21aba8eca)\" d=\"M 142.791759 314.6 \r\nL 145.106471 314.6 \r\nL 145.106471 157.040866 \r\nL 142.791759 157.040866 \r\nz\r\n\" style=\"fill:#1f77b4;fill-opacity:0.5;stroke:#000000;stroke-linejoin:miter;stroke-width:0.247456;\"/>\r\n   </g>\r\n   <g id=\"patch_150\">\r\n    <path clip-path=\"url(#pa21aba8eca)\" d=\"M 145.106471 314.6 \r\nL 147.421184 314.6 \r\nL 147.421184 176.203463 \r\nL 145.106471 176.203463 \r\nz\r\n\" style=\"fill:#1f77b4;fill-opacity:0.5;stroke:#000000;stroke-linejoin:miter;stroke-width:0.247456;\"/>\r\n   </g>\r\n   <g id=\"patch_151\">\r\n    <path clip-path=\"url(#pa21aba8eca)\" d=\"M 147.421184 314.6 \r\nL 149.735896 314.6 \r\nL 149.735896 155.337524 \r\nL 147.421184 155.337524 \r\nz\r\n\" style=\"fill:#1f77b4;fill-opacity:0.5;stroke:#000000;stroke-linejoin:miter;stroke-width:0.247456;\"/>\r\n   </g>\r\n   <g id=\"patch_152\">\r\n    <path clip-path=\"url(#pa21aba8eca)\" d=\"M 149.735896 314.6 \r\nL 152.050608 314.6 \r\nL 152.050608 142.349541 \r\nL 149.735896 142.349541 \r\nz\r\n\" style=\"fill:#1f77b4;fill-opacity:0.5;stroke:#000000;stroke-linejoin:miter;stroke-width:0.247456;\"/>\r\n   </g>\r\n   <g id=\"patch_153\">\r\n    <path clip-path=\"url(#pa21aba8eca)\" d=\"M 152.050608 314.6 \r\nL 154.365321 314.6 \r\nL 154.365321 314.6 \r\nL 152.050608 314.6 \r\nz\r\n\" style=\"fill:#1f77b4;fill-opacity:0.5;stroke:#000000;stroke-linejoin:miter;stroke-width:0.247456;\"/>\r\n   </g>\r\n   <g id=\"patch_154\">\r\n    <path clip-path=\"url(#pa21aba8eca)\" d=\"M 154.365321 314.6 \r\nL 156.680033 314.6 \r\nL 156.680033 117.651082 \r\nL 154.365321 117.651082 \r\nz\r\n\" style=\"fill:#1f77b4;fill-opacity:0.5;stroke:#000000;stroke-linejoin:miter;stroke-width:0.247456;\"/>\r\n   </g>\r\n   <g id=\"patch_155\">\r\n    <path clip-path=\"url(#pa21aba8eca)\" d=\"M 156.680033 314.6 \r\nL 158.994746 314.6 \r\nL 158.994746 87.842597 \r\nL 156.680033 87.842597 \r\nz\r\n\" style=\"fill:#1f77b4;fill-opacity:0.5;stroke:#000000;stroke-linejoin:miter;stroke-width:0.247456;\"/>\r\n   </g>\r\n   <g id=\"patch_156\">\r\n    <path clip-path=\"url(#pa21aba8eca)\" d=\"M 158.994746 314.6 \r\nL 161.309458 314.6 \r\nL 161.309458 77.409628 \r\nL 158.994746 77.409628 \r\nz\r\n\" style=\"fill:#1f77b4;fill-opacity:0.5;stroke:#000000;stroke-linejoin:miter;stroke-width:0.247456;\"/>\r\n   </g>\r\n   <g id=\"patch_157\">\r\n    <path clip-path=\"url(#pa21aba8eca)\" d=\"M 161.309458 314.6 \r\nL 163.62417 314.6 \r\nL 163.62417 21.838095 \r\nL 161.309458 21.838095 \r\nz\r\n\" style=\"fill:#1f77b4;fill-opacity:0.5;stroke:#000000;stroke-linejoin:miter;stroke-width:0.247456;\"/>\r\n   </g>\r\n   <g id=\"patch_158\">\r\n    <path clip-path=\"url(#pa21aba8eca)\" d=\"M 163.62417 314.6 \r\nL 165.938883 314.6 \r\nL 165.938883 314.6 \r\nL 163.62417 314.6 \r\nz\r\n\" style=\"fill:#1f77b4;fill-opacity:0.5;stroke:#000000;stroke-linejoin:miter;stroke-width:0.247456;\"/>\r\n   </g>\r\n   <g id=\"patch_159\">\r\n    <path clip-path=\"url(#pa21aba8eca)\" d=\"M 165.938883 314.6 \r\nL 168.253595 314.6 \r\nL 168.253595 24.606026 \r\nL 165.938883 24.606026 \r\nz\r\n\" style=\"fill:#1f77b4;fill-opacity:0.5;stroke:#000000;stroke-linejoin:miter;stroke-width:0.247456;\"/>\r\n   </g>\r\n   <g id=\"patch_160\">\r\n    <path clip-path=\"url(#pa21aba8eca)\" d=\"M 168.253595 314.6 \r\nL 170.568308 314.6 \r\nL 170.568308 40.574857 \r\nL 168.253595 40.574857 \r\nz\r\n\" style=\"fill:#1f77b4;fill-opacity:0.5;stroke:#000000;stroke-linejoin:miter;stroke-width:0.247456;\"/>\r\n   </g>\r\n   <g id=\"patch_161\">\r\n    <path clip-path=\"url(#pa21aba8eca)\" d=\"M 170.568308 314.6 \r\nL 172.88302 314.6 \r\nL 172.88302 36.316502 \r\nL 170.568308 36.316502 \r\nz\r\n\" style=\"fill:#1f77b4;fill-opacity:0.5;stroke:#000000;stroke-linejoin:miter;stroke-width:0.247456;\"/>\r\n   </g>\r\n   <g id=\"patch_162\">\r\n    <path clip-path=\"url(#pa21aba8eca)\" d=\"M 172.88302 314.6 \r\nL 175.197732 314.6 \r\nL 175.197732 39.723186 \r\nL 172.88302 39.723186 \r\nz\r\n\" style=\"fill:#1f77b4;fill-opacity:0.5;stroke:#000000;stroke-linejoin:miter;stroke-width:0.247456;\"/>\r\n   </g>\r\n   <g id=\"patch_163\">\r\n    <path clip-path=\"url(#pa21aba8eca)\" d=\"M 175.197732 314.6 \r\nL 177.512445 314.6 \r\nL 177.512445 314.6 \r\nL 175.197732 314.6 \r\nz\r\n\" style=\"fill:#1f77b4;fill-opacity:0.5;stroke:#000000;stroke-linejoin:miter;stroke-width:0.247456;\"/>\r\n   </g>\r\n   <g id=\"patch_164\">\r\n    <path clip-path=\"url(#pa21aba8eca)\" d=\"M 177.512445 314.6 \r\nL 179.827157 314.6 \r\nL 179.827157 67.615411 \r\nL 177.512445 67.615411 \r\nz\r\n\" style=\"fill:#1f77b4;fill-opacity:0.5;stroke:#000000;stroke-linejoin:miter;stroke-width:0.247456;\"/>\r\n   </g>\r\n   <g id=\"patch_165\">\r\n    <path clip-path=\"url(#pa21aba8eca)\" d=\"M 179.827157 314.6 \r\nL 182.141869 314.6 \r\nL 182.141869 78.261299 \r\nL 179.827157 78.261299 \r\nz\r\n\" style=\"fill:#1f77b4;fill-opacity:0.5;stroke:#000000;stroke-linejoin:miter;stroke-width:0.247456;\"/>\r\n   </g>\r\n   <g id=\"patch_166\">\r\n    <path clip-path=\"url(#pa21aba8eca)\" d=\"M 182.141869 314.6 \r\nL 184.456582 314.6 \r\nL 184.456582 88.268433 \r\nL 182.141869 88.268433 \r\nz\r\n\" style=\"fill:#1f77b4;fill-opacity:0.5;stroke:#000000;stroke-linejoin:miter;stroke-width:0.247456;\"/>\r\n   </g>\r\n   <g id=\"patch_167\">\r\n    <path clip-path=\"url(#pa21aba8eca)\" d=\"M 184.456582 314.6 \r\nL 186.771294 314.6 \r\nL 186.771294 314.6 \r\nL 184.456582 314.6 \r\nz\r\n\" style=\"fill:#1f77b4;fill-opacity:0.5;stroke:#000000;stroke-linejoin:miter;stroke-width:0.247456;\"/>\r\n   </g>\r\n   <g id=\"patch_168\">\r\n    <path clip-path=\"url(#pa21aba8eca)\" d=\"M 186.771294 314.6 \r\nL 189.086007 314.6 \r\nL 189.086007 95.720554 \r\nL 186.771294 95.720554 \r\nz\r\n\" style=\"fill:#1f77b4;fill-opacity:0.5;stroke:#000000;stroke-linejoin:miter;stroke-width:0.247456;\"/>\r\n   </g>\r\n   <g id=\"patch_169\">\r\n    <path clip-path=\"url(#pa21aba8eca)\" d=\"M 189.086007 314.6 \r\nL 191.400719 314.6 \r\nL 191.400719 119.567342 \r\nL 189.086007 119.567342 \r\nz\r\n\" style=\"fill:#1f77b4;fill-opacity:0.5;stroke:#000000;stroke-linejoin:miter;stroke-width:0.247456;\"/>\r\n   </g>\r\n   <g id=\"patch_170\">\r\n    <path clip-path=\"url(#pa21aba8eca)\" d=\"M 191.400719 314.6 \r\nL 193.715431 314.6 \r\nL 193.715431 120.844848 \r\nL 191.400719 120.844848 \r\nz\r\n\" style=\"fill:#1f77b4;fill-opacity:0.5;stroke:#000000;stroke-linejoin:miter;stroke-width:0.247456;\"/>\r\n   </g>\r\n   <g id=\"patch_171\">\r\n    <path clip-path=\"url(#pa21aba8eca)\" d=\"M 193.715431 314.6 \r\nL 196.030144 314.6 \r\nL 196.030144 132.342407 \r\nL 193.715431 132.342407 \r\nz\r\n\" style=\"fill:#1f77b4;fill-opacity:0.5;stroke:#000000;stroke-linejoin:miter;stroke-width:0.247456;\"/>\r\n   </g>\r\n   <g id=\"patch_172\">\r\n    <path clip-path=\"url(#pa21aba8eca)\" d=\"M 196.030144 314.6 \r\nL 198.344856 314.6 \r\nL 198.344856 314.6 \r\nL 196.030144 314.6 \r\nz\r\n\" style=\"fill:#1f77b4;fill-opacity:0.5;stroke:#000000;stroke-linejoin:miter;stroke-width:0.247456;\"/>\r\n   </g>\r\n   <g id=\"patch_173\">\r\n    <path clip-path=\"url(#pa21aba8eca)\" d=\"M 198.344856 314.6 \r\nL 200.659569 314.6 \r\nL 200.659569 168.538424 \r\nL 198.344856 168.538424 \r\nz\r\n\" style=\"fill:#1f77b4;fill-opacity:0.5;stroke:#000000;stroke-linejoin:miter;stroke-width:0.247456;\"/>\r\n   </g>\r\n   <g id=\"patch_174\">\r\n    <path clip-path=\"url(#pa21aba8eca)\" d=\"M 200.659569 314.6 \r\nL 202.974281 314.6 \r\nL 202.974281 157.040866 \r\nL 200.659569 157.040866 \r\nz\r\n\" style=\"fill:#1f77b4;fill-opacity:0.5;stroke:#000000;stroke-linejoin:miter;stroke-width:0.247456;\"/>\r\n   </g>\r\n   <g id=\"patch_175\">\r\n    <path clip-path=\"url(#pa21aba8eca)\" d=\"M 202.974281 314.6 \r\nL 205.288993 314.6 \r\nL 205.288993 164.067152 \r\nL 202.974281 164.067152 \r\nz\r\n\" style=\"fill:#1f77b4;fill-opacity:0.5;stroke:#000000;stroke-linejoin:miter;stroke-width:0.247456;\"/>\r\n   </g>\r\n   <g id=\"patch_176\">\r\n    <path clip-path=\"url(#pa21aba8eca)\" d=\"M 205.288993 314.6 \r\nL 207.603706 314.6 \r\nL 207.603706 168.325506 \r\nL 205.288993 168.325506 \r\nz\r\n\" style=\"fill:#1f77b4;fill-opacity:0.5;stroke:#000000;stroke-linejoin:miter;stroke-width:0.247456;\"/>\r\n   </g>\r\n   <g id=\"patch_177\">\r\n    <path clip-path=\"url(#pa21aba8eca)\" d=\"M 207.603706 314.6 \r\nL 209.918418 314.6 \r\nL 209.918418 314.6 \r\nL 207.603706 314.6 \r\nz\r\n\" style=\"fill:#1f77b4;fill-opacity:0.5;stroke:#000000;stroke-linejoin:miter;stroke-width:0.247456;\"/>\r\n   </g>\r\n   <g id=\"patch_178\">\r\n    <path clip-path=\"url(#pa21aba8eca)\" d=\"M 209.918418 314.6 \r\nL 212.233131 314.6 \r\nL 212.233131 186.423515 \r\nL 209.918418 186.423515 \r\nz\r\n\" style=\"fill:#1f77b4;fill-opacity:0.5;stroke:#000000;stroke-linejoin:miter;stroke-width:0.247456;\"/>\r\n   </g>\r\n   <g id=\"patch_179\">\r\n    <path clip-path=\"url(#pa21aba8eca)\" d=\"M 212.233131 314.6 \r\nL 214.547843 314.6 \r\nL 214.547843 209.844468 \r\nL 212.233131 209.844468 \r\nz\r\n\" style=\"fill:#1f77b4;fill-opacity:0.5;stroke:#000000;stroke-linejoin:miter;stroke-width:0.247456;\"/>\r\n   </g>\r\n   <g id=\"patch_180\">\r\n    <path clip-path=\"url(#pa21aba8eca)\" d=\"M 214.547843 314.6 \r\nL 216.862555 314.6 \r\nL 216.862555 213.464069 \r\nL 214.547843 213.464069 \r\nz\r\n\" style=\"fill:#1f77b4;fill-opacity:0.5;stroke:#000000;stroke-linejoin:miter;stroke-width:0.247456;\"/>\r\n   </g>\r\n   <g id=\"patch_181\">\r\n    <path clip-path=\"url(#pa21aba8eca)\" d=\"M 216.862555 314.6 \r\nL 219.177268 314.6 \r\nL 219.177268 314.6 \r\nL 216.862555 314.6 \r\nz\r\n\" style=\"fill:#1f77b4;fill-opacity:0.5;stroke:#000000;stroke-linejoin:miter;stroke-width:0.247456;\"/>\r\n   </g>\r\n   <g id=\"patch_182\">\r\n    <path clip-path=\"url(#pa21aba8eca)\" d=\"M 219.177268 314.6 \r\nL 221.49198 314.6 \r\nL 221.49198 226.026216 \r\nL 219.177268 226.026216 \r\nz\r\n\" style=\"fill:#1f77b4;fill-opacity:0.5;stroke:#000000;stroke-linejoin:miter;stroke-width:0.247456;\"/>\r\n   </g>\r\n   <g id=\"patch_183\">\r\n    <path clip-path=\"url(#pa21aba8eca)\" d=\"M 221.49198 314.6 \r\nL 223.806692 314.6 \r\nL 223.806692 225.600381 \r\nL 221.49198 225.600381 \r\nz\r\n\" style=\"fill:#1f77b4;fill-opacity:0.5;stroke:#000000;stroke-linejoin:miter;stroke-width:0.247456;\"/>\r\n   </g>\r\n   <g id=\"patch_184\">\r\n    <path clip-path=\"url(#pa21aba8eca)\" d=\"M 223.806692 314.6 \r\nL 226.121405 314.6 \r\nL 226.121405 224.961628 \r\nL 223.806692 224.961628 \r\nz\r\n\" style=\"fill:#1f77b4;fill-opacity:0.5;stroke:#000000;stroke-linejoin:miter;stroke-width:0.247456;\"/>\r\n   </g>\r\n   <g id=\"patch_185\">\r\n    <path clip-path=\"url(#pa21aba8eca)\" d=\"M 226.121405 314.6 \r\nL 228.436117 314.6 \r\nL 228.436117 229.219983 \r\nL 226.121405 229.219983 \r\nz\r\n\" style=\"fill:#1f77b4;fill-opacity:0.5;stroke:#000000;stroke-linejoin:miter;stroke-width:0.247456;\"/>\r\n   </g>\r\n   <g id=\"patch_186\">\r\n    <path clip-path=\"url(#pa21aba8eca)\" d=\"M 228.436117 314.6 \r\nL 230.75083 314.6 \r\nL 230.75083 314.6 \r\nL 228.436117 314.6 \r\nz\r\n\" style=\"fill:#1f77b4;fill-opacity:0.5;stroke:#000000;stroke-linejoin:miter;stroke-width:0.247456;\"/>\r\n   </g>\r\n   <g id=\"patch_187\">\r\n    <path clip-path=\"url(#pa21aba8eca)\" d=\"M 230.75083 314.6 \r\nL 233.065542 314.6 \r\nL 233.065542 233.478338 \r\nL 230.75083 233.478338 \r\nz\r\n\" style=\"fill:#1f77b4;fill-opacity:0.5;stroke:#000000;stroke-linejoin:miter;stroke-width:0.247456;\"/>\r\n   </g>\r\n   <g id=\"patch_188\">\r\n    <path clip-path=\"url(#pa21aba8eca)\" d=\"M 233.065542 314.6 \r\nL 235.380254 314.6 \r\nL 235.380254 224.322874 \r\nL 233.065542 224.322874 \r\nz\r\n\" style=\"fill:#1f77b4;fill-opacity:0.5;stroke:#000000;stroke-linejoin:miter;stroke-width:0.247456;\"/>\r\n   </g>\r\n   <g id=\"patch_189\">\r\n    <path clip-path=\"url(#pa21aba8eca)\" d=\"M 235.380254 314.6 \r\nL 237.694967 314.6 \r\nL 237.694967 231.987913 \r\nL 235.380254 231.987913 \r\nz\r\n\" style=\"fill:#1f77b4;fill-opacity:0.5;stroke:#000000;stroke-linejoin:miter;stroke-width:0.247456;\"/>\r\n   </g>\r\n   <g id=\"patch_190\">\r\n    <path clip-path=\"url(#pa21aba8eca)\" d=\"M 237.694967 314.6 \r\nL 240.009679 314.6 \r\nL 240.009679 239.652952 \r\nL 237.694967 239.652952 \r\nz\r\n\" style=\"fill:#1f77b4;fill-opacity:0.5;stroke:#000000;stroke-linejoin:miter;stroke-width:0.247456;\"/>\r\n   </g>\r\n   <g id=\"patch_191\">\r\n    <path clip-path=\"url(#pa21aba8eca)\" d=\"M 240.009679 314.6 \r\nL 242.324392 314.6 \r\nL 242.324392 314.6 \r\nL 240.009679 314.6 \r\nz\r\n\" style=\"fill:#1f77b4;fill-opacity:0.5;stroke:#000000;stroke-linejoin:miter;stroke-width:0.247456;\"/>\r\n   </g>\r\n   <g id=\"patch_192\">\r\n    <path clip-path=\"url(#pa21aba8eca)\" d=\"M 242.324392 314.6 \r\nL 244.639104 314.6 \r\nL 244.639104 242.633801 \r\nL 242.324392 242.633801 \r\nz\r\n\" style=\"fill:#1f77b4;fill-opacity:0.5;stroke:#000000;stroke-linejoin:miter;stroke-width:0.247456;\"/>\r\n   </g>\r\n   <g id=\"patch_193\">\r\n    <path clip-path=\"url(#pa21aba8eca)\" d=\"M 244.639104 314.6 \r\nL 246.953816 314.6 \r\nL 246.953816 248.38258 \r\nL 244.639104 248.38258 \r\nz\r\n\" style=\"fill:#1f77b4;fill-opacity:0.5;stroke:#000000;stroke-linejoin:miter;stroke-width:0.247456;\"/>\r\n   </g>\r\n   <g id=\"patch_194\">\r\n    <path clip-path=\"url(#pa21aba8eca)\" d=\"M 246.953816 314.6 \r\nL 249.268529 314.6 \r\nL 249.268529 252.853853 \r\nL 246.953816 252.853853 \r\nz\r\n\" style=\"fill:#1f77b4;fill-opacity:0.5;stroke:#000000;stroke-linejoin:miter;stroke-width:0.247456;\"/>\r\n   </g>\r\n   <g id=\"patch_195\">\r\n    <path clip-path=\"url(#pa21aba8eca)\" d=\"M 249.268529 314.6 \r\nL 251.583241 314.6 \r\nL 251.583241 262.435152 \r\nL 249.268529 262.435152 \r\nz\r\n\" style=\"fill:#1f77b4;fill-opacity:0.5;stroke:#000000;stroke-linejoin:miter;stroke-width:0.247456;\"/>\r\n   </g>\r\n   <g id=\"patch_196\">\r\n    <path clip-path=\"url(#pa21aba8eca)\" d=\"M 251.583241 314.6 \r\nL 253.897954 314.6 \r\nL 253.897954 314.6 \r\nL 251.583241 314.6 \r\nz\r\n\" style=\"fill:#1f77b4;fill-opacity:0.5;stroke:#000000;stroke-linejoin:miter;stroke-width:0.247456;\"/>\r\n   </g>\r\n   <g id=\"patch_197\">\r\n    <path clip-path=\"url(#pa21aba8eca)\" d=\"M 253.897954 314.6 \r\nL 256.212666 314.6 \r\nL 256.212666 268.396848 \r\nL 253.897954 268.396848 \r\nz\r\n\" style=\"fill:#1f77b4;fill-opacity:0.5;stroke:#000000;stroke-linejoin:miter;stroke-width:0.247456;\"/>\r\n   </g>\r\n   <g id=\"patch_198\">\r\n    <path clip-path=\"url(#pa21aba8eca)\" d=\"M 256.212666 314.6 \r\nL 258.527378 314.6 \r\nL 258.527378 277.126476 \r\nL 256.212666 277.126476 \r\nz\r\n\" style=\"fill:#1f77b4;fill-opacity:0.5;stroke:#000000;stroke-linejoin:miter;stroke-width:0.247456;\"/>\r\n   </g>\r\n   <g id=\"patch_199\">\r\n    <path clip-path=\"url(#pa21aba8eca)\" d=\"M 258.527378 314.6 \r\nL 260.842091 314.6 \r\nL 260.842091 282.023584 \r\nL 258.527378 282.023584 \r\nz\r\n\" style=\"fill:#1f77b4;fill-opacity:0.5;stroke:#000000;stroke-linejoin:miter;stroke-width:0.247456;\"/>\r\n   </g>\r\n   <g id=\"patch_200\">\r\n    <path clip-path=\"url(#pa21aba8eca)\" d=\"M 260.842091 314.6 \r\nL 263.156803 314.6 \r\nL 263.156803 314.6 \r\nL 260.842091 314.6 \r\nz\r\n\" style=\"fill:#1f77b4;fill-opacity:0.5;stroke:#000000;stroke-linejoin:miter;stroke-width:0.247456;\"/>\r\n   </g>\r\n   <g id=\"patch_201\">\r\n    <path clip-path=\"url(#pa21aba8eca)\" d=\"M 263.156803 314.6 \r\nL 265.471515 314.6 \r\nL 265.471515 288.624035 \r\nL 263.156803 288.624035 \r\nz\r\n\" style=\"fill:#1f77b4;fill-opacity:0.5;stroke:#000000;stroke-linejoin:miter;stroke-width:0.247456;\"/>\r\n   </g>\r\n   <g id=\"patch_202\">\r\n    <path clip-path=\"url(#pa21aba8eca)\" d=\"M 265.471515 314.6 \r\nL 267.786228 314.6 \r\nL 267.786228 292.669472 \r\nL 265.471515 292.669472 \r\nz\r\n\" style=\"fill:#1f77b4;fill-opacity:0.5;stroke:#000000;stroke-linejoin:miter;stroke-width:0.247456;\"/>\r\n   </g>\r\n   <g id=\"patch_203\">\r\n    <path clip-path=\"url(#pa21aba8eca)\" d=\"M 267.786228 314.6 \r\nL 270.10094 314.6 \r\nL 270.10094 295.011567 \r\nL 267.786228 295.011567 \r\nz\r\n\" style=\"fill:#1f77b4;fill-opacity:0.5;stroke:#000000;stroke-linejoin:miter;stroke-width:0.247456;\"/>\r\n   </g>\r\n   <g id=\"patch_204\">\r\n    <path clip-path=\"url(#pa21aba8eca)\" d=\"M 270.10094 314.6 \r\nL 272.415653 314.6 \r\nL 272.415653 297.353662 \r\nL 270.10094 297.353662 \r\nz\r\n\" style=\"fill:#1f77b4;fill-opacity:0.5;stroke:#000000;stroke-linejoin:miter;stroke-width:0.247456;\"/>\r\n   </g>\r\n   <g id=\"patch_205\">\r\n    <path clip-path=\"url(#pa21aba8eca)\" d=\"M 272.415653 314.6 \r\nL 274.730365 314.6 \r\nL 274.730365 314.6 \r\nL 272.415653 314.6 \r\nz\r\n\" style=\"fill:#1f77b4;fill-opacity:0.5;stroke:#000000;stroke-linejoin:miter;stroke-width:0.247456;\"/>\r\n   </g>\r\n   <g id=\"patch_206\">\r\n    <path clip-path=\"url(#pa21aba8eca)\" d=\"M 274.730365 314.6 \r\nL 277.045077 314.6 \r\nL 277.045077 298.205333 \r\nL 274.730365 298.205333 \r\nz\r\n\" style=\"fill:#1f77b4;fill-opacity:0.5;stroke:#000000;stroke-linejoin:miter;stroke-width:0.247456;\"/>\r\n   </g>\r\n   <g id=\"patch_207\">\r\n    <path clip-path=\"url(#pa21aba8eca)\" d=\"M 277.045077 314.6 \r\nL 279.35979 314.6 \r\nL 279.35979 301.186182 \r\nL 277.045077 301.186182 \r\nz\r\n\" style=\"fill:#1f77b4;fill-opacity:0.5;stroke:#000000;stroke-linejoin:miter;stroke-width:0.247456;\"/>\r\n   </g>\r\n   <g id=\"patch_208\">\r\n    <path clip-path=\"url(#pa21aba8eca)\" d=\"M 279.35979 314.6 \r\nL 281.674502 314.6 \r\nL 281.674502 301.612017 \r\nL 279.35979 301.612017 \r\nz\r\n\" style=\"fill:#1f77b4;fill-opacity:0.5;stroke:#000000;stroke-linejoin:miter;stroke-width:0.247456;\"/>\r\n   </g>\r\n   <g id=\"patch_209\">\r\n    <path clip-path=\"url(#pa21aba8eca)\" d=\"M 281.674502 314.6 \r\nL 283.989215 314.6 \r\nL 283.989215 306.296208 \r\nL 281.674502 306.296208 \r\nz\r\n\" style=\"fill:#1f77b4;fill-opacity:0.5;stroke:#000000;stroke-linejoin:miter;stroke-width:0.247456;\"/>\r\n   </g>\r\n   <g id=\"patch_210\">\r\n    <path clip-path=\"url(#pa21aba8eca)\" d=\"M 283.989215 314.6 \r\nL 286.303927 314.6 \r\nL 286.303927 314.6 \r\nL 283.989215 314.6 \r\nz\r\n\" style=\"fill:#1f77b4;fill-opacity:0.5;stroke:#000000;stroke-linejoin:miter;stroke-width:0.247456;\"/>\r\n   </g>\r\n   <g id=\"patch_211\">\r\n    <path clip-path=\"url(#pa21aba8eca)\" d=\"M 286.303927 314.6 \r\nL 288.618639 314.6 \r\nL 288.618639 310.554563 \r\nL 286.303927 310.554563 \r\nz\r\n\" style=\"fill:#1f77b4;fill-opacity:0.5;stroke:#000000;stroke-linejoin:miter;stroke-width:0.247456;\"/>\r\n   </g>\r\n   <g id=\"patch_212\">\r\n    <path clip-path=\"url(#pa21aba8eca)\" d=\"M 288.618639 314.6 \r\nL 290.933352 314.6 \r\nL 290.933352 310.767481 \r\nL 288.618639 310.767481 \r\nz\r\n\" style=\"fill:#1f77b4;fill-opacity:0.5;stroke:#000000;stroke-linejoin:miter;stroke-width:0.247456;\"/>\r\n   </g>\r\n   <g id=\"patch_213\">\r\n    <path clip-path=\"url(#pa21aba8eca)\" d=\"M 290.933352 314.6 \r\nL 293.248064 314.6 \r\nL 293.248064 312.470823 \r\nL 290.933352 312.470823 \r\nz\r\n\" style=\"fill:#1f77b4;fill-opacity:0.5;stroke:#000000;stroke-linejoin:miter;stroke-width:0.247456;\"/>\r\n   </g>\r\n   <g id=\"patch_214\">\r\n    <path clip-path=\"url(#pa21aba8eca)\" d=\"M 293.248064 314.6 \r\nL 295.562777 314.6 \r\nL 295.562777 314.6 \r\nL 293.248064 314.6 \r\nz\r\n\" style=\"fill:#1f77b4;fill-opacity:0.5;stroke:#000000;stroke-linejoin:miter;stroke-width:0.247456;\"/>\r\n   </g>\r\n   <g id=\"patch_215\">\r\n    <path clip-path=\"url(#pa21aba8eca)\" d=\"M 295.562777 314.6 \r\nL 297.877489 314.6 \r\nL 297.877489 313.535411 \r\nL 295.562777 313.535411 \r\nz\r\n\" style=\"fill:#1f77b4;fill-opacity:0.5;stroke:#000000;stroke-linejoin:miter;stroke-width:0.247456;\"/>\r\n   </g>\r\n   <g id=\"patch_216\">\r\n    <path clip-path=\"url(#pa21aba8eca)\" d=\"M 297.877489 314.6 \r\nL 300.192201 314.6 \r\nL 300.192201 312.896658 \r\nL 297.877489 312.896658 \r\nz\r\n\" style=\"fill:#1f77b4;fill-opacity:0.5;stroke:#000000;stroke-linejoin:miter;stroke-width:0.247456;\"/>\r\n   </g>\r\n   <g id=\"patch_217\">\r\n    <path clip-path=\"url(#pa21aba8eca)\" d=\"M 300.192201 314.6 \r\nL 302.506914 314.6 \r\nL 302.506914 312.68374 \r\nL 300.192201 312.68374 \r\nz\r\n\" style=\"fill:#1f77b4;fill-opacity:0.5;stroke:#000000;stroke-linejoin:miter;stroke-width:0.247456;\"/>\r\n   </g>\r\n   <g id=\"patch_218\">\r\n    <path clip-path=\"url(#pa21aba8eca)\" d=\"M 302.506914 314.6 \r\nL 304.821626 314.6 \r\nL 304.821626 312.68374 \r\nL 302.506914 312.68374 \r\nz\r\n\" style=\"fill:#1f77b4;fill-opacity:0.5;stroke:#000000;stroke-linejoin:miter;stroke-width:0.247456;\"/>\r\n   </g>\r\n   <g id=\"patch_219\">\r\n    <path clip-path=\"url(#pa21aba8eca)\" d=\"M 304.821626 314.6 \r\nL 307.136338 314.6 \r\nL 307.136338 314.6 \r\nL 304.821626 314.6 \r\nz\r\n\" style=\"fill:#1f77b4;fill-opacity:0.5;stroke:#000000;stroke-linejoin:miter;stroke-width:0.247456;\"/>\r\n   </g>\r\n   <g id=\"patch_220\">\r\n    <path clip-path=\"url(#pa21aba8eca)\" d=\"M 307.136338 314.6 \r\nL 309.451051 314.6 \r\nL 309.451051 313.748329 \r\nL 307.136338 313.748329 \r\nz\r\n\" style=\"fill:#1f77b4;fill-opacity:0.5;stroke:#000000;stroke-linejoin:miter;stroke-width:0.247456;\"/>\r\n   </g>\r\n   <g id=\"patch_221\">\r\n    <path clip-path=\"url(#pa21aba8eca)\" d=\"M 309.451051 314.6 \r\nL 311.765763 314.6 \r\nL 311.765763 313.535411 \r\nL 309.451051 313.535411 \r\nz\r\n\" style=\"fill:#1f77b4;fill-opacity:0.5;stroke:#000000;stroke-linejoin:miter;stroke-width:0.247456;\"/>\r\n   </g>\r\n   <g id=\"patch_222\">\r\n    <path clip-path=\"url(#pa21aba8eca)\" d=\"M 311.765763 314.6 \r\nL 314.080476 314.6 \r\nL 314.080476 314.387082 \r\nL 311.765763 314.387082 \r\nz\r\n\" style=\"fill:#1f77b4;fill-opacity:0.5;stroke:#000000;stroke-linejoin:miter;stroke-width:0.247456;\"/>\r\n   </g>\r\n   <g id=\"patch_223\">\r\n    <path clip-path=\"url(#pa21aba8eca)\" d=\"M 314.080476 314.6 \r\nL 316.395188 314.6 \r\nL 316.395188 314.387082 \r\nL 314.080476 314.387082 \r\nz\r\n\" style=\"fill:#1f77b4;fill-opacity:0.5;stroke:#000000;stroke-linejoin:miter;stroke-width:0.247456;\"/>\r\n   </g>\r\n   <g id=\"patch_224\">\r\n    <path clip-path=\"url(#pa21aba8eca)\" d=\"M 316.395188 314.6 \r\nL 318.7099 314.6 \r\nL 318.7099 314.6 \r\nL 316.395188 314.6 \r\nz\r\n\" style=\"fill:#1f77b4;fill-opacity:0.5;stroke:#000000;stroke-linejoin:miter;stroke-width:0.247456;\"/>\r\n   </g>\r\n   <g id=\"patch_225\">\r\n    <path clip-path=\"url(#pa21aba8eca)\" d=\"M 318.7099 314.6 \r\nL 321.024613 314.6 \r\nL 321.024613 314.174165 \r\nL 318.7099 314.174165 \r\nz\r\n\" style=\"fill:#1f77b4;fill-opacity:0.5;stroke:#000000;stroke-linejoin:miter;stroke-width:0.247456;\"/>\r\n   </g>\r\n   <g id=\"patch_226\">\r\n    <path clip-path=\"url(#pa21aba8eca)\" d=\"M 321.024613 314.6 \r\nL 323.339325 314.6 \r\nL 323.339325 314.387082 \r\nL 321.024613 314.387082 \r\nz\r\n\" style=\"fill:#1f77b4;fill-opacity:0.5;stroke:#000000;stroke-linejoin:miter;stroke-width:0.247456;\"/>\r\n   </g>\r\n   <g id=\"patch_227\">\r\n    <path clip-path=\"url(#pa21aba8eca)\" d=\"M 323.339325 314.6 \r\nL 325.654038 314.6 \r\nL 325.654038 314.6 \r\nL 323.339325 314.6 \r\nz\r\n\" style=\"fill:#1f77b4;fill-opacity:0.5;stroke:#000000;stroke-linejoin:miter;stroke-width:0.247456;\"/>\r\n   </g>\r\n   <g id=\"patch_228\">\r\n    <path clip-path=\"url(#pa21aba8eca)\" d=\"M 325.654038 314.6 \r\nL 327.96875 314.6 \r\nL 327.96875 314.387082 \r\nL 325.654038 314.387082 \r\nz\r\n\" style=\"fill:#1f77b4;fill-opacity:0.5;stroke:#000000;stroke-linejoin:miter;stroke-width:0.247456;\"/>\r\n   </g>\r\n   <g id=\"matplotlib.axis_1\">\r\n    <g id=\"xtick_1\">\r\n     <g id=\"line2d_1\">\r\n      <defs>\r\n       <path d=\"M 0 0 \r\nL 0 3.5 \r\n\" id=\"m748cd3b897\" style=\"stroke:#000000;stroke-width:0.8;\"/>\r\n      </defs>\r\n      <g>\r\n       <use style=\"stroke:#000000;stroke-width:0.8;\" x=\"66.40625\" xlink:href=\"#m748cd3b897\" y=\"314.6\"/>\r\n      </g>\r\n     </g>\r\n     <g id=\"text_1\">\r\n      <!-- 0 -->\r\n      <g transform=\"translate(63.225 329.198437)scale(0.1 -0.1)\">\r\n       <defs>\r\n        <path d=\"M 31.78125 66.40625 \r\nQ 24.171875 66.40625 20.328125 58.90625 \r\nQ 16.5 51.421875 16.5 36.375 \r\nQ 16.5 21.390625 20.328125 13.890625 \r\nQ 24.171875 6.390625 31.78125 6.390625 \r\nQ 39.453125 6.390625 43.28125 13.890625 \r\nQ 47.125 21.390625 47.125 36.375 \r\nQ 47.125 51.421875 43.28125 58.90625 \r\nQ 39.453125 66.40625 31.78125 66.40625 \r\nz\r\nM 31.78125 74.21875 \r\nQ 44.046875 74.21875 50.515625 64.515625 \r\nQ 56.984375 54.828125 56.984375 36.375 \r\nQ 56.984375 17.96875 50.515625 8.265625 \r\nQ 44.046875 -1.421875 31.78125 -1.421875 \r\nQ 19.53125 -1.421875 13.0625 8.265625 \r\nQ 6.59375 17.96875 6.59375 36.375 \r\nQ 6.59375 54.828125 13.0625 64.515625 \r\nQ 19.53125 74.21875 31.78125 74.21875 \r\nz\r\n\" id=\"DejaVuSans-48\"/>\r\n       </defs>\r\n       <use xlink:href=\"#DejaVuSans-48\"/>\r\n      </g>\r\n     </g>\r\n    </g>\r\n    <g id=\"xtick_2\">\r\n     <g id=\"line2d_2\">\r\n      <g>\r\n       <use style=\"stroke:#000000;stroke-width:0.8;\" x=\"125.18434\" xlink:href=\"#m748cd3b897\" y=\"314.6\"/>\r\n      </g>\r\n     </g>\r\n     <g id=\"text_2\">\r\n      <!-- 20 -->\r\n      <g transform=\"translate(118.82184 329.198437)scale(0.1 -0.1)\">\r\n       <defs>\r\n        <path d=\"M 19.1875 8.296875 \r\nL 53.609375 8.296875 \r\nL 53.609375 0 \r\nL 7.328125 0 \r\nL 7.328125 8.296875 \r\nQ 12.9375 14.109375 22.625 23.890625 \r\nQ 32.328125 33.6875 34.8125 36.53125 \r\nQ 39.546875 41.84375 41.421875 45.53125 \r\nQ 43.3125 49.21875 43.3125 52.78125 \r\nQ 43.3125 58.59375 39.234375 62.25 \r\nQ 35.15625 65.921875 28.609375 65.921875 \r\nQ 23.96875 65.921875 18.8125 64.3125 \r\nQ 13.671875 62.703125 7.8125 59.421875 \r\nL 7.8125 69.390625 \r\nQ 13.765625 71.78125 18.9375 73 \r\nQ 24.125 74.21875 28.421875 74.21875 \r\nQ 39.75 74.21875 46.484375 68.546875 \r\nQ 53.21875 62.890625 53.21875 53.421875 \r\nQ 53.21875 48.921875 51.53125 44.890625 \r\nQ 49.859375 40.875 45.40625 35.40625 \r\nQ 44.1875 33.984375 37.640625 27.21875 \r\nQ 31.109375 20.453125 19.1875 8.296875 \r\nz\r\n\" id=\"DejaVuSans-50\"/>\r\n       </defs>\r\n       <use xlink:href=\"#DejaVuSans-50\"/>\r\n       <use x=\"63.623047\" xlink:href=\"#DejaVuSans-48\"/>\r\n      </g>\r\n     </g>\r\n    </g>\r\n    <g id=\"xtick_3\">\r\n     <g id=\"line2d_3\">\r\n      <g>\r\n       <use style=\"stroke:#000000;stroke-width:0.8;\" x=\"183.96243\" xlink:href=\"#m748cd3b897\" y=\"314.6\"/>\r\n      </g>\r\n     </g>\r\n     <g id=\"text_3\">\r\n      <!-- 40 -->\r\n      <g transform=\"translate(177.59993 329.198437)scale(0.1 -0.1)\">\r\n       <defs>\r\n        <path d=\"M 37.796875 64.3125 \r\nL 12.890625 25.390625 \r\nL 37.796875 25.390625 \r\nz\r\nM 35.203125 72.90625 \r\nL 47.609375 72.90625 \r\nL 47.609375 25.390625 \r\nL 58.015625 25.390625 \r\nL 58.015625 17.1875 \r\nL 47.609375 17.1875 \r\nL 47.609375 0 \r\nL 37.796875 0 \r\nL 37.796875 17.1875 \r\nL 4.890625 17.1875 \r\nL 4.890625 26.703125 \r\nz\r\n\" id=\"DejaVuSans-52\"/>\r\n       </defs>\r\n       <use xlink:href=\"#DejaVuSans-52\"/>\r\n       <use x=\"63.623047\" xlink:href=\"#DejaVuSans-48\"/>\r\n      </g>\r\n     </g>\r\n    </g>\r\n    <g id=\"xtick_4\">\r\n     <g id=\"line2d_4\">\r\n      <g>\r\n       <use style=\"stroke:#000000;stroke-width:0.8;\" x=\"242.74052\" xlink:href=\"#m748cd3b897\" y=\"314.6\"/>\r\n      </g>\r\n     </g>\r\n     <g id=\"text_4\">\r\n      <!-- 60 -->\r\n      <g transform=\"translate(236.37802 329.198437)scale(0.1 -0.1)\">\r\n       <defs>\r\n        <path d=\"M 33.015625 40.375 \r\nQ 26.375 40.375 22.484375 35.828125 \r\nQ 18.609375 31.296875 18.609375 23.390625 \r\nQ 18.609375 15.53125 22.484375 10.953125 \r\nQ 26.375 6.390625 33.015625 6.390625 \r\nQ 39.65625 6.390625 43.53125 10.953125 \r\nQ 47.40625 15.53125 47.40625 23.390625 \r\nQ 47.40625 31.296875 43.53125 35.828125 \r\nQ 39.65625 40.375 33.015625 40.375 \r\nz\r\nM 52.59375 71.296875 \r\nL 52.59375 62.3125 \r\nQ 48.875 64.0625 45.09375 64.984375 \r\nQ 41.3125 65.921875 37.59375 65.921875 \r\nQ 27.828125 65.921875 22.671875 59.328125 \r\nQ 17.53125 52.734375 16.796875 39.40625 \r\nQ 19.671875 43.65625 24.015625 45.921875 \r\nQ 28.375 48.1875 33.59375 48.1875 \r\nQ 44.578125 48.1875 50.953125 41.515625 \r\nQ 57.328125 34.859375 57.328125 23.390625 \r\nQ 57.328125 12.15625 50.6875 5.359375 \r\nQ 44.046875 -1.421875 33.015625 -1.421875 \r\nQ 20.359375 -1.421875 13.671875 8.265625 \r\nQ 6.984375 17.96875 6.984375 36.375 \r\nQ 6.984375 53.65625 15.1875 63.9375 \r\nQ 23.390625 74.21875 37.203125 74.21875 \r\nQ 40.921875 74.21875 44.703125 73.484375 \r\nQ 48.484375 72.75 52.59375 71.296875 \r\nz\r\n\" id=\"DejaVuSans-54\"/>\r\n       </defs>\r\n       <use xlink:href=\"#DejaVuSans-54\"/>\r\n       <use x=\"63.623047\" xlink:href=\"#DejaVuSans-48\"/>\r\n      </g>\r\n     </g>\r\n    </g>\r\n    <g id=\"xtick_5\">\r\n     <g id=\"line2d_5\">\r\n      <g>\r\n       <use style=\"stroke:#000000;stroke-width:0.8;\" x=\"301.51861\" xlink:href=\"#m748cd3b897\" y=\"314.6\"/>\r\n      </g>\r\n     </g>\r\n     <g id=\"text_5\">\r\n      <!-- 80 -->\r\n      <g transform=\"translate(295.15611 329.198437)scale(0.1 -0.1)\">\r\n       <defs>\r\n        <path d=\"M 31.78125 34.625 \r\nQ 24.75 34.625 20.71875 30.859375 \r\nQ 16.703125 27.09375 16.703125 20.515625 \r\nQ 16.703125 13.921875 20.71875 10.15625 \r\nQ 24.75 6.390625 31.78125 6.390625 \r\nQ 38.8125 6.390625 42.859375 10.171875 \r\nQ 46.921875 13.96875 46.921875 20.515625 \r\nQ 46.921875 27.09375 42.890625 30.859375 \r\nQ 38.875 34.625 31.78125 34.625 \r\nz\r\nM 21.921875 38.8125 \r\nQ 15.578125 40.375 12.03125 44.71875 \r\nQ 8.5 49.078125 8.5 55.328125 \r\nQ 8.5 64.0625 14.71875 69.140625 \r\nQ 20.953125 74.21875 31.78125 74.21875 \r\nQ 42.671875 74.21875 48.875 69.140625 \r\nQ 55.078125 64.0625 55.078125 55.328125 \r\nQ 55.078125 49.078125 51.53125 44.71875 \r\nQ 48 40.375 41.703125 38.8125 \r\nQ 48.828125 37.15625 52.796875 32.3125 \r\nQ 56.78125 27.484375 56.78125 20.515625 \r\nQ 56.78125 9.90625 50.3125 4.234375 \r\nQ 43.84375 -1.421875 31.78125 -1.421875 \r\nQ 19.734375 -1.421875 13.25 4.234375 \r\nQ 6.78125 9.90625 6.78125 20.515625 \r\nQ 6.78125 27.484375 10.78125 32.3125 \r\nQ 14.796875 37.15625 21.921875 38.8125 \r\nz\r\nM 18.3125 54.390625 \r\nQ 18.3125 48.734375 21.84375 45.5625 \r\nQ 25.390625 42.390625 31.78125 42.390625 \r\nQ 38.140625 42.390625 41.71875 45.5625 \r\nQ 45.3125 48.734375 45.3125 54.390625 \r\nQ 45.3125 60.0625 41.71875 63.234375 \r\nQ 38.140625 66.40625 31.78125 66.40625 \r\nQ 25.390625 66.40625 21.84375 63.234375 \r\nQ 18.3125 60.0625 18.3125 54.390625 \r\nz\r\n\" id=\"DejaVuSans-56\"/>\r\n       </defs>\r\n       <use xlink:href=\"#DejaVuSans-56\"/>\r\n       <use x=\"63.623047\" xlink:href=\"#DejaVuSans-48\"/>\r\n      </g>\r\n     </g>\r\n    </g>\r\n    <g id=\"text_6\">\r\n     <!-- age -->\r\n     <g transform=\"translate(187.872656 342.876562)scale(0.1 -0.1)\">\r\n      <defs>\r\n       <path d=\"M 34.28125 27.484375 \r\nQ 23.390625 27.484375 19.1875 25 \r\nQ 14.984375 22.515625 14.984375 16.5 \r\nQ 14.984375 11.71875 18.140625 8.90625 \r\nQ 21.296875 6.109375 26.703125 6.109375 \r\nQ 34.1875 6.109375 38.703125 11.40625 \r\nQ 43.21875 16.703125 43.21875 25.484375 \r\nL 43.21875 27.484375 \r\nz\r\nM 52.203125 31.203125 \r\nL 52.203125 0 \r\nL 43.21875 0 \r\nL 43.21875 8.296875 \r\nQ 40.140625 3.328125 35.546875 0.953125 \r\nQ 30.953125 -1.421875 24.3125 -1.421875 \r\nQ 15.921875 -1.421875 10.953125 3.296875 \r\nQ 6 8.015625 6 15.921875 \r\nQ 6 25.140625 12.171875 29.828125 \r\nQ 18.359375 34.515625 30.609375 34.515625 \r\nL 43.21875 34.515625 \r\nL 43.21875 35.40625 \r\nQ 43.21875 41.609375 39.140625 45 \r\nQ 35.0625 48.390625 27.6875 48.390625 \r\nQ 23 48.390625 18.546875 47.265625 \r\nQ 14.109375 46.140625 10.015625 43.890625 \r\nL 10.015625 52.203125 \r\nQ 14.9375 54.109375 19.578125 55.046875 \r\nQ 24.21875 56 28.609375 56 \r\nQ 40.484375 56 46.34375 49.84375 \r\nQ 52.203125 43.703125 52.203125 31.203125 \r\nz\r\n\" id=\"DejaVuSans-97\"/>\r\n       <path d=\"M 45.40625 27.984375 \r\nQ 45.40625 37.75 41.375 43.109375 \r\nQ 37.359375 48.484375 30.078125 48.484375 \r\nQ 22.859375 48.484375 18.828125 43.109375 \r\nQ 14.796875 37.75 14.796875 27.984375 \r\nQ 14.796875 18.265625 18.828125 12.890625 \r\nQ 22.859375 7.515625 30.078125 7.515625 \r\nQ 37.359375 7.515625 41.375 12.890625 \r\nQ 45.40625 18.265625 45.40625 27.984375 \r\nz\r\nM 54.390625 6.78125 \r\nQ 54.390625 -7.171875 48.1875 -13.984375 \r\nQ 42 -20.796875 29.203125 -20.796875 \r\nQ 24.46875 -20.796875 20.265625 -20.09375 \r\nQ 16.0625 -19.390625 12.109375 -17.921875 \r\nL 12.109375 -9.1875 \r\nQ 16.0625 -11.328125 19.921875 -12.34375 \r\nQ 23.78125 -13.375 27.78125 -13.375 \r\nQ 36.625 -13.375 41.015625 -8.765625 \r\nQ 45.40625 -4.15625 45.40625 5.171875 \r\nL 45.40625 9.625 \r\nQ 42.625 4.78125 38.28125 2.390625 \r\nQ 33.9375 0 27.875 0 \r\nQ 17.828125 0 11.671875 7.65625 \r\nQ 5.515625 15.328125 5.515625 27.984375 \r\nQ 5.515625 40.671875 11.671875 48.328125 \r\nQ 17.828125 56 27.875 56 \r\nQ 33.9375 56 38.28125 53.609375 \r\nQ 42.625 51.21875 45.40625 46.390625 \r\nL 45.40625 54.6875 \r\nL 54.390625 54.6875 \r\nz\r\n\" id=\"DejaVuSans-103\"/>\r\n       <path d=\"M 56.203125 29.59375 \r\nL 56.203125 25.203125 \r\nL 14.890625 25.203125 \r\nQ 15.484375 15.921875 20.484375 11.0625 \r\nQ 25.484375 6.203125 34.421875 6.203125 \r\nQ 39.59375 6.203125 44.453125 7.46875 \r\nQ 49.3125 8.734375 54.109375 11.28125 \r\nL 54.109375 2.78125 \r\nQ 49.265625 0.734375 44.1875 -0.34375 \r\nQ 39.109375 -1.421875 33.890625 -1.421875 \r\nQ 20.796875 -1.421875 13.15625 6.1875 \r\nQ 5.515625 13.8125 5.515625 26.8125 \r\nQ 5.515625 40.234375 12.765625 48.109375 \r\nQ 20.015625 56 32.328125 56 \r\nQ 43.359375 56 49.78125 48.890625 \r\nQ 56.203125 41.796875 56.203125 29.59375 \r\nz\r\nM 47.21875 32.234375 \r\nQ 47.125 39.59375 43.09375 43.984375 \r\nQ 39.0625 48.390625 32.421875 48.390625 \r\nQ 24.90625 48.390625 20.390625 44.140625 \r\nQ 15.875 39.890625 15.1875 32.171875 \r\nz\r\n\" id=\"DejaVuSans-101\"/>\r\n      </defs>\r\n      <use xlink:href=\"#DejaVuSans-97\"/>\r\n      <use x=\"61.279297\" xlink:href=\"#DejaVuSans-103\"/>\r\n      <use x=\"124.755859\" xlink:href=\"#DejaVuSans-101\"/>\r\n     </g>\r\n    </g>\r\n   </g>\r\n   <g id=\"matplotlib.axis_2\">\r\n    <g id=\"ytick_1\">\r\n     <g id=\"line2d_6\">\r\n      <defs>\r\n       <path d=\"M 0 0 \r\nL -3.5 0 \r\n\" id=\"m6f1c67920a\" style=\"stroke:#000000;stroke-width:0.8;\"/>\r\n      </defs>\r\n      <g>\r\n       <use style=\"stroke:#000000;stroke-width:0.8;\" x=\"53.328125\" xlink:href=\"#m6f1c67920a\" y=\"314.6\"/>\r\n      </g>\r\n     </g>\r\n     <g id=\"text_7\">\r\n      <!-- 0 -->\r\n      <g transform=\"translate(39.965625 318.399219)scale(0.1 -0.1)\">\r\n       <use xlink:href=\"#DejaVuSans-48\"/>\r\n      </g>\r\n     </g>\r\n    </g>\r\n    <g id=\"ytick_2\">\r\n     <g id=\"line2d_7\">\r\n      <g>\r\n       <use style=\"stroke:#000000;stroke-width:0.8;\" x=\"53.328125\" xlink:href=\"#m6f1c67920a\" y=\"272.01645\"/>\r\n      </g>\r\n     </g>\r\n     <g id=\"text_8\">\r\n      <!-- 200 -->\r\n      <g transform=\"translate(27.240625 275.815669)scale(0.1 -0.1)\">\r\n       <use xlink:href=\"#DejaVuSans-50\"/>\r\n       <use x=\"63.623047\" xlink:href=\"#DejaVuSans-48\"/>\r\n       <use x=\"127.246094\" xlink:href=\"#DejaVuSans-48\"/>\r\n      </g>\r\n     </g>\r\n    </g>\r\n    <g id=\"ytick_3\">\r\n     <g id=\"line2d_8\">\r\n      <g>\r\n       <use style=\"stroke:#000000;stroke-width:0.8;\" x=\"53.328125\" xlink:href=\"#m6f1c67920a\" y=\"229.4329\"/>\r\n      </g>\r\n     </g>\r\n     <g id=\"text_9\">\r\n      <!-- 400 -->\r\n      <g transform=\"translate(27.240625 233.232119)scale(0.1 -0.1)\">\r\n       <use xlink:href=\"#DejaVuSans-52\"/>\r\n       <use x=\"63.623047\" xlink:href=\"#DejaVuSans-48\"/>\r\n       <use x=\"127.246094\" xlink:href=\"#DejaVuSans-48\"/>\r\n      </g>\r\n     </g>\r\n    </g>\r\n    <g id=\"ytick_4\">\r\n     <g id=\"line2d_9\">\r\n      <g>\r\n       <use style=\"stroke:#000000;stroke-width:0.8;\" x=\"53.328125\" xlink:href=\"#m6f1c67920a\" y=\"186.849351\"/>\r\n      </g>\r\n     </g>\r\n     <g id=\"text_10\">\r\n      <!-- 600 -->\r\n      <g transform=\"translate(27.240625 190.648569)scale(0.1 -0.1)\">\r\n       <use xlink:href=\"#DejaVuSans-54\"/>\r\n       <use x=\"63.623047\" xlink:href=\"#DejaVuSans-48\"/>\r\n       <use x=\"127.246094\" xlink:href=\"#DejaVuSans-48\"/>\r\n      </g>\r\n     </g>\r\n    </g>\r\n    <g id=\"ytick_5\">\r\n     <g id=\"line2d_10\">\r\n      <g>\r\n       <use style=\"stroke:#000000;stroke-width:0.8;\" x=\"53.328125\" xlink:href=\"#m6f1c67920a\" y=\"144.265801\"/>\r\n      </g>\r\n     </g>\r\n     <g id=\"text_11\">\r\n      <!-- 800 -->\r\n      <g transform=\"translate(27.240625 148.06502)scale(0.1 -0.1)\">\r\n       <use xlink:href=\"#DejaVuSans-56\"/>\r\n       <use x=\"63.623047\" xlink:href=\"#DejaVuSans-48\"/>\r\n       <use x=\"127.246094\" xlink:href=\"#DejaVuSans-48\"/>\r\n      </g>\r\n     </g>\r\n    </g>\r\n    <g id=\"ytick_6\">\r\n     <g id=\"line2d_11\">\r\n      <g>\r\n       <use style=\"stroke:#000000;stroke-width:0.8;\" x=\"53.328125\" xlink:href=\"#m6f1c67920a\" y=\"101.682251\"/>\r\n      </g>\r\n     </g>\r\n     <g id=\"text_12\">\r\n      <!-- 1000 -->\r\n      <g transform=\"translate(20.878125 105.48147)scale(0.1 -0.1)\">\r\n       <defs>\r\n        <path d=\"M 12.40625 8.296875 \r\nL 28.515625 8.296875 \r\nL 28.515625 63.921875 \r\nL 10.984375 60.40625 \r\nL 10.984375 69.390625 \r\nL 28.421875 72.90625 \r\nL 38.28125 72.90625 \r\nL 38.28125 8.296875 \r\nL 54.390625 8.296875 \r\nL 54.390625 0 \r\nL 12.40625 0 \r\nz\r\n\" id=\"DejaVuSans-49\"/>\r\n       </defs>\r\n       <use xlink:href=\"#DejaVuSans-49\"/>\r\n       <use x=\"63.623047\" xlink:href=\"#DejaVuSans-48\"/>\r\n       <use x=\"127.246094\" xlink:href=\"#DejaVuSans-48\"/>\r\n       <use x=\"190.869141\" xlink:href=\"#DejaVuSans-48\"/>\r\n      </g>\r\n     </g>\r\n    </g>\r\n    <g id=\"ytick_7\">\r\n     <g id=\"line2d_12\">\r\n      <g>\r\n       <use style=\"stroke:#000000;stroke-width:0.8;\" x=\"53.328125\" xlink:href=\"#m6f1c67920a\" y=\"59.098701\"/>\r\n      </g>\r\n     </g>\r\n     <g id=\"text_13\">\r\n      <!-- 1200 -->\r\n      <g transform=\"translate(20.878125 62.89792)scale(0.1 -0.1)\">\r\n       <use xlink:href=\"#DejaVuSans-49\"/>\r\n       <use x=\"63.623047\" xlink:href=\"#DejaVuSans-50\"/>\r\n       <use x=\"127.246094\" xlink:href=\"#DejaVuSans-48\"/>\r\n       <use x=\"190.869141\" xlink:href=\"#DejaVuSans-48\"/>\r\n      </g>\r\n     </g>\r\n    </g>\r\n    <g id=\"ytick_8\">\r\n     <g id=\"line2d_13\">\r\n      <g>\r\n       <use style=\"stroke:#000000;stroke-width:0.8;\" x=\"53.328125\" xlink:href=\"#m6f1c67920a\" y=\"16.515152\"/>\r\n      </g>\r\n     </g>\r\n     <g id=\"text_14\">\r\n      <!-- 1400 -->\r\n      <g transform=\"translate(20.878125 20.31437)scale(0.1 -0.1)\">\r\n       <use xlink:href=\"#DejaVuSans-49\"/>\r\n       <use x=\"63.623047\" xlink:href=\"#DejaVuSans-52\"/>\r\n       <use x=\"127.246094\" xlink:href=\"#DejaVuSans-48\"/>\r\n       <use x=\"190.869141\" xlink:href=\"#DejaVuSans-48\"/>\r\n      </g>\r\n     </g>\r\n    </g>\r\n    <g id=\"text_15\">\r\n     <!-- Count -->\r\n     <g transform=\"translate(14.798438 175.748437)rotate(-90)scale(0.1 -0.1)\">\r\n      <defs>\r\n       <path d=\"M 64.40625 67.28125 \r\nL 64.40625 56.890625 \r\nQ 59.421875 61.53125 53.78125 63.8125 \r\nQ 48.140625 66.109375 41.796875 66.109375 \r\nQ 29.296875 66.109375 22.65625 58.46875 \r\nQ 16.015625 50.828125 16.015625 36.375 \r\nQ 16.015625 21.96875 22.65625 14.328125 \r\nQ 29.296875 6.6875 41.796875 6.6875 \r\nQ 48.140625 6.6875 53.78125 8.984375 \r\nQ 59.421875 11.28125 64.40625 15.921875 \r\nL 64.40625 5.609375 \r\nQ 59.234375 2.09375 53.4375 0.328125 \r\nQ 47.65625 -1.421875 41.21875 -1.421875 \r\nQ 24.65625 -1.421875 15.125 8.703125 \r\nQ 5.609375 18.84375 5.609375 36.375 \r\nQ 5.609375 53.953125 15.125 64.078125 \r\nQ 24.65625 74.21875 41.21875 74.21875 \r\nQ 47.75 74.21875 53.53125 72.484375 \r\nQ 59.328125 70.75 64.40625 67.28125 \r\nz\r\n\" id=\"DejaVuSans-67\"/>\r\n       <path d=\"M 30.609375 48.390625 \r\nQ 23.390625 48.390625 19.1875 42.75 \r\nQ 14.984375 37.109375 14.984375 27.296875 \r\nQ 14.984375 17.484375 19.15625 11.84375 \r\nQ 23.34375 6.203125 30.609375 6.203125 \r\nQ 37.796875 6.203125 41.984375 11.859375 \r\nQ 46.1875 17.53125 46.1875 27.296875 \r\nQ 46.1875 37.015625 41.984375 42.703125 \r\nQ 37.796875 48.390625 30.609375 48.390625 \r\nz\r\nM 30.609375 56 \r\nQ 42.328125 56 49.015625 48.375 \r\nQ 55.71875 40.765625 55.71875 27.296875 \r\nQ 55.71875 13.875 49.015625 6.21875 \r\nQ 42.328125 -1.421875 30.609375 -1.421875 \r\nQ 18.84375 -1.421875 12.171875 6.21875 \r\nQ 5.515625 13.875 5.515625 27.296875 \r\nQ 5.515625 40.765625 12.171875 48.375 \r\nQ 18.84375 56 30.609375 56 \r\nz\r\n\" id=\"DejaVuSans-111\"/>\r\n       <path d=\"M 8.5 21.578125 \r\nL 8.5 54.6875 \r\nL 17.484375 54.6875 \r\nL 17.484375 21.921875 \r\nQ 17.484375 14.15625 20.5 10.265625 \r\nQ 23.53125 6.390625 29.59375 6.390625 \r\nQ 36.859375 6.390625 41.078125 11.03125 \r\nQ 45.3125 15.671875 45.3125 23.6875 \r\nL 45.3125 54.6875 \r\nL 54.296875 54.6875 \r\nL 54.296875 0 \r\nL 45.3125 0 \r\nL 45.3125 8.40625 \r\nQ 42.046875 3.421875 37.71875 1 \r\nQ 33.40625 -1.421875 27.6875 -1.421875 \r\nQ 18.265625 -1.421875 13.375 4.4375 \r\nQ 8.5 10.296875 8.5 21.578125 \r\nz\r\nM 31.109375 56 \r\nz\r\n\" id=\"DejaVuSans-117\"/>\r\n       <path d=\"M 54.890625 33.015625 \r\nL 54.890625 0 \r\nL 45.90625 0 \r\nL 45.90625 32.71875 \r\nQ 45.90625 40.484375 42.875 44.328125 \r\nQ 39.84375 48.1875 33.796875 48.1875 \r\nQ 26.515625 48.1875 22.3125 43.546875 \r\nQ 18.109375 38.921875 18.109375 30.90625 \r\nL 18.109375 0 \r\nL 9.078125 0 \r\nL 9.078125 54.6875 \r\nL 18.109375 54.6875 \r\nL 18.109375 46.1875 \r\nQ 21.34375 51.125 25.703125 53.5625 \r\nQ 30.078125 56 35.796875 56 \r\nQ 45.21875 56 50.046875 50.171875 \r\nQ 54.890625 44.34375 54.890625 33.015625 \r\nz\r\n\" id=\"DejaVuSans-110\"/>\r\n       <path d=\"M 18.3125 70.21875 \r\nL 18.3125 54.6875 \r\nL 36.8125 54.6875 \r\nL 36.8125 47.703125 \r\nL 18.3125 47.703125 \r\nL 18.3125 18.015625 \r\nQ 18.3125 11.328125 20.140625 9.421875 \r\nQ 21.96875 7.515625 27.59375 7.515625 \r\nL 36.8125 7.515625 \r\nL 36.8125 0 \r\nL 27.59375 0 \r\nQ 17.1875 0 13.234375 3.875 \r\nQ 9.28125 7.765625 9.28125 18.015625 \r\nL 9.28125 47.703125 \r\nL 2.6875 47.703125 \r\nL 2.6875 54.6875 \r\nL 9.28125 54.6875 \r\nL 9.28125 70.21875 \r\nz\r\n\" id=\"DejaVuSans-116\"/>\r\n      </defs>\r\n      <use xlink:href=\"#DejaVuSans-67\"/>\r\n      <use x=\"69.824219\" xlink:href=\"#DejaVuSans-111\"/>\r\n      <use x=\"131.005859\" xlink:href=\"#DejaVuSans-117\"/>\r\n      <use x=\"194.384766\" xlink:href=\"#DejaVuSans-110\"/>\r\n      <use x=\"257.763672\" xlink:href=\"#DejaVuSans-116\"/>\r\n     </g>\r\n    </g>\r\n   </g>\r\n   <g id=\"patch_229\">\r\n    <path d=\"M 53.328125 314.6 \r\nL 53.328125 7.2 \r\n\" style=\"fill:none;stroke:#000000;stroke-linecap:square;stroke-linejoin:miter;stroke-width:0.8;\"/>\r\n   </g>\r\n   <g id=\"patch_230\">\r\n    <path d=\"M 53.328125 314.6 \r\nL 341.046875 314.6 \r\n\" style=\"fill:none;stroke:#000000;stroke-linecap:square;stroke-linejoin:miter;stroke-width:0.8;\"/>\r\n   </g>\r\n  </g>\r\n  <g id=\"legend_1\">\r\n   <g id=\"text_16\">\r\n    <!-- label -->\r\n    <g transform=\"translate(382.903906 164.159375)scale(0.1 -0.1)\">\r\n     <defs>\r\n      <path d=\"M 9.421875 75.984375 \r\nL 18.40625 75.984375 \r\nL 18.40625 0 \r\nL 9.421875 0 \r\nz\r\n\" id=\"DejaVuSans-108\"/>\r\n      <path d=\"M 48.6875 27.296875 \r\nQ 48.6875 37.203125 44.609375 42.84375 \r\nQ 40.53125 48.484375 33.40625 48.484375 \r\nQ 26.265625 48.484375 22.1875 42.84375 \r\nQ 18.109375 37.203125 18.109375 27.296875 \r\nQ 18.109375 17.390625 22.1875 11.75 \r\nQ 26.265625 6.109375 33.40625 6.109375 \r\nQ 40.53125 6.109375 44.609375 11.75 \r\nQ 48.6875 17.390625 48.6875 27.296875 \r\nz\r\nM 18.109375 46.390625 \r\nQ 20.953125 51.265625 25.265625 53.625 \r\nQ 29.59375 56 35.59375 56 \r\nQ 45.5625 56 51.78125 48.09375 \r\nQ 58.015625 40.1875 58.015625 27.296875 \r\nQ 58.015625 14.40625 51.78125 6.484375 \r\nQ 45.5625 -1.421875 35.59375 -1.421875 \r\nQ 29.59375 -1.421875 25.265625 0.953125 \r\nQ 20.953125 3.328125 18.109375 8.203125 \r\nL 18.109375 0 \r\nL 9.078125 0 \r\nL 9.078125 75.984375 \r\nL 18.109375 75.984375 \r\nz\r\n\" id=\"DejaVuSans-98\"/>\r\n     </defs>\r\n     <use xlink:href=\"#DejaVuSans-108\"/>\r\n     <use x=\"27.783203\" xlink:href=\"#DejaVuSans-97\"/>\r\n     <use x=\"89.0625\" xlink:href=\"#DejaVuSans-98\"/>\r\n     <use x=\"152.539062\" xlink:href=\"#DejaVuSans-101\"/>\r\n     <use x=\"214.0625\" xlink:href=\"#DejaVuSans-108\"/>\r\n    </g>\r\n   </g>\r\n   <g id=\"patch_231\">\r\n    <path d=\"M 357.390625 178.8375 \r\nL 377.390625 178.8375 \r\nL 377.390625 171.8375 \r\nL 357.390625 171.8375 \r\nz\r\n\" style=\"fill:#1f77b4;fill-opacity:0.5;stroke:#000000;stroke-linejoin:miter;\"/>\r\n   </g>\r\n   <g id=\"text_17\">\r\n    <!-- Real -->\r\n    <g transform=\"translate(385.390625 178.8375)scale(0.1 -0.1)\">\r\n     <defs>\r\n      <path d=\"M 44.390625 34.1875 \r\nQ 47.5625 33.109375 50.5625 29.59375 \r\nQ 53.5625 26.078125 56.59375 19.921875 \r\nL 66.609375 0 \r\nL 56 0 \r\nL 46.6875 18.703125 \r\nQ 43.0625 26.03125 39.671875 28.421875 \r\nQ 36.28125 30.8125 30.421875 30.8125 \r\nL 19.671875 30.8125 \r\nL 19.671875 0 \r\nL 9.8125 0 \r\nL 9.8125 72.90625 \r\nL 32.078125 72.90625 \r\nQ 44.578125 72.90625 50.734375 67.671875 \r\nQ 56.890625 62.453125 56.890625 51.90625 \r\nQ 56.890625 45.015625 53.6875 40.46875 \r\nQ 50.484375 35.9375 44.390625 34.1875 \r\nz\r\nM 19.671875 64.796875 \r\nL 19.671875 38.921875 \r\nL 32.078125 38.921875 \r\nQ 39.203125 38.921875 42.84375 42.21875 \r\nQ 46.484375 45.515625 46.484375 51.90625 \r\nQ 46.484375 58.296875 42.84375 61.546875 \r\nQ 39.203125 64.796875 32.078125 64.796875 \r\nz\r\n\" id=\"DejaVuSans-82\"/>\r\n     </defs>\r\n     <use xlink:href=\"#DejaVuSans-82\"/>\r\n     <use x=\"64.982422\" xlink:href=\"#DejaVuSans-101\"/>\r\n     <use x=\"126.505859\" xlink:href=\"#DejaVuSans-97\"/>\r\n     <use x=\"187.785156\" xlink:href=\"#DejaVuSans-108\"/>\r\n    </g>\r\n   </g>\r\n   <g id=\"patch_232\">\r\n    <path d=\"M 357.390625 193.515625 \r\nL 377.390625 193.515625 \r\nL 377.390625 186.515625 \r\nL 357.390625 186.515625 \r\nz\r\n\" style=\"fill:#ff7f0e;fill-opacity:0.5;stroke:#000000;stroke-linejoin:miter;\"/>\r\n   </g>\r\n   <g id=\"text_18\">\r\n    <!-- Synthetic -->\r\n    <g transform=\"translate(385.390625 193.515625)scale(0.1 -0.1)\">\r\n     <defs>\r\n      <path d=\"M 53.515625 70.515625 \r\nL 53.515625 60.890625 \r\nQ 47.90625 63.578125 42.921875 64.890625 \r\nQ 37.9375 66.21875 33.296875 66.21875 \r\nQ 25.25 66.21875 20.875 63.09375 \r\nQ 16.5 59.96875 16.5 54.203125 \r\nQ 16.5 49.359375 19.40625 46.890625 \r\nQ 22.3125 44.4375 30.421875 42.921875 \r\nL 36.375 41.703125 \r\nQ 47.40625 39.59375 52.65625 34.296875 \r\nQ 57.90625 29 57.90625 20.125 \r\nQ 57.90625 9.515625 50.796875 4.046875 \r\nQ 43.703125 -1.421875 29.984375 -1.421875 \r\nQ 24.8125 -1.421875 18.96875 -0.25 \r\nQ 13.140625 0.921875 6.890625 3.21875 \r\nL 6.890625 13.375 \r\nQ 12.890625 10.015625 18.65625 8.296875 \r\nQ 24.421875 6.59375 29.984375 6.59375 \r\nQ 38.421875 6.59375 43.015625 9.90625 \r\nQ 47.609375 13.234375 47.609375 19.390625 \r\nQ 47.609375 24.75 44.3125 27.78125 \r\nQ 41.015625 30.8125 33.5 32.328125 \r\nL 27.484375 33.5 \r\nQ 16.453125 35.6875 11.515625 40.375 \r\nQ 6.59375 45.0625 6.59375 53.421875 \r\nQ 6.59375 63.09375 13.40625 68.65625 \r\nQ 20.21875 74.21875 32.171875 74.21875 \r\nQ 37.3125 74.21875 42.625 73.28125 \r\nQ 47.953125 72.359375 53.515625 70.515625 \r\nz\r\n\" id=\"DejaVuSans-83\"/>\r\n      <path d=\"M 32.171875 -5.078125 \r\nQ 28.375 -14.84375 24.75 -17.8125 \r\nQ 21.140625 -20.796875 15.09375 -20.796875 \r\nL 7.90625 -20.796875 \r\nL 7.90625 -13.28125 \r\nL 13.1875 -13.28125 \r\nQ 16.890625 -13.28125 18.9375 -11.515625 \r\nQ 21 -9.765625 23.484375 -3.21875 \r\nL 25.09375 0.875 \r\nL 2.984375 54.6875 \r\nL 12.5 54.6875 \r\nL 29.59375 11.921875 \r\nL 46.6875 54.6875 \r\nL 56.203125 54.6875 \r\nz\r\n\" id=\"DejaVuSans-121\"/>\r\n      <path d=\"M 54.890625 33.015625 \r\nL 54.890625 0 \r\nL 45.90625 0 \r\nL 45.90625 32.71875 \r\nQ 45.90625 40.484375 42.875 44.328125 \r\nQ 39.84375 48.1875 33.796875 48.1875 \r\nQ 26.515625 48.1875 22.3125 43.546875 \r\nQ 18.109375 38.921875 18.109375 30.90625 \r\nL 18.109375 0 \r\nL 9.078125 0 \r\nL 9.078125 75.984375 \r\nL 18.109375 75.984375 \r\nL 18.109375 46.1875 \r\nQ 21.34375 51.125 25.703125 53.5625 \r\nQ 30.078125 56 35.796875 56 \r\nQ 45.21875 56 50.046875 50.171875 \r\nQ 54.890625 44.34375 54.890625 33.015625 \r\nz\r\n\" id=\"DejaVuSans-104\"/>\r\n      <path d=\"M 9.421875 54.6875 \r\nL 18.40625 54.6875 \r\nL 18.40625 0 \r\nL 9.421875 0 \r\nz\r\nM 9.421875 75.984375 \r\nL 18.40625 75.984375 \r\nL 18.40625 64.59375 \r\nL 9.421875 64.59375 \r\nz\r\n\" id=\"DejaVuSans-105\"/>\r\n      <path d=\"M 48.78125 52.59375 \r\nL 48.78125 44.1875 \r\nQ 44.96875 46.296875 41.140625 47.34375 \r\nQ 37.3125 48.390625 33.40625 48.390625 \r\nQ 24.65625 48.390625 19.8125 42.84375 \r\nQ 14.984375 37.3125 14.984375 27.296875 \r\nQ 14.984375 17.28125 19.8125 11.734375 \r\nQ 24.65625 6.203125 33.40625 6.203125 \r\nQ 37.3125 6.203125 41.140625 7.25 \r\nQ 44.96875 8.296875 48.78125 10.40625 \r\nL 48.78125 2.09375 \r\nQ 45.015625 0.34375 40.984375 -0.53125 \r\nQ 36.96875 -1.421875 32.421875 -1.421875 \r\nQ 20.0625 -1.421875 12.78125 6.34375 \r\nQ 5.515625 14.109375 5.515625 27.296875 \r\nQ 5.515625 40.671875 12.859375 48.328125 \r\nQ 20.21875 56 33.015625 56 \r\nQ 37.15625 56 41.109375 55.140625 \r\nQ 45.0625 54.296875 48.78125 52.59375 \r\nz\r\n\" id=\"DejaVuSans-99\"/>\r\n     </defs>\r\n     <use xlink:href=\"#DejaVuSans-83\"/>\r\n     <use x=\"63.476562\" xlink:href=\"#DejaVuSans-121\"/>\r\n     <use x=\"122.65625\" xlink:href=\"#DejaVuSans-110\"/>\r\n     <use x=\"186.035156\" xlink:href=\"#DejaVuSans-116\"/>\r\n     <use x=\"225.244141\" xlink:href=\"#DejaVuSans-104\"/>\r\n     <use x=\"288.623047\" xlink:href=\"#DejaVuSans-101\"/>\r\n     <use x=\"350.146484\" xlink:href=\"#DejaVuSans-116\"/>\r\n     <use x=\"389.355469\" xlink:href=\"#DejaVuSans-105\"/>\r\n     <use x=\"417.138672\" xlink:href=\"#DejaVuSans-99\"/>\r\n    </g>\r\n   </g>\r\n  </g>\r\n </g>\r\n <defs>\r\n  <clipPath id=\"pa21aba8eca\">\r\n   <rect height=\"307.4\" width=\"287.71875\" x=\"53.328125\" y=\"7.2\"/>\r\n  </clipPath>\r\n </defs>\r\n</svg>\r\n",
      "image/png": "[encoded data removed]"
     },
     "metadata": {
      "needs_background": "light"
     }
    }
   ],
   "source": [
    "sns.displot(data=all_data, x='age', hue='label')"
   ]
  },
  {
   "cell_type": "code",
   "execution_count": 56,
   "metadata": {},
   "outputs": [
    {
     "output_type": "execute_result",
     "data": {
      "text/plain": [
       "(array([ 0,  5, 10, 15, 20, 25]),\n",
       " [Text(0, 0, '0'),\n",
       "  Text(5, 0, '5'),\n",
       "  Text(10, 0, '10'),\n",
       "  Text(15, 0, '15'),\n",
       "  Text(20, 0, '20'),\n",
       "  Text(25, 0, '25')])"
      ]
     },
     "metadata": {},
     "execution_count": 56
    },
    {
     "output_type": "display_data",
     "data": {
      "text/plain": "<Figure size 443.125x360 with 1 Axes>",
      "image/svg+xml": "<?xml version=\"1.0\" encoding=\"utf-8\" standalone=\"no\"?>\r\n<!DOCTYPE svg PUBLIC \"-//W3C//DTD SVG 1.1//EN\"\r\n  \"http://www.w3.org/Graphics/SVG/1.1/DTD/svg11.dtd\">\r\n<!-- Created with matplotlib (https://matplotlib.org/) -->\r\n<svg height=\"355.203125pt\" version=\"1.1\" viewBox=\"0 0 432.305397 355.203125\" width=\"432.305397pt\" xmlns=\"http://www.w3.org/2000/svg\" xmlns:xlink=\"http://www.w3.org/1999/xlink\">\r\n <metadata>\r\n  <rdf:RDF xmlns:cc=\"http://creativecommons.org/ns#\" xmlns:dc=\"http://purl.org/dc/elements/1.1/\" xmlns:rdf=\"http://www.w3.org/1999/02/22-rdf-syntax-ns#\">\r\n   <cc:Work>\r\n    <dc:type rdf:resource=\"http://purl.org/dc/dcmitype/StillImage\"/>\r\n    <dc:date>2021-05-27T17:56:14.825919</dc:date>\r\n    <dc:format>image/svg+xml</dc:format>\r\n    <dc:creator>\r\n     <cc:Agent>\r\n      <dc:title>Matplotlib v3.3.4, https://matplotlib.org/</dc:title>\r\n     </cc:Agent>\r\n    </dc:creator>\r\n   </cc:Work>\r\n  </rdf:RDF>\r\n </metadata>\r\n <defs>\r\n  <style type=\"text/css\">*{stroke-linecap:butt;stroke-linejoin:round;}</style>\r\n </defs>\r\n <g id=\"figure_1\">\r\n  <g id=\"patch_1\">\r\n   <path d=\"M 0 355.203125 \r\nL 432.305397 355.203125 \r\nL 432.305397 0 \r\nL 0 0 \r\nz\r\n\" style=\"fill:none;\"/>\r\n  </g>\r\n  <g id=\"axes_1\">\r\n   <g id=\"patch_2\">\r\n    <path d=\"M 53.328125 314.6 \r\nL 245.422618 314.6 \r\nL 245.422618 7.2 \r\nL 53.328125 7.2 \r\nz\r\n\" style=\"fill:#ffffff;\"/>\r\n   </g>\r\n   <g id=\"patch_3\">\r\n    <path clip-path=\"url(#p9f4eef2abd)\" d=\"M 62.059693 314.6 \r\nL 68.776284 314.6 \r\nL 68.776284 198.774119 \r\nL 62.059693 198.774119 \r\nz\r\n\" style=\"fill:#ff7f0e;fill-opacity:0.5;stroke:#000000;stroke-linejoin:miter;\"/>\r\n   </g>\r\n   <g id=\"patch_4\">\r\n    <path clip-path=\"url(#p9f4eef2abd)\" d=\"M 68.776284 314.6 \r\nL 75.492874 314.6 \r\nL 75.492874 205.531839 \r\nL 68.776284 205.531839 \r\nz\r\n\" style=\"fill:#ff7f0e;fill-opacity:0.5;stroke:#000000;stroke-linejoin:miter;\"/>\r\n   </g>\r\n   <g id=\"patch_5\">\r\n    <path clip-path=\"url(#p9f4eef2abd)\" d=\"M 75.492874 314.6 \r\nL 82.209465 314.6 \r\nL 82.209465 234.306651 \r\nL 75.492874 234.306651 \r\nz\r\n\" style=\"fill:#ff7f0e;fill-opacity:0.5;stroke:#000000;stroke-linejoin:miter;\"/>\r\n   </g>\r\n   <g id=\"patch_6\">\r\n    <path clip-path=\"url(#p9f4eef2abd)\" d=\"M 82.209465 314.6 \r\nL 88.926056 314.6 \r\nL 88.926056 285.098552 \r\nL 82.209465 285.098552 \r\nz\r\n\" style=\"fill:#ff7f0e;fill-opacity:0.5;stroke:#000000;stroke-linejoin:miter;\"/>\r\n   </g>\r\n   <g id=\"patch_7\">\r\n    <path clip-path=\"url(#p9f4eef2abd)\" d=\"M 88.926056 314.6 \r\nL 95.642646 314.6 \r\nL 95.642646 116.228196 \r\nL 88.926056 116.228196 \r\nz\r\n\" style=\"fill:#ff7f0e;fill-opacity:0.5;stroke:#000000;stroke-linejoin:miter;\"/>\r\n   </g>\r\n   <g id=\"patch_8\">\r\n    <path clip-path=\"url(#p9f4eef2abd)\" d=\"M 95.642646 314.6 \r\nL 102.359237 314.6 \r\nL 102.359237 151.034091 \r\nL 95.642646 151.034091 \r\nz\r\n\" style=\"fill:#ff7f0e;fill-opacity:0.5;stroke:#000000;stroke-linejoin:miter;\"/>\r\n   </g>\r\n   <g id=\"patch_9\">\r\n    <path clip-path=\"url(#p9f4eef2abd)\" d=\"M 102.359237 314.6 \r\nL 109.075828 314.6 \r\nL 109.075828 273.399702 \r\nL 102.359237 273.399702 \r\nz\r\n\" style=\"fill:#ff7f0e;fill-opacity:0.5;stroke:#000000;stroke-linejoin:miter;\"/>\r\n   </g>\r\n   <g id=\"patch_10\">\r\n    <path clip-path=\"url(#p9f4eef2abd)\" d=\"M 109.075828 314.6 \r\nL 115.792418 314.6 \r\nL 115.792418 227.54893 \r\nL 109.075828 227.54893 \r\nz\r\n\" style=\"fill:#ff7f0e;fill-opacity:0.5;stroke:#000000;stroke-linejoin:miter;\"/>\r\n   </g>\r\n   <g id=\"patch_11\">\r\n    <path clip-path=\"url(#p9f4eef2abd)\" d=\"M 115.792418 314.6 \r\nL 122.509009 314.6 \r\nL 122.509009 100.096862 \r\nL 115.792418 100.096862 \r\nz\r\n\" style=\"fill:#ff7f0e;fill-opacity:0.5;stroke:#000000;stroke-linejoin:miter;\"/>\r\n   </g>\r\n   <g id=\"patch_12\">\r\n    <path clip-path=\"url(#p9f4eef2abd)\" d=\"M 122.509009 314.6 \r\nL 129.2256 314.6 \r\nL 129.2256 22.92805 \r\nL 122.509009 22.92805 \r\nz\r\n\" style=\"fill:#ff7f0e;fill-opacity:0.5;stroke:#000000;stroke-linejoin:miter;\"/>\r\n   </g>\r\n   <g id=\"patch_13\">\r\n    <path clip-path=\"url(#p9f4eef2abd)\" d=\"M 129.2256 314.6 \r\nL 135.94219 314.6 \r\nL 135.94219 31.938345 \r\nL 129.2256 31.938345 \r\nz\r\n\" style=\"fill:#ff7f0e;fill-opacity:0.5;stroke:#000000;stroke-linejoin:miter;\"/>\r\n   </g>\r\n   <g id=\"patch_14\">\r\n    <path clip-path=\"url(#p9f4eef2abd)\" d=\"M 135.94219 314.6 \r\nL 142.658781 314.6 \r\nL 142.658781 289.167717 \r\nL 135.94219 289.167717 \r\nz\r\n\" style=\"fill:#ff7f0e;fill-opacity:0.5;stroke:#000000;stroke-linejoin:miter;\"/>\r\n   </g>\r\n   <g id=\"patch_15\">\r\n    <path clip-path=\"url(#p9f4eef2abd)\" d=\"M 142.658781 314.6 \r\nL 149.375372 314.6 \r\nL 149.375372 129.307655 \r\nL 142.658781 129.307655 \r\nz\r\n\" style=\"fill:#ff7f0e;fill-opacity:0.5;stroke:#000000;stroke-linejoin:miter;\"/>\r\n   </g>\r\n   <g id=\"patch_16\">\r\n    <path clip-path=\"url(#p9f4eef2abd)\" d=\"M 149.375372 314.6 \r\nL 156.091962 314.6 \r\nL 156.091962 157.791812 \r\nL 149.375372 157.791812 \r\nz\r\n\" style=\"fill:#ff7f0e;fill-opacity:0.5;stroke:#000000;stroke-linejoin:miter;\"/>\r\n   </g>\r\n   <g id=\"patch_17\">\r\n    <path clip-path=\"url(#p9f4eef2abd)\" d=\"M 156.091962 314.6 \r\nL 162.808553 314.6 \r\nL 162.808553 256.033086 \r\nL 156.091962 256.033086 \r\nz\r\n\" style=\"fill:#ff7f0e;fill-opacity:0.5;stroke:#000000;stroke-linejoin:miter;\"/>\r\n   </g>\r\n   <g id=\"patch_18\">\r\n    <path clip-path=\"url(#p9f4eef2abd)\" d=\"M 162.808553 314.6 \r\nL 169.525143 314.6 \r\nL 169.525143 252.254576 \r\nL 162.808553 252.254576 \r\nz\r\n\" style=\"fill:#ff7f0e;fill-opacity:0.5;stroke:#000000;stroke-linejoin:miter;\"/>\r\n   </g>\r\n   <g id=\"patch_19\">\r\n    <path clip-path=\"url(#p9f4eef2abd)\" d=\"M 169.525143 314.6 \r\nL 176.241734 314.6 \r\nL 176.241734 279.358123 \r\nL 169.525143 279.358123 \r\nz\r\n\" style=\"fill:#ff7f0e;fill-opacity:0.5;stroke:#000000;stroke-linejoin:miter;\"/>\r\n   </g>\r\n   <g id=\"patch_20\">\r\n    <path clip-path=\"url(#p9f4eef2abd)\" d=\"M 176.241734 314.6 \r\nL 182.958325 314.6 \r\nL 182.958325 251.891257 \r\nL 176.241734 251.891257 \r\nz\r\n\" style=\"fill:#ff7f0e;fill-opacity:0.5;stroke:#000000;stroke-linejoin:miter;\"/>\r\n   </g>\r\n   <g id=\"patch_21\">\r\n    <path clip-path=\"url(#p9f4eef2abd)\" d=\"M 182.958325 314.6 \r\nL 189.674915 314.6 \r\nL 189.674915 274.634984 \r\nL 182.958325 274.634984 \r\nz\r\n\" style=\"fill:#ff7f0e;fill-opacity:0.5;stroke:#000000;stroke-linejoin:miter;\"/>\r\n   </g>\r\n   <g id=\"patch_22\">\r\n    <path clip-path=\"url(#p9f4eef2abd)\" d=\"M 189.674915 314.6 \r\nL 196.391506 314.6 \r\nL 196.391506 214.396806 \r\nL 189.674915 214.396806 \r\nz\r\n\" style=\"fill:#ff7f0e;fill-opacity:0.5;stroke:#000000;stroke-linejoin:miter;\"/>\r\n   </g>\r\n   <g id=\"patch_23\">\r\n    <path clip-path=\"url(#p9f4eef2abd)\" d=\"M 196.391506 314.6 \r\nL 203.108097 314.6 \r\nL 203.108097 303.918441 \r\nL 196.391506 303.918441 \r\nz\r\n\" style=\"fill:#ff7f0e;fill-opacity:0.5;stroke:#000000;stroke-linejoin:miter;\"/>\r\n   </g>\r\n   <g id=\"patch_24\">\r\n    <path clip-path=\"url(#p9f4eef2abd)\" d=\"M 203.108097 314.6 \r\nL 209.824687 314.6 \r\nL 209.824687 299.122639 \r\nL 203.108097 299.122639 \r\nz\r\n\" style=\"fill:#ff7f0e;fill-opacity:0.5;stroke:#000000;stroke-linejoin:miter;\"/>\r\n   </g>\r\n   <g id=\"patch_25\">\r\n    <path clip-path=\"url(#p9f4eef2abd)\" d=\"M 209.824687 314.6 \r\nL 216.541278 314.6 \r\nL 216.541278 301.157222 \r\nL 209.824687 301.157222 \r\nz\r\n\" style=\"fill:#ff7f0e;fill-opacity:0.5;stroke:#000000;stroke-linejoin:miter;\"/>\r\n   </g>\r\n   <g id=\"patch_26\">\r\n    <path clip-path=\"url(#p9f4eef2abd)\" d=\"M 216.541278 314.6 \r\nL 223.257869 314.6 \r\nL 223.257869 309.077561 \r\nL 216.541278 309.077561 \r\nz\r\n\" style=\"fill:#ff7f0e;fill-opacity:0.5;stroke:#000000;stroke-linejoin:miter;\"/>\r\n   </g>\r\n   <g id=\"patch_27\">\r\n    <path clip-path=\"url(#p9f4eef2abd)\" d=\"M 223.257869 314.6 \r\nL 229.974459 314.6 \r\nL 229.974459 293.091555 \r\nL 223.257869 293.091555 \r\nz\r\n\" style=\"fill:#ff7f0e;fill-opacity:0.5;stroke:#000000;stroke-linejoin:miter;\"/>\r\n   </g>\r\n   <g id=\"patch_28\">\r\n    <path clip-path=\"url(#p9f4eef2abd)\" d=\"M 229.974459 314.6 \r\nL 236.69105 314.6 \r\nL 236.69105 302.465168 \r\nL 229.974459 302.465168 \r\nz\r\n\" style=\"fill:#ff7f0e;fill-opacity:0.5;stroke:#000000;stroke-linejoin:miter;\"/>\r\n   </g>\r\n   <g id=\"patch_29\">\r\n    <path clip-path=\"url(#p9f4eef2abd)\" d=\"M 62.059693 314.6 \r\nL 68.776284 314.6 \r\nL 68.776284 204.223893 \r\nL 62.059693 204.223893 \r\nz\r\n\" style=\"fill:#1f77b4;fill-opacity:0.5;stroke:#000000;stroke-linejoin:miter;\"/>\r\n   </g>\r\n   <g id=\"patch_30\">\r\n    <path clip-path=\"url(#p9f4eef2abd)\" d=\"M 68.776284 314.6 \r\nL 75.492874 314.6 \r\nL 75.492874 204.078566 \r\nL 68.776284 204.078566 \r\nz\r\n\" style=\"fill:#1f77b4;fill-opacity:0.5;stroke:#000000;stroke-linejoin:miter;\"/>\r\n   </g>\r\n   <g id=\"patch_31\">\r\n    <path clip-path=\"url(#p9f4eef2abd)\" d=\"M 75.492874 314.6 \r\nL 82.209465 314.6 \r\nL 82.209465 238.375816 \r\nL 75.492874 238.375816 \r\nz\r\n\" style=\"fill:#1f77b4;fill-opacity:0.5;stroke:#000000;stroke-linejoin:miter;\"/>\r\n   </g>\r\n   <g id=\"patch_32\">\r\n    <path clip-path=\"url(#p9f4eef2abd)\" d=\"M 82.209465 314.6 \r\nL 88.926056 314.6 \r\nL 88.926056 287.205798 \r\nL 82.209465 287.205798 \r\nz\r\n\" style=\"fill:#1f77b4;fill-opacity:0.5;stroke:#000000;stroke-linejoin:miter;\"/>\r\n   </g>\r\n   <g id=\"patch_33\">\r\n    <path clip-path=\"url(#p9f4eef2abd)\" d=\"M 88.926056 314.6 \r\nL 95.642646 314.6 \r\nL 95.642646 118.117451 \r\nL 88.926056 118.117451 \r\nz\r\n\" style=\"fill:#1f77b4;fill-opacity:0.5;stroke:#000000;stroke-linejoin:miter;\"/>\r\n   </g>\r\n   <g id=\"patch_34\">\r\n    <path clip-path=\"url(#p9f4eef2abd)\" d=\"M 95.642646 314.6 \r\nL 102.359237 314.6 \r\nL 102.359237 149.726145 \r\nL 95.642646 149.726145 \r\nz\r\n\" style=\"fill:#1f77b4;fill-opacity:0.5;stroke:#000000;stroke-linejoin:miter;\"/>\r\n   </g>\r\n   <g id=\"patch_35\">\r\n    <path clip-path=\"url(#p9f4eef2abd)\" d=\"M 102.359237 314.6 \r\nL 109.075828 314.6 \r\nL 109.075828 272.527738 \r\nL 102.359237 272.527738 \r\nz\r\n\" style=\"fill:#1f77b4;fill-opacity:0.5;stroke:#000000;stroke-linejoin:miter;\"/>\r\n   </g>\r\n   <g id=\"patch_36\">\r\n    <path clip-path=\"url(#p9f4eef2abd)\" d=\"M 109.075828 314.6 \r\nL 115.792418 314.6 \r\nL 115.792418 229.801503 \r\nL 109.075828 229.801503 \r\nz\r\n\" style=\"fill:#1f77b4;fill-opacity:0.5;stroke:#000000;stroke-linejoin:miter;\"/>\r\n   </g>\r\n   <g id=\"patch_37\">\r\n    <path clip-path=\"url(#p9f4eef2abd)\" d=\"M 115.792418 314.6 \r\nL 122.509009 314.6 \r\nL 122.509009 101.04149 \r\nL 115.792418 101.04149 \r\nz\r\n\" style=\"fill:#1f77b4;fill-opacity:0.5;stroke:#000000;stroke-linejoin:miter;\"/>\r\n   </g>\r\n   <g id=\"patch_38\">\r\n    <path clip-path=\"url(#p9f4eef2abd)\" d=\"M 122.509009 314.6 \r\nL 129.2256 314.6 \r\nL 129.2256 21.838095 \r\nL 122.509009 21.838095 \r\nz\r\n\" style=\"fill:#1f77b4;fill-opacity:0.5;stroke:#000000;stroke-linejoin:miter;\"/>\r\n   </g>\r\n   <g id=\"patch_39\">\r\n    <path clip-path=\"url(#p9f4eef2abd)\" d=\"M 129.2256 314.6 \r\nL 135.94219 314.6 \r\nL 135.94219 31.357035 \r\nL 129.2256 31.357035 \r\nz\r\n\" style=\"fill:#1f77b4;fill-opacity:0.5;stroke:#000000;stroke-linejoin:miter;\"/>\r\n   </g>\r\n   <g id=\"patch_40\">\r\n    <path clip-path=\"url(#p9f4eef2abd)\" d=\"M 135.94219 314.6 \r\nL 142.658781 314.6 \r\nL 142.658781 290.693654 \r\nL 135.94219 290.693654 \r\nz\r\n\" style=\"fill:#1f77b4;fill-opacity:0.5;stroke:#000000;stroke-linejoin:miter;\"/>\r\n   </g>\r\n   <g id=\"patch_41\">\r\n    <path clip-path=\"url(#p9f4eef2abd)\" d=\"M 142.658781 314.6 \r\nL 149.375372 314.6 \r\nL 149.375372 121.823298 \r\nL 142.658781 121.823298 \r\nz\r\n\" style=\"fill:#1f77b4;fill-opacity:0.5;stroke:#000000;stroke-linejoin:miter;\"/>\r\n   </g>\r\n   <g id=\"patch_42\">\r\n    <path clip-path=\"url(#p9f4eef2abd)\" d=\"M 149.375372 314.6 \r\nL 156.091962 314.6 \r\nL 156.091962 156.629193 \r\nL 149.375372 156.629193 \r\nz\r\n\" style=\"fill:#1f77b4;fill-opacity:0.5;stroke:#000000;stroke-linejoin:miter;\"/>\r\n   </g>\r\n   <g id=\"patch_43\">\r\n    <path clip-path=\"url(#p9f4eef2abd)\" d=\"M 156.091962 314.6 \r\nL 162.808553 314.6 \r\nL 162.808553 254.071167 \r\nL 156.091962 254.071167 \r\nz\r\n\" style=\"fill:#1f77b4;fill-opacity:0.5;stroke:#000000;stroke-linejoin:miter;\"/>\r\n   </g>\r\n   <g id=\"patch_44\">\r\n    <path clip-path=\"url(#p9f4eef2abd)\" d=\"M 162.808553 314.6 \r\nL 169.525143 314.6 \r\nL 169.525143 251.019293 \r\nL 162.808553 251.019293 \r\nz\r\n\" style=\"fill:#1f77b4;fill-opacity:0.5;stroke:#000000;stroke-linejoin:miter;\"/>\r\n   </g>\r\n   <g id=\"patch_45\">\r\n    <path clip-path=\"url(#p9f4eef2abd)\" d=\"M 169.525143 314.6 \r\nL 176.241734 314.6 \r\nL 176.241734 277.396204 \r\nL 169.525143 277.396204 \r\nz\r\n\" style=\"fill:#1f77b4;fill-opacity:0.5;stroke:#000000;stroke-linejoin:miter;\"/>\r\n   </g>\r\n   <g id=\"patch_46\">\r\n    <path clip-path=\"url(#p9f4eef2abd)\" d=\"M 176.241734 314.6 \r\nL 182.958325 314.6 \r\nL 182.958325 254.72514 \r\nL 176.241734 254.72514 \r\nz\r\n\" style=\"fill:#1f77b4;fill-opacity:0.5;stroke:#000000;stroke-linejoin:miter;\"/>\r\n   </g>\r\n   <g id=\"patch_47\">\r\n    <path clip-path=\"url(#p9f4eef2abd)\" d=\"M 182.958325 314.6 \r\nL 189.674915 314.6 \r\nL 189.674915 276.960222 \r\nL 182.958325 276.960222 \r\nz\r\n\" style=\"fill:#1f77b4;fill-opacity:0.5;stroke:#000000;stroke-linejoin:miter;\"/>\r\n   </g>\r\n   <g id=\"patch_48\">\r\n    <path clip-path=\"url(#p9f4eef2abd)\" d=\"M 189.674915 314.6 \r\nL 196.391506 314.6 \r\nL 196.391506 216.722044 \r\nL 189.674915 216.722044 \r\nz\r\n\" style=\"fill:#1f77b4;fill-opacity:0.5;stroke:#000000;stroke-linejoin:miter;\"/>\r\n   </g>\r\n   <g id=\"patch_49\">\r\n    <path clip-path=\"url(#p9f4eef2abd)\" d=\"M 196.391506 314.6 \r\nL 203.108097 314.6 \r\nL 203.108097 303.555123 \r\nL 196.391506 303.555123 \r\nz\r\n\" style=\"fill:#1f77b4;fill-opacity:0.5;stroke:#000000;stroke-linejoin:miter;\"/>\r\n   </g>\r\n   <g id=\"patch_50\">\r\n    <path clip-path=\"url(#p9f4eef2abd)\" d=\"M 203.108097 314.6 \r\nL 209.824687 314.6 \r\nL 209.824687 297.233384 \r\nL 203.108097 297.233384 \r\nz\r\n\" style=\"fill:#1f77b4;fill-opacity:0.5;stroke:#000000;stroke-linejoin:miter;\"/>\r\n   </g>\r\n   <g id=\"patch_51\">\r\n    <path clip-path=\"url(#p9f4eef2abd)\" d=\"M 209.824687 314.6 \r\nL 216.541278 314.6 \r\nL 216.541278 299.558621 \r\nL 209.824687 299.558621 \r\nz\r\n\" style=\"fill:#1f77b4;fill-opacity:0.5;stroke:#000000;stroke-linejoin:miter;\"/>\r\n   </g>\r\n   <g id=\"patch_52\">\r\n    <path clip-path=\"url(#p9f4eef2abd)\" d=\"M 216.541278 314.6 \r\nL 223.257869 314.6 \r\nL 223.257869 308.423589 \r\nL 216.541278 308.423589 \r\nz\r\n\" style=\"fill:#1f77b4;fill-opacity:0.5;stroke:#000000;stroke-linejoin:miter;\"/>\r\n   </g>\r\n   <g id=\"patch_53\">\r\n    <path clip-path=\"url(#p9f4eef2abd)\" d=\"M 223.257869 314.6 \r\nL 229.974459 314.6 \r\nL 229.974459 292.074264 \r\nL 223.257869 292.074264 \r\nz\r\n\" style=\"fill:#1f77b4;fill-opacity:0.5;stroke:#000000;stroke-linejoin:miter;\"/>\r\n   </g>\r\n   <g id=\"patch_54\">\r\n    <path clip-path=\"url(#p9f4eef2abd)\" d=\"M 229.974459 314.6 \r\nL 236.69105 314.6 \r\nL 236.69105 301.375213 \r\nL 229.974459 301.375213 \r\nz\r\n\" style=\"fill:#1f77b4;fill-opacity:0.5;stroke:#000000;stroke-linejoin:miter;\"/>\r\n   </g>\r\n   <g id=\"matplotlib.axis_1\">\r\n    <g id=\"xtick_1\">\r\n     <g id=\"line2d_1\">\r\n      <defs>\r\n       <path d=\"M 0 0 \r\nL 0 3.5 \r\n\" id=\"ma0e8c51750\" style=\"stroke:#000000;stroke-width:0.8;\"/>\r\n      </defs>\r\n      <g>\r\n       <use style=\"stroke:#000000;stroke-width:0.8;\" x=\"65.417988\" xlink:href=\"#ma0e8c51750\" y=\"314.6\"/>\r\n      </g>\r\n     </g>\r\n     <g id=\"text_1\">\r\n      <!-- 0 -->\r\n      <g transform=\"translate(68.177363 327.9625)rotate(-90)scale(0.1 -0.1)\">\r\n       <defs>\r\n        <path d=\"M 31.78125 66.40625 \r\nQ 24.171875 66.40625 20.328125 58.90625 \r\nQ 16.5 51.421875 16.5 36.375 \r\nQ 16.5 21.390625 20.328125 13.890625 \r\nQ 24.171875 6.390625 31.78125 6.390625 \r\nQ 39.453125 6.390625 43.28125 13.890625 \r\nQ 47.125 21.390625 47.125 36.375 \r\nQ 47.125 51.421875 43.28125 58.90625 \r\nQ 39.453125 66.40625 31.78125 66.40625 \r\nz\r\nM 31.78125 74.21875 \r\nQ 44.046875 74.21875 50.515625 64.515625 \r\nQ 56.984375 54.828125 56.984375 36.375 \r\nQ 56.984375 17.96875 50.515625 8.265625 \r\nQ 44.046875 -1.421875 31.78125 -1.421875 \r\nQ 19.53125 -1.421875 13.0625 8.265625 \r\nQ 6.59375 17.96875 6.59375 36.375 \r\nQ 6.59375 54.828125 13.0625 64.515625 \r\nQ 19.53125 74.21875 31.78125 74.21875 \r\nz\r\n\" id=\"DejaVuSans-48\"/>\r\n       </defs>\r\n       <use xlink:href=\"#DejaVuSans-48\"/>\r\n      </g>\r\n     </g>\r\n    </g>\r\n    <g id=\"xtick_2\">\r\n     <g id=\"line2d_2\">\r\n      <g>\r\n       <use style=\"stroke:#000000;stroke-width:0.8;\" x=\"99.000942\" xlink:href=\"#ma0e8c51750\" y=\"314.6\"/>\r\n      </g>\r\n     </g>\r\n     <g id=\"text_2\">\r\n      <!-- 5 -->\r\n      <g transform=\"translate(101.760317 327.9625)rotate(-90)scale(0.1 -0.1)\">\r\n       <defs>\r\n        <path d=\"M 10.796875 72.90625 \r\nL 49.515625 72.90625 \r\nL 49.515625 64.59375 \r\nL 19.828125 64.59375 \r\nL 19.828125 46.734375 \r\nQ 21.96875 47.46875 24.109375 47.828125 \r\nQ 26.265625 48.1875 28.421875 48.1875 \r\nQ 40.625 48.1875 47.75 41.5 \r\nQ 54.890625 34.8125 54.890625 23.390625 \r\nQ 54.890625 11.625 47.5625 5.09375 \r\nQ 40.234375 -1.421875 26.90625 -1.421875 \r\nQ 22.3125 -1.421875 17.546875 -0.640625 \r\nQ 12.796875 0.140625 7.71875 1.703125 \r\nL 7.71875 11.625 \r\nQ 12.109375 9.234375 16.796875 8.0625 \r\nQ 21.484375 6.890625 26.703125 6.890625 \r\nQ 35.15625 6.890625 40.078125 11.328125 \r\nQ 45.015625 15.765625 45.015625 23.390625 \r\nQ 45.015625 31 40.078125 35.4375 \r\nQ 35.15625 39.890625 26.703125 39.890625 \r\nQ 22.75 39.890625 18.8125 39.015625 \r\nQ 14.890625 38.140625 10.796875 36.28125 \r\nz\r\n\" id=\"DejaVuSans-53\"/>\r\n       </defs>\r\n       <use xlink:href=\"#DejaVuSans-53\"/>\r\n      </g>\r\n     </g>\r\n    </g>\r\n    <g id=\"xtick_3\">\r\n     <g id=\"line2d_3\">\r\n      <g>\r\n       <use style=\"stroke:#000000;stroke-width:0.8;\" x=\"132.583895\" xlink:href=\"#ma0e8c51750\" y=\"314.6\"/>\r\n      </g>\r\n     </g>\r\n     <g id=\"text_3\">\r\n      <!-- 10 -->\r\n      <g transform=\"translate(135.34327 334.325)rotate(-90)scale(0.1 -0.1)\">\r\n       <defs>\r\n        <path d=\"M 12.40625 8.296875 \r\nL 28.515625 8.296875 \r\nL 28.515625 63.921875 \r\nL 10.984375 60.40625 \r\nL 10.984375 69.390625 \r\nL 28.421875 72.90625 \r\nL 38.28125 72.90625 \r\nL 38.28125 8.296875 \r\nL 54.390625 8.296875 \r\nL 54.390625 0 \r\nL 12.40625 0 \r\nz\r\n\" id=\"DejaVuSans-49\"/>\r\n       </defs>\r\n       <use xlink:href=\"#DejaVuSans-49\"/>\r\n       <use x=\"63.623047\" xlink:href=\"#DejaVuSans-48\"/>\r\n      </g>\r\n     </g>\r\n    </g>\r\n    <g id=\"xtick_4\">\r\n     <g id=\"line2d_4\">\r\n      <g>\r\n       <use style=\"stroke:#000000;stroke-width:0.8;\" x=\"166.166848\" xlink:href=\"#ma0e8c51750\" y=\"314.6\"/>\r\n      </g>\r\n     </g>\r\n     <g id=\"text_4\">\r\n      <!-- 15 -->\r\n      <g transform=\"translate(168.926223 334.325)rotate(-90)scale(0.1 -0.1)\">\r\n       <use xlink:href=\"#DejaVuSans-49\"/>\r\n       <use x=\"63.623047\" xlink:href=\"#DejaVuSans-53\"/>\r\n      </g>\r\n     </g>\r\n    </g>\r\n    <g id=\"xtick_5\">\r\n     <g id=\"line2d_5\">\r\n      <g>\r\n       <use style=\"stroke:#000000;stroke-width:0.8;\" x=\"199.749801\" xlink:href=\"#ma0e8c51750\" y=\"314.6\"/>\r\n      </g>\r\n     </g>\r\n     <g id=\"text_5\">\r\n      <!-- 20 -->\r\n      <g transform=\"translate(202.509176 334.325)rotate(-90)scale(0.1 -0.1)\">\r\n       <defs>\r\n        <path d=\"M 19.1875 8.296875 \r\nL 53.609375 8.296875 \r\nL 53.609375 0 \r\nL 7.328125 0 \r\nL 7.328125 8.296875 \r\nQ 12.9375 14.109375 22.625 23.890625 \r\nQ 32.328125 33.6875 34.8125 36.53125 \r\nQ 39.546875 41.84375 41.421875 45.53125 \r\nQ 43.3125 49.21875 43.3125 52.78125 \r\nQ 43.3125 58.59375 39.234375 62.25 \r\nQ 35.15625 65.921875 28.609375 65.921875 \r\nQ 23.96875 65.921875 18.8125 64.3125 \r\nQ 13.671875 62.703125 7.8125 59.421875 \r\nL 7.8125 69.390625 \r\nQ 13.765625 71.78125 18.9375 73 \r\nQ 24.125 74.21875 28.421875 74.21875 \r\nQ 39.75 74.21875 46.484375 68.546875 \r\nQ 53.21875 62.890625 53.21875 53.421875 \r\nQ 53.21875 48.921875 51.53125 44.890625 \r\nQ 49.859375 40.875 45.40625 35.40625 \r\nQ 44.1875 33.984375 37.640625 27.21875 \r\nQ 31.109375 20.453125 19.1875 8.296875 \r\nz\r\n\" id=\"DejaVuSans-50\"/>\r\n       </defs>\r\n       <use xlink:href=\"#DejaVuSans-50\"/>\r\n       <use x=\"63.623047\" xlink:href=\"#DejaVuSans-48\"/>\r\n      </g>\r\n     </g>\r\n    </g>\r\n    <g id=\"xtick_6\">\r\n     <g id=\"line2d_6\">\r\n      <g>\r\n       <use style=\"stroke:#000000;stroke-width:0.8;\" x=\"233.332755\" xlink:href=\"#ma0e8c51750\" y=\"314.6\"/>\r\n      </g>\r\n     </g>\r\n     <g id=\"text_6\">\r\n      <!-- 25 -->\r\n      <g transform=\"translate(236.09213 334.325)rotate(-90)scale(0.1 -0.1)\">\r\n       <use xlink:href=\"#DejaVuSans-50\"/>\r\n       <use x=\"63.623047\" xlink:href=\"#DejaVuSans-53\"/>\r\n      </g>\r\n     </g>\r\n    </g>\r\n    <g id=\"text_7\">\r\n     <!-- top1 -->\r\n     <g transform=\"translate(138.000372 345.923437)scale(0.1 -0.1)\">\r\n      <defs>\r\n       <path d=\"M 18.3125 70.21875 \r\nL 18.3125 54.6875 \r\nL 36.8125 54.6875 \r\nL 36.8125 47.703125 \r\nL 18.3125 47.703125 \r\nL 18.3125 18.015625 \r\nQ 18.3125 11.328125 20.140625 9.421875 \r\nQ 21.96875 7.515625 27.59375 7.515625 \r\nL 36.8125 7.515625 \r\nL 36.8125 0 \r\nL 27.59375 0 \r\nQ 17.1875 0 13.234375 3.875 \r\nQ 9.28125 7.765625 9.28125 18.015625 \r\nL 9.28125 47.703125 \r\nL 2.6875 47.703125 \r\nL 2.6875 54.6875 \r\nL 9.28125 54.6875 \r\nL 9.28125 70.21875 \r\nz\r\n\" id=\"DejaVuSans-116\"/>\r\n       <path d=\"M 30.609375 48.390625 \r\nQ 23.390625 48.390625 19.1875 42.75 \r\nQ 14.984375 37.109375 14.984375 27.296875 \r\nQ 14.984375 17.484375 19.15625 11.84375 \r\nQ 23.34375 6.203125 30.609375 6.203125 \r\nQ 37.796875 6.203125 41.984375 11.859375 \r\nQ 46.1875 17.53125 46.1875 27.296875 \r\nQ 46.1875 37.015625 41.984375 42.703125 \r\nQ 37.796875 48.390625 30.609375 48.390625 \r\nz\r\nM 30.609375 56 \r\nQ 42.328125 56 49.015625 48.375 \r\nQ 55.71875 40.765625 55.71875 27.296875 \r\nQ 55.71875 13.875 49.015625 6.21875 \r\nQ 42.328125 -1.421875 30.609375 -1.421875 \r\nQ 18.84375 -1.421875 12.171875 6.21875 \r\nQ 5.515625 13.875 5.515625 27.296875 \r\nQ 5.515625 40.765625 12.171875 48.375 \r\nQ 18.84375 56 30.609375 56 \r\nz\r\n\" id=\"DejaVuSans-111\"/>\r\n       <path d=\"M 18.109375 8.203125 \r\nL 18.109375 -20.796875 \r\nL 9.078125 -20.796875 \r\nL 9.078125 54.6875 \r\nL 18.109375 54.6875 \r\nL 18.109375 46.390625 \r\nQ 20.953125 51.265625 25.265625 53.625 \r\nQ 29.59375 56 35.59375 56 \r\nQ 45.5625 56 51.78125 48.09375 \r\nQ 58.015625 40.1875 58.015625 27.296875 \r\nQ 58.015625 14.40625 51.78125 6.484375 \r\nQ 45.5625 -1.421875 35.59375 -1.421875 \r\nQ 29.59375 -1.421875 25.265625 0.953125 \r\nQ 20.953125 3.328125 18.109375 8.203125 \r\nz\r\nM 48.6875 27.296875 \r\nQ 48.6875 37.203125 44.609375 42.84375 \r\nQ 40.53125 48.484375 33.40625 48.484375 \r\nQ 26.265625 48.484375 22.1875 42.84375 \r\nQ 18.109375 37.203125 18.109375 27.296875 \r\nQ 18.109375 17.390625 22.1875 11.75 \r\nQ 26.265625 6.109375 33.40625 6.109375 \r\nQ 40.53125 6.109375 44.609375 11.75 \r\nQ 48.6875 17.390625 48.6875 27.296875 \r\nz\r\n\" id=\"DejaVuSans-112\"/>\r\n      </defs>\r\n      <use xlink:href=\"#DejaVuSans-116\"/>\r\n      <use x=\"39.208984\" xlink:href=\"#DejaVuSans-111\"/>\r\n      <use x=\"100.390625\" xlink:href=\"#DejaVuSans-112\"/>\r\n      <use x=\"163.867188\" xlink:href=\"#DejaVuSans-49\"/>\r\n     </g>\r\n    </g>\r\n   </g>\r\n   <g id=\"matplotlib.axis_2\">\r\n    <g id=\"ytick_1\">\r\n     <g id=\"line2d_7\">\r\n      <defs>\r\n       <path d=\"M 0 0 \r\nL -3.5 0 \r\n\" id=\"m7c156e6e4f\" style=\"stroke:#000000;stroke-width:0.8;\"/>\r\n      </defs>\r\n      <g>\r\n       <use style=\"stroke:#000000;stroke-width:0.8;\" x=\"53.328125\" xlink:href=\"#m7c156e6e4f\" y=\"314.6\"/>\r\n      </g>\r\n     </g>\r\n     <g id=\"text_8\">\r\n      <!-- 0 -->\r\n      <g transform=\"translate(39.965625 318.399219)scale(0.1 -0.1)\">\r\n       <use xlink:href=\"#DejaVuSans-48\"/>\r\n      </g>\r\n     </g>\r\n    </g>\r\n    <g id=\"ytick_2\">\r\n     <g id=\"line2d_8\">\r\n      <g>\r\n       <use style=\"stroke:#000000;stroke-width:0.8;\" x=\"53.328125\" xlink:href=\"#m7c156e6e4f\" y=\"278.268168\"/>\r\n      </g>\r\n     </g>\r\n     <g id=\"text_9\">\r\n      <!-- 500 -->\r\n      <g transform=\"translate(27.240625 282.067386)scale(0.1 -0.1)\">\r\n       <use xlink:href=\"#DejaVuSans-53\"/>\r\n       <use x=\"63.623047\" xlink:href=\"#DejaVuSans-48\"/>\r\n       <use x=\"127.246094\" xlink:href=\"#DejaVuSans-48\"/>\r\n      </g>\r\n     </g>\r\n    </g>\r\n    <g id=\"ytick_3\">\r\n     <g id=\"line2d_9\">\r\n      <g>\r\n       <use style=\"stroke:#000000;stroke-width:0.8;\" x=\"53.328125\" xlink:href=\"#m7c156e6e4f\" y=\"241.936335\"/>\r\n      </g>\r\n     </g>\r\n     <g id=\"text_10\">\r\n      <!-- 1000 -->\r\n      <g transform=\"translate(20.878125 245.735554)scale(0.1 -0.1)\">\r\n       <use xlink:href=\"#DejaVuSans-49\"/>\r\n       <use x=\"63.623047\" xlink:href=\"#DejaVuSans-48\"/>\r\n       <use x=\"127.246094\" xlink:href=\"#DejaVuSans-48\"/>\r\n       <use x=\"190.869141\" xlink:href=\"#DejaVuSans-48\"/>\r\n      </g>\r\n     </g>\r\n    </g>\r\n    <g id=\"ytick_4\">\r\n     <g id=\"line2d_10\">\r\n      <g>\r\n       <use style=\"stroke:#000000;stroke-width:0.8;\" x=\"53.328125\" xlink:href=\"#m7c156e6e4f\" y=\"205.604503\"/>\r\n      </g>\r\n     </g>\r\n     <g id=\"text_11\">\r\n      <!-- 1500 -->\r\n      <g transform=\"translate(20.878125 209.403722)scale(0.1 -0.1)\">\r\n       <use xlink:href=\"#DejaVuSans-49\"/>\r\n       <use x=\"63.623047\" xlink:href=\"#DejaVuSans-53\"/>\r\n       <use x=\"127.246094\" xlink:href=\"#DejaVuSans-48\"/>\r\n       <use x=\"190.869141\" xlink:href=\"#DejaVuSans-48\"/>\r\n      </g>\r\n     </g>\r\n    </g>\r\n    <g id=\"ytick_5\">\r\n     <g id=\"line2d_11\">\r\n      <g>\r\n       <use style=\"stroke:#000000;stroke-width:0.8;\" x=\"53.328125\" xlink:href=\"#m7c156e6e4f\" y=\"169.272671\"/>\r\n      </g>\r\n     </g>\r\n     <g id=\"text_12\">\r\n      <!-- 2000 -->\r\n      <g transform=\"translate(20.878125 173.07189)scale(0.1 -0.1)\">\r\n       <use xlink:href=\"#DejaVuSans-50\"/>\r\n       <use x=\"63.623047\" xlink:href=\"#DejaVuSans-48\"/>\r\n       <use x=\"127.246094\" xlink:href=\"#DejaVuSans-48\"/>\r\n       <use x=\"190.869141\" xlink:href=\"#DejaVuSans-48\"/>\r\n      </g>\r\n     </g>\r\n    </g>\r\n    <g id=\"ytick_6\">\r\n     <g id=\"line2d_12\">\r\n      <g>\r\n       <use style=\"stroke:#000000;stroke-width:0.8;\" x=\"53.328125\" xlink:href=\"#m7c156e6e4f\" y=\"132.940838\"/>\r\n      </g>\r\n     </g>\r\n     <g id=\"text_13\">\r\n      <!-- 2500 -->\r\n      <g transform=\"translate(20.878125 136.740057)scale(0.1 -0.1)\">\r\n       <use xlink:href=\"#DejaVuSans-50\"/>\r\n       <use x=\"63.623047\" xlink:href=\"#DejaVuSans-53\"/>\r\n       <use x=\"127.246094\" xlink:href=\"#DejaVuSans-48\"/>\r\n       <use x=\"190.869141\" xlink:href=\"#DejaVuSans-48\"/>\r\n      </g>\r\n     </g>\r\n    </g>\r\n    <g id=\"ytick_7\">\r\n     <g id=\"line2d_13\">\r\n      <g>\r\n       <use style=\"stroke:#000000;stroke-width:0.8;\" x=\"53.328125\" xlink:href=\"#m7c156e6e4f\" y=\"96.609006\"/>\r\n      </g>\r\n     </g>\r\n     <g id=\"text_14\">\r\n      <!-- 3000 -->\r\n      <g transform=\"translate(20.878125 100.408225)scale(0.1 -0.1)\">\r\n       <defs>\r\n        <path d=\"M 40.578125 39.3125 \r\nQ 47.65625 37.796875 51.625 33 \r\nQ 55.609375 28.21875 55.609375 21.1875 \r\nQ 55.609375 10.40625 48.1875 4.484375 \r\nQ 40.765625 -1.421875 27.09375 -1.421875 \r\nQ 22.515625 -1.421875 17.65625 -0.515625 \r\nQ 12.796875 0.390625 7.625 2.203125 \r\nL 7.625 11.71875 \r\nQ 11.71875 9.328125 16.59375 8.109375 \r\nQ 21.484375 6.890625 26.8125 6.890625 \r\nQ 36.078125 6.890625 40.9375 10.546875 \r\nQ 45.796875 14.203125 45.796875 21.1875 \r\nQ 45.796875 27.640625 41.28125 31.265625 \r\nQ 36.765625 34.90625 28.71875 34.90625 \r\nL 20.21875 34.90625 \r\nL 20.21875 43.015625 \r\nL 29.109375 43.015625 \r\nQ 36.375 43.015625 40.234375 45.921875 \r\nQ 44.09375 48.828125 44.09375 54.296875 \r\nQ 44.09375 59.90625 40.109375 62.90625 \r\nQ 36.140625 65.921875 28.71875 65.921875 \r\nQ 24.65625 65.921875 20.015625 65.03125 \r\nQ 15.375 64.15625 9.8125 62.3125 \r\nL 9.8125 71.09375 \r\nQ 15.4375 72.65625 20.34375 73.4375 \r\nQ 25.25 74.21875 29.59375 74.21875 \r\nQ 40.828125 74.21875 47.359375 69.109375 \r\nQ 53.90625 64.015625 53.90625 55.328125 \r\nQ 53.90625 49.265625 50.4375 45.09375 \r\nQ 46.96875 40.921875 40.578125 39.3125 \r\nz\r\n\" id=\"DejaVuSans-51\"/>\r\n       </defs>\r\n       <use xlink:href=\"#DejaVuSans-51\"/>\r\n       <use x=\"63.623047\" xlink:href=\"#DejaVuSans-48\"/>\r\n       <use x=\"127.246094\" xlink:href=\"#DejaVuSans-48\"/>\r\n       <use x=\"190.869141\" xlink:href=\"#DejaVuSans-48\"/>\r\n      </g>\r\n     </g>\r\n    </g>\r\n    <g id=\"ytick_8\">\r\n     <g id=\"line2d_14\">\r\n      <g>\r\n       <use style=\"stroke:#000000;stroke-width:0.8;\" x=\"53.328125\" xlink:href=\"#m7c156e6e4f\" y=\"60.277174\"/>\r\n      </g>\r\n     </g>\r\n     <g id=\"text_15\">\r\n      <!-- 3500 -->\r\n      <g transform=\"translate(20.878125 64.076393)scale(0.1 -0.1)\">\r\n       <use xlink:href=\"#DejaVuSans-51\"/>\r\n       <use x=\"63.623047\" xlink:href=\"#DejaVuSans-53\"/>\r\n       <use x=\"127.246094\" xlink:href=\"#DejaVuSans-48\"/>\r\n       <use x=\"190.869141\" xlink:href=\"#DejaVuSans-48\"/>\r\n      </g>\r\n     </g>\r\n    </g>\r\n    <g id=\"ytick_9\">\r\n     <g id=\"line2d_15\">\r\n      <g>\r\n       <use style=\"stroke:#000000;stroke-width:0.8;\" x=\"53.328125\" xlink:href=\"#m7c156e6e4f\" y=\"23.945342\"/>\r\n      </g>\r\n     </g>\r\n     <g id=\"text_16\">\r\n      <!-- 4000 -->\r\n      <g transform=\"translate(20.878125 27.74456)scale(0.1 -0.1)\">\r\n       <defs>\r\n        <path d=\"M 37.796875 64.3125 \r\nL 12.890625 25.390625 \r\nL 37.796875 25.390625 \r\nz\r\nM 35.203125 72.90625 \r\nL 47.609375 72.90625 \r\nL 47.609375 25.390625 \r\nL 58.015625 25.390625 \r\nL 58.015625 17.1875 \r\nL 47.609375 17.1875 \r\nL 47.609375 0 \r\nL 37.796875 0 \r\nL 37.796875 17.1875 \r\nL 4.890625 17.1875 \r\nL 4.890625 26.703125 \r\nz\r\n\" id=\"DejaVuSans-52\"/>\r\n       </defs>\r\n       <use xlink:href=\"#DejaVuSans-52\"/>\r\n       <use x=\"63.623047\" xlink:href=\"#DejaVuSans-48\"/>\r\n       <use x=\"127.246094\" xlink:href=\"#DejaVuSans-48\"/>\r\n       <use x=\"190.869141\" xlink:href=\"#DejaVuSans-48\"/>\r\n      </g>\r\n     </g>\r\n    </g>\r\n    <g id=\"text_17\">\r\n     <!-- Count -->\r\n     <g transform=\"translate(14.798437 175.748437)rotate(-90)scale(0.1 -0.1)\">\r\n      <defs>\r\n       <path d=\"M 64.40625 67.28125 \r\nL 64.40625 56.890625 \r\nQ 59.421875 61.53125 53.78125 63.8125 \r\nQ 48.140625 66.109375 41.796875 66.109375 \r\nQ 29.296875 66.109375 22.65625 58.46875 \r\nQ 16.015625 50.828125 16.015625 36.375 \r\nQ 16.015625 21.96875 22.65625 14.328125 \r\nQ 29.296875 6.6875 41.796875 6.6875 \r\nQ 48.140625 6.6875 53.78125 8.984375 \r\nQ 59.421875 11.28125 64.40625 15.921875 \r\nL 64.40625 5.609375 \r\nQ 59.234375 2.09375 53.4375 0.328125 \r\nQ 47.65625 -1.421875 41.21875 -1.421875 \r\nQ 24.65625 -1.421875 15.125 8.703125 \r\nQ 5.609375 18.84375 5.609375 36.375 \r\nQ 5.609375 53.953125 15.125 64.078125 \r\nQ 24.65625 74.21875 41.21875 74.21875 \r\nQ 47.75 74.21875 53.53125 72.484375 \r\nQ 59.328125 70.75 64.40625 67.28125 \r\nz\r\n\" id=\"DejaVuSans-67\"/>\r\n       <path d=\"M 8.5 21.578125 \r\nL 8.5 54.6875 \r\nL 17.484375 54.6875 \r\nL 17.484375 21.921875 \r\nQ 17.484375 14.15625 20.5 10.265625 \r\nQ 23.53125 6.390625 29.59375 6.390625 \r\nQ 36.859375 6.390625 41.078125 11.03125 \r\nQ 45.3125 15.671875 45.3125 23.6875 \r\nL 45.3125 54.6875 \r\nL 54.296875 54.6875 \r\nL 54.296875 0 \r\nL 45.3125 0 \r\nL 45.3125 8.40625 \r\nQ 42.046875 3.421875 37.71875 1 \r\nQ 33.40625 -1.421875 27.6875 -1.421875 \r\nQ 18.265625 -1.421875 13.375 4.4375 \r\nQ 8.5 10.296875 8.5 21.578125 \r\nz\r\nM 31.109375 56 \r\nz\r\n\" id=\"DejaVuSans-117\"/>\r\n       <path d=\"M 54.890625 33.015625 \r\nL 54.890625 0 \r\nL 45.90625 0 \r\nL 45.90625 32.71875 \r\nQ 45.90625 40.484375 42.875 44.328125 \r\nQ 39.84375 48.1875 33.796875 48.1875 \r\nQ 26.515625 48.1875 22.3125 43.546875 \r\nQ 18.109375 38.921875 18.109375 30.90625 \r\nL 18.109375 0 \r\nL 9.078125 0 \r\nL 9.078125 54.6875 \r\nL 18.109375 54.6875 \r\nL 18.109375 46.1875 \r\nQ 21.34375 51.125 25.703125 53.5625 \r\nQ 30.078125 56 35.796875 56 \r\nQ 45.21875 56 50.046875 50.171875 \r\nQ 54.890625 44.34375 54.890625 33.015625 \r\nz\r\n\" id=\"DejaVuSans-110\"/>\r\n      </defs>\r\n      <use xlink:href=\"#DejaVuSans-67\"/>\r\n      <use x=\"69.824219\" xlink:href=\"#DejaVuSans-111\"/>\r\n      <use x=\"131.005859\" xlink:href=\"#DejaVuSans-117\"/>\r\n      <use x=\"194.384766\" xlink:href=\"#DejaVuSans-110\"/>\r\n      <use x=\"257.763672\" xlink:href=\"#DejaVuSans-116\"/>\r\n     </g>\r\n    </g>\r\n   </g>\r\n   <g id=\"patch_55\">\r\n    <path d=\"M 53.328125 314.6 \r\nL 53.328125 7.2 \r\n\" style=\"fill:none;stroke:#000000;stroke-linecap:square;stroke-linejoin:miter;stroke-width:0.8;\"/>\r\n   </g>\r\n   <g id=\"patch_56\">\r\n    <path d=\"M 53.328125 314.6 \r\nL 245.422618 314.6 \r\n\" style=\"fill:none;stroke:#000000;stroke-linecap:square;stroke-linejoin:miter;stroke-width:0.8;\"/>\r\n   </g>\r\n  </g>\r\n  <g id=\"legend_1\">\r\n   <g id=\"text_18\">\r\n    <!-- label -->\r\n    <g transform=\"translate(373.606178 165.682812)scale(0.1 -0.1)\">\r\n     <defs>\r\n      <path d=\"M 9.421875 75.984375 \r\nL 18.40625 75.984375 \r\nL 18.40625 0 \r\nL 9.421875 0 \r\nz\r\n\" id=\"DejaVuSans-108\"/>\r\n      <path d=\"M 34.28125 27.484375 \r\nQ 23.390625 27.484375 19.1875 25 \r\nQ 14.984375 22.515625 14.984375 16.5 \r\nQ 14.984375 11.71875 18.140625 8.90625 \r\nQ 21.296875 6.109375 26.703125 6.109375 \r\nQ 34.1875 6.109375 38.703125 11.40625 \r\nQ 43.21875 16.703125 43.21875 25.484375 \r\nL 43.21875 27.484375 \r\nz\r\nM 52.203125 31.203125 \r\nL 52.203125 0 \r\nL 43.21875 0 \r\nL 43.21875 8.296875 \r\nQ 40.140625 3.328125 35.546875 0.953125 \r\nQ 30.953125 -1.421875 24.3125 -1.421875 \r\nQ 15.921875 -1.421875 10.953125 3.296875 \r\nQ 6 8.015625 6 15.921875 \r\nQ 6 25.140625 12.171875 29.828125 \r\nQ 18.359375 34.515625 30.609375 34.515625 \r\nL 43.21875 34.515625 \r\nL 43.21875 35.40625 \r\nQ 43.21875 41.609375 39.140625 45 \r\nQ 35.0625 48.390625 27.6875 48.390625 \r\nQ 23 48.390625 18.546875 47.265625 \r\nQ 14.109375 46.140625 10.015625 43.890625 \r\nL 10.015625 52.203125 \r\nQ 14.9375 54.109375 19.578125 55.046875 \r\nQ 24.21875 56 28.609375 56 \r\nQ 40.484375 56 46.34375 49.84375 \r\nQ 52.203125 43.703125 52.203125 31.203125 \r\nz\r\n\" id=\"DejaVuSans-97\"/>\r\n      <path d=\"M 48.6875 27.296875 \r\nQ 48.6875 37.203125 44.609375 42.84375 \r\nQ 40.53125 48.484375 33.40625 48.484375 \r\nQ 26.265625 48.484375 22.1875 42.84375 \r\nQ 18.109375 37.203125 18.109375 27.296875 \r\nQ 18.109375 17.390625 22.1875 11.75 \r\nQ 26.265625 6.109375 33.40625 6.109375 \r\nQ 40.53125 6.109375 44.609375 11.75 \r\nQ 48.6875 17.390625 48.6875 27.296875 \r\nz\r\nM 18.109375 46.390625 \r\nQ 20.953125 51.265625 25.265625 53.625 \r\nQ 29.59375 56 35.59375 56 \r\nQ 45.5625 56 51.78125 48.09375 \r\nQ 58.015625 40.1875 58.015625 27.296875 \r\nQ 58.015625 14.40625 51.78125 6.484375 \r\nQ 45.5625 -1.421875 35.59375 -1.421875 \r\nQ 29.59375 -1.421875 25.265625 0.953125 \r\nQ 20.953125 3.328125 18.109375 8.203125 \r\nL 18.109375 0 \r\nL 9.078125 0 \r\nL 9.078125 75.984375 \r\nL 18.109375 75.984375 \r\nz\r\n\" id=\"DejaVuSans-98\"/>\r\n      <path d=\"M 56.203125 29.59375 \r\nL 56.203125 25.203125 \r\nL 14.890625 25.203125 \r\nQ 15.484375 15.921875 20.484375 11.0625 \r\nQ 25.484375 6.203125 34.421875 6.203125 \r\nQ 39.59375 6.203125 44.453125 7.46875 \r\nQ 49.3125 8.734375 54.109375 11.28125 \r\nL 54.109375 2.78125 \r\nQ 49.265625 0.734375 44.1875 -0.34375 \r\nQ 39.109375 -1.421875 33.890625 -1.421875 \r\nQ 20.796875 -1.421875 13.15625 6.1875 \r\nQ 5.515625 13.8125 5.515625 26.8125 \r\nQ 5.515625 40.234375 12.765625 48.109375 \r\nQ 20.015625 56 32.328125 56 \r\nQ 43.359375 56 49.78125 48.890625 \r\nQ 56.203125 41.796875 56.203125 29.59375 \r\nz\r\nM 47.21875 32.234375 \r\nQ 47.125 39.59375 43.09375 43.984375 \r\nQ 39.0625 48.390625 32.421875 48.390625 \r\nQ 24.90625 48.390625 20.390625 44.140625 \r\nQ 15.875 39.890625 15.1875 32.171875 \r\nz\r\n\" id=\"DejaVuSans-101\"/>\r\n     </defs>\r\n     <use xlink:href=\"#DejaVuSans-108\"/>\r\n     <use x=\"27.783203\" xlink:href=\"#DejaVuSans-97\"/>\r\n     <use x=\"89.0625\" xlink:href=\"#DejaVuSans-98\"/>\r\n     <use x=\"152.539062\" xlink:href=\"#DejaVuSans-101\"/>\r\n     <use x=\"214.0625\" xlink:href=\"#DejaVuSans-108\"/>\r\n    </g>\r\n   </g>\r\n   <g id=\"patch_57\">\r\n    <path d=\"M 348.092897 180.360937 \r\nL 368.092897 180.360937 \r\nL 368.092897 173.360937 \r\nL 348.092897 173.360937 \r\nz\r\n\" style=\"fill:#1f77b4;fill-opacity:0.5;stroke:#000000;stroke-linejoin:miter;\"/>\r\n   </g>\r\n   <g id=\"text_19\">\r\n    <!-- Real -->\r\n    <g transform=\"translate(376.092897 180.360937)scale(0.1 -0.1)\">\r\n     <defs>\r\n      <path d=\"M 44.390625 34.1875 \r\nQ 47.5625 33.109375 50.5625 29.59375 \r\nQ 53.5625 26.078125 56.59375 19.921875 \r\nL 66.609375 0 \r\nL 56 0 \r\nL 46.6875 18.703125 \r\nQ 43.0625 26.03125 39.671875 28.421875 \r\nQ 36.28125 30.8125 30.421875 30.8125 \r\nL 19.671875 30.8125 \r\nL 19.671875 0 \r\nL 9.8125 0 \r\nL 9.8125 72.90625 \r\nL 32.078125 72.90625 \r\nQ 44.578125 72.90625 50.734375 67.671875 \r\nQ 56.890625 62.453125 56.890625 51.90625 \r\nQ 56.890625 45.015625 53.6875 40.46875 \r\nQ 50.484375 35.9375 44.390625 34.1875 \r\nz\r\nM 19.671875 64.796875 \r\nL 19.671875 38.921875 \r\nL 32.078125 38.921875 \r\nQ 39.203125 38.921875 42.84375 42.21875 \r\nQ 46.484375 45.515625 46.484375 51.90625 \r\nQ 46.484375 58.296875 42.84375 61.546875 \r\nQ 39.203125 64.796875 32.078125 64.796875 \r\nz\r\n\" id=\"DejaVuSans-82\"/>\r\n     </defs>\r\n     <use xlink:href=\"#DejaVuSans-82\"/>\r\n     <use x=\"64.982422\" xlink:href=\"#DejaVuSans-101\"/>\r\n     <use x=\"126.505859\" xlink:href=\"#DejaVuSans-97\"/>\r\n     <use x=\"187.785156\" xlink:href=\"#DejaVuSans-108\"/>\r\n    </g>\r\n   </g>\r\n   <g id=\"patch_58\">\r\n    <path d=\"M 348.092897 195.039062 \r\nL 368.092897 195.039062 \r\nL 368.092897 188.039062 \r\nL 348.092897 188.039062 \r\nz\r\n\" style=\"fill:#ff7f0e;fill-opacity:0.5;stroke:#000000;stroke-linejoin:miter;\"/>\r\n   </g>\r\n   <g id=\"text_20\">\r\n    <!-- Synthetic -->\r\n    <g transform=\"translate(376.092897 195.039062)scale(0.1 -0.1)\">\r\n     <defs>\r\n      <path d=\"M 53.515625 70.515625 \r\nL 53.515625 60.890625 \r\nQ 47.90625 63.578125 42.921875 64.890625 \r\nQ 37.9375 66.21875 33.296875 66.21875 \r\nQ 25.25 66.21875 20.875 63.09375 \r\nQ 16.5 59.96875 16.5 54.203125 \r\nQ 16.5 49.359375 19.40625 46.890625 \r\nQ 22.3125 44.4375 30.421875 42.921875 \r\nL 36.375 41.703125 \r\nQ 47.40625 39.59375 52.65625 34.296875 \r\nQ 57.90625 29 57.90625 20.125 \r\nQ 57.90625 9.515625 50.796875 4.046875 \r\nQ 43.703125 -1.421875 29.984375 -1.421875 \r\nQ 24.8125 -1.421875 18.96875 -0.25 \r\nQ 13.140625 0.921875 6.890625 3.21875 \r\nL 6.890625 13.375 \r\nQ 12.890625 10.015625 18.65625 8.296875 \r\nQ 24.421875 6.59375 29.984375 6.59375 \r\nQ 38.421875 6.59375 43.015625 9.90625 \r\nQ 47.609375 13.234375 47.609375 19.390625 \r\nQ 47.609375 24.75 44.3125 27.78125 \r\nQ 41.015625 30.8125 33.5 32.328125 \r\nL 27.484375 33.5 \r\nQ 16.453125 35.6875 11.515625 40.375 \r\nQ 6.59375 45.0625 6.59375 53.421875 \r\nQ 6.59375 63.09375 13.40625 68.65625 \r\nQ 20.21875 74.21875 32.171875 74.21875 \r\nQ 37.3125 74.21875 42.625 73.28125 \r\nQ 47.953125 72.359375 53.515625 70.515625 \r\nz\r\n\" id=\"DejaVuSans-83\"/>\r\n      <path d=\"M 32.171875 -5.078125 \r\nQ 28.375 -14.84375 24.75 -17.8125 \r\nQ 21.140625 -20.796875 15.09375 -20.796875 \r\nL 7.90625 -20.796875 \r\nL 7.90625 -13.28125 \r\nL 13.1875 -13.28125 \r\nQ 16.890625 -13.28125 18.9375 -11.515625 \r\nQ 21 -9.765625 23.484375 -3.21875 \r\nL 25.09375 0.875 \r\nL 2.984375 54.6875 \r\nL 12.5 54.6875 \r\nL 29.59375 11.921875 \r\nL 46.6875 54.6875 \r\nL 56.203125 54.6875 \r\nz\r\n\" id=\"DejaVuSans-121\"/>\r\n      <path d=\"M 54.890625 33.015625 \r\nL 54.890625 0 \r\nL 45.90625 0 \r\nL 45.90625 32.71875 \r\nQ 45.90625 40.484375 42.875 44.328125 \r\nQ 39.84375 48.1875 33.796875 48.1875 \r\nQ 26.515625 48.1875 22.3125 43.546875 \r\nQ 18.109375 38.921875 18.109375 30.90625 \r\nL 18.109375 0 \r\nL 9.078125 0 \r\nL 9.078125 75.984375 \r\nL 18.109375 75.984375 \r\nL 18.109375 46.1875 \r\nQ 21.34375 51.125 25.703125 53.5625 \r\nQ 30.078125 56 35.796875 56 \r\nQ 45.21875 56 50.046875 50.171875 \r\nQ 54.890625 44.34375 54.890625 33.015625 \r\nz\r\n\" id=\"DejaVuSans-104\"/>\r\n      <path d=\"M 9.421875 54.6875 \r\nL 18.40625 54.6875 \r\nL 18.40625 0 \r\nL 9.421875 0 \r\nz\r\nM 9.421875 75.984375 \r\nL 18.40625 75.984375 \r\nL 18.40625 64.59375 \r\nL 9.421875 64.59375 \r\nz\r\n\" id=\"DejaVuSans-105\"/>\r\n      <path d=\"M 48.78125 52.59375 \r\nL 48.78125 44.1875 \r\nQ 44.96875 46.296875 41.140625 47.34375 \r\nQ 37.3125 48.390625 33.40625 48.390625 \r\nQ 24.65625 48.390625 19.8125 42.84375 \r\nQ 14.984375 37.3125 14.984375 27.296875 \r\nQ 14.984375 17.28125 19.8125 11.734375 \r\nQ 24.65625 6.203125 33.40625 6.203125 \r\nQ 37.3125 6.203125 41.140625 7.25 \r\nQ 44.96875 8.296875 48.78125 10.40625 \r\nL 48.78125 2.09375 \r\nQ 45.015625 0.34375 40.984375 -0.53125 \r\nQ 36.96875 -1.421875 32.421875 -1.421875 \r\nQ 20.0625 -1.421875 12.78125 6.34375 \r\nQ 5.515625 14.109375 5.515625 27.296875 \r\nQ 5.515625 40.671875 12.859375 48.328125 \r\nQ 20.21875 56 33.015625 56 \r\nQ 37.15625 56 41.109375 55.140625 \r\nQ 45.0625 54.296875 48.78125 52.59375 \r\nz\r\n\" id=\"DejaVuSans-99\"/>\r\n     </defs>\r\n     <use xlink:href=\"#DejaVuSans-83\"/>\r\n     <use x=\"63.476562\" xlink:href=\"#DejaVuSans-121\"/>\r\n     <use x=\"122.65625\" xlink:href=\"#DejaVuSans-110\"/>\r\n     <use x=\"186.035156\" xlink:href=\"#DejaVuSans-116\"/>\r\n     <use x=\"225.244141\" xlink:href=\"#DejaVuSans-104\"/>\r\n     <use x=\"288.623047\" xlink:href=\"#DejaVuSans-101\"/>\r\n     <use x=\"350.146484\" xlink:href=\"#DejaVuSans-116\"/>\r\n     <use x=\"389.355469\" xlink:href=\"#DejaVuSans-105\"/>\r\n     <use x=\"417.138672\" xlink:href=\"#DejaVuSans-99\"/>\r\n    </g>\r\n   </g>\r\n  </g>\r\n </g>\r\n <defs>\r\n  <clipPath id=\"p9f4eef2abd\">\r\n   <rect height=\"307.4\" width=\"192.094493\" x=\"53.328125\" y=\"7.2\"/>\r\n  </clipPath>\r\n </defs>\r\n</svg>\r\n",
      "image/png": "[encoded data removed]"
     },
     "metadata": {
      "needs_background": "light"
     }
    }
   ],
   "source": [
    "sns.displot(data=all_data, x='top1', hue='label')\n",
    "positions = ([i for i in range(0,26,5)])\n",
    "labels = ([str(i) for i in range(0,26,5)])\n",
    "plt.xticks(positions, labels)\n",
    "plt.xticks(rotation=90)"
   ]
  },
  {
   "cell_type": "code",
   "execution_count": 77,
   "metadata": {},
   "outputs": [
    {
     "output_type": "error",
     "ename": "KeyError",
     "evalue": "\"['number_of_relatives', 'nodes', 'betweenness_centrality', 'degree_assortativity_coefficient', 'mean_tr', 'number_of_books', 'relation_status', 'cash_usage', 'number_of_movies', 'number_of_activities', 'eigenvector_centrality', 'parent', 'number_of_interests', 'driver', 'len_of_about', 'has_pets', 'max_tr', 'density'] not in index\"",
     "traceback": [
      "\u001b[1;31m---------------------------------------------------------------------------\u001b[0m",
      "\u001b[1;31mKeyError\u001b[0m                                  Traceback (most recent call last)",
      "\u001b[1;32m<ipython-input-77-74f6a299b037>\u001b[0m in \u001b[0;36m<module>\u001b[1;34m\u001b[0m\n\u001b[1;32m----> 1\u001b[1;33m \u001b[0mdata\u001b[0m \u001b[1;33m=\u001b[0m \u001b[0mvk_base\u001b[0m\u001b[1;33m[\u001b[0m\u001b[1;33m[\u001b[0m\u001b[1;34m'age'\u001b[0m\u001b[1;33m,\u001b[0m  \u001b[1;34m'sex'\u001b[0m\u001b[1;33m,\u001b[0m  \u001b[1;34m'has_high_education'\u001b[0m\u001b[1;33m,\u001b[0m   \u001b[1;34m'relation_status'\u001b[0m\u001b[1;33m,\u001b[0m      \u001b[1;34m'number_of_relatives'\u001b[0m\u001b[1;33m,\u001b[0m\u001b[1;34m'len_of_about'\u001b[0m\u001b[1;33m,\u001b[0m   \u001b[1;34m'number_of_activities'\u001b[0m\u001b[1;33m,\u001b[0m \u001b[1;34m'number_of_books'\u001b[0m\u001b[1;33m,\u001b[0m      \u001b[1;34m'number_of_interests'\u001b[0m\u001b[1;33m,\u001b[0m  \u001b[1;34m'number_of_movies'\u001b[0m\u001b[1;33m,\u001b[0m\u001b[1;34m'top1'\u001b[0m\u001b[1;33m,\u001b[0m\u001b[1;34m'top2'\u001b[0m\u001b[1;33m,\u001b[0m\u001b[1;34m'top3'\u001b[0m\u001b[1;33m,\u001b[0m\u001b[1;34m'top4'\u001b[0m\u001b[1;33m,\u001b[0m \u001b[1;34m'nodes'\u001b[0m\u001b[1;33m,\u001b[0m        \u001b[1;34m'betweenness_centrality'\u001b[0m\u001b[1;33m,\u001b[0m       \u001b[1;34m'density'\u001b[0m\u001b[1;33m,\u001b[0m      \u001b[1;34m'eigenvector_centrality'\u001b[0m\u001b[1;33m,\u001b[0m       \u001b[1;34m'degree_assortativity_coefficient'\u001b[0m\u001b[1;33m,\u001b[0m\u001b[1;34m'max_tr'\u001b[0m\u001b[1;33m,\u001b[0m    \u001b[1;34m'mean_tr'\u001b[0m\u001b[1;33m,\u001b[0m \u001b[1;34m'parent'\u001b[0m\u001b[1;33m,\u001b[0m    \u001b[1;34m'driver'\u001b[0m\u001b[1;33m,\u001b[0m       \u001b[1;34m'has_pets'\u001b[0m\u001b[1;33m,\u001b[0m     \u001b[1;34m'cash_usage'\u001b[0m\u001b[1;33m]\u001b[0m\u001b[1;33m]\u001b[0m \u001b[1;31m#'posts_count',  'posts_per_month',      'likes_per_post',       'views_per_post',       'repost_ratio']]\u001b[0m\u001b[1;33m\u001b[0m\u001b[1;33m\u001b[0m\u001b[0m\n\u001b[0m",
      "\u001b[1;32m~\\AppData\\Local\\Programs\\Python\\Python38\\lib\\site-packages\\pandas\\core\\frame.py\u001b[0m in \u001b[0;36m__getitem__\u001b[1;34m(self, key)\u001b[0m\n\u001b[0;32m   3028\u001b[0m             \u001b[1;32mif\u001b[0m \u001b[0mis_iterator\u001b[0m\u001b[1;33m(\u001b[0m\u001b[0mkey\u001b[0m\u001b[1;33m)\u001b[0m\u001b[1;33m:\u001b[0m\u001b[1;33m\u001b[0m\u001b[1;33m\u001b[0m\u001b[0m\n\u001b[0;32m   3029\u001b[0m                 \u001b[0mkey\u001b[0m \u001b[1;33m=\u001b[0m \u001b[0mlist\u001b[0m\u001b[1;33m(\u001b[0m\u001b[0mkey\u001b[0m\u001b[1;33m)\u001b[0m\u001b[1;33m\u001b[0m\u001b[1;33m\u001b[0m\u001b[0m\n\u001b[1;32m-> 3030\u001b[1;33m             \u001b[0mindexer\u001b[0m \u001b[1;33m=\u001b[0m \u001b[0mself\u001b[0m\u001b[1;33m.\u001b[0m\u001b[0mloc\u001b[0m\u001b[1;33m.\u001b[0m\u001b[0m_get_listlike_indexer\u001b[0m\u001b[1;33m(\u001b[0m\u001b[0mkey\u001b[0m\u001b[1;33m,\u001b[0m \u001b[0maxis\u001b[0m\u001b[1;33m=\u001b[0m\u001b[1;36m1\u001b[0m\u001b[1;33m,\u001b[0m \u001b[0mraise_missing\u001b[0m\u001b[1;33m=\u001b[0m\u001b[1;32mTrue\u001b[0m\u001b[1;33m)\u001b[0m\u001b[1;33m[\u001b[0m\u001b[1;36m1\u001b[0m\u001b[1;33m]\u001b[0m\u001b[1;33m\u001b[0m\u001b[1;33m\u001b[0m\u001b[0m\n\u001b[0m\u001b[0;32m   3031\u001b[0m \u001b[1;33m\u001b[0m\u001b[0m\n\u001b[0;32m   3032\u001b[0m         \u001b[1;31m# take() does not accept boolean indexers\u001b[0m\u001b[1;33m\u001b[0m\u001b[1;33m\u001b[0m\u001b[1;33m\u001b[0m\u001b[0m\n",
      "\u001b[1;32m~\\AppData\\Local\\Programs\\Python\\Python38\\lib\\site-packages\\pandas\\core\\indexing.py\u001b[0m in \u001b[0;36m_get_listlike_indexer\u001b[1;34m(self, key, axis, raise_missing)\u001b[0m\n\u001b[0;32m   1264\u001b[0m             \u001b[0mkeyarr\u001b[0m\u001b[1;33m,\u001b[0m \u001b[0mindexer\u001b[0m\u001b[1;33m,\u001b[0m \u001b[0mnew_indexer\u001b[0m \u001b[1;33m=\u001b[0m \u001b[0max\u001b[0m\u001b[1;33m.\u001b[0m\u001b[0m_reindex_non_unique\u001b[0m\u001b[1;33m(\u001b[0m\u001b[0mkeyarr\u001b[0m\u001b[1;33m)\u001b[0m\u001b[1;33m\u001b[0m\u001b[1;33m\u001b[0m\u001b[0m\n\u001b[0;32m   1265\u001b[0m \u001b[1;33m\u001b[0m\u001b[0m\n\u001b[1;32m-> 1266\u001b[1;33m         \u001b[0mself\u001b[0m\u001b[1;33m.\u001b[0m\u001b[0m_validate_read_indexer\u001b[0m\u001b[1;33m(\u001b[0m\u001b[0mkeyarr\u001b[0m\u001b[1;33m,\u001b[0m \u001b[0mindexer\u001b[0m\u001b[1;33m,\u001b[0m \u001b[0maxis\u001b[0m\u001b[1;33m,\u001b[0m \u001b[0mraise_missing\u001b[0m\u001b[1;33m=\u001b[0m\u001b[0mraise_missing\u001b[0m\u001b[1;33m)\u001b[0m\u001b[1;33m\u001b[0m\u001b[1;33m\u001b[0m\u001b[0m\n\u001b[0m\u001b[0;32m   1267\u001b[0m         \u001b[1;32mreturn\u001b[0m \u001b[0mkeyarr\u001b[0m\u001b[1;33m,\u001b[0m \u001b[0mindexer\u001b[0m\u001b[1;33m\u001b[0m\u001b[1;33m\u001b[0m\u001b[0m\n\u001b[0;32m   1268\u001b[0m \u001b[1;33m\u001b[0m\u001b[0m\n",
      "\u001b[1;32m~\\AppData\\Local\\Programs\\Python\\Python38\\lib\\site-packages\\pandas\\core\\indexing.py\u001b[0m in \u001b[0;36m_validate_read_indexer\u001b[1;34m(self, key, indexer, axis, raise_missing)\u001b[0m\n\u001b[0;32m   1314\u001b[0m             \u001b[1;32mif\u001b[0m \u001b[0mraise_missing\u001b[0m\u001b[1;33m:\u001b[0m\u001b[1;33m\u001b[0m\u001b[1;33m\u001b[0m\u001b[0m\n\u001b[0;32m   1315\u001b[0m                 \u001b[0mnot_found\u001b[0m \u001b[1;33m=\u001b[0m \u001b[0mlist\u001b[0m\u001b[1;33m(\u001b[0m\u001b[0mset\u001b[0m\u001b[1;33m(\u001b[0m\u001b[0mkey\u001b[0m\u001b[1;33m)\u001b[0m \u001b[1;33m-\u001b[0m \u001b[0mset\u001b[0m\u001b[1;33m(\u001b[0m\u001b[0max\u001b[0m\u001b[1;33m)\u001b[0m\u001b[1;33m)\u001b[0m\u001b[1;33m\u001b[0m\u001b[1;33m\u001b[0m\u001b[0m\n\u001b[1;32m-> 1316\u001b[1;33m                 \u001b[1;32mraise\u001b[0m \u001b[0mKeyError\u001b[0m\u001b[1;33m(\u001b[0m\u001b[1;34mf\"{not_found} not in index\"\u001b[0m\u001b[1;33m)\u001b[0m\u001b[1;33m\u001b[0m\u001b[1;33m\u001b[0m\u001b[0m\n\u001b[0m\u001b[0;32m   1317\u001b[0m \u001b[1;33m\u001b[0m\u001b[0m\n\u001b[0;32m   1318\u001b[0m             \u001b[0mnot_found\u001b[0m \u001b[1;33m=\u001b[0m \u001b[0mkey\u001b[0m\u001b[1;33m[\u001b[0m\u001b[0mmissing_mask\u001b[0m\u001b[1;33m]\u001b[0m\u001b[1;33m\u001b[0m\u001b[1;33m\u001b[0m\u001b[0m\n",
      "\u001b[1;31mKeyError\u001b[0m: \"['number_of_relatives', 'nodes', 'betweenness_centrality', 'degree_assortativity_coefficient', 'mean_tr', 'number_of_books', 'relation_status', 'cash_usage', 'number_of_movies', 'number_of_activities', 'eigenvector_centrality', 'parent', 'number_of_interests', 'driver', 'len_of_about', 'has_pets', 'max_tr', 'density'] not in index\""
     ]
    }
   ],
   "source": [
    "data = vk_base[['age',\t'sex',\t'has_high_education',\t'relation_status',\t'number_of_relatives','len_of_about',\t'number_of_activities',\t'number_of_books',\t'number_of_interests',\t'number_of_movies','top1','top2','top3','top4', 'nodes',\t'betweenness_centrality',\t'density',\t'eigenvector_centrality',\t'degree_assortativity_coefficient','max_tr',\t'mean_tr', 'parent',\t'driver',\t'has_pets',\t'cash_usage']] #'posts_count',\t'posts_per_month',\t'likes_per_post',\t'views_per_post',\t'repost_ratio']]"
   ]
  },
  {
   "cell_type": "code",
   "execution_count": 4,
   "metadata": {},
   "outputs": [
    {
     "output_type": "execute_result",
     "data": {
      "text/plain": [
       "(51478, 25)"
      ]
     },
     "metadata": {},
     "execution_count": 4
    }
   ],
   "source": [
    "data.shape"
   ]
  },
  {
   "cell_type": "code",
   "execution_count": 4,
   "metadata": {},
   "outputs": [],
   "source": [
    "data.dropna(inplace=True)\n",
    "data.reset_index(inplace=True, drop=True)"
   ]
  },
  {
   "cell_type": "code",
   "execution_count": 6,
   "metadata": {},
   "outputs": [
    {
     "output_type": "execute_result",
     "data": {
      "text/plain": [
       "(51371, 25)"
      ]
     },
     "metadata": {},
     "execution_count": 6
    }
   ],
   "source": [
    "data.shape"
   ]
  },
  {
   "cell_type": "code",
   "execution_count": 5,
   "metadata": {},
   "outputs": [],
   "source": [
    "discrete_data = code_categories(data, ['top1', 'top2', 'top3', 'top4'])"
   ]
  },
  {
   "cell_type": "code",
   "execution_count": 6,
   "metadata": {},
   "outputs": [],
   "source": [
    "new_data = discretization(discrete_data , 'equal_frequency', bins= 5, columns=['betweenness_centrality',\t'density',\t'eigenvector_centrality',\t'degree_assortativity_coefficient','max_tr', 'mean_tr'])#, 'posts_per_month', 'repost_ratio'])"
   ]
  },
  {
   "cell_type": "code",
   "execution_count": 7,
   "metadata": {},
   "outputs": [],
   "source": [
    "module1 = new_data[['age',\t'sex',\t'has_high_education',\t'relation_status',\t'number_of_relatives']]\n",
    "module2 = new_data[['len_of_about',\t'number_of_activities',\t'number_of_books',\t'number_of_interests',\t'number_of_movies']]\n",
    "module3 = new_data[['top1', 'top2', 'top3', 'top4']]\n",
    "module4 = new_data[['nodes',\t'betweenness_centrality',\t'eigenvector_centrality', 'density', 'degree_assortativity_coefficient']]\n",
    "module5 = new_data[['max_tr',\t'mean_tr', 'parent',\t'driver',\t'has_pets',\t'cash_usage']]\n",
    "#module6 = new_data[['posts_per_month',\t'likes_per_post',\t'views_per_post',\t'repost_ratio']]"
   ]
  },
  {
   "cell_type": "code",
   "execution_count": 8,
   "metadata": {},
   "outputs": [
    {
     "output_type": "execute_result",
     "data": {
      "text/plain": [
       "{'age': 'disc',\n",
       " 'sex': 'disc',\n",
       " 'has_high_education': 'disc',\n",
       " 'relation_status': 'disc',\n",
       " 'number_of_relatives': 'disc'}"
      ]
     },
     "metadata": {},
     "execution_count": 8
    }
   ],
   "source": [
    "node_type1 = get_nodes_type(data[['age',\t'sex',\t'has_high_education',\t'relation_status',\t'number_of_relatives']])\n",
    "node_type1"
   ]
  },
  {
   "cell_type": "code",
   "execution_count": 9,
   "metadata": {},
   "outputs": [
    {
     "output_type": "execute_result",
     "data": {
      "text/plain": [
       "{'len_of_about': 'disc',\n",
       " 'number_of_activities': 'disc',\n",
       " 'number_of_books': 'disc',\n",
       " 'number_of_interests': 'disc',\n",
       " 'number_of_movies': 'disc'}"
      ]
     },
     "metadata": {},
     "execution_count": 9
    }
   ],
   "source": [
    "node_type2 = get_nodes_type(data[['len_of_about',\t'number_of_activities',\t'number_of_books',\t'number_of_interests',\t'number_of_movies']])\n",
    "node_type2"
   ]
  },
  {
   "cell_type": "code",
   "execution_count": 10,
   "metadata": {},
   "outputs": [
    {
     "output_type": "execute_result",
     "data": {
      "text/plain": [
       "{'top1': 'disc', 'top2': 'disc', 'top3': 'disc', 'top4': 'disc'}"
      ]
     },
     "metadata": {},
     "execution_count": 10
    }
   ],
   "source": [
    "node_type3 = get_nodes_type(data[['top1', 'top2', 'top3', 'top4']])\n",
    "node_type3"
   ]
  },
  {
   "cell_type": "code",
   "execution_count": 11,
   "metadata": {},
   "outputs": [
    {
     "output_type": "execute_result",
     "data": {
      "text/plain": [
       "{'nodes': 'disc',\n",
       " 'betweenness_centrality': 'cont',\n",
       " 'eigenvector_centrality': 'cont',\n",
       " 'density': 'cont',\n",
       " 'degree_assortativity_coefficient': 'cont'}"
      ]
     },
     "metadata": {},
     "execution_count": 11
    }
   ],
   "source": [
    "node_type4 = get_nodes_type(data[['nodes',\t'betweenness_centrality',\t'eigenvector_centrality', 'density', 'degree_assortativity_coefficient']])\n",
    "node_type4"
   ]
  },
  {
   "cell_type": "code",
   "execution_count": 12,
   "metadata": {},
   "outputs": [
    {
     "output_type": "execute_result",
     "data": {
      "text/plain": [
       "{'max_tr': 'cont',\n",
       " 'mean_tr': 'cont',\n",
       " 'parent': 'disc',\n",
       " 'driver': 'disc',\n",
       " 'has_pets': 'disc',\n",
       " 'cash_usage': 'disc'}"
      ]
     },
     "metadata": {},
     "execution_count": 12
    }
   ],
   "source": [
    "node_type5 = get_nodes_type(data[['max_tr',\t'mean_tr', 'parent',\t'driver',\t'has_pets',\t'cash_usage']])\n",
    "node_type5"
   ]
  },
  {
   "cell_type": "code",
   "execution_count": 15,
   "metadata": {},
   "outputs": [],
   "source": [
    "#node_type6 = get_nodes_type(data[['posts_per_month',\t'likes_per_post',\t'views_per_post',\t'repost_ratio']])\n",
    "#node_type6"
   ]
  },
  {
   "cell_type": "code",
   "execution_count": 15,
   "metadata": {},
   "outputs": [
    {
     "output_type": "stream",
     "name": "stderr",
     "text": [
      "  0%|          | 0/1000000 [00:00<?, ?it/s]"
     ]
    },
    {
     "output_type": "error",
     "ename": "KeyboardInterrupt",
     "evalue": "",
     "traceback": [
      "\u001b[1;31m---------------------------------------------------------------------------\u001b[0m",
      "\u001b[1;31mKeyboardInterrupt\u001b[0m                         Traceback (most recent call last)",
      "\u001b[1;32m<ipython-input-15-e277520d07ba>\u001b[0m in \u001b[0;36m<module>\u001b[1;34m\u001b[0m\n\u001b[0;32m      1\u001b[0m \u001b[0mstart\u001b[0m \u001b[1;33m=\u001b[0m \u001b[0mtime\u001b[0m\u001b[1;33m.\u001b[0m\u001b[0mtime\u001b[0m\u001b[1;33m(\u001b[0m\u001b[1;33m)\u001b[0m\u001b[1;33m\u001b[0m\u001b[0m\n\u001b[0;32m      2\u001b[0m \u001b[0mnode_type\u001b[0m \u001b[1;33m=\u001b[0m \u001b[1;33m{\u001b[0m\u001b[1;33m**\u001b[0m\u001b[0mnode_type1\u001b[0m\u001b[1;33m,\u001b[0m \u001b[1;33m**\u001b[0m\u001b[0mnode_type2\u001b[0m\u001b[1;33m,\u001b[0m \u001b[1;33m**\u001b[0m\u001b[0mnode_type3\u001b[0m\u001b[1;33m,\u001b[0m \u001b[1;33m**\u001b[0m\u001b[0mnode_type4\u001b[0m\u001b[1;33m,\u001b[0m \u001b[1;33m**\u001b[0m\u001b[0mnode_type5\u001b[0m\u001b[1;33m}\u001b[0m\u001b[1;33m\u001b[0m\u001b[0m\n\u001b[1;32m----> 3\u001b[1;33m \u001b[0mbn\u001b[0m \u001b[1;33m=\u001b[0m \u001b[0mstructure_learning\u001b[0m\u001b[1;33m(\u001b[0m\u001b[0mnew_data\u001b[0m\u001b[1;33m[\u001b[0m\u001b[1;33m[\u001b[0m\u001b[1;34m'age'\u001b[0m\u001b[1;33m,\u001b[0m        \u001b[1;34m'sex'\u001b[0m\u001b[1;33m,\u001b[0m  \u001b[1;34m'has_high_education'\u001b[0m\u001b[1;33m,\u001b[0m   \u001b[1;34m'relation_status'\u001b[0m\u001b[1;33m,\u001b[0m      \u001b[1;34m'number_of_relatives'\u001b[0m\u001b[1;33m,\u001b[0m\u001b[1;34m'len_of_about'\u001b[0m\u001b[1;33m,\u001b[0m   \u001b[1;34m'number_of_activities'\u001b[0m\u001b[1;33m,\u001b[0m \u001b[1;34m'number_of_books'\u001b[0m\u001b[1;33m,\u001b[0m      \u001b[1;34m'number_of_interests'\u001b[0m\u001b[1;33m,\u001b[0m  \u001b[1;34m'number_of_movies'\u001b[0m\u001b[1;33m,\u001b[0m\u001b[1;34m'top1'\u001b[0m\u001b[1;33m,\u001b[0m \u001b[1;34m'top2'\u001b[0m\u001b[1;33m,\u001b[0m \u001b[1;34m'top3'\u001b[0m\u001b[1;33m,\u001b[0m \u001b[1;34m'top4'\u001b[0m\u001b[1;33m,\u001b[0m\u001b[1;34m'nodes'\u001b[0m\u001b[1;33m,\u001b[0m      \u001b[1;34m'betweenness_centrality'\u001b[0m\u001b[1;33m,\u001b[0m       \u001b[1;34m'eigenvector_centrality'\u001b[0m\u001b[1;33m,\u001b[0m \u001b[1;34m'density'\u001b[0m\u001b[1;33m,\u001b[0m \u001b[1;34m'degree_assortativity_coefficient'\u001b[0m\u001b[1;33m,\u001b[0m \u001b[1;34m'max_tr'\u001b[0m\u001b[1;33m,\u001b[0m      \u001b[1;34m'mean_tr'\u001b[0m\u001b[1;33m,\u001b[0m \u001b[1;34m'parent'\u001b[0m\u001b[1;33m,\u001b[0m    \u001b[1;34m'driver'\u001b[0m\u001b[1;33m,\u001b[0m       \u001b[1;34m'has_pets'\u001b[0m\u001b[1;33m,\u001b[0m     \u001b[1;34m'cash_usage'\u001b[0m\u001b[1;33m]\u001b[0m\u001b[1;33m]\u001b[0m\u001b[1;33m,\u001b[0m \u001b[1;34m'K2'\u001b[0m\u001b[1;33m,\u001b[0m \u001b[0mnode_type\u001b[0m\u001b[1;33m)\u001b[0m\u001b[1;33m\u001b[0m\u001b[0m\n\u001b[0m\u001b[0;32m      4\u001b[0m \u001b[0mparam\u001b[0m \u001b[1;33m=\u001b[0m \u001b[0mparameter_learning\u001b[0m\u001b[1;33m(\u001b[0m\u001b[0mdata\u001b[0m\u001b[1;33m[\u001b[0m\u001b[1;33m[\u001b[0m\u001b[1;34m'age'\u001b[0m\u001b[1;33m,\u001b[0m \u001b[1;34m'sex'\u001b[0m\u001b[1;33m,\u001b[0m  \u001b[1;34m'has_high_education'\u001b[0m\u001b[1;33m,\u001b[0m   \u001b[1;34m'relation_status'\u001b[0m\u001b[1;33m,\u001b[0m      \u001b[1;34m'number_of_relatives'\u001b[0m\u001b[1;33m,\u001b[0m\u001b[1;34m'len_of_about'\u001b[0m\u001b[1;33m,\u001b[0m   \u001b[1;34m'number_of_activities'\u001b[0m\u001b[1;33m,\u001b[0m \u001b[1;34m'number_of_books'\u001b[0m\u001b[1;33m,\u001b[0m      \u001b[1;34m'number_of_interests'\u001b[0m\u001b[1;33m,\u001b[0m  \u001b[1;34m'number_of_movies'\u001b[0m\u001b[1;33m,\u001b[0m\u001b[1;34m'top1'\u001b[0m\u001b[1;33m,\u001b[0m \u001b[1;34m'top2'\u001b[0m\u001b[1;33m,\u001b[0m \u001b[1;34m'top3'\u001b[0m\u001b[1;33m,\u001b[0m \u001b[1;34m'top4'\u001b[0m\u001b[1;33m,\u001b[0m\u001b[1;34m'nodes'\u001b[0m\u001b[1;33m,\u001b[0m      \u001b[1;34m'betweenness_centrality'\u001b[0m\u001b[1;33m,\u001b[0m       \u001b[1;34m'eigenvector_centrality'\u001b[0m\u001b[1;33m,\u001b[0m \u001b[1;34m'density'\u001b[0m\u001b[1;33m,\u001b[0m \u001b[1;34m'degree_assortativity_coefficient'\u001b[0m\u001b[1;33m,\u001b[0m\u001b[1;34m'max_tr'\u001b[0m\u001b[1;33m,\u001b[0m       \u001b[1;34m'mean_tr'\u001b[0m\u001b[1;33m,\u001b[0m \u001b[1;34m'parent'\u001b[0m\u001b[1;33m,\u001b[0m    \u001b[1;34m'driver'\u001b[0m\u001b[1;33m,\u001b[0m       \u001b[1;34m'has_pets'\u001b[0m\u001b[1;33m,\u001b[0m     \u001b[1;34m'cash_usage'\u001b[0m\u001b[1;33m]\u001b[0m\u001b[1;33m]\u001b[0m\u001b[1;33m,\u001b[0m \u001b[0mnode_type\u001b[0m\u001b[1;33m,\u001b[0m \u001b[0mbn\u001b[0m\u001b[1;33m)\u001b[0m\u001b[1;33m\u001b[0m\u001b[0m\n\u001b[0;32m      5\u001b[0m \u001b[0mend\u001b[0m \u001b[1;33m=\u001b[0m \u001b[0mtime\u001b[0m\u001b[1;33m.\u001b[0m\u001b[0mtime\u001b[0m\u001b[1;33m(\u001b[0m\u001b[1;33m)\u001b[0m\u001b[1;33m\u001b[0m\u001b[0m\n",
      "\u001b[1;32mc:\\Users\\irina\\Documents\\Synthetic avatar\\Synthetic_scripts\\BN-based synthetic data\\block_learning\\train_bn.py\u001b[0m in \u001b[0;36mstructure_learning\u001b[1;34m(data, algorithm, node_type, init_nodes, alpha)\u001b[0m\n\u001b[0;32m     53\u001b[0m     \u001b[1;32mif\u001b[0m \u001b[0malgorithm\u001b[0m \u001b[1;33m==\u001b[0m \u001b[1;34m\"K2\"\u001b[0m\u001b[1;33m:\u001b[0m\u001b[1;33m\u001b[0m\u001b[0m\n\u001b[0;32m     54\u001b[0m         \u001b[0mhc_K2Score\u001b[0m \u001b[1;33m=\u001b[0m \u001b[0mHillClimbSearch\u001b[0m\u001b[1;33m(\u001b[0m\u001b[0mdata\u001b[0m\u001b[1;33m,\u001b[0m \u001b[0mscoring_method\u001b[0m\u001b[1;33m=\u001b[0m\u001b[0mK2Score\u001b[0m\u001b[1;33m(\u001b[0m\u001b[0mdata\u001b[0m\u001b[1;33m)\u001b[0m\u001b[1;33m)\u001b[0m\u001b[1;33m\u001b[0m\u001b[0m\n\u001b[1;32m---> 55\u001b[1;33m         \u001b[0mbest_model_K2Score\u001b[0m \u001b[1;33m=\u001b[0m \u001b[0mhc_K2Score\u001b[0m\u001b[1;33m.\u001b[0m\u001b[0mestimate\u001b[0m\u001b[1;33m(\u001b[0m\u001b[0mblack_list\u001b[0m\u001b[1;33m=\u001b[0m\u001b[0mblacklist\u001b[0m\u001b[1;33m)\u001b[0m\u001b[1;33m\u001b[0m\u001b[0m\n\u001b[0m\u001b[0;32m     56\u001b[0m         \u001b[0mstructure\u001b[0m \u001b[1;33m=\u001b[0m \u001b[1;33m[\u001b[0m\u001b[0mlist\u001b[0m\u001b[1;33m(\u001b[0m\u001b[0mx\u001b[0m\u001b[1;33m)\u001b[0m \u001b[1;32mfor\u001b[0m \u001b[0mx\u001b[0m \u001b[1;32min\u001b[0m \u001b[0mlist\u001b[0m\u001b[1;33m(\u001b[0m\u001b[0mbest_model_K2Score\u001b[0m\u001b[1;33m.\u001b[0m\u001b[0medges\u001b[0m\u001b[1;33m(\u001b[0m\u001b[1;33m)\u001b[0m\u001b[1;33m)\u001b[0m\u001b[1;33m]\u001b[0m\u001b[1;33m\u001b[0m\u001b[0m\n\u001b[0;32m     57\u001b[0m         \u001b[0mskeleton\u001b[0m\u001b[1;33m[\u001b[0m\u001b[1;34m'E'\u001b[0m\u001b[1;33m]\u001b[0m \u001b[1;33m=\u001b[0m \u001b[0mstructure\u001b[0m\u001b[1;33m\u001b[0m\u001b[0m\n",
      "\u001b[1;32mC:\\Program Files (x86)\\Microsoft Visual Studio\\Shared\\Python36_64\\lib\\site-packages\\pgmpy\\estimators\\HillClimbSearch.py\u001b[0m in \u001b[0;36mestimate\u001b[1;34m(self, scoring_method, start_dag, fixed_edges, tabu_length, max_indegree, black_list, white_list, epsilon, max_iter, show_progress)\u001b[0m\n\u001b[0;32m    294\u001b[0m                     \u001b[0mfixed_edges\u001b[0m\u001b[1;33m,\u001b[0m\u001b[1;33m\u001b[0m\u001b[0m\n\u001b[0;32m    295\u001b[0m                 ),\n\u001b[1;32m--> 296\u001b[1;33m                 \u001b[0mkey\u001b[0m\u001b[1;33m=\u001b[0m\u001b[1;32mlambda\u001b[0m \u001b[0mt\u001b[0m\u001b[1;33m:\u001b[0m \u001b[0mt\u001b[0m\u001b[1;33m[\u001b[0m\u001b[1;36m1\u001b[0m\u001b[1;33m]\u001b[0m\u001b[1;33m,\u001b[0m\u001b[1;33m\u001b[0m\u001b[0m\n\u001b[0m\u001b[0;32m    297\u001b[0m             )\n\u001b[0;32m    298\u001b[0m \u001b[1;33m\u001b[0m\u001b[0m\n",
      "\u001b[1;32mC:\\Program Files (x86)\\Microsoft Visual Studio\\Shared\\Python36_64\\lib\\site-packages\\pgmpy\\estimators\\HillClimbSearch.py\u001b[0m in \u001b[0;36m_legal_operations\u001b[1;34m(self, model, score, tabu_list, max_indegree, black_list, white_list, fixed_edges)\u001b[0m\n\u001b[0;32m     90\u001b[0m                     \u001b[0mnew_parents\u001b[0m \u001b[1;33m=\u001b[0m \u001b[0mold_parents\u001b[0m \u001b[1;33m+\u001b[0m \u001b[1;33m[\u001b[0m\u001b[0mX\u001b[0m\u001b[1;33m]\u001b[0m\u001b[1;33m\u001b[0m\u001b[0m\n\u001b[0;32m     91\u001b[0m                     \u001b[1;32mif\u001b[0m \u001b[0mlen\u001b[0m\u001b[1;33m(\u001b[0m\u001b[0mnew_parents\u001b[0m\u001b[1;33m)\u001b[0m \u001b[1;33m<=\u001b[0m \u001b[0mmax_indegree\u001b[0m\u001b[1;33m:\u001b[0m\u001b[1;33m\u001b[0m\u001b[0m\n\u001b[1;32m---> 92\u001b[1;33m                         \u001b[0mscore_delta\u001b[0m \u001b[1;33m=\u001b[0m \u001b[0mscore\u001b[0m\u001b[1;33m(\u001b[0m\u001b[0mY\u001b[0m\u001b[1;33m,\u001b[0m \u001b[0mnew_parents\u001b[0m\u001b[1;33m)\u001b[0m \u001b[1;33m-\u001b[0m \u001b[0mscore\u001b[0m\u001b[1;33m(\u001b[0m\u001b[0mY\u001b[0m\u001b[1;33m,\u001b[0m \u001b[0mold_parents\u001b[0m\u001b[1;33m)\u001b[0m\u001b[1;33m\u001b[0m\u001b[0m\n\u001b[0m\u001b[0;32m     93\u001b[0m                         \u001b[1;32myield\u001b[0m \u001b[1;33m(\u001b[0m\u001b[0moperation\u001b[0m\u001b[1;33m,\u001b[0m \u001b[0mscore_delta\u001b[0m\u001b[1;33m)\u001b[0m\u001b[1;33m\u001b[0m\u001b[0m\n\u001b[0;32m     94\u001b[0m \u001b[1;33m\u001b[0m\u001b[0m\n",
      "\u001b[1;32mC:\\Program Files (x86)\\Microsoft Visual Studio\\Shared\\Python36_64\\lib\\site-packages\\pgmpy\\estimators\\ScoreCache.py\u001b[0m in \u001b[0;36mlocal_score\u001b[1;34m(self, variable, parents)\u001b[0m\n\u001b[0;32m     41\u001b[0m     \u001b[1;32mdef\u001b[0m \u001b[0mlocal_score\u001b[0m\u001b[1;33m(\u001b[0m\u001b[0mself\u001b[0m\u001b[1;33m,\u001b[0m \u001b[0mvariable\u001b[0m\u001b[1;33m,\u001b[0m \u001b[0mparents\u001b[0m\u001b[1;33m)\u001b[0m\u001b[1;33m:\u001b[0m\u001b[1;33m\u001b[0m\u001b[0m\n\u001b[0;32m     42\u001b[0m         \u001b[0mhashable\u001b[0m \u001b[1;33m=\u001b[0m \u001b[0mtuple\u001b[0m\u001b[1;33m(\u001b[0m\u001b[0mparents\u001b[0m\u001b[1;33m)\u001b[0m\u001b[1;33m\u001b[0m\u001b[0m\n\u001b[1;32m---> 43\u001b[1;33m         \u001b[1;32mreturn\u001b[0m \u001b[0mself\u001b[0m\u001b[1;33m.\u001b[0m\u001b[0mcache\u001b[0m\u001b[1;33m(\u001b[0m\u001b[0mvariable\u001b[0m\u001b[1;33m,\u001b[0m \u001b[0mhashable\u001b[0m\u001b[1;33m)\u001b[0m\u001b[1;33m\u001b[0m\u001b[0m\n\u001b[0m\u001b[0;32m     44\u001b[0m \u001b[1;33m\u001b[0m\u001b[0m\n\u001b[0;32m     45\u001b[0m     \u001b[1;32mdef\u001b[0m \u001b[0m_wrapped_original\u001b[0m\u001b[1;33m(\u001b[0m\u001b[0mself\u001b[0m\u001b[1;33m,\u001b[0m \u001b[0mvariable\u001b[0m\u001b[1;33m,\u001b[0m \u001b[0mparents\u001b[0m\u001b[1;33m)\u001b[0m\u001b[1;33m:\u001b[0m\u001b[1;33m\u001b[0m\u001b[0m\n",
      "\u001b[1;32mC:\\Program Files (x86)\\Microsoft Visual Studio\\Shared\\Python36_64\\lib\\site-packages\\pgmpy\\estimators\\ScoreCache.py\u001b[0m in \u001b[0;36m__call__\u001b[1;34m(self, *key)\u001b[0m\n\u001b[0;32m     86\u001b[0m         \u001b[1;32mif\u001b[0m \u001b[0mlink\u001b[0m \u001b[1;32mis\u001b[0m \u001b[0mhead\u001b[0m\u001b[1;33m:\u001b[0m\u001b[1;33m\u001b[0m\u001b[0m\n\u001b[0;32m     87\u001b[0m             \u001b[1;31m# Not yet in map\u001b[0m\u001b[1;33m\u001b[0m\u001b[1;33m\u001b[0m\u001b[0m\n\u001b[1;32m---> 88\u001b[1;33m             \u001b[0mvalue\u001b[0m \u001b[1;33m=\u001b[0m \u001b[0mself\u001b[0m\u001b[1;33m.\u001b[0m\u001b[0moriginal_function\u001b[0m\u001b[1;33m(\u001b[0m\u001b[1;33m*\u001b[0m\u001b[0mkey\u001b[0m\u001b[1;33m)\u001b[0m\u001b[1;33m\u001b[0m\u001b[0m\n\u001b[0m\u001b[0;32m     89\u001b[0m             \u001b[1;32mif\u001b[0m \u001b[0mlen\u001b[0m\u001b[1;33m(\u001b[0m\u001b[0mmapping\u001b[0m\u001b[1;33m)\u001b[0m \u001b[1;33m>=\u001b[0m \u001b[0mself\u001b[0m\u001b[1;33m.\u001b[0m\u001b[0mmax_size\u001b[0m\u001b[1;33m:\u001b[0m\u001b[1;33m\u001b[0m\u001b[0m\n\u001b[0;32m     90\u001b[0m                 \u001b[1;31m# Unlink the least recently used element\u001b[0m\u001b[1;33m\u001b[0m\u001b[1;33m\u001b[0m\u001b[0m\n",
      "\u001b[1;32mC:\\Program Files (x86)\\Microsoft Visual Studio\\Shared\\Python36_64\\lib\\site-packages\\pgmpy\\estimators\\ScoreCache.py\u001b[0m in \u001b[0;36m_wrapped_original\u001b[1;34m(self, variable, parents)\u001b[0m\n\u001b[0;32m     45\u001b[0m     \u001b[1;32mdef\u001b[0m \u001b[0m_wrapped_original\u001b[0m\u001b[1;33m(\u001b[0m\u001b[0mself\u001b[0m\u001b[1;33m,\u001b[0m \u001b[0mvariable\u001b[0m\u001b[1;33m,\u001b[0m \u001b[0mparents\u001b[0m\u001b[1;33m)\u001b[0m\u001b[1;33m:\u001b[0m\u001b[1;33m\u001b[0m\u001b[0m\n\u001b[0;32m     46\u001b[0m         \u001b[0mexpected\u001b[0m \u001b[1;33m=\u001b[0m \u001b[0mlist\u001b[0m\u001b[1;33m(\u001b[0m\u001b[0mparents\u001b[0m\u001b[1;33m)\u001b[0m\u001b[1;33m\u001b[0m\u001b[0m\n\u001b[1;32m---> 47\u001b[1;33m         \u001b[1;32mreturn\u001b[0m \u001b[0mself\u001b[0m\u001b[1;33m.\u001b[0m\u001b[0mbase_scorer\u001b[0m\u001b[1;33m.\u001b[0m\u001b[0mlocal_score\u001b[0m\u001b[1;33m(\u001b[0m\u001b[0mvariable\u001b[0m\u001b[1;33m,\u001b[0m \u001b[0mexpected\u001b[0m\u001b[1;33m)\u001b[0m\u001b[1;33m\u001b[0m\u001b[0m\n\u001b[0m\u001b[0;32m     48\u001b[0m \u001b[1;33m\u001b[0m\u001b[0m\n\u001b[0;32m     49\u001b[0m \u001b[1;33m\u001b[0m\u001b[0m\n",
      "\u001b[1;32mC:\\Program Files (x86)\\Microsoft Visual Studio\\Shared\\Python36_64\\lib\\site-packages\\pgmpy\\estimators\\StructureScore.py\u001b[0m in \u001b[0;36mlocal_score\u001b[1;34m(self, variable, parents)\u001b[0m\n\u001b[0;32m    120\u001b[0m         \u001b[0mvar_states\u001b[0m \u001b[1;33m=\u001b[0m \u001b[0mself\u001b[0m\u001b[1;33m.\u001b[0m\u001b[0mstate_names\u001b[0m\u001b[1;33m[\u001b[0m\u001b[0mvariable\u001b[0m\u001b[1;33m]\u001b[0m\u001b[1;33m\u001b[0m\u001b[0m\n\u001b[0;32m    121\u001b[0m         \u001b[0mvar_cardinality\u001b[0m \u001b[1;33m=\u001b[0m \u001b[0mlen\u001b[0m\u001b[1;33m(\u001b[0m\u001b[0mvar_states\u001b[0m\u001b[1;33m)\u001b[0m\u001b[1;33m\u001b[0m\u001b[0m\n\u001b[1;32m--> 122\u001b[1;33m         \u001b[0mstate_counts\u001b[0m \u001b[1;33m=\u001b[0m \u001b[0mself\u001b[0m\u001b[1;33m.\u001b[0m\u001b[0mstate_counts\u001b[0m\u001b[1;33m(\u001b[0m\u001b[0mvariable\u001b[0m\u001b[1;33m,\u001b[0m \u001b[0mparents\u001b[0m\u001b[1;33m)\u001b[0m\u001b[1;33m\u001b[0m\u001b[0m\n\u001b[0m\u001b[0;32m    123\u001b[0m         \u001b[0mnum_parents_states\u001b[0m \u001b[1;33m=\u001b[0m \u001b[0mfloat\u001b[0m\u001b[1;33m(\u001b[0m\u001b[0mstate_counts\u001b[0m\u001b[1;33m.\u001b[0m\u001b[0mshape\u001b[0m\u001b[1;33m[\u001b[0m\u001b[1;36m1\u001b[0m\u001b[1;33m]\u001b[0m\u001b[1;33m)\u001b[0m\u001b[1;33m\u001b[0m\u001b[0m\n\u001b[0;32m    124\u001b[0m \u001b[1;33m\u001b[0m\u001b[0m\n",
      "\u001b[1;32mC:\\Program Files (x86)\\Microsoft Visual Studio\\Shared\\Python36_64\\lib\\site-packages\\pgmpy\\utils\\decorators.py\u001b[0m in \u001b[0;36m_convert_param_to_tuples\u001b[1;34m(obj, variable, parents, complete_samples_only)\u001b[0m\n\u001b[0;32m      4\u001b[0m     ):\n\u001b[0;32m      5\u001b[0m         \u001b[0mparents\u001b[0m \u001b[1;33m=\u001b[0m \u001b[0mtuple\u001b[0m\u001b[1;33m(\u001b[0m\u001b[0mparents\u001b[0m\u001b[1;33m)\u001b[0m\u001b[1;33m\u001b[0m\u001b[0m\n\u001b[1;32m----> 6\u001b[1;33m         \u001b[1;32mreturn\u001b[0m \u001b[0mfunc\u001b[0m\u001b[1;33m(\u001b[0m\u001b[0mobj\u001b[0m\u001b[1;33m,\u001b[0m \u001b[0mvariable\u001b[0m\u001b[1;33m,\u001b[0m \u001b[0mparents\u001b[0m\u001b[1;33m,\u001b[0m \u001b[0mcomplete_samples_only\u001b[0m\u001b[1;33m)\u001b[0m\u001b[1;33m\u001b[0m\u001b[0m\n\u001b[0m\u001b[0;32m      7\u001b[0m \u001b[1;33m\u001b[0m\u001b[0m\n\u001b[0;32m      8\u001b[0m     \u001b[1;32mreturn\u001b[0m \u001b[0m_convert_param_to_tuples\u001b[0m\u001b[1;33m\u001b[0m\u001b[0m\n",
      "\u001b[1;32mC:\\Program Files (x86)\\Microsoft Visual Studio\\Shared\\Python36_64\\lib\\site-packages\\pgmpy\\estimators\\base.py\u001b[0m in \u001b[0;36mstate_counts\u001b[1;34m(self, variable, parents, complete_samples_only)\u001b[0m\n\u001b[0;32m    126\u001b[0m         data = (\n\u001b[0;32m    127\u001b[0m             \u001b[0mself\u001b[0m\u001b[1;33m.\u001b[0m\u001b[0mdata\u001b[0m\u001b[1;33m.\u001b[0m\u001b[0mdropna\u001b[0m\u001b[1;33m(\u001b[0m\u001b[1;33m)\u001b[0m\u001b[1;33m\u001b[0m\u001b[0m\n\u001b[1;32m--> 128\u001b[1;33m             \u001b[1;32mif\u001b[0m \u001b[0mcomplete_samples_only\u001b[0m\u001b[1;33m\u001b[0m\u001b[0m\n\u001b[0m\u001b[0;32m    129\u001b[0m             \u001b[1;32melse\u001b[0m \u001b[0mself\u001b[0m\u001b[1;33m.\u001b[0m\u001b[0mdata\u001b[0m\u001b[1;33m.\u001b[0m\u001b[0mdropna\u001b[0m\u001b[1;33m(\u001b[0m\u001b[0msubset\u001b[0m\u001b[1;33m=\u001b[0m\u001b[1;33m[\u001b[0m\u001b[0mvariable\u001b[0m\u001b[1;33m]\u001b[0m \u001b[1;33m+\u001b[0m \u001b[0mparents\u001b[0m\u001b[1;33m)\u001b[0m\u001b[1;33m\u001b[0m\u001b[0m\n\u001b[0;32m    130\u001b[0m         )\n",
      "\u001b[1;32mC:\\Program Files (x86)\\Microsoft Visual Studio\\Shared\\Python36_64\\lib\\site-packages\\pandas\\core\\frame.py\u001b[0m in \u001b[0;36mdropna\u001b[1;34m(self, axis, how, thresh, subset, inplace)\u001b[0m\n\u001b[0;32m   4582\u001b[0m                 \u001b[0magg_obj\u001b[0m \u001b[1;33m=\u001b[0m \u001b[0mself\u001b[0m\u001b[1;33m.\u001b[0m\u001b[0mtake\u001b[0m\u001b[1;33m(\u001b[0m\u001b[0mindices\u001b[0m\u001b[1;33m,\u001b[0m \u001b[0maxis\u001b[0m\u001b[1;33m=\u001b[0m\u001b[0magg_axis\u001b[0m\u001b[1;33m)\u001b[0m\u001b[1;33m\u001b[0m\u001b[0m\n\u001b[0;32m   4583\u001b[0m \u001b[1;33m\u001b[0m\u001b[0m\n\u001b[1;32m-> 4584\u001b[1;33m             \u001b[0mcount\u001b[0m \u001b[1;33m=\u001b[0m \u001b[0magg_obj\u001b[0m\u001b[1;33m.\u001b[0m\u001b[0mcount\u001b[0m\u001b[1;33m(\u001b[0m\u001b[0maxis\u001b[0m\u001b[1;33m=\u001b[0m\u001b[0magg_axis\u001b[0m\u001b[1;33m)\u001b[0m\u001b[1;33m\u001b[0m\u001b[0m\n\u001b[0m\u001b[0;32m   4585\u001b[0m \u001b[1;33m\u001b[0m\u001b[0m\n\u001b[0;32m   4586\u001b[0m             \u001b[1;32mif\u001b[0m \u001b[0mthresh\u001b[0m \u001b[1;32mis\u001b[0m \u001b[1;32mnot\u001b[0m \u001b[1;32mNone\u001b[0m\u001b[1;33m:\u001b[0m\u001b[1;33m\u001b[0m\u001b[0m\n",
      "\u001b[1;32mC:\\Program Files (x86)\\Microsoft Visual Studio\\Shared\\Python36_64\\lib\\site-packages\\pandas\\core\\frame.py\u001b[0m in \u001b[0;36mcount\u001b[1;34m(self, axis, level, numeric_only)\u001b[0m\n\u001b[0;32m   7331\u001b[0m                 \u001b[1;31m# the or any_extension_types is really only hit for single-\u001b[0m\u001b[1;33m\u001b[0m\u001b[1;33m\u001b[0m\u001b[0m\n\u001b[0;32m   7332\u001b[0m                 \u001b[1;31m# column frames with an extension array\u001b[0m\u001b[1;33m\u001b[0m\u001b[1;33m\u001b[0m\u001b[0m\n\u001b[1;32m-> 7333\u001b[1;33m                 \u001b[0mresult\u001b[0m \u001b[1;33m=\u001b[0m \u001b[0mnotna\u001b[0m\u001b[1;33m(\u001b[0m\u001b[0mframe\u001b[0m\u001b[1;33m)\u001b[0m\u001b[1;33m.\u001b[0m\u001b[0msum\u001b[0m\u001b[1;33m(\u001b[0m\u001b[0maxis\u001b[0m\u001b[1;33m=\u001b[0m\u001b[0maxis\u001b[0m\u001b[1;33m)\u001b[0m\u001b[1;33m\u001b[0m\u001b[0m\n\u001b[0m\u001b[0;32m   7334\u001b[0m             \u001b[1;32melse\u001b[0m\u001b[1;33m:\u001b[0m\u001b[1;33m\u001b[0m\u001b[0m\n\u001b[0;32m   7335\u001b[0m                 \u001b[1;31m# GH13407\u001b[0m\u001b[1;33m\u001b[0m\u001b[1;33m\u001b[0m\u001b[0m\n",
      "\u001b[1;32mC:\\Program Files (x86)\\Microsoft Visual Studio\\Shared\\Python36_64\\lib\\site-packages\\pandas\\core\\generic.py\u001b[0m in \u001b[0;36mstat_func\u001b[1;34m(self, axis, skipna, level, numeric_only, min_count, **kwargs)\u001b[0m\n\u001b[0;32m  10929\u001b[0m                                       skipna=skipna, min_count=min_count)\n\u001b[0;32m  10930\u001b[0m         return self._reduce(f, name, axis=axis, skipna=skipna,\n\u001b[1;32m> 10931\u001b[1;33m                             numeric_only=numeric_only, min_count=min_count)\n\u001b[0m\u001b[0;32m  10932\u001b[0m \u001b[1;33m\u001b[0m\u001b[0m\n\u001b[0;32m  10933\u001b[0m     \u001b[1;32mreturn\u001b[0m \u001b[0mset_function_name\u001b[0m\u001b[1;33m(\u001b[0m\u001b[0mstat_func\u001b[0m\u001b[1;33m,\u001b[0m \u001b[0mname\u001b[0m\u001b[1;33m,\u001b[0m \u001b[0mcls\u001b[0m\u001b[1;33m)\u001b[0m\u001b[1;33m\u001b[0m\u001b[0m\n",
      "\u001b[1;32mC:\\Program Files (x86)\\Microsoft Visual Studio\\Shared\\Python36_64\\lib\\site-packages\\pandas\\core\\frame.py\u001b[0m in \u001b[0;36m_reduce\u001b[1;34m(self, op, name, axis, skipna, numeric_only, filter_type, **kwds)\u001b[0m\n\u001b[0;32m   7405\u001b[0m             \u001b[1;32mtry\u001b[0m\u001b[1;33m:\u001b[0m\u001b[1;33m\u001b[0m\u001b[0m\n\u001b[0;32m   7406\u001b[0m                 \u001b[0mvalues\u001b[0m \u001b[1;33m=\u001b[0m \u001b[0mself\u001b[0m\u001b[1;33m.\u001b[0m\u001b[0mvalues\u001b[0m\u001b[1;33m\u001b[0m\u001b[0m\n\u001b[1;32m-> 7407\u001b[1;33m                 \u001b[0mresult\u001b[0m \u001b[1;33m=\u001b[0m \u001b[0mf\u001b[0m\u001b[1;33m(\u001b[0m\u001b[0mvalues\u001b[0m\u001b[1;33m)\u001b[0m\u001b[1;33m\u001b[0m\u001b[0m\n\u001b[0m\u001b[0;32m   7408\u001b[0m \u001b[1;33m\u001b[0m\u001b[0m\n\u001b[0;32m   7409\u001b[0m                 if (filter_type == 'bool' and is_object_dtype(values) and\n",
      "\u001b[1;32mC:\\Program Files (x86)\\Microsoft Visual Studio\\Shared\\Python36_64\\lib\\site-packages\\pandas\\core\\frame.py\u001b[0m in \u001b[0;36mf\u001b[1;34m(x)\u001b[0m\n\u001b[0;32m   7394\u001b[0m \u001b[1;33m\u001b[0m\u001b[0m\n\u001b[0;32m   7395\u001b[0m         \u001b[1;32mdef\u001b[0m \u001b[0mf\u001b[0m\u001b[1;33m(\u001b[0m\u001b[0mx\u001b[0m\u001b[1;33m)\u001b[0m\u001b[1;33m:\u001b[0m\u001b[1;33m\u001b[0m\u001b[0m\n\u001b[1;32m-> 7396\u001b[1;33m             \u001b[1;32mreturn\u001b[0m \u001b[0mop\u001b[0m\u001b[1;33m(\u001b[0m\u001b[0mx\u001b[0m\u001b[1;33m,\u001b[0m \u001b[0maxis\u001b[0m\u001b[1;33m=\u001b[0m\u001b[0maxis\u001b[0m\u001b[1;33m,\u001b[0m \u001b[0mskipna\u001b[0m\u001b[1;33m=\u001b[0m\u001b[0mskipna\u001b[0m\u001b[1;33m,\u001b[0m \u001b[1;33m**\u001b[0m\u001b[0mkwds\u001b[0m\u001b[1;33m)\u001b[0m\u001b[1;33m\u001b[0m\u001b[0m\n\u001b[0m\u001b[0;32m   7397\u001b[0m \u001b[1;33m\u001b[0m\u001b[0m\n\u001b[0;32m   7398\u001b[0m         \u001b[1;31m# exclude timedelta/datetime unless we are uniform types\u001b[0m\u001b[1;33m\u001b[0m\u001b[1;33m\u001b[0m\u001b[0m\n",
      "\u001b[1;32mC:\\Program Files (x86)\\Microsoft Visual Studio\\Shared\\Python36_64\\lib\\site-packages\\pandas\\core\\nanops.py\u001b[0m in \u001b[0;36m_f\u001b[1;34m(*args, **kwargs)\u001b[0m\n\u001b[0;32m     74\u001b[0m             \u001b[1;32mtry\u001b[0m\u001b[1;33m:\u001b[0m\u001b[1;33m\u001b[0m\u001b[0m\n\u001b[0;32m     75\u001b[0m                 \u001b[1;32mwith\u001b[0m \u001b[0mnp\u001b[0m\u001b[1;33m.\u001b[0m\u001b[0merrstate\u001b[0m\u001b[1;33m(\u001b[0m\u001b[0minvalid\u001b[0m\u001b[1;33m=\u001b[0m\u001b[1;34m'ignore'\u001b[0m\u001b[1;33m)\u001b[0m\u001b[1;33m:\u001b[0m\u001b[1;33m\u001b[0m\u001b[0m\n\u001b[1;32m---> 76\u001b[1;33m                     \u001b[1;32mreturn\u001b[0m \u001b[0mf\u001b[0m\u001b[1;33m(\u001b[0m\u001b[1;33m*\u001b[0m\u001b[0margs\u001b[0m\u001b[1;33m,\u001b[0m \u001b[1;33m**\u001b[0m\u001b[0mkwargs\u001b[0m\u001b[1;33m)\u001b[0m\u001b[1;33m\u001b[0m\u001b[0m\n\u001b[0m\u001b[0;32m     77\u001b[0m             \u001b[1;32mexcept\u001b[0m \u001b[0mValueError\u001b[0m \u001b[1;32mas\u001b[0m \u001b[0me\u001b[0m\u001b[1;33m:\u001b[0m\u001b[1;33m\u001b[0m\u001b[0m\n\u001b[0;32m     78\u001b[0m                 \u001b[1;31m# we want to transform an object array\u001b[0m\u001b[1;33m\u001b[0m\u001b[1;33m\u001b[0m\u001b[0m\n",
      "\u001b[1;32mC:\\Program Files (x86)\\Microsoft Visual Studio\\Shared\\Python36_64\\lib\\site-packages\\pandas\\core\\nanops.py\u001b[0m in \u001b[0;36mnansum\u001b[1;34m(values, axis, skipna, min_count, mask)\u001b[0m\n\u001b[0;32m    427\u001b[0m     \"\"\"\n\u001b[0;32m    428\u001b[0m     values, mask, dtype, dtype_max, _ = _get_values(values,\n\u001b[1;32m--> 429\u001b[1;33m                                                     skipna, 0, mask=mask)\n\u001b[0m\u001b[0;32m    430\u001b[0m     \u001b[0mdtype_sum\u001b[0m \u001b[1;33m=\u001b[0m \u001b[0mdtype_max\u001b[0m\u001b[1;33m\u001b[0m\u001b[0m\n\u001b[0;32m    431\u001b[0m     \u001b[1;32mif\u001b[0m \u001b[0mis_float_dtype\u001b[0m\u001b[1;33m(\u001b[0m\u001b[0mdtype\u001b[0m\u001b[1;33m)\u001b[0m\u001b[1;33m:\u001b[0m\u001b[1;33m\u001b[0m\u001b[0m\n",
      "\u001b[1;32mC:\\Program Files (x86)\\Microsoft Visual Studio\\Shared\\Python36_64\\lib\\site-packages\\pandas\\core\\nanops.py\u001b[0m in \u001b[0;36m_get_values\u001b[1;34m(values, skipna, fill_value, fill_value_typ, isfinite, copy, mask)\u001b[0m\n\u001b[0;32m    238\u001b[0m     \u001b[1;32mif\u001b[0m \u001b[0mskipna\u001b[0m\u001b[1;33m:\u001b[0m\u001b[1;33m\u001b[0m\u001b[0m\n\u001b[0;32m    239\u001b[0m         \u001b[1;32mif\u001b[0m \u001b[0mcopy\u001b[0m\u001b[1;33m:\u001b[0m\u001b[1;33m\u001b[0m\u001b[0m\n\u001b[1;32m--> 240\u001b[1;33m             \u001b[0mvalues\u001b[0m \u001b[1;33m=\u001b[0m \u001b[0mvalues\u001b[0m\u001b[1;33m.\u001b[0m\u001b[0mcopy\u001b[0m\u001b[1;33m(\u001b[0m\u001b[1;33m)\u001b[0m\u001b[1;33m\u001b[0m\u001b[0m\n\u001b[0m\u001b[0;32m    241\u001b[0m         \u001b[1;32mif\u001b[0m \u001b[0mdtype_ok\u001b[0m\u001b[1;33m:\u001b[0m\u001b[1;33m\u001b[0m\u001b[0m\n\u001b[0;32m    242\u001b[0m             \u001b[0mnp\u001b[0m\u001b[1;33m.\u001b[0m\u001b[0mputmask\u001b[0m\u001b[1;33m(\u001b[0m\u001b[0mvalues\u001b[0m\u001b[1;33m,\u001b[0m \u001b[0mmask\u001b[0m\u001b[1;33m,\u001b[0m \u001b[0mfill_value\u001b[0m\u001b[1;33m)\u001b[0m\u001b[1;33m\u001b[0m\u001b[0m\n",
      "\u001b[1;31mKeyboardInterrupt\u001b[0m: "
     ]
    }
   ],
   "source": [
    "# start = time.time()\n",
    "# node_type = {**node_type1, **node_type2, **node_type3, **node_type4, **node_type5}\n",
    "# bn = structure_learning(new_data[['age',\t'sex',\t'has_high_education',\t'relation_status',\t'number_of_relatives','len_of_about',\t'number_of_activities',\t'number_of_books',\t'number_of_interests',\t'number_of_movies','top1', 'top2', 'top3', 'top4','nodes',\t'betweenness_centrality',\t'eigenvector_centrality', 'density', 'degree_assortativity_coefficient', 'max_tr',\t'mean_tr', 'parent',\t'driver',\t'has_pets',\t'cash_usage']], 'K2', node_type)\n",
    "# param = parameter_learning(data[['age',\t'sex',\t'has_high_education',\t'relation_status',\t'number_of_relatives','len_of_about',\t'number_of_activities',\t'number_of_books',\t'number_of_interests',\t'number_of_movies','top1', 'top2', 'top3', 'top4','nodes',\t'betweenness_centrality',\t'eigenvector_centrality', 'density', 'degree_assortativity_coefficient','max_tr',\t'mean_tr', 'parent',\t'driver',\t'has_pets',\t'cash_usage']], node_type, bn)\n",
    "# end = time.time()\n",
    "# print(end - start)"
   ]
  },
  {
   "cell_type": "code",
   "execution_count": 17,
   "metadata": {},
   "outputs": [],
   "source": [
    "# save_structure(bn, 'full_net')\n",
    "# skel = read_structure('full_net')\n",
    "# save_params(param, 'full_net_param')\n",
    "# params = read_params('full_net_param')\n",
    "# full = HyBayesianNetwork(skel, params)"
   ]
  },
  {
   "cell_type": "code",
   "execution_count": 18,
   "metadata": {},
   "outputs": [
    {
     "output_type": "display_data",
     "data": {
      "text/plain": "<Figure size 2025x225 with 1 Axes>",
      "image/svg+xml": "<?xml version=\"1.0\" encoding=\"utf-8\" standalone=\"no\"?>\r\n<!DOCTYPE svg PUBLIC \"-//W3C//DTD SVG 1.1//EN\"\r\n  \"http://www.w3.org/Graphics/SVG/1.1/DTD/svg11.dtd\">\r\n<!-- Created with matplotlib (https://matplotlib.org/) -->\r\n<svg height=\"100.837344pt\" version=\"1.1\" viewBox=\"0 0 958.444687 100.837344\" width=\"958.444687pt\" xmlns=\"http://www.w3.org/2000/svg\" xmlns:xlink=\"http://www.w3.org/1999/xlink\">\r\n <defs>\r\n  <style type=\"text/css\">\r\n*{stroke-linecap:butt;stroke-linejoin:round;}\r\n  </style>\r\n </defs>\r\n <g id=\"figure_1\">\r\n  <g id=\"patch_1\">\r\n   <path d=\"M 0 100.837344 \r\nL 958.444687 100.837344 \r\nL 958.444687 0 \r\nL 0 0 \r\nz\r\n\" style=\"fill:none;\"/>\r\n  </g>\r\n  <g id=\"axes_1\">\r\n   <g id=\"legend_1\">\r\n    <g id=\"patch_2\">\r\n     <path d=\"M 425.843438 52.818281 \r\nL 547.552813 52.818281 \r\nQ 549.552813 52.818281 549.552813 50.818281 \r\nL 549.552813 37.140156 \r\nQ 549.552813 35.140156 547.552813 35.140156 \r\nL 425.843438 35.140156 \r\nQ 423.843438 35.140156 423.843438 37.140156 \r\nL 423.843438 50.818281 \r\nQ 423.843438 52.818281 425.843438 52.818281 \r\nz\r\n\" style=\"fill:#ffffff;opacity:0.8;stroke:#cccccc;stroke-linejoin:miter;\"/>\r\n    </g>\r\n    <g id=\"patch_3\">\r\n     <path d=\"M 427.843438 46.738594 \r\nL 447.843438 46.738594 \r\nL 447.843438 39.738594 \r\nL 427.843438 39.738594 \r\nz\r\n\" style=\"fill:#2f4f4f;stroke:#2f4f4f;stroke-linejoin:miter;\"/>\r\n    </g>\r\n    <g id=\"text_1\">\r\n     <!-- disc -->\r\n     <defs>\r\n      <path d=\"M 45.40625 46.390625 \r\nL 45.40625 75.984375 \r\nL 54.390625 75.984375 \r\nL 54.390625 0 \r\nL 45.40625 0 \r\nL 45.40625 8.203125 \r\nQ 42.578125 3.328125 38.25 0.953125 \r\nQ 33.9375 -1.421875 27.875 -1.421875 \r\nQ 17.96875 -1.421875 11.734375 6.484375 \r\nQ 5.515625 14.40625 5.515625 27.296875 \r\nQ 5.515625 40.1875 11.734375 48.09375 \r\nQ 17.96875 56 27.875 56 \r\nQ 33.9375 56 38.25 53.625 \r\nQ 42.578125 51.265625 45.40625 46.390625 \r\nz\r\nM 14.796875 27.296875 \r\nQ 14.796875 17.390625 18.875 11.75 \r\nQ 22.953125 6.109375 30.078125 6.109375 \r\nQ 37.203125 6.109375 41.296875 11.75 \r\nQ 45.40625 17.390625 45.40625 27.296875 \r\nQ 45.40625 37.203125 41.296875 42.84375 \r\nQ 37.203125 48.484375 30.078125 48.484375 \r\nQ 22.953125 48.484375 18.875 42.84375 \r\nQ 14.796875 37.203125 14.796875 27.296875 \r\nz\r\n\" id=\"DejaVuSans-100\"/>\r\n      <path d=\"M 9.421875 54.6875 \r\nL 18.40625 54.6875 \r\nL 18.40625 0 \r\nL 9.421875 0 \r\nz\r\nM 9.421875 75.984375 \r\nL 18.40625 75.984375 \r\nL 18.40625 64.59375 \r\nL 9.421875 64.59375 \r\nz\r\n\" id=\"DejaVuSans-105\"/>\r\n      <path d=\"M 44.28125 53.078125 \r\nL 44.28125 44.578125 \r\nQ 40.484375 46.53125 36.375 47.5 \r\nQ 32.28125 48.484375 27.875 48.484375 \r\nQ 21.1875 48.484375 17.84375 46.4375 \r\nQ 14.5 44.390625 14.5 40.28125 \r\nQ 14.5 37.15625 16.890625 35.375 \r\nQ 19.28125 33.59375 26.515625 31.984375 \r\nL 29.59375 31.296875 \r\nQ 39.15625 29.25 43.1875 25.515625 \r\nQ 47.21875 21.78125 47.21875 15.09375 \r\nQ 47.21875 7.46875 41.1875 3.015625 \r\nQ 35.15625 -1.421875 24.609375 -1.421875 \r\nQ 20.21875 -1.421875 15.453125 -0.5625 \r\nQ 10.6875 0.296875 5.421875 2 \r\nL 5.421875 11.28125 \r\nQ 10.40625 8.6875 15.234375 7.390625 \r\nQ 20.0625 6.109375 24.8125 6.109375 \r\nQ 31.15625 6.109375 34.5625 8.28125 \r\nQ 37.984375 10.453125 37.984375 14.40625 \r\nQ 37.984375 18.0625 35.515625 20.015625 \r\nQ 33.0625 21.96875 24.703125 23.78125 \r\nL 21.578125 24.515625 \r\nQ 13.234375 26.265625 9.515625 29.90625 \r\nQ 5.8125 33.546875 5.8125 39.890625 \r\nQ 5.8125 47.609375 11.28125 51.796875 \r\nQ 16.75 56 26.8125 56 \r\nQ 31.78125 56 36.171875 55.265625 \r\nQ 40.578125 54.546875 44.28125 53.078125 \r\nz\r\n\" id=\"DejaVuSans-115\"/>\r\n      <path d=\"M 48.78125 52.59375 \r\nL 48.78125 44.1875 \r\nQ 44.96875 46.296875 41.140625 47.34375 \r\nQ 37.3125 48.390625 33.40625 48.390625 \r\nQ 24.65625 48.390625 19.8125 42.84375 \r\nQ 14.984375 37.3125 14.984375 27.296875 \r\nQ 14.984375 17.28125 19.8125 11.734375 \r\nQ 24.65625 6.203125 33.40625 6.203125 \r\nQ 37.3125 6.203125 41.140625 7.25 \r\nQ 44.96875 8.296875 48.78125 10.40625 \r\nL 48.78125 2.09375 \r\nQ 45.015625 0.34375 40.984375 -0.53125 \r\nQ 36.96875 -1.421875 32.421875 -1.421875 \r\nQ 20.0625 -1.421875 12.78125 6.34375 \r\nQ 5.515625 14.109375 5.515625 27.296875 \r\nQ 5.515625 40.671875 12.859375 48.328125 \r\nQ 20.21875 56 33.015625 56 \r\nQ 37.15625 56 41.109375 55.140625 \r\nQ 45.0625 54.296875 48.78125 52.59375 \r\nz\r\n\" id=\"DejaVuSans-99\"/>\r\n     </defs>\r\n     <g transform=\"translate(455.843438 46.738594)scale(0.1 -0.1)\">\r\n      <use xlink:href=\"#DejaVuSans-100\"/>\r\n      <use x=\"63.476562\" xlink:href=\"#DejaVuSans-105\"/>\r\n      <use x=\"91.259766\" xlink:href=\"#DejaVuSans-115\"/>\r\n      <use x=\"143.359375\" xlink:href=\"#DejaVuSans-99\"/>\r\n     </g>\r\n    </g>\r\n    <g id=\"patch_4\">\r\n     <path d=\"M 495.677813 46.738594 \r\nL 515.677813 46.738594 \r\nL 515.677813 39.738594 \r\nL 495.677813 39.738594 \r\nz\r\n\" style=\"fill:#7b68ee;stroke:#7b68ee;stroke-linejoin:miter;\"/>\r\n    </g>\r\n    <g id=\"text_2\">\r\n     <!-- cont -->\r\n     <defs>\r\n      <path d=\"M 30.609375 48.390625 \r\nQ 23.390625 48.390625 19.1875 42.75 \r\nQ 14.984375 37.109375 14.984375 27.296875 \r\nQ 14.984375 17.484375 19.15625 11.84375 \r\nQ 23.34375 6.203125 30.609375 6.203125 \r\nQ 37.796875 6.203125 41.984375 11.859375 \r\nQ 46.1875 17.53125 46.1875 27.296875 \r\nQ 46.1875 37.015625 41.984375 42.703125 \r\nQ 37.796875 48.390625 30.609375 48.390625 \r\nz\r\nM 30.609375 56 \r\nQ 42.328125 56 49.015625 48.375 \r\nQ 55.71875 40.765625 55.71875 27.296875 \r\nQ 55.71875 13.875 49.015625 6.21875 \r\nQ 42.328125 -1.421875 30.609375 -1.421875 \r\nQ 18.84375 -1.421875 12.171875 6.21875 \r\nQ 5.515625 13.875 5.515625 27.296875 \r\nQ 5.515625 40.765625 12.171875 48.375 \r\nQ 18.84375 56 30.609375 56 \r\nz\r\n\" id=\"DejaVuSans-111\"/>\r\n      <path d=\"M 54.890625 33.015625 \r\nL 54.890625 0 \r\nL 45.90625 0 \r\nL 45.90625 32.71875 \r\nQ 45.90625 40.484375 42.875 44.328125 \r\nQ 39.84375 48.1875 33.796875 48.1875 \r\nQ 26.515625 48.1875 22.3125 43.546875 \r\nQ 18.109375 38.921875 18.109375 30.90625 \r\nL 18.109375 0 \r\nL 9.078125 0 \r\nL 9.078125 54.6875 \r\nL 18.109375 54.6875 \r\nL 18.109375 46.1875 \r\nQ 21.34375 51.125 25.703125 53.5625 \r\nQ 30.078125 56 35.796875 56 \r\nQ 45.21875 56 50.046875 50.171875 \r\nQ 54.890625 44.34375 54.890625 33.015625 \r\nz\r\n\" id=\"DejaVuSans-110\"/>\r\n      <path d=\"M 18.3125 70.21875 \r\nL 18.3125 54.6875 \r\nL 36.8125 54.6875 \r\nL 36.8125 47.703125 \r\nL 18.3125 47.703125 \r\nL 18.3125 18.015625 \r\nQ 18.3125 11.328125 20.140625 9.421875 \r\nQ 21.96875 7.515625 27.59375 7.515625 \r\nL 36.8125 7.515625 \r\nL 36.8125 0 \r\nL 27.59375 0 \r\nQ 17.1875 0 13.234375 3.875 \r\nQ 9.28125 7.765625 9.28125 18.015625 \r\nL 9.28125 47.703125 \r\nL 2.6875 47.703125 \r\nL 2.6875 54.6875 \r\nL 9.28125 54.6875 \r\nL 9.28125 70.21875 \r\nz\r\n\" id=\"DejaVuSans-116\"/>\r\n     </defs>\r\n     <g transform=\"translate(523.677813 46.738594)scale(0.1 -0.1)\">\r\n      <use xlink:href=\"#DejaVuSans-99\"/>\r\n      <use x=\"54.980469\" xlink:href=\"#DejaVuSans-111\"/>\r\n      <use x=\"116.162109\" xlink:href=\"#DejaVuSans-110\"/>\r\n      <use x=\"179.541016\" xlink:href=\"#DejaVuSans-116\"/>\r\n     </g>\r\n    </g>\r\n   </g>\r\n  </g>\r\n </g>\r\n</svg>\r\n",
      "image/png": "[encoded data removed]"
     },
     "metadata": {
      "needs_background": "light"
     }
    },
    {
     "output_type": "execute_result",
     "data": {
      "text/plain": [
       "<IPython.lib.display.IFrame at 0xae0f015748>"
      ],
      "text/html": "\n        <iframe\n            width=\"100%\"\n            height=\"800px\"\n            src=\"visualization_result/Full_net.html\"\n            frameborder=\"0\"\n            allowfullscreen\n        ></iframe>\n        "
     },
     "metadata": {},
     "execution_count": 18
    }
   ],
   "source": [
    "#draw_BN(bn, node_type, 'Full_net')"
   ]
  },
  {
   "cell_type": "code",
   "execution_count": 13,
   "metadata": {},
   "outputs": [
    {
     "output_type": "stream",
     "name": "stderr",
     "text": [
      "  0%|          | 4/1000000 [00:00<30:37:52,  9.07it/s]\n"
     ]
    }
   ],
   "source": [
    "start = time.time()\n",
    "bn1 = structure_learning(module1, 'K2', node_type1)"
   ]
  },
  {
   "cell_type": "code",
   "execution_count": 15,
   "metadata": {},
   "outputs": [
    {
     "output_type": "execute_result",
     "data": {
      "text/plain": [
       "{'V': ['age',\n",
       "  'sex',\n",
       "  'has_high_education',\n",
       "  'relation_status',\n",
       "  'number_of_relatives'],\n",
       " 'E': [['age', 'sex'],\n",
       "  ['has_high_education', 'number_of_relatives'],\n",
       "  ['has_high_education', 'age'],\n",
       "  ['relation_status', 'has_high_education'],\n",
       "  ['relation_status', 'age']]}"
      ]
     },
     "metadata": {},
     "execution_count": 15
    }
   ],
   "source": [
    "bn1"
   ]
  },
  {
   "cell_type": "code",
   "execution_count": 26,
   "metadata": {},
   "outputs": [
    {
     "output_type": "display_data",
     "data": {
      "text/plain": "<Figure size 2025x225 with 1 Axes>",
      "image/svg+xml": "<?xml version=\"1.0\" encoding=\"utf-8\" standalone=\"no\"?>\r\n<!DOCTYPE svg PUBLIC \"-//W3C//DTD SVG 1.1//EN\"\r\n  \"http://www.w3.org/Graphics/SVG/1.1/DTD/svg11.dtd\">\r\n<!-- Created with matplotlib (https://matplotlib.org/) -->\r\n<svg height=\"100.837344pt\" version=\"1.1\" viewBox=\"0 0 958.444687 100.837344\" width=\"958.444687pt\" xmlns=\"http://www.w3.org/2000/svg\" xmlns:xlink=\"http://www.w3.org/1999/xlink\">\r\n <defs>\r\n  <style type=\"text/css\">\r\n*{stroke-linecap:butt;stroke-linejoin:round;}\r\n  </style>\r\n </defs>\r\n <g id=\"figure_1\">\r\n  <g id=\"patch_1\">\r\n   <path d=\"M 0 100.837344 \r\nL 958.444687 100.837344 \r\nL 958.444687 0 \r\nL 0 0 \r\nz\r\n\" style=\"fill:none;\"/>\r\n  </g>\r\n  <g id=\"axes_1\">\r\n   <g id=\"legend_1\">\r\n    <g id=\"patch_2\">\r\n     <path d=\"M 460.780938 52.818281 \r\nL 512.615313 52.818281 \r\nQ 514.615313 52.818281 514.615313 50.818281 \r\nL 514.615313 37.140156 \r\nQ 514.615313 35.140156 512.615313 35.140156 \r\nL 460.780938 35.140156 \r\nQ 458.780938 35.140156 458.780938 37.140156 \r\nL 458.780938 50.818281 \r\nQ 458.780938 52.818281 460.780938 52.818281 \r\nz\r\n\" style=\"fill:#ffffff;opacity:0.8;stroke:#cccccc;stroke-linejoin:miter;\"/>\r\n    </g>\r\n    <g id=\"patch_3\">\r\n     <path d=\"M 462.780938 46.738594 \r\nL 482.780938 46.738594 \r\nL 482.780938 39.738594 \r\nL 462.780938 39.738594 \r\nz\r\n\" style=\"fill:#9467bd;stroke:#9467bd;stroke-linejoin:miter;\"/>\r\n    </g>\r\n    <g id=\"text_1\">\r\n     <!-- disc -->\r\n     <defs>\r\n      <path d=\"M 45.40625 46.390625 \r\nL 45.40625 75.984375 \r\nL 54.390625 75.984375 \r\nL 54.390625 0 \r\nL 45.40625 0 \r\nL 45.40625 8.203125 \r\nQ 42.578125 3.328125 38.25 0.953125 \r\nQ 33.9375 -1.421875 27.875 -1.421875 \r\nQ 17.96875 -1.421875 11.734375 6.484375 \r\nQ 5.515625 14.40625 5.515625 27.296875 \r\nQ 5.515625 40.1875 11.734375 48.09375 \r\nQ 17.96875 56 27.875 56 \r\nQ 33.9375 56 38.25 53.625 \r\nQ 42.578125 51.265625 45.40625 46.390625 \r\nz\r\nM 14.796875 27.296875 \r\nQ 14.796875 17.390625 18.875 11.75 \r\nQ 22.953125 6.109375 30.078125 6.109375 \r\nQ 37.203125 6.109375 41.296875 11.75 \r\nQ 45.40625 17.390625 45.40625 27.296875 \r\nQ 45.40625 37.203125 41.296875 42.84375 \r\nQ 37.203125 48.484375 30.078125 48.484375 \r\nQ 22.953125 48.484375 18.875 42.84375 \r\nQ 14.796875 37.203125 14.796875 27.296875 \r\nz\r\n\" id=\"DejaVuSans-100\"/>\r\n      <path d=\"M 9.421875 54.6875 \r\nL 18.40625 54.6875 \r\nL 18.40625 0 \r\nL 9.421875 0 \r\nz\r\nM 9.421875 75.984375 \r\nL 18.40625 75.984375 \r\nL 18.40625 64.59375 \r\nL 9.421875 64.59375 \r\nz\r\n\" id=\"DejaVuSans-105\"/>\r\n      <path d=\"M 44.28125 53.078125 \r\nL 44.28125 44.578125 \r\nQ 40.484375 46.53125 36.375 47.5 \r\nQ 32.28125 48.484375 27.875 48.484375 \r\nQ 21.1875 48.484375 17.84375 46.4375 \r\nQ 14.5 44.390625 14.5 40.28125 \r\nQ 14.5 37.15625 16.890625 35.375 \r\nQ 19.28125 33.59375 26.515625 31.984375 \r\nL 29.59375 31.296875 \r\nQ 39.15625 29.25 43.1875 25.515625 \r\nQ 47.21875 21.78125 47.21875 15.09375 \r\nQ 47.21875 7.46875 41.1875 3.015625 \r\nQ 35.15625 -1.421875 24.609375 -1.421875 \r\nQ 20.21875 -1.421875 15.453125 -0.5625 \r\nQ 10.6875 0.296875 5.421875 2 \r\nL 5.421875 11.28125 \r\nQ 10.40625 8.6875 15.234375 7.390625 \r\nQ 20.0625 6.109375 24.8125 6.109375 \r\nQ 31.15625 6.109375 34.5625 8.28125 \r\nQ 37.984375 10.453125 37.984375 14.40625 \r\nQ 37.984375 18.0625 35.515625 20.015625 \r\nQ 33.0625 21.96875 24.703125 23.78125 \r\nL 21.578125 24.515625 \r\nQ 13.234375 26.265625 9.515625 29.90625 \r\nQ 5.8125 33.546875 5.8125 39.890625 \r\nQ 5.8125 47.609375 11.28125 51.796875 \r\nQ 16.75 56 26.8125 56 \r\nQ 31.78125 56 36.171875 55.265625 \r\nQ 40.578125 54.546875 44.28125 53.078125 \r\nz\r\n\" id=\"DejaVuSans-115\"/>\r\n      <path d=\"M 48.78125 52.59375 \r\nL 48.78125 44.1875 \r\nQ 44.96875 46.296875 41.140625 47.34375 \r\nQ 37.3125 48.390625 33.40625 48.390625 \r\nQ 24.65625 48.390625 19.8125 42.84375 \r\nQ 14.984375 37.3125 14.984375 27.296875 \r\nQ 14.984375 17.28125 19.8125 11.734375 \r\nQ 24.65625 6.203125 33.40625 6.203125 \r\nQ 37.3125 6.203125 41.140625 7.25 \r\nQ 44.96875 8.296875 48.78125 10.40625 \r\nL 48.78125 2.09375 \r\nQ 45.015625 0.34375 40.984375 -0.53125 \r\nQ 36.96875 -1.421875 32.421875 -1.421875 \r\nQ 20.0625 -1.421875 12.78125 6.34375 \r\nQ 5.515625 14.109375 5.515625 27.296875 \r\nQ 5.515625 40.671875 12.859375 48.328125 \r\nQ 20.21875 56 33.015625 56 \r\nQ 37.15625 56 41.109375 55.140625 \r\nQ 45.0625 54.296875 48.78125 52.59375 \r\nz\r\n\" id=\"DejaVuSans-99\"/>\r\n     </defs>\r\n     <g transform=\"translate(490.780938 46.738594)scale(0.1 -0.1)\">\r\n      <use xlink:href=\"#DejaVuSans-100\"/>\r\n      <use x=\"63.476562\" xlink:href=\"#DejaVuSans-105\"/>\r\n      <use x=\"91.259766\" xlink:href=\"#DejaVuSans-115\"/>\r\n      <use x=\"143.359375\" xlink:href=\"#DejaVuSans-99\"/>\r\n     </g>\r\n    </g>\r\n   </g>\r\n  </g>\r\n </g>\r\n</svg>\r\n",
      "image/png": "[encoded data removed]"
     },
     "metadata": {
      "needs_background": "light"
     }
    },
    {
     "output_type": "execute_result",
     "data": {
      "text/plain": [
       "<IPython.lib.display.IFrame at 0xae440648d0>"
      ],
      "text/html": "\n        <iframe\n            width=\"100%\"\n            height=\"800px\"\n            src=\"visualization_result/module1.html\"\n            frameborder=\"0\"\n            allowfullscreen\n        ></iframe>\n        "
     },
     "metadata": {},
     "execution_count": 26
    }
   ],
   "source": [
    "draw_BN(bn1, node_type1, 'module1')"
   ]
  },
  {
   "cell_type": "code",
   "execution_count": 10,
   "metadata": {
    "tags": []
   },
   "outputs": [],
   "source": [
    "param1 = parameter_learning(data[['age',\t'sex',\t'has_high_education',\t'relation_status',\t'number_of_relatives']], node_type1, bn1)"
   ]
  },
  {
   "cell_type": "code",
   "execution_count": 11,
   "metadata": {},
   "outputs": [],
   "source": [
    "save_structure(bn1, 'skel1')\n",
    "skel1 = read_structure('skel1')\n",
    "save_params(param1, 'params1')\n",
    "params1 = read_params('params1')\n",
    "hybn1 = HyBayesianNetwork(skel1, params1)"
   ]
  },
  {
   "cell_type": "code",
   "execution_count": 14,
   "metadata": {},
   "outputs": [
    {
     "output_type": "stream",
     "name": "stderr",
     "text": [
      "  0%|          | 3/1000000 [00:00<53:04:09,  5.23it/s]\n"
     ]
    }
   ],
   "source": [
    "bn2 = structure_learning(module2, 'K2', node_type2)"
   ]
  },
  {
   "cell_type": "code",
   "execution_count": 31,
   "metadata": {},
   "outputs": [
    {
     "output_type": "execute_result",
     "data": {
      "text/plain": [
       "{'V': ['len_of_about',\n",
       "  'number_of_activities',\n",
       "  'number_of_books',\n",
       "  'number_of_interests',\n",
       "  'number_of_movies'],\n",
       " 'E': [['number_of_activities', 'number_of_interests'],\n",
       "  ['number_of_activities', 'len_of_about'],\n",
       "  ['number_of_interests', 'number_of_movies'],\n",
       "  ['number_of_movies', 'number_of_books']]}"
      ]
     },
     "metadata": {},
     "execution_count": 31
    }
   ],
   "source": [
    "bn2"
   ]
  },
  {
   "cell_type": "code",
   "execution_count": 32,
   "metadata": {},
   "outputs": [
    {
     "output_type": "display_data",
     "data": {
      "text/plain": "<Figure size 2025x225 with 1 Axes>",
      "image/svg+xml": "<?xml version=\"1.0\" encoding=\"utf-8\" standalone=\"no\"?>\r\n<!DOCTYPE svg PUBLIC \"-//W3C//DTD SVG 1.1//EN\"\r\n  \"http://www.w3.org/Graphics/SVG/1.1/DTD/svg11.dtd\">\r\n<!-- Created with matplotlib (https://matplotlib.org/) -->\r\n<svg height=\"100.837344pt\" version=\"1.1\" viewBox=\"0 0 958.444687 100.837344\" width=\"958.444687pt\" xmlns=\"http://www.w3.org/2000/svg\" xmlns:xlink=\"http://www.w3.org/1999/xlink\">\r\n <defs>\r\n  <style type=\"text/css\">\r\n*{stroke-linecap:butt;stroke-linejoin:round;}\r\n  </style>\r\n </defs>\r\n <g id=\"figure_1\">\r\n  <g id=\"patch_1\">\r\n   <path d=\"M 0 100.837344 \r\nL 958.444687 100.837344 \r\nL 958.444687 0 \r\nL 0 0 \r\nz\r\n\" style=\"fill:none;\"/>\r\n  </g>\r\n  <g id=\"axes_1\">\r\n   <g id=\"legend_1\">\r\n    <g id=\"patch_2\">\r\n     <path d=\"M 460.780938 52.818281 \r\nL 512.615313 52.818281 \r\nQ 514.615313 52.818281 514.615313 50.818281 \r\nL 514.615313 37.140156 \r\nQ 514.615313 35.140156 512.615313 35.140156 \r\nL 460.780938 35.140156 \r\nQ 458.780938 35.140156 458.780938 37.140156 \r\nL 458.780938 50.818281 \r\nQ 458.780938 52.818281 460.780938 52.818281 \r\nz\r\n\" style=\"fill:#ffffff;opacity:0.8;stroke:#cccccc;stroke-linejoin:miter;\"/>\r\n    </g>\r\n    <g id=\"patch_3\">\r\n     <path d=\"M 462.780938 46.738594 \r\nL 482.780938 46.738594 \r\nL 482.780938 39.738594 \r\nL 462.780938 39.738594 \r\nz\r\n\" style=\"fill:#9467bd;stroke:#9467bd;stroke-linejoin:miter;\"/>\r\n    </g>\r\n    <g id=\"text_1\">\r\n     <!-- disc -->\r\n     <defs>\r\n      <path d=\"M 45.40625 46.390625 \r\nL 45.40625 75.984375 \r\nL 54.390625 75.984375 \r\nL 54.390625 0 \r\nL 45.40625 0 \r\nL 45.40625 8.203125 \r\nQ 42.578125 3.328125 38.25 0.953125 \r\nQ 33.9375 -1.421875 27.875 -1.421875 \r\nQ 17.96875 -1.421875 11.734375 6.484375 \r\nQ 5.515625 14.40625 5.515625 27.296875 \r\nQ 5.515625 40.1875 11.734375 48.09375 \r\nQ 17.96875 56 27.875 56 \r\nQ 33.9375 56 38.25 53.625 \r\nQ 42.578125 51.265625 45.40625 46.390625 \r\nz\r\nM 14.796875 27.296875 \r\nQ 14.796875 17.390625 18.875 11.75 \r\nQ 22.953125 6.109375 30.078125 6.109375 \r\nQ 37.203125 6.109375 41.296875 11.75 \r\nQ 45.40625 17.390625 45.40625 27.296875 \r\nQ 45.40625 37.203125 41.296875 42.84375 \r\nQ 37.203125 48.484375 30.078125 48.484375 \r\nQ 22.953125 48.484375 18.875 42.84375 \r\nQ 14.796875 37.203125 14.796875 27.296875 \r\nz\r\n\" id=\"DejaVuSans-100\"/>\r\n      <path d=\"M 9.421875 54.6875 \r\nL 18.40625 54.6875 \r\nL 18.40625 0 \r\nL 9.421875 0 \r\nz\r\nM 9.421875 75.984375 \r\nL 18.40625 75.984375 \r\nL 18.40625 64.59375 \r\nL 9.421875 64.59375 \r\nz\r\n\" id=\"DejaVuSans-105\"/>\r\n      <path d=\"M 44.28125 53.078125 \r\nL 44.28125 44.578125 \r\nQ 40.484375 46.53125 36.375 47.5 \r\nQ 32.28125 48.484375 27.875 48.484375 \r\nQ 21.1875 48.484375 17.84375 46.4375 \r\nQ 14.5 44.390625 14.5 40.28125 \r\nQ 14.5 37.15625 16.890625 35.375 \r\nQ 19.28125 33.59375 26.515625 31.984375 \r\nL 29.59375 31.296875 \r\nQ 39.15625 29.25 43.1875 25.515625 \r\nQ 47.21875 21.78125 47.21875 15.09375 \r\nQ 47.21875 7.46875 41.1875 3.015625 \r\nQ 35.15625 -1.421875 24.609375 -1.421875 \r\nQ 20.21875 -1.421875 15.453125 -0.5625 \r\nQ 10.6875 0.296875 5.421875 2 \r\nL 5.421875 11.28125 \r\nQ 10.40625 8.6875 15.234375 7.390625 \r\nQ 20.0625 6.109375 24.8125 6.109375 \r\nQ 31.15625 6.109375 34.5625 8.28125 \r\nQ 37.984375 10.453125 37.984375 14.40625 \r\nQ 37.984375 18.0625 35.515625 20.015625 \r\nQ 33.0625 21.96875 24.703125 23.78125 \r\nL 21.578125 24.515625 \r\nQ 13.234375 26.265625 9.515625 29.90625 \r\nQ 5.8125 33.546875 5.8125 39.890625 \r\nQ 5.8125 47.609375 11.28125 51.796875 \r\nQ 16.75 56 26.8125 56 \r\nQ 31.78125 56 36.171875 55.265625 \r\nQ 40.578125 54.546875 44.28125 53.078125 \r\nz\r\n\" id=\"DejaVuSans-115\"/>\r\n      <path d=\"M 48.78125 52.59375 \r\nL 48.78125 44.1875 \r\nQ 44.96875 46.296875 41.140625 47.34375 \r\nQ 37.3125 48.390625 33.40625 48.390625 \r\nQ 24.65625 48.390625 19.8125 42.84375 \r\nQ 14.984375 37.3125 14.984375 27.296875 \r\nQ 14.984375 17.28125 19.8125 11.734375 \r\nQ 24.65625 6.203125 33.40625 6.203125 \r\nQ 37.3125 6.203125 41.140625 7.25 \r\nQ 44.96875 8.296875 48.78125 10.40625 \r\nL 48.78125 2.09375 \r\nQ 45.015625 0.34375 40.984375 -0.53125 \r\nQ 36.96875 -1.421875 32.421875 -1.421875 \r\nQ 20.0625 -1.421875 12.78125 6.34375 \r\nQ 5.515625 14.109375 5.515625 27.296875 \r\nQ 5.515625 40.671875 12.859375 48.328125 \r\nQ 20.21875 56 33.015625 56 \r\nQ 37.15625 56 41.109375 55.140625 \r\nQ 45.0625 54.296875 48.78125 52.59375 \r\nz\r\n\" id=\"DejaVuSans-99\"/>\r\n     </defs>\r\n     <g transform=\"translate(490.780938 46.738594)scale(0.1 -0.1)\">\r\n      <use xlink:href=\"#DejaVuSans-100\"/>\r\n      <use x=\"63.476562\" xlink:href=\"#DejaVuSans-105\"/>\r\n      <use x=\"91.259766\" xlink:href=\"#DejaVuSans-115\"/>\r\n      <use x=\"143.359375\" xlink:href=\"#DejaVuSans-99\"/>\r\n     </g>\r\n    </g>\r\n   </g>\r\n  </g>\r\n </g>\r\n</svg>\r\n",
      "image/png": "[encoded data removed]"
     },
     "metadata": {
      "needs_background": "light"
     }
    },
    {
     "output_type": "execute_result",
     "data": {
      "text/plain": [
       "<IPython.lib.display.IFrame at 0xaf5df5bd30>"
      ],
      "text/html": "\n        <iframe\n            width=\"100%\"\n            height=\"800px\"\n            src=\"visualization_result/module2.html\"\n            frameborder=\"0\"\n            allowfullscreen\n        ></iframe>\n        "
     },
     "metadata": {},
     "execution_count": 32
    }
   ],
   "source": [
    "draw_BN(bn2, node_type2, 'module2')"
   ]
  },
  {
   "cell_type": "code",
   "execution_count": 33,
   "metadata": {},
   "outputs": [],
   "source": [
    "#param2 = parameter_learning(data[['len_of_about',\t'number_of_activities',\t'number_of_books',\t'number_of_interests',\t'number_of_movies']], node_type2, bn2)"
   ]
  },
  {
   "cell_type": "code",
   "execution_count": 34,
   "metadata": {},
   "outputs": [],
   "source": [
    "# save_structure(bn2, 'skel2')\n",
    "# skel2 = read_structure('skel2')\n",
    "# save_params(param2, 'params2')\n",
    "# params2 = read_params('params2')\n",
    "# hybn2 = HyBayesianNetwork(skel2, params2)\n"
   ]
  },
  {
   "cell_type": "code",
   "execution_count": 35,
   "metadata": {},
   "outputs": [
    {
     "output_type": "stream",
     "name": "stdout",
     "text": [
      "2.421198844909668\n"
     ]
    }
   ],
   "source": [
    "end = time.time()\n",
    "print(end - start)"
   ]
  },
  {
   "cell_type": "code",
   "execution_count": 36,
   "metadata": {},
   "outputs": [],
   "source": [
    "# node_type_final = {**node_type1, **node_type2}\n",
    "# hybn_connect = direct_connect([bn1,bn2],new_data, node_type_final)\n",
    "# hybn_final = direct_train([bn1,bn2], data, hybn_connect)"
   ]
  },
  {
   "cell_type": "code",
   "execution_count": 37,
   "metadata": {},
   "outputs": [],
   "source": [
    "# end = time.time()\n",
    "# print(end - start)"
   ]
  },
  {
   "cell_type": "code",
   "execution_count": 15,
   "metadata": {},
   "outputs": [
    {
     "output_type": "stream",
     "name": "stderr",
     "text": [
      "  0%|          | 6/1000000 [00:00<13:56:21, 19.93it/s]\n"
     ]
    },
    {
     "output_type": "execute_result",
     "data": {
      "text/plain": [
       "{'V': ['top1', 'top2', 'top3', 'top4'],\n",
       " 'E': [['top1', 'top2'],\n",
       "  ['top1', 'top4'],\n",
       "  ['top1', 'top3'],\n",
       "  ['top2', 'top4'],\n",
       "  ['top2', 'top3'],\n",
       "  ['top3', 'top4']]}"
      ]
     },
     "metadata": {},
     "execution_count": 15
    }
   ],
   "source": [
    "bn3 = structure_learning(module3, 'K2', node_type3)\n",
    "bn3"
   ]
  },
  {
   "cell_type": "code",
   "execution_count": 39,
   "metadata": {},
   "outputs": [
    {
     "output_type": "display_data",
     "data": {
      "text/plain": "<Figure size 2025x225 with 1 Axes>",
      "image/svg+xml": "<?xml version=\"1.0\" encoding=\"utf-8\" standalone=\"no\"?>\r\n<!DOCTYPE svg PUBLIC \"-//W3C//DTD SVG 1.1//EN\"\r\n  \"http://www.w3.org/Graphics/SVG/1.1/DTD/svg11.dtd\">\r\n<!-- Created with matplotlib (https://matplotlib.org/) -->\r\n<svg height=\"100.837344pt\" version=\"1.1\" viewBox=\"0 0 958.444687 100.837344\" width=\"958.444687pt\" xmlns=\"http://www.w3.org/2000/svg\" xmlns:xlink=\"http://www.w3.org/1999/xlink\">\r\n <defs>\r\n  <style type=\"text/css\">\r\n*{stroke-linecap:butt;stroke-linejoin:round;}\r\n  </style>\r\n </defs>\r\n <g id=\"figure_1\">\r\n  <g id=\"patch_1\">\r\n   <path d=\"M 0 100.837344 \r\nL 958.444687 100.837344 \r\nL 958.444687 0 \r\nL 0 0 \r\nz\r\n\" style=\"fill:none;\"/>\r\n  </g>\r\n  <g id=\"axes_1\">\r\n   <g id=\"legend_1\">\r\n    <g id=\"patch_2\">\r\n     <path d=\"M 460.780938 52.818281 \r\nL 512.615313 52.818281 \r\nQ 514.615313 52.818281 514.615313 50.818281 \r\nL 514.615313 37.140156 \r\nQ 514.615313 35.140156 512.615313 35.140156 \r\nL 460.780938 35.140156 \r\nQ 458.780938 35.140156 458.780938 37.140156 \r\nL 458.780938 50.818281 \r\nQ 458.780938 52.818281 460.780938 52.818281 \r\nz\r\n\" style=\"fill:#ffffff;opacity:0.8;stroke:#cccccc;stroke-linejoin:miter;\"/>\r\n    </g>\r\n    <g id=\"patch_3\">\r\n     <path d=\"M 462.780938 46.738594 \r\nL 482.780938 46.738594 \r\nL 482.780938 39.738594 \r\nL 462.780938 39.738594 \r\nz\r\n\" style=\"fill:#d62728;stroke:#d62728;stroke-linejoin:miter;\"/>\r\n    </g>\r\n    <g id=\"text_1\">\r\n     <!-- disc -->\r\n     <defs>\r\n      <path d=\"M 45.40625 46.390625 \r\nL 45.40625 75.984375 \r\nL 54.390625 75.984375 \r\nL 54.390625 0 \r\nL 45.40625 0 \r\nL 45.40625 8.203125 \r\nQ 42.578125 3.328125 38.25 0.953125 \r\nQ 33.9375 -1.421875 27.875 -1.421875 \r\nQ 17.96875 -1.421875 11.734375 6.484375 \r\nQ 5.515625 14.40625 5.515625 27.296875 \r\nQ 5.515625 40.1875 11.734375 48.09375 \r\nQ 17.96875 56 27.875 56 \r\nQ 33.9375 56 38.25 53.625 \r\nQ 42.578125 51.265625 45.40625 46.390625 \r\nz\r\nM 14.796875 27.296875 \r\nQ 14.796875 17.390625 18.875 11.75 \r\nQ 22.953125 6.109375 30.078125 6.109375 \r\nQ 37.203125 6.109375 41.296875 11.75 \r\nQ 45.40625 17.390625 45.40625 27.296875 \r\nQ 45.40625 37.203125 41.296875 42.84375 \r\nQ 37.203125 48.484375 30.078125 48.484375 \r\nQ 22.953125 48.484375 18.875 42.84375 \r\nQ 14.796875 37.203125 14.796875 27.296875 \r\nz\r\n\" id=\"DejaVuSans-100\"/>\r\n      <path d=\"M 9.421875 54.6875 \r\nL 18.40625 54.6875 \r\nL 18.40625 0 \r\nL 9.421875 0 \r\nz\r\nM 9.421875 75.984375 \r\nL 18.40625 75.984375 \r\nL 18.40625 64.59375 \r\nL 9.421875 64.59375 \r\nz\r\n\" id=\"DejaVuSans-105\"/>\r\n      <path d=\"M 44.28125 53.078125 \r\nL 44.28125 44.578125 \r\nQ 40.484375 46.53125 36.375 47.5 \r\nQ 32.28125 48.484375 27.875 48.484375 \r\nQ 21.1875 48.484375 17.84375 46.4375 \r\nQ 14.5 44.390625 14.5 40.28125 \r\nQ 14.5 37.15625 16.890625 35.375 \r\nQ 19.28125 33.59375 26.515625 31.984375 \r\nL 29.59375 31.296875 \r\nQ 39.15625 29.25 43.1875 25.515625 \r\nQ 47.21875 21.78125 47.21875 15.09375 \r\nQ 47.21875 7.46875 41.1875 3.015625 \r\nQ 35.15625 -1.421875 24.609375 -1.421875 \r\nQ 20.21875 -1.421875 15.453125 -0.5625 \r\nQ 10.6875 0.296875 5.421875 2 \r\nL 5.421875 11.28125 \r\nQ 10.40625 8.6875 15.234375 7.390625 \r\nQ 20.0625 6.109375 24.8125 6.109375 \r\nQ 31.15625 6.109375 34.5625 8.28125 \r\nQ 37.984375 10.453125 37.984375 14.40625 \r\nQ 37.984375 18.0625 35.515625 20.015625 \r\nQ 33.0625 21.96875 24.703125 23.78125 \r\nL 21.578125 24.515625 \r\nQ 13.234375 26.265625 9.515625 29.90625 \r\nQ 5.8125 33.546875 5.8125 39.890625 \r\nQ 5.8125 47.609375 11.28125 51.796875 \r\nQ 16.75 56 26.8125 56 \r\nQ 31.78125 56 36.171875 55.265625 \r\nQ 40.578125 54.546875 44.28125 53.078125 \r\nz\r\n\" id=\"DejaVuSans-115\"/>\r\n      <path d=\"M 48.78125 52.59375 \r\nL 48.78125 44.1875 \r\nQ 44.96875 46.296875 41.140625 47.34375 \r\nQ 37.3125 48.390625 33.40625 48.390625 \r\nQ 24.65625 48.390625 19.8125 42.84375 \r\nQ 14.984375 37.3125 14.984375 27.296875 \r\nQ 14.984375 17.28125 19.8125 11.734375 \r\nQ 24.65625 6.203125 33.40625 6.203125 \r\nQ 37.3125 6.203125 41.140625 7.25 \r\nQ 44.96875 8.296875 48.78125 10.40625 \r\nL 48.78125 2.09375 \r\nQ 45.015625 0.34375 40.984375 -0.53125 \r\nQ 36.96875 -1.421875 32.421875 -1.421875 \r\nQ 20.0625 -1.421875 12.78125 6.34375 \r\nQ 5.515625 14.109375 5.515625 27.296875 \r\nQ 5.515625 40.671875 12.859375 48.328125 \r\nQ 20.21875 56 33.015625 56 \r\nQ 37.15625 56 41.109375 55.140625 \r\nQ 45.0625 54.296875 48.78125 52.59375 \r\nz\r\n\" id=\"DejaVuSans-99\"/>\r\n     </defs>\r\n     <g transform=\"translate(490.780938 46.738594)scale(0.1 -0.1)\">\r\n      <use xlink:href=\"#DejaVuSans-100\"/>\r\n      <use x=\"63.476562\" xlink:href=\"#DejaVuSans-105\"/>\r\n      <use x=\"91.259766\" xlink:href=\"#DejaVuSans-115\"/>\r\n      <use x=\"143.359375\" xlink:href=\"#DejaVuSans-99\"/>\r\n     </g>\r\n    </g>\r\n   </g>\r\n  </g>\r\n </g>\r\n</svg>\r\n",
      "image/png": "[encoded data removed]"
     },
     "metadata": {
      "needs_background": "light"
     }
    },
    {
     "output_type": "execute_result",
     "data": {
      "text/plain": [
       "<IPython.lib.display.IFrame at 0xaf5e3741d0>"
      ],
      "text/html": "\n        <iframe\n            width=\"100%\"\n            height=\"800px\"\n            src=\"visualization_result/module3.html\"\n            frameborder=\"0\"\n            allowfullscreen\n        ></iframe>\n        "
     },
     "metadata": {},
     "execution_count": 39
    }
   ],
   "source": [
    "draw_BN(bn3, node_type3, 'module3')"
   ]
  },
  {
   "cell_type": "code",
   "execution_count": 40,
   "metadata": {},
   "outputs": [],
   "source": [
    "#param3 = parameter_learning(data[['top1', 'top2', 'top3', 'top4']], node_type3, bn3)"
   ]
  },
  {
   "cell_type": "code",
   "execution_count": 41,
   "metadata": {},
   "outputs": [],
   "source": [
    "# save_structure(bn3, 'skel3')\n",
    "# skel3 = read_structure('skel3')\n",
    "# save_params(param3, 'params3')\n",
    "# params3 = read_params('params3')\n",
    "# hybn3 = HyBayesianNetwork(skel3, params3)"
   ]
  },
  {
   "cell_type": "code",
   "execution_count": 42,
   "metadata": {},
   "outputs": [
    {
     "output_type": "stream",
     "name": "stdout",
     "text": [
      "3.4464473724365234\n"
     ]
    }
   ],
   "source": [
    "end = time.time()\n",
    "print(end - start)"
   ]
  },
  {
   "cell_type": "code",
   "execution_count": 43,
   "metadata": {},
   "outputs": [],
   "source": [
    "# node_type_final = {**node_type1, **node_type2,  **node_type3}\n",
    "# hybn_connect = direct_connect([bn1,bn2, bn3],new_data, node_type_final)\n",
    "# hybn_final = direct_train([bn1,bn2, bn3], data, hybn_connect)"
   ]
  },
  {
   "cell_type": "code",
   "execution_count": 44,
   "metadata": {},
   "outputs": [],
   "source": [
    "# end = time.time()\n",
    "# print(end - start)"
   ]
  },
  {
   "cell_type": "code",
   "execution_count": 16,
   "metadata": {},
   "outputs": [
    {
     "output_type": "stream",
     "name": "stderr",
     "text": [
      "  0%|          | 5/1000000 [00:00<47:14:02,  5.88it/s]\n"
     ]
    },
    {
     "output_type": "execute_result",
     "data": {
      "text/plain": [
       "{'V': ['nodes',\n",
       "  'betweenness_centrality',\n",
       "  'eigenvector_centrality',\n",
       "  'density',\n",
       "  'degree_assortativity_coefficient'],\n",
       " 'E': [['nodes', 'degree_assortativity_coefficient'],\n",
       "  ['nodes', 'density'],\n",
       "  ['betweenness_centrality', 'density'],\n",
       "  ['eigenvector_centrality', 'betweenness_centrality'],\n",
       "  ['degree_assortativity_coefficient', 'eigenvector_centrality'],\n",
       "  ['degree_assortativity_coefficient', 'betweenness_centrality']]}"
      ]
     },
     "metadata": {},
     "execution_count": 16
    }
   ],
   "source": [
    "bn4 = structure_learning(module4, 'K2', node_type4)\n",
    "bn4"
   ]
  },
  {
   "cell_type": "code",
   "execution_count": 46,
   "metadata": {},
   "outputs": [
    {
     "output_type": "display_data",
     "data": {
      "text/plain": "<Figure size 2025x225 with 1 Axes>",
      "image/svg+xml": "<?xml version=\"1.0\" encoding=\"utf-8\" standalone=\"no\"?>\r\n<!DOCTYPE svg PUBLIC \"-//W3C//DTD SVG 1.1//EN\"\r\n  \"http://www.w3.org/Graphics/SVG/1.1/DTD/svg11.dtd\">\r\n<!-- Created with matplotlib (https://matplotlib.org/) -->\r\n<svg height=\"100.837344pt\" version=\"1.1\" viewBox=\"0 0 958.444687 100.837344\" width=\"958.444687pt\" xmlns=\"http://www.w3.org/2000/svg\" xmlns:xlink=\"http://www.w3.org/1999/xlink\">\r\n <defs>\r\n  <style type=\"text/css\">\r\n*{stroke-linecap:butt;stroke-linejoin:round;}\r\n  </style>\r\n </defs>\r\n <g id=\"figure_1\">\r\n  <g id=\"patch_1\">\r\n   <path d=\"M 0 100.837344 \r\nL 958.444687 100.837344 \r\nL 958.444687 0 \r\nL 0 0 \r\nz\r\n\" style=\"fill:none;\"/>\r\n  </g>\r\n  <g id=\"axes_1\">\r\n   <g id=\"legend_1\">\r\n    <g id=\"patch_2\">\r\n     <path d=\"M 425.843438 52.818281 \r\nL 547.552813 52.818281 \r\nQ 549.552813 52.818281 549.552813 50.818281 \r\nL 549.552813 37.140156 \r\nQ 549.552813 35.140156 547.552813 35.140156 \r\nL 425.843438 35.140156 \r\nQ 423.843438 35.140156 423.843438 37.140156 \r\nL 423.843438 50.818281 \r\nQ 423.843438 52.818281 425.843438 52.818281 \r\nz\r\n\" style=\"fill:#ffffff;opacity:0.8;stroke:#cccccc;stroke-linejoin:miter;\"/>\r\n    </g>\r\n    <g id=\"patch_3\">\r\n     <path d=\"M 427.843438 46.738594 \r\nL 447.843438 46.738594 \r\nL 447.843438 39.738594 \r\nL 427.843438 39.738594 \r\nz\r\n\" style=\"fill:#1f77b4;stroke:#1f77b4;stroke-linejoin:miter;\"/>\r\n    </g>\r\n    <g id=\"text_1\">\r\n     <!-- disc -->\r\n     <defs>\r\n      <path d=\"M 45.40625 46.390625 \r\nL 45.40625 75.984375 \r\nL 54.390625 75.984375 \r\nL 54.390625 0 \r\nL 45.40625 0 \r\nL 45.40625 8.203125 \r\nQ 42.578125 3.328125 38.25 0.953125 \r\nQ 33.9375 -1.421875 27.875 -1.421875 \r\nQ 17.96875 -1.421875 11.734375 6.484375 \r\nQ 5.515625 14.40625 5.515625 27.296875 \r\nQ 5.515625 40.1875 11.734375 48.09375 \r\nQ 17.96875 56 27.875 56 \r\nQ 33.9375 56 38.25 53.625 \r\nQ 42.578125 51.265625 45.40625 46.390625 \r\nz\r\nM 14.796875 27.296875 \r\nQ 14.796875 17.390625 18.875 11.75 \r\nQ 22.953125 6.109375 30.078125 6.109375 \r\nQ 37.203125 6.109375 41.296875 11.75 \r\nQ 45.40625 17.390625 45.40625 27.296875 \r\nQ 45.40625 37.203125 41.296875 42.84375 \r\nQ 37.203125 48.484375 30.078125 48.484375 \r\nQ 22.953125 48.484375 18.875 42.84375 \r\nQ 14.796875 37.203125 14.796875 27.296875 \r\nz\r\n\" id=\"DejaVuSans-100\"/>\r\n      <path d=\"M 9.421875 54.6875 \r\nL 18.40625 54.6875 \r\nL 18.40625 0 \r\nL 9.421875 0 \r\nz\r\nM 9.421875 75.984375 \r\nL 18.40625 75.984375 \r\nL 18.40625 64.59375 \r\nL 9.421875 64.59375 \r\nz\r\n\" id=\"DejaVuSans-105\"/>\r\n      <path d=\"M 44.28125 53.078125 \r\nL 44.28125 44.578125 \r\nQ 40.484375 46.53125 36.375 47.5 \r\nQ 32.28125 48.484375 27.875 48.484375 \r\nQ 21.1875 48.484375 17.84375 46.4375 \r\nQ 14.5 44.390625 14.5 40.28125 \r\nQ 14.5 37.15625 16.890625 35.375 \r\nQ 19.28125 33.59375 26.515625 31.984375 \r\nL 29.59375 31.296875 \r\nQ 39.15625 29.25 43.1875 25.515625 \r\nQ 47.21875 21.78125 47.21875 15.09375 \r\nQ 47.21875 7.46875 41.1875 3.015625 \r\nQ 35.15625 -1.421875 24.609375 -1.421875 \r\nQ 20.21875 -1.421875 15.453125 -0.5625 \r\nQ 10.6875 0.296875 5.421875 2 \r\nL 5.421875 11.28125 \r\nQ 10.40625 8.6875 15.234375 7.390625 \r\nQ 20.0625 6.109375 24.8125 6.109375 \r\nQ 31.15625 6.109375 34.5625 8.28125 \r\nQ 37.984375 10.453125 37.984375 14.40625 \r\nQ 37.984375 18.0625 35.515625 20.015625 \r\nQ 33.0625 21.96875 24.703125 23.78125 \r\nL 21.578125 24.515625 \r\nQ 13.234375 26.265625 9.515625 29.90625 \r\nQ 5.8125 33.546875 5.8125 39.890625 \r\nQ 5.8125 47.609375 11.28125 51.796875 \r\nQ 16.75 56 26.8125 56 \r\nQ 31.78125 56 36.171875 55.265625 \r\nQ 40.578125 54.546875 44.28125 53.078125 \r\nz\r\n\" id=\"DejaVuSans-115\"/>\r\n      <path d=\"M 48.78125 52.59375 \r\nL 48.78125 44.1875 \r\nQ 44.96875 46.296875 41.140625 47.34375 \r\nQ 37.3125 48.390625 33.40625 48.390625 \r\nQ 24.65625 48.390625 19.8125 42.84375 \r\nQ 14.984375 37.3125 14.984375 27.296875 \r\nQ 14.984375 17.28125 19.8125 11.734375 \r\nQ 24.65625 6.203125 33.40625 6.203125 \r\nQ 37.3125 6.203125 41.140625 7.25 \r\nQ 44.96875 8.296875 48.78125 10.40625 \r\nL 48.78125 2.09375 \r\nQ 45.015625 0.34375 40.984375 -0.53125 \r\nQ 36.96875 -1.421875 32.421875 -1.421875 \r\nQ 20.0625 -1.421875 12.78125 6.34375 \r\nQ 5.515625 14.109375 5.515625 27.296875 \r\nQ 5.515625 40.671875 12.859375 48.328125 \r\nQ 20.21875 56 33.015625 56 \r\nQ 37.15625 56 41.109375 55.140625 \r\nQ 45.0625 54.296875 48.78125 52.59375 \r\nz\r\n\" id=\"DejaVuSans-99\"/>\r\n     </defs>\r\n     <g transform=\"translate(455.843438 46.738594)scale(0.1 -0.1)\">\r\n      <use xlink:href=\"#DejaVuSans-100\"/>\r\n      <use x=\"63.476562\" xlink:href=\"#DejaVuSans-105\"/>\r\n      <use x=\"91.259766\" xlink:href=\"#DejaVuSans-115\"/>\r\n      <use x=\"143.359375\" xlink:href=\"#DejaVuSans-99\"/>\r\n     </g>\r\n    </g>\r\n    <g id=\"patch_4\">\r\n     <path d=\"M 495.677813 46.738594 \r\nL 515.677813 46.738594 \r\nL 515.677813 39.738594 \r\nL 495.677813 39.738594 \r\nz\r\n\" style=\"fill:#9467bd;stroke:#9467bd;stroke-linejoin:miter;\"/>\r\n    </g>\r\n    <g id=\"text_2\">\r\n     <!-- cont -->\r\n     <defs>\r\n      <path d=\"M 30.609375 48.390625 \r\nQ 23.390625 48.390625 19.1875 42.75 \r\nQ 14.984375 37.109375 14.984375 27.296875 \r\nQ 14.984375 17.484375 19.15625 11.84375 \r\nQ 23.34375 6.203125 30.609375 6.203125 \r\nQ 37.796875 6.203125 41.984375 11.859375 \r\nQ 46.1875 17.53125 46.1875 27.296875 \r\nQ 46.1875 37.015625 41.984375 42.703125 \r\nQ 37.796875 48.390625 30.609375 48.390625 \r\nz\r\nM 30.609375 56 \r\nQ 42.328125 56 49.015625 48.375 \r\nQ 55.71875 40.765625 55.71875 27.296875 \r\nQ 55.71875 13.875 49.015625 6.21875 \r\nQ 42.328125 -1.421875 30.609375 -1.421875 \r\nQ 18.84375 -1.421875 12.171875 6.21875 \r\nQ 5.515625 13.875 5.515625 27.296875 \r\nQ 5.515625 40.765625 12.171875 48.375 \r\nQ 18.84375 56 30.609375 56 \r\nz\r\n\" id=\"DejaVuSans-111\"/>\r\n      <path d=\"M 54.890625 33.015625 \r\nL 54.890625 0 \r\nL 45.90625 0 \r\nL 45.90625 32.71875 \r\nQ 45.90625 40.484375 42.875 44.328125 \r\nQ 39.84375 48.1875 33.796875 48.1875 \r\nQ 26.515625 48.1875 22.3125 43.546875 \r\nQ 18.109375 38.921875 18.109375 30.90625 \r\nL 18.109375 0 \r\nL 9.078125 0 \r\nL 9.078125 54.6875 \r\nL 18.109375 54.6875 \r\nL 18.109375 46.1875 \r\nQ 21.34375 51.125 25.703125 53.5625 \r\nQ 30.078125 56 35.796875 56 \r\nQ 45.21875 56 50.046875 50.171875 \r\nQ 54.890625 44.34375 54.890625 33.015625 \r\nz\r\n\" id=\"DejaVuSans-110\"/>\r\n      <path d=\"M 18.3125 70.21875 \r\nL 18.3125 54.6875 \r\nL 36.8125 54.6875 \r\nL 36.8125 47.703125 \r\nL 18.3125 47.703125 \r\nL 18.3125 18.015625 \r\nQ 18.3125 11.328125 20.140625 9.421875 \r\nQ 21.96875 7.515625 27.59375 7.515625 \r\nL 36.8125 7.515625 \r\nL 36.8125 0 \r\nL 27.59375 0 \r\nQ 17.1875 0 13.234375 3.875 \r\nQ 9.28125 7.765625 9.28125 18.015625 \r\nL 9.28125 47.703125 \r\nL 2.6875 47.703125 \r\nL 2.6875 54.6875 \r\nL 9.28125 54.6875 \r\nL 9.28125 70.21875 \r\nz\r\n\" id=\"DejaVuSans-116\"/>\r\n     </defs>\r\n     <g transform=\"translate(523.677813 46.738594)scale(0.1 -0.1)\">\r\n      <use xlink:href=\"#DejaVuSans-99\"/>\r\n      <use x=\"54.980469\" xlink:href=\"#DejaVuSans-111\"/>\r\n      <use x=\"116.162109\" xlink:href=\"#DejaVuSans-110\"/>\r\n      <use x=\"179.541016\" xlink:href=\"#DejaVuSans-116\"/>\r\n     </g>\r\n    </g>\r\n   </g>\r\n  </g>\r\n </g>\r\n</svg>\r\n",
      "image/png": "[encoded data removed]"
     },
     "metadata": {
      "needs_background": "light"
     }
    },
    {
     "output_type": "execute_result",
     "data": {
      "text/plain": [
       "<IPython.lib.display.IFrame at 0xae0f0e2b00>"
      ],
      "text/html": "\n        <iframe\n            width=\"100%\"\n            height=\"800px\"\n            src=\"visualization_result/module4.html\"\n            frameborder=\"0\"\n            allowfullscreen\n        ></iframe>\n        "
     },
     "metadata": {},
     "execution_count": 46
    }
   ],
   "source": [
    "draw_BN(bn4, node_type4, 'module4')"
   ]
  },
  {
   "cell_type": "code",
   "execution_count": 24,
   "metadata": {},
   "outputs": [],
   "source": [
    "param4 = parameter_learning(data[['nodes',\t'betweenness_centrality',\t'eigenvector_centrality', 'density', 'degree_assortativity_coefficient']], node_type4, bn4)"
   ]
  },
  {
   "cell_type": "code",
   "execution_count": 25,
   "metadata": {},
   "outputs": [],
   "source": [
    "save_structure(bn4, 'skel4')\n",
    "skel4 = read_structure('skel4')\n",
    "save_params(param4, 'params4')\n",
    "params4 = read_params('params4')\n",
    "hybn4 = HyBayesianNetwork(skel4, params4)"
   ]
  },
  {
   "cell_type": "code",
   "execution_count": 49,
   "metadata": {},
   "outputs": [
    {
     "output_type": "stream",
     "name": "stdout",
     "text": [
      "5.370755910873413\n"
     ]
    }
   ],
   "source": [
    "end = time.time()\n",
    "print(end - start)"
   ]
  },
  {
   "cell_type": "code",
   "execution_count": 50,
   "metadata": {},
   "outputs": [],
   "source": [
    "# node_type_final = {**node_type1, **node_type2,  **node_type3, **node_type4}\n",
    "# hybn_connect = direct_connect([bn1,bn2, bn3, bn4],new_data, node_type_final)\n",
    "# hybn_final = direct_train([bn1,bn2, bn3, bn4], data, hybn_connect)"
   ]
  },
  {
   "cell_type": "code",
   "execution_count": 51,
   "metadata": {},
   "outputs": [],
   "source": [
    "# end = time.time()\n",
    "# print(end - start)"
   ]
  },
  {
   "cell_type": "code",
   "execution_count": 17,
   "metadata": {},
   "outputs": [
    {
     "output_type": "stream",
     "name": "stderr",
     "text": [
      "  0%|          | 17/1000000 [00:00<15:24:44, 18.02it/s]\n"
     ]
    }
   ],
   "source": [
    "bn5 = structure_learning(module5, 'K2', node_type5)"
   ]
  },
  {
   "cell_type": "code",
   "execution_count": 53,
   "metadata": {},
   "outputs": [
    {
     "output_type": "display_data",
     "data": {
      "text/plain": "<Figure size 2025x225 with 1 Axes>",
      "image/svg+xml": "<?xml version=\"1.0\" encoding=\"utf-8\" standalone=\"no\"?>\r\n<!DOCTYPE svg PUBLIC \"-//W3C//DTD SVG 1.1//EN\"\r\n  \"http://www.w3.org/Graphics/SVG/1.1/DTD/svg11.dtd\">\r\n<!-- Created with matplotlib (https://matplotlib.org/) -->\r\n<svg height=\"100.837344pt\" version=\"1.1\" viewBox=\"0 0 958.444687 100.837344\" width=\"958.444687pt\" xmlns=\"http://www.w3.org/2000/svg\" xmlns:xlink=\"http://www.w3.org/1999/xlink\">\r\n <defs>\r\n  <style type=\"text/css\">\r\n*{stroke-linecap:butt;stroke-linejoin:round;}\r\n  </style>\r\n </defs>\r\n <g id=\"figure_1\">\r\n  <g id=\"patch_1\">\r\n   <path d=\"M 0 100.837344 \r\nL 958.444687 100.837344 \r\nL 958.444687 0 \r\nL 0 0 \r\nz\r\n\" style=\"fill:none;\"/>\r\n  </g>\r\n  <g id=\"axes_1\">\r\n   <g id=\"legend_1\">\r\n    <g id=\"patch_2\">\r\n     <path d=\"M 425.843438 52.818281 \r\nL 547.552813 52.818281 \r\nQ 549.552813 52.818281 549.552813 50.818281 \r\nL 549.552813 37.140156 \r\nQ 549.552813 35.140156 547.552813 35.140156 \r\nL 425.843438 35.140156 \r\nQ 423.843438 35.140156 423.843438 37.140156 \r\nL 423.843438 50.818281 \r\nQ 423.843438 52.818281 425.843438 52.818281 \r\nz\r\n\" style=\"fill:#ffffff;opacity:0.8;stroke:#cccccc;stroke-linejoin:miter;\"/>\r\n    </g>\r\n    <g id=\"patch_3\">\r\n     <path d=\"M 427.843438 46.738594 \r\nL 447.843438 46.738594 \r\nL 447.843438 39.738594 \r\nL 427.843438 39.738594 \r\nz\r\n\" style=\"fill:#ff7f0e;stroke:#ff7f0e;stroke-linejoin:miter;\"/>\r\n    </g>\r\n    <g id=\"text_1\">\r\n     <!-- cont -->\r\n     <defs>\r\n      <path d=\"M 48.78125 52.59375 \r\nL 48.78125 44.1875 \r\nQ 44.96875 46.296875 41.140625 47.34375 \r\nQ 37.3125 48.390625 33.40625 48.390625 \r\nQ 24.65625 48.390625 19.8125 42.84375 \r\nQ 14.984375 37.3125 14.984375 27.296875 \r\nQ 14.984375 17.28125 19.8125 11.734375 \r\nQ 24.65625 6.203125 33.40625 6.203125 \r\nQ 37.3125 6.203125 41.140625 7.25 \r\nQ 44.96875 8.296875 48.78125 10.40625 \r\nL 48.78125 2.09375 \r\nQ 45.015625 0.34375 40.984375 -0.53125 \r\nQ 36.96875 -1.421875 32.421875 -1.421875 \r\nQ 20.0625 -1.421875 12.78125 6.34375 \r\nQ 5.515625 14.109375 5.515625 27.296875 \r\nQ 5.515625 40.671875 12.859375 48.328125 \r\nQ 20.21875 56 33.015625 56 \r\nQ 37.15625 56 41.109375 55.140625 \r\nQ 45.0625 54.296875 48.78125 52.59375 \r\nz\r\n\" id=\"DejaVuSans-99\"/>\r\n      <path d=\"M 30.609375 48.390625 \r\nQ 23.390625 48.390625 19.1875 42.75 \r\nQ 14.984375 37.109375 14.984375 27.296875 \r\nQ 14.984375 17.484375 19.15625 11.84375 \r\nQ 23.34375 6.203125 30.609375 6.203125 \r\nQ 37.796875 6.203125 41.984375 11.859375 \r\nQ 46.1875 17.53125 46.1875 27.296875 \r\nQ 46.1875 37.015625 41.984375 42.703125 \r\nQ 37.796875 48.390625 30.609375 48.390625 \r\nz\r\nM 30.609375 56 \r\nQ 42.328125 56 49.015625 48.375 \r\nQ 55.71875 40.765625 55.71875 27.296875 \r\nQ 55.71875 13.875 49.015625 6.21875 \r\nQ 42.328125 -1.421875 30.609375 -1.421875 \r\nQ 18.84375 -1.421875 12.171875 6.21875 \r\nQ 5.515625 13.875 5.515625 27.296875 \r\nQ 5.515625 40.765625 12.171875 48.375 \r\nQ 18.84375 56 30.609375 56 \r\nz\r\n\" id=\"DejaVuSans-111\"/>\r\n      <path d=\"M 54.890625 33.015625 \r\nL 54.890625 0 \r\nL 45.90625 0 \r\nL 45.90625 32.71875 \r\nQ 45.90625 40.484375 42.875 44.328125 \r\nQ 39.84375 48.1875 33.796875 48.1875 \r\nQ 26.515625 48.1875 22.3125 43.546875 \r\nQ 18.109375 38.921875 18.109375 30.90625 \r\nL 18.109375 0 \r\nL 9.078125 0 \r\nL 9.078125 54.6875 \r\nL 18.109375 54.6875 \r\nL 18.109375 46.1875 \r\nQ 21.34375 51.125 25.703125 53.5625 \r\nQ 30.078125 56 35.796875 56 \r\nQ 45.21875 56 50.046875 50.171875 \r\nQ 54.890625 44.34375 54.890625 33.015625 \r\nz\r\n\" id=\"DejaVuSans-110\"/>\r\n      <path d=\"M 18.3125 70.21875 \r\nL 18.3125 54.6875 \r\nL 36.8125 54.6875 \r\nL 36.8125 47.703125 \r\nL 18.3125 47.703125 \r\nL 18.3125 18.015625 \r\nQ 18.3125 11.328125 20.140625 9.421875 \r\nQ 21.96875 7.515625 27.59375 7.515625 \r\nL 36.8125 7.515625 \r\nL 36.8125 0 \r\nL 27.59375 0 \r\nQ 17.1875 0 13.234375 3.875 \r\nQ 9.28125 7.765625 9.28125 18.015625 \r\nL 9.28125 47.703125 \r\nL 2.6875 47.703125 \r\nL 2.6875 54.6875 \r\nL 9.28125 54.6875 \r\nL 9.28125 70.21875 \r\nz\r\n\" id=\"DejaVuSans-116\"/>\r\n     </defs>\r\n     <g transform=\"translate(455.843438 46.738594)scale(0.1 -0.1)\">\r\n      <use xlink:href=\"#DejaVuSans-99\"/>\r\n      <use x=\"54.980469\" xlink:href=\"#DejaVuSans-111\"/>\r\n      <use x=\"116.162109\" xlink:href=\"#DejaVuSans-110\"/>\r\n      <use x=\"179.541016\" xlink:href=\"#DejaVuSans-116\"/>\r\n     </g>\r\n    </g>\r\n    <g id=\"patch_4\">\r\n     <path d=\"M 497.718438 46.738594 \r\nL 517.718438 46.738594 \r\nL 517.718438 39.738594 \r\nL 497.718438 39.738594 \r\nz\r\n\" style=\"fill:#8c564b;stroke:#8c564b;stroke-linejoin:miter;\"/>\r\n    </g>\r\n    <g id=\"text_2\">\r\n     <!-- disc -->\r\n     <defs>\r\n      <path d=\"M 45.40625 46.390625 \r\nL 45.40625 75.984375 \r\nL 54.390625 75.984375 \r\nL 54.390625 0 \r\nL 45.40625 0 \r\nL 45.40625 8.203125 \r\nQ 42.578125 3.328125 38.25 0.953125 \r\nQ 33.9375 -1.421875 27.875 -1.421875 \r\nQ 17.96875 -1.421875 11.734375 6.484375 \r\nQ 5.515625 14.40625 5.515625 27.296875 \r\nQ 5.515625 40.1875 11.734375 48.09375 \r\nQ 17.96875 56 27.875 56 \r\nQ 33.9375 56 38.25 53.625 \r\nQ 42.578125 51.265625 45.40625 46.390625 \r\nz\r\nM 14.796875 27.296875 \r\nQ 14.796875 17.390625 18.875 11.75 \r\nQ 22.953125 6.109375 30.078125 6.109375 \r\nQ 37.203125 6.109375 41.296875 11.75 \r\nQ 45.40625 17.390625 45.40625 27.296875 \r\nQ 45.40625 37.203125 41.296875 42.84375 \r\nQ 37.203125 48.484375 30.078125 48.484375 \r\nQ 22.953125 48.484375 18.875 42.84375 \r\nQ 14.796875 37.203125 14.796875 27.296875 \r\nz\r\n\" id=\"DejaVuSans-100\"/>\r\n      <path d=\"M 9.421875 54.6875 \r\nL 18.40625 54.6875 \r\nL 18.40625 0 \r\nL 9.421875 0 \r\nz\r\nM 9.421875 75.984375 \r\nL 18.40625 75.984375 \r\nL 18.40625 64.59375 \r\nL 9.421875 64.59375 \r\nz\r\n\" id=\"DejaVuSans-105\"/>\r\n      <path d=\"M 44.28125 53.078125 \r\nL 44.28125 44.578125 \r\nQ 40.484375 46.53125 36.375 47.5 \r\nQ 32.28125 48.484375 27.875 48.484375 \r\nQ 21.1875 48.484375 17.84375 46.4375 \r\nQ 14.5 44.390625 14.5 40.28125 \r\nQ 14.5 37.15625 16.890625 35.375 \r\nQ 19.28125 33.59375 26.515625 31.984375 \r\nL 29.59375 31.296875 \r\nQ 39.15625 29.25 43.1875 25.515625 \r\nQ 47.21875 21.78125 47.21875 15.09375 \r\nQ 47.21875 7.46875 41.1875 3.015625 \r\nQ 35.15625 -1.421875 24.609375 -1.421875 \r\nQ 20.21875 -1.421875 15.453125 -0.5625 \r\nQ 10.6875 0.296875 5.421875 2 \r\nL 5.421875 11.28125 \r\nQ 10.40625 8.6875 15.234375 7.390625 \r\nQ 20.0625 6.109375 24.8125 6.109375 \r\nQ 31.15625 6.109375 34.5625 8.28125 \r\nQ 37.984375 10.453125 37.984375 14.40625 \r\nQ 37.984375 18.0625 35.515625 20.015625 \r\nQ 33.0625 21.96875 24.703125 23.78125 \r\nL 21.578125 24.515625 \r\nQ 13.234375 26.265625 9.515625 29.90625 \r\nQ 5.8125 33.546875 5.8125 39.890625 \r\nQ 5.8125 47.609375 11.28125 51.796875 \r\nQ 16.75 56 26.8125 56 \r\nQ 31.78125 56 36.171875 55.265625 \r\nQ 40.578125 54.546875 44.28125 53.078125 \r\nz\r\n\" id=\"DejaVuSans-115\"/>\r\n     </defs>\r\n     <g transform=\"translate(525.718438 46.738594)scale(0.1 -0.1)\">\r\n      <use xlink:href=\"#DejaVuSans-100\"/>\r\n      <use x=\"63.476562\" xlink:href=\"#DejaVuSans-105\"/>\r\n      <use x=\"91.259766\" xlink:href=\"#DejaVuSans-115\"/>\r\n      <use x=\"143.359375\" xlink:href=\"#DejaVuSans-99\"/>\r\n     </g>\r\n    </g>\r\n   </g>\r\n  </g>\r\n </g>\r\n</svg>\r\n",
      "image/png": "[encoded data removed]"
     },
     "metadata": {
      "needs_background": "light"
     }
    },
    {
     "output_type": "execute_result",
     "data": {
      "text/plain": [
       "<IPython.lib.display.IFrame at 0xaf5e81fc18>"
      ],
      "text/html": "\n        <iframe\n            width=\"100%\"\n            height=\"800px\"\n            src=\"visualization_result/module5.html\"\n            frameborder=\"0\"\n            allowfullscreen\n        ></iframe>\n        "
     },
     "metadata": {},
     "execution_count": 53
    }
   ],
   "source": [
    "draw_BN(bn5, node_type5, 'module5')"
   ]
  },
  {
   "cell_type": "code",
   "execution_count": 54,
   "metadata": {},
   "outputs": [],
   "source": [
    "#param5 = parameter_learning(data[['max_tr',\t'mean_tr', 'parent',\t'driver',\t'has_pets',\t'cash_usage']], node_type5, bn5)"
   ]
  },
  {
   "cell_type": "code",
   "execution_count": 55,
   "metadata": {},
   "outputs": [],
   "source": [
    "# save_structure(bn5, 'skel5')\n",
    "# skel5 = read_structure('skel5')\n",
    "# save_params(param5, 'params5')\n",
    "# params5 = read_params('params5')\n",
    "# hybn5 = HyBayesianNetwork(skel5, params5)"
   ]
  },
  {
   "cell_type": "code",
   "execution_count": 56,
   "metadata": {},
   "outputs": [
    {
     "output_type": "stream",
     "name": "stdout",
     "text": [
      "6.8917975425720215\n"
     ]
    }
   ],
   "source": [
    "end = time.time()\n",
    "print(end - start)"
   ]
  },
  {
   "cell_type": "code",
   "execution_count": 57,
   "metadata": {},
   "outputs": [],
   "source": [
    "# bn6 = structure_learning(module6, 'K2', node_type6)\n",
    "# bn6"
   ]
  },
  {
   "cell_type": "code",
   "execution_count": 58,
   "metadata": {},
   "outputs": [],
   "source": [
    "#param6 = parameter_learning(data[['posts_per_month',\t'likes_per_post',\t'views_per_post',\t'repost_ratio']], node_type6, bn6)"
   ]
  },
  {
   "cell_type": "code",
   "execution_count": 59,
   "metadata": {},
   "outputs": [],
   "source": [
    "# save_structure(bn6, 'skel6')\n",
    "# skel6 = read_structure('skel6')\n",
    "# save_params(param6, 'params6')\n",
    "# params6 = read_params('params6')\n",
    "# hybn6 = HyBayesianNetwork(skel6, params6)"
   ]
  },
  {
   "cell_type": "code",
   "execution_count": 19,
   "metadata": {},
   "outputs": [
    {
     "output_type": "execute_result",
     "data": {
      "text/plain": [
       "{'V1_4': -352834.0440068238,\n",
       " 'V4_1': -353640.1657624417,\n",
       " 'V1_0': -410577.7469005451,\n",
       " 'V0_1': -415241.3285898874,\n",
       " 'V1_2': -434420.840095207,\n",
       " 'V2_1': -435049.5492549512,\n",
       " 'V0_4': -554346.5770650896,\n",
       " 'V4_0': -554370.0593511226,\n",
       " 'V4_2': -564045.8306341865,\n",
       " 'V2_4': -564290.12640823,\n",
       " 'V0_2': -631718.7328187228,\n",
       " 'V2_0': -635438.9882819874,\n",
       " 'V3_1': -673862.6250667105,\n",
       " 'V1_3': -679858.7204833858,\n",
       " 'V3_4': -804513.3633462528,\n",
       " 'V4_3': -813995.0091491337,\n",
       " 'V3_0': -875265.0019050431,\n",
       " 'V3_2': -884673.0082250253,\n",
       " 'V0_3': -885407.7636505233,\n",
       " 'V2_3': -898997.3520367616}"
      ]
     },
     "metadata": {},
     "execution_count": 19
    }
   ],
   "source": [
    "range_pairs([bn1, bn2, bn3, bn4, bn5], new_data)"
   ]
  },
  {
   "cell_type": "code",
   "execution_count": 60,
   "metadata": {},
   "outputs": [],
   "source": [
    "node_type_final = {**node_type1, **node_type2, **node_type3, **node_type4, **node_type5}"
   ]
  },
  {
   "cell_type": "code",
   "execution_count": 61,
   "metadata": {},
   "outputs": [
    {
     "output_type": "stream",
     "name": "stderr",
     "text": [
      "\n",
      "\n",
      "  0%|          | 0/1000000 [00:00<?, ?it/s]\n",
      "\n",
      "  0%|          | 1/1000000 [00:15<4282:12:26, 15.42s/it]\n",
      "\n",
      "  0%|          | 2/1000000 [00:16<2260:26:15,  8.14s/it]\n",
      "\n",
      "  0%|          | 3/1000000 [00:16<1571:30:37,  5.66s/it]\n",
      "\n",
      "  0%|          | 4/1000000 [00:17<1221:29:22,  4.40s/it]\n",
      "\n",
      "  0%|          | 5/1000000 [00:18<1011:35:18,  3.64s/it]\n",
      "\n",
      "  0%|          | 6/1000000 [00:19<883:38:51,  3.18s/it] \n",
      "\n",
      "  0%|          | 7/1000000 [00:20<795:42:53,  2.86s/it]\n",
      "\n",
      "  0%|          | 8/1000000 [00:20<719:16:34,  2.59s/it]\n",
      "\n",
      "  0%|          | 9/1000000 [00:21<661:12:48,  2.38s/it]\n",
      "\n",
      "  0%|          | 10/1000000 [00:22<613:29:05,  2.21s/it]\n",
      "\n",
      "  0%|          | 11/1000000 [00:22<574:26:03,  2.07s/it]\n",
      "\n",
      "  0%|          | 12/1000000 [00:23<551:53:40,  1.99s/it]\n",
      "\n",
      "  0%|          | 13/1000000 [00:24<522:04:18,  1.88s/it]\n",
      "\n",
      "  0%|          | 14/1000000 [00:25<506:50:57,  1.82s/it]\n",
      "\n",
      "  0%|          | 15/1000000 [00:26<493:51:36,  1.78s/it]\n",
      "\n",
      "  0%|          | 16/1000000 [00:27<484:14:55,  1.74s/it]\n",
      "\n",
      "  0%|          | 17/1000000 [00:28<466:27:06,  1.68s/it]\n",
      "\n",
      "  0%|          | 18/1000000 [00:29<450:33:18,  1.62s/it]\n",
      "\n",
      "  0%|          | 19/1000000 [00:30<450:47:39,  1.62s/it]\n",
      "\n",
      "  0%|          | 20/1000000 [00:32<444:34:39,  1.60s/it]\n",
      "\n",
      "  0%|          | 21/1000000 [00:32<431:07:12,  1.55s/it]\n",
      "\n",
      "  0%|          | 22/1000000 [00:34<433:13:59,  1.56s/it]\n",
      "\n",
      "  0%|          | 23/1000000 [00:34<421:47:22,  1.52s/it]\n",
      "\n",
      "  0%|          | 24/1000000 [00:35<412:14:14,  1.48s/it]\n",
      "\n",
      "  0%|          | 25/1000000 [00:36<405:50:19,  1.46s/it]\n",
      "\n",
      "  0%|          | 26/1000000 [00:37<398:53:44,  1.44s/it]\n",
      "\n",
      "  0%|          | 27/1000000 [00:38<392:42:49,  1.41s/it]\n",
      "\n",
      "  0%|          | 28/1000000 [00:39<390:31:34,  1.41s/it]\n",
      "\n",
      "  0%|          | 29/1000000 [00:41<393:32:16,  1.42s/it]\n",
      "\n",
      "  0%|          | 30/1000000 [00:42<388:57:31,  1.40s/it]\n",
      "\n",
      "  0%|          | 31/1000000 [00:43<386:04:22,  1.39s/it]\n",
      "\n",
      "  0%|          | 32/1000000 [00:44<383:40:48,  1.38s/it]\n",
      "\n",
      "  0%|          | 33/1000000 [00:44<377:57:48,  1.36s/it]\n",
      "\n",
      "  0%|          | 34/1000000 [00:45<371:38:36,  1.34s/it]\n",
      "\n",
      "  0%|          | 35/1000000 [00:46<367:54:54,  1.32s/it]\n",
      "\n",
      "  0%|          | 36/1000000 [00:51<397:12:34,  1.43s/it]\n",
      "\n",
      "  0%|          | 37/1000000 [00:52<394:26:01,  1.42s/it]['0 1', '0 2', '0 3', '0 4', '1 3', '4 2', '3 2']\n"
     ]
    }
   ],
   "source": [
    "hybn_connect = direct_connect([bn1,bn2, bn3, bn4, bn5],new_data, node_type_final)\n"
   ]
  },
  {
   "cell_type": "code",
   "execution_count": 62,
   "metadata": {},
   "outputs": [],
   "source": [
    "hybns = [bn1,bn2, bn3, bn4, bn5]"
   ]
  },
  {
   "cell_type": "code",
   "execution_count": 63,
   "metadata": {},
   "outputs": [
    {
     "output_type": "stream",
     "name": "stdout",
     "text": [
      "0 1\n",
      "0 2\n",
      "0 3\n",
      "0 4\n",
      "1 3\n",
      "4 2\n",
      "3 2\n"
     ]
    }
   ],
   "source": [
    "hybn_final = direct_train(hybns, data, hybn_connect)"
   ]
  },
  {
   "cell_type": "code",
   "execution_count": 64,
   "metadata": {},
   "outputs": [],
   "source": [
    "sample = pd.DataFrame()"
   ]
  },
  {
   "cell_type": "code",
   "execution_count": 65,
   "metadata": {},
   "outputs": [],
   "source": [
    "for i in range (1000):\n",
    "    age = np.random.randint(50,71,1)[0]\n",
    "    evidence = {'age':str(age), 'sex':'1'}\n",
    "    batch = pd.DataFrame(hybn_final.randomsample(5,evidence))\n",
    "    sample = pd.concat([sample,batch])"
   ]
  },
  {
   "cell_type": "code",
   "execution_count": 66,
   "metadata": {},
   "outputs": [
    {
     "output_type": "display_data",
     "data": {
      "text/plain": "<Figure size 432x288 with 1 Axes>",
      "image/svg+xml": "<?xml version=\"1.0\" encoding=\"utf-8\" standalone=\"no\"?>\r\n<!DOCTYPE svg PUBLIC \"-//W3C//DTD SVG 1.1//EN\"\r\n  \"http://www.w3.org/Graphics/SVG/1.1/DTD/svg11.dtd\">\r\n<!-- Created with matplotlib (https://matplotlib.org/) -->\r\n<svg height=\"369.444687pt\" version=\"1.1\" viewBox=\"0 0 395.64375 369.444687\" width=\"395.64375pt\" xmlns=\"http://www.w3.org/2000/svg\" xmlns:xlink=\"http://www.w3.org/1999/xlink\">\r\n <defs>\r\n  <style type=\"text/css\">\r\n*{stroke-linecap:butt;stroke-linejoin:round;}\r\n  </style>\r\n </defs>\r\n <g id=\"figure_1\">\r\n  <g id=\"patch_1\">\r\n   <path d=\"M 0 369.444687 \r\nL 395.64375 369.444687 \r\nL 395.64375 0 \r\nL 0 0 \r\nz\r\n\" style=\"fill:none;\"/>\r\n  </g>\r\n  <g id=\"axes_1\">\r\n   <g id=\"patch_2\">\r\n    <path d=\"M 50.14375 228.14 \r\nL 384.94375 228.14 \r\nL 384.94375 10.7 \r\nL 50.14375 10.7 \r\nz\r\n\" style=\"fill:#ffffff;\"/>\r\n   </g>\r\n   <g id=\"patch_3\">\r\n    <path clip-path=\"url(#pbb98b92925)\" d=\"M 65.361932 228.14 \r\nL 78.595133 228.14 \r\nL 78.595133 183.208202 \r\nL 65.361932 183.208202 \r\nz\r\n\" style=\"fill:#1f77b4;\"/>\r\n   </g>\r\n   <g id=\"patch_4\">\r\n    <path clip-path=\"url(#pbb98b92925)\" d=\"M 105.061537 228.14 \r\nL 118.294738 228.14 \r\nL 118.294738 29.447262 \r\nL 105.061537 29.447262 \r\nz\r\n\" style=\"fill:#1f77b4;\"/>\r\n   </g>\r\n   <g id=\"patch_5\">\r\n    <path clip-path=\"url(#pbb98b92925)\" d=\"M 144.761141 228.14 \r\nL 157.994343 228.14 \r\nL 157.994343 102.254595 \r\nL 144.761141 102.254595 \r\nz\r\n\" style=\"fill:#1f77b4;\"/>\r\n   </g>\r\n   <g id=\"patch_6\">\r\n    <path clip-path=\"url(#pbb98b92925)\" d=\"M 184.460746 228.14 \r\nL 197.693948 228.14 \r\nL 197.693948 119.310858 \r\nL 184.460746 119.310858 \r\nz\r\n\" style=\"fill:#1f77b4;\"/>\r\n   </g>\r\n   <g id=\"patch_7\">\r\n    <path clip-path=\"url(#pbb98b92925)\" d=\"M 224.160351 228.14 \r\nL 237.393552 228.14 \r\nL 237.393552 214.902303 \r\nL 224.160351 214.902303 \r\nz\r\n\" style=\"fill:#1f77b4;\"/>\r\n   </g>\r\n   <g id=\"patch_8\">\r\n    <path clip-path=\"url(#pbb98b92925)\" d=\"M 263.859956 228.14 \r\nL 277.093157 228.14 \r\nL 277.093157 166.661081 \r\nL 263.859956 166.661081 \r\nz\r\n\" style=\"fill:#1f77b4;\"/>\r\n   </g>\r\n   <g id=\"patch_9\">\r\n    <path clip-path=\"url(#pbb98b92925)\" d=\"M 303.55956 228.14 \r\nL 316.792762 228.14 \r\nL 316.792762 210.065452 \r\nL 303.55956 210.065452 \r\nz\r\n\" style=\"fill:#1f77b4;\"/>\r\n   </g>\r\n   <g id=\"patch_10\">\r\n    <path clip-path=\"url(#pbb98b92925)\" d=\"M 343.259165 228.14 \r\nL 356.492367 228.14 \r\nL 356.492367 216.175159 \r\nL 343.259165 216.175159 \r\nz\r\n\" style=\"fill:#1f77b4;\"/>\r\n   </g>\r\n   <g id=\"patch_11\">\r\n    <path clip-path=\"url(#pbb98b92925)\" d=\"M 78.595133 228.14 \r\nL 91.828335 228.14 \r\nL 91.828335 198.985246 \r\nL 78.595133 198.985246 \r\nz\r\n\" style=\"fill:#ff7f0e;\"/>\r\n   </g>\r\n   <g id=\"patch_12\">\r\n    <path clip-path=\"url(#pbb98b92925)\" d=\"M 118.294738 228.14 \r\nL 131.52794 228.14 \r\nL 131.52794 28.72148 \r\nL 118.294738 28.72148 \r\nz\r\n\" style=\"fill:#ff7f0e;\"/>\r\n   </g>\r\n   <g id=\"patch_13\">\r\n    <path clip-path=\"url(#pbb98b92925)\" d=\"M 157.994343 228.14 \r\nL 171.227544 228.14 \r\nL 171.227544 162.366874 \r\nL 157.994343 162.366874 \r\nz\r\n\" style=\"fill:#ff7f0e;\"/>\r\n   </g>\r\n   <g id=\"patch_14\">\r\n    <path clip-path=\"url(#pbb98b92925)\" d=\"M 197.693948 228.14 \r\nL 210.927149 228.14 \r\nL 210.927149 103.590889 \r\nL 197.693948 103.590889 \r\nz\r\n\" style=\"fill:#ff7f0e;\"/>\r\n   </g>\r\n   <g id=\"patch_15\">\r\n    <path clip-path=\"url(#pbb98b92925)\" d=\"M 237.393552 228.14 \r\nL 250.626754 228.14 \r\nL 250.626754 174.028776 \r\nL 237.393552 174.028776 \r\nz\r\n\" style=\"fill:#ff7f0e;\"/>\r\n   </g>\r\n   <g id=\"patch_16\">\r\n    <path clip-path=\"url(#pbb98b92925)\" d=\"M 277.093157 228.14 \r\nL 290.326359 228.14 \r\nL 290.326359 146.623307 \r\nL 277.093157 146.623307 \r\nz\r\n\" style=\"fill:#ff7f0e;\"/>\r\n   </g>\r\n   <g id=\"patch_17\">\r\n    <path clip-path=\"url(#pbb98b92925)\" d=\"M 316.792762 228.14 \r\nL 330.025963 228.14 \r\nL 330.025963 211.929957 \r\nL 316.792762 211.929957 \r\nz\r\n\" style=\"fill:#ff7f0e;\"/>\r\n   </g>\r\n   <g id=\"patch_18\">\r\n    <path clip-path=\"url(#pbb98b92925)\" d=\"M 356.492367 228.14 \r\nL 369.725568 228.14 \r\nL 369.725568 215.778384 \r\nL 356.492367 215.778384 \r\nz\r\n\" style=\"fill:#ff7f0e;\"/>\r\n   </g>\r\n   <g id=\"matplotlib.axis_1\">\r\n    <g id=\"xtick_1\">\r\n     <g id=\"line2d_1\">\r\n      <defs>\r\n       <path d=\"M 0 0 \r\nL 0 3.5 \r\n\" id=\"mda22a0952f\" style=\"stroke:#000000;stroke-width:0.8;\"/>\r\n      </defs>\r\n      <g>\r\n       <use style=\"stroke:#000000;stroke-width:0.8;\" x=\"78.595133\" xlink:href=\"#mda22a0952f\" y=\"228.14\"/>\r\n      </g>\r\n     </g>\r\n     <g id=\"text_1\">\r\n      <!-- History &amp; politics -->\r\n      <defs>\r\n       <path d=\"M 9.8125 72.90625 \r\nL 19.671875 72.90625 \r\nL 19.671875 43.015625 \r\nL 55.515625 43.015625 \r\nL 55.515625 72.90625 \r\nL 65.375 72.90625 \r\nL 65.375 0 \r\nL 55.515625 0 \r\nL 55.515625 34.71875 \r\nL 19.671875 34.71875 \r\nL 19.671875 0 \r\nL 9.8125 0 \r\nz\r\n\" id=\"DejaVuSans-72\"/>\r\n       <path d=\"M 9.421875 54.6875 \r\nL 18.40625 54.6875 \r\nL 18.40625 0 \r\nL 9.421875 0 \r\nz\r\nM 9.421875 75.984375 \r\nL 18.40625 75.984375 \r\nL 18.40625 64.59375 \r\nL 9.421875 64.59375 \r\nz\r\n\" id=\"DejaVuSans-105\"/>\r\n       <path d=\"M 44.28125 53.078125 \r\nL 44.28125 44.578125 \r\nQ 40.484375 46.53125 36.375 47.5 \r\nQ 32.28125 48.484375 27.875 48.484375 \r\nQ 21.1875 48.484375 17.84375 46.4375 \r\nQ 14.5 44.390625 14.5 40.28125 \r\nQ 14.5 37.15625 16.890625 35.375 \r\nQ 19.28125 33.59375 26.515625 31.984375 \r\nL 29.59375 31.296875 \r\nQ 39.15625 29.25 43.1875 25.515625 \r\nQ 47.21875 21.78125 47.21875 15.09375 \r\nQ 47.21875 7.46875 41.1875 3.015625 \r\nQ 35.15625 -1.421875 24.609375 -1.421875 \r\nQ 20.21875 -1.421875 15.453125 -0.5625 \r\nQ 10.6875 0.296875 5.421875 2 \r\nL 5.421875 11.28125 \r\nQ 10.40625 8.6875 15.234375 7.390625 \r\nQ 20.0625 6.109375 24.8125 6.109375 \r\nQ 31.15625 6.109375 34.5625 8.28125 \r\nQ 37.984375 10.453125 37.984375 14.40625 \r\nQ 37.984375 18.0625 35.515625 20.015625 \r\nQ 33.0625 21.96875 24.703125 23.78125 \r\nL 21.578125 24.515625 \r\nQ 13.234375 26.265625 9.515625 29.90625 \r\nQ 5.8125 33.546875 5.8125 39.890625 \r\nQ 5.8125 47.609375 11.28125 51.796875 \r\nQ 16.75 56 26.8125 56 \r\nQ 31.78125 56 36.171875 55.265625 \r\nQ 40.578125 54.546875 44.28125 53.078125 \r\nz\r\n\" id=\"DejaVuSans-115\"/>\r\n       <path d=\"M 18.3125 70.21875 \r\nL 18.3125 54.6875 \r\nL 36.8125 54.6875 \r\nL 36.8125 47.703125 \r\nL 18.3125 47.703125 \r\nL 18.3125 18.015625 \r\nQ 18.3125 11.328125 20.140625 9.421875 \r\nQ 21.96875 7.515625 27.59375 7.515625 \r\nL 36.8125 7.515625 \r\nL 36.8125 0 \r\nL 27.59375 0 \r\nQ 17.1875 0 13.234375 3.875 \r\nQ 9.28125 7.765625 9.28125 18.015625 \r\nL 9.28125 47.703125 \r\nL 2.6875 47.703125 \r\nL 2.6875 54.6875 \r\nL 9.28125 54.6875 \r\nL 9.28125 70.21875 \r\nz\r\n\" id=\"DejaVuSans-116\"/>\r\n       <path d=\"M 30.609375 48.390625 \r\nQ 23.390625 48.390625 19.1875 42.75 \r\nQ 14.984375 37.109375 14.984375 27.296875 \r\nQ 14.984375 17.484375 19.15625 11.84375 \r\nQ 23.34375 6.203125 30.609375 6.203125 \r\nQ 37.796875 6.203125 41.984375 11.859375 \r\nQ 46.1875 17.53125 46.1875 27.296875 \r\nQ 46.1875 37.015625 41.984375 42.703125 \r\nQ 37.796875 48.390625 30.609375 48.390625 \r\nz\r\nM 30.609375 56 \r\nQ 42.328125 56 49.015625 48.375 \r\nQ 55.71875 40.765625 55.71875 27.296875 \r\nQ 55.71875 13.875 49.015625 6.21875 \r\nQ 42.328125 -1.421875 30.609375 -1.421875 \r\nQ 18.84375 -1.421875 12.171875 6.21875 \r\nQ 5.515625 13.875 5.515625 27.296875 \r\nQ 5.515625 40.765625 12.171875 48.375 \r\nQ 18.84375 56 30.609375 56 \r\nz\r\n\" id=\"DejaVuSans-111\"/>\r\n       <path d=\"M 41.109375 46.296875 \r\nQ 39.59375 47.171875 37.8125 47.578125 \r\nQ 36.03125 48 33.890625 48 \r\nQ 26.265625 48 22.1875 43.046875 \r\nQ 18.109375 38.09375 18.109375 28.8125 \r\nL 18.109375 0 \r\nL 9.078125 0 \r\nL 9.078125 54.6875 \r\nL 18.109375 54.6875 \r\nL 18.109375 46.1875 \r\nQ 20.953125 51.171875 25.484375 53.578125 \r\nQ 30.03125 56 36.53125 56 \r\nQ 37.453125 56 38.578125 55.875 \r\nQ 39.703125 55.765625 41.0625 55.515625 \r\nz\r\n\" id=\"DejaVuSans-114\"/>\r\n       <path d=\"M 32.171875 -5.078125 \r\nQ 28.375 -14.84375 24.75 -17.8125 \r\nQ 21.140625 -20.796875 15.09375 -20.796875 \r\nL 7.90625 -20.796875 \r\nL 7.90625 -13.28125 \r\nL 13.1875 -13.28125 \r\nQ 16.890625 -13.28125 18.9375 -11.515625 \r\nQ 21 -9.765625 23.484375 -3.21875 \r\nL 25.09375 0.875 \r\nL 2.984375 54.6875 \r\nL 12.5 54.6875 \r\nL 29.59375 11.921875 \r\nL 46.6875 54.6875 \r\nL 56.203125 54.6875 \r\nz\r\n\" id=\"DejaVuSans-121\"/>\r\n       <path id=\"DejaVuSans-32\"/>\r\n       <path d=\"M 24.3125 39.203125 \r\nQ 19.875 35.25 17.796875 31.3125 \r\nQ 15.71875 27.390625 15.71875 23.09375 \r\nQ 15.71875 15.96875 20.890625 11.234375 \r\nQ 26.078125 6.5 33.890625 6.5 \r\nQ 38.53125 6.5 42.578125 8.03125 \r\nQ 46.625 9.578125 50.203125 12.703125 \r\nz\r\nM 31.203125 44.671875 \r\nL 56 19.28125 \r\nQ 58.890625 23.640625 60.5 28.59375 \r\nQ 62.109375 33.546875 62.40625 39.109375 \r\nL 71.484375 39.109375 \r\nQ 70.90625 32.671875 68.359375 26.359375 \r\nQ 65.828125 20.0625 61.28125 13.921875 \r\nL 74.90625 0 \r\nL 62.59375 0 \r\nL 55.609375 7.171875 \r\nQ 50.53125 2.828125 44.96875 0.703125 \r\nQ 39.40625 -1.421875 33.015625 -1.421875 \r\nQ 21.234375 -1.421875 13.765625 5.296875 \r\nQ 6.296875 12.015625 6.296875 22.515625 \r\nQ 6.296875 28.765625 9.5625 34.25 \r\nQ 12.84375 39.75 19.390625 44.578125 \r\nQ 17.046875 47.65625 15.8125 50.703125 \r\nQ 14.59375 53.765625 14.59375 56.6875 \r\nQ 14.59375 64.59375 20.015625 69.40625 \r\nQ 25.4375 74.21875 34.421875 74.21875 \r\nQ 38.484375 74.21875 42.5 73.34375 \r\nQ 46.53125 72.46875 50.6875 70.703125 \r\nL 50.6875 61.8125 \r\nQ 46.4375 64.109375 42.578125 65.296875 \r\nQ 38.71875 66.5 35.40625 66.5 \r\nQ 30.28125 66.5 27.078125 63.78125 \r\nQ 23.875 61.078125 23.875 56.78125 \r\nQ 23.875 54.296875 25.3125 51.78125 \r\nQ 26.765625 49.265625 31.203125 44.671875 \r\nz\r\n\" id=\"DejaVuSans-38\"/>\r\n       <path d=\"M 18.109375 8.203125 \r\nL 18.109375 -20.796875 \r\nL 9.078125 -20.796875 \r\nL 9.078125 54.6875 \r\nL 18.109375 54.6875 \r\nL 18.109375 46.390625 \r\nQ 20.953125 51.265625 25.265625 53.625 \r\nQ 29.59375 56 35.59375 56 \r\nQ 45.5625 56 51.78125 48.09375 \r\nQ 58.015625 40.1875 58.015625 27.296875 \r\nQ 58.015625 14.40625 51.78125 6.484375 \r\nQ 45.5625 -1.421875 35.59375 -1.421875 \r\nQ 29.59375 -1.421875 25.265625 0.953125 \r\nQ 20.953125 3.328125 18.109375 8.203125 \r\nz\r\nM 48.6875 27.296875 \r\nQ 48.6875 37.203125 44.609375 42.84375 \r\nQ 40.53125 48.484375 33.40625 48.484375 \r\nQ 26.265625 48.484375 22.1875 42.84375 \r\nQ 18.109375 37.203125 18.109375 27.296875 \r\nQ 18.109375 17.390625 22.1875 11.75 \r\nQ 26.265625 6.109375 33.40625 6.109375 \r\nQ 40.53125 6.109375 44.609375 11.75 \r\nQ 48.6875 17.390625 48.6875 27.296875 \r\nz\r\n\" id=\"DejaVuSans-112\"/>\r\n       <path d=\"M 9.421875 75.984375 \r\nL 18.40625 75.984375 \r\nL 18.40625 0 \r\nL 9.421875 0 \r\nz\r\n\" id=\"DejaVuSans-108\"/>\r\n       <path d=\"M 48.78125 52.59375 \r\nL 48.78125 44.1875 \r\nQ 44.96875 46.296875 41.140625 47.34375 \r\nQ 37.3125 48.390625 33.40625 48.390625 \r\nQ 24.65625 48.390625 19.8125 42.84375 \r\nQ 14.984375 37.3125 14.984375 27.296875 \r\nQ 14.984375 17.28125 19.8125 11.734375 \r\nQ 24.65625 6.203125 33.40625 6.203125 \r\nQ 37.3125 6.203125 41.140625 7.25 \r\nQ 44.96875 8.296875 48.78125 10.40625 \r\nL 48.78125 2.09375 \r\nQ 45.015625 0.34375 40.984375 -0.53125 \r\nQ 36.96875 -1.421875 32.421875 -1.421875 \r\nQ 20.0625 -1.421875 12.78125 6.34375 \r\nQ 5.515625 14.109375 5.515625 27.296875 \r\nQ 5.515625 40.671875 12.859375 48.328125 \r\nQ 20.21875 56 33.015625 56 \r\nQ 37.15625 56 41.109375 55.140625 \r\nQ 45.0625 54.296875 48.78125 52.59375 \r\nz\r\n\" id=\"DejaVuSans-99\"/>\r\n      </defs>\r\n      <g transform=\"translate(81.354508 320.300937)rotate(-90)scale(0.1 -0.1)\">\r\n       <use xlink:href=\"#DejaVuSans-72\"/>\r\n       <use x=\"75.195312\" xlink:href=\"#DejaVuSans-105\"/>\r\n       <use x=\"102.978516\" xlink:href=\"#DejaVuSans-115\"/>\r\n       <use x=\"155.078125\" xlink:href=\"#DejaVuSans-116\"/>\r\n       <use x=\"194.287109\" xlink:href=\"#DejaVuSans-111\"/>\r\n       <use x=\"255.46875\" xlink:href=\"#DejaVuSans-114\"/>\r\n       <use x=\"296.582031\" xlink:href=\"#DejaVuSans-121\"/>\r\n       <use x=\"355.761719\" xlink:href=\"#DejaVuSans-32\"/>\r\n       <use x=\"387.548828\" xlink:href=\"#DejaVuSans-38\"/>\r\n       <use x=\"465.527344\" xlink:href=\"#DejaVuSans-32\"/>\r\n       <use x=\"497.314453\" xlink:href=\"#DejaVuSans-112\"/>\r\n       <use x=\"560.791016\" xlink:href=\"#DejaVuSans-111\"/>\r\n       <use x=\"621.972656\" xlink:href=\"#DejaVuSans-108\"/>\r\n       <use x=\"649.755859\" xlink:href=\"#DejaVuSans-105\"/>\r\n       <use x=\"677.539062\" xlink:href=\"#DejaVuSans-116\"/>\r\n       <use x=\"716.748047\" xlink:href=\"#DejaVuSans-105\"/>\r\n       <use x=\"744.53125\" xlink:href=\"#DejaVuSans-99\"/>\r\n       <use x=\"799.511719\" xlink:href=\"#DejaVuSans-115\"/>\r\n      </g>\r\n     </g>\r\n    </g>\r\n    <g id=\"xtick_2\">\r\n     <g id=\"line2d_2\">\r\n      <g>\r\n       <use style=\"stroke:#000000;stroke-width:0.8;\" x=\"118.294738\" xlink:href=\"#mda22a0952f\" y=\"228.14\"/>\r\n      </g>\r\n     </g>\r\n     <g id=\"text_2\">\r\n      <!-- Gifts &amp; holidays -->\r\n      <defs>\r\n       <path d=\"M 59.515625 10.40625 \r\nL 59.515625 29.984375 \r\nL 43.40625 29.984375 \r\nL 43.40625 38.09375 \r\nL 69.28125 38.09375 \r\nL 69.28125 6.78125 \r\nQ 63.578125 2.734375 56.6875 0.65625 \r\nQ 49.8125 -1.421875 42 -1.421875 \r\nQ 24.90625 -1.421875 15.25 8.5625 \r\nQ 5.609375 18.5625 5.609375 36.375 \r\nQ 5.609375 54.25 15.25 64.234375 \r\nQ 24.90625 74.21875 42 74.21875 \r\nQ 49.125 74.21875 55.546875 72.453125 \r\nQ 61.96875 70.703125 67.390625 67.28125 \r\nL 67.390625 56.78125 \r\nQ 61.921875 61.421875 55.765625 63.765625 \r\nQ 49.609375 66.109375 42.828125 66.109375 \r\nQ 29.4375 66.109375 22.71875 58.640625 \r\nQ 16.015625 51.171875 16.015625 36.375 \r\nQ 16.015625 21.625 22.71875 14.15625 \r\nQ 29.4375 6.6875 42.828125 6.6875 \r\nQ 48.046875 6.6875 52.140625 7.59375 \r\nQ 56.25 8.5 59.515625 10.40625 \r\nz\r\n\" id=\"DejaVuSans-71\"/>\r\n       <path d=\"M 37.109375 75.984375 \r\nL 37.109375 68.5 \r\nL 28.515625 68.5 \r\nQ 23.6875 68.5 21.796875 66.546875 \r\nQ 19.921875 64.59375 19.921875 59.515625 \r\nL 19.921875 54.6875 \r\nL 34.71875 54.6875 \r\nL 34.71875 47.703125 \r\nL 19.921875 47.703125 \r\nL 19.921875 0 \r\nL 10.890625 0 \r\nL 10.890625 47.703125 \r\nL 2.296875 47.703125 \r\nL 2.296875 54.6875 \r\nL 10.890625 54.6875 \r\nL 10.890625 58.5 \r\nQ 10.890625 67.625 15.140625 71.796875 \r\nQ 19.390625 75.984375 28.609375 75.984375 \r\nz\r\n\" id=\"DejaVuSans-102\"/>\r\n       <path d=\"M 54.890625 33.015625 \r\nL 54.890625 0 \r\nL 45.90625 0 \r\nL 45.90625 32.71875 \r\nQ 45.90625 40.484375 42.875 44.328125 \r\nQ 39.84375 48.1875 33.796875 48.1875 \r\nQ 26.515625 48.1875 22.3125 43.546875 \r\nQ 18.109375 38.921875 18.109375 30.90625 \r\nL 18.109375 0 \r\nL 9.078125 0 \r\nL 9.078125 75.984375 \r\nL 18.109375 75.984375 \r\nL 18.109375 46.1875 \r\nQ 21.34375 51.125 25.703125 53.5625 \r\nQ 30.078125 56 35.796875 56 \r\nQ 45.21875 56 50.046875 50.171875 \r\nQ 54.890625 44.34375 54.890625 33.015625 \r\nz\r\n\" id=\"DejaVuSans-104\"/>\r\n       <path d=\"M 45.40625 46.390625 \r\nL 45.40625 75.984375 \r\nL 54.390625 75.984375 \r\nL 54.390625 0 \r\nL 45.40625 0 \r\nL 45.40625 8.203125 \r\nQ 42.578125 3.328125 38.25 0.953125 \r\nQ 33.9375 -1.421875 27.875 -1.421875 \r\nQ 17.96875 -1.421875 11.734375 6.484375 \r\nQ 5.515625 14.40625 5.515625 27.296875 \r\nQ 5.515625 40.1875 11.734375 48.09375 \r\nQ 17.96875 56 27.875 56 \r\nQ 33.9375 56 38.25 53.625 \r\nQ 42.578125 51.265625 45.40625 46.390625 \r\nz\r\nM 14.796875 27.296875 \r\nQ 14.796875 17.390625 18.875 11.75 \r\nQ 22.953125 6.109375 30.078125 6.109375 \r\nQ 37.203125 6.109375 41.296875 11.75 \r\nQ 45.40625 17.390625 45.40625 27.296875 \r\nQ 45.40625 37.203125 41.296875 42.84375 \r\nQ 37.203125 48.484375 30.078125 48.484375 \r\nQ 22.953125 48.484375 18.875 42.84375 \r\nQ 14.796875 37.203125 14.796875 27.296875 \r\nz\r\n\" id=\"DejaVuSans-100\"/>\r\n       <path d=\"M 34.28125 27.484375 \r\nQ 23.390625 27.484375 19.1875 25 \r\nQ 14.984375 22.515625 14.984375 16.5 \r\nQ 14.984375 11.71875 18.140625 8.90625 \r\nQ 21.296875 6.109375 26.703125 6.109375 \r\nQ 34.1875 6.109375 38.703125 11.40625 \r\nQ 43.21875 16.703125 43.21875 25.484375 \r\nL 43.21875 27.484375 \r\nz\r\nM 52.203125 31.203125 \r\nL 52.203125 0 \r\nL 43.21875 0 \r\nL 43.21875 8.296875 \r\nQ 40.140625 3.328125 35.546875 0.953125 \r\nQ 30.953125 -1.421875 24.3125 -1.421875 \r\nQ 15.921875 -1.421875 10.953125 3.296875 \r\nQ 6 8.015625 6 15.921875 \r\nQ 6 25.140625 12.171875 29.828125 \r\nQ 18.359375 34.515625 30.609375 34.515625 \r\nL 43.21875 34.515625 \r\nL 43.21875 35.40625 \r\nQ 43.21875 41.609375 39.140625 45 \r\nQ 35.0625 48.390625 27.6875 48.390625 \r\nQ 23 48.390625 18.546875 47.265625 \r\nQ 14.109375 46.140625 10.015625 43.890625 \r\nL 10.015625 52.203125 \r\nQ 14.9375 54.109375 19.578125 55.046875 \r\nQ 24.21875 56 28.609375 56 \r\nQ 40.484375 56 46.34375 49.84375 \r\nQ 52.203125 43.703125 52.203125 31.203125 \r\nz\r\n\" id=\"DejaVuSans-97\"/>\r\n      </defs>\r\n      <g transform=\"translate(121.054113 314.086875)rotate(-90)scale(0.1 -0.1)\">\r\n       <use xlink:href=\"#DejaVuSans-71\"/>\r\n       <use x=\"77.490234\" xlink:href=\"#DejaVuSans-105\"/>\r\n       <use x=\"105.273438\" xlink:href=\"#DejaVuSans-102\"/>\r\n       <use x=\"140.462891\" xlink:href=\"#DejaVuSans-116\"/>\r\n       <use x=\"179.671875\" xlink:href=\"#DejaVuSans-115\"/>\r\n       <use x=\"231.771484\" xlink:href=\"#DejaVuSans-32\"/>\r\n       <use x=\"263.558594\" xlink:href=\"#DejaVuSans-38\"/>\r\n       <use x=\"341.537109\" xlink:href=\"#DejaVuSans-32\"/>\r\n       <use x=\"373.324219\" xlink:href=\"#DejaVuSans-104\"/>\r\n       <use x=\"436.703125\" xlink:href=\"#DejaVuSans-111\"/>\r\n       <use x=\"497.884766\" xlink:href=\"#DejaVuSans-108\"/>\r\n       <use x=\"525.667969\" xlink:href=\"#DejaVuSans-105\"/>\r\n       <use x=\"553.451172\" xlink:href=\"#DejaVuSans-100\"/>\r\n       <use x=\"616.927734\" xlink:href=\"#DejaVuSans-97\"/>\r\n       <use x=\"678.207031\" xlink:href=\"#DejaVuSans-121\"/>\r\n       <use x=\"737.386719\" xlink:href=\"#DejaVuSans-115\"/>\r\n      </g>\r\n     </g>\r\n    </g>\r\n    <g id=\"xtick_3\">\r\n     <g id=\"line2d_3\">\r\n      <g>\r\n       <use style=\"stroke:#000000;stroke-width:0.8;\" x=\"157.994343\" xlink:href=\"#mda22a0952f\" y=\"228.14\"/>\r\n      </g>\r\n     </g>\r\n     <g id=\"text_3\">\r\n      <!-- Cooking -->\r\n      <defs>\r\n       <path d=\"M 64.40625 67.28125 \r\nL 64.40625 56.890625 \r\nQ 59.421875 61.53125 53.78125 63.8125 \r\nQ 48.140625 66.109375 41.796875 66.109375 \r\nQ 29.296875 66.109375 22.65625 58.46875 \r\nQ 16.015625 50.828125 16.015625 36.375 \r\nQ 16.015625 21.96875 22.65625 14.328125 \r\nQ 29.296875 6.6875 41.796875 6.6875 \r\nQ 48.140625 6.6875 53.78125 8.984375 \r\nQ 59.421875 11.28125 64.40625 15.921875 \r\nL 64.40625 5.609375 \r\nQ 59.234375 2.09375 53.4375 0.328125 \r\nQ 47.65625 -1.421875 41.21875 -1.421875 \r\nQ 24.65625 -1.421875 15.125 8.703125 \r\nQ 5.609375 18.84375 5.609375 36.375 \r\nQ 5.609375 53.953125 15.125 64.078125 \r\nQ 24.65625 74.21875 41.21875 74.21875 \r\nQ 47.75 74.21875 53.53125 72.484375 \r\nQ 59.328125 70.75 64.40625 67.28125 \r\nz\r\n\" id=\"DejaVuSans-67\"/>\r\n       <path d=\"M 9.078125 75.984375 \r\nL 18.109375 75.984375 \r\nL 18.109375 31.109375 \r\nL 44.921875 54.6875 \r\nL 56.390625 54.6875 \r\nL 27.390625 29.109375 \r\nL 57.625 0 \r\nL 45.90625 0 \r\nL 18.109375 26.703125 \r\nL 18.109375 0 \r\nL 9.078125 0 \r\nz\r\n\" id=\"DejaVuSans-107\"/>\r\n       <path d=\"M 54.890625 33.015625 \r\nL 54.890625 0 \r\nL 45.90625 0 \r\nL 45.90625 32.71875 \r\nQ 45.90625 40.484375 42.875 44.328125 \r\nQ 39.84375 48.1875 33.796875 48.1875 \r\nQ 26.515625 48.1875 22.3125 43.546875 \r\nQ 18.109375 38.921875 18.109375 30.90625 \r\nL 18.109375 0 \r\nL 9.078125 0 \r\nL 9.078125 54.6875 \r\nL 18.109375 54.6875 \r\nL 18.109375 46.1875 \r\nQ 21.34375 51.125 25.703125 53.5625 \r\nQ 30.078125 56 35.796875 56 \r\nQ 45.21875 56 50.046875 50.171875 \r\nQ 54.890625 44.34375 54.890625 33.015625 \r\nz\r\n\" id=\"DejaVuSans-110\"/>\r\n       <path d=\"M 45.40625 27.984375 \r\nQ 45.40625 37.75 41.375 43.109375 \r\nQ 37.359375 48.484375 30.078125 48.484375 \r\nQ 22.859375 48.484375 18.828125 43.109375 \r\nQ 14.796875 37.75 14.796875 27.984375 \r\nQ 14.796875 18.265625 18.828125 12.890625 \r\nQ 22.859375 7.515625 30.078125 7.515625 \r\nQ 37.359375 7.515625 41.375 12.890625 \r\nQ 45.40625 18.265625 45.40625 27.984375 \r\nz\r\nM 54.390625 6.78125 \r\nQ 54.390625 -7.171875 48.1875 -13.984375 \r\nQ 42 -20.796875 29.203125 -20.796875 \r\nQ 24.46875 -20.796875 20.265625 -20.09375 \r\nQ 16.0625 -19.390625 12.109375 -17.921875 \r\nL 12.109375 -9.1875 \r\nQ 16.0625 -11.328125 19.921875 -12.34375 \r\nQ 23.78125 -13.375 27.78125 -13.375 \r\nQ 36.625 -13.375 41.015625 -8.765625 \r\nQ 45.40625 -4.15625 45.40625 5.171875 \r\nL 45.40625 9.625 \r\nQ 42.625 4.78125 38.28125 2.390625 \r\nQ 33.9375 0 27.875 0 \r\nQ 17.828125 0 11.671875 7.65625 \r\nQ 5.515625 15.328125 5.515625 27.984375 \r\nQ 5.515625 40.671875 11.671875 48.328125 \r\nQ 17.828125 56 27.875 56 \r\nQ 33.9375 56 38.28125 53.609375 \r\nQ 42.625 51.21875 45.40625 46.390625 \r\nL 45.40625 54.6875 \r\nL 54.390625 54.6875 \r\nz\r\n\" id=\"DejaVuSans-103\"/>\r\n      </defs>\r\n      <g transform=\"translate(160.753718 275.615)rotate(-90)scale(0.1 -0.1)\">\r\n       <use xlink:href=\"#DejaVuSans-67\"/>\r\n       <use x=\"69.824219\" xlink:href=\"#DejaVuSans-111\"/>\r\n       <use x=\"131.005859\" xlink:href=\"#DejaVuSans-111\"/>\r\n       <use x=\"192.1875\" xlink:href=\"#DejaVuSans-107\"/>\r\n       <use x=\"250.097656\" xlink:href=\"#DejaVuSans-105\"/>\r\n       <use x=\"277.880859\" xlink:href=\"#DejaVuSans-110\"/>\r\n       <use x=\"341.259766\" xlink:href=\"#DejaVuSans-103\"/>\r\n      </g>\r\n     </g>\r\n    </g>\r\n    <g id=\"xtick_4\">\r\n     <g id=\"line2d_4\">\r\n      <g>\r\n       <use style=\"stroke:#000000;stroke-width:0.8;\" x=\"197.693948\" xlink:href=\"#mda22a0952f\" y=\"228.14\"/>\r\n      </g>\r\n     </g>\r\n     <g id=\"text_4\">\r\n      <!-- Love &amp; relation -->\r\n      <defs>\r\n       <path d=\"M 9.8125 72.90625 \r\nL 19.671875 72.90625 \r\nL 19.671875 8.296875 \r\nL 55.171875 8.296875 \r\nL 55.171875 0 \r\nL 9.8125 0 \r\nz\r\n\" id=\"DejaVuSans-76\"/>\r\n       <path d=\"M 2.984375 54.6875 \r\nL 12.5 54.6875 \r\nL 29.59375 8.796875 \r\nL 46.6875 54.6875 \r\nL 56.203125 54.6875 \r\nL 35.6875 0 \r\nL 23.484375 0 \r\nz\r\n\" id=\"DejaVuSans-118\"/>\r\n       <path d=\"M 56.203125 29.59375 \r\nL 56.203125 25.203125 \r\nL 14.890625 25.203125 \r\nQ 15.484375 15.921875 20.484375 11.0625 \r\nQ 25.484375 6.203125 34.421875 6.203125 \r\nQ 39.59375 6.203125 44.453125 7.46875 \r\nQ 49.3125 8.734375 54.109375 11.28125 \r\nL 54.109375 2.78125 \r\nQ 49.265625 0.734375 44.1875 -0.34375 \r\nQ 39.109375 -1.421875 33.890625 -1.421875 \r\nQ 20.796875 -1.421875 13.15625 6.1875 \r\nQ 5.515625 13.8125 5.515625 26.8125 \r\nQ 5.515625 40.234375 12.765625 48.109375 \r\nQ 20.015625 56 32.328125 56 \r\nQ 43.359375 56 49.78125 48.890625 \r\nQ 56.203125 41.796875 56.203125 29.59375 \r\nz\r\nM 47.21875 32.234375 \r\nQ 47.125 39.59375 43.09375 43.984375 \r\nQ 39.0625 48.390625 32.421875 48.390625 \r\nQ 24.90625 48.390625 20.390625 44.140625 \r\nQ 15.875 39.890625 15.1875 32.171875 \r\nz\r\n\" id=\"DejaVuSans-101\"/>\r\n      </defs>\r\n      <g transform=\"translate(200.453323 311.3775)rotate(-90)scale(0.1 -0.1)\">\r\n       <use xlink:href=\"#DejaVuSans-76\"/>\r\n       <use x=\"55.697266\" xlink:href=\"#DejaVuSans-111\"/>\r\n       <use x=\"116.878906\" xlink:href=\"#DejaVuSans-118\"/>\r\n       <use x=\"176.058594\" xlink:href=\"#DejaVuSans-101\"/>\r\n       <use x=\"237.582031\" xlink:href=\"#DejaVuSans-32\"/>\r\n       <use x=\"269.369141\" xlink:href=\"#DejaVuSans-38\"/>\r\n       <use x=\"347.347656\" xlink:href=\"#DejaVuSans-32\"/>\r\n       <use x=\"379.134766\" xlink:href=\"#DejaVuSans-114\"/>\r\n       <use x=\"420.216797\" xlink:href=\"#DejaVuSans-101\"/>\r\n       <use x=\"481.740234\" xlink:href=\"#DejaVuSans-108\"/>\r\n       <use x=\"509.523438\" xlink:href=\"#DejaVuSans-97\"/>\r\n       <use x=\"570.802734\" xlink:href=\"#DejaVuSans-116\"/>\r\n       <use x=\"610.011719\" xlink:href=\"#DejaVuSans-105\"/>\r\n       <use x=\"637.794922\" xlink:href=\"#DejaVuSans-111\"/>\r\n       <use x=\"698.976562\" xlink:href=\"#DejaVuSans-110\"/>\r\n      </g>\r\n     </g>\r\n    </g>\r\n    <g id=\"xtick_5\">\r\n     <g id=\"line2d_5\">\r\n      <g>\r\n       <use style=\"stroke:#000000;stroke-width:0.8;\" x=\"237.393552\" xlink:href=\"#mda22a0952f\" y=\"228.14\"/>\r\n      </g>\r\n     </g>\r\n     <g id=\"text_5\">\r\n      <!-- Music -->\r\n      <defs>\r\n       <path d=\"M 9.8125 72.90625 \r\nL 24.515625 72.90625 \r\nL 43.109375 23.296875 \r\nL 61.8125 72.90625 \r\nL 76.515625 72.90625 \r\nL 76.515625 0 \r\nL 66.890625 0 \r\nL 66.890625 64.015625 \r\nL 48.09375 14.015625 \r\nL 38.1875 14.015625 \r\nL 19.390625 64.015625 \r\nL 19.390625 0 \r\nL 9.8125 0 \r\nz\r\n\" id=\"DejaVuSans-77\"/>\r\n       <path d=\"M 8.5 21.578125 \r\nL 8.5 54.6875 \r\nL 17.484375 54.6875 \r\nL 17.484375 21.921875 \r\nQ 17.484375 14.15625 20.5 10.265625 \r\nQ 23.53125 6.390625 29.59375 6.390625 \r\nQ 36.859375 6.390625 41.078125 11.03125 \r\nQ 45.3125 15.671875 45.3125 23.6875 \r\nL 45.3125 54.6875 \r\nL 54.296875 54.6875 \r\nL 54.296875 0 \r\nL 45.3125 0 \r\nL 45.3125 8.40625 \r\nQ 42.046875 3.421875 37.71875 1 \r\nQ 33.40625 -1.421875 27.6875 -1.421875 \r\nQ 18.265625 -1.421875 13.375 4.4375 \r\nQ 8.5 10.296875 8.5 21.578125 \r\nz\r\nM 31.109375 56 \r\nz\r\n\" id=\"DejaVuSans-117\"/>\r\n      </defs>\r\n      <g transform=\"translate(240.152927 263.591563)rotate(-90)scale(0.1 -0.1)\">\r\n       <use xlink:href=\"#DejaVuSans-77\"/>\r\n       <use x=\"86.279297\" xlink:href=\"#DejaVuSans-117\"/>\r\n       <use x=\"149.658203\" xlink:href=\"#DejaVuSans-115\"/>\r\n       <use x=\"201.757812\" xlink:href=\"#DejaVuSans-105\"/>\r\n       <use x=\"229.541016\" xlink:href=\"#DejaVuSans-99\"/>\r\n      </g>\r\n     </g>\r\n    </g>\r\n    <g id=\"xtick_6\">\r\n     <g id=\"line2d_6\">\r\n      <g>\r\n       <use style=\"stroke:#000000;stroke-width:0.8;\" x=\"277.093157\" xlink:href=\"#mda22a0952f\" y=\"228.14\"/>\r\n      </g>\r\n     </g>\r\n     <g id=\"text_6\">\r\n      <!-- Purchase &amp; sale -->\r\n      <defs>\r\n       <path d=\"M 19.671875 64.796875 \r\nL 19.671875 37.40625 \r\nL 32.078125 37.40625 \r\nQ 38.96875 37.40625 42.71875 40.96875 \r\nQ 46.484375 44.53125 46.484375 51.125 \r\nQ 46.484375 57.671875 42.71875 61.234375 \r\nQ 38.96875 64.796875 32.078125 64.796875 \r\nz\r\nM 9.8125 72.90625 \r\nL 32.078125 72.90625 \r\nQ 44.34375 72.90625 50.609375 67.359375 \r\nQ 56.890625 61.8125 56.890625 51.125 \r\nQ 56.890625 40.328125 50.609375 34.8125 \r\nQ 44.34375 29.296875 32.078125 29.296875 \r\nL 19.671875 29.296875 \r\nL 19.671875 0 \r\nL 9.8125 0 \r\nz\r\n\" id=\"DejaVuSans-80\"/>\r\n      </defs>\r\n      <g transform=\"translate(279.852532 315.363437)rotate(-90)scale(0.1 -0.1)\">\r\n       <use xlink:href=\"#DejaVuSans-80\"/>\r\n       <use x=\"60.287109\" xlink:href=\"#DejaVuSans-117\"/>\r\n       <use x=\"123.666016\" xlink:href=\"#DejaVuSans-114\"/>\r\n       <use x=\"164.748047\" xlink:href=\"#DejaVuSans-99\"/>\r\n       <use x=\"219.728516\" xlink:href=\"#DejaVuSans-104\"/>\r\n       <use x=\"283.107422\" xlink:href=\"#DejaVuSans-97\"/>\r\n       <use x=\"344.386719\" xlink:href=\"#DejaVuSans-115\"/>\r\n       <use x=\"396.486328\" xlink:href=\"#DejaVuSans-101\"/>\r\n       <use x=\"458.009766\" xlink:href=\"#DejaVuSans-32\"/>\r\n       <use x=\"489.796875\" xlink:href=\"#DejaVuSans-38\"/>\r\n       <use x=\"567.775391\" xlink:href=\"#DejaVuSans-32\"/>\r\n       <use x=\"599.5625\" xlink:href=\"#DejaVuSans-115\"/>\r\n       <use x=\"651.662109\" xlink:href=\"#DejaVuSans-97\"/>\r\n       <use x=\"712.941406\" xlink:href=\"#DejaVuSans-108\"/>\r\n       <use x=\"740.724609\" xlink:href=\"#DejaVuSans-101\"/>\r\n      </g>\r\n     </g>\r\n    </g>\r\n    <g id=\"xtick_7\">\r\n     <g id=\"line2d_7\">\r\n      <g>\r\n       <use style=\"stroke:#000000;stroke-width:0.8;\" x=\"316.792762\" xlink:href=\"#mda22a0952f\" y=\"228.14\"/>\r\n      </g>\r\n     </g>\r\n     <g id=\"text_7\">\r\n      <!-- Job &amp; money -->\r\n      <defs>\r\n       <path d=\"M 9.8125 72.90625 \r\nL 19.671875 72.90625 \r\nL 19.671875 5.078125 \r\nQ 19.671875 -8.109375 14.671875 -14.0625 \r\nQ 9.671875 -20.015625 -1.421875 -20.015625 \r\nL -5.171875 -20.015625 \r\nL -5.171875 -11.71875 \r\nL -2.09375 -11.71875 \r\nQ 4.4375 -11.71875 7.125 -8.046875 \r\nQ 9.8125 -4.390625 9.8125 5.078125 \r\nz\r\n\" id=\"DejaVuSans-74\"/>\r\n       <path d=\"M 48.6875 27.296875 \r\nQ 48.6875 37.203125 44.609375 42.84375 \r\nQ 40.53125 48.484375 33.40625 48.484375 \r\nQ 26.265625 48.484375 22.1875 42.84375 \r\nQ 18.109375 37.203125 18.109375 27.296875 \r\nQ 18.109375 17.390625 22.1875 11.75 \r\nQ 26.265625 6.109375 33.40625 6.109375 \r\nQ 40.53125 6.109375 44.609375 11.75 \r\nQ 48.6875 17.390625 48.6875 27.296875 \r\nz\r\nM 18.109375 46.390625 \r\nQ 20.953125 51.265625 25.265625 53.625 \r\nQ 29.59375 56 35.59375 56 \r\nQ 45.5625 56 51.78125 48.09375 \r\nQ 58.015625 40.1875 58.015625 27.296875 \r\nQ 58.015625 14.40625 51.78125 6.484375 \r\nQ 45.5625 -1.421875 35.59375 -1.421875 \r\nQ 29.59375 -1.421875 25.265625 0.953125 \r\nQ 20.953125 3.328125 18.109375 8.203125 \r\nL 18.109375 0 \r\nL 9.078125 0 \r\nL 9.078125 75.984375 \r\nL 18.109375 75.984375 \r\nz\r\n\" id=\"DejaVuSans-98\"/>\r\n       <path d=\"M 52 44.1875 \r\nQ 55.375 50.25 60.0625 53.125 \r\nQ 64.75 56 71.09375 56 \r\nQ 79.640625 56 84.28125 50.015625 \r\nQ 88.921875 44.046875 88.921875 33.015625 \r\nL 88.921875 0 \r\nL 79.890625 0 \r\nL 79.890625 32.71875 \r\nQ 79.890625 40.578125 77.09375 44.375 \r\nQ 74.3125 48.1875 68.609375 48.1875 \r\nQ 61.625 48.1875 57.5625 43.546875 \r\nQ 53.515625 38.921875 53.515625 30.90625 \r\nL 53.515625 0 \r\nL 44.484375 0 \r\nL 44.484375 32.71875 \r\nQ 44.484375 40.625 41.703125 44.40625 \r\nQ 38.921875 48.1875 33.109375 48.1875 \r\nQ 26.21875 48.1875 22.15625 43.53125 \r\nQ 18.109375 38.875 18.109375 30.90625 \r\nL 18.109375 0 \r\nL 9.078125 0 \r\nL 9.078125 54.6875 \r\nL 18.109375 54.6875 \r\nL 18.109375 46.1875 \r\nQ 21.1875 51.21875 25.484375 53.609375 \r\nQ 29.78125 56 35.6875 56 \r\nQ 41.65625 56 45.828125 52.96875 \r\nQ 50 49.953125 52 44.1875 \r\nz\r\n\" id=\"DejaVuSans-109\"/>\r\n      </defs>\r\n      <g transform=\"translate(319.552137 298.980625)rotate(-90)scale(0.1 -0.1)\">\r\n       <use xlink:href=\"#DejaVuSans-74\"/>\r\n       <use x=\"29.492188\" xlink:href=\"#DejaVuSans-111\"/>\r\n       <use x=\"90.673828\" xlink:href=\"#DejaVuSans-98\"/>\r\n       <use x=\"154.150391\" xlink:href=\"#DejaVuSans-32\"/>\r\n       <use x=\"185.9375\" xlink:href=\"#DejaVuSans-38\"/>\r\n       <use x=\"263.916016\" xlink:href=\"#DejaVuSans-32\"/>\r\n       <use x=\"295.703125\" xlink:href=\"#DejaVuSans-109\"/>\r\n       <use x=\"393.115234\" xlink:href=\"#DejaVuSans-111\"/>\r\n       <use x=\"454.296875\" xlink:href=\"#DejaVuSans-110\"/>\r\n       <use x=\"517.675781\" xlink:href=\"#DejaVuSans-101\"/>\r\n       <use x=\"579.199219\" xlink:href=\"#DejaVuSans-121\"/>\r\n      </g>\r\n     </g>\r\n    </g>\r\n    <g id=\"xtick_8\">\r\n     <g id=\"line2d_8\">\r\n      <g>\r\n       <use style=\"stroke:#000000;stroke-width:0.8;\" x=\"356.492367\" xlink:href=\"#mda22a0952f\" y=\"228.14\"/>\r\n      </g>\r\n     </g>\r\n     <g id=\"text_8\">\r\n      <!-- Fitness &amp; cosmetology -->\r\n      <defs>\r\n       <path d=\"M 9.8125 72.90625 \r\nL 51.703125 72.90625 \r\nL 51.703125 64.59375 \r\nL 19.671875 64.59375 \r\nL 19.671875 43.109375 \r\nL 48.578125 43.109375 \r\nL 48.578125 34.8125 \r\nL 19.671875 34.8125 \r\nL 19.671875 0 \r\nL 9.8125 0 \r\nz\r\n\" id=\"DejaVuSans-70\"/>\r\n      </defs>\r\n      <g transform=\"translate(359.251742 348.566562)rotate(-90)scale(0.1 -0.1)\">\r\n       <use xlink:href=\"#DejaVuSans-70\"/>\r\n       <use x=\"57.410156\" xlink:href=\"#DejaVuSans-105\"/>\r\n       <use x=\"85.193359\" xlink:href=\"#DejaVuSans-116\"/>\r\n       <use x=\"124.402344\" xlink:href=\"#DejaVuSans-110\"/>\r\n       <use x=\"187.78125\" xlink:href=\"#DejaVuSans-101\"/>\r\n       <use x=\"249.304688\" xlink:href=\"#DejaVuSans-115\"/>\r\n       <use x=\"301.404297\" xlink:href=\"#DejaVuSans-115\"/>\r\n       <use x=\"353.503906\" xlink:href=\"#DejaVuSans-32\"/>\r\n       <use x=\"385.291016\" xlink:href=\"#DejaVuSans-38\"/>\r\n       <use x=\"463.269531\" xlink:href=\"#DejaVuSans-32\"/>\r\n       <use x=\"495.056641\" xlink:href=\"#DejaVuSans-99\"/>\r\n       <use x=\"550.037109\" xlink:href=\"#DejaVuSans-111\"/>\r\n       <use x=\"611.21875\" xlink:href=\"#DejaVuSans-115\"/>\r\n       <use x=\"663.318359\" xlink:href=\"#DejaVuSans-109\"/>\r\n       <use x=\"760.730469\" xlink:href=\"#DejaVuSans-101\"/>\r\n       <use x=\"822.253906\" xlink:href=\"#DejaVuSans-116\"/>\r\n       <use x=\"861.462891\" xlink:href=\"#DejaVuSans-111\"/>\r\n       <use x=\"922.644531\" xlink:href=\"#DejaVuSans-108\"/>\r\n       <use x=\"950.427734\" xlink:href=\"#DejaVuSans-111\"/>\r\n       <use x=\"1011.609375\" xlink:href=\"#DejaVuSans-103\"/>\r\n       <use x=\"1075.085938\" xlink:href=\"#DejaVuSans-121\"/>\r\n      </g>\r\n     </g>\r\n    </g>\r\n    <g id=\"text_9\">\r\n     <!-- top1 -->\r\n     <defs>\r\n      <path d=\"M 12.40625 8.296875 \r\nL 28.515625 8.296875 \r\nL 28.515625 63.921875 \r\nL 10.984375 60.40625 \r\nL 10.984375 69.390625 \r\nL 28.421875 72.90625 \r\nL 38.28125 72.90625 \r\nL 38.28125 8.296875 \r\nL 54.390625 8.296875 \r\nL 54.390625 0 \r\nL 12.40625 0 \r\nz\r\n\" id=\"DejaVuSans-49\"/>\r\n     </defs>\r\n     <g transform=\"translate(206.16875 360.165)scale(0.1 -0.1)\">\r\n      <use xlink:href=\"#DejaVuSans-116\"/>\r\n      <use x=\"39.208984\" xlink:href=\"#DejaVuSans-111\"/>\r\n      <use x=\"100.390625\" xlink:href=\"#DejaVuSans-112\"/>\r\n      <use x=\"163.867188\" xlink:href=\"#DejaVuSans-49\"/>\r\n     </g>\r\n    </g>\r\n   </g>\r\n   <g id=\"matplotlib.axis_2\">\r\n    <g id=\"ytick_1\">\r\n     <g id=\"line2d_9\">\r\n      <defs>\r\n       <path d=\"M 0 0 \r\nL -3.5 0 \r\n\" id=\"m65e35a1044\" style=\"stroke:#000000;stroke-width:0.8;\"/>\r\n      </defs>\r\n      <g>\r\n       <use style=\"stroke:#000000;stroke-width:0.8;\" x=\"50.14375\" xlink:href=\"#m65e35a1044\" y=\"228.14\"/>\r\n      </g>\r\n     </g>\r\n     <g id=\"text_10\">\r\n      <!-- 0.00 -->\r\n      <defs>\r\n       <path d=\"M 31.78125 66.40625 \r\nQ 24.171875 66.40625 20.328125 58.90625 \r\nQ 16.5 51.421875 16.5 36.375 \r\nQ 16.5 21.390625 20.328125 13.890625 \r\nQ 24.171875 6.390625 31.78125 6.390625 \r\nQ 39.453125 6.390625 43.28125 13.890625 \r\nQ 47.125 21.390625 47.125 36.375 \r\nQ 47.125 51.421875 43.28125 58.90625 \r\nQ 39.453125 66.40625 31.78125 66.40625 \r\nz\r\nM 31.78125 74.21875 \r\nQ 44.046875 74.21875 50.515625 64.515625 \r\nQ 56.984375 54.828125 56.984375 36.375 \r\nQ 56.984375 17.96875 50.515625 8.265625 \r\nQ 44.046875 -1.421875 31.78125 -1.421875 \r\nQ 19.53125 -1.421875 13.0625 8.265625 \r\nQ 6.59375 17.96875 6.59375 36.375 \r\nQ 6.59375 54.828125 13.0625 64.515625 \r\nQ 19.53125 74.21875 31.78125 74.21875 \r\nz\r\n\" id=\"DejaVuSans-48\"/>\r\n       <path d=\"M 10.6875 12.40625 \r\nL 21 12.40625 \r\nL 21 0 \r\nL 10.6875 0 \r\nz\r\n\" id=\"DejaVuSans-46\"/>\r\n      </defs>\r\n      <g transform=\"translate(20.878125 231.939219)scale(0.1 -0.1)\">\r\n       <use xlink:href=\"#DejaVuSans-48\"/>\r\n       <use x=\"63.623047\" xlink:href=\"#DejaVuSans-46\"/>\r\n       <use x=\"95.410156\" xlink:href=\"#DejaVuSans-48\"/>\r\n       <use x=\"159.033203\" xlink:href=\"#DejaVuSans-48\"/>\r\n      </g>\r\n     </g>\r\n    </g>\r\n    <g id=\"ytick_2\">\r\n     <g id=\"line2d_10\">\r\n      <g>\r\n       <use style=\"stroke:#000000;stroke-width:0.8;\" x=\"50.14375\" xlink:href=\"#m65e35a1044\" y=\"198.985246\"/>\r\n      </g>\r\n     </g>\r\n     <g id=\"text_11\">\r\n      <!-- 0.05 -->\r\n      <defs>\r\n       <path d=\"M 10.796875 72.90625 \r\nL 49.515625 72.90625 \r\nL 49.515625 64.59375 \r\nL 19.828125 64.59375 \r\nL 19.828125 46.734375 \r\nQ 21.96875 47.46875 24.109375 47.828125 \r\nQ 26.265625 48.1875 28.421875 48.1875 \r\nQ 40.625 48.1875 47.75 41.5 \r\nQ 54.890625 34.8125 54.890625 23.390625 \r\nQ 54.890625 11.625 47.5625 5.09375 \r\nQ 40.234375 -1.421875 26.90625 -1.421875 \r\nQ 22.3125 -1.421875 17.546875 -0.640625 \r\nQ 12.796875 0.140625 7.71875 1.703125 \r\nL 7.71875 11.625 \r\nQ 12.109375 9.234375 16.796875 8.0625 \r\nQ 21.484375 6.890625 26.703125 6.890625 \r\nQ 35.15625 6.890625 40.078125 11.328125 \r\nQ 45.015625 15.765625 45.015625 23.390625 \r\nQ 45.015625 31 40.078125 35.4375 \r\nQ 35.15625 39.890625 26.703125 39.890625 \r\nQ 22.75 39.890625 18.8125 39.015625 \r\nQ 14.890625 38.140625 10.796875 36.28125 \r\nz\r\n\" id=\"DejaVuSans-53\"/>\r\n      </defs>\r\n      <g transform=\"translate(20.878125 202.784464)scale(0.1 -0.1)\">\r\n       <use xlink:href=\"#DejaVuSans-48\"/>\r\n       <use x=\"63.623047\" xlink:href=\"#DejaVuSans-46\"/>\r\n       <use x=\"95.410156\" xlink:href=\"#DejaVuSans-48\"/>\r\n       <use x=\"159.033203\" xlink:href=\"#DejaVuSans-53\"/>\r\n      </g>\r\n     </g>\r\n    </g>\r\n    <g id=\"ytick_3\">\r\n     <g id=\"line2d_11\">\r\n      <g>\r\n       <use style=\"stroke:#000000;stroke-width:0.8;\" x=\"50.14375\" xlink:href=\"#m65e35a1044\" y=\"169.830491\"/>\r\n      </g>\r\n     </g>\r\n     <g id=\"text_12\">\r\n      <!-- 0.10 -->\r\n      <g transform=\"translate(20.878125 173.62971)scale(0.1 -0.1)\">\r\n       <use xlink:href=\"#DejaVuSans-48\"/>\r\n       <use x=\"63.623047\" xlink:href=\"#DejaVuSans-46\"/>\r\n       <use x=\"95.410156\" xlink:href=\"#DejaVuSans-49\"/>\r\n       <use x=\"159.033203\" xlink:href=\"#DejaVuSans-48\"/>\r\n      </g>\r\n     </g>\r\n    </g>\r\n    <g id=\"ytick_4\">\r\n     <g id=\"line2d_12\">\r\n      <g>\r\n       <use style=\"stroke:#000000;stroke-width:0.8;\" x=\"50.14375\" xlink:href=\"#m65e35a1044\" y=\"140.675737\"/>\r\n      </g>\r\n     </g>\r\n     <g id=\"text_13\">\r\n      <!-- 0.15 -->\r\n      <g transform=\"translate(20.878125 144.474955)scale(0.1 -0.1)\">\r\n       <use xlink:href=\"#DejaVuSans-48\"/>\r\n       <use x=\"63.623047\" xlink:href=\"#DejaVuSans-46\"/>\r\n       <use x=\"95.410156\" xlink:href=\"#DejaVuSans-49\"/>\r\n       <use x=\"159.033203\" xlink:href=\"#DejaVuSans-53\"/>\r\n      </g>\r\n     </g>\r\n    </g>\r\n    <g id=\"ytick_5\">\r\n     <g id=\"line2d_13\">\r\n      <g>\r\n       <use style=\"stroke:#000000;stroke-width:0.8;\" x=\"50.14375\" xlink:href=\"#m65e35a1044\" y=\"111.520982\"/>\r\n      </g>\r\n     </g>\r\n     <g id=\"text_14\">\r\n      <!-- 0.20 -->\r\n      <defs>\r\n       <path d=\"M 19.1875 8.296875 \r\nL 53.609375 8.296875 \r\nL 53.609375 0 \r\nL 7.328125 0 \r\nL 7.328125 8.296875 \r\nQ 12.9375 14.109375 22.625 23.890625 \r\nQ 32.328125 33.6875 34.8125 36.53125 \r\nQ 39.546875 41.84375 41.421875 45.53125 \r\nQ 43.3125 49.21875 43.3125 52.78125 \r\nQ 43.3125 58.59375 39.234375 62.25 \r\nQ 35.15625 65.921875 28.609375 65.921875 \r\nQ 23.96875 65.921875 18.8125 64.3125 \r\nQ 13.671875 62.703125 7.8125 59.421875 \r\nL 7.8125 69.390625 \r\nQ 13.765625 71.78125 18.9375 73 \r\nQ 24.125 74.21875 28.421875 74.21875 \r\nQ 39.75 74.21875 46.484375 68.546875 \r\nQ 53.21875 62.890625 53.21875 53.421875 \r\nQ 53.21875 48.921875 51.53125 44.890625 \r\nQ 49.859375 40.875 45.40625 35.40625 \r\nQ 44.1875 33.984375 37.640625 27.21875 \r\nQ 31.109375 20.453125 19.1875 8.296875 \r\nz\r\n\" id=\"DejaVuSans-50\"/>\r\n      </defs>\r\n      <g transform=\"translate(20.878125 115.320201)scale(0.1 -0.1)\">\r\n       <use xlink:href=\"#DejaVuSans-48\"/>\r\n       <use x=\"63.623047\" xlink:href=\"#DejaVuSans-46\"/>\r\n       <use x=\"95.410156\" xlink:href=\"#DejaVuSans-50\"/>\r\n       <use x=\"159.033203\" xlink:href=\"#DejaVuSans-48\"/>\r\n      </g>\r\n     </g>\r\n    </g>\r\n    <g id=\"ytick_6\">\r\n     <g id=\"line2d_14\">\r\n      <g>\r\n       <use style=\"stroke:#000000;stroke-width:0.8;\" x=\"50.14375\" xlink:href=\"#m65e35a1044\" y=\"82.366228\"/>\r\n      </g>\r\n     </g>\r\n     <g id=\"text_15\">\r\n      <!-- 0.25 -->\r\n      <g transform=\"translate(20.878125 86.165447)scale(0.1 -0.1)\">\r\n       <use xlink:href=\"#DejaVuSans-48\"/>\r\n       <use x=\"63.623047\" xlink:href=\"#DejaVuSans-46\"/>\r\n       <use x=\"95.410156\" xlink:href=\"#DejaVuSans-50\"/>\r\n       <use x=\"159.033203\" xlink:href=\"#DejaVuSans-53\"/>\r\n      </g>\r\n     </g>\r\n    </g>\r\n    <g id=\"ytick_7\">\r\n     <g id=\"line2d_15\">\r\n      <g>\r\n       <use style=\"stroke:#000000;stroke-width:0.8;\" x=\"50.14375\" xlink:href=\"#m65e35a1044\" y=\"53.211473\"/>\r\n      </g>\r\n     </g>\r\n     <g id=\"text_16\">\r\n      <!-- 0.30 -->\r\n      <defs>\r\n       <path d=\"M 40.578125 39.3125 \r\nQ 47.65625 37.796875 51.625 33 \r\nQ 55.609375 28.21875 55.609375 21.1875 \r\nQ 55.609375 10.40625 48.1875 4.484375 \r\nQ 40.765625 -1.421875 27.09375 -1.421875 \r\nQ 22.515625 -1.421875 17.65625 -0.515625 \r\nQ 12.796875 0.390625 7.625 2.203125 \r\nL 7.625 11.71875 \r\nQ 11.71875 9.328125 16.59375 8.109375 \r\nQ 21.484375 6.890625 26.8125 6.890625 \r\nQ 36.078125 6.890625 40.9375 10.546875 \r\nQ 45.796875 14.203125 45.796875 21.1875 \r\nQ 45.796875 27.640625 41.28125 31.265625 \r\nQ 36.765625 34.90625 28.71875 34.90625 \r\nL 20.21875 34.90625 \r\nL 20.21875 43.015625 \r\nL 29.109375 43.015625 \r\nQ 36.375 43.015625 40.234375 45.921875 \r\nQ 44.09375 48.828125 44.09375 54.296875 \r\nQ 44.09375 59.90625 40.109375 62.90625 \r\nQ 36.140625 65.921875 28.71875 65.921875 \r\nQ 24.65625 65.921875 20.015625 65.03125 \r\nQ 15.375 64.15625 9.8125 62.3125 \r\nL 9.8125 71.09375 \r\nQ 15.4375 72.65625 20.34375 73.4375 \r\nQ 25.25 74.21875 29.59375 74.21875 \r\nQ 40.828125 74.21875 47.359375 69.109375 \r\nQ 53.90625 64.015625 53.90625 55.328125 \r\nQ 53.90625 49.265625 50.4375 45.09375 \r\nQ 46.96875 40.921875 40.578125 39.3125 \r\nz\r\n\" id=\"DejaVuSans-51\"/>\r\n      </defs>\r\n      <g transform=\"translate(20.878125 57.010692)scale(0.1 -0.1)\">\r\n       <use xlink:href=\"#DejaVuSans-48\"/>\r\n       <use x=\"63.623047\" xlink:href=\"#DejaVuSans-46\"/>\r\n       <use x=\"95.410156\" xlink:href=\"#DejaVuSans-51\"/>\r\n       <use x=\"159.033203\" xlink:href=\"#DejaVuSans-48\"/>\r\n      </g>\r\n     </g>\r\n    </g>\r\n    <g id=\"ytick_8\">\r\n     <g id=\"line2d_16\">\r\n      <g>\r\n       <use style=\"stroke:#000000;stroke-width:0.8;\" x=\"50.14375\" xlink:href=\"#m65e35a1044\" y=\"24.056719\"/>\r\n      </g>\r\n     </g>\r\n     <g id=\"text_17\">\r\n      <!-- 0.35 -->\r\n      <g transform=\"translate(20.878125 27.855938)scale(0.1 -0.1)\">\r\n       <use xlink:href=\"#DejaVuSans-48\"/>\r\n       <use x=\"63.623047\" xlink:href=\"#DejaVuSans-46\"/>\r\n       <use x=\"95.410156\" xlink:href=\"#DejaVuSans-51\"/>\r\n       <use x=\"159.033203\" xlink:href=\"#DejaVuSans-53\"/>\r\n      </g>\r\n     </g>\r\n    </g>\r\n    <g id=\"text_18\">\r\n     <!-- Probability -->\r\n     <g transform=\"translate(14.798438 146.046562)rotate(-90)scale(0.1 -0.1)\">\r\n      <use xlink:href=\"#DejaVuSans-80\"/>\r\n      <use x=\"60.287109\" xlink:href=\"#DejaVuSans-114\"/>\r\n      <use x=\"101.369141\" xlink:href=\"#DejaVuSans-111\"/>\r\n      <use x=\"162.550781\" xlink:href=\"#DejaVuSans-98\"/>\r\n      <use x=\"226.027344\" xlink:href=\"#DejaVuSans-97\"/>\r\n      <use x=\"287.306641\" xlink:href=\"#DejaVuSans-98\"/>\r\n      <use x=\"350.783203\" xlink:href=\"#DejaVuSans-105\"/>\r\n      <use x=\"378.566406\" xlink:href=\"#DejaVuSans-108\"/>\r\n      <use x=\"406.349609\" xlink:href=\"#DejaVuSans-105\"/>\r\n      <use x=\"434.132812\" xlink:href=\"#DejaVuSans-116\"/>\r\n      <use x=\"473.341797\" xlink:href=\"#DejaVuSans-121\"/>\r\n     </g>\r\n    </g>\r\n   </g>\r\n   <g id=\"LineCollection_1\">\r\n    <path clip-path=\"url(#pbb98b92925)\" d=\"M 71.978533 187.711284 \r\nL 71.978533 178.70512 \r\n\" style=\"fill:none;stroke:#000000;stroke-width:1.5;\"/>\r\n    <path clip-path=\"url(#pbb98b92925)\" d=\"M 111.678137 37.450393 \r\nL 111.678137 21.444131 \r\n\" style=\"fill:none;stroke:#000000;stroke-width:1.5;\"/>\r\n    <path clip-path=\"url(#pbb98b92925)\" d=\"M 151.377742 109.201979 \r\nL 151.377742 95.30721 \r\n\" style=\"fill:none;stroke:#000000;stroke-width:1.5;\"/>\r\n    <path clip-path=\"url(#pbb98b92925)\" d=\"M 191.077347 125.889852 \r\nL 191.077347 112.731864 \r\n\" style=\"fill:none;stroke:#000000;stroke-width:1.5;\"/>\r\n    <path clip-path=\"url(#pbb98b92925)\" d=\"M 230.776952 217.417461 \r\nL 230.776952 212.387145 \r\n\" style=\"fill:none;stroke:#000000;stroke-width:1.5;\"/>\r\n    <path clip-path=\"url(#pbb98b92925)\" d=\"M 270.476556 171.846867 \r\nL 270.476556 161.475295 \r\n\" style=\"fill:none;stroke:#000000;stroke-width:1.5;\"/>\r\n    <path clip-path=\"url(#pbb98b92925)\" d=\"M 310.176161 212.991907 \r\nL 310.176161 207.138998 \r\n\" style=\"fill:none;stroke:#000000;stroke-width:1.5;\"/>\r\n    <path clip-path=\"url(#pbb98b92925)\" d=\"M 349.875766 218.569009 \r\nL 349.875766 213.781308 \r\n\" style=\"fill:none;stroke:#000000;stroke-width:1.5;\"/>\r\n   </g>\r\n   <g id=\"LineCollection_2\">\r\n    <path clip-path=\"url(#pbb98b92925)\" d=\"M 85.211734 202.507796 \r\nL 85.211734 195.462695 \r\n\" style=\"fill:none;stroke:#000000;stroke-width:1.5;\"/>\r\n    <path clip-path=\"url(#pbb98b92925)\" d=\"M 124.911339 36.388674 \r\nL 124.911339 21.054286 \r\n\" style=\"fill:none;stroke:#000000;stroke-width:1.5;\"/>\r\n    <path clip-path=\"url(#pbb98b92925)\" d=\"M 164.610944 167.479874 \r\nL 164.610944 157.253874 \r\n\" style=\"fill:none;stroke:#000000;stroke-width:1.5;\"/>\r\n    <path clip-path=\"url(#pbb98b92925)\" d=\"M 204.310548 110.21508 \r\nL 204.310548 96.966698 \r\n\" style=\"fill:none;stroke:#000000;stroke-width:1.5;\"/>\r\n    <path clip-path=\"url(#pbb98b92925)\" d=\"M 244.010153 178.718378 \r\nL 244.010153 169.339174 \r\n\" style=\"fill:none;stroke:#000000;stroke-width:1.5;\"/>\r\n    <path clip-path=\"url(#pbb98b92925)\" d=\"M 283.709758 152.228154 \r\nL 283.709758 141.01846 \r\n\" style=\"fill:none;stroke:#000000;stroke-width:1.5;\"/>\r\n    <path clip-path=\"url(#pbb98b92925)\" d=\"M 323.409363 214.587073 \r\nL 323.409363 209.27284 \r\n\" style=\"fill:none;stroke:#000000;stroke-width:1.5;\"/>\r\n    <path clip-path=\"url(#pbb98b92925)\" d=\"M 363.108967 218.106611 \r\nL 363.108967 213.450157 \r\n\" style=\"fill:none;stroke:#000000;stroke-width:1.5;\"/>\r\n   </g>\r\n   <g id=\"patch_19\">\r\n    <path d=\"M 50.14375 228.14 \r\nL 50.14375 10.7 \r\n\" style=\"fill:none;stroke:#000000;stroke-linecap:square;stroke-linejoin:miter;stroke-width:0.8;\"/>\r\n   </g>\r\n   <g id=\"patch_20\">\r\n    <path d=\"M 384.94375 228.14 \r\nL 384.94375 10.7 \r\n\" style=\"fill:none;stroke:#000000;stroke-linecap:square;stroke-linejoin:miter;stroke-width:0.8;\"/>\r\n   </g>\r\n   <g id=\"patch_21\">\r\n    <path d=\"M 50.14375 228.14 \r\nL 384.94375 228.14 \r\n\" style=\"fill:none;stroke:#000000;stroke-linecap:square;stroke-linejoin:miter;stroke-width:0.8;\"/>\r\n   </g>\r\n   <g id=\"patch_22\">\r\n    <path d=\"M 50.14375 10.7 \r\nL 384.94375 10.7 \r\n\" style=\"fill:none;stroke:#000000;stroke-linecap:square;stroke-linejoin:miter;stroke-width:0.8;\"/>\r\n   </g>\r\n   <g id=\"legend_1\">\r\n    <g id=\"patch_23\">\r\n     <path d=\"M 222.028125 48.05625 \r\nL 377.94375 48.05625 \r\nQ 379.94375 48.05625 379.94375 46.05625 \r\nL 379.94375 17.7 \r\nQ 379.94375 15.7 377.94375 15.7 \r\nL 222.028125 15.7 \r\nQ 220.028125 15.7 220.028125 17.7 \r\nL 220.028125 46.05625 \r\nQ 220.028125 48.05625 222.028125 48.05625 \r\nz\r\n\" style=\"fill:#ffffff;opacity:0.8;stroke:#cccccc;stroke-linejoin:miter;\"/>\r\n    </g>\r\n    <g id=\"patch_24\">\r\n     <path d=\"M 224.028125 27.298437 \r\nL 244.028125 27.298437 \r\nL 244.028125 20.298437 \r\nL 224.028125 20.298437 \r\nz\r\n\" style=\"fill:#1f77b4;\"/>\r\n    </g>\r\n    <g id=\"text_19\">\r\n     <!-- Исходные данные -->\r\n     <defs>\r\n      <path d=\"M 64.984375 72.90625 \r\nL 64.984375 0 \r\nL 55.421875 0 \r\nL 55.421875 60.984375 \r\nL 23.09375 0 \r\nL 9.8125 0 \r\nL 9.8125 72.90625 \r\nL 19.390625 72.90625 \r\nL 19.390625 11.921875 \r\nL 51.703125 72.90625 \r\nz\r\n\" id=\"DejaVuSans-1048\"/>\r\n      <path d=\"M 48.78125 52.59375 \r\nL 48.78125 44.1875 \r\nQ 44.96875 46.296875 41.140625 47.34375 \r\nQ 37.3125 48.390625 33.40625 48.390625 \r\nQ 24.65625 48.390625 19.8125 42.84375 \r\nQ 14.984375 37.3125 14.984375 27.296875 \r\nQ 14.984375 17.28125 19.8125 11.734375 \r\nQ 24.65625 6.203125 33.40625 6.203125 \r\nQ 37.3125 6.203125 41.140625 7.25 \r\nQ 44.96875 8.296875 48.78125 10.40625 \r\nL 48.78125 2.09375 \r\nQ 45.015625 0.34375 40.984375 -0.53125 \r\nQ 36.96875 -1.421875 32.421875 -1.421875 \r\nQ 20.0625 -1.421875 12.78125 6.34375 \r\nQ 5.515625 14.109375 5.515625 27.296875 \r\nQ 5.515625 40.671875 12.859375 48.328125 \r\nQ 20.21875 56 33.015625 56 \r\nQ 37.15625 56 41.109375 55.140625 \r\nQ 45.0625 54.296875 48.78125 52.59375 \r\nz\r\n\" id=\"DejaVuSans-1089\"/>\r\n      <path d=\"M 54.890625 54.6875 \r\nL 35.109375 28.078125 \r\nL 55.90625 0 \r\nL 45.3125 0 \r\nL 29.390625 21.484375 \r\nL 13.484375 0 \r\nL 2.875 0 \r\nL 24.125 28.609375 \r\nL 4.6875 54.6875 \r\nL 15.28125 54.6875 \r\nL 29.78125 35.203125 \r\nL 44.28125 54.6875 \r\nz\r\n\" id=\"DejaVuSans-1093\"/>\r\n      <path d=\"M 30.609375 48.390625 \r\nQ 23.390625 48.390625 19.1875 42.75 \r\nQ 14.984375 37.109375 14.984375 27.296875 \r\nQ 14.984375 17.484375 19.15625 11.84375 \r\nQ 23.34375 6.203125 30.609375 6.203125 \r\nQ 37.796875 6.203125 41.984375 11.859375 \r\nQ 46.1875 17.53125 46.1875 27.296875 \r\nQ 46.1875 37.015625 41.984375 42.703125 \r\nQ 37.796875 48.390625 30.609375 48.390625 \r\nz\r\nM 30.609375 56 \r\nQ 42.328125 56 49.015625 48.375 \r\nQ 55.71875 40.765625 55.71875 27.296875 \r\nQ 55.71875 13.875 49.015625 6.21875 \r\nQ 42.328125 -1.421875 30.609375 -1.421875 \r\nQ 18.84375 -1.421875 12.171875 6.21875 \r\nQ 5.515625 13.875 5.515625 27.296875 \r\nQ 5.515625 40.765625 12.171875 48.375 \r\nQ 18.84375 56 30.609375 56 \r\nz\r\n\" id=\"DejaVuSans-1086\"/>\r\n      <path d=\"M 21.625 7.171875 \r\nL 47.703125 7.171875 \r\nL 47.703125 47.515625 \r\nL 28.8125 47.515625 \r\nL 28.8125 40.671875 \r\nQ 28.8125 20.5625 23.046875 9.8125 \r\nz\r\nM 8.59375 7.171875 \r\nQ 13.03125 9.125 14.984375 13.28125 \r\nQ 19.78125 23.578125 19.78125 44.34375 \r\nL 19.78125 54.6875 \r\nL 56.734375 54.6875 \r\nL 56.734375 7.171875 \r\nL 63.921875 7.171875 \r\nL 63.921875 -13.8125 \r\nL 56.734375 -13.8125 \r\nL 56.734375 0 \r\nL 12.40625 0 \r\nL 12.40625 -13.8125 \r\nL 5.21875 -13.8125 \r\nL 5.21875 7.171875 \r\nz\r\n\" id=\"DejaVuSans-1076\"/>\r\n      <path d=\"M 9.078125 54.6875 \r\nL 18.109375 54.6875 \r\nL 18.109375 32.375 \r\nL 47.265625 32.375 \r\nL 47.265625 54.6875 \r\nL 56.296875 54.6875 \r\nL 56.296875 0 \r\nL 47.265625 0 \r\nL 47.265625 25.203125 \r\nL 18.109375 25.203125 \r\nL 18.109375 0 \r\nL 9.078125 0 \r\nz\r\n\" id=\"DejaVuSans-1085\"/>\r\n      <path d=\"M 61.078125 54.6875 \r\nL 70.0625 54.6875 \r\nL 70.0625 0 \r\nL 61.078125 0 \r\nz\r\nM 65.578125 56 \r\nz\r\nM 43.453125 16.21875 \r\nQ 43.453125 20.609375 40.25 22.90625 \r\nQ 37.0625 25.203125 30.90625 25.203125 \r\nL 18.109375 25.203125 \r\nL 18.109375 7.171875 \r\nL 30.90625 7.171875 \r\nQ 37.0625 7.171875 40.25 9.484375 \r\nQ 43.453125 11.8125 43.453125 16.21875 \r\nz\r\nM 9.078125 54.6875 \r\nL 18.109375 54.6875 \r\nL 18.109375 32.375 \r\nL 31.296875 32.375 \r\nQ 41.75 32.375 47.390625 28.390625 \r\nQ 53.03125 24.421875 53.03125 16.21875 \r\nQ 53.03125 8.015625 47.390625 4 \r\nQ 41.75 0 31.296875 0 \r\nL 9.078125 0 \r\nz\r\n\" id=\"DejaVuSans-1099\"/>\r\n      <path d=\"M 56.203125 29.59375 \r\nL 56.203125 25.203125 \r\nL 14.890625 25.203125 \r\nQ 15.484375 15.921875 20.484375 11.0625 \r\nQ 25.484375 6.203125 34.421875 6.203125 \r\nQ 39.59375 6.203125 44.453125 7.46875 \r\nQ 49.3125 8.734375 54.109375 11.28125 \r\nL 54.109375 2.78125 \r\nQ 49.265625 0.734375 44.1875 -0.34375 \r\nQ 39.109375 -1.421875 33.890625 -1.421875 \r\nQ 20.796875 -1.421875 13.15625 6.1875 \r\nQ 5.515625 13.8125 5.515625 26.8125 \r\nQ 5.515625 40.234375 12.765625 48.109375 \r\nQ 20.015625 56 32.328125 56 \r\nQ 43.359375 56 49.78125 48.890625 \r\nQ 56.203125 41.796875 56.203125 29.59375 \r\nz\r\nM 47.21875 32.234375 \r\nQ 47.125 39.59375 43.09375 43.984375 \r\nQ 39.0625 48.390625 32.421875 48.390625 \r\nQ 24.90625 48.390625 20.390625 44.140625 \r\nQ 15.875 39.890625 15.1875 32.171875 \r\nz\r\n\" id=\"DejaVuSans-1077\"/>\r\n      <path d=\"M 34.28125 27.484375 \r\nQ 23.390625 27.484375 19.1875 25 \r\nQ 14.984375 22.515625 14.984375 16.5 \r\nQ 14.984375 11.71875 18.140625 8.90625 \r\nQ 21.296875 6.109375 26.703125 6.109375 \r\nQ 34.1875 6.109375 38.703125 11.40625 \r\nQ 43.21875 16.703125 43.21875 25.484375 \r\nL 43.21875 27.484375 \r\nz\r\nM 52.203125 31.203125 \r\nL 52.203125 0 \r\nL 43.21875 0 \r\nL 43.21875 8.296875 \r\nQ 40.140625 3.328125 35.546875 0.953125 \r\nQ 30.953125 -1.421875 24.3125 -1.421875 \r\nQ 15.921875 -1.421875 10.953125 3.296875 \r\nQ 6 8.015625 6 15.921875 \r\nQ 6 25.140625 12.171875 29.828125 \r\nQ 18.359375 34.515625 30.609375 34.515625 \r\nL 43.21875 34.515625 \r\nL 43.21875 35.40625 \r\nQ 43.21875 41.609375 39.140625 45 \r\nQ 35.0625 48.390625 27.6875 48.390625 \r\nQ 23 48.390625 18.546875 47.265625 \r\nQ 14.109375 46.140625 10.015625 43.890625 \r\nL 10.015625 52.203125 \r\nQ 14.9375 54.109375 19.578125 55.046875 \r\nQ 24.21875 56 28.609375 56 \r\nQ 40.484375 56 46.34375 49.84375 \r\nQ 52.203125 43.703125 52.203125 31.203125 \r\nz\r\n\" id=\"DejaVuSans-1072\"/>\r\n     </defs>\r\n     <g transform=\"translate(252.028125 27.298437)scale(0.1 -0.1)\">\r\n      <use xlink:href=\"#DejaVuSans-1048\"/>\r\n      <use x=\"74.804688\" xlink:href=\"#DejaVuSans-1089\"/>\r\n      <use x=\"129.785156\" xlink:href=\"#DejaVuSans-1093\"/>\r\n      <use x=\"188.964844\" xlink:href=\"#DejaVuSans-1086\"/>\r\n      <use x=\"250.146484\" xlink:href=\"#DejaVuSans-1076\"/>\r\n      <use x=\"319.287109\" xlink:href=\"#DejaVuSans-1085\"/>\r\n      <use x=\"384.667969\" xlink:href=\"#DejaVuSans-1099\"/>\r\n      <use x=\"463.623047\" xlink:href=\"#DejaVuSans-1077\"/>\r\n      <use x=\"525.146484\" xlink:href=\"#DejaVuSans-32\"/>\r\n      <use x=\"556.933594\" xlink:href=\"#DejaVuSans-1076\"/>\r\n      <use x=\"626.074219\" xlink:href=\"#DejaVuSans-1072\"/>\r\n      <use x=\"687.353516\" xlink:href=\"#DejaVuSans-1085\"/>\r\n      <use x=\"752.734375\" xlink:href=\"#DejaVuSans-1085\"/>\r\n      <use x=\"818.115234\" xlink:href=\"#DejaVuSans-1099\"/>\r\n      <use x=\"897.070312\" xlink:href=\"#DejaVuSans-1077\"/>\r\n     </g>\r\n    </g>\r\n    <g id=\"patch_25\">\r\n     <path d=\"M 224.028125 41.976562 \r\nL 244.028125 41.976562 \r\nL 244.028125 34.976562 \r\nL 224.028125 34.976562 \r\nz\r\n\" style=\"fill:#ff7f0e;\"/>\r\n    </g>\r\n    <g id=\"text_20\">\r\n     <!-- Синтетические данные -->\r\n     <defs>\r\n      <path d=\"M 64.40625 67.28125 \r\nL 64.40625 56.890625 \r\nQ 59.421875 61.53125 53.78125 63.8125 \r\nQ 48.140625 66.109375 41.796875 66.109375 \r\nQ 29.296875 66.109375 22.65625 58.46875 \r\nQ 16.015625 50.828125 16.015625 36.375 \r\nQ 16.015625 21.96875 22.65625 14.328125 \r\nQ 29.296875 6.6875 41.796875 6.6875 \r\nQ 48.140625 6.6875 53.78125 8.984375 \r\nQ 59.421875 11.28125 64.40625 15.921875 \r\nL 64.40625 5.609375 \r\nQ 59.234375 2.09375 53.4375 0.328125 \r\nQ 47.65625 -1.421875 41.21875 -1.421875 \r\nQ 24.65625 -1.421875 15.125 8.703125 \r\nQ 5.609375 18.84375 5.609375 36.375 \r\nQ 5.609375 53.953125 15.125 64.078125 \r\nQ 24.65625 74.21875 41.21875 74.21875 \r\nQ 47.75 74.21875 53.53125 72.484375 \r\nQ 59.328125 70.75 64.40625 67.28125 \r\nz\r\n\" id=\"DejaVuSans-1057\"/>\r\n      <path d=\"M 55.90625 54.6875 \r\nL 55.90625 0 \r\nL 46.96875 0 \r\nL 46.96875 43.890625 \r\nL 20.609375 0 \r\nL 9.078125 0 \r\nL 9.078125 54.6875 \r\nL 18.015625 54.6875 \r\nL 18.015625 10.890625 \r\nL 44.34375 54.6875 \r\nz\r\n\" id=\"DejaVuSans-1080\"/>\r\n      <path d=\"M 2.9375 54.6875 \r\nL 55.328125 54.6875 \r\nL 55.328125 47.515625 \r\nL 33.546875 47.515625 \r\nL 33.546875 0 \r\nL 24.703125 0 \r\nL 24.703125 47.515625 \r\nL 2.9375 47.515625 \r\nz\r\n\" id=\"DejaVuSans-1090\"/>\r\n      <path d=\"M 41.015625 0 \r\nL 41.015625 23 \r\nL 24.265625 23 \r\nQ 16.796875 23 11.8125 27.640625 \r\nQ 7.328125 31.84375 7.328125 40.828125 \r\nL 7.328125 54.6875 \r\nL 16.3125 54.6875 \r\nL 16.3125 41.65625 \r\nQ 16.3125 35.9375 18.84375 33.0625 \r\nQ 21.4375 30.171875 26.515625 30.171875 \r\nL 41.015625 30.171875 \r\nL 41.015625 54.6875 \r\nL 50 54.6875 \r\nL 50 0 \r\nz\r\n\" id=\"DejaVuSans-1095\"/>\r\n      <path d=\"M 9.078125 54.6875 \r\nL 18.015625 54.6875 \r\nL 18.015625 29 \r\nL 43.359375 54.6875 \r\nL 54.390625 54.6875 \r\nL 33.5 33.546875 \r\nL 57.078125 0 \r\nL 47.015625 0 \r\nL 27.640625 27.59375 \r\nL 18.015625 17.828125 \r\nL 18.015625 0 \r\nL 9.078125 0 \r\nz\r\n\" id=\"DejaVuSans-1082\"/>\r\n     </defs>\r\n     <g transform=\"translate(252.028125 41.976562)scale(0.1 -0.1)\">\r\n      <use xlink:href=\"#DejaVuSans-1057\"/>\r\n      <use x=\"69.824219\" xlink:href=\"#DejaVuSans-1080\"/>\r\n      <use x=\"134.814453\" xlink:href=\"#DejaVuSans-1085\"/>\r\n      <use x=\"200.195312\" xlink:href=\"#DejaVuSans-1090\"/>\r\n      <use x=\"258.447266\" xlink:href=\"#DejaVuSans-1077\"/>\r\n      <use x=\"319.970703\" xlink:href=\"#DejaVuSans-1090\"/>\r\n      <use x=\"378.222656\" xlink:href=\"#DejaVuSans-1080\"/>\r\n      <use x=\"443.212891\" xlink:href=\"#DejaVuSans-1095\"/>\r\n      <use x=\"502.294922\" xlink:href=\"#DejaVuSans-1077\"/>\r\n      <use x=\"563.818359\" xlink:href=\"#DejaVuSans-1089\"/>\r\n      <use x=\"618.798828\" xlink:href=\"#DejaVuSans-1082\"/>\r\n      <use x=\"679.199219\" xlink:href=\"#DejaVuSans-1080\"/>\r\n      <use x=\"744.189453\" xlink:href=\"#DejaVuSans-1077\"/>\r\n      <use x=\"805.712891\" xlink:href=\"#DejaVuSans-32\"/>\r\n      <use x=\"837.5\" xlink:href=\"#DejaVuSans-1076\"/>\r\n      <use x=\"906.640625\" xlink:href=\"#DejaVuSans-1072\"/>\r\n      <use x=\"967.919922\" xlink:href=\"#DejaVuSans-1085\"/>\r\n      <use x=\"1033.300781\" xlink:href=\"#DejaVuSans-1085\"/>\r\n      <use x=\"1098.681641\" xlink:href=\"#DejaVuSans-1099\"/>\r\n      <use x=\"1177.636719\" xlink:href=\"#DejaVuSans-1077\"/>\r\n     </g>\r\n    </g>\r\n   </g>\r\n  </g>\r\n </g>\r\n <defs>\r\n  <clipPath id=\"pbb98b92925\">\r\n   <rect height=\"217.44\" width=\"334.8\" x=\"50.14375\" y=\"10.7\"/>\r\n  </clipPath>\r\n </defs>\r\n</svg>\r\n",
      "image/png": "[encoded data removed]"
     },
     "metadata": {
      "needs_background": "light"
     }
    }
   ],
   "source": [
    "draw_comparative_hist('top1', data_filter, sample)"
   ]
  },
  {
   "cell_type": "code",
   "execution_count": 67,
   "metadata": {},
   "outputs": [
    {
     "output_type": "stream",
     "name": "stdout",
     "text": [
      "220.57396340370178\n"
     ]
    }
   ],
   "source": [
    "end = time.time()\n",
    "print(end - start)"
   ]
  },
  {
   "cell_type": "code",
   "execution_count": 68,
   "metadata": {},
   "outputs": [],
   "source": [
    "final_struct = dict()\n",
    "final_struct['V'] = hybn_final.V\n",
    "final_struct['E'] = hybn_final.E"
   ]
  },
  {
   "cell_type": "code",
   "execution_count": 69,
   "metadata": {},
   "outputs": [
    {
     "output_type": "execute_result",
     "data": {
      "text/plain": [
       "['relation_status',\n",
       " 'has_high_education',\n",
       " 'number_of_relatives',\n",
       " 'age',\n",
       " 'sex',\n",
       " 'L 0_1',\n",
       " 'number_of_activities',\n",
       " 'number_of_interests',\n",
       " 'number_of_movies',\n",
       " 'number_of_books',\n",
       " 'len_of_about',\n",
       " 'L 1_3',\n",
       " 'L 0_2',\n",
       " 'L 0_4',\n",
       " 'cash_usage',\n",
       " 'parent',\n",
       " 'driver',\n",
       " 'has_pets',\n",
       " 'L 4_2',\n",
       " 'mean_tr',\n",
       " 'max_tr',\n",
       " 'L 0_3',\n",
       " 'nodes',\n",
       " 'L 3_2',\n",
       " 'top1',\n",
       " 'top2',\n",
       " 'top3',\n",
       " 'top4',\n",
       " 'degree_assortativity_coefficient',\n",
       " 'eigenvector_centrality',\n",
       " 'betweenness_centrality',\n",
       " 'density']"
      ]
     },
     "metadata": {},
     "execution_count": 69
    }
   ],
   "source": [
    "final_struct['V'] "
   ]
  },
  {
   "cell_type": "code",
   "execution_count": 70,
   "metadata": {},
   "outputs": [
    {
     "output_type": "execute_result",
     "data": {
      "text/plain": [
       "[['top1', 'top3'],\n",
       " ['driver', 'max_tr'],\n",
       " ['number_of_movies', 'number_of_books'],\n",
       " ['number_of_activities', 'number_of_interests'],\n",
       " ['number_of_relatives', 'L 0_3'],\n",
       " ['eigenvector_centrality', 'betweenness_centrality'],\n",
       " ['has_pets', 'L 4_2'],\n",
       " ['cash_usage', 'mean_tr'],\n",
       " ['number_of_relatives', 'L 0_2'],\n",
       " ['nodes', 'L 3_2'],\n",
       " ['mean_tr', 'max_tr'],\n",
       " ['nodes', 'density'],\n",
       " ['L 0_1', 'number_of_activities'],\n",
       " ['parent', 'max_tr'],\n",
       " ['top3', 'top4'],\n",
       " ['L 0_2', 'top1'],\n",
       " ['top2', 'top3'],\n",
       " ['parent', 'driver'],\n",
       " ['L 4_2', 'top1'],\n",
       " ['sex', 'L 0_1'],\n",
       " ['sex', 'L 0_2'],\n",
       " ['number_of_relatives', 'L 0_4'],\n",
       " ['nodes', 'degree_assortativity_coefficient'],\n",
       " ['has_pets', 'mean_tr'],\n",
       " ['degree_assortativity_coefficient', 'betweenness_centrality'],\n",
       " ['cash_usage', 'driver'],\n",
       " ['top1', 'top2'],\n",
       " ['number_of_relatives', 'L 0_1'],\n",
       " ['has_high_education', 'number_of_relatives'],\n",
       " ['sex', 'L 0_4'],\n",
       " ['parent', 'has_pets'],\n",
       " ['parent', 'L 4_2'],\n",
       " ['top2', 'top4'],\n",
       " ['age', 'sex'],\n",
       " ['cash_usage', 'parent'],\n",
       " ['relation_status', 'age'],\n",
       " ['top1', 'top4'],\n",
       " ['degree_assortativity_coefficient', 'eigenvector_centrality'],\n",
       " ['betweenness_centrality', 'density'],\n",
       " ['driver', 'mean_tr'],\n",
       " ['relation_status', 'has_high_education'],\n",
       " ['L 0_4', 'cash_usage'],\n",
       " ['has_high_education', 'age'],\n",
       " ['has_pets', 'max_tr'],\n",
       " ['L 1_3', 'nodes'],\n",
       " ['number_of_activities', 'len_of_about'],\n",
       " ['driver', 'has_pets'],\n",
       " ['len_of_about', 'L 1_3'],\n",
       " ['L 0_3', 'nodes'],\n",
       " ['sex', 'L 0_3'],\n",
       " ['number_of_books', 'L 1_3'],\n",
       " ['driver', 'L 4_2'],\n",
       " ['parent', 'mean_tr'],\n",
       " ['number_of_interests', 'number_of_movies'],\n",
       " ['L 3_2', 'top1']]"
      ]
     },
     "metadata": {},
     "execution_count": 70
    }
   ],
   "source": [
    "final_struct['E']"
   ]
  },
  {
   "cell_type": "code",
   "execution_count": 71,
   "metadata": {},
   "outputs": [],
   "source": [
    "node_type_final['L 0_1'] = 'disc'\n",
    "node_type_final['L 0_3'] = 'disc'\n",
    "node_type_final['L 0_4'] = 'disc'\n",
    "node_type_final['L 0_2'] = 'disc'\n",
    "node_type_final['L 2_4'] = 'disc'\n",
    "node_type_final['L 2_0'] = 'disc'\n",
    "node_type_final['L 4_2'] = 'disc'\n",
    "node_type_final['L 3_0'] = 'disc'\n",
    "node_type_final['L 1_0'] = 'disc'\n",
    "node_type_final['L 1_3'] = 'disc'\n",
    "node_type_final['L 3_2'] = 'disc'"
   ]
  },
  {
   "cell_type": "code",
   "execution_count": 72,
   "metadata": {},
   "outputs": [
    {
     "output_type": "execute_result",
     "data": {
      "text/plain": [
       "{'age': 'disc',\n",
       " 'sex': 'disc',\n",
       " 'has_high_education': 'disc',\n",
       " 'relation_status': 'disc',\n",
       " 'number_of_relatives': 'disc',\n",
       " 'len_of_about': 'disc',\n",
       " 'number_of_activities': 'disc',\n",
       " 'number_of_books': 'disc',\n",
       " 'number_of_interests': 'disc',\n",
       " 'number_of_movies': 'disc',\n",
       " 'top1': 'disc',\n",
       " 'top2': 'disc',\n",
       " 'top3': 'disc',\n",
       " 'top4': 'disc',\n",
       " 'nodes': 'disc',\n",
       " 'betweenness_centrality': 'cont',\n",
       " 'eigenvector_centrality': 'cont',\n",
       " 'density': 'cont',\n",
       " 'degree_assortativity_coefficient': 'cont',\n",
       " 'max_tr': 'cont',\n",
       " 'mean_tr': 'cont',\n",
       " 'parent': 'disc',\n",
       " 'driver': 'disc',\n",
       " 'has_pets': 'disc',\n",
       " 'cash_usage': 'disc',\n",
       " 'L 0_1': 'disc',\n",
       " 'L 0_3': 'disc',\n",
       " 'L 0_4': 'disc',\n",
       " 'L 0_2': 'disc',\n",
       " 'L 2_4': 'disc',\n",
       " 'L 2_0': 'disc',\n",
       " 'L 4_2': 'disc',\n",
       " 'L 3_0': 'disc',\n",
       " 'L 1_0': 'disc',\n",
       " 'L 1_3': 'disc',\n",
       " 'L 3_2': 'disc'}"
      ]
     },
     "metadata": {},
     "execution_count": 72
    }
   ],
   "source": [
    "node_type_final"
   ]
  },
  {
   "cell_type": "code",
   "execution_count": 76,
   "metadata": {},
   "outputs": [
    {
     "output_type": "execute_result",
     "data": {
      "text/plain": [
       "{'V': ['relation_status',\n",
       "  'has_high_education',\n",
       "  'number_of_relatives',\n",
       "  'age',\n",
       "  'sex',\n",
       "  'L 0_1',\n",
       "  'number_of_activities',\n",
       "  'number_of_interests',\n",
       "  'number_of_movies',\n",
       "  'number_of_books',\n",
       "  'len_of_about',\n",
       "  'L 1_3',\n",
       "  'L 0_2',\n",
       "  'L 0_4',\n",
       "  'cash_usage',\n",
       "  'parent',\n",
       "  'driver',\n",
       "  'has_pets',\n",
       "  'L 4_2',\n",
       "  'mean_tr',\n",
       "  'max_tr',\n",
       "  'L 0_3',\n",
       "  'nodes',\n",
       "  'L 3_2',\n",
       "  'top1',\n",
       "  'top2',\n",
       "  'top3',\n",
       "  'top4',\n",
       "  'degree_assortativity_coefficient',\n",
       "  'eigenvector_centrality',\n",
       "  'betweenness_centrality',\n",
       "  'density'],\n",
       " 'E': [['top1', 'top3'],\n",
       "  ['driver', 'max_tr'],\n",
       "  ['number_of_movies', 'number_of_books'],\n",
       "  ['number_of_activities', 'number_of_interests'],\n",
       "  ['number_of_relatives', 'L 0_3'],\n",
       "  ['eigenvector_centrality', 'betweenness_centrality'],\n",
       "  ['has_pets', 'L 4_2'],\n",
       "  ['cash_usage', 'mean_tr'],\n",
       "  ['number_of_relatives', 'L 0_2'],\n",
       "  ['nodes', 'L 3_2'],\n",
       "  ['mean_tr', 'max_tr'],\n",
       "  ['nodes', 'density'],\n",
       "  ['L 0_1', 'number_of_activities'],\n",
       "  ['parent', 'max_tr'],\n",
       "  ['top3', 'top4'],\n",
       "  ['L 0_2', 'top1'],\n",
       "  ['top2', 'top3'],\n",
       "  ['parent', 'driver'],\n",
       "  ['L 4_2', 'top1'],\n",
       "  ['sex', 'L 0_1'],\n",
       "  ['sex', 'L 0_2'],\n",
       "  ['number_of_relatives', 'L 0_4'],\n",
       "  ['nodes', 'degree_assortativity_coefficient'],\n",
       "  ['has_pets', 'mean_tr'],\n",
       "  ['degree_assortativity_coefficient', 'betweenness_centrality'],\n",
       "  ['cash_usage', 'driver'],\n",
       "  ['top1', 'top2'],\n",
       "  ['number_of_relatives', 'L 0_1'],\n",
       "  ['has_high_education', 'number_of_relatives'],\n",
       "  ['sex', 'L 0_4'],\n",
       "  ['parent', 'has_pets'],\n",
       "  ['parent', 'L 4_2'],\n",
       "  ['top2', 'top4'],\n",
       "  ['age', 'sex'],\n",
       "  ['cash_usage', 'parent'],\n",
       "  ['relation_status', 'age'],\n",
       "  ['top1', 'top4'],\n",
       "  ['degree_assortativity_coefficient', 'eigenvector_centrality'],\n",
       "  ['betweenness_centrality', 'density'],\n",
       "  ['driver', 'mean_tr'],\n",
       "  ['relation_status', 'has_high_education'],\n",
       "  ['L 0_4', 'cash_usage'],\n",
       "  ['has_high_education', 'age'],\n",
       "  ['has_pets', 'max_tr'],\n",
       "  ['L 1_3', 'nodes'],\n",
       "  ['number_of_activities', 'len_of_about'],\n",
       "  ['driver', 'has_pets'],\n",
       "  ['len_of_about', 'L 1_3'],\n",
       "  ['L 0_3', 'nodes'],\n",
       "  ['sex', 'L 0_3'],\n",
       "  ['number_of_books', 'L 1_3'],\n",
       "  ['driver', 'L 4_2'],\n",
       "  ['parent', 'mean_tr'],\n",
       "  ['number_of_interests', 'number_of_movies'],\n",
       "  ['L 3_2', 'top1']]}"
      ]
     },
     "metadata": {},
     "execution_count": 76
    }
   ],
   "source": [
    "final_struct"
   ]
  },
  {
   "cell_type": "code",
   "execution_count": 75,
   "metadata": {},
   "outputs": [
    {
     "output_type": "display_data",
     "data": {
      "text/plain": "<Figure size 2025x225 with 1 Axes>",
      "image/svg+xml": "<?xml version=\"1.0\" encoding=\"utf-8\" standalone=\"no\"?>\r\n<!DOCTYPE svg PUBLIC \"-//W3C//DTD SVG 1.1//EN\"\r\n  \"http://www.w3.org/Graphics/SVG/1.1/DTD/svg11.dtd\">\r\n<!-- Created with matplotlib (https://matplotlib.org/) -->\r\n<svg height=\"100.837344pt\" version=\"1.1\" viewBox=\"0 0 958.444687 100.837344\" width=\"958.444687pt\" xmlns=\"http://www.w3.org/2000/svg\" xmlns:xlink=\"http://www.w3.org/1999/xlink\">\r\n <defs>\r\n  <style type=\"text/css\">\r\n*{stroke-linecap:butt;stroke-linejoin:round;}\r\n  </style>\r\n </defs>\r\n <g id=\"figure_1\">\r\n  <g id=\"patch_1\">\r\n   <path d=\"M 0 100.837344 \r\nL 958.444687 100.837344 \r\nL 958.444687 0 \r\nL 0 0 \r\nz\r\n\" style=\"fill:none;\"/>\r\n  </g>\r\n  <g id=\"axes_1\">\r\n   <g id=\"legend_1\">\r\n    <g id=\"patch_2\">\r\n     <path d=\"M 425.843438 52.818281 \r\nL 547.552813 52.818281 \r\nQ 549.552813 52.818281 549.552813 50.818281 \r\nL 549.552813 37.140156 \r\nQ 549.552813 35.140156 547.552813 35.140156 \r\nL 425.843438 35.140156 \r\nQ 423.843438 35.140156 423.843438 37.140156 \r\nL 423.843438 50.818281 \r\nQ 423.843438 52.818281 425.843438 52.818281 \r\nz\r\n\" style=\"fill:#ffffff;opacity:0.8;stroke:#cccccc;stroke-linejoin:miter;\"/>\r\n    </g>\r\n    <g id=\"patch_3\">\r\n     <path d=\"M 427.843438 46.738594 \r\nL 447.843438 46.738594 \r\nL 447.843438 39.738594 \r\nL 427.843438 39.738594 \r\nz\r\n\" style=\"fill:#fafad2;stroke:#fafad2;stroke-linejoin:miter;\"/>\r\n    </g>\r\n    <g id=\"text_1\">\r\n     <!-- disc -->\r\n     <defs>\r\n      <path d=\"M 45.40625 46.390625 \r\nL 45.40625 75.984375 \r\nL 54.390625 75.984375 \r\nL 54.390625 0 \r\nL 45.40625 0 \r\nL 45.40625 8.203125 \r\nQ 42.578125 3.328125 38.25 0.953125 \r\nQ 33.9375 -1.421875 27.875 -1.421875 \r\nQ 17.96875 -1.421875 11.734375 6.484375 \r\nQ 5.515625 14.40625 5.515625 27.296875 \r\nQ 5.515625 40.1875 11.734375 48.09375 \r\nQ 17.96875 56 27.875 56 \r\nQ 33.9375 56 38.25 53.625 \r\nQ 42.578125 51.265625 45.40625 46.390625 \r\nz\r\nM 14.796875 27.296875 \r\nQ 14.796875 17.390625 18.875 11.75 \r\nQ 22.953125 6.109375 30.078125 6.109375 \r\nQ 37.203125 6.109375 41.296875 11.75 \r\nQ 45.40625 17.390625 45.40625 27.296875 \r\nQ 45.40625 37.203125 41.296875 42.84375 \r\nQ 37.203125 48.484375 30.078125 48.484375 \r\nQ 22.953125 48.484375 18.875 42.84375 \r\nQ 14.796875 37.203125 14.796875 27.296875 \r\nz\r\n\" id=\"DejaVuSans-100\"/>\r\n      <path d=\"M 9.421875 54.6875 \r\nL 18.40625 54.6875 \r\nL 18.40625 0 \r\nL 9.421875 0 \r\nz\r\nM 9.421875 75.984375 \r\nL 18.40625 75.984375 \r\nL 18.40625 64.59375 \r\nL 9.421875 64.59375 \r\nz\r\n\" id=\"DejaVuSans-105\"/>\r\n      <path d=\"M 44.28125 53.078125 \r\nL 44.28125 44.578125 \r\nQ 40.484375 46.53125 36.375 47.5 \r\nQ 32.28125 48.484375 27.875 48.484375 \r\nQ 21.1875 48.484375 17.84375 46.4375 \r\nQ 14.5 44.390625 14.5 40.28125 \r\nQ 14.5 37.15625 16.890625 35.375 \r\nQ 19.28125 33.59375 26.515625 31.984375 \r\nL 29.59375 31.296875 \r\nQ 39.15625 29.25 43.1875 25.515625 \r\nQ 47.21875 21.78125 47.21875 15.09375 \r\nQ 47.21875 7.46875 41.1875 3.015625 \r\nQ 35.15625 -1.421875 24.609375 -1.421875 \r\nQ 20.21875 -1.421875 15.453125 -0.5625 \r\nQ 10.6875 0.296875 5.421875 2 \r\nL 5.421875 11.28125 \r\nQ 10.40625 8.6875 15.234375 7.390625 \r\nQ 20.0625 6.109375 24.8125 6.109375 \r\nQ 31.15625 6.109375 34.5625 8.28125 \r\nQ 37.984375 10.453125 37.984375 14.40625 \r\nQ 37.984375 18.0625 35.515625 20.015625 \r\nQ 33.0625 21.96875 24.703125 23.78125 \r\nL 21.578125 24.515625 \r\nQ 13.234375 26.265625 9.515625 29.90625 \r\nQ 5.8125 33.546875 5.8125 39.890625 \r\nQ 5.8125 47.609375 11.28125 51.796875 \r\nQ 16.75 56 26.8125 56 \r\nQ 31.78125 56 36.171875 55.265625 \r\nQ 40.578125 54.546875 44.28125 53.078125 \r\nz\r\n\" id=\"DejaVuSans-115\"/>\r\n      <path d=\"M 48.78125 52.59375 \r\nL 48.78125 44.1875 \r\nQ 44.96875 46.296875 41.140625 47.34375 \r\nQ 37.3125 48.390625 33.40625 48.390625 \r\nQ 24.65625 48.390625 19.8125 42.84375 \r\nQ 14.984375 37.3125 14.984375 27.296875 \r\nQ 14.984375 17.28125 19.8125 11.734375 \r\nQ 24.65625 6.203125 33.40625 6.203125 \r\nQ 37.3125 6.203125 41.140625 7.25 \r\nQ 44.96875 8.296875 48.78125 10.40625 \r\nL 48.78125 2.09375 \r\nQ 45.015625 0.34375 40.984375 -0.53125 \r\nQ 36.96875 -1.421875 32.421875 -1.421875 \r\nQ 20.0625 -1.421875 12.78125 6.34375 \r\nQ 5.515625 14.109375 5.515625 27.296875 \r\nQ 5.515625 40.671875 12.859375 48.328125 \r\nQ 20.21875 56 33.015625 56 \r\nQ 37.15625 56 41.109375 55.140625 \r\nQ 45.0625 54.296875 48.78125 52.59375 \r\nz\r\n\" id=\"DejaVuSans-99\"/>\r\n     </defs>\r\n     <g transform=\"translate(455.843438 46.738594)scale(0.1 -0.1)\">\r\n      <use xlink:href=\"#DejaVuSans-100\"/>\r\n      <use x=\"63.476562\" xlink:href=\"#DejaVuSans-105\"/>\r\n      <use x=\"91.259766\" xlink:href=\"#DejaVuSans-115\"/>\r\n      <use x=\"143.359375\" xlink:href=\"#DejaVuSans-99\"/>\r\n     </g>\r\n    </g>\r\n    <g id=\"patch_4\">\r\n     <path d=\"M 495.677813 46.738594 \r\nL 515.677813 46.738594 \r\nL 515.677813 39.738594 \r\nL 495.677813 39.738594 \r\nz\r\n\" style=\"fill:#778899;stroke:#778899;stroke-linejoin:miter;\"/>\r\n    </g>\r\n    <g id=\"text_2\">\r\n     <!-- cont -->\r\n     <defs>\r\n      <path d=\"M 30.609375 48.390625 \r\nQ 23.390625 48.390625 19.1875 42.75 \r\nQ 14.984375 37.109375 14.984375 27.296875 \r\nQ 14.984375 17.484375 19.15625 11.84375 \r\nQ 23.34375 6.203125 30.609375 6.203125 \r\nQ 37.796875 6.203125 41.984375 11.859375 \r\nQ 46.1875 17.53125 46.1875 27.296875 \r\nQ 46.1875 37.015625 41.984375 42.703125 \r\nQ 37.796875 48.390625 30.609375 48.390625 \r\nz\r\nM 30.609375 56 \r\nQ 42.328125 56 49.015625 48.375 \r\nQ 55.71875 40.765625 55.71875 27.296875 \r\nQ 55.71875 13.875 49.015625 6.21875 \r\nQ 42.328125 -1.421875 30.609375 -1.421875 \r\nQ 18.84375 -1.421875 12.171875 6.21875 \r\nQ 5.515625 13.875 5.515625 27.296875 \r\nQ 5.515625 40.765625 12.171875 48.375 \r\nQ 18.84375 56 30.609375 56 \r\nz\r\n\" id=\"DejaVuSans-111\"/>\r\n      <path d=\"M 54.890625 33.015625 \r\nL 54.890625 0 \r\nL 45.90625 0 \r\nL 45.90625 32.71875 \r\nQ 45.90625 40.484375 42.875 44.328125 \r\nQ 39.84375 48.1875 33.796875 48.1875 \r\nQ 26.515625 48.1875 22.3125 43.546875 \r\nQ 18.109375 38.921875 18.109375 30.90625 \r\nL 18.109375 0 \r\nL 9.078125 0 \r\nL 9.078125 54.6875 \r\nL 18.109375 54.6875 \r\nL 18.109375 46.1875 \r\nQ 21.34375 51.125 25.703125 53.5625 \r\nQ 30.078125 56 35.796875 56 \r\nQ 45.21875 56 50.046875 50.171875 \r\nQ 54.890625 44.34375 54.890625 33.015625 \r\nz\r\n\" id=\"DejaVuSans-110\"/>\r\n      <path d=\"M 18.3125 70.21875 \r\nL 18.3125 54.6875 \r\nL 36.8125 54.6875 \r\nL 36.8125 47.703125 \r\nL 18.3125 47.703125 \r\nL 18.3125 18.015625 \r\nQ 18.3125 11.328125 20.140625 9.421875 \r\nQ 21.96875 7.515625 27.59375 7.515625 \r\nL 36.8125 7.515625 \r\nL 36.8125 0 \r\nL 27.59375 0 \r\nQ 17.1875 0 13.234375 3.875 \r\nQ 9.28125 7.765625 9.28125 18.015625 \r\nL 9.28125 47.703125 \r\nL 2.6875 47.703125 \r\nL 2.6875 54.6875 \r\nL 9.28125 54.6875 \r\nL 9.28125 70.21875 \r\nz\r\n\" id=\"DejaVuSans-116\"/>\r\n     </defs>\r\n     <g transform=\"translate(523.677813 46.738594)scale(0.1 -0.1)\">\r\n      <use xlink:href=\"#DejaVuSans-99\"/>\r\n      <use x=\"54.980469\" xlink:href=\"#DejaVuSans-111\"/>\r\n      <use x=\"116.162109\" xlink:href=\"#DejaVuSans-110\"/>\r\n      <use x=\"179.541016\" xlink:href=\"#DejaVuSans-116\"/>\r\n     </g>\r\n    </g>\r\n   </g>\r\n  </g>\r\n </g>\r\n</svg>\r\n",
      "image/png": "[encoded data removed]"
     },
     "metadata": {
      "needs_background": "light"
     }
    },
    {
     "output_type": "execute_result",
     "data": {
      "text/plain": [
       "<IPython.lib.display.IFrame at 0xae440eb6d8>"
      ],
      "text/html": "\n        <iframe\n            width=\"100%\"\n            height=\"800px\"\n            src=\"visualization_result/final_net.html\"\n            frameborder=\"0\"\n            allowfullscreen\n        ></iframe>\n        "
     },
     "metadata": {},
     "execution_count": 75
    }
   ],
   "source": [
    "visualizer(final_struct, node_type_final, 'final_net')"
   ]
  }
 ]
}