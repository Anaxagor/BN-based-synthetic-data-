{
 "metadata": {
  "language_info": {
   "codemirror_mode": {
    "name": "ipython",
    "version": 3
   },
   "file_extension": ".py",
   "mimetype": "text/x-python",
   "name": "python",
   "nbconvert_exporter": "python",
   "pygments_lexer": "ipython3",
   "version": "3.6.6-final"
  },
  "orig_nbformat": 2,
  "kernelspec": {
   "name": "python36664bitff322542fddd498cbdaed6c54435a902",
   "display_name": "Python 3.6.6 64-bit"
  }
 },
 "nbformat": 4,
 "nbformat_minor": 2,
 "cells": [
  {
   "cell_type": "code",
   "execution_count": 7,
   "metadata": {},
   "outputs": [],
   "source": [
    "import pandas as pd\n",
    "from data_process.preprocessing import discretization, get_nodes_type, code_categories\n",
    "from block_learning.train_bn import structure_learning, parameter_learning\n",
    "from block_learning.partial_bn_train import connect_partial_bn\n",
    "from libpgm.hybayesiannetwork import HyBayesianNetwork\n",
    "from libpgm.sampleaggregator import SampleAggregator\n",
    "import seaborn as sns\n",
    "import numpy as np\n",
    "import time\n",
    "import matplotlib.pyplot as plt\n",
    "from sklearn.preprocessing import StandardScaler, MinMaxScaler\n",
    "from block_learning.save_bn import save_structure, save_params\n",
    "from block_learning.read_bn import read_structure, read_params\n",
    "from kmodes.kmodes import KModes"
   ]
  },
  {
   "cell_type": "code",
   "execution_count": 8,
   "metadata": {},
   "outputs": [
    {
     "output_type": "execute_result",
     "data": {
      "text/plain": [
       "   age  sex  is_closed  has_high_education  relation_status  \\\n",
       "0   34    1          0                   1                1   \n",
       "1    0    1          0                   0                0   \n",
       "2   37    1          0                   0                0   \n",
       "3   37    1          0                   0                0   \n",
       "4   39    1          0                   1                4   \n",
       "5   34    1          0                   0                0   \n",
       "6   36    0          0                   0                0   \n",
       "7    0    0          0                   0                0   \n",
       "8   35    0          0                   0                0   \n",
       "9   41    0          0                   0                0   \n",
       "\n",
       "   number_of_relatives  len_of_about  number_of_activities  number_of_books  \\\n",
       "0                    2            14                     1                1   \n",
       "1                    0             0                     0                0   \n",
       "2                    0             0                     0                0   \n",
       "3                    0             0                     0                0   \n",
       "4                    0             0                     1                1   \n",
       "5                    0             0                     0                0   \n",
       "6                    0             0                     0                0   \n",
       "7                    0             0                     0                0   \n",
       "8                    0             0                     0                0   \n",
       "9                    0             0                     0                0   \n",
       "\n",
       "   number_of_friends  ...        90        sum_am  gamer  parent  driver  \\\n",
       "0                911  ...   2100.00  86523.380875     51       0       0   \n",
       "1                687  ...  26360.00  33493.455566      2       0       1   \n",
       "2                 24  ...   1128.00  18458.058882     17       0       0   \n",
       "3               2535  ...   1246.59  62419.014987     38       0       0   \n",
       "4                291  ...  27617.00  53262.991010      4       1       0   \n",
       "5                413  ...   2258.00  29671.422055     26       0       0   \n",
       "6                175  ...   2717.00  55001.432499     26       0       1   \n",
       "7                982  ...   1615.85  51665.131081     60       0       0   \n",
       "8                279  ...   4090.00  19942.358601      6       0       1   \n",
       "9                134  ...   2398.00   4406.399963      4       0       1   \n",
       "\n",
       "   has_pets  cash_usage  gulyaka  zhavoronok  sum_act  \n",
       "0         0           0        1           0        1  \n",
       "1         0           0        1           0        2  \n",
       "2         1           0        0           0        1  \n",
       "3         0           0        0           0        0  \n",
       "4         0           0        1           0        2  \n",
       "5         0           0        1           0        1  \n",
       "6         0           0        0           0        1  \n",
       "7         1           0        1           0        2  \n",
       "8         0           0        0           0        1  \n",
       "9         0           0        0           0        1  \n",
       "\n",
       "[10 rows x 44 columns]"
      ],
      "text/html": "<div>\n<style scoped>\n    .dataframe tbody tr th:only-of-type {\n        vertical-align: middle;\n    }\n\n    .dataframe tbody tr th {\n        vertical-align: top;\n    }\n\n    .dataframe thead th {\n        text-align: right;\n    }\n</style>\n<table border=\"1\" class=\"dataframe\">\n  <thead>\n    <tr style=\"text-align: right;\">\n      <th></th>\n      <th>age</th>\n      <th>sex</th>\n      <th>is_closed</th>\n      <th>has_high_education</th>\n      <th>relation_status</th>\n      <th>number_of_relatives</th>\n      <th>len_of_about</th>\n      <th>number_of_activities</th>\n      <th>number_of_books</th>\n      <th>number_of_friends</th>\n      <th>...</th>\n      <th>90</th>\n      <th>sum_am</th>\n      <th>gamer</th>\n      <th>parent</th>\n      <th>driver</th>\n      <th>has_pets</th>\n      <th>cash_usage</th>\n      <th>gulyaka</th>\n      <th>zhavoronok</th>\n      <th>sum_act</th>\n    </tr>\n  </thead>\n  <tbody>\n    <tr>\n      <th>0</th>\n      <td>34</td>\n      <td>1</td>\n      <td>0</td>\n      <td>1</td>\n      <td>1</td>\n      <td>2</td>\n      <td>14</td>\n      <td>1</td>\n      <td>1</td>\n      <td>911</td>\n      <td>...</td>\n      <td>2100.00</td>\n      <td>86523.380875</td>\n      <td>51</td>\n      <td>0</td>\n      <td>0</td>\n      <td>0</td>\n      <td>0</td>\n      <td>1</td>\n      <td>0</td>\n      <td>1</td>\n    </tr>\n    <tr>\n      <th>1</th>\n      <td>0</td>\n      <td>1</td>\n      <td>0</td>\n      <td>0</td>\n      <td>0</td>\n      <td>0</td>\n      <td>0</td>\n      <td>0</td>\n      <td>0</td>\n      <td>687</td>\n      <td>...</td>\n      <td>26360.00</td>\n      <td>33493.455566</td>\n      <td>2</td>\n      <td>0</td>\n      <td>1</td>\n      <td>0</td>\n      <td>0</td>\n      <td>1</td>\n      <td>0</td>\n      <td>2</td>\n    </tr>\n    <tr>\n      <th>2</th>\n      <td>37</td>\n      <td>1</td>\n      <td>0</td>\n      <td>0</td>\n      <td>0</td>\n      <td>0</td>\n      <td>0</td>\n      <td>0</td>\n      <td>0</td>\n      <td>24</td>\n      <td>...</td>\n      <td>1128.00</td>\n      <td>18458.058882</td>\n      <td>17</td>\n      <td>0</td>\n      <td>0</td>\n      <td>1</td>\n      <td>0</td>\n      <td>0</td>\n      <td>0</td>\n      <td>1</td>\n    </tr>\n    <tr>\n      <th>3</th>\n      <td>37</td>\n      <td>1</td>\n      <td>0</td>\n      <td>0</td>\n      <td>0</td>\n      <td>0</td>\n      <td>0</td>\n      <td>0</td>\n      <td>0</td>\n      <td>2535</td>\n      <td>...</td>\n      <td>1246.59</td>\n      <td>62419.014987</td>\n      <td>38</td>\n      <td>0</td>\n      <td>0</td>\n      <td>0</td>\n      <td>0</td>\n      <td>0</td>\n      <td>0</td>\n      <td>0</td>\n    </tr>\n    <tr>\n      <th>4</th>\n      <td>39</td>\n      <td>1</td>\n      <td>0</td>\n      <td>1</td>\n      <td>4</td>\n      <td>0</td>\n      <td>0</td>\n      <td>1</td>\n      <td>1</td>\n      <td>291</td>\n      <td>...</td>\n      <td>27617.00</td>\n      <td>53262.991010</td>\n      <td>4</td>\n      <td>1</td>\n      <td>0</td>\n      <td>0</td>\n      <td>0</td>\n      <td>1</td>\n      <td>0</td>\n      <td>2</td>\n    </tr>\n    <tr>\n      <th>5</th>\n      <td>34</td>\n      <td>1</td>\n      <td>0</td>\n      <td>0</td>\n      <td>0</td>\n      <td>0</td>\n      <td>0</td>\n      <td>0</td>\n      <td>0</td>\n      <td>413</td>\n      <td>...</td>\n      <td>2258.00</td>\n      <td>29671.422055</td>\n      <td>26</td>\n      <td>0</td>\n      <td>0</td>\n      <td>0</td>\n      <td>0</td>\n      <td>1</td>\n      <td>0</td>\n      <td>1</td>\n    </tr>\n    <tr>\n      <th>6</th>\n      <td>36</td>\n      <td>0</td>\n      <td>0</td>\n      <td>0</td>\n      <td>0</td>\n      <td>0</td>\n      <td>0</td>\n      <td>0</td>\n      <td>0</td>\n      <td>175</td>\n      <td>...</td>\n      <td>2717.00</td>\n      <td>55001.432499</td>\n      <td>26</td>\n      <td>0</td>\n      <td>1</td>\n      <td>0</td>\n      <td>0</td>\n      <td>0</td>\n      <td>0</td>\n      <td>1</td>\n    </tr>\n    <tr>\n      <th>7</th>\n      <td>0</td>\n      <td>0</td>\n      <td>0</td>\n      <td>0</td>\n      <td>0</td>\n      <td>0</td>\n      <td>0</td>\n      <td>0</td>\n      <td>0</td>\n      <td>982</td>\n      <td>...</td>\n      <td>1615.85</td>\n      <td>51665.131081</td>\n      <td>60</td>\n      <td>0</td>\n      <td>0</td>\n      <td>1</td>\n      <td>0</td>\n      <td>1</td>\n      <td>0</td>\n      <td>2</td>\n    </tr>\n    <tr>\n      <th>8</th>\n      <td>35</td>\n      <td>0</td>\n      <td>0</td>\n      <td>0</td>\n      <td>0</td>\n      <td>0</td>\n      <td>0</td>\n      <td>0</td>\n      <td>0</td>\n      <td>279</td>\n      <td>...</td>\n      <td>4090.00</td>\n      <td>19942.358601</td>\n      <td>6</td>\n      <td>0</td>\n      <td>1</td>\n      <td>0</td>\n      <td>0</td>\n      <td>0</td>\n      <td>0</td>\n      <td>1</td>\n    </tr>\n    <tr>\n      <th>9</th>\n      <td>41</td>\n      <td>0</td>\n      <td>0</td>\n      <td>0</td>\n      <td>0</td>\n      <td>0</td>\n      <td>0</td>\n      <td>0</td>\n      <td>0</td>\n      <td>134</td>\n      <td>...</td>\n      <td>2398.00</td>\n      <td>4406.399963</td>\n      <td>4</td>\n      <td>0</td>\n      <td>1</td>\n      <td>0</td>\n      <td>0</td>\n      <td>0</td>\n      <td>0</td>\n      <td>1</td>\n    </tr>\n  </tbody>\n</table>\n<p>10 rows × 44 columns</p>\n</div>"
     },
     "metadata": {},
     "execution_count": 8
    }
   ],
   "source": [
    "data = pd.read_csv('data/final_dataset.csv')\n",
    "data.head(10)"
   ]
  },
  {
   "cell_type": "code",
   "execution_count": 9,
   "metadata": {},
   "outputs": [],
   "source": [
    "data = data.loc[data['sex'] != 0]"
   ]
  },
  {
   "cell_type": "code",
   "execution_count": 10,
   "metadata": {},
   "outputs": [
    {
     "output_type": "execute_result",
     "data": {
      "text/plain": [
       "(28190, 44)"
      ]
     },
     "metadata": {},
     "execution_count": 10
    }
   ],
   "source": [
    "data.shape"
   ]
  },
  {
   "cell_type": "code",
   "execution_count": 11,
   "metadata": {},
   "outputs": [],
   "source": [
    "data = data[['age',\t'sex',\t'has_high_education',\t'relation_status',\t'number_of_relatives','len_of_about',\t'number_of_activities',\t'number_of_books',\t'number_of_interests',\t'number_of_movies','Love & relation',\t'Gifts & holidays',\t'History & politics',\t'Music',\t'Purchase & sale',\t'Cooking', 'Fitness & cosmetology',\t'Job & money','nodes',\t'edges',\t'size',\t'betweenness_centrality',\t'density',\t'eigenvector_centrality',\t'degree_assortativity_coefficient', 'number_of_followers', 'max_tr',\t'mean_tr',\t'med_tr', 'parent',\t'driver',\t'has_pets',\t'cash_usage']]"
   ]
  },
  {
   "cell_type": "code",
   "execution_count": 12,
   "metadata": {},
   "outputs": [],
   "source": [
    "data = data.loc[data['mean_tr'] < 1000]"
   ]
  },
  {
   "cell_type": "code",
   "execution_count": 13,
   "metadata": {},
   "outputs": [
    {
     "output_type": "execute_result",
     "data": {
      "text/plain": [
       "(18644, 33)"
      ]
     },
     "metadata": {},
     "execution_count": 13
    }
   ],
   "source": [
    "data.shape"
   ]
  },
  {
   "cell_type": "code",
   "execution_count": 14,
   "metadata": {},
   "outputs": [],
   "source": [
    "discrete_data = discretization(data, 'kmeans', bins= 5, columns=['Love & relation',\t'Gifts & holidays',\t'History & politics',\t'Music',\t'Purchase & sale',\t'Cooking', 'Fitness & cosmetology',\t'Job & money', 'nodes',\t'edges',\t'size', 'betweenness_centrality',\t'density',\t'eigenvector_centrality',\t'degree_assortativity_coefficient','max_tr',\t'mean_tr',\t'med_tr'])"
   ]
  },
  {
   "cell_type": "code",
   "execution_count": 15,
   "metadata": {},
   "outputs": [
    {
     "output_type": "execute_result",
     "data": {
      "text/plain": [
       "   age  sex  has_high_education  relation_status  number_of_relatives  \\\n",
       "0   34    1                   1                1                    2   \n",
       "1   37    1                   0                0                    0   \n",
       "2   37    1                   0                0                    0   \n",
       "3    0    1                   0                0                    0   \n",
       "4   43    1                   1                0                    0   \n",
       "5   34    1                   1                4                    1   \n",
       "6   35    1                   1                0                    1   \n",
       "7    0    1                   0                0                    0   \n",
       "8   34    1                   0                0                    0   \n",
       "9   32    1                   0                0                    0   \n",
       "\n",
       "   len_of_about  number_of_activities  number_of_books  number_of_interests  \\\n",
       "0            14                     1                1                    1   \n",
       "1             0                     0                0                    0   \n",
       "2             0                     0                0                    0   \n",
       "3             0                     0                0                    0   \n",
       "4            40                     1                3                    1   \n",
       "5             0                     1                1                    4   \n",
       "6             0                     1                1                    1   \n",
       "7             0                     0                0                    0   \n",
       "8             0                     0                0                    0   \n",
       "9             0                     0                0                    0   \n",
       "\n",
       "   number_of_movies  ...  eigenvector_centrality  \\\n",
       "0                 1  ...                       1   \n",
       "1                 0  ...                       4   \n",
       "2                 0  ...                       1   \n",
       "3                 0  ...                       2   \n",
       "4                 1  ...                       2   \n",
       "5                 1  ...                       3   \n",
       "6                 1  ...                       1   \n",
       "7                 0  ...                       1   \n",
       "8                 0  ...                       2   \n",
       "9                 0  ...                       3   \n",
       "\n",
       "   degree_assortativity_coefficient  number_of_followers  max_tr  mean_tr  \\\n",
       "0                                 4                  720       1        4   \n",
       "1                                 1                    0       0        1   \n",
       "2                                 4                 3916       1        3   \n",
       "3                                 3                 7853       0        0   \n",
       "4                                 4                  464       0        3   \n",
       "5                                 3                  333       1        2   \n",
       "6                                 4                 1395       2        2   \n",
       "7                                 3                  535       3        2   \n",
       "8                                 4                 1490       0        2   \n",
       "9                                 3                 1108       0        2   \n",
       "\n",
       "   med_tr  parent  driver  has_pets  cash_usage  \n",
       "0       2       0       0         0           0  \n",
       "1       0       0       0         1           0  \n",
       "2       2       0       0         0           0  \n",
       "3       0       0       0         0           0  \n",
       "4       1       0       0         0           0  \n",
       "5       1       0       1         0           0  \n",
       "6       1       1       0         0           0  \n",
       "7       0       0       0         0           0  \n",
       "8       0       0       0         1           0  \n",
       "9       1       1       1         1           0  \n",
       "\n",
       "[10 rows x 33 columns]"
      ],
      "text/html": "<div>\n<style scoped>\n    .dataframe tbody tr th:only-of-type {\n        vertical-align: middle;\n    }\n\n    .dataframe tbody tr th {\n        vertical-align: top;\n    }\n\n    .dataframe thead th {\n        text-align: right;\n    }\n</style>\n<table border=\"1\" class=\"dataframe\">\n  <thead>\n    <tr style=\"text-align: right;\">\n      <th></th>\n      <th>age</th>\n      <th>sex</th>\n      <th>has_high_education</th>\n      <th>relation_status</th>\n      <th>number_of_relatives</th>\n      <th>len_of_about</th>\n      <th>number_of_activities</th>\n      <th>number_of_books</th>\n      <th>number_of_interests</th>\n      <th>number_of_movies</th>\n      <th>...</th>\n      <th>eigenvector_centrality</th>\n      <th>degree_assortativity_coefficient</th>\n      <th>number_of_followers</th>\n      <th>max_tr</th>\n      <th>mean_tr</th>\n      <th>med_tr</th>\n      <th>parent</th>\n      <th>driver</th>\n      <th>has_pets</th>\n      <th>cash_usage</th>\n    </tr>\n  </thead>\n  <tbody>\n    <tr>\n      <th>0</th>\n      <td>34</td>\n      <td>1</td>\n      <td>1</td>\n      <td>1</td>\n      <td>2</td>\n      <td>14</td>\n      <td>1</td>\n      <td>1</td>\n      <td>1</td>\n      <td>1</td>\n      <td>...</td>\n      <td>1</td>\n      <td>4</td>\n      <td>720</td>\n      <td>1</td>\n      <td>4</td>\n      <td>2</td>\n      <td>0</td>\n      <td>0</td>\n      <td>0</td>\n      <td>0</td>\n    </tr>\n    <tr>\n      <th>1</th>\n      <td>37</td>\n      <td>1</td>\n      <td>0</td>\n      <td>0</td>\n      <td>0</td>\n      <td>0</td>\n      <td>0</td>\n      <td>0</td>\n      <td>0</td>\n      <td>0</td>\n      <td>...</td>\n      <td>4</td>\n      <td>1</td>\n      <td>0</td>\n      <td>0</td>\n      <td>1</td>\n      <td>0</td>\n      <td>0</td>\n      <td>0</td>\n      <td>1</td>\n      <td>0</td>\n    </tr>\n    <tr>\n      <th>2</th>\n      <td>37</td>\n      <td>1</td>\n      <td>0</td>\n      <td>0</td>\n      <td>0</td>\n      <td>0</td>\n      <td>0</td>\n      <td>0</td>\n      <td>0</td>\n      <td>0</td>\n      <td>...</td>\n      <td>1</td>\n      <td>4</td>\n      <td>3916</td>\n      <td>1</td>\n      <td>3</td>\n      <td>2</td>\n      <td>0</td>\n      <td>0</td>\n      <td>0</td>\n      <td>0</td>\n    </tr>\n    <tr>\n      <th>3</th>\n      <td>0</td>\n      <td>1</td>\n      <td>0</td>\n      <td>0</td>\n      <td>0</td>\n      <td>0</td>\n      <td>0</td>\n      <td>0</td>\n      <td>0</td>\n      <td>0</td>\n      <td>...</td>\n      <td>2</td>\n      <td>3</td>\n      <td>7853</td>\n      <td>0</td>\n      <td>0</td>\n      <td>0</td>\n      <td>0</td>\n      <td>0</td>\n      <td>0</td>\n      <td>0</td>\n    </tr>\n    <tr>\n      <th>4</th>\n      <td>43</td>\n      <td>1</td>\n      <td>1</td>\n      <td>0</td>\n      <td>0</td>\n      <td>40</td>\n      <td>1</td>\n      <td>3</td>\n      <td>1</td>\n      <td>1</td>\n      <td>...</td>\n      <td>2</td>\n      <td>4</td>\n      <td>464</td>\n      <td>0</td>\n      <td>3</td>\n      <td>1</td>\n      <td>0</td>\n      <td>0</td>\n      <td>0</td>\n      <td>0</td>\n    </tr>\n    <tr>\n      <th>5</th>\n      <td>34</td>\n      <td>1</td>\n      <td>1</td>\n      <td>4</td>\n      <td>1</td>\n      <td>0</td>\n      <td>1</td>\n      <td>1</td>\n      <td>4</td>\n      <td>1</td>\n      <td>...</td>\n      <td>3</td>\n      <td>3</td>\n      <td>333</td>\n      <td>1</td>\n      <td>2</td>\n      <td>1</td>\n      <td>0</td>\n      <td>1</td>\n      <td>0</td>\n      <td>0</td>\n    </tr>\n    <tr>\n      <th>6</th>\n      <td>35</td>\n      <td>1</td>\n      <td>1</td>\n      <td>0</td>\n      <td>1</td>\n      <td>0</td>\n      <td>1</td>\n      <td>1</td>\n      <td>1</td>\n      <td>1</td>\n      <td>...</td>\n      <td>1</td>\n      <td>4</td>\n      <td>1395</td>\n      <td>2</td>\n      <td>2</td>\n      <td>1</td>\n      <td>1</td>\n      <td>0</td>\n      <td>0</td>\n      <td>0</td>\n    </tr>\n    <tr>\n      <th>7</th>\n      <td>0</td>\n      <td>1</td>\n      <td>0</td>\n      <td>0</td>\n      <td>0</td>\n      <td>0</td>\n      <td>0</td>\n      <td>0</td>\n      <td>0</td>\n      <td>0</td>\n      <td>...</td>\n      <td>1</td>\n      <td>3</td>\n      <td>535</td>\n      <td>3</td>\n      <td>2</td>\n      <td>0</td>\n      <td>0</td>\n      <td>0</td>\n      <td>0</td>\n      <td>0</td>\n    </tr>\n    <tr>\n      <th>8</th>\n      <td>34</td>\n      <td>1</td>\n      <td>0</td>\n      <td>0</td>\n      <td>0</td>\n      <td>0</td>\n      <td>0</td>\n      <td>0</td>\n      <td>0</td>\n      <td>0</td>\n      <td>...</td>\n      <td>2</td>\n      <td>4</td>\n      <td>1490</td>\n      <td>0</td>\n      <td>2</td>\n      <td>0</td>\n      <td>0</td>\n      <td>0</td>\n      <td>1</td>\n      <td>0</td>\n    </tr>\n    <tr>\n      <th>9</th>\n      <td>32</td>\n      <td>1</td>\n      <td>0</td>\n      <td>0</td>\n      <td>0</td>\n      <td>0</td>\n      <td>0</td>\n      <td>0</td>\n      <td>0</td>\n      <td>0</td>\n      <td>...</td>\n      <td>3</td>\n      <td>3</td>\n      <td>1108</td>\n      <td>0</td>\n      <td>2</td>\n      <td>1</td>\n      <td>1</td>\n      <td>1</td>\n      <td>1</td>\n      <td>0</td>\n    </tr>\n  </tbody>\n</table>\n<p>10 rows × 33 columns</p>\n</div>"
     },
     "metadata": {},
     "execution_count": 15
    }
   ],
   "source": [
    "discrete_data.head(10)"
   ]
  },
  {
   "cell_type": "code",
   "execution_count": 16,
   "metadata": {},
   "outputs": [],
   "source": [
    "module1 = discrete_data[['age',\t'sex',\t'has_high_education',\t'relation_status',\t'number_of_relatives']]\n",
    "module2 = discrete_data[['len_of_about',\t'number_of_activities',\t'number_of_books',\t'number_of_interests',\t'number_of_movies']]\n",
    "module3 = discrete_data[['Love & relation',\t'Gifts & holidays',\t'History & politics',\t'Music',\t'Purchase & sale',\t'Cooking', 'Fitness & cosmetology',\t'Job & money']]\n",
    "module4 = discrete_data[['nodes',\t'edges',\t'size',\t'betweenness_centrality',\t'density',\t'eigenvector_centrality',\t'degree_assortativity_coefficient', 'number_of_followers']]\n",
    "module5 = discrete_data[['max_tr',\t'mean_tr',\t'med_tr', 'parent',\t'driver',\t'has_pets',\t'cash_usage']]"
   ]
  },
  {
   "cell_type": "code",
   "execution_count": 17,
   "metadata": {},
   "outputs": [
    {
     "output_type": "execute_result",
     "data": {
      "text/plain": [
       "{'age': 'disc',\n",
       " 'sex': 'disc',\n",
       " 'has_high_education': 'disc',\n",
       " 'relation_status': 'disc',\n",
       " 'number_of_relatives': 'disc'}"
      ]
     },
     "metadata": {},
     "execution_count": 17
    }
   ],
   "source": [
    "node_type1 = get_nodes_type(data[['age',\t'sex',\t'has_high_education',\t'relation_status',\t'number_of_relatives']])\n",
    "node_type1"
   ]
  },
  {
   "cell_type": "code",
   "execution_count": 18,
   "metadata": {},
   "outputs": [
    {
     "output_type": "execute_result",
     "data": {
      "text/plain": [
       "{'len_of_about': 'disc',\n",
       " 'number_of_activities': 'disc',\n",
       " 'number_of_books': 'disc',\n",
       " 'number_of_interests': 'disc',\n",
       " 'number_of_movies': 'disc'}"
      ]
     },
     "metadata": {},
     "execution_count": 18
    }
   ],
   "source": [
    "node_type2 = get_nodes_type(data[['len_of_about',\t'number_of_activities',\t'number_of_books',\t'number_of_interests',\t'number_of_movies']])\n",
    "node_type2"
   ]
  },
  {
   "cell_type": "code",
   "execution_count": 19,
   "metadata": {},
   "outputs": [
    {
     "output_type": "execute_result",
     "data": {
      "text/plain": [
       "{'Love & relation': 'cont',\n",
       " 'Gifts & holidays': 'cont',\n",
       " 'History & politics': 'cont',\n",
       " 'Music': 'cont',\n",
       " 'Purchase & sale': 'cont',\n",
       " 'Cooking': 'cont',\n",
       " 'Fitness & cosmetology': 'cont',\n",
       " 'Job & money': 'cont'}"
      ]
     },
     "metadata": {},
     "execution_count": 19
    }
   ],
   "source": [
    "node_type3 = get_nodes_type(data[['Love & relation',\t'Gifts & holidays',\t'History & politics',\t'Music',\t'Purchase & sale',\t'Cooking', 'Fitness & cosmetology',\t'Job & money']])\n",
    "node_type3"
   ]
  },
  {
   "cell_type": "code",
   "execution_count": 20,
   "metadata": {},
   "outputs": [
    {
     "output_type": "execute_result",
     "data": {
      "text/plain": [
       "{'nodes': 'disc',\n",
       " 'edges': 'disc',\n",
       " 'size': 'disc',\n",
       " 'betweenness_centrality': 'cont',\n",
       " 'density': 'cont',\n",
       " 'eigenvector_centrality': 'cont',\n",
       " 'degree_assortativity_coefficient': 'cont',\n",
       " 'number_of_followers': 'disc'}"
      ]
     },
     "metadata": {},
     "execution_count": 20
    }
   ],
   "source": [
    "node_type4 = get_nodes_type(data[['nodes',\t'edges',\t'size',\t'betweenness_centrality',\t'density',\t'eigenvector_centrality',\t'degree_assortativity_coefficient', 'number_of_followers']])\n",
    "node_type4"
   ]
  },
  {
   "cell_type": "code",
   "execution_count": 21,
   "metadata": {},
   "outputs": [
    {
     "output_type": "execute_result",
     "data": {
      "text/plain": [
       "{'max_tr': 'cont',\n",
       " 'mean_tr': 'cont',\n",
       " 'med_tr': 'cont',\n",
       " 'parent': 'disc',\n",
       " 'driver': 'disc',\n",
       " 'has_pets': 'disc',\n",
       " 'cash_usage': 'disc'}"
      ]
     },
     "metadata": {},
     "execution_count": 21
    }
   ],
   "source": [
    "node_type5 = get_nodes_type(data[['max_tr',\t'mean_tr',\t'med_tr', 'parent',\t'driver',\t'has_pets',\t'cash_usage']])\n",
    "node_type5"
   ]
  },
  {
   "cell_type": "code",
   "execution_count": 22,
   "metadata": {},
   "outputs": [],
   "source": [
    "start = time.time()\n",
    "bn1 = structure_learning(module1, 'MI', node_type1)"
   ]
  },
  {
   "cell_type": "code",
   "execution_count": 23,
   "metadata": {},
   "outputs": [
    {
     "output_type": "execute_result",
     "data": {
      "text/plain": [
       "{'V': ['age',\n",
       "  'sex',\n",
       "  'has_high_education',\n",
       "  'relation_status',\n",
       "  'number_of_relatives'],\n",
       " 'E': [['number_of_relatives', 'sex'],\n",
       "  ['age', 'has_high_education'],\n",
       "  ['sex', 'has_high_education'],\n",
       "  ['age', 'relation_status'],\n",
       "  ['sex', 'relation_status']]}"
      ]
     },
     "metadata": {},
     "execution_count": 23
    }
   ],
   "source": [
    "bn1"
   ]
  },
  {
   "cell_type": "code",
   "execution_count": 24,
   "metadata": {
    "tags": []
   },
   "outputs": [],
   "source": [
    "param1 = parameter_learning(data[['age',\t'sex',\t'has_high_education',\t'relation_status',\t'number_of_relatives']], node_type1, bn1)"
   ]
  },
  {
   "cell_type": "code",
   "execution_count": 25,
   "metadata": {},
   "outputs": [],
   "source": [
    "save_structure(bn1, 'skel1')\n",
    "skel1 = read_structure('skel1')\n",
    "save_params(param1, 'params1')\n",
    "params1 = read_params('params1')\n",
    "hybn1 = HyBayesianNetwork(skel1, params1)"
   ]
  },
  {
   "cell_type": "code",
   "execution_count": 26,
   "metadata": {},
   "outputs": [
    {
     "output_type": "stream",
     "name": "stdout",
     "text": [
      "7.2928996086120605\n"
     ]
    }
   ],
   "source": [
    "end = time.time()\n",
    "print(end - start)"
   ]
  },
  {
   "cell_type": "code",
   "execution_count": 27,
   "metadata": {},
   "outputs": [
    {
     "output_type": "stream",
     "name": "stderr",
     "text": [
      "  0%|          | 4/1000000 [00:00<26:11:13, 10.61it/s]\n"
     ]
    }
   ],
   "source": [
    "bn2 = structure_learning(module2, 'K2', node_type2)"
   ]
  },
  {
   "cell_type": "code",
   "execution_count": 28,
   "metadata": {},
   "outputs": [
    {
     "output_type": "execute_result",
     "data": {
      "text/plain": [
       "{'V': ['len_of_about',\n",
       "  'number_of_activities',\n",
       "  'number_of_books',\n",
       "  'number_of_interests',\n",
       "  'number_of_movies'],\n",
       " 'E': [['number_of_activities', 'len_of_about'],\n",
       "  ['number_of_books', 'number_of_interests'],\n",
       "  ['number_of_interests', 'number_of_activities'],\n",
       "  ['number_of_movies', 'number_of_books']]}"
      ]
     },
     "metadata": {},
     "execution_count": 28
    }
   ],
   "source": [
    "bn2"
   ]
  },
  {
   "cell_type": "code",
   "execution_count": 29,
   "metadata": {},
   "outputs": [],
   "source": [
    "param2 = parameter_learning(data[['len_of_about',\t'number_of_activities',\t'number_of_books',\t'number_of_interests',\t'number_of_movies']], node_type2, bn2)"
   ]
  },
  {
   "cell_type": "code",
   "execution_count": 30,
   "metadata": {},
   "outputs": [],
   "source": [
    "save_structure(bn2, 'skel2')\n",
    "skel2 = read_structure('skel2')\n",
    "save_params(param2, 'params2')\n",
    "params2 = read_params('params2')\n",
    "hybn2 = HyBayesianNetwork(skel2, params2)\n"
   ]
  },
  {
   "cell_type": "code",
   "execution_count": 31,
   "metadata": {},
   "outputs": [],
   "source": [
    "hybn_1_2 = connect_partial_bn(hybn1, hybn2, data[['age',\t'sex',\t'has_high_education',\t'relation_status',\t'number_of_relatives', 'len_of_about',\t'number_of_activities',\t'number_of_books',\t'number_of_interests',\t'number_of_movies']], 'LV1')"
   ]
  },
  {
   "cell_type": "code",
   "execution_count": 32,
   "metadata": {},
   "outputs": [
    {
     "output_type": "stream",
     "name": "stdout",
     "text": [
      "17.16846799850464\n"
     ]
    }
   ],
   "source": [
    "end = time.time()\n",
    "print(end - start)"
   ]
  },
  {
   "cell_type": "code",
   "execution_count": 33,
   "metadata": {},
   "outputs": [
    {
     "output_type": "execute_result",
     "data": {
      "text/plain": [
       "{'V': ['Love & relation',\n",
       "  'Gifts & holidays',\n",
       "  'History & politics',\n",
       "  'Music',\n",
       "  'Purchase & sale',\n",
       "  'Cooking',\n",
       "  'Fitness & cosmetology',\n",
       "  'Job & money'],\n",
       " 'E': [['Fitness & cosmetology', 'Love & relation'],\n",
       "  ['Cooking', 'Gifts & holidays'],\n",
       "  ['Purchase & sale', 'Gifts & holidays'],\n",
       "  ['Fitness & cosmetology', 'History & politics'],\n",
       "  ['Fitness & cosmetology', 'Music'],\n",
       "  ['Music', 'Purchase & sale'],\n",
       "  ['Cooking', 'Purchase & sale'],\n",
       "  ['Love & relation', 'Cooking'],\n",
       "  ['Cooking', 'Job & money'],\n",
       "  ['Purchase & sale', 'Job & money']]}"
      ]
     },
     "metadata": {},
     "execution_count": 33
    }
   ],
   "source": [
    "bn3 = structure_learning(module3, 'MI', node_type3)\n",
    "bn3"
   ]
  },
  {
   "cell_type": "code",
   "execution_count": 34,
   "metadata": {},
   "outputs": [],
   "source": [
    "param3 = parameter_learning(data[['Love & relation',\t'Gifts & holidays',\t'History & politics',\t'Music',\t'Purchase & sale',\t'Cooking', 'Fitness & cosmetology',\t'Job & money']], node_type3, bn3)"
   ]
  },
  {
   "cell_type": "code",
   "execution_count": 35,
   "metadata": {},
   "outputs": [],
   "source": [
    "save_structure(bn3, 'skel3')\n",
    "skel3 = read_structure('skel3')\n",
    "save_params(param3, 'params3')\n",
    "params3 = read_params('params3')\n",
    "hybn3 = HyBayesianNetwork(skel3, params3)"
   ]
  }
 ]
}