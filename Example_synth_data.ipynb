{
 "metadata": {
  "language_info": {
   "codemirror_mode": {
    "name": "ipython",
    "version": 3
   },
   "file_extension": ".py",
   "mimetype": "text/x-python",
   "name": "python",
   "nbconvert_exporter": "python",
   "pygments_lexer": "ipython3",
   "version": "3.6.6-final"
  },
  "orig_nbformat": 2,
  "kernelspec": {
   "name": "python3",
   "display_name": "Python 3",
   "language": "python"
  }
 },
 "nbformat": 4,
 "nbformat_minor": 2,
 "cells": [
  {
   "cell_type": "code",
   "execution_count": 1,
   "metadata": {},
   "outputs": [],
   "source": [
    "import pandas as pd\n",
    "from data_process.preprocessing import discretization, get_nodes_type, code_categories\n",
    "from block_learning.train_bn import structure_learning, parameter_learning\n",
    "from block_learning.partial_bn_train import connect_partial_bn, hierarchical_train, direct_connect, direct_train\n",
    "import seaborn as sns\n",
    "import numpy as np\n",
    "import time\n",
    "import matplotlib.pyplot as plt\n",
    "from sklearn.preprocessing import StandardScaler, MinMaxScaler\n",
    "from block_learning.save_bn import save_structure, save_params\n",
    "from block_learning.read_bn import read_structure, read_params\n",
    "from block_learning.sampling import generate_synthetics, get_probability\n",
    "from libpgm.hybayesiannetwork import HyBayesianNetwork\n",
    "from visualization.visualization import visualizer, draw_comparative_hist\n",
    "import networkx as nx"
   ]
  },
  {
   "cell_type": "code",
   "execution_count": 2,
   "metadata": {},
   "outputs": [
    {
     "output_type": "execute_result",
     "data": {
      "text/plain": [
       "   age  age_hidden  has_high_education  is_closed  len_of_about  \\\n",
       "0   34         0.0                   1          0            14   \n",
       "1    0         1.0                   0          0             0   \n",
       "2   37         0.0                   0          0             0   \n",
       "3   39         0.0                   1          0             0   \n",
       "4   34         0.0                   0          0             0   \n",
       "5   36         0.0                   0          0             0   \n",
       "6    0         1.0                   0          0             0   \n",
       "7   35         0.0                   0          0             0   \n",
       "8   41         0.0                   0          0             0   \n",
       "9   34         0.0                   1          0             0   \n",
       "\n",
       "   len_of_status  number_of_activities  number_of_books  number_of_followers  \\\n",
       "0             16                     1                1                  720   \n",
       "1              0                     0                0                87638   \n",
       "2              2                     0                0                    0   \n",
       "3             11                     1                1                  317   \n",
       "4             11                     0                0                  328   \n",
       "5              0                     0                0                  474   \n",
       "6              3                     0                0                 7458   \n",
       "7              0                     0                0                 2659   \n",
       "8              0                     0                0                  651   \n",
       "9              4                     1                4                 1522   \n",
       "\n",
       "   number_of_friends  ...  driver  has_pets  cash_usage  gulyaka  zhavoronok  \\\n",
       "0                911  ...       0         0           0        1           0   \n",
       "1                687  ...       1         0           0        1           0   \n",
       "2                 24  ...       0         1           0        0           0   \n",
       "3                291  ...       0         0           0        1           0   \n",
       "4                413  ...       0         0           0        1           0   \n",
       "5                175  ...       1         0           0        0           0   \n",
       "6                982  ...       0         1           0        1           0   \n",
       "7                279  ...       1         0           0        0           0   \n",
       "8                134  ...       1         0           0        0           0   \n",
       "9                177  ...       1         0           0        0           0   \n",
       "\n",
       "   sum_act                top1                top2                top3  \\\n",
       "0        1    Gifts & holidays               Music  History & politics   \n",
       "1        2    Gifts & holidays  History & politics     Love & relation   \n",
       "2        1     Purchase & sale    Gifts & holidays             Cooking   \n",
       "3        2  History & politics    Gifts & holidays     Love & relation   \n",
       "4        1    Gifts & holidays               Music  History & politics   \n",
       "5        1    Gifts & holidays  History & politics     Love & relation   \n",
       "6        2    Gifts & holidays               Music  History & politics   \n",
       "7        1    Gifts & holidays  History & politics               Music   \n",
       "8        1    Gifts & holidays     Love & relation  History & politics   \n",
       "9        2    Gifts & holidays     Love & relation  History & politics   \n",
       "\n",
       "                    top4  \n",
       "0        Purchase & sale  \n",
       "1                  Music  \n",
       "2        Love & relation  \n",
       "3            Job & money  \n",
       "4        Love & relation  \n",
       "5  Fitness & cosmetology  \n",
       "6        Purchase & sale  \n",
       "7        Purchase & sale  \n",
       "8        Purchase & sale  \n",
       "9                Cooking  \n",
       "\n",
       "[10 rows x 49 columns]"
      ],
      "text/html": "<div>\n<style scoped>\n    .dataframe tbody tr th:only-of-type {\n        vertical-align: middle;\n    }\n\n    .dataframe tbody tr th {\n        vertical-align: top;\n    }\n\n    .dataframe thead th {\n        text-align: right;\n    }\n</style>\n<table border=\"1\" class=\"dataframe\">\n  <thead>\n    <tr style=\"text-align: right;\">\n      <th></th>\n      <th>age</th>\n      <th>age_hidden</th>\n      <th>has_high_education</th>\n      <th>is_closed</th>\n      <th>len_of_about</th>\n      <th>len_of_status</th>\n      <th>number_of_activities</th>\n      <th>number_of_books</th>\n      <th>number_of_followers</th>\n      <th>number_of_friends</th>\n      <th>...</th>\n      <th>driver</th>\n      <th>has_pets</th>\n      <th>cash_usage</th>\n      <th>gulyaka</th>\n      <th>zhavoronok</th>\n      <th>sum_act</th>\n      <th>top1</th>\n      <th>top2</th>\n      <th>top3</th>\n      <th>top4</th>\n    </tr>\n  </thead>\n  <tbody>\n    <tr>\n      <th>0</th>\n      <td>34</td>\n      <td>0.0</td>\n      <td>1</td>\n      <td>0</td>\n      <td>14</td>\n      <td>16</td>\n      <td>1</td>\n      <td>1</td>\n      <td>720</td>\n      <td>911</td>\n      <td>...</td>\n      <td>0</td>\n      <td>0</td>\n      <td>0</td>\n      <td>1</td>\n      <td>0</td>\n      <td>1</td>\n      <td>Gifts &amp; holidays</td>\n      <td>Music</td>\n      <td>History &amp; politics</td>\n      <td>Purchase &amp; sale</td>\n    </tr>\n    <tr>\n      <th>1</th>\n      <td>0</td>\n      <td>1.0</td>\n      <td>0</td>\n      <td>0</td>\n      <td>0</td>\n      <td>0</td>\n      <td>0</td>\n      <td>0</td>\n      <td>87638</td>\n      <td>687</td>\n      <td>...</td>\n      <td>1</td>\n      <td>0</td>\n      <td>0</td>\n      <td>1</td>\n      <td>0</td>\n      <td>2</td>\n      <td>Gifts &amp; holidays</td>\n      <td>History &amp; politics</td>\n      <td>Love &amp; relation</td>\n      <td>Music</td>\n    </tr>\n    <tr>\n      <th>2</th>\n      <td>37</td>\n      <td>0.0</td>\n      <td>0</td>\n      <td>0</td>\n      <td>0</td>\n      <td>2</td>\n      <td>0</td>\n      <td>0</td>\n      <td>0</td>\n      <td>24</td>\n      <td>...</td>\n      <td>0</td>\n      <td>1</td>\n      <td>0</td>\n      <td>0</td>\n      <td>0</td>\n      <td>1</td>\n      <td>Purchase &amp; sale</td>\n      <td>Gifts &amp; holidays</td>\n      <td>Cooking</td>\n      <td>Love &amp; relation</td>\n    </tr>\n    <tr>\n      <th>3</th>\n      <td>39</td>\n      <td>0.0</td>\n      <td>1</td>\n      <td>0</td>\n      <td>0</td>\n      <td>11</td>\n      <td>1</td>\n      <td>1</td>\n      <td>317</td>\n      <td>291</td>\n      <td>...</td>\n      <td>0</td>\n      <td>0</td>\n      <td>0</td>\n      <td>1</td>\n      <td>0</td>\n      <td>2</td>\n      <td>History &amp; politics</td>\n      <td>Gifts &amp; holidays</td>\n      <td>Love &amp; relation</td>\n      <td>Job &amp; money</td>\n    </tr>\n    <tr>\n      <th>4</th>\n      <td>34</td>\n      <td>0.0</td>\n      <td>0</td>\n      <td>0</td>\n      <td>0</td>\n      <td>11</td>\n      <td>0</td>\n      <td>0</td>\n      <td>328</td>\n      <td>413</td>\n      <td>...</td>\n      <td>0</td>\n      <td>0</td>\n      <td>0</td>\n      <td>1</td>\n      <td>0</td>\n      <td>1</td>\n      <td>Gifts &amp; holidays</td>\n      <td>Music</td>\n      <td>History &amp; politics</td>\n      <td>Love &amp; relation</td>\n    </tr>\n    <tr>\n      <th>5</th>\n      <td>36</td>\n      <td>0.0</td>\n      <td>0</td>\n      <td>0</td>\n      <td>0</td>\n      <td>0</td>\n      <td>0</td>\n      <td>0</td>\n      <td>474</td>\n      <td>175</td>\n      <td>...</td>\n      <td>1</td>\n      <td>0</td>\n      <td>0</td>\n      <td>0</td>\n      <td>0</td>\n      <td>1</td>\n      <td>Gifts &amp; holidays</td>\n      <td>History &amp; politics</td>\n      <td>Love &amp; relation</td>\n      <td>Fitness &amp; cosmetology</td>\n    </tr>\n    <tr>\n      <th>6</th>\n      <td>0</td>\n      <td>1.0</td>\n      <td>0</td>\n      <td>0</td>\n      <td>0</td>\n      <td>3</td>\n      <td>0</td>\n      <td>0</td>\n      <td>7458</td>\n      <td>982</td>\n      <td>...</td>\n      <td>0</td>\n      <td>1</td>\n      <td>0</td>\n      <td>1</td>\n      <td>0</td>\n      <td>2</td>\n      <td>Gifts &amp; holidays</td>\n      <td>Music</td>\n      <td>History &amp; politics</td>\n      <td>Purchase &amp; sale</td>\n    </tr>\n    <tr>\n      <th>7</th>\n      <td>35</td>\n      <td>0.0</td>\n      <td>0</td>\n      <td>0</td>\n      <td>0</td>\n      <td>0</td>\n      <td>0</td>\n      <td>0</td>\n      <td>2659</td>\n      <td>279</td>\n      <td>...</td>\n      <td>1</td>\n      <td>0</td>\n      <td>0</td>\n      <td>0</td>\n      <td>0</td>\n      <td>1</td>\n      <td>Gifts &amp; holidays</td>\n      <td>History &amp; politics</td>\n      <td>Music</td>\n      <td>Purchase &amp; sale</td>\n    </tr>\n    <tr>\n      <th>8</th>\n      <td>41</td>\n      <td>0.0</td>\n      <td>0</td>\n      <td>0</td>\n      <td>0</td>\n      <td>0</td>\n      <td>0</td>\n      <td>0</td>\n      <td>651</td>\n      <td>134</td>\n      <td>...</td>\n      <td>1</td>\n      <td>0</td>\n      <td>0</td>\n      <td>0</td>\n      <td>0</td>\n      <td>1</td>\n      <td>Gifts &amp; holidays</td>\n      <td>Love &amp; relation</td>\n      <td>History &amp; politics</td>\n      <td>Purchase &amp; sale</td>\n    </tr>\n    <tr>\n      <th>9</th>\n      <td>34</td>\n      <td>0.0</td>\n      <td>1</td>\n      <td>0</td>\n      <td>0</td>\n      <td>4</td>\n      <td>1</td>\n      <td>4</td>\n      <td>1522</td>\n      <td>177</td>\n      <td>...</td>\n      <td>1</td>\n      <td>0</td>\n      <td>0</td>\n      <td>0</td>\n      <td>0</td>\n      <td>2</td>\n      <td>Gifts &amp; holidays</td>\n      <td>Love &amp; relation</td>\n      <td>History &amp; politics</td>\n      <td>Cooking</td>\n    </tr>\n  </tbody>\n</table>\n<p>10 rows × 49 columns</p>\n</div>"
     },
     "metadata": {},
     "execution_count": 2
    }
   ],
   "source": [
    "data = pd.read_csv('data/final_dataset_no_posts_info.csv')\n",
    "data.head(10)"
   ]
  },
  {
   "cell_type": "code",
   "execution_count": 3,
   "metadata": {},
   "outputs": [],
   "source": [
    "data = data[['age',\t'sex',\t'has_high_education',\t'relation_status',\t'number_of_relatives','len_of_about',\t'number_of_activities',\t'number_of_books',\t'number_of_interests',\t'number_of_movies','top1','top2','top3','top4', 'nodes',\t'betweenness_centrality',\t'density',\t'eigenvector_centrality',\t'degree_assortativity_coefficient', 'max_tr',\t'mean_tr', 'parent',\t'driver',\t'has_pets',\t'cash_usage']] #'posts_count',\t'posts_per_month',\t'likes_per_post',\t'views_per_post',\t'repost_ratio']]"
   ]
  },
  {
   "cell_type": "code",
   "execution_count": 4,
   "metadata": {},
   "outputs": [
    {
     "output_type": "execute_result",
     "data": {
      "text/plain": [
       "(51478, 25)"
      ]
     },
     "metadata": {},
     "execution_count": 4
    }
   ],
   "source": [
    "data.shape"
   ]
  },
  {
   "cell_type": "code",
   "execution_count": 5,
   "metadata": {},
   "outputs": [],
   "source": [
    "data.dropna(inplace=True)\n",
    "data.reset_index(inplace=True, drop=True)"
   ]
  },
  {
   "cell_type": "code",
   "execution_count": 6,
   "metadata": {},
   "outputs": [],
   "source": [
    "#data = data.loc[(data['age'] < 70)]"
   ]
  },
  {
   "cell_type": "code",
   "execution_count": 7,
   "metadata": {},
   "outputs": [],
   "source": [
    "#data.reset_index(inplace=True, drop=True)"
   ]
  },
  {
   "cell_type": "code",
   "execution_count": 8,
   "metadata": {},
   "outputs": [
    {
     "output_type": "execute_result",
     "data": {
      "text/plain": [
       "(51371, 25)"
      ]
     },
     "metadata": {},
     "execution_count": 8
    }
   ],
   "source": [
    "data.shape"
   ]
  },
  {
   "cell_type": "code",
   "execution_count": 9,
   "metadata": {},
   "outputs": [],
   "source": [
    "discrete_data = discretization(data, 'kmeans', bins= 5, columns=['betweenness_centrality',\t'density',\t'eigenvector_centrality',\t'degree_assortativity_coefficient','max_tr',\t'mean_tr'])#, 'posts_per_month', 'repost_ratio'])"
   ]
  },
  {
   "cell_type": "code",
   "execution_count": 10,
   "metadata": {},
   "outputs": [],
   "source": [
    "new_data = code_categories(discrete_data, ['top1', 'top2', 'top3', 'top4'])"
   ]
  },
  {
   "cell_type": "code",
   "execution_count": 11,
   "metadata": {},
   "outputs": [],
   "source": [
    "module1 = new_data[['age',\t'sex',\t'has_high_education',\t'relation_status',\t'number_of_relatives']]\n",
    "module2 = new_data[['len_of_about',\t'number_of_activities',\t'number_of_books',\t'number_of_interests',\t'number_of_movies']]\n",
    "module3 = new_data[['top1', 'top2', 'top3', 'top4']]\n",
    "module4 = new_data[['nodes',\t'betweenness_centrality',\t'eigenvector_centrality', 'density', 'degree_assortativity_coefficient']]\n",
    "module5 = new_data[['max_tr',\t'mean_tr', 'parent',\t'driver',\t'has_pets',\t'cash_usage']]\n",
    "#module6 = new_data[['posts_per_month',\t'likes_per_post',\t'views_per_post',\t'repost_ratio']]"
   ]
  },
  {
   "cell_type": "code",
   "execution_count": 12,
   "metadata": {},
   "outputs": [
    {
     "output_type": "execute_result",
     "data": {
      "text/plain": [
       "{'age': 'disc',\n",
       " 'sex': 'disc',\n",
       " 'has_high_education': 'disc',\n",
       " 'relation_status': 'disc',\n",
       " 'number_of_relatives': 'disc'}"
      ]
     },
     "metadata": {},
     "execution_count": 12
    }
   ],
   "source": [
    "node_type1 = get_nodes_type(data[['age',\t'sex',\t'has_high_education',\t'relation_status',\t'number_of_relatives']])\n",
    "node_type1"
   ]
  },
  {
   "cell_type": "code",
   "execution_count": 13,
   "metadata": {},
   "outputs": [
    {
     "output_type": "execute_result",
     "data": {
      "text/plain": [
       "{'len_of_about': 'disc',\n",
       " 'number_of_activities': 'disc',\n",
       " 'number_of_books': 'disc',\n",
       " 'number_of_interests': 'disc',\n",
       " 'number_of_movies': 'disc'}"
      ]
     },
     "metadata": {},
     "execution_count": 13
    }
   ],
   "source": [
    "node_type2 = get_nodes_type(data[['len_of_about',\t'number_of_activities',\t'number_of_books',\t'number_of_interests',\t'number_of_movies']])\n",
    "node_type2"
   ]
  },
  {
   "cell_type": "code",
   "execution_count": 14,
   "metadata": {},
   "outputs": [
    {
     "output_type": "execute_result",
     "data": {
      "text/plain": [
       "{'top1': 'disc', 'top2': 'disc', 'top3': 'disc', 'top4': 'disc'}"
      ]
     },
     "metadata": {},
     "execution_count": 14
    }
   ],
   "source": [
    "node_type3 = get_nodes_type(data[['top1', 'top2', 'top3', 'top4']])\n",
    "node_type3"
   ]
  },
  {
   "cell_type": "code",
   "execution_count": 15,
   "metadata": {},
   "outputs": [
    {
     "output_type": "execute_result",
     "data": {
      "text/plain": [
       "{'nodes': 'disc',\n",
       " 'betweenness_centrality': 'cont',\n",
       " 'eigenvector_centrality': 'cont',\n",
       " 'density': 'cont',\n",
       " 'degree_assortativity_coefficient': 'cont'}"
      ]
     },
     "metadata": {},
     "execution_count": 15
    }
   ],
   "source": [
    "node_type4 = get_nodes_type(data[['nodes',\t'betweenness_centrality',\t'eigenvector_centrality', 'density', 'degree_assortativity_coefficient']])\n",
    "node_type4"
   ]
  },
  {
   "cell_type": "code",
   "execution_count": 16,
   "metadata": {},
   "outputs": [
    {
     "output_type": "execute_result",
     "data": {
      "text/plain": [
       "{'max_tr': 'cont',\n",
       " 'mean_tr': 'cont',\n",
       " 'parent': 'disc',\n",
       " 'driver': 'disc',\n",
       " 'has_pets': 'disc',\n",
       " 'cash_usage': 'disc'}"
      ]
     },
     "metadata": {},
     "execution_count": 16
    }
   ],
   "source": [
    "node_type5 = get_nodes_type(data[['max_tr',\t'mean_tr', 'parent',\t'driver',\t'has_pets',\t'cash_usage']])\n",
    "node_type5"
   ]
  },
  {
   "cell_type": "code",
   "execution_count": 17,
   "metadata": {},
   "outputs": [],
   "source": [
    "#node_type6 = get_nodes_type(data[['posts_per_month',\t'likes_per_post',\t'views_per_post',\t'repost_ratio']])\n",
    "#node_type6"
   ]
  },
  {
   "cell_type": "code",
   "execution_count": 18,
   "metadata": {},
   "outputs": [],
   "source": [
    "start = time.time()\n",
    "bn1 = structure_learning(module1, 'MI', node_type1)"
   ]
  },
  {
   "cell_type": "code",
   "execution_count": 19,
   "metadata": {},
   "outputs": [
    {
     "output_type": "execute_result",
     "data": {
      "text/plain": [
       "{'V': ['age',\n",
       "  'sex',\n",
       "  'has_high_education',\n",
       "  'relation_status',\n",
       "  'number_of_relatives'],\n",
       " 'E': [['has_high_education', 'sex'],\n",
       "  ['age', 'has_high_education'],\n",
       "  ['number_of_relatives', 'has_high_education'],\n",
       "  ['age', 'relation_status'],\n",
       "  ['sex', 'relation_status']]}"
      ]
     },
     "metadata": {},
     "execution_count": 19
    }
   ],
   "source": [
    "bn1"
   ]
  },
  {
   "cell_type": "code",
   "execution_count": 20,
   "metadata": {},
   "outputs": [
    {
     "output_type": "display_data",
     "data": {
      "text/plain": "<Figure size 2025x225 with 1 Axes>",
      "image/svg+xml": "<?xml version=\"1.0\" encoding=\"utf-8\" standalone=\"no\"?>\r\n<!DOCTYPE svg PUBLIC \"-//W3C//DTD SVG 1.1//EN\"\r\n  \"http://www.w3.org/Graphics/SVG/1.1/DTD/svg11.dtd\">\r\n<!-- Created with matplotlib (https://matplotlib.org/) -->\r\n<svg height=\"100.837344pt\" version=\"1.1\" viewBox=\"0 0 958.444687 100.837344\" width=\"958.444687pt\" xmlns=\"http://www.w3.org/2000/svg\" xmlns:xlink=\"http://www.w3.org/1999/xlink\">\r\n <defs>\r\n  <style type=\"text/css\">\r\n*{stroke-linecap:butt;stroke-linejoin:round;}\r\n  </style>\r\n </defs>\r\n <g id=\"figure_1\">\r\n  <g id=\"patch_1\">\r\n   <path d=\"M 0 100.837344 \r\nL 958.444687 100.837344 \r\nL 958.444687 0 \r\nL 0 0 \r\nz\r\n\" style=\"fill:none;\"/>\r\n  </g>\r\n  <g id=\"axes_1\">\r\n   <g id=\"legend_1\">\r\n    <g id=\"patch_2\">\r\n     <path d=\"M 460.780938 52.818281 \r\nL 512.615313 52.818281 \r\nQ 514.615313 52.818281 514.615313 50.818281 \r\nL 514.615313 37.140156 \r\nQ 514.615313 35.140156 512.615313 35.140156 \r\nL 460.780938 35.140156 \r\nQ 458.780938 35.140156 458.780938 37.140156 \r\nL 458.780938 50.818281 \r\nQ 458.780938 52.818281 460.780938 52.818281 \r\nz\r\n\" style=\"fill:#ffffff;opacity:0.8;stroke:#cccccc;stroke-linejoin:miter;\"/>\r\n    </g>\r\n    <g id=\"patch_3\">\r\n     <path d=\"M 462.780938 46.738594 \r\nL 482.780938 46.738594 \r\nL 482.780938 39.738594 \r\nL 462.780938 39.738594 \r\nz\r\n\" style=\"fill:#9467bd;stroke:#9467bd;stroke-linejoin:miter;\"/>\r\n    </g>\r\n    <g id=\"text_1\">\r\n     <!-- disc -->\r\n     <defs>\r\n      <path d=\"M 45.40625 46.390625 \r\nL 45.40625 75.984375 \r\nL 54.390625 75.984375 \r\nL 54.390625 0 \r\nL 45.40625 0 \r\nL 45.40625 8.203125 \r\nQ 42.578125 3.328125 38.25 0.953125 \r\nQ 33.9375 -1.421875 27.875 -1.421875 \r\nQ 17.96875 -1.421875 11.734375 6.484375 \r\nQ 5.515625 14.40625 5.515625 27.296875 \r\nQ 5.515625 40.1875 11.734375 48.09375 \r\nQ 17.96875 56 27.875 56 \r\nQ 33.9375 56 38.25 53.625 \r\nQ 42.578125 51.265625 45.40625 46.390625 \r\nz\r\nM 14.796875 27.296875 \r\nQ 14.796875 17.390625 18.875 11.75 \r\nQ 22.953125 6.109375 30.078125 6.109375 \r\nQ 37.203125 6.109375 41.296875 11.75 \r\nQ 45.40625 17.390625 45.40625 27.296875 \r\nQ 45.40625 37.203125 41.296875 42.84375 \r\nQ 37.203125 48.484375 30.078125 48.484375 \r\nQ 22.953125 48.484375 18.875 42.84375 \r\nQ 14.796875 37.203125 14.796875 27.296875 \r\nz\r\n\" id=\"DejaVuSans-100\"/>\r\n      <path d=\"M 9.421875 54.6875 \r\nL 18.40625 54.6875 \r\nL 18.40625 0 \r\nL 9.421875 0 \r\nz\r\nM 9.421875 75.984375 \r\nL 18.40625 75.984375 \r\nL 18.40625 64.59375 \r\nL 9.421875 64.59375 \r\nz\r\n\" id=\"DejaVuSans-105\"/>\r\n      <path d=\"M 44.28125 53.078125 \r\nL 44.28125 44.578125 \r\nQ 40.484375 46.53125 36.375 47.5 \r\nQ 32.28125 48.484375 27.875 48.484375 \r\nQ 21.1875 48.484375 17.84375 46.4375 \r\nQ 14.5 44.390625 14.5 40.28125 \r\nQ 14.5 37.15625 16.890625 35.375 \r\nQ 19.28125 33.59375 26.515625 31.984375 \r\nL 29.59375 31.296875 \r\nQ 39.15625 29.25 43.1875 25.515625 \r\nQ 47.21875 21.78125 47.21875 15.09375 \r\nQ 47.21875 7.46875 41.1875 3.015625 \r\nQ 35.15625 -1.421875 24.609375 -1.421875 \r\nQ 20.21875 -1.421875 15.453125 -0.5625 \r\nQ 10.6875 0.296875 5.421875 2 \r\nL 5.421875 11.28125 \r\nQ 10.40625 8.6875 15.234375 7.390625 \r\nQ 20.0625 6.109375 24.8125 6.109375 \r\nQ 31.15625 6.109375 34.5625 8.28125 \r\nQ 37.984375 10.453125 37.984375 14.40625 \r\nQ 37.984375 18.0625 35.515625 20.015625 \r\nQ 33.0625 21.96875 24.703125 23.78125 \r\nL 21.578125 24.515625 \r\nQ 13.234375 26.265625 9.515625 29.90625 \r\nQ 5.8125 33.546875 5.8125 39.890625 \r\nQ 5.8125 47.609375 11.28125 51.796875 \r\nQ 16.75 56 26.8125 56 \r\nQ 31.78125 56 36.171875 55.265625 \r\nQ 40.578125 54.546875 44.28125 53.078125 \r\nz\r\n\" id=\"DejaVuSans-115\"/>\r\n      <path d=\"M 48.78125 52.59375 \r\nL 48.78125 44.1875 \r\nQ 44.96875 46.296875 41.140625 47.34375 \r\nQ 37.3125 48.390625 33.40625 48.390625 \r\nQ 24.65625 48.390625 19.8125 42.84375 \r\nQ 14.984375 37.3125 14.984375 27.296875 \r\nQ 14.984375 17.28125 19.8125 11.734375 \r\nQ 24.65625 6.203125 33.40625 6.203125 \r\nQ 37.3125 6.203125 41.140625 7.25 \r\nQ 44.96875 8.296875 48.78125 10.40625 \r\nL 48.78125 2.09375 \r\nQ 45.015625 0.34375 40.984375 -0.53125 \r\nQ 36.96875 -1.421875 32.421875 -1.421875 \r\nQ 20.0625 -1.421875 12.78125 6.34375 \r\nQ 5.515625 14.109375 5.515625 27.296875 \r\nQ 5.515625 40.671875 12.859375 48.328125 \r\nQ 20.21875 56 33.015625 56 \r\nQ 37.15625 56 41.109375 55.140625 \r\nQ 45.0625 54.296875 48.78125 52.59375 \r\nz\r\n\" id=\"DejaVuSans-99\"/>\r\n     </defs>\r\n     <g transform=\"translate(490.780938 46.738594)scale(0.1 -0.1)\">\r\n      <use xlink:href=\"#DejaVuSans-100\"/>\r\n      <use x=\"63.476562\" xlink:href=\"#DejaVuSans-105\"/>\r\n      <use x=\"91.259766\" xlink:href=\"#DejaVuSans-115\"/>\r\n      <use x=\"143.359375\" xlink:href=\"#DejaVuSans-99\"/>\r\n     </g>\r\n    </g>\r\n   </g>\r\n  </g>\r\n </g>\r\n</svg>\r\n",
      "image/png": "[encoded data removed]"
     },
     "metadata": {
      "needs_background": "light"
     }
    },
    {
     "output_type": "execute_result",
     "data": {
      "text/plain": [
       "<IPython.lib.display.IFrame at 0x623acca470>"
      ],
      "text/html": "\n        <iframe\n            width=\"100%\"\n            height=\"800px\"\n            src=\"visualization_result/module1.html\"\n            frameborder=\"0\"\n            allowfullscreen\n        ></iframe>\n        "
     },
     "metadata": {},
     "execution_count": 20
    }
   ],
   "source": [
    "visualizer(bn1, node_type1, 'module1')"
   ]
  },
  {
   "cell_type": "code",
   "execution_count": 21,
   "metadata": {
    "tags": []
   },
   "outputs": [],
   "source": [
    "param1 = parameter_learning(data[['age',\t'sex',\t'has_high_education',\t'relation_status',\t'number_of_relatives']], node_type1, bn1)"
   ]
  },
  {
   "cell_type": "code",
   "execution_count": 22,
   "metadata": {},
   "outputs": [],
   "source": [
    "save_structure(bn1, 'skel1')\n",
    "skel1 = read_structure('skel1')\n",
    "save_params(param1, 'params1')\n",
    "params1 = read_params('params1')\n",
    "hybn1 = HyBayesianNetwork(skel1, params1)"
   ]
  },
  {
   "cell_type": "code",
   "execution_count": 23,
   "metadata": {},
   "outputs": [
    {
     "output_type": "stream",
     "name": "stdout",
     "text": [
      "18.062522411346436\n"
     ]
    }
   ],
   "source": [
    "end = time.time()\n",
    "print(end - start)"
   ]
  },
  {
   "cell_type": "code",
   "execution_count": 24,
   "metadata": {},
   "outputs": [
    {
     "output_type": "stream",
     "name": "stderr",
     "text": [
      "  0%|          | 3/1000000 [00:00<54:27:36,  5.10it/s]\n"
     ]
    }
   ],
   "source": [
    "bn2 = structure_learning(module2, 'K2', node_type2)"
   ]
  },
  {
   "cell_type": "code",
   "execution_count": 25,
   "metadata": {},
   "outputs": [
    {
     "output_type": "execute_result",
     "data": {
      "text/plain": [
       "{'V': ['len_of_about',\n",
       "  'number_of_activities',\n",
       "  'number_of_books',\n",
       "  'number_of_interests',\n",
       "  'number_of_movies'],\n",
       " 'E': [['number_of_activities', 'number_of_interests'],\n",
       "  ['number_of_activities', 'len_of_about'],\n",
       "  ['number_of_interests', 'number_of_movies'],\n",
       "  ['number_of_movies', 'number_of_books']]}"
      ]
     },
     "metadata": {},
     "execution_count": 25
    }
   ],
   "source": [
    "bn2"
   ]
  },
  {
   "cell_type": "code",
   "execution_count": 26,
   "metadata": {},
   "outputs": [
    {
     "output_type": "display_data",
     "data": {
      "text/plain": "<Figure size 2025x225 with 1 Axes>",
      "image/svg+xml": "<?xml version=\"1.0\" encoding=\"utf-8\" standalone=\"no\"?>\r\n<!DOCTYPE svg PUBLIC \"-//W3C//DTD SVG 1.1//EN\"\r\n  \"http://www.w3.org/Graphics/SVG/1.1/DTD/svg11.dtd\">\r\n<!-- Created with matplotlib (https://matplotlib.org/) -->\r\n<svg height=\"100.837344pt\" version=\"1.1\" viewBox=\"0 0 958.444687 100.837344\" width=\"958.444687pt\" xmlns=\"http://www.w3.org/2000/svg\" xmlns:xlink=\"http://www.w3.org/1999/xlink\">\r\n <defs>\r\n  <style type=\"text/css\">\r\n*{stroke-linecap:butt;stroke-linejoin:round;}\r\n  </style>\r\n </defs>\r\n <g id=\"figure_1\">\r\n  <g id=\"patch_1\">\r\n   <path d=\"M 0 100.837344 \r\nL 958.444687 100.837344 \r\nL 958.444687 0 \r\nL 0 0 \r\nz\r\n\" style=\"fill:none;\"/>\r\n  </g>\r\n  <g id=\"axes_1\">\r\n   <g id=\"legend_1\">\r\n    <g id=\"patch_2\">\r\n     <path d=\"M 460.780938 52.818281 \r\nL 512.615313 52.818281 \r\nQ 514.615313 52.818281 514.615313 50.818281 \r\nL 514.615313 37.140156 \r\nQ 514.615313 35.140156 512.615313 35.140156 \r\nL 460.780938 35.140156 \r\nQ 458.780938 35.140156 458.780938 37.140156 \r\nL 458.780938 50.818281 \r\nQ 458.780938 52.818281 460.780938 52.818281 \r\nz\r\n\" style=\"fill:#ffffff;opacity:0.8;stroke:#cccccc;stroke-linejoin:miter;\"/>\r\n    </g>\r\n    <g id=\"patch_3\">\r\n     <path d=\"M 462.780938 46.738594 \r\nL 482.780938 46.738594 \r\nL 482.780938 39.738594 \r\nL 462.780938 39.738594 \r\nz\r\n\" style=\"fill:#9467bd;stroke:#9467bd;stroke-linejoin:miter;\"/>\r\n    </g>\r\n    <g id=\"text_1\">\r\n     <!-- disc -->\r\n     <defs>\r\n      <path d=\"M 45.40625 46.390625 \r\nL 45.40625 75.984375 \r\nL 54.390625 75.984375 \r\nL 54.390625 0 \r\nL 45.40625 0 \r\nL 45.40625 8.203125 \r\nQ 42.578125 3.328125 38.25 0.953125 \r\nQ 33.9375 -1.421875 27.875 -1.421875 \r\nQ 17.96875 -1.421875 11.734375 6.484375 \r\nQ 5.515625 14.40625 5.515625 27.296875 \r\nQ 5.515625 40.1875 11.734375 48.09375 \r\nQ 17.96875 56 27.875 56 \r\nQ 33.9375 56 38.25 53.625 \r\nQ 42.578125 51.265625 45.40625 46.390625 \r\nz\r\nM 14.796875 27.296875 \r\nQ 14.796875 17.390625 18.875 11.75 \r\nQ 22.953125 6.109375 30.078125 6.109375 \r\nQ 37.203125 6.109375 41.296875 11.75 \r\nQ 45.40625 17.390625 45.40625 27.296875 \r\nQ 45.40625 37.203125 41.296875 42.84375 \r\nQ 37.203125 48.484375 30.078125 48.484375 \r\nQ 22.953125 48.484375 18.875 42.84375 \r\nQ 14.796875 37.203125 14.796875 27.296875 \r\nz\r\n\" id=\"DejaVuSans-100\"/>\r\n      <path d=\"M 9.421875 54.6875 \r\nL 18.40625 54.6875 \r\nL 18.40625 0 \r\nL 9.421875 0 \r\nz\r\nM 9.421875 75.984375 \r\nL 18.40625 75.984375 \r\nL 18.40625 64.59375 \r\nL 9.421875 64.59375 \r\nz\r\n\" id=\"DejaVuSans-105\"/>\r\n      <path d=\"M 44.28125 53.078125 \r\nL 44.28125 44.578125 \r\nQ 40.484375 46.53125 36.375 47.5 \r\nQ 32.28125 48.484375 27.875 48.484375 \r\nQ 21.1875 48.484375 17.84375 46.4375 \r\nQ 14.5 44.390625 14.5 40.28125 \r\nQ 14.5 37.15625 16.890625 35.375 \r\nQ 19.28125 33.59375 26.515625 31.984375 \r\nL 29.59375 31.296875 \r\nQ 39.15625 29.25 43.1875 25.515625 \r\nQ 47.21875 21.78125 47.21875 15.09375 \r\nQ 47.21875 7.46875 41.1875 3.015625 \r\nQ 35.15625 -1.421875 24.609375 -1.421875 \r\nQ 20.21875 -1.421875 15.453125 -0.5625 \r\nQ 10.6875 0.296875 5.421875 2 \r\nL 5.421875 11.28125 \r\nQ 10.40625 8.6875 15.234375 7.390625 \r\nQ 20.0625 6.109375 24.8125 6.109375 \r\nQ 31.15625 6.109375 34.5625 8.28125 \r\nQ 37.984375 10.453125 37.984375 14.40625 \r\nQ 37.984375 18.0625 35.515625 20.015625 \r\nQ 33.0625 21.96875 24.703125 23.78125 \r\nL 21.578125 24.515625 \r\nQ 13.234375 26.265625 9.515625 29.90625 \r\nQ 5.8125 33.546875 5.8125 39.890625 \r\nQ 5.8125 47.609375 11.28125 51.796875 \r\nQ 16.75 56 26.8125 56 \r\nQ 31.78125 56 36.171875 55.265625 \r\nQ 40.578125 54.546875 44.28125 53.078125 \r\nz\r\n\" id=\"DejaVuSans-115\"/>\r\n      <path d=\"M 48.78125 52.59375 \r\nL 48.78125 44.1875 \r\nQ 44.96875 46.296875 41.140625 47.34375 \r\nQ 37.3125 48.390625 33.40625 48.390625 \r\nQ 24.65625 48.390625 19.8125 42.84375 \r\nQ 14.984375 37.3125 14.984375 27.296875 \r\nQ 14.984375 17.28125 19.8125 11.734375 \r\nQ 24.65625 6.203125 33.40625 6.203125 \r\nQ 37.3125 6.203125 41.140625 7.25 \r\nQ 44.96875 8.296875 48.78125 10.40625 \r\nL 48.78125 2.09375 \r\nQ 45.015625 0.34375 40.984375 -0.53125 \r\nQ 36.96875 -1.421875 32.421875 -1.421875 \r\nQ 20.0625 -1.421875 12.78125 6.34375 \r\nQ 5.515625 14.109375 5.515625 27.296875 \r\nQ 5.515625 40.671875 12.859375 48.328125 \r\nQ 20.21875 56 33.015625 56 \r\nQ 37.15625 56 41.109375 55.140625 \r\nQ 45.0625 54.296875 48.78125 52.59375 \r\nz\r\n\" id=\"DejaVuSans-99\"/>\r\n     </defs>\r\n     <g transform=\"translate(490.780938 46.738594)scale(0.1 -0.1)\">\r\n      <use xlink:href=\"#DejaVuSans-100\"/>\r\n      <use x=\"63.476562\" xlink:href=\"#DejaVuSans-105\"/>\r\n      <use x=\"91.259766\" xlink:href=\"#DejaVuSans-115\"/>\r\n      <use x=\"143.359375\" xlink:href=\"#DejaVuSans-99\"/>\r\n     </g>\r\n    </g>\r\n   </g>\r\n  </g>\r\n </g>\r\n</svg>\r\n",
      "image/png": "[encoded data removed]"
     },
     "metadata": {
      "needs_background": "light"
     }
    },
    {
     "output_type": "execute_result",
     "data": {
      "text/plain": [
       "<IPython.lib.display.IFrame at 0x623bd4b978>"
      ],
      "text/html": "\n        <iframe\n            width=\"100%\"\n            height=\"800px\"\n            src=\"visualization_result/module2.html\"\n            frameborder=\"0\"\n            allowfullscreen\n        ></iframe>\n        "
     },
     "metadata": {},
     "execution_count": 26
    }
   ],
   "source": [
    "visualizer(bn2, node_type2, 'module2')"
   ]
  },
  {
   "cell_type": "code",
   "execution_count": 27,
   "metadata": {},
   "outputs": [],
   "source": [
    "param2 = parameter_learning(data[['len_of_about',\t'number_of_activities',\t'number_of_books',\t'number_of_interests',\t'number_of_movies']], node_type2, bn2)"
   ]
  },
  {
   "cell_type": "code",
   "execution_count": 28,
   "metadata": {},
   "outputs": [],
   "source": [
    "save_structure(bn2, 'skel2')\n",
    "skel2 = read_structure('skel2')\n",
    "save_params(param2, 'params2')\n",
    "params2 = read_params('params2')\n",
    "hybn2 = HyBayesianNetwork(skel2, params2)\n"
   ]
  },
  {
   "cell_type": "code",
   "execution_count": 29,
   "metadata": {},
   "outputs": [
    {
     "output_type": "stream",
     "name": "stdout",
     "text": [
      "20.311415910720825\n"
     ]
    }
   ],
   "source": [
    "end = time.time()\n",
    "print(end - start)"
   ]
  },
  {
   "cell_type": "code",
   "execution_count": 30,
   "metadata": {},
   "outputs": [
    {
     "output_type": "stream",
     "name": "stderr",
     "text": [
      "  0%|          | 6/1000000 [00:00<13:45:12, 20.20it/s]\n"
     ]
    },
    {
     "output_type": "execute_result",
     "data": {
      "text/plain": [
       "{'V': ['top1', 'top2', 'top3', 'top4'],\n",
       " 'E': [['top1', 'top2'],\n",
       "  ['top1', 'top4'],\n",
       "  ['top1', 'top3'],\n",
       "  ['top2', 'top4'],\n",
       "  ['top2', 'top3'],\n",
       "  ['top3', 'top4']]}"
      ]
     },
     "metadata": {},
     "execution_count": 30
    }
   ],
   "source": [
    "bn3 = structure_learning(module3, 'K2', node_type3)\n",
    "bn3"
   ]
  },
  {
   "cell_type": "code",
   "execution_count": 31,
   "metadata": {},
   "outputs": [
    {
     "output_type": "display_data",
     "data": {
      "text/plain": "<Figure size 2025x225 with 1 Axes>",
      "image/svg+xml": "<?xml version=\"1.0\" encoding=\"utf-8\" standalone=\"no\"?>\r\n<!DOCTYPE svg PUBLIC \"-//W3C//DTD SVG 1.1//EN\"\r\n  \"http://www.w3.org/Graphics/SVG/1.1/DTD/svg11.dtd\">\r\n<!-- Created with matplotlib (https://matplotlib.org/) -->\r\n<svg height=\"100.837344pt\" version=\"1.1\" viewBox=\"0 0 958.444687 100.837344\" width=\"958.444687pt\" xmlns=\"http://www.w3.org/2000/svg\" xmlns:xlink=\"http://www.w3.org/1999/xlink\">\r\n <defs>\r\n  <style type=\"text/css\">\r\n*{stroke-linecap:butt;stroke-linejoin:round;}\r\n  </style>\r\n </defs>\r\n <g id=\"figure_1\">\r\n  <g id=\"patch_1\">\r\n   <path d=\"M 0 100.837344 \r\nL 958.444687 100.837344 \r\nL 958.444687 0 \r\nL 0 0 \r\nz\r\n\" style=\"fill:none;\"/>\r\n  </g>\r\n  <g id=\"axes_1\">\r\n   <g id=\"legend_1\">\r\n    <g id=\"patch_2\">\r\n     <path d=\"M 460.780938 52.818281 \r\nL 512.615313 52.818281 \r\nQ 514.615313 52.818281 514.615313 50.818281 \r\nL 514.615313 37.140156 \r\nQ 514.615313 35.140156 512.615313 35.140156 \r\nL 460.780938 35.140156 \r\nQ 458.780938 35.140156 458.780938 37.140156 \r\nL 458.780938 50.818281 \r\nQ 458.780938 52.818281 460.780938 52.818281 \r\nz\r\n\" style=\"fill:#ffffff;opacity:0.8;stroke:#cccccc;stroke-linejoin:miter;\"/>\r\n    </g>\r\n    <g id=\"patch_3\">\r\n     <path d=\"M 462.780938 46.738594 \r\nL 482.780938 46.738594 \r\nL 482.780938 39.738594 \r\nL 462.780938 39.738594 \r\nz\r\n\" style=\"fill:#d62728;stroke:#d62728;stroke-linejoin:miter;\"/>\r\n    </g>\r\n    <g id=\"text_1\">\r\n     <!-- disc -->\r\n     <defs>\r\n      <path d=\"M 45.40625 46.390625 \r\nL 45.40625 75.984375 \r\nL 54.390625 75.984375 \r\nL 54.390625 0 \r\nL 45.40625 0 \r\nL 45.40625 8.203125 \r\nQ 42.578125 3.328125 38.25 0.953125 \r\nQ 33.9375 -1.421875 27.875 -1.421875 \r\nQ 17.96875 -1.421875 11.734375 6.484375 \r\nQ 5.515625 14.40625 5.515625 27.296875 \r\nQ 5.515625 40.1875 11.734375 48.09375 \r\nQ 17.96875 56 27.875 56 \r\nQ 33.9375 56 38.25 53.625 \r\nQ 42.578125 51.265625 45.40625 46.390625 \r\nz\r\nM 14.796875 27.296875 \r\nQ 14.796875 17.390625 18.875 11.75 \r\nQ 22.953125 6.109375 30.078125 6.109375 \r\nQ 37.203125 6.109375 41.296875 11.75 \r\nQ 45.40625 17.390625 45.40625 27.296875 \r\nQ 45.40625 37.203125 41.296875 42.84375 \r\nQ 37.203125 48.484375 30.078125 48.484375 \r\nQ 22.953125 48.484375 18.875 42.84375 \r\nQ 14.796875 37.203125 14.796875 27.296875 \r\nz\r\n\" id=\"DejaVuSans-100\"/>\r\n      <path d=\"M 9.421875 54.6875 \r\nL 18.40625 54.6875 \r\nL 18.40625 0 \r\nL 9.421875 0 \r\nz\r\nM 9.421875 75.984375 \r\nL 18.40625 75.984375 \r\nL 18.40625 64.59375 \r\nL 9.421875 64.59375 \r\nz\r\n\" id=\"DejaVuSans-105\"/>\r\n      <path d=\"M 44.28125 53.078125 \r\nL 44.28125 44.578125 \r\nQ 40.484375 46.53125 36.375 47.5 \r\nQ 32.28125 48.484375 27.875 48.484375 \r\nQ 21.1875 48.484375 17.84375 46.4375 \r\nQ 14.5 44.390625 14.5 40.28125 \r\nQ 14.5 37.15625 16.890625 35.375 \r\nQ 19.28125 33.59375 26.515625 31.984375 \r\nL 29.59375 31.296875 \r\nQ 39.15625 29.25 43.1875 25.515625 \r\nQ 47.21875 21.78125 47.21875 15.09375 \r\nQ 47.21875 7.46875 41.1875 3.015625 \r\nQ 35.15625 -1.421875 24.609375 -1.421875 \r\nQ 20.21875 -1.421875 15.453125 -0.5625 \r\nQ 10.6875 0.296875 5.421875 2 \r\nL 5.421875 11.28125 \r\nQ 10.40625 8.6875 15.234375 7.390625 \r\nQ 20.0625 6.109375 24.8125 6.109375 \r\nQ 31.15625 6.109375 34.5625 8.28125 \r\nQ 37.984375 10.453125 37.984375 14.40625 \r\nQ 37.984375 18.0625 35.515625 20.015625 \r\nQ 33.0625 21.96875 24.703125 23.78125 \r\nL 21.578125 24.515625 \r\nQ 13.234375 26.265625 9.515625 29.90625 \r\nQ 5.8125 33.546875 5.8125 39.890625 \r\nQ 5.8125 47.609375 11.28125 51.796875 \r\nQ 16.75 56 26.8125 56 \r\nQ 31.78125 56 36.171875 55.265625 \r\nQ 40.578125 54.546875 44.28125 53.078125 \r\nz\r\n\" id=\"DejaVuSans-115\"/>\r\n      <path d=\"M 48.78125 52.59375 \r\nL 48.78125 44.1875 \r\nQ 44.96875 46.296875 41.140625 47.34375 \r\nQ 37.3125 48.390625 33.40625 48.390625 \r\nQ 24.65625 48.390625 19.8125 42.84375 \r\nQ 14.984375 37.3125 14.984375 27.296875 \r\nQ 14.984375 17.28125 19.8125 11.734375 \r\nQ 24.65625 6.203125 33.40625 6.203125 \r\nQ 37.3125 6.203125 41.140625 7.25 \r\nQ 44.96875 8.296875 48.78125 10.40625 \r\nL 48.78125 2.09375 \r\nQ 45.015625 0.34375 40.984375 -0.53125 \r\nQ 36.96875 -1.421875 32.421875 -1.421875 \r\nQ 20.0625 -1.421875 12.78125 6.34375 \r\nQ 5.515625 14.109375 5.515625 27.296875 \r\nQ 5.515625 40.671875 12.859375 48.328125 \r\nQ 20.21875 56 33.015625 56 \r\nQ 37.15625 56 41.109375 55.140625 \r\nQ 45.0625 54.296875 48.78125 52.59375 \r\nz\r\n\" id=\"DejaVuSans-99\"/>\r\n     </defs>\r\n     <g transform=\"translate(490.780938 46.738594)scale(0.1 -0.1)\">\r\n      <use xlink:href=\"#DejaVuSans-100\"/>\r\n      <use x=\"63.476562\" xlink:href=\"#DejaVuSans-105\"/>\r\n      <use x=\"91.259766\" xlink:href=\"#DejaVuSans-115\"/>\r\n      <use x=\"143.359375\" xlink:href=\"#DejaVuSans-99\"/>\r\n     </g>\r\n    </g>\r\n   </g>\r\n  </g>\r\n </g>\r\n</svg>\r\n",
      "image/png": "[encoded data removed]"
     },
     "metadata": {
      "needs_background": "light"
     }
    },
    {
     "output_type": "execute_result",
     "data": {
      "text/plain": [
       "<IPython.lib.display.IFrame at 0x623d4a34a8>"
      ],
      "text/html": "\n        <iframe\n            width=\"100%\"\n            height=\"800px\"\n            src=\"visualization_result/module3.html\"\n            frameborder=\"0\"\n            allowfullscreen\n        ></iframe>\n        "
     },
     "metadata": {},
     "execution_count": 31
    }
   ],
   "source": [
    "visualizer(bn3, node_type3, 'module3')"
   ]
  },
  {
   "cell_type": "code",
   "execution_count": 32,
   "metadata": {},
   "outputs": [],
   "source": [
    "param3 = parameter_learning(data[['top1', 'top2', 'top3', 'top4']], node_type3, bn3)"
   ]
  },
  {
   "cell_type": "code",
   "execution_count": 33,
   "metadata": {},
   "outputs": [],
   "source": [
    "save_structure(bn3, 'skel3')\n",
    "skel3 = read_structure('skel3')\n",
    "save_params(param3, 'params3')\n",
    "params3 = read_params('params3')\n",
    "hybn3 = HyBayesianNetwork(skel3, params3)"
   ]
  },
  {
   "cell_type": "code",
   "execution_count": 34,
   "metadata": {},
   "outputs": [
    {
     "output_type": "stream",
     "name": "stderr",
     "text": [
      "  0%|          | 8/1000000 [00:01<36:40:31,  7.57it/s]\n"
     ]
    },
    {
     "output_type": "execute_result",
     "data": {
      "text/plain": [
       "{'V': ['nodes',\n",
       "  'betweenness_centrality',\n",
       "  'eigenvector_centrality',\n",
       "  'density',\n",
       "  'degree_assortativity_coefficient'],\n",
       " 'E': [['nodes', 'degree_assortativity_coefficient'],\n",
       "  ['nodes', 'density'],\n",
       "  ['betweenness_centrality', 'eigenvector_centrality'],\n",
       "  ['density', 'betweenness_centrality'],\n",
       "  ['density', 'degree_assortativity_coefficient'],\n",
       "  ['density', 'eigenvector_centrality'],\n",
       "  ['degree_assortativity_coefficient', 'eigenvector_centrality'],\n",
       "  ['degree_assortativity_coefficient', 'betweenness_centrality']]}"
      ]
     },
     "metadata": {},
     "execution_count": 34
    }
   ],
   "source": [
    "bn4 = structure_learning(module4, 'K2', node_type4)\n",
    "bn4"
   ]
  },
  {
   "cell_type": "code",
   "execution_count": 35,
   "metadata": {},
   "outputs": [
    {
     "output_type": "display_data",
     "data": {
      "text/plain": "<Figure size 2025x225 with 1 Axes>",
      "image/svg+xml": "<?xml version=\"1.0\" encoding=\"utf-8\" standalone=\"no\"?>\r\n<!DOCTYPE svg PUBLIC \"-//W3C//DTD SVG 1.1//EN\"\r\n  \"http://www.w3.org/Graphics/SVG/1.1/DTD/svg11.dtd\">\r\n<!-- Created with matplotlib (https://matplotlib.org/) -->\r\n<svg height=\"100.837344pt\" version=\"1.1\" viewBox=\"0 0 958.444687 100.837344\" width=\"958.444687pt\" xmlns=\"http://www.w3.org/2000/svg\" xmlns:xlink=\"http://www.w3.org/1999/xlink\">\r\n <defs>\r\n  <style type=\"text/css\">\r\n*{stroke-linecap:butt;stroke-linejoin:round;}\r\n  </style>\r\n </defs>\r\n <g id=\"figure_1\">\r\n  <g id=\"patch_1\">\r\n   <path d=\"M 0 100.837344 \r\nL 958.444687 100.837344 \r\nL 958.444687 0 \r\nL 0 0 \r\nz\r\n\" style=\"fill:none;\"/>\r\n  </g>\r\n  <g id=\"axes_1\">\r\n   <g id=\"legend_1\">\r\n    <g id=\"patch_2\">\r\n     <path d=\"M 425.843438 52.818281 \r\nL 547.552813 52.818281 \r\nQ 549.552813 52.818281 549.552813 50.818281 \r\nL 549.552813 37.140156 \r\nQ 549.552813 35.140156 547.552813 35.140156 \r\nL 425.843438 35.140156 \r\nQ 423.843438 35.140156 423.843438 37.140156 \r\nL 423.843438 50.818281 \r\nQ 423.843438 52.818281 425.843438 52.818281 \r\nz\r\n\" style=\"fill:#ffffff;opacity:0.8;stroke:#cccccc;stroke-linejoin:miter;\"/>\r\n    </g>\r\n    <g id=\"patch_3\">\r\n     <path d=\"M 427.843438 46.738594 \r\nL 447.843438 46.738594 \r\nL 447.843438 39.738594 \r\nL 427.843438 39.738594 \r\nz\r\n\" style=\"fill:#1f77b4;stroke:#1f77b4;stroke-linejoin:miter;\"/>\r\n    </g>\r\n    <g id=\"text_1\">\r\n     <!-- disc -->\r\n     <defs>\r\n      <path d=\"M 45.40625 46.390625 \r\nL 45.40625 75.984375 \r\nL 54.390625 75.984375 \r\nL 54.390625 0 \r\nL 45.40625 0 \r\nL 45.40625 8.203125 \r\nQ 42.578125 3.328125 38.25 0.953125 \r\nQ 33.9375 -1.421875 27.875 -1.421875 \r\nQ 17.96875 -1.421875 11.734375 6.484375 \r\nQ 5.515625 14.40625 5.515625 27.296875 \r\nQ 5.515625 40.1875 11.734375 48.09375 \r\nQ 17.96875 56 27.875 56 \r\nQ 33.9375 56 38.25 53.625 \r\nQ 42.578125 51.265625 45.40625 46.390625 \r\nz\r\nM 14.796875 27.296875 \r\nQ 14.796875 17.390625 18.875 11.75 \r\nQ 22.953125 6.109375 30.078125 6.109375 \r\nQ 37.203125 6.109375 41.296875 11.75 \r\nQ 45.40625 17.390625 45.40625 27.296875 \r\nQ 45.40625 37.203125 41.296875 42.84375 \r\nQ 37.203125 48.484375 30.078125 48.484375 \r\nQ 22.953125 48.484375 18.875 42.84375 \r\nQ 14.796875 37.203125 14.796875 27.296875 \r\nz\r\n\" id=\"DejaVuSans-100\"/>\r\n      <path d=\"M 9.421875 54.6875 \r\nL 18.40625 54.6875 \r\nL 18.40625 0 \r\nL 9.421875 0 \r\nz\r\nM 9.421875 75.984375 \r\nL 18.40625 75.984375 \r\nL 18.40625 64.59375 \r\nL 9.421875 64.59375 \r\nz\r\n\" id=\"DejaVuSans-105\"/>\r\n      <path d=\"M 44.28125 53.078125 \r\nL 44.28125 44.578125 \r\nQ 40.484375 46.53125 36.375 47.5 \r\nQ 32.28125 48.484375 27.875 48.484375 \r\nQ 21.1875 48.484375 17.84375 46.4375 \r\nQ 14.5 44.390625 14.5 40.28125 \r\nQ 14.5 37.15625 16.890625 35.375 \r\nQ 19.28125 33.59375 26.515625 31.984375 \r\nL 29.59375 31.296875 \r\nQ 39.15625 29.25 43.1875 25.515625 \r\nQ 47.21875 21.78125 47.21875 15.09375 \r\nQ 47.21875 7.46875 41.1875 3.015625 \r\nQ 35.15625 -1.421875 24.609375 -1.421875 \r\nQ 20.21875 -1.421875 15.453125 -0.5625 \r\nQ 10.6875 0.296875 5.421875 2 \r\nL 5.421875 11.28125 \r\nQ 10.40625 8.6875 15.234375 7.390625 \r\nQ 20.0625 6.109375 24.8125 6.109375 \r\nQ 31.15625 6.109375 34.5625 8.28125 \r\nQ 37.984375 10.453125 37.984375 14.40625 \r\nQ 37.984375 18.0625 35.515625 20.015625 \r\nQ 33.0625 21.96875 24.703125 23.78125 \r\nL 21.578125 24.515625 \r\nQ 13.234375 26.265625 9.515625 29.90625 \r\nQ 5.8125 33.546875 5.8125 39.890625 \r\nQ 5.8125 47.609375 11.28125 51.796875 \r\nQ 16.75 56 26.8125 56 \r\nQ 31.78125 56 36.171875 55.265625 \r\nQ 40.578125 54.546875 44.28125 53.078125 \r\nz\r\n\" id=\"DejaVuSans-115\"/>\r\n      <path d=\"M 48.78125 52.59375 \r\nL 48.78125 44.1875 \r\nQ 44.96875 46.296875 41.140625 47.34375 \r\nQ 37.3125 48.390625 33.40625 48.390625 \r\nQ 24.65625 48.390625 19.8125 42.84375 \r\nQ 14.984375 37.3125 14.984375 27.296875 \r\nQ 14.984375 17.28125 19.8125 11.734375 \r\nQ 24.65625 6.203125 33.40625 6.203125 \r\nQ 37.3125 6.203125 41.140625 7.25 \r\nQ 44.96875 8.296875 48.78125 10.40625 \r\nL 48.78125 2.09375 \r\nQ 45.015625 0.34375 40.984375 -0.53125 \r\nQ 36.96875 -1.421875 32.421875 -1.421875 \r\nQ 20.0625 -1.421875 12.78125 6.34375 \r\nQ 5.515625 14.109375 5.515625 27.296875 \r\nQ 5.515625 40.671875 12.859375 48.328125 \r\nQ 20.21875 56 33.015625 56 \r\nQ 37.15625 56 41.109375 55.140625 \r\nQ 45.0625 54.296875 48.78125 52.59375 \r\nz\r\n\" id=\"DejaVuSans-99\"/>\r\n     </defs>\r\n     <g transform=\"translate(455.843438 46.738594)scale(0.1 -0.1)\">\r\n      <use xlink:href=\"#DejaVuSans-100\"/>\r\n      <use x=\"63.476562\" xlink:href=\"#DejaVuSans-105\"/>\r\n      <use x=\"91.259766\" xlink:href=\"#DejaVuSans-115\"/>\r\n      <use x=\"143.359375\" xlink:href=\"#DejaVuSans-99\"/>\r\n     </g>\r\n    </g>\r\n    <g id=\"patch_4\">\r\n     <path d=\"M 495.677813 46.738594 \r\nL 515.677813 46.738594 \r\nL 515.677813 39.738594 \r\nL 495.677813 39.738594 \r\nz\r\n\" style=\"fill:#9467bd;stroke:#9467bd;stroke-linejoin:miter;\"/>\r\n    </g>\r\n    <g id=\"text_2\">\r\n     <!-- cont -->\r\n     <defs>\r\n      <path d=\"M 30.609375 48.390625 \r\nQ 23.390625 48.390625 19.1875 42.75 \r\nQ 14.984375 37.109375 14.984375 27.296875 \r\nQ 14.984375 17.484375 19.15625 11.84375 \r\nQ 23.34375 6.203125 30.609375 6.203125 \r\nQ 37.796875 6.203125 41.984375 11.859375 \r\nQ 46.1875 17.53125 46.1875 27.296875 \r\nQ 46.1875 37.015625 41.984375 42.703125 \r\nQ 37.796875 48.390625 30.609375 48.390625 \r\nz\r\nM 30.609375 56 \r\nQ 42.328125 56 49.015625 48.375 \r\nQ 55.71875 40.765625 55.71875 27.296875 \r\nQ 55.71875 13.875 49.015625 6.21875 \r\nQ 42.328125 -1.421875 30.609375 -1.421875 \r\nQ 18.84375 -1.421875 12.171875 6.21875 \r\nQ 5.515625 13.875 5.515625 27.296875 \r\nQ 5.515625 40.765625 12.171875 48.375 \r\nQ 18.84375 56 30.609375 56 \r\nz\r\n\" id=\"DejaVuSans-111\"/>\r\n      <path d=\"M 54.890625 33.015625 \r\nL 54.890625 0 \r\nL 45.90625 0 \r\nL 45.90625 32.71875 \r\nQ 45.90625 40.484375 42.875 44.328125 \r\nQ 39.84375 48.1875 33.796875 48.1875 \r\nQ 26.515625 48.1875 22.3125 43.546875 \r\nQ 18.109375 38.921875 18.109375 30.90625 \r\nL 18.109375 0 \r\nL 9.078125 0 \r\nL 9.078125 54.6875 \r\nL 18.109375 54.6875 \r\nL 18.109375 46.1875 \r\nQ 21.34375 51.125 25.703125 53.5625 \r\nQ 30.078125 56 35.796875 56 \r\nQ 45.21875 56 50.046875 50.171875 \r\nQ 54.890625 44.34375 54.890625 33.015625 \r\nz\r\n\" id=\"DejaVuSans-110\"/>\r\n      <path d=\"M 18.3125 70.21875 \r\nL 18.3125 54.6875 \r\nL 36.8125 54.6875 \r\nL 36.8125 47.703125 \r\nL 18.3125 47.703125 \r\nL 18.3125 18.015625 \r\nQ 18.3125 11.328125 20.140625 9.421875 \r\nQ 21.96875 7.515625 27.59375 7.515625 \r\nL 36.8125 7.515625 \r\nL 36.8125 0 \r\nL 27.59375 0 \r\nQ 17.1875 0 13.234375 3.875 \r\nQ 9.28125 7.765625 9.28125 18.015625 \r\nL 9.28125 47.703125 \r\nL 2.6875 47.703125 \r\nL 2.6875 54.6875 \r\nL 9.28125 54.6875 \r\nL 9.28125 70.21875 \r\nz\r\n\" id=\"DejaVuSans-116\"/>\r\n     </defs>\r\n     <g transform=\"translate(523.677813 46.738594)scale(0.1 -0.1)\">\r\n      <use xlink:href=\"#DejaVuSans-99\"/>\r\n      <use x=\"54.980469\" xlink:href=\"#DejaVuSans-111\"/>\r\n      <use x=\"116.162109\" xlink:href=\"#DejaVuSans-110\"/>\r\n      <use x=\"179.541016\" xlink:href=\"#DejaVuSans-116\"/>\r\n     </g>\r\n    </g>\r\n   </g>\r\n  </g>\r\n </g>\r\n</svg>\r\n",
      "image/png": "[encoded data removed]"
     },
     "metadata": {
      "needs_background": "light"
     }
    },
    {
     "output_type": "execute_result",
     "data": {
      "text/plain": [
       "<IPython.lib.display.IFrame at 0x623bd6deb8>"
      ],
      "text/html": "\n        <iframe\n            width=\"100%\"\n            height=\"800px\"\n            src=\"visualization_result/module4.html\"\n            frameborder=\"0\"\n            allowfullscreen\n        ></iframe>\n        "
     },
     "metadata": {},
     "execution_count": 35
    }
   ],
   "source": [
    "visualizer(bn4, node_type4, 'module4')"
   ]
  },
  {
   "cell_type": "code",
   "execution_count": 36,
   "metadata": {},
   "outputs": [],
   "source": [
    "param4 = parameter_learning(data[['nodes',\t'betweenness_centrality',\t'eigenvector_centrality', 'density', 'degree_assortativity_coefficient']], node_type4, bn4)"
   ]
  },
  {
   "cell_type": "code",
   "execution_count": 37,
   "metadata": {},
   "outputs": [],
   "source": [
    "save_structure(bn4, 'skel4')\n",
    "skel4 = read_structure('skel4')\n",
    "save_params(param4, 'params4')\n",
    "params4 = read_params('params4')\n",
    "hybn4 = HyBayesianNetwork(skel4, params4)"
   ]
  },
  {
   "cell_type": "code",
   "execution_count": 38,
   "metadata": {},
   "outputs": [],
   "source": [
    "bn5 = structure_learning(module5, 'MI', node_type5)"
   ]
  },
  {
   "cell_type": "code",
   "execution_count": 39,
   "metadata": {},
   "outputs": [
    {
     "output_type": "display_data",
     "data": {
      "text/plain": "<Figure size 2025x225 with 1 Axes>",
      "image/svg+xml": "<?xml version=\"1.0\" encoding=\"utf-8\" standalone=\"no\"?>\r\n<!DOCTYPE svg PUBLIC \"-//W3C//DTD SVG 1.1//EN\"\r\n  \"http://www.w3.org/Graphics/SVG/1.1/DTD/svg11.dtd\">\r\n<!-- Created with matplotlib (https://matplotlib.org/) -->\r\n<svg height=\"100.837344pt\" version=\"1.1\" viewBox=\"0 0 958.444687 100.837344\" width=\"958.444687pt\" xmlns=\"http://www.w3.org/2000/svg\" xmlns:xlink=\"http://www.w3.org/1999/xlink\">\r\n <defs>\r\n  <style type=\"text/css\">\r\n*{stroke-linecap:butt;stroke-linejoin:round;}\r\n  </style>\r\n </defs>\r\n <g id=\"figure_1\">\r\n  <g id=\"patch_1\">\r\n   <path d=\"M 0 100.837344 \r\nL 958.444687 100.837344 \r\nL 958.444687 0 \r\nL 0 0 \r\nz\r\n\" style=\"fill:none;\"/>\r\n  </g>\r\n  <g id=\"axes_1\">\r\n   <g id=\"legend_1\">\r\n    <g id=\"patch_2\">\r\n     <path d=\"M 425.843438 52.818281 \r\nL 547.552813 52.818281 \r\nQ 549.552813 52.818281 549.552813 50.818281 \r\nL 549.552813 37.140156 \r\nQ 549.552813 35.140156 547.552813 35.140156 \r\nL 425.843438 35.140156 \r\nQ 423.843438 35.140156 423.843438 37.140156 \r\nL 423.843438 50.818281 \r\nQ 423.843438 52.818281 425.843438 52.818281 \r\nz\r\n\" style=\"fill:#ffffff;opacity:0.8;stroke:#cccccc;stroke-linejoin:miter;\"/>\r\n    </g>\r\n    <g id=\"patch_3\">\r\n     <path d=\"M 427.843438 46.738594 \r\nL 447.843438 46.738594 \r\nL 447.843438 39.738594 \r\nL 427.843438 39.738594 \r\nz\r\n\" style=\"fill:#ff7f0e;stroke:#ff7f0e;stroke-linejoin:miter;\"/>\r\n    </g>\r\n    <g id=\"text_1\">\r\n     <!-- cont -->\r\n     <defs>\r\n      <path d=\"M 48.78125 52.59375 \r\nL 48.78125 44.1875 \r\nQ 44.96875 46.296875 41.140625 47.34375 \r\nQ 37.3125 48.390625 33.40625 48.390625 \r\nQ 24.65625 48.390625 19.8125 42.84375 \r\nQ 14.984375 37.3125 14.984375 27.296875 \r\nQ 14.984375 17.28125 19.8125 11.734375 \r\nQ 24.65625 6.203125 33.40625 6.203125 \r\nQ 37.3125 6.203125 41.140625 7.25 \r\nQ 44.96875 8.296875 48.78125 10.40625 \r\nL 48.78125 2.09375 \r\nQ 45.015625 0.34375 40.984375 -0.53125 \r\nQ 36.96875 -1.421875 32.421875 -1.421875 \r\nQ 20.0625 -1.421875 12.78125 6.34375 \r\nQ 5.515625 14.109375 5.515625 27.296875 \r\nQ 5.515625 40.671875 12.859375 48.328125 \r\nQ 20.21875 56 33.015625 56 \r\nQ 37.15625 56 41.109375 55.140625 \r\nQ 45.0625 54.296875 48.78125 52.59375 \r\nz\r\n\" id=\"DejaVuSans-99\"/>\r\n      <path d=\"M 30.609375 48.390625 \r\nQ 23.390625 48.390625 19.1875 42.75 \r\nQ 14.984375 37.109375 14.984375 27.296875 \r\nQ 14.984375 17.484375 19.15625 11.84375 \r\nQ 23.34375 6.203125 30.609375 6.203125 \r\nQ 37.796875 6.203125 41.984375 11.859375 \r\nQ 46.1875 17.53125 46.1875 27.296875 \r\nQ 46.1875 37.015625 41.984375 42.703125 \r\nQ 37.796875 48.390625 30.609375 48.390625 \r\nz\r\nM 30.609375 56 \r\nQ 42.328125 56 49.015625 48.375 \r\nQ 55.71875 40.765625 55.71875 27.296875 \r\nQ 55.71875 13.875 49.015625 6.21875 \r\nQ 42.328125 -1.421875 30.609375 -1.421875 \r\nQ 18.84375 -1.421875 12.171875 6.21875 \r\nQ 5.515625 13.875 5.515625 27.296875 \r\nQ 5.515625 40.765625 12.171875 48.375 \r\nQ 18.84375 56 30.609375 56 \r\nz\r\n\" id=\"DejaVuSans-111\"/>\r\n      <path d=\"M 54.890625 33.015625 \r\nL 54.890625 0 \r\nL 45.90625 0 \r\nL 45.90625 32.71875 \r\nQ 45.90625 40.484375 42.875 44.328125 \r\nQ 39.84375 48.1875 33.796875 48.1875 \r\nQ 26.515625 48.1875 22.3125 43.546875 \r\nQ 18.109375 38.921875 18.109375 30.90625 \r\nL 18.109375 0 \r\nL 9.078125 0 \r\nL 9.078125 54.6875 \r\nL 18.109375 54.6875 \r\nL 18.109375 46.1875 \r\nQ 21.34375 51.125 25.703125 53.5625 \r\nQ 30.078125 56 35.796875 56 \r\nQ 45.21875 56 50.046875 50.171875 \r\nQ 54.890625 44.34375 54.890625 33.015625 \r\nz\r\n\" id=\"DejaVuSans-110\"/>\r\n      <path d=\"M 18.3125 70.21875 \r\nL 18.3125 54.6875 \r\nL 36.8125 54.6875 \r\nL 36.8125 47.703125 \r\nL 18.3125 47.703125 \r\nL 18.3125 18.015625 \r\nQ 18.3125 11.328125 20.140625 9.421875 \r\nQ 21.96875 7.515625 27.59375 7.515625 \r\nL 36.8125 7.515625 \r\nL 36.8125 0 \r\nL 27.59375 0 \r\nQ 17.1875 0 13.234375 3.875 \r\nQ 9.28125 7.765625 9.28125 18.015625 \r\nL 9.28125 47.703125 \r\nL 2.6875 47.703125 \r\nL 2.6875 54.6875 \r\nL 9.28125 54.6875 \r\nL 9.28125 70.21875 \r\nz\r\n\" id=\"DejaVuSans-116\"/>\r\n     </defs>\r\n     <g transform=\"translate(455.843438 46.738594)scale(0.1 -0.1)\">\r\n      <use xlink:href=\"#DejaVuSans-99\"/>\r\n      <use x=\"54.980469\" xlink:href=\"#DejaVuSans-111\"/>\r\n      <use x=\"116.162109\" xlink:href=\"#DejaVuSans-110\"/>\r\n      <use x=\"179.541016\" xlink:href=\"#DejaVuSans-116\"/>\r\n     </g>\r\n    </g>\r\n    <g id=\"patch_4\">\r\n     <path d=\"M 497.718438 46.738594 \r\nL 517.718438 46.738594 \r\nL 517.718438 39.738594 \r\nL 497.718438 39.738594 \r\nz\r\n\" style=\"fill:#8c564b;stroke:#8c564b;stroke-linejoin:miter;\"/>\r\n    </g>\r\n    <g id=\"text_2\">\r\n     <!-- disc -->\r\n     <defs>\r\n      <path d=\"M 45.40625 46.390625 \r\nL 45.40625 75.984375 \r\nL 54.390625 75.984375 \r\nL 54.390625 0 \r\nL 45.40625 0 \r\nL 45.40625 8.203125 \r\nQ 42.578125 3.328125 38.25 0.953125 \r\nQ 33.9375 -1.421875 27.875 -1.421875 \r\nQ 17.96875 -1.421875 11.734375 6.484375 \r\nQ 5.515625 14.40625 5.515625 27.296875 \r\nQ 5.515625 40.1875 11.734375 48.09375 \r\nQ 17.96875 56 27.875 56 \r\nQ 33.9375 56 38.25 53.625 \r\nQ 42.578125 51.265625 45.40625 46.390625 \r\nz\r\nM 14.796875 27.296875 \r\nQ 14.796875 17.390625 18.875 11.75 \r\nQ 22.953125 6.109375 30.078125 6.109375 \r\nQ 37.203125 6.109375 41.296875 11.75 \r\nQ 45.40625 17.390625 45.40625 27.296875 \r\nQ 45.40625 37.203125 41.296875 42.84375 \r\nQ 37.203125 48.484375 30.078125 48.484375 \r\nQ 22.953125 48.484375 18.875 42.84375 \r\nQ 14.796875 37.203125 14.796875 27.296875 \r\nz\r\n\" id=\"DejaVuSans-100\"/>\r\n      <path d=\"M 9.421875 54.6875 \r\nL 18.40625 54.6875 \r\nL 18.40625 0 \r\nL 9.421875 0 \r\nz\r\nM 9.421875 75.984375 \r\nL 18.40625 75.984375 \r\nL 18.40625 64.59375 \r\nL 9.421875 64.59375 \r\nz\r\n\" id=\"DejaVuSans-105\"/>\r\n      <path d=\"M 44.28125 53.078125 \r\nL 44.28125 44.578125 \r\nQ 40.484375 46.53125 36.375 47.5 \r\nQ 32.28125 48.484375 27.875 48.484375 \r\nQ 21.1875 48.484375 17.84375 46.4375 \r\nQ 14.5 44.390625 14.5 40.28125 \r\nQ 14.5 37.15625 16.890625 35.375 \r\nQ 19.28125 33.59375 26.515625 31.984375 \r\nL 29.59375 31.296875 \r\nQ 39.15625 29.25 43.1875 25.515625 \r\nQ 47.21875 21.78125 47.21875 15.09375 \r\nQ 47.21875 7.46875 41.1875 3.015625 \r\nQ 35.15625 -1.421875 24.609375 -1.421875 \r\nQ 20.21875 -1.421875 15.453125 -0.5625 \r\nQ 10.6875 0.296875 5.421875 2 \r\nL 5.421875 11.28125 \r\nQ 10.40625 8.6875 15.234375 7.390625 \r\nQ 20.0625 6.109375 24.8125 6.109375 \r\nQ 31.15625 6.109375 34.5625 8.28125 \r\nQ 37.984375 10.453125 37.984375 14.40625 \r\nQ 37.984375 18.0625 35.515625 20.015625 \r\nQ 33.0625 21.96875 24.703125 23.78125 \r\nL 21.578125 24.515625 \r\nQ 13.234375 26.265625 9.515625 29.90625 \r\nQ 5.8125 33.546875 5.8125 39.890625 \r\nQ 5.8125 47.609375 11.28125 51.796875 \r\nQ 16.75 56 26.8125 56 \r\nQ 31.78125 56 36.171875 55.265625 \r\nQ 40.578125 54.546875 44.28125 53.078125 \r\nz\r\n\" id=\"DejaVuSans-115\"/>\r\n     </defs>\r\n     <g transform=\"translate(525.718438 46.738594)scale(0.1 -0.1)\">\r\n      <use xlink:href=\"#DejaVuSans-100\"/>\r\n      <use x=\"63.476562\" xlink:href=\"#DejaVuSans-105\"/>\r\n      <use x=\"91.259766\" xlink:href=\"#DejaVuSans-115\"/>\r\n      <use x=\"143.359375\" xlink:href=\"#DejaVuSans-99\"/>\r\n     </g>\r\n    </g>\r\n   </g>\r\n  </g>\r\n </g>\r\n</svg>\r\n",
      "image/png": "[encoded data removed]"
     },
     "metadata": {
      "needs_background": "light"
     }
    },
    {
     "output_type": "execute_result",
     "data": {
      "text/plain": [
       "<IPython.lib.display.IFrame at 0x6243efbb00>"
      ],
      "text/html": "\n        <iframe\n            width=\"100%\"\n            height=\"800px\"\n            src=\"visualization_result/module5.html\"\n            frameborder=\"0\"\n            allowfullscreen\n        ></iframe>\n        "
     },
     "metadata": {},
     "execution_count": 39
    }
   ],
   "source": [
    "visualizer(bn5, node_type5, 'module5')"
   ]
  },
  {
   "cell_type": "code",
   "execution_count": 40,
   "metadata": {},
   "outputs": [],
   "source": [
    "param5 = parameter_learning(data[['max_tr',\t'mean_tr', 'parent',\t'driver',\t'has_pets',\t'cash_usage']], node_type5, bn5)"
   ]
  },
  {
   "cell_type": "code",
   "execution_count": 41,
   "metadata": {},
   "outputs": [],
   "source": [
    "save_structure(bn5, 'skel5')\n",
    "skel5 = read_structure('skel5')\n",
    "save_params(param5, 'params5')\n",
    "params5 = read_params('params5')\n",
    "hybn5 = HyBayesianNetwork(skel5, params5)"
   ]
  },
  {
   "cell_type": "code",
   "execution_count": 42,
   "metadata": {},
   "outputs": [],
   "source": [
    "# bn6 = structure_learning(module6, 'K2', node_type6)\n",
    "# bn6"
   ]
  },
  {
   "cell_type": "code",
   "execution_count": 43,
   "metadata": {},
   "outputs": [],
   "source": [
    "#param6 = parameter_learning(data[['posts_per_month',\t'likes_per_post',\t'views_per_post',\t'repost_ratio']], node_type6, bn6)"
   ]
  },
  {
   "cell_type": "code",
   "execution_count": 44,
   "metadata": {},
   "outputs": [],
   "source": [
    "# save_structure(bn6, 'skel6')\n",
    "# skel6 = read_structure('skel6')\n",
    "# save_params(param6, 'params6')\n",
    "# params6 = read_params('params6')\n",
    "# hybn6 = HyBayesianNetwork(skel6, params6)"
   ]
  },
  {
   "cell_type": "code",
   "execution_count": 45,
   "metadata": {},
   "outputs": [],
   "source": [
    "node_type_final = {**node_type1, **node_type2, **node_type3, **node_type4, **node_type5}"
   ]
  },
  {
   "cell_type": "code",
   "execution_count": 46,
   "metadata": {},
   "outputs": [
    {
     "output_type": "execute_result",
     "data": {
      "text/plain": [
       "{'age': 'disc',\n",
       " 'sex': 'disc',\n",
       " 'has_high_education': 'disc',\n",
       " 'relation_status': 'disc',\n",
       " 'number_of_relatives': 'disc',\n",
       " 'len_of_about': 'disc',\n",
       " 'number_of_activities': 'disc',\n",
       " 'number_of_books': 'disc',\n",
       " 'number_of_interests': 'disc',\n",
       " 'number_of_movies': 'disc',\n",
       " 'top1': 'disc',\n",
       " 'top2': 'disc',\n",
       " 'top3': 'disc',\n",
       " 'top4': 'disc',\n",
       " 'nodes': 'disc',\n",
       " 'betweenness_centrality': 'cont',\n",
       " 'eigenvector_centrality': 'cont',\n",
       " 'density': 'cont',\n",
       " 'degree_assortativity_coefficient': 'cont',\n",
       " 'max_tr': 'cont',\n",
       " 'mean_tr': 'cont',\n",
       " 'parent': 'disc',\n",
       " 'driver': 'disc',\n",
       " 'has_pets': 'disc',\n",
       " 'cash_usage': 'disc'}"
      ]
     },
     "metadata": {},
     "execution_count": 46
    }
   ],
   "source": [
    "node_type_final"
   ]
  },
  {
   "cell_type": "code",
   "execution_count": 47,
   "metadata": {},
   "outputs": [
    {
     "output_type": "stream",
     "name": "stderr",
     "text": [
      "  0%|          | 18/1000000 [02:33<2366:12:28,  8.52s/it]{'0 1': 1, '0 2': 1, '0 3': 1, '0 4': 7, '1 0': 1, '1 2': 0, '1 3': 0, '1 4': 0, '2 0': 4, '2 1': 0, '2 3': 0, '2 4': 1, '3 0': 1, '3 1': 0, '3 2': 1, '3 4': 0, '4 0': 0, '4 1': 0, '4 2': 0, '4 3': 0}\n"
     ]
    }
   ],
   "source": [
    "hybn_connect = direct_connect([hybn1,hybn2, hybn3, hybn4, hybn5],new_data, node_type_final)\n"
   ]
  },
  {
   "cell_type": "code",
   "execution_count": 48,
   "metadata": {},
   "outputs": [
    {
     "output_type": "execute_result",
     "data": {
      "text/plain": [
       "['0 1', '2 0', '0 3', '0 4', '2 4']"
      ]
     },
     "metadata": {},
     "execution_count": 48
    }
   ],
   "source": [
    "hybn_connect"
   ]
  },
  {
   "cell_type": "code",
   "execution_count": 49,
   "metadata": {},
   "outputs": [],
   "source": [
    "hybns = [hybn1,hybn2, hybn3, hybn4, hybn5]"
   ]
  },
  {
   "cell_type": "code",
   "execution_count": 50,
   "metadata": {},
   "outputs": [],
   "source": [
    "hybn_final = direct_train(hybns, data, hybn_connect)"
   ]
  },
  {
   "cell_type": "code",
   "execution_count": 51,
   "metadata": {},
   "outputs": [],
   "source": [
    "final_struct = dict()\n",
    "final_struct['V'] = hybn_final.V\n",
    "final_struct['E'] = hybn_final.E"
   ]
  },
  {
   "cell_type": "code",
   "execution_count": 52,
   "metadata": {},
   "outputs": [
    {
     "output_type": "execute_result",
     "data": {
      "text/plain": [
       "['top1',\n",
       " 'top2',\n",
       " 'top3',\n",
       " 'top4',\n",
       " 'L 2_0',\n",
       " 'age',\n",
       " 'number_of_relatives',\n",
       " 'has_high_education',\n",
       " 'sex',\n",
       " 'relation_status',\n",
       " 'L 0_4',\n",
       " 'L 0_3',\n",
       " 'nodes',\n",
       " 'density',\n",
       " 'degree_assortativity_coefficient',\n",
       " 'betweenness_centrality',\n",
       " 'eigenvector_centrality',\n",
       " 'L 0_1',\n",
       " 'number_of_activities',\n",
       " 'number_of_interests',\n",
       " 'number_of_movies',\n",
       " 'number_of_books',\n",
       " 'len_of_about',\n",
       " 'L 2_4',\n",
       " 'cash_usage',\n",
       " 'mean_tr',\n",
       " 'parent',\n",
       " 'driver',\n",
       " 'has_pets',\n",
       " 'max_tr']"
      ]
     },
     "metadata": {},
     "execution_count": 52
    }
   ],
   "source": [
    "final_struct['V'] "
   ]
  },
  {
   "cell_type": "code",
   "execution_count": 53,
   "metadata": {},
   "outputs": [
    {
     "output_type": "execute_result",
     "data": {
      "text/plain": [
       "[['L 0_4', 'cash_usage'],\n",
       " ['top2', 'top3'],\n",
       " ['L 0_1', 'number_of_activities'],\n",
       " ['density', 'degree_assortativity_coefficient'],\n",
       " ['cash_usage', 'mean_tr'],\n",
       " ['L 2_4', 'cash_usage'],\n",
       " ['cash_usage', 'parent'],\n",
       " ['degree_assortativity_coefficient', 'eigenvector_centrality'],\n",
       " ['relation_status', 'L 0_4'],\n",
       " ['top4', 'L 2_0'],\n",
       " ['density', 'betweenness_centrality'],\n",
       " ['sex', 'relation_status'],\n",
       " ['number_of_movies', 'number_of_books'],\n",
       " ['top2', 'top4'],\n",
       " ['age', 'relation_status'],\n",
       " ['top4', 'L 2_4'],\n",
       " ['driver', 'has_pets'],\n",
       " ['cash_usage', 'driver'],\n",
       " ['L 2_0', 'age'],\n",
       " ['top1', 'top2'],\n",
       " ['has_high_education', 'sex'],\n",
       " ['cash_usage', 'max_tr'],\n",
       " ['number_of_activities', 'number_of_interests'],\n",
       " ['top1', 'top4'],\n",
       " ['number_of_relatives', 'has_high_education'],\n",
       " ['nodes', 'degree_assortativity_coefficient'],\n",
       " ['betweenness_centrality', 'eigenvector_centrality'],\n",
       " ['nodes', 'density'],\n",
       " ['age', 'has_high_education'],\n",
       " ['L 0_3', 'nodes'],\n",
       " ['relation_status', 'L 0_3'],\n",
       " ['number_of_activities', 'len_of_about'],\n",
       " ['number_of_interests', 'number_of_movies'],\n",
       " ['degree_assortativity_coefficient', 'betweenness_centrality'],\n",
       " ['density', 'eigenvector_centrality'],\n",
       " ['relation_status', 'L 0_1'],\n",
       " ['top1', 'top3'],\n",
       " ['top3', 'top4'],\n",
       " ['L 2_0', 'number_of_relatives']]"
      ]
     },
     "metadata": {},
     "execution_count": 53
    }
   ],
   "source": [
    "final_struct['E']"
   ]
  },
  {
   "cell_type": "code",
   "execution_count": 54,
   "metadata": {},
   "outputs": [],
   "source": [
    "node_type_final['L 0_1'] = 'disc'\n",
    "node_type_final['L 0_3'] = 'disc'\n",
    "node_type_final['L 0_4'] = 'disc'\n",
    "node_type_final['L 0_2'] = 'disc'\n",
    "node_type_final['L 2_4'] = 'disc'\n",
    "node_type_final['L 2_0'] = 'disc'\n",
    "node_type_final['L 4_2'] = 'disc'\n",
    "node_type_final['L 3_0'] = 'disc'"
   ]
  },
  {
   "cell_type": "code",
   "execution_count": 55,
   "metadata": {},
   "outputs": [
    {
     "output_type": "execute_result",
     "data": {
      "text/plain": [
       "{'age': 'disc',\n",
       " 'sex': 'disc',\n",
       " 'has_high_education': 'disc',\n",
       " 'relation_status': 'disc',\n",
       " 'number_of_relatives': 'disc',\n",
       " 'len_of_about': 'disc',\n",
       " 'number_of_activities': 'disc',\n",
       " 'number_of_books': 'disc',\n",
       " 'number_of_interests': 'disc',\n",
       " 'number_of_movies': 'disc',\n",
       " 'top1': 'disc',\n",
       " 'top2': 'disc',\n",
       " 'top3': 'disc',\n",
       " 'top4': 'disc',\n",
       " 'nodes': 'disc',\n",
       " 'betweenness_centrality': 'cont',\n",
       " 'eigenvector_centrality': 'cont',\n",
       " 'density': 'cont',\n",
       " 'degree_assortativity_coefficient': 'cont',\n",
       " 'max_tr': 'cont',\n",
       " 'mean_tr': 'cont',\n",
       " 'parent': 'disc',\n",
       " 'driver': 'disc',\n",
       " 'has_pets': 'disc',\n",
       " 'cash_usage': 'disc',\n",
       " 'L 0_1': 'disc',\n",
       " 'L 0_3': 'disc',\n",
       " 'L 0_4': 'disc',\n",
       " 'L 0_2': 'disc',\n",
       " 'L 2_4': 'disc',\n",
       " 'L 2_0': 'disc',\n",
       " 'L 4_2': 'disc',\n",
       " 'L 3_0': 'disc'}"
      ]
     },
     "metadata": {},
     "execution_count": 55
    }
   ],
   "source": [
    "node_type_final"
   ]
  },
  {
   "cell_type": "code",
   "execution_count": 56,
   "metadata": {},
   "outputs": [
    {
     "output_type": "display_data",
     "data": {
      "text/plain": "<Figure size 2025x225 with 1 Axes>",
      "image/svg+xml": "<?xml version=\"1.0\" encoding=\"utf-8\" standalone=\"no\"?>\r\n<!DOCTYPE svg PUBLIC \"-//W3C//DTD SVG 1.1//EN\"\r\n  \"http://www.w3.org/Graphics/SVG/1.1/DTD/svg11.dtd\">\r\n<!-- Created with matplotlib (https://matplotlib.org/) -->\r\n<svg height=\"100.837344pt\" version=\"1.1\" viewBox=\"0 0 958.444687 100.837344\" width=\"958.444687pt\" xmlns=\"http://www.w3.org/2000/svg\" xmlns:xlink=\"http://www.w3.org/1999/xlink\">\r\n <defs>\r\n  <style type=\"text/css\">\r\n*{stroke-linecap:butt;stroke-linejoin:round;}\r\n  </style>\r\n </defs>\r\n <g id=\"figure_1\">\r\n  <g id=\"patch_1\">\r\n   <path d=\"M 0 100.837344 \r\nL 958.444687 100.837344 \r\nL 958.444687 0 \r\nL 0 0 \r\nz\r\n\" style=\"fill:none;\"/>\r\n  </g>\r\n  <g id=\"axes_1\">\r\n   <g id=\"legend_1\">\r\n    <g id=\"patch_2\">\r\n     <path d=\"M 425.843438 52.818281 \r\nL 547.552813 52.818281 \r\nQ 549.552813 52.818281 549.552813 50.818281 \r\nL 549.552813 37.140156 \r\nQ 549.552813 35.140156 547.552813 35.140156 \r\nL 425.843438 35.140156 \r\nQ 423.843438 35.140156 423.843438 37.140156 \r\nL 423.843438 50.818281 \r\nQ 423.843438 52.818281 425.843438 52.818281 \r\nz\r\n\" style=\"fill:#ffffff;opacity:0.8;stroke:#cccccc;stroke-linejoin:miter;\"/>\r\n    </g>\r\n    <g id=\"patch_3\">\r\n     <path d=\"M 427.843438 46.738594 \r\nL 447.843438 46.738594 \r\nL 447.843438 39.738594 \r\nL 427.843438 39.738594 \r\nz\r\n\" style=\"fill:#ff00ff;stroke:#ff00ff;stroke-linejoin:miter;\"/>\r\n    </g>\r\n    <g id=\"text_1\">\r\n     <!-- disc -->\r\n     <defs>\r\n      <path d=\"M 45.40625 46.390625 \r\nL 45.40625 75.984375 \r\nL 54.390625 75.984375 \r\nL 54.390625 0 \r\nL 45.40625 0 \r\nL 45.40625 8.203125 \r\nQ 42.578125 3.328125 38.25 0.953125 \r\nQ 33.9375 -1.421875 27.875 -1.421875 \r\nQ 17.96875 -1.421875 11.734375 6.484375 \r\nQ 5.515625 14.40625 5.515625 27.296875 \r\nQ 5.515625 40.1875 11.734375 48.09375 \r\nQ 17.96875 56 27.875 56 \r\nQ 33.9375 56 38.25 53.625 \r\nQ 42.578125 51.265625 45.40625 46.390625 \r\nz\r\nM 14.796875 27.296875 \r\nQ 14.796875 17.390625 18.875 11.75 \r\nQ 22.953125 6.109375 30.078125 6.109375 \r\nQ 37.203125 6.109375 41.296875 11.75 \r\nQ 45.40625 17.390625 45.40625 27.296875 \r\nQ 45.40625 37.203125 41.296875 42.84375 \r\nQ 37.203125 48.484375 30.078125 48.484375 \r\nQ 22.953125 48.484375 18.875 42.84375 \r\nQ 14.796875 37.203125 14.796875 27.296875 \r\nz\r\n\" id=\"DejaVuSans-100\"/>\r\n      <path d=\"M 9.421875 54.6875 \r\nL 18.40625 54.6875 \r\nL 18.40625 0 \r\nL 9.421875 0 \r\nz\r\nM 9.421875 75.984375 \r\nL 18.40625 75.984375 \r\nL 18.40625 64.59375 \r\nL 9.421875 64.59375 \r\nz\r\n\" id=\"DejaVuSans-105\"/>\r\n      <path d=\"M 44.28125 53.078125 \r\nL 44.28125 44.578125 \r\nQ 40.484375 46.53125 36.375 47.5 \r\nQ 32.28125 48.484375 27.875 48.484375 \r\nQ 21.1875 48.484375 17.84375 46.4375 \r\nQ 14.5 44.390625 14.5 40.28125 \r\nQ 14.5 37.15625 16.890625 35.375 \r\nQ 19.28125 33.59375 26.515625 31.984375 \r\nL 29.59375 31.296875 \r\nQ 39.15625 29.25 43.1875 25.515625 \r\nQ 47.21875 21.78125 47.21875 15.09375 \r\nQ 47.21875 7.46875 41.1875 3.015625 \r\nQ 35.15625 -1.421875 24.609375 -1.421875 \r\nQ 20.21875 -1.421875 15.453125 -0.5625 \r\nQ 10.6875 0.296875 5.421875 2 \r\nL 5.421875 11.28125 \r\nQ 10.40625 8.6875 15.234375 7.390625 \r\nQ 20.0625 6.109375 24.8125 6.109375 \r\nQ 31.15625 6.109375 34.5625 8.28125 \r\nQ 37.984375 10.453125 37.984375 14.40625 \r\nQ 37.984375 18.0625 35.515625 20.015625 \r\nQ 33.0625 21.96875 24.703125 23.78125 \r\nL 21.578125 24.515625 \r\nQ 13.234375 26.265625 9.515625 29.90625 \r\nQ 5.8125 33.546875 5.8125 39.890625 \r\nQ 5.8125 47.609375 11.28125 51.796875 \r\nQ 16.75 56 26.8125 56 \r\nQ 31.78125 56 36.171875 55.265625 \r\nQ 40.578125 54.546875 44.28125 53.078125 \r\nz\r\n\" id=\"DejaVuSans-115\"/>\r\n      <path d=\"M 48.78125 52.59375 \r\nL 48.78125 44.1875 \r\nQ 44.96875 46.296875 41.140625 47.34375 \r\nQ 37.3125 48.390625 33.40625 48.390625 \r\nQ 24.65625 48.390625 19.8125 42.84375 \r\nQ 14.984375 37.3125 14.984375 27.296875 \r\nQ 14.984375 17.28125 19.8125 11.734375 \r\nQ 24.65625 6.203125 33.40625 6.203125 \r\nQ 37.3125 6.203125 41.140625 7.25 \r\nQ 44.96875 8.296875 48.78125 10.40625 \r\nL 48.78125 2.09375 \r\nQ 45.015625 0.34375 40.984375 -0.53125 \r\nQ 36.96875 -1.421875 32.421875 -1.421875 \r\nQ 20.0625 -1.421875 12.78125 6.34375 \r\nQ 5.515625 14.109375 5.515625 27.296875 \r\nQ 5.515625 40.671875 12.859375 48.328125 \r\nQ 20.21875 56 33.015625 56 \r\nQ 37.15625 56 41.109375 55.140625 \r\nQ 45.0625 54.296875 48.78125 52.59375 \r\nz\r\n\" id=\"DejaVuSans-99\"/>\r\n     </defs>\r\n     <g transform=\"translate(455.843438 46.738594)scale(0.1 -0.1)\">\r\n      <use xlink:href=\"#DejaVuSans-100\"/>\r\n      <use x=\"63.476562\" xlink:href=\"#DejaVuSans-105\"/>\r\n      <use x=\"91.259766\" xlink:href=\"#DejaVuSans-115\"/>\r\n      <use x=\"143.359375\" xlink:href=\"#DejaVuSans-99\"/>\r\n     </g>\r\n    </g>\r\n    <g id=\"patch_4\">\r\n     <path d=\"M 495.677813 46.738594 \r\nL 515.677813 46.738594 \r\nL 515.677813 39.738594 \r\nL 495.677813 39.738594 \r\nz\r\n\" style=\"fill:#4b0082;stroke:#4b0082;stroke-linejoin:miter;\"/>\r\n    </g>\r\n    <g id=\"text_2\">\r\n     <!-- cont -->\r\n     <defs>\r\n      <path d=\"M 30.609375 48.390625 \r\nQ 23.390625 48.390625 19.1875 42.75 \r\nQ 14.984375 37.109375 14.984375 27.296875 \r\nQ 14.984375 17.484375 19.15625 11.84375 \r\nQ 23.34375 6.203125 30.609375 6.203125 \r\nQ 37.796875 6.203125 41.984375 11.859375 \r\nQ 46.1875 17.53125 46.1875 27.296875 \r\nQ 46.1875 37.015625 41.984375 42.703125 \r\nQ 37.796875 48.390625 30.609375 48.390625 \r\nz\r\nM 30.609375 56 \r\nQ 42.328125 56 49.015625 48.375 \r\nQ 55.71875 40.765625 55.71875 27.296875 \r\nQ 55.71875 13.875 49.015625 6.21875 \r\nQ 42.328125 -1.421875 30.609375 -1.421875 \r\nQ 18.84375 -1.421875 12.171875 6.21875 \r\nQ 5.515625 13.875 5.515625 27.296875 \r\nQ 5.515625 40.765625 12.171875 48.375 \r\nQ 18.84375 56 30.609375 56 \r\nz\r\n\" id=\"DejaVuSans-111\"/>\r\n      <path d=\"M 54.890625 33.015625 \r\nL 54.890625 0 \r\nL 45.90625 0 \r\nL 45.90625 32.71875 \r\nQ 45.90625 40.484375 42.875 44.328125 \r\nQ 39.84375 48.1875 33.796875 48.1875 \r\nQ 26.515625 48.1875 22.3125 43.546875 \r\nQ 18.109375 38.921875 18.109375 30.90625 \r\nL 18.109375 0 \r\nL 9.078125 0 \r\nL 9.078125 54.6875 \r\nL 18.109375 54.6875 \r\nL 18.109375 46.1875 \r\nQ 21.34375 51.125 25.703125 53.5625 \r\nQ 30.078125 56 35.796875 56 \r\nQ 45.21875 56 50.046875 50.171875 \r\nQ 54.890625 44.34375 54.890625 33.015625 \r\nz\r\n\" id=\"DejaVuSans-110\"/>\r\n      <path d=\"M 18.3125 70.21875 \r\nL 18.3125 54.6875 \r\nL 36.8125 54.6875 \r\nL 36.8125 47.703125 \r\nL 18.3125 47.703125 \r\nL 18.3125 18.015625 \r\nQ 18.3125 11.328125 20.140625 9.421875 \r\nQ 21.96875 7.515625 27.59375 7.515625 \r\nL 36.8125 7.515625 \r\nL 36.8125 0 \r\nL 27.59375 0 \r\nQ 17.1875 0 13.234375 3.875 \r\nQ 9.28125 7.765625 9.28125 18.015625 \r\nL 9.28125 47.703125 \r\nL 2.6875 47.703125 \r\nL 2.6875 54.6875 \r\nL 9.28125 54.6875 \r\nL 9.28125 70.21875 \r\nz\r\n\" id=\"DejaVuSans-116\"/>\r\n     </defs>\r\n     <g transform=\"translate(523.677813 46.738594)scale(0.1 -0.1)\">\r\n      <use xlink:href=\"#DejaVuSans-99\"/>\r\n      <use x=\"54.980469\" xlink:href=\"#DejaVuSans-111\"/>\r\n      <use x=\"116.162109\" xlink:href=\"#DejaVuSans-110\"/>\r\n      <use x=\"179.541016\" xlink:href=\"#DejaVuSans-116\"/>\r\n     </g>\r\n    </g>\r\n   </g>\r\n  </g>\r\n </g>\r\n</svg>\r\n",
      "image/png": "[encoded data removed]"
     },
     "metadata": {
      "needs_background": "light"
     }
    },
    {
     "output_type": "execute_result",
     "data": {
      "text/plain": [
       "<IPython.lib.display.IFrame at 0x623c6967f0>"
      ],
      "text/html": "\n        <iframe\n            width=\"100%\"\n            height=\"800px\"\n            src=\"visualization_result/final_net.html\"\n            frameborder=\"0\"\n            allowfullscreen\n        ></iframe>\n        "
     },
     "metadata": {},
     "execution_count": 56
    }
   ],
   "source": [
    "visualizer(final_struct, node_type_final, 'final_net')"
   ]
  }
 ]
}