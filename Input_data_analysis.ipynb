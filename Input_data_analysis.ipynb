{
 "cells": [
  {
   "cell_type": "code",
   "execution_count": 1,
   "metadata": {},
   "outputs": [],
   "source": [
    "import pandas as pd\n",
    "from collections import Counter"
   ]
  },
  {
   "cell_type": "code",
   "execution_count": 2,
   "metadata": {},
   "outputs": [],
   "source": [
    "trans = pd.read_csv('data/bank_data.csv')"
   ]
  },
  {
   "cell_type": "code",
   "execution_count": 3,
   "metadata": {},
   "outputs": [],
   "source": [
    "fin_df = pd.DataFrame()"
   ]
  },
  {
   "cell_type": "code",
   "execution_count": 4,
   "metadata": {},
   "outputs": [],
   "source": [
    "trans['AMOUNT_EQ'] = trans['AMOUNT_EQ'].apply(lambda x: x.replace('$',''))"
   ]
  },
  {
   "cell_type": "code",
   "execution_count": 5,
   "metadata": {},
   "outputs": [],
   "source": [
    "trans['AMOUNT_EQ'] = trans['AMOUNT_EQ'].apply(lambda x: x.replace(' ',''))"
   ]
  },
  {
   "cell_type": "code",
   "execution_count": 6,
   "metadata": {},
   "outputs": [],
   "source": [
    "trans['AMOUNT_EQ'] = trans['AMOUNT_EQ'].apply(lambda x: float(x))"
   ]
  },
  {
   "cell_type": "code",
   "execution_count": 7,
   "metadata": {},
   "outputs": [],
   "source": [
    "fin_df['median_spend'] = trans.groupby('CustomerKey')['AMOUNT_EQ'].median()"
   ]
  },
  {
   "cell_type": "code",
   "execution_count": 8,
   "metadata": {},
   "outputs": [],
   "source": [
    "fin_df['has_foreign_spend'] = trans.groupby('CustomerKey')['CurrencyName'].apply(list)"
   ]
  },
  {
   "cell_type": "code",
   "execution_count": 9,
   "metadata": {},
   "outputs": [],
   "source": [
    "fin_df['has_foreign_spend'] = fin_df['has_foreign_spend'].apply(lambda x: ('Евро' in x) | ('Доллар США' in x))"
   ]
  },
  {
   "cell_type": "code",
   "execution_count": 10,
   "metadata": {},
   "outputs": [],
   "source": [
    "trans = trans.loc[(trans['CurrencyName'] != 'Евро') | (trans['CurrencyName'] != 'Доллар США')]"
   ]
  },
  {
   "cell_type": "code",
   "execution_count": 11,
   "metadata": {},
   "outputs": [],
   "source": [
    "fin_df['mcc_all'] = trans.groupby('CustomerKey')['MCC'].apply(list)"
   ]
  },
  {
   "cell_type": "code",
   "execution_count": 12,
   "metadata": {
    "tags": []
   },
   "outputs": [],
   "source": [
    "fin_df['top1'] = fin_df['mcc_all'].apply(lambda x: Counter(x).most_common(1)[0][0])"
   ]
  },
  {
   "cell_type": "code",
   "execution_count": 13,
   "metadata": {},
   "outputs": [],
   "source": [
    "fin_df['top2'] = fin_df['mcc_all'].apply(lambda x: Counter(x).most_common(2)[1][0] if len(Counter(x).most_common(2)) >= 2 else Counter(x).most_common(1)[0][0])"
   ]
  },
  {
   "cell_type": "code",
   "execution_count": 14,
   "metadata": {},
   "outputs": [],
   "source": [
    "fin_df['top3'] = fin_df['mcc_all'].apply(lambda x: Counter(x).most_common(3)[2][0] if len(Counter(x).most_common(3)) >= 3 else Counter(x).most_common(1)[0][0])"
   ]
  },
  {
   "cell_type": "code",
   "execution_count": 15,
   "metadata": {},
   "outputs": [],
   "source": [
    "trans['TRANS_DATE'] = trans['TRANS_DATE'].apply(lambda x: str(x).split('.')[1])"
   ]
  },
  {
   "cell_type": "code",
   "execution_count": 16,
   "metadata": {},
   "outputs": [],
   "source": [
    "fin_df['dates'] = trans.groupby('CustomerKey')['TRANS_DATE'].apply(list)\n"
   ]
  },
  {
   "cell_type": "code",
   "execution_count": 17,
   "metadata": {},
   "outputs": [],
   "source": [
    "months = {'01':'January', '02':'February', '03':'March', '04':'April', '05':'May', '06':'June', '07':'July', '08':'August', '09':'September', '10':'October', '11':'November', '12':'December'}"
   ]
  },
  {
   "cell_type": "code",
   "execution_count": 18,
   "metadata": {},
   "outputs": [],
   "source": [
    "fin_df['dates'] = fin_df['dates'].apply(lambda x: Counter(x).most_common(1)[0][0])"
   ]
  },
  {
   "cell_type": "code",
   "execution_count": 19,
   "metadata": {},
   "outputs": [],
   "source": [
    "fin_df['dates'] = fin_df['dates'].apply(lambda x: months[str(x)])"
   ]
  },
  {
   "cell_type": "code",
   "execution_count": 20,
   "metadata": {},
   "outputs": [],
   "source": [
    "fin_df['payment_system'] = trans.groupby('CustomerKey')['PaymentSystem'].apply(list)"
   ]
  },
  {
   "cell_type": "code",
   "execution_count": 21,
   "metadata": {},
   "outputs": [],
   "source": [
    "fin_df['payment_system'] = fin_df['payment_system'].apply(lambda x: Counter(x).most_common(1)[0][0])"
   ]
  },
  {
   "cell_type": "code",
   "execution_count": 22,
   "metadata": {},
   "outputs": [
    {
     "output_type": "execute_result",
     "data": {
      "text/plain": "             median_spend  has_foreign_spend  \\\nCustomerKey                                    \n52248             965.540              False   \n65435            4735.000              False   \n69613             500.000              False   \n85475             382.000              False   \n100286            702.000              False   \n113171            365.000              False   \n161649            578.070              False   \n171740            367.000              False   \n181979            577.275              False   \n187483            207.000              False   \n\n                                                       mcc_all  top1  top2  \\\nCustomerKey                                                                  \n52248               [5641, 5641, 5641, 5641, 5641, 5641, 5641]  5641  5641   \n65435        [5411, 6011, 4814, 5411, 5411, 5912, 5912, 601...  6011  5411   \n69613        [5912, 5814, 6011, 7011, 6011, 6011, 4814, 541...  6011  5411   \n85475        [5814, 5814, 5411, 5411, 5411, 5411, 4111, 601...  5411  6011   \n100286       [5411, 5814, 5912, 5411, 6011, 5999, 5399, 539...  5411  5499   \n113171       [5912, 4812, 5200, 5641, 5200, 5211, 5641, 541...  5411  6011   \n161649       [6011, 5411, 5411, 5411, 5411, 5814, 5912, 541...  5411  4121   \n171740       [5814, 5499, 5331, 5814, 5499, 5499, 5499, 549...  5499  5411   \n181979       [5499, 5200, 5411, 5499, 5912, 5814, 6011, 601...  5411  6011   \n187483       [5411, 5411, 5411, 6011, 6011, 6011, 5499, 411...  6011  5816   \n\n             top3     dates payment_system  \nCustomerKey                                 \n52248        5641      July           БСПБ  \n65435        5912  November     МИР - НСПК  \n69613        5814   January     MasterCard  \n85475        5814    August     MasterCard  \n100286       5331       May     МИР - НСПК  \n113171       5541  December     MasterCard  \n161649       5641      July     MasterCard  \n171740       6011   October     МИР - НСПК  \n181979       4814   October     МИР - НСПК  \n187483       5499    August     MasterCard  ",
      "text/html": "<div>\n<style scoped>\n    .dataframe tbody tr th:only-of-type {\n        vertical-align: middle;\n    }\n\n    .dataframe tbody tr th {\n        vertical-align: top;\n    }\n\n    .dataframe thead th {\n        text-align: right;\n    }\n</style>\n<table border=\"1\" class=\"dataframe\">\n  <thead>\n    <tr style=\"text-align: right;\">\n      <th></th>\n      <th>median_spend</th>\n      <th>has_foreign_spend</th>\n      <th>mcc_all</th>\n      <th>top1</th>\n      <th>top2</th>\n      <th>top3</th>\n      <th>dates</th>\n      <th>payment_system</th>\n    </tr>\n    <tr>\n      <th>CustomerKey</th>\n      <th></th>\n      <th></th>\n      <th></th>\n      <th></th>\n      <th></th>\n      <th></th>\n      <th></th>\n      <th></th>\n    </tr>\n  </thead>\n  <tbody>\n    <tr>\n      <th>52248</th>\n      <td>965.540</td>\n      <td>False</td>\n      <td>[5641, 5641, 5641, 5641, 5641, 5641, 5641]</td>\n      <td>5641</td>\n      <td>5641</td>\n      <td>5641</td>\n      <td>July</td>\n      <td>БСПБ</td>\n    </tr>\n    <tr>\n      <th>65435</th>\n      <td>4735.000</td>\n      <td>False</td>\n      <td>[5411, 6011, 4814, 5411, 5411, 5912, 5912, 601...</td>\n      <td>6011</td>\n      <td>5411</td>\n      <td>5912</td>\n      <td>November</td>\n      <td>МИР - НСПК</td>\n    </tr>\n    <tr>\n      <th>69613</th>\n      <td>500.000</td>\n      <td>False</td>\n      <td>[5912, 5814, 6011, 7011, 6011, 6011, 4814, 541...</td>\n      <td>6011</td>\n      <td>5411</td>\n      <td>5814</td>\n      <td>January</td>\n      <td>MasterCard</td>\n    </tr>\n    <tr>\n      <th>85475</th>\n      <td>382.000</td>\n      <td>False</td>\n      <td>[5814, 5814, 5411, 5411, 5411, 5411, 4111, 601...</td>\n      <td>5411</td>\n      <td>6011</td>\n      <td>5814</td>\n      <td>August</td>\n      <td>MasterCard</td>\n    </tr>\n    <tr>\n      <th>100286</th>\n      <td>702.000</td>\n      <td>False</td>\n      <td>[5411, 5814, 5912, 5411, 6011, 5999, 5399, 539...</td>\n      <td>5411</td>\n      <td>5499</td>\n      <td>5331</td>\n      <td>May</td>\n      <td>МИР - НСПК</td>\n    </tr>\n    <tr>\n      <th>113171</th>\n      <td>365.000</td>\n      <td>False</td>\n      <td>[5912, 4812, 5200, 5641, 5200, 5211, 5641, 541...</td>\n      <td>5411</td>\n      <td>6011</td>\n      <td>5541</td>\n      <td>December</td>\n      <td>MasterCard</td>\n    </tr>\n    <tr>\n      <th>161649</th>\n      <td>578.070</td>\n      <td>False</td>\n      <td>[6011, 5411, 5411, 5411, 5411, 5814, 5912, 541...</td>\n      <td>5411</td>\n      <td>4121</td>\n      <td>5641</td>\n      <td>July</td>\n      <td>MasterCard</td>\n    </tr>\n    <tr>\n      <th>171740</th>\n      <td>367.000</td>\n      <td>False</td>\n      <td>[5814, 5499, 5331, 5814, 5499, 5499, 5499, 549...</td>\n      <td>5499</td>\n      <td>5411</td>\n      <td>6011</td>\n      <td>October</td>\n      <td>МИР - НСПК</td>\n    </tr>\n    <tr>\n      <th>181979</th>\n      <td>577.275</td>\n      <td>False</td>\n      <td>[5499, 5200, 5411, 5499, 5912, 5814, 6011, 601...</td>\n      <td>5411</td>\n      <td>6011</td>\n      <td>4814</td>\n      <td>October</td>\n      <td>МИР - НСПК</td>\n    </tr>\n    <tr>\n      <th>187483</th>\n      <td>207.000</td>\n      <td>False</td>\n      <td>[5411, 5411, 5411, 6011, 6011, 6011, 5499, 411...</td>\n      <td>6011</td>\n      <td>5816</td>\n      <td>5499</td>\n      <td>August</td>\n      <td>MasterCard</td>\n    </tr>\n  </tbody>\n</table>\n</div>"
     },
     "metadata": {},
     "execution_count": 22
    }
   ],
   "source": [
    "fin_df.head(10)"
   ]
  },
  {
   "cell_type": "code",
   "execution_count": 24,
   "metadata": {},
   "outputs": [],
   "source": [
    "fin_df[['median_spend','has_foreign_spend','top1','top2','top3','dates','payment_system']].to_csv('finance_profile.csv', index=False)"
   ]
  },
  {
   "cell_type": "code",
   "execution_count": 54,
   "metadata": {},
   "outputs": [],
   "source": [
    "fin_df['budget'] = trans.groupby('CustomerKey')['AMOUNT_EQ'].sum()"
   ]
  },
  {
   "cell_type": "code",
   "execution_count": 55,
   "metadata": {},
   "outputs": [
    {
     "output_type": "execute_result",
     "data": {
      "text/plain": "             has_foreign_spend  median_spend  \\\nCustomerKey                                    \n52248                    False       965.540   \n65435                    False      4735.000   \n69613                    False       500.000   \n85475                    False       382.000   \n100286                   False       702.000   \n113171                   False       365.000   \n161649                   False       578.070   \n171740                   False       367.000   \n181979                   False       577.275   \n187483                   False       207.000   \n\n                                                       mcc_all  top1  top2  \\\nCustomerKey                                                                  \n52248               [5641, 5641, 5641, 5641, 5641, 5641, 5641]  5641  5641   \n65435        [5411, 6011, 4814, 5411, 5411, 5912, 5912, 601...  6011  5411   \n69613        [5912, 5814, 6011, 7011, 6011, 6011, 4814, 541...  6011  5411   \n85475        [5814, 5814, 5411, 5411, 5411, 5411, 4111, 601...  5411  6011   \n100286       [5411, 5814, 5912, 5411, 6011, 5999, 5399, 539...  5411  5499   \n113171       [5912, 4812, 5200, 5641, 5200, 5211, 5641, 541...  5411  6011   \n161649       [6011, 5411, 5411, 5411, 5411, 5814, 5912, 541...  5411  4121   \n171740       [5814, 5499, 5331, 5814, 5499, 5499, 5499, 549...  5499  5411   \n181979       [5499, 5200, 5411, 5499, 5912, 5814, 6011, 601...  5411  6011   \n187483       [5411, 5411, 5411, 6011, 6011, 6011, 5499, 411...  6011  5816   \n\n             top3     dates payment_system      budget  \nCustomerKey                                             \n52248        5641      July           БСПБ     5796.63  \n65435        5912  November     МИР - НСПК  1239973.42  \n69613        5814   January     MasterCard    59995.43  \n85475        5814    August     MasterCard    70193.00  \n100286       5331       May     МИР - НСПК   547077.74  \n113171       5541  December     MasterCard   407938.75  \n161649       5641      July     MasterCard  1226487.00  \n171740       6011   October     МИР - НСПК   778875.93  \n181979       4814   October     МИР - НСПК   797209.64  \n187483       5499    August     MasterCard   126727.79  ",
      "text/html": "<div>\n<style scoped>\n    .dataframe tbody tr th:only-of-type {\n        vertical-align: middle;\n    }\n\n    .dataframe tbody tr th {\n        vertical-align: top;\n    }\n\n    .dataframe thead th {\n        text-align: right;\n    }\n</style>\n<table border=\"1\" class=\"dataframe\">\n  <thead>\n    <tr style=\"text-align: right;\">\n      <th></th>\n      <th>has_foreign_spend</th>\n      <th>median_spend</th>\n      <th>mcc_all</th>\n      <th>top1</th>\n      <th>top2</th>\n      <th>top3</th>\n      <th>dates</th>\n      <th>payment_system</th>\n      <th>budget</th>\n    </tr>\n    <tr>\n      <th>CustomerKey</th>\n      <th></th>\n      <th></th>\n      <th></th>\n      <th></th>\n      <th></th>\n      <th></th>\n      <th></th>\n      <th></th>\n      <th></th>\n    </tr>\n  </thead>\n  <tbody>\n    <tr>\n      <th>52248</th>\n      <td>False</td>\n      <td>965.540</td>\n      <td>[5641, 5641, 5641, 5641, 5641, 5641, 5641]</td>\n      <td>5641</td>\n      <td>5641</td>\n      <td>5641</td>\n      <td>July</td>\n      <td>БСПБ</td>\n      <td>5796.63</td>\n    </tr>\n    <tr>\n      <th>65435</th>\n      <td>False</td>\n      <td>4735.000</td>\n      <td>[5411, 6011, 4814, 5411, 5411, 5912, 5912, 601...</td>\n      <td>6011</td>\n      <td>5411</td>\n      <td>5912</td>\n      <td>November</td>\n      <td>МИР - НСПК</td>\n      <td>1239973.42</td>\n    </tr>\n    <tr>\n      <th>69613</th>\n      <td>False</td>\n      <td>500.000</td>\n      <td>[5912, 5814, 6011, 7011, 6011, 6011, 4814, 541...</td>\n      <td>6011</td>\n      <td>5411</td>\n      <td>5814</td>\n      <td>January</td>\n      <td>MasterCard</td>\n      <td>59995.43</td>\n    </tr>\n    <tr>\n      <th>85475</th>\n      <td>False</td>\n      <td>382.000</td>\n      <td>[5814, 5814, 5411, 5411, 5411, 5411, 4111, 601...</td>\n      <td>5411</td>\n      <td>6011</td>\n      <td>5814</td>\n      <td>August</td>\n      <td>MasterCard</td>\n      <td>70193.00</td>\n    </tr>\n    <tr>\n      <th>100286</th>\n      <td>False</td>\n      <td>702.000</td>\n      <td>[5411, 5814, 5912, 5411, 6011, 5999, 5399, 539...</td>\n      <td>5411</td>\n      <td>5499</td>\n      <td>5331</td>\n      <td>May</td>\n      <td>МИР - НСПК</td>\n      <td>547077.74</td>\n    </tr>\n    <tr>\n      <th>113171</th>\n      <td>False</td>\n      <td>365.000</td>\n      <td>[5912, 4812, 5200, 5641, 5200, 5211, 5641, 541...</td>\n      <td>5411</td>\n      <td>6011</td>\n      <td>5541</td>\n      <td>December</td>\n      <td>MasterCard</td>\n      <td>407938.75</td>\n    </tr>\n    <tr>\n      <th>161649</th>\n      <td>False</td>\n      <td>578.070</td>\n      <td>[6011, 5411, 5411, 5411, 5411, 5814, 5912, 541...</td>\n      <td>5411</td>\n      <td>4121</td>\n      <td>5641</td>\n      <td>July</td>\n      <td>MasterCard</td>\n      <td>1226487.00</td>\n    </tr>\n    <tr>\n      <th>171740</th>\n      <td>False</td>\n      <td>367.000</td>\n      <td>[5814, 5499, 5331, 5814, 5499, 5499, 5499, 549...</td>\n      <td>5499</td>\n      <td>5411</td>\n      <td>6011</td>\n      <td>October</td>\n      <td>МИР - НСПК</td>\n      <td>778875.93</td>\n    </tr>\n    <tr>\n      <th>181979</th>\n      <td>False</td>\n      <td>577.275</td>\n      <td>[5499, 5200, 5411, 5499, 5912, 5814, 6011, 601...</td>\n      <td>5411</td>\n      <td>6011</td>\n      <td>4814</td>\n      <td>October</td>\n      <td>МИР - НСПК</td>\n      <td>797209.64</td>\n    </tr>\n    <tr>\n      <th>187483</th>\n      <td>False</td>\n      <td>207.000</td>\n      <td>[5411, 5411, 5411, 6011, 6011, 6011, 5499, 411...</td>\n      <td>6011</td>\n      <td>5816</td>\n      <td>5499</td>\n      <td>August</td>\n      <td>MasterCard</td>\n      <td>126727.79</td>\n    </tr>\n  </tbody>\n</table>\n</div>"
     },
     "metadata": {},
     "execution_count": 55
    }
   ],
   "source": [
    "fin_df.head(10)"
   ]
  },
  {
   "cell_type": "code",
   "execution_count": 57,
   "metadata": {},
   "outputs": [],
   "source": [
    "mcc_codes = pd.read_csv('data/mcc-codes.csv')"
   ]
  },
  {
   "cell_type": "code",
   "execution_count": 58,
   "metadata": {},
   "outputs": [],
   "source": [
    "mcc_codes.columns = ['mcc', 'name', 'group']"
   ]
  },
  {
   "cell_type": "code",
   "execution_count": 59,
   "metadata": {},
   "outputs": [
    {
     "output_type": "execute_result",
     "data": {
      "text/plain": "    mcc                                               name               group\n0   763                   Сельскохозяйственные кооперативы  Контрактные услуги\n1   780          Услуги садоводства и ландшафтного дизайна  Контрактные услуги\n2  1520  Генеральные подрядчики ?  жилое и коммерческое...  Контрактные услуги\n3  1711  Генеральные подрядчики по вентиляции, теплосна...  Контрактные услуги\n4  1731                        Подрядчики по электричеству  Контрактные услуги\n5  1740  Изоляция, мозаика, штукатурные работы, каменна...  Контрактные услуги\n6  1750                                   Столярные работы  Контрактные услуги\n7  1761  Кровельные и сайдинговые работы, обработка лис...  Контрактные услуги\n8  1771                          Подрядчики бетонных работ  Контрактные услуги\n9  1799  Контрактные услуги ? нигде более не классифици...  Контрактные услуги",
      "text/html": "<div>\n<style scoped>\n    .dataframe tbody tr th:only-of-type {\n        vertical-align: middle;\n    }\n\n    .dataframe tbody tr th {\n        vertical-align: top;\n    }\n\n    .dataframe thead th {\n        text-align: right;\n    }\n</style>\n<table border=\"1\" class=\"dataframe\">\n  <thead>\n    <tr style=\"text-align: right;\">\n      <th></th>\n      <th>mcc</th>\n      <th>name</th>\n      <th>group</th>\n    </tr>\n  </thead>\n  <tbody>\n    <tr>\n      <th>0</th>\n      <td>763</td>\n      <td>Сельскохозяйственные кооперативы</td>\n      <td>Контрактные услуги</td>\n    </tr>\n    <tr>\n      <th>1</th>\n      <td>780</td>\n      <td>Услуги садоводства и ландшафтного дизайна</td>\n      <td>Контрактные услуги</td>\n    </tr>\n    <tr>\n      <th>2</th>\n      <td>1520</td>\n      <td>Генеральные подрядчики ?  жилое и коммерческое...</td>\n      <td>Контрактные услуги</td>\n    </tr>\n    <tr>\n      <th>3</th>\n      <td>1711</td>\n      <td>Генеральные подрядчики по вентиляции, теплосна...</td>\n      <td>Контрактные услуги</td>\n    </tr>\n    <tr>\n      <th>4</th>\n      <td>1731</td>\n      <td>Подрядчики по электричеству</td>\n      <td>Контрактные услуги</td>\n    </tr>\n    <tr>\n      <th>5</th>\n      <td>1740</td>\n      <td>Изоляция, мозаика, штукатурные работы, каменна...</td>\n      <td>Контрактные услуги</td>\n    </tr>\n    <tr>\n      <th>6</th>\n      <td>1750</td>\n      <td>Столярные работы</td>\n      <td>Контрактные услуги</td>\n    </tr>\n    <tr>\n      <th>7</th>\n      <td>1761</td>\n      <td>Кровельные и сайдинговые работы, обработка лис...</td>\n      <td>Контрактные услуги</td>\n    </tr>\n    <tr>\n      <th>8</th>\n      <td>1771</td>\n      <td>Подрядчики бетонных работ</td>\n      <td>Контрактные услуги</td>\n    </tr>\n    <tr>\n      <th>9</th>\n      <td>1799</td>\n      <td>Контрактные услуги ? нигде более не классифици...</td>\n      <td>Контрактные услуги</td>\n    </tr>\n  </tbody>\n</table>\n</div>"
     },
     "metadata": {},
     "execution_count": 59
    }
   ],
   "source": [
    "mcc_codes.head(10)"
   ]
  }
 ],
 "metadata": {
  "language_info": {
   "codemirror_mode": {
    "name": "ipython",
    "version": 3
   },
   "file_extension": ".py",
   "mimetype": "text/x-python",
   "name": "python",
   "nbconvert_exporter": "python",
   "pygments_lexer": "ipython3",
   "version": "3.6.6-final"
  },
  "orig_nbformat": 2,
  "kernelspec": {
   "name": "python36664bitff322542fddd498cbdaed6c54435a902",
   "display_name": "Python 3.6.6 64-bit"
  }
 },
 "nbformat": 4,
 "nbformat_minor": 2
}