{
 "cells": [
  {
   "cell_type": "code",
   "execution_count": 26,
   "metadata": {},
   "outputs": [],
   "source": [
    "import ipywidgets as widgets\n",
    "import pandas as pd\n",
    "from sklearn.preprocessing import MinMaxScaler\n",
    "import numpy as np\n",
    "from scipy.spatial import distance"
   ]
  },
  {
   "cell_type": "code",
   "execution_count": 37,
   "metadata": {},
   "outputs": [],
   "source": [
    "def get_n_nearest_by_corr(data, columns, number_res=5):\n",
    "    groups = []\n",
    "    for c in columns:\n",
    "        close_ind = data[c+' act'].sort_values(ascending=False).index\n",
    "        close_res = []\n",
    "        for element in close_ind:\n",
    "            if element.split()[-1] == 'res':\n",
    "                close_res.append(element)\n",
    "        groups.append([c]+close_res[0:number_res])\n",
    "    return groups\n",
    "\n",
    "\n",
    "def get_n_nearest_by_dist(data, columns, number_res=5):\n",
    "    groups = []\n",
    "    for c in columns:\n",
    "        close_ind = data[c+' act'].sort_values().index\n",
    "        close_res = []\n",
    "        for element in close_ind:\n",
    "            if element.split()[-1] == 'res':\n",
    "                close_res.append(element)\n",
    "        groups.append([c]+close_res[0:number_res])\n",
    "    return groups"
   ]
  },
  {
   "cell_type": "code",
   "execution_count": 21,
   "metadata": {},
   "outputs": [],
   "source": [
    "df = pd.read_csv('file3_fact.csv')\n",
    "\n",
    "df_empty_column = []\n",
    "for c in df.columns:\n",
    "    if (df[c] == 0).all():\n",
    "        df_empty_column.append(c)\n",
    "\n",
    "\n",
    "columns = [c for c in df.columns.tolist() if c not in df_empty_column]\n",
    "df = df[columns]\n",
    "\n",
    "df = df.astype(float)"
   ]
  },
  {
   "cell_type": "code",
   "execution_count": 22,
   "metadata": {},
   "outputs": [],
   "source": [
    "act = [c for c in df.columns if c.split()[-1]=='act']\n",
    "res = [c for c in df.columns if c.split()[-1]=='res']"
   ]
  },
  {
   "cell_type": "code",
   "execution_count": 23,
   "metadata": {},
   "outputs": [],
   "source": [
    "corr = df.corr('spearman')"
   ]
  },
  {
   "cell_type": "code",
   "execution_count": null,
   "metadata": {},
   "outputs": [],
   "source": [
    "df_normed = pd.DataFrame(data = MinMaxScaler().fit_transform(df.values), columns=df.columns)"
   ]
  },
  {
   "cell_type": "code",
   "execution_count": null,
   "metadata": {},
   "outputs": [],
   "source": [
    "distance_df = pd.DataFrame(data=np.zeros((len(res), len(act))), columns=act)\n",
    "distance_df.index = res"
   ]
  },
  {
   "cell_type": "code",
   "execution_count": null,
   "metadata": {},
   "outputs": [],
   "source": [
    "for c1 in act:\n",
    "    non_emty_act_ind = []\n",
    "    for i in df.index:\n",
    "        if df.loc[i,c1] != 0:\n",
    "            non_emty_act_ind.append(i)\n",
    "    for c2 in res:\n",
    "        distance_df.loc[c2, c1] = distance.euclidean(df_normed.loc[non_emty_act_ind, c1].values, df_normed.loc[non_emty_act_ind, c2].values)\n"
   ]
  },
  {
   "cell_type": "code",
   "execution_count": 38,
   "metadata": {},
   "outputs": [
    {
     "data": {
      "application/vnd.jupyter.widget-view+json": {
       "model_id": "ad6f7f5b66e849fea2b67b27088b295f",
       "version_major": 2,
       "version_minor": 0
      },
      "text/plain": [
       "Dropdown(description='Работа:', options=('Бурение скважин', 'Изготовление металлоконструкицй', 'Изготовление с…"
      ]
     },
     "metadata": {},
     "output_type": "display_data"
    },
    {
     "data": {
      "application/vnd.jupyter.widget-view+json": {
       "model_id": "bc67308b27ec462ca9442ba88e3de357",
       "version_major": 2,
       "version_minor": 0
      },
      "text/plain": [
       "IntSlider(value=7, continuous_update=False, description='Кол-во ближайших ресурсов:', max=10)"
      ]
     },
     "metadata": {},
     "output_type": "display_data"
    },
    {
     "data": {
      "application/vnd.jupyter.widget-view+json": {
       "model_id": "2d19c86245ee4f1697ece140da2e386c",
       "version_major": 2,
       "version_minor": 0
      },
      "text/plain": [
       "Output()"
      ]
     },
     "metadata": {},
     "output_type": "display_data"
    }
   ],
   "source": [
    "w1 = widgets.Dropdown(\n",
    "    options=['Бурение скважин', 'Изготовление металлоконструкицй', 'Изготовление свай', \n",
    "    'Монтаж металлоконструкций', 'Монтаж оголовников свай', 'Монтаж опор', 'Надземная прокладка трубопровода',\n",
    "    'Сварка трубопровода', 'Срезка свай', 'Устройство свайного основания'],\n",
    "    description='Работа:',value='Бурение скважин',\n",
    "    disabled=False)\n",
    "w2 = widgets.IntSlider(\n",
    "    value=7,\n",
    "    min=0,\n",
    "    max=10,\n",
    "    step=1,\n",
    "    description='Кол-во ближайших ресурсов:',\n",
    "    disabled=False,\n",
    "    continuous_update=False,\n",
    "    orientation='horizontal',\n",
    "    readout=True,\n",
    "    readout_format='d'\n",
    ")\n",
    "output = widgets.Output()\n",
    "display(w1, w2, output)\n",
    "def on_value_change(change):\n",
    "    with output:\n",
    "        print(get_n_nearest_by_corr(corr, [w1.value], w2.value))\n",
    "        \n",
    "     \n",
    "\n",
    "w1.observe(on_value_change, names='value')\n",
    "w2.observe(on_value_change, names='value')\n",
    "#widgets.HBox([widgets.VBox([w1, w2])])\n",
    "\n",
    "# act_selected = w1\n",
    "# n_nearest = w2\n",
    "# group1 = get_n_nearest_by_corr(corr, [act_selected], n_nearest)\n",
    "# group2 = get_n_nearest_by_dist(distance_df, [act_selected], n_nearest)\n",
    "\n",
    "# widgets.ToggleButtons(\n",
    "#     options=[str(group1), str(group2)],\n",
    "#     description='Speed:',\n",
    "#     disabled=False,\n",
    "#     button_style='', # 'success', 'info', 'warning', 'danger' or ''\n",
    "#     tooltips=['Description of slow', 'Description of regular', 'Description of fast'],\n",
    "# #     icons=['check'] * 3\n",
    "# )"
   ]
  }
 ],
 "metadata": {
  "interpreter": {
   "hash": "39fa20ea55bc5d7a2dc42170e14aeb88f90d2d70bb3fcd86b7ae5085bbdb4347"
  },
  "kernelspec": {
   "display_name": "Python 3.9.6 64-bit",
   "language": "python",
   "name": "python3"
  },
  "language_info": {
   "codemirror_mode": {
    "name": "ipython",
    "version": 3
   },
   "file_extension": ".py",
   "mimetype": "text/x-python",
   "name": "python",
   "nbconvert_exporter": "python",
   "pygments_lexer": "ipython3",
   "version": "3.9.6"
  },
  "orig_nbformat": 4
 },
 "nbformat": 4,
 "nbformat_minor": 2
}
