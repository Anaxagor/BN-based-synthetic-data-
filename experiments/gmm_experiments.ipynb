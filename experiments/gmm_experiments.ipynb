{
 "metadata": {
  "language_info": {
   "codemirror_mode": {
    "name": "ipython",
    "version": 3
   },
   "file_extension": ".py",
   "mimetype": "text/x-python",
   "name": "python",
   "nbconvert_exporter": "python",
   "pygments_lexer": "ipython3",
   "version": "3.8.8"
  },
  "orig_nbformat": 2,
  "kernelspec": {
   "name": "python388jvsc74a57bd00110e3ad3d2995649b9eed0505b86961f21d80e4cfa55b9dc2096312fa84aa23",
   "display_name": "Python 3.8.8 64-bit"
  },
  "metadata": {
   "interpreter": {
    "hash": "0110e3ad3d2995649b9eed0505b86961f21d80e4cfa55b9dc2096312fa84aa23"
   }
  }
 },
 "nbformat": 4,
 "nbformat_minor": 2,
 "cells": [
  {
   "cell_type": "code",
   "execution_count": 1,
   "metadata": {},
   "outputs": [],
   "source": [
    "import os,sys,inspect\n",
    "currentdir = os.path.dirname(os.path.abspath(inspect.getfile(inspect.currentframe())))\n",
    "parentdir = os.path.dirname(currentdir)\n",
    "sys.path.insert(0,parentdir) "
   ]
  },
  {
   "cell_type": "code",
   "execution_count": 2,
   "metadata": {},
   "outputs": [],
   "source": [
    "import pandas as pd\n",
    "import numpy as np\n",
    "from bayesian.train_bn import structure_learning, parameter_learning, parameter_learning_mix\n",
    "from preprocess.discretization import get_nodes_type, discretization, inverse_discretization, code_categories, get_nodes_sign\n",
    "from bayesian.save_bn import save_structure, save_params, read_structure, read_params\n",
    "from bayesian.sampling import generate_synthetics\n",
    "from external.libpgm.hybayesiannetwork import HyBayesianNetwork\n",
    "from visualization.visualization import draw_BN\n",
    "from bayesian.calculate_accuracy import calculate_acc\n",
    "import seaborn as sns\n",
    "import matplotlib.pyplot as plt\n",
    "from scipy import stats\n",
    "from copy import copy\n",
    "from external.libpgm.sampleaggregator import SampleAggregator\n",
    "import operator\n",
    "from sklearn.metrics import accuracy_score, mean_squared_error\n",
    "from scipy import stats\n",
    "from scipy.stats import multivariate_normal\n",
    "from sklearn.mixture import GaussianMixture\n",
    "import math\n",
    "from pomegranate import DiscreteDistribution\n",
    "import random\n",
    "from sklearn.model_selection import train_test_split"
   ]
  },
  {
   "cell_type": "code",
   "execution_count": 3,
   "metadata": {},
   "outputs": [],
   "source": [
    "geo = geo = pd.read_csv('../data/hackathon_processed.csv')\n",
    "columns = ['Tectonic regime', 'Period', 'Lithology', 'Structural setting', 'Hydrocarbon type', 'Gross','Netpay','Porosity','Permeability', 'Depth']\n",
    "geo = geo[columns]\n",
    "geo.dropna(inplace=True)\n",
    "geo.reset_index(inplace=True, drop=True)"
   ]
  },
  {
   "cell_type": "code",
   "execution_count": 4,
   "metadata": {},
   "outputs": [
    {
     "output_type": "execute_result",
     "data": {
      "text/plain": [
       "{'Tectonic regime': 'disc',\n",
       " 'Period': 'disc',\n",
       " 'Lithology': 'disc',\n",
       " 'Structural setting': 'disc',\n",
       " 'Hydrocarbon type': 'disc',\n",
       " 'Gross': 'cont',\n",
       " 'Netpay': 'cont',\n",
       " 'Porosity': 'cont',\n",
       " 'Permeability': 'cont',\n",
       " 'Depth': 'cont'}"
      ]
     },
     "metadata": {},
     "execution_count": 4
    }
   ],
   "source": [
    "geo_types = get_nodes_type(geo)\n",
    "geo_types"
   ]
  },
  {
   "cell_type": "code",
   "execution_count": 5,
   "metadata": {},
   "outputs": [
    {
     "output_type": "execute_result",
     "data": {
      "text/plain": [
       "{'Gross': 'pos',\n",
       " 'Netpay': 'pos',\n",
       " 'Porosity': 'pos',\n",
       " 'Permeability': 'pos',\n",
       " 'Depth': 'pos'}"
      ]
     },
     "metadata": {},
     "execution_count": 5
    }
   ],
   "source": [
    "geo_signs = get_nodes_sign(geo)\n",
    "geo_signs"
   ]
  },
  {
   "cell_type": "code",
   "execution_count": 6,
   "metadata": {},
   "outputs": [],
   "source": [
    "colums_for_code = []\n",
    "columns_for_disc = []\n",
    "for c in columns:\n",
    "    if geo_types[c] == 'disc':\n",
    "        colums_for_code.append(c)\n",
    "    else:\n",
    "        columns_for_disc.append(c)"
   ]
  },
  {
   "cell_type": "code",
   "execution_count": 8,
   "metadata": {},
   "outputs": [],
   "source": [
    "geo_coded, label_coder = code_categories(geo, 'label', colums_for_code)\n",
    "geo_discrete, coder = discretization(geo_coded, 'equal_frequency', columns_for_disc)\n",
    "geo_only_discrete, discrete_coder = discretization(geo, 'equal_frequency', columns_for_disc)"
   ]
  },
  {
   "cell_type": "code",
   "execution_count": 13,
   "metadata": {},
   "outputs": [
    {
     "output_type": "stream",
     "name": "stderr",
     "text": [
      "  0%|          | 11/1000000 [00:01<41:30:46,  6.69it/s]\n"
     ]
    }
   ],
   "source": [
    "bn = structure_learning(geo_discrete, 'HC', geo_types, 'K2')\n",
    "param = parameter_learning(geo, geo_types, bn)"
   ]
  },
  {
   "cell_type": "code",
   "execution_count": 14,
   "metadata": {},
   "outputs": [],
   "source": [
    "save_structure(bn, 'full_net')\n",
    "skel = read_structure('full_net')\n",
    "save_params(param, 'full_net_param')\n",
    "params = read_params('full_net_param')\n",
    "full = HyBayesianNetwork(skel, params)"
   ]
  },
  {
   "cell_type": "code",
   "execution_count": 15,
   "metadata": {},
   "outputs": [],
   "source": [
    "sample = generate_synthetics(full, geo_signs)"
   ]
  },
  {
   "cell_type": "code",
   "execution_count": 16,
   "metadata": {},
   "outputs": [
    {
     "output_type": "execute_result",
     "data": {
      "text/plain": [
       "    Hydrocarbon type  Lithology Tectonic regime Structural setting  \\\n",
       "0                OIL  SANDSTONE       INVERSION          INVERSION   \n",
       "1                OIL   DOLOMITE     COMPRESSION      INTRACRATONIC   \n",
       "2                OIL  SANDSTONE       INVERSION           SUB-SALT   \n",
       "3                OIL  SANDSTONE       INVERSION          INVERSION   \n",
       "4                OIL  SANDSTONE     COMPRESSION           FORELAND   \n",
       "..               ...        ...             ...                ...   \n",
       "995              OIL  SANDSTONE       INVERSION          INVERSION   \n",
       "996              OIL  SANDSTONE       EXTENSION     PASSIVE MARGIN   \n",
       "997              OIL  SANDSTONE     COMPRESSION               SALT   \n",
       "998   GAS-CONDENSATE  LIMESTONE     COMPRESSION      INTRACRATONIC   \n",
       "999   GAS-CONDENSATE  SANDSTONE       EXTENSION               RIFT   \n",
       "\n",
       "            Period   Porosity  Permeability        Depth        Gross  \\\n",
       "0          NEOGENE  25.358711   1210.441529  1603.860675  2505.018558   \n",
       "1    CARBONIFEROUS  15.142450    314.009127     4.665801    44.862402   \n",
       "2          PERMIAN  10.446009   1888.011576  3310.394888   111.846804   \n",
       "3         JURASSIC  25.234426    737.598331  1452.639398   276.000000   \n",
       "4    CARBONIFEROUS  16.857232   1250.959425   875.526854    57.260493   \n",
       "..             ...        ...           ...          ...          ...   \n",
       "995        NEOGENE  26.959299   1716.617363   441.010063  1703.891627   \n",
       "996      PALEOGENE  21.411637    164.356235   725.630744   639.900000   \n",
       "997       JURASSIC  14.189824     60.130537  4603.330343   242.514863   \n",
       "998       JURASSIC  14.273777    145.048486  1419.161734    22.500000   \n",
       "999      PALEOGENE  23.802913   1849.767655  2618.799759   446.974930   \n",
       "\n",
       "         Netpay  \n",
       "0    391.321764  \n",
       "1    113.866799  \n",
       "2     68.818743  \n",
       "3     77.186374  \n",
       "4     50.031014  \n",
       "..          ...  \n",
       "995  194.075604  \n",
       "996  123.032237  \n",
       "997   13.617499  \n",
       "998   42.518737  \n",
       "999  122.861133  \n",
       "\n",
       "[1000 rows x 10 columns]"
      ],
      "text/html": "<div>\n<style scoped>\n    .dataframe tbody tr th:only-of-type {\n        vertical-align: middle;\n    }\n\n    .dataframe tbody tr th {\n        vertical-align: top;\n    }\n\n    .dataframe thead th {\n        text-align: right;\n    }\n</style>\n<table border=\"1\" class=\"dataframe\">\n  <thead>\n    <tr style=\"text-align: right;\">\n      <th></th>\n      <th>Hydrocarbon type</th>\n      <th>Lithology</th>\n      <th>Tectonic regime</th>\n      <th>Structural setting</th>\n      <th>Period</th>\n      <th>Porosity</th>\n      <th>Permeability</th>\n      <th>Depth</th>\n      <th>Gross</th>\n      <th>Netpay</th>\n    </tr>\n  </thead>\n  <tbody>\n    <tr>\n      <th>0</th>\n      <td>OIL</td>\n      <td>SANDSTONE</td>\n      <td>INVERSION</td>\n      <td>INVERSION</td>\n      <td>NEOGENE</td>\n      <td>25.358711</td>\n      <td>1210.441529</td>\n      <td>1603.860675</td>\n      <td>2505.018558</td>\n      <td>391.321764</td>\n    </tr>\n    <tr>\n      <th>1</th>\n      <td>OIL</td>\n      <td>DOLOMITE</td>\n      <td>COMPRESSION</td>\n      <td>INTRACRATONIC</td>\n      <td>CARBONIFEROUS</td>\n      <td>15.142450</td>\n      <td>314.009127</td>\n      <td>4.665801</td>\n      <td>44.862402</td>\n      <td>113.866799</td>\n    </tr>\n    <tr>\n      <th>2</th>\n      <td>OIL</td>\n      <td>SANDSTONE</td>\n      <td>INVERSION</td>\n      <td>SUB-SALT</td>\n      <td>PERMIAN</td>\n      <td>10.446009</td>\n      <td>1888.011576</td>\n      <td>3310.394888</td>\n      <td>111.846804</td>\n      <td>68.818743</td>\n    </tr>\n    <tr>\n      <th>3</th>\n      <td>OIL</td>\n      <td>SANDSTONE</td>\n      <td>INVERSION</td>\n      <td>INVERSION</td>\n      <td>JURASSIC</td>\n      <td>25.234426</td>\n      <td>737.598331</td>\n      <td>1452.639398</td>\n      <td>276.000000</td>\n      <td>77.186374</td>\n    </tr>\n    <tr>\n      <th>4</th>\n      <td>OIL</td>\n      <td>SANDSTONE</td>\n      <td>COMPRESSION</td>\n      <td>FORELAND</td>\n      <td>CARBONIFEROUS</td>\n      <td>16.857232</td>\n      <td>1250.959425</td>\n      <td>875.526854</td>\n      <td>57.260493</td>\n      <td>50.031014</td>\n    </tr>\n    <tr>\n      <th>...</th>\n      <td>...</td>\n      <td>...</td>\n      <td>...</td>\n      <td>...</td>\n      <td>...</td>\n      <td>...</td>\n      <td>...</td>\n      <td>...</td>\n      <td>...</td>\n      <td>...</td>\n    </tr>\n    <tr>\n      <th>995</th>\n      <td>OIL</td>\n      <td>SANDSTONE</td>\n      <td>INVERSION</td>\n      <td>INVERSION</td>\n      <td>NEOGENE</td>\n      <td>26.959299</td>\n      <td>1716.617363</td>\n      <td>441.010063</td>\n      <td>1703.891627</td>\n      <td>194.075604</td>\n    </tr>\n    <tr>\n      <th>996</th>\n      <td>OIL</td>\n      <td>SANDSTONE</td>\n      <td>EXTENSION</td>\n      <td>PASSIVE MARGIN</td>\n      <td>PALEOGENE</td>\n      <td>21.411637</td>\n      <td>164.356235</td>\n      <td>725.630744</td>\n      <td>639.900000</td>\n      <td>123.032237</td>\n    </tr>\n    <tr>\n      <th>997</th>\n      <td>OIL</td>\n      <td>SANDSTONE</td>\n      <td>COMPRESSION</td>\n      <td>SALT</td>\n      <td>JURASSIC</td>\n      <td>14.189824</td>\n      <td>60.130537</td>\n      <td>4603.330343</td>\n      <td>242.514863</td>\n      <td>13.617499</td>\n    </tr>\n    <tr>\n      <th>998</th>\n      <td>GAS-CONDENSATE</td>\n      <td>LIMESTONE</td>\n      <td>COMPRESSION</td>\n      <td>INTRACRATONIC</td>\n      <td>JURASSIC</td>\n      <td>14.273777</td>\n      <td>145.048486</td>\n      <td>1419.161734</td>\n      <td>22.500000</td>\n      <td>42.518737</td>\n    </tr>\n    <tr>\n      <th>999</th>\n      <td>GAS-CONDENSATE</td>\n      <td>SANDSTONE</td>\n      <td>EXTENSION</td>\n      <td>RIFT</td>\n      <td>PALEOGENE</td>\n      <td>23.802913</td>\n      <td>1849.767655</td>\n      <td>2618.799759</td>\n      <td>446.974930</td>\n      <td>122.861133</td>\n    </tr>\n  </tbody>\n</table>\n<p>1000 rows × 10 columns</p>\n</div>"
     },
     "metadata": {},
     "execution_count": 16
    }
   ],
   "source": [
    "sample"
   ]
  }
 ]
}