{
 "metadata": {
  "language_info": {
   "codemirror_mode": {
    "name": "ipython",
    "version": 3
   },
   "file_extension": ".py",
   "mimetype": "text/x-python",
   "name": "python",
   "nbconvert_exporter": "python",
   "pygments_lexer": "ipython3",
   "version": "3.8.8"
  },
  "orig_nbformat": 4,
  "kernelspec": {
   "name": "python3",
   "display_name": "Python 3.8.8 64-bit"
  },
  "interpreter": {
   "hash": "0110e3ad3d2995649b9eed0505b86961f21d80e4cfa55b9dc2096312fa84aa23"
  }
 },
 "nbformat": 4,
 "nbformat_minor": 2,
 "cells": [
  {
   "cell_type": "code",
   "execution_count": 13,
   "metadata": {},
   "outputs": [],
   "source": [
    "import os,sys,inspect\n",
    "currentdir = os.path.dirname(os.path.abspath(inspect.getfile(inspect.currentframe())))\n",
    "parentdir = os.path.dirname(currentdir)\n",
    "sys.path.insert(0,parentdir) "
   ]
  },
  {
   "cell_type": "code",
   "execution_count": 14,
   "metadata": {},
   "outputs": [],
   "source": [
    "import pandas as pd\n",
    "from bayesian.train_bn import structure_learning\n",
    "from preprocess.discretization import get_nodes_type, discretization, code_categories\n",
    "from scipy import stats\n",
    "import math\n",
    "import random\n",
    "from graph.precision_recall import precision_recall\n",
    "import time"
   ]
  },
  {
   "cell_type": "code",
   "execution_count": 15,
   "metadata": {},
   "outputs": [],
   "source": [
    "geo = pd.read_csv('../data/sangiovese.csv')\n",
    "columns = geo.columns.tolist()\n",
    "geo.dropna(inplace=True)\n",
    "geo.reset_index(inplace=True, drop=True)"
   ]
  },
  {
   "cell_type": "code",
   "execution_count": 16,
   "metadata": {},
   "outputs": [
    {
     "output_type": "execute_result",
     "data": {
      "text/plain": [
       "['Treatment',\n",
       " 'SproutN',\n",
       " 'BunchN',\n",
       " 'GrapeW',\n",
       " 'WoodW',\n",
       " 'SPAD06',\n",
       " 'NDVI06',\n",
       " 'SPAD08',\n",
       " 'NDVI08',\n",
       " 'Acid',\n",
       " 'Potass',\n",
       " 'Brix',\n",
       " 'pH',\n",
       " 'Anthoc',\n",
       " 'Polyph']"
      ]
     },
     "metadata": {},
     "execution_count": 16
    }
   ],
   "source": [
    "columns"
   ]
  },
  {
   "cell_type": "code",
   "execution_count": 17,
   "metadata": {},
   "outputs": [
    {
     "output_type": "execute_result",
     "data": {
      "text/plain": [
       "{'Treatment': 'disc',\n",
       " 'SproutN': 'cont',\n",
       " 'BunchN': 'cont',\n",
       " 'GrapeW': 'cont',\n",
       " 'WoodW': 'cont',\n",
       " 'SPAD06': 'cont',\n",
       " 'NDVI06': 'cont',\n",
       " 'SPAD08': 'cont',\n",
       " 'NDVI08': 'cont',\n",
       " 'Acid': 'cont',\n",
       " 'Potass': 'cont',\n",
       " 'Brix': 'cont',\n",
       " 'pH': 'cont',\n",
       " 'Anthoc': 'cont',\n",
       " 'Polyph': 'cont'}"
      ]
     },
     "metadata": {},
     "execution_count": 17
    }
   ],
   "source": [
    "geo_types = get_nodes_type(geo)\n",
    "geo_types"
   ]
  },
  {
   "cell_type": "code",
   "execution_count": 18,
   "metadata": {},
   "outputs": [],
   "source": [
    "colums_for_code = []\n",
    "columns_for_disc = []\n",
    "for c in columns:\n",
    "    if geo_types[c] == 'disc':\n",
    "        colums_for_code.append(c)\n",
    "    else:\n",
    "        columns_for_disc.append(c)"
   ]
  },
  {
   "cell_type": "code",
   "execution_count": 19,
   "metadata": {},
   "outputs": [],
   "source": [
    "geo_coded, label_coder = code_categories(geo, 'label', colums_for_code)\n",
    "geo_discrete, coder = discretization(geo_coded, 'equal_frequency', columns_for_disc)"
   ]
  },
  {
   "cell_type": "code",
   "execution_count": 20,
   "metadata": {},
   "outputs": [],
   "source": [
    "geo_discrete.to_csv('sangiovese_discrete.csv', index=False)"
   ]
  }
 ]
}