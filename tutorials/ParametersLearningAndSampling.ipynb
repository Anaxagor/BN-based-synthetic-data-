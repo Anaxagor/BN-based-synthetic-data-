{
 "cells": [
  {
   "cell_type": "markdown",
   "id": "56ed4960",
   "metadata": {},
   "source": [
    "# Structure Learning"
   ]
  },
  {
   "cell_type": "markdown",
   "id": "07f54873",
   "metadata": {},
   "source": [
    "## Set sys vars"
   ]
  },
  {
   "cell_type": "code",
   "execution_count": 1,
   "id": "586d5a5c",
   "metadata": {},
   "outputs": [
    {
     "name": "stdout",
     "output_type": "stream",
     "text": [
      "['C:\\\\Users\\\\Roman\\\\Desktop\\\\GitBamt\\\\BAMT', 'C:\\\\Users\\\\Roman\\\\Desktop\\\\GitBamt', 'C:\\\\Users\\\\Roman\\\\Desktop\\\\GitBamt\\\\BAMT\\\\tutorials']\n"
     ]
    }
   ],
   "source": [
    "import os,sys\n",
    "from pathlib import Path\n",
    "currentdir = Path(os.getcwd())\n",
    "sys.path.insert(0, os.path.dirname(currentdir.parent))\n",
    "sys.path.insert(0, os.path.dirname(currentdir))\n",
    "print(str(sys.path[0:3]))"
   ]
  },
  {
   "cell_type": "markdown",
   "id": "4a03825f",
   "metadata": {},
   "source": [
    "## Import modules"
   ]
  },
  {
   "cell_type": "code",
   "execution_count": 2,
   "id": "49a7aca5",
   "metadata": {},
   "outputs": [
    {
     "name": "stdout",
     "output_type": "stream",
     "text": [
      "Wall time: 5.7 s\n"
     ]
    }
   ],
   "source": [
    "%%time\n",
    "%matplotlib inline\n",
    "import BAMT.Networks as Nets\n",
    "import BAMT.Preprocessors as pp\n",
    "\n",
    "import pandas as pd\n",
    "import numpy as np\n",
    "from sklearn import preprocessing\n",
    "import matplotlib.pyplot as plt"
   ]
  },
  {
   "cell_type": "markdown",
   "id": "d7c5159c",
   "metadata": {},
   "source": [
    "## Preprocessing"
   ]
  },
  {
   "cell_type": "code",
   "execution_count": 3,
   "id": "2bf54179",
   "metadata": {},
   "outputs": [],
   "source": [
    "hack = pd.read_csv(r'../Data/hack_processed_with_rf.csv')"
   ]
  },
  {
   "cell_type": "code",
   "execution_count": 4,
   "id": "9d92e3ef",
   "metadata": {},
   "outputs": [],
   "source": [
    "cols = ['Tectonic regime', 'Period', 'Lithology', 'Structural setting', 'Gross','Netpay','Porosity','Permeability', 'Depth']\n",
    "hack = hack[cols]"
   ]
  },
  {
   "cell_type": "code",
   "execution_count": 5,
   "id": "9fa1fd46",
   "metadata": {},
   "outputs": [],
   "source": [
    "encoder = preprocessing.LabelEncoder()\n",
    "discretizer = preprocessing.KBinsDiscretizer(n_bins=5, encode='ordinal', strategy='quantile')\n",
    "\n",
    "p = pp.Preprocessor([('encoder', encoder), ('discretizer', discretizer)])\n",
    "discretized_data, est = p.apply(hack)"
   ]
  },
  {
   "cell_type": "markdown",
   "id": "c2b24921",
   "metadata": {},
   "source": [
    "## Initializing Bayessian Network"
   ]
  },
  {
   "cell_type": "markdown",
   "id": "5dc03911",
   "metadata": {},
   "source": [
    "<p> There are 3 type of Bayessian Networks - DiscreteBN, ContinuousBN, HybridBN. <br>\n",
    "Note that if you pass discrete data to Continoust BN, you get an error.<br><br>\n",
    "For ContinousBN user can choose whether use mixture nodes or not, for Hybrid user can restrict/allow using logit/mixture nodes.<p> "
   ]
  },
  {
   "cell_type": "code",
   "execution_count": 6,
   "id": "0d227a5b",
   "metadata": {},
   "outputs": [],
   "source": [
    "bn = Nets.HybridBN(has_logit=True, use_mixture=True) # init BN\n",
    "info = p.info # map for nodes (Dict[\"types\": Dict[node_name: type], \"signs\": Dict[node_name: sign]])"
   ]
  },
  {
   "cell_type": "code",
   "execution_count": 7,
   "id": "1050cc44",
   "metadata": {},
   "outputs": [],
   "source": [
    "from sklearn.tree import DecisionTreeClassifier\n",
    "bn.add_nodes(info)\n",
    "bn.add_edges(discretized_data, scoring_function=('MI',)) # use mutual information sf implemented in BAMT"
   ]
  },
  {
   "cell_type": "code",
   "execution_count": 8,
   "id": "febe125e",
   "metadata": {},
   "outputs": [
    {
     "data": {
      "text/html": [
       "<div>\n",
       "<style scoped>\n",
       "    .dataframe tbody tr th:only-of-type {\n",
       "        vertical-align: middle;\n",
       "    }\n",
       "\n",
       "    .dataframe tbody tr th {\n",
       "        vertical-align: top;\n",
       "    }\n",
       "\n",
       "    .dataframe thead th {\n",
       "        text-align: right;\n",
       "    }\n",
       "</style>\n",
       "<table border=\"1\" class=\"dataframe\">\n",
       "  <thead>\n",
       "    <tr style=\"text-align: right;\">\n",
       "      <th></th>\n",
       "      <th>name</th>\n",
       "      <th>node_type</th>\n",
       "      <th>data_type</th>\n",
       "      <th>parents</th>\n",
       "      <th>parents_types</th>\n",
       "    </tr>\n",
       "  </thead>\n",
       "  <tbody>\n",
       "    <tr>\n",
       "      <th>0</th>\n",
       "      <td>Tectonic regime</td>\n",
       "      <td>Discrete</td>\n",
       "      <td>disc</td>\n",
       "      <td>[]</td>\n",
       "      <td>[]</td>\n",
       "    </tr>\n",
       "    <tr>\n",
       "      <th>1</th>\n",
       "      <td>Period</td>\n",
       "      <td>ConditionalLogit (LogisticRegression)</td>\n",
       "      <td>disc</td>\n",
       "      <td>[Depth, Structural setting, Lithology]</td>\n",
       "      <td>[cont, disc, disc]</td>\n",
       "    </tr>\n",
       "    <tr>\n",
       "      <th>2</th>\n",
       "      <td>Lithology</td>\n",
       "      <td>ConditionalLogit (LogisticRegression)</td>\n",
       "      <td>disc</td>\n",
       "      <td>[Netpay, Structural setting]</td>\n",
       "      <td>[cont, disc]</td>\n",
       "    </tr>\n",
       "    <tr>\n",
       "      <th>3</th>\n",
       "      <td>Structural setting</td>\n",
       "      <td>Logit (LogisticRegression)</td>\n",
       "      <td>disc</td>\n",
       "      <td>[Permeability]</td>\n",
       "      <td>[cont]</td>\n",
       "    </tr>\n",
       "    <tr>\n",
       "      <th>4</th>\n",
       "      <td>Gross</td>\n",
       "      <td>MixtureGaussian</td>\n",
       "      <td>cont</td>\n",
       "      <td>[Porosity]</td>\n",
       "      <td>[cont]</td>\n",
       "    </tr>\n",
       "    <tr>\n",
       "      <th>5</th>\n",
       "      <td>Netpay</td>\n",
       "      <td>MixtureGaussian</td>\n",
       "      <td>cont</td>\n",
       "      <td>[Permeability]</td>\n",
       "      <td>[cont]</td>\n",
       "    </tr>\n",
       "    <tr>\n",
       "      <th>6</th>\n",
       "      <td>Porosity</td>\n",
       "      <td>ConditionalMixtureGaussian</td>\n",
       "      <td>cont</td>\n",
       "      <td>[Tectonic regime]</td>\n",
       "      <td>[disc]</td>\n",
       "    </tr>\n",
       "    <tr>\n",
       "      <th>7</th>\n",
       "      <td>Permeability</td>\n",
       "      <td>MixtureGaussian</td>\n",
       "      <td>cont</td>\n",
       "      <td>[Gross]</td>\n",
       "      <td>[cont]</td>\n",
       "    </tr>\n",
       "    <tr>\n",
       "      <th>8</th>\n",
       "      <td>Depth</td>\n",
       "      <td>MixtureGaussian</td>\n",
       "      <td>cont</td>\n",
       "      <td>[Gross]</td>\n",
       "      <td>[cont]</td>\n",
       "    </tr>\n",
       "  </tbody>\n",
       "</table>\n",
       "</div>"
      ],
      "text/plain": [
       "                 name                              node_type data_type  \\\n",
       "0     Tectonic regime                               Discrete      disc   \n",
       "1              Period  ConditionalLogit (LogisticRegression)      disc   \n",
       "2           Lithology  ConditionalLogit (LogisticRegression)      disc   \n",
       "3  Structural setting             Logit (LogisticRegression)      disc   \n",
       "4               Gross                        MixtureGaussian      cont   \n",
       "5              Netpay                        MixtureGaussian      cont   \n",
       "6            Porosity             ConditionalMixtureGaussian      cont   \n",
       "7        Permeability                        MixtureGaussian      cont   \n",
       "8               Depth                        MixtureGaussian      cont   \n",
       "\n",
       "                                  parents       parents_types  \n",
       "0                                      []                  []  \n",
       "1  [Depth, Structural setting, Lithology]  [cont, disc, disc]  \n",
       "2            [Netpay, Structural setting]        [cont, disc]  \n",
       "3                          [Permeability]              [cont]  \n",
       "4                              [Porosity]              [cont]  \n",
       "5                          [Permeability]              [cont]  \n",
       "6                       [Tectonic regime]              [disc]  \n",
       "7                                 [Gross]              [cont]  \n",
       "8                                 [Gross]              [cont]  "
      ]
     },
     "execution_count": 8,
     "metadata": {},
     "output_type": "execute_result"
    }
   ],
   "source": [
    "bn.get_info()"
   ]
  },
  {
   "cell_type": "code",
   "execution_count": 9,
   "id": "29010a77",
   "metadata": {},
   "outputs": [
    {
     "data": {
      "text/html": [
       "<div>\n",
       "<style scoped>\n",
       "    .dataframe tbody tr th:only-of-type {\n",
       "        vertical-align: middle;\n",
       "    }\n",
       "\n",
       "    .dataframe tbody tr th {\n",
       "        vertical-align: top;\n",
       "    }\n",
       "\n",
       "    .dataframe thead th {\n",
       "        text-align: right;\n",
       "    }\n",
       "</style>\n",
       "<table border=\"1\" class=\"dataframe\">\n",
       "  <thead>\n",
       "    <tr style=\"text-align: right;\">\n",
       "      <th></th>\n",
       "      <th>name</th>\n",
       "      <th>node_type</th>\n",
       "      <th>data_type</th>\n",
       "      <th>parents</th>\n",
       "      <th>parents_types</th>\n",
       "    </tr>\n",
       "  </thead>\n",
       "  <tbody>\n",
       "    <tr>\n",
       "      <th>0</th>\n",
       "      <td>Tectonic regime</td>\n",
       "      <td>Discrete</td>\n",
       "      <td>disc</td>\n",
       "      <td>[]</td>\n",
       "      <td>[]</td>\n",
       "    </tr>\n",
       "    <tr>\n",
       "      <th>1</th>\n",
       "      <td>Period</td>\n",
       "      <td>ConditionalLogit (LogisticRegression)</td>\n",
       "      <td>disc</td>\n",
       "      <td>[Depth, Structural setting, Lithology]</td>\n",
       "      <td>[cont, disc, disc]</td>\n",
       "    </tr>\n",
       "    <tr>\n",
       "      <th>2</th>\n",
       "      <td>Lithology</td>\n",
       "      <td>ConditionalLogit (LogisticRegression)</td>\n",
       "      <td>disc</td>\n",
       "      <td>[Netpay, Structural setting]</td>\n",
       "      <td>[cont, disc]</td>\n",
       "    </tr>\n",
       "    <tr>\n",
       "      <th>3</th>\n",
       "      <td>Structural setting</td>\n",
       "      <td>Logit (DecisionTreeClassifier)</td>\n",
       "      <td>disc</td>\n",
       "      <td>[Permeability]</td>\n",
       "      <td>[cont]</td>\n",
       "    </tr>\n",
       "    <tr>\n",
       "      <th>4</th>\n",
       "      <td>Gross</td>\n",
       "      <td>MixtureGaussian</td>\n",
       "      <td>cont</td>\n",
       "      <td>[Porosity]</td>\n",
       "      <td>[cont]</td>\n",
       "    </tr>\n",
       "    <tr>\n",
       "      <th>5</th>\n",
       "      <td>Netpay</td>\n",
       "      <td>MixtureGaussian</td>\n",
       "      <td>cont</td>\n",
       "      <td>[Permeability]</td>\n",
       "      <td>[cont]</td>\n",
       "    </tr>\n",
       "    <tr>\n",
       "      <th>6</th>\n",
       "      <td>Porosity</td>\n",
       "      <td>ConditionalMixtureGaussian</td>\n",
       "      <td>cont</td>\n",
       "      <td>[Tectonic regime]</td>\n",
       "      <td>[disc]</td>\n",
       "    </tr>\n",
       "    <tr>\n",
       "      <th>7</th>\n",
       "      <td>Permeability</td>\n",
       "      <td>MixtureGaussian</td>\n",
       "      <td>cont</td>\n",
       "      <td>[Gross]</td>\n",
       "      <td>[cont]</td>\n",
       "    </tr>\n",
       "    <tr>\n",
       "      <th>8</th>\n",
       "      <td>Depth</td>\n",
       "      <td>MixtureGaussian</td>\n",
       "      <td>cont</td>\n",
       "      <td>[Gross]</td>\n",
       "      <td>[cont]</td>\n",
       "    </tr>\n",
       "  </tbody>\n",
       "</table>\n",
       "</div>"
      ],
      "text/plain": [
       "                 name                              node_type data_type  \\\n",
       "0     Tectonic regime                               Discrete      disc   \n",
       "1              Period  ConditionalLogit (LogisticRegression)      disc   \n",
       "2           Lithology  ConditionalLogit (LogisticRegression)      disc   \n",
       "3  Structural setting         Logit (DecisionTreeClassifier)      disc   \n",
       "4               Gross                        MixtureGaussian      cont   \n",
       "5              Netpay                        MixtureGaussian      cont   \n",
       "6            Porosity             ConditionalMixtureGaussian      cont   \n",
       "7        Permeability                        MixtureGaussian      cont   \n",
       "8               Depth                        MixtureGaussian      cont   \n",
       "\n",
       "                                  parents       parents_types  \n",
       "0                                      []                  []  \n",
       "1  [Depth, Structural setting, Lithology]  [cont, disc, disc]  \n",
       "2            [Netpay, Structural setting]        [cont, disc]  \n",
       "3                          [Permeability]              [cont]  \n",
       "4                              [Porosity]              [cont]  \n",
       "5                          [Permeability]              [cont]  \n",
       "6                       [Tectonic regime]              [disc]  \n",
       "7                                 [Gross]              [cont]  \n",
       "8                                 [Gross]              [cont]  "
      ]
     },
     "execution_count": 9,
     "metadata": {},
     "output_type": "execute_result"
    }
   ],
   "source": [
    "bn.set_classifiers(classifiers={'Structural setting': DecisionTreeClassifier()})\n",
    "bn.get_info()"
   ]
  },
  {
   "cell_type": "code",
   "execution_count": 10,
   "id": "b4a2b8df",
   "metadata": {},
   "outputs": [
    {
     "name": "stdout",
     "output_type": "stream",
     "text": [
      "2022-01-28 16:41:39,657 | ERROR    | Networks.py-plot-0320 | This version allows only html format.\n"
     ]
    }
   ],
   "source": [
    "bn.plot('Test1')"
   ]
  },
  {
   "cell_type": "code",
   "execution_count": 11,
   "id": "568118ae",
   "metadata": {},
   "outputs": [
    {
     "data": {
      "text/html": [
       "\n",
       "        <iframe\n",
       "            width=\"100%\"\n",
       "            height=\"800px\"\n",
       "            src=\"visualization_result/Simple.html\"\n",
       "            frameborder=\"0\"\n",
       "            allowfullscreen\n",
       "        ></iframe>\n",
       "        "
      ],
      "text/plain": [
       "<IPython.lib.display.IFrame at 0x1cf474ed8b0>"
      ]
     },
     "execution_count": 11,
     "metadata": {},
     "output_type": "execute_result"
    }
   ],
   "source": [
    "# Now let's plot graph\n",
    "bn.plot('Simple.html')"
   ]
  },
  {
   "cell_type": "markdown",
   "id": "e6165aed",
   "metadata": {},
   "source": [
    "## Parameters in structure learning"
   ]
  },
  {
   "cell_type": "markdown",
   "id": "99c66cad",
   "metadata": {},
   "source": [
    "<p> There are 4 parameters user can tune: init_nodes, init_edges, white_list, remove_init_edges. <p>"
   ]
  },
  {
   "cell_type": "markdown",
   "id": "03e6e976",
   "metadata": {},
   "source": [
    "### Init_nodes"
   ]
  },
  {
   "cell_type": "markdown",
   "id": "ab0a27f5",
   "metadata": {},
   "source": [
    "This one defines root nodes (thus they haven't parents at all)."
   ]
  },
  {
   "cell_type": "code",
   "execution_count": 12,
   "id": "fd32ef4b",
   "metadata": {},
   "outputs": [
    {
     "name": "stdout",
     "output_type": "stream",
     "text": [
      "[Tectonic regime, Period, Lithology, Structural setting, Gross, Netpay, Porosity, Permeability, Depth]\n"
     ]
    }
   ],
   "source": [
    "print(bn.nodes)"
   ]
  },
  {
   "cell_type": "code",
   "execution_count": 13,
   "id": "2741d343",
   "metadata": {},
   "outputs": [
    {
     "data": {
      "text/html": [
       "\n",
       "        <iframe\n",
       "            width=\"100%\"\n",
       "            height=\"800px\"\n",
       "            src=\"visualization_result/init_nodes.html\"\n",
       "            frameborder=\"0\"\n",
       "            allowfullscreen\n",
       "        ></iframe>\n",
       "        "
      ],
      "text/plain": [
       "<IPython.lib.display.IFrame at 0x1cf4750c5b0>"
      ]
     },
     "execution_count": 13,
     "metadata": {},
     "output_type": "execute_result"
    }
   ],
   "source": [
    "params = {'init_nodes': ['Tectonic regime', 'Period', 'Lithology', 'Structural setting', 'Gross']}\n",
    "bn.add_edges(discretized_data, scoring_function=('MI',), params=params)\n",
    "bn.plot('init_nodes.html')"
   ]
  },
  {
   "cell_type": "markdown",
   "id": "72ce1b12",
   "metadata": {},
   "source": [
    "### Init_edges"
   ]
  },
  {
   "cell_type": "markdown",
   "id": "79288532",
   "metadata": {},
   "source": [
    "<p> This one defines edges from which learning procedure starts <p>"
   ]
  },
  {
   "cell_type": "code",
   "execution_count": 14,
   "id": "127cc72b",
   "metadata": {},
   "outputs": [
    {
     "data": {
      "text/html": [
       "\n",
       "        <iframe\n",
       "            width=\"100%\"\n",
       "            height=\"800px\"\n",
       "            src=\"visualization_result/init_edges.html\"\n",
       "            frameborder=\"0\"\n",
       "            allowfullscreen\n",
       "        ></iframe>\n",
       "        "
      ],
      "text/plain": [
       "<IPython.lib.display.IFrame at 0x1cf47524460>"
      ]
     },
     "execution_count": 14,
     "metadata": {},
     "output_type": "execute_result"
    }
   ],
   "source": [
    "params = {'init_nodes': ['Tectonic regime', 'Period', 'Lithology', 'Structural setting', 'Gross'],\n",
    "          'init_edges':[('Period', 'Permeability'), ('Structural setting', 'Netpay'), ('Gross', 'Permeability')],}\n",
    "bn.add_edges(discretized_data, scoring_function=('MI',), params=params)\n",
    "bn.plot('init_edges.html')"
   ]
  },
  {
   "cell_type": "markdown",
   "id": "33c0a131",
   "metadata": {},
   "source": [
    "### white_list"
   ]
  },
  {
   "cell_type": "markdown",
   "id": "a942b09e",
   "metadata": {},
   "source": [
    "Strictly set edges where algoritm must learn"
   ]
  },
  {
   "cell_type": "code",
   "execution_count": 15,
   "id": "f8bc1baf",
   "metadata": {},
   "outputs": [
    {
     "data": {
      "text/html": [
       "\n",
       "        <iframe\n",
       "            width=\"100%\"\n",
       "            height=\"800px\"\n",
       "            src=\"visualization_result/whihe_list.html\"\n",
       "            frameborder=\"0\"\n",
       "            allowfullscreen\n",
       "        ></iframe>\n",
       "        "
      ],
      "text/plain": [
       "<IPython.lib.display.IFrame at 0x1cf47506310>"
      ]
     },
     "execution_count": 15,
     "metadata": {},
     "output_type": "execute_result"
    }
   ],
   "source": [
    "params = {'init_nodes': ['Tectonic regime', 'Period', 'Lithology', 'Structural setting', 'Gross'],\n",
    "         'white_list': [('Period', 'Permeability'), ('Structural setting', 'Netpay'), ('Gross', 'Permeability')]}\n",
    "bn.add_edges(discretized_data, scoring_function=('MI',), params=params)\n",
    "bn.plot('whihe_list.html')"
   ]
  },
  {
   "cell_type": "markdown",
   "id": "c3bab99c",
   "metadata": {},
   "source": [
    "### Remove_init_edges"
   ]
  },
  {
   "cell_type": "markdown",
   "id": "b617844f",
   "metadata": {},
   "source": [
    "Allow algorithm to remove edges defined by user."
   ]
  },
  {
   "cell_type": "code",
   "execution_count": 16,
   "id": "046ab206",
   "metadata": {},
   "outputs": [
    {
     "data": {
      "text/html": [
       "\n",
       "        <iframe\n",
       "            width=\"100%\"\n",
       "            height=\"800px\"\n",
       "            src=\"visualization_result/remove_init.html\"\n",
       "            frameborder=\"0\"\n",
       "            allowfullscreen\n",
       "        ></iframe>\n",
       "        "
      ],
      "text/plain": [
       "<IPython.lib.display.IFrame at 0x1cf474ed5e0>"
      ]
     },
     "execution_count": 16,
     "metadata": {},
     "output_type": "execute_result"
    }
   ],
   "source": [
    "params = {'init_nodes': ['Tectonic regime', 'Period', 'Lithology', 'Structural setting', 'Gross'],\n",
    "          'init_edges':[('Period', 'Permeability'), ('Structural setting', 'Netpay'), ('Gross', 'Permeability')],\n",
    "         'remove_init_edges':True}\n",
    "bn.add_edges(discretized_data, scoring_function=('MI',), params=params)\n",
    "bn.plot('remove_init.html')"
   ]
  },
  {
   "cell_type": "markdown",
   "id": "061d80ba",
   "metadata": {},
   "source": [
    "## Parameters Learning"
   ]
  },
  {
   "cell_type": "markdown",
   "id": "8488bbfc",
   "metadata": {},
   "source": [
    "<p> The second stage of learning is related to parameters, user should call fit_parameters method. <br>\n",
    "    In this procedure each vertex calls its own parameters_learning method and write down an outcome into distributions in bayessian network object. <br><br>\n",
    "\n",
    "What is going on inside each type of vertex can be found in special notebook (\"Nodes.ipynb\") <p>"
   ]
  },
  {
   "cell_type": "code",
   "execution_count": 17,
   "id": "4b2c387e",
   "metadata": {},
   "outputs": [
    {
     "name": "stdout",
     "output_type": "stream",
     "text": [
      "2022-01-28 16:41:43,921 | ERROR    | Networks.py-sample-0207 | Parameter learning wasn't done. Call fit_parameters method\n"
     ]
    }
   ],
   "source": [
    "bn.sample(10) # no way to sample from parametrically unfitted network "
   ]
  },
  {
   "cell_type": "markdown",
   "id": "2a8b02e0",
   "metadata": {},
   "source": [
    "Let's train two networks and compare their results."
   ]
  },
  {
   "cell_type": "code",
   "execution_count": 18,
   "id": "f49267ee",
   "metadata": {},
   "outputs": [],
   "source": [
    "bn_1 = Nets.HybridBN(has_logit=True, use_mixture=False)\n",
    "d = p.info\n",
    "bn_1.add_nodes(d)"
   ]
  },
  {
   "cell_type": "code",
   "execution_count": 19,
   "id": "f0b3350d",
   "metadata": {},
   "outputs": [],
   "source": [
    "bn_2 = Nets.HybridBN(has_logit=True, use_mixture=False)\n",
    "d = p.info\n",
    "bn_2.add_nodes(d)"
   ]
  },
  {
   "cell_type": "code",
   "execution_count": 20,
   "id": "31448134",
   "metadata": {},
   "outputs": [
    {
     "data": {
      "application/vnd.jupyter.widget-view+json": {
       "model_id": "654c3785e8dd43598afba470615fb45d",
       "version_major": 2,
       "version_minor": 0
      },
      "text/plain": [
       "  0%|          | 0/1000000 [00:00<?, ?it/s]"
      ]
     },
     "metadata": {},
     "output_type": "display_data"
    }
   ],
   "source": [
    "from pgmpy.estimators import K2Score\n",
    "from sklearn.ensemble import RandomForestClassifier\n",
    "from sklearn.neighbors import KNeighborsClassifier\n",
    "from sklearn.tree import DecisionTreeClassifier\n",
    "\n",
    "bn_1.add_edges(discretized_data, scoring_function=('MI',))\n",
    "bn_1.set_classifiers(classifiers={'Structural setting': DecisionTreeClassifier(),\n",
    "                                 'Lithology': RandomForestClassifier(),\n",
    "                                 'Period': KNeighborsClassifier(n_neighbors=2)})\n",
    "\n",
    "bn_2.add_edges(discretized_data, scoring_function=('K2',K2Score))"
   ]
  },
  {
   "cell_type": "code",
   "execution_count": 21,
   "id": "e3bce9f6",
   "metadata": {},
   "outputs": [
    {
     "data": {
      "text/html": [
       "<div>\n",
       "<style scoped>\n",
       "    .dataframe tbody tr th:only-of-type {\n",
       "        vertical-align: middle;\n",
       "    }\n",
       "\n",
       "    .dataframe tbody tr th {\n",
       "        vertical-align: top;\n",
       "    }\n",
       "\n",
       "    .dataframe thead th {\n",
       "        text-align: right;\n",
       "    }\n",
       "</style>\n",
       "<table border=\"1\" class=\"dataframe\">\n",
       "  <thead>\n",
       "    <tr style=\"text-align: right;\">\n",
       "      <th></th>\n",
       "      <th>name</th>\n",
       "      <th>node_type</th>\n",
       "      <th>data_type</th>\n",
       "      <th>parents</th>\n",
       "      <th>parents_types</th>\n",
       "    </tr>\n",
       "  </thead>\n",
       "  <tbody>\n",
       "    <tr>\n",
       "      <th>0</th>\n",
       "      <td>Tectonic regime</td>\n",
       "      <td>Discrete</td>\n",
       "      <td>disc</td>\n",
       "      <td>[]</td>\n",
       "      <td>[]</td>\n",
       "    </tr>\n",
       "    <tr>\n",
       "      <th>1</th>\n",
       "      <td>Period</td>\n",
       "      <td>ConditionalLogit (KNeighborsClassifier)</td>\n",
       "      <td>disc</td>\n",
       "      <td>[Depth, Structural setting, Lithology]</td>\n",
       "      <td>[cont, disc, disc]</td>\n",
       "    </tr>\n",
       "    <tr>\n",
       "      <th>2</th>\n",
       "      <td>Lithology</td>\n",
       "      <td>ConditionalLogit (RandomForestClassifier)</td>\n",
       "      <td>disc</td>\n",
       "      <td>[Netpay, Structural setting]</td>\n",
       "      <td>[cont, disc]</td>\n",
       "    </tr>\n",
       "    <tr>\n",
       "      <th>3</th>\n",
       "      <td>Structural setting</td>\n",
       "      <td>Logit (DecisionTreeClassifier)</td>\n",
       "      <td>disc</td>\n",
       "      <td>[Permeability]</td>\n",
       "      <td>[cont]</td>\n",
       "    </tr>\n",
       "    <tr>\n",
       "      <th>4</th>\n",
       "      <td>Gross</td>\n",
       "      <td>Gaussian</td>\n",
       "      <td>cont</td>\n",
       "      <td>[Porosity]</td>\n",
       "      <td>[cont]</td>\n",
       "    </tr>\n",
       "    <tr>\n",
       "      <th>5</th>\n",
       "      <td>Netpay</td>\n",
       "      <td>Gaussian</td>\n",
       "      <td>cont</td>\n",
       "      <td>[Permeability]</td>\n",
       "      <td>[cont]</td>\n",
       "    </tr>\n",
       "    <tr>\n",
       "      <th>6</th>\n",
       "      <td>Porosity</td>\n",
       "      <td>ConditionalGaussian</td>\n",
       "      <td>cont</td>\n",
       "      <td>[Tectonic regime]</td>\n",
       "      <td>[disc]</td>\n",
       "    </tr>\n",
       "    <tr>\n",
       "      <th>7</th>\n",
       "      <td>Permeability</td>\n",
       "      <td>Gaussian</td>\n",
       "      <td>cont</td>\n",
       "      <td>[Gross]</td>\n",
       "      <td>[cont]</td>\n",
       "    </tr>\n",
       "    <tr>\n",
       "      <th>8</th>\n",
       "      <td>Depth</td>\n",
       "      <td>Gaussian</td>\n",
       "      <td>cont</td>\n",
       "      <td>[Gross]</td>\n",
       "      <td>[cont]</td>\n",
       "    </tr>\n",
       "  </tbody>\n",
       "</table>\n",
       "</div>"
      ],
      "text/plain": [
       "                 name                                  node_type data_type  \\\n",
       "0     Tectonic regime                                   Discrete      disc   \n",
       "1              Period    ConditionalLogit (KNeighborsClassifier)      disc   \n",
       "2           Lithology  ConditionalLogit (RandomForestClassifier)      disc   \n",
       "3  Structural setting             Logit (DecisionTreeClassifier)      disc   \n",
       "4               Gross                                   Gaussian      cont   \n",
       "5              Netpay                                   Gaussian      cont   \n",
       "6            Porosity                        ConditionalGaussian      cont   \n",
       "7        Permeability                                   Gaussian      cont   \n",
       "8               Depth                                   Gaussian      cont   \n",
       "\n",
       "                                  parents       parents_types  \n",
       "0                                      []                  []  \n",
       "1  [Depth, Structural setting, Lithology]  [cont, disc, disc]  \n",
       "2            [Netpay, Structural setting]        [cont, disc]  \n",
       "3                          [Permeability]              [cont]  \n",
       "4                              [Porosity]              [cont]  \n",
       "5                          [Permeability]              [cont]  \n",
       "6                       [Tectonic regime]              [disc]  \n",
       "7                                 [Gross]              [cont]  \n",
       "8                                 [Gross]              [cont]  "
      ]
     },
     "execution_count": 21,
     "metadata": {},
     "output_type": "execute_result"
    }
   ],
   "source": [
    "bn_1.get_info()"
   ]
  },
  {
   "cell_type": "code",
   "execution_count": 22,
   "id": "c8c241dd",
   "metadata": {},
   "outputs": [
    {
     "data": {
      "text/html": [
       "<div>\n",
       "<style scoped>\n",
       "    .dataframe tbody tr th:only-of-type {\n",
       "        vertical-align: middle;\n",
       "    }\n",
       "\n",
       "    .dataframe tbody tr th {\n",
       "        vertical-align: top;\n",
       "    }\n",
       "\n",
       "    .dataframe thead th {\n",
       "        text-align: right;\n",
       "    }\n",
       "</style>\n",
       "<table border=\"1\" class=\"dataframe\">\n",
       "  <thead>\n",
       "    <tr style=\"text-align: right;\">\n",
       "      <th></th>\n",
       "      <th>name</th>\n",
       "      <th>node_type</th>\n",
       "      <th>data_type</th>\n",
       "      <th>parents</th>\n",
       "      <th>parents_types</th>\n",
       "    </tr>\n",
       "  </thead>\n",
       "  <tbody>\n",
       "    <tr>\n",
       "      <th>0</th>\n",
       "      <td>Tectonic regime</td>\n",
       "      <td>Discrete</td>\n",
       "      <td>disc</td>\n",
       "      <td>[]</td>\n",
       "      <td>[]</td>\n",
       "    </tr>\n",
       "    <tr>\n",
       "      <th>1</th>\n",
       "      <td>Period</td>\n",
       "      <td>Discrete</td>\n",
       "      <td>disc</td>\n",
       "      <td>[Structural setting]</td>\n",
       "      <td>[disc]</td>\n",
       "    </tr>\n",
       "    <tr>\n",
       "      <th>2</th>\n",
       "      <td>Lithology</td>\n",
       "      <td>Discrete</td>\n",
       "      <td>disc</td>\n",
       "      <td>[]</td>\n",
       "      <td>[]</td>\n",
       "    </tr>\n",
       "    <tr>\n",
       "      <th>3</th>\n",
       "      <td>Structural setting</td>\n",
       "      <td>Discrete</td>\n",
       "      <td>disc</td>\n",
       "      <td>[Tectonic regime]</td>\n",
       "      <td>[disc]</td>\n",
       "    </tr>\n",
       "    <tr>\n",
       "      <th>4</th>\n",
       "      <td>Gross</td>\n",
       "      <td>ConditionalGaussian</td>\n",
       "      <td>cont</td>\n",
       "      <td>[Period, Lithology, Structural setting]</td>\n",
       "      <td>[disc, disc, disc]</td>\n",
       "    </tr>\n",
       "    <tr>\n",
       "      <th>5</th>\n",
       "      <td>Netpay</td>\n",
       "      <td>Gaussian</td>\n",
       "      <td>cont</td>\n",
       "      <td>[Gross]</td>\n",
       "      <td>[cont]</td>\n",
       "    </tr>\n",
       "    <tr>\n",
       "      <th>6</th>\n",
       "      <td>Porosity</td>\n",
       "      <td>ConditionalGaussian</td>\n",
       "      <td>cont</td>\n",
       "      <td>[Period]</td>\n",
       "      <td>[disc]</td>\n",
       "    </tr>\n",
       "    <tr>\n",
       "      <th>7</th>\n",
       "      <td>Permeability</td>\n",
       "      <td>ConditionalGaussian</td>\n",
       "      <td>cont</td>\n",
       "      <td>[Porosity, Lithology]</td>\n",
       "      <td>[cont, disc]</td>\n",
       "    </tr>\n",
       "    <tr>\n",
       "      <th>8</th>\n",
       "      <td>Depth</td>\n",
       "      <td>ConditionalGaussian</td>\n",
       "      <td>cont</td>\n",
       "      <td>[Porosity, Structural setting]</td>\n",
       "      <td>[cont, disc]</td>\n",
       "    </tr>\n",
       "  </tbody>\n",
       "</table>\n",
       "</div>"
      ],
      "text/plain": [
       "                 name            node_type data_type  \\\n",
       "0     Tectonic regime             Discrete      disc   \n",
       "1              Period             Discrete      disc   \n",
       "2           Lithology             Discrete      disc   \n",
       "3  Structural setting             Discrete      disc   \n",
       "4               Gross  ConditionalGaussian      cont   \n",
       "5              Netpay             Gaussian      cont   \n",
       "6            Porosity  ConditionalGaussian      cont   \n",
       "7        Permeability  ConditionalGaussian      cont   \n",
       "8               Depth  ConditionalGaussian      cont   \n",
       "\n",
       "                                   parents       parents_types  \n",
       "0                                       []                  []  \n",
       "1                     [Structural setting]              [disc]  \n",
       "2                                       []                  []  \n",
       "3                        [Tectonic regime]              [disc]  \n",
       "4  [Period, Lithology, Structural setting]  [disc, disc, disc]  \n",
       "5                                  [Gross]              [cont]  \n",
       "6                                 [Period]              [disc]  \n",
       "7                    [Porosity, Lithology]        [cont, disc]  \n",
       "8           [Porosity, Structural setting]        [cont, disc]  "
      ]
     },
     "execution_count": 22,
     "metadata": {},
     "output_type": "execute_result"
    }
   ],
   "source": [
    "bn_2.get_info()"
   ]
  },
  {
   "cell_type": "code",
   "execution_count": 23,
   "id": "51eb9696",
   "metadata": {},
   "outputs": [
    {
     "name": "stdout",
     "output_type": "stream",
     "text": [
      "Wall time: 6.49 s\n"
     ]
    }
   ],
   "source": [
    "%%time\n",
    "bn_1.fit_parameters(hack)"
   ]
  },
  {
   "cell_type": "code",
   "execution_count": 24,
   "id": "c56eed93",
   "metadata": {},
   "outputs": [
    {
     "name": "stdout",
     "output_type": "stream",
     "text": [
      "Wall time: 9.92 s\n"
     ]
    }
   ],
   "source": [
    "%%time\n",
    "bn_2.fit_parameters(hack)"
   ]
  },
  {
   "cell_type": "code",
   "execution_count": 25,
   "id": "3f446fb2",
   "metadata": {},
   "outputs": [],
   "source": [
    "bn_1.get_params_tree('out.json')"
   ]
  },
  {
   "cell_type": "code",
   "execution_count": 26,
   "id": "d6d2d4e0",
   "metadata": {},
   "outputs": [],
   "source": [
    "predictions_mi = bn_1.sample(514, as_df=True)\n",
    "predictions_k2 = bn_2.sample(514, as_df=True)"
   ]
  },
  {
   "cell_type": "code",
   "execution_count": 27,
   "id": "af1bde59",
   "metadata": {
    "scrolled": false
   },
   "outputs": [
    {
     "data": {
      "image/png": "[encoded data removed]",
      "text/plain": [
       "<Figure size 864x576 with 3 Axes>"
      ]
     },
     "metadata": {
      "needs_background": "light"
     },
     "output_type": "display_data"
    },
    {
     "data": {
      "image/png": "[encoded data removed]",
      "text/plain": [
       "<Figure size 864x576 with 3 Axes>"
      ]
     },
     "metadata": {
      "needs_background": "light"
     },
     "output_type": "display_data"
    },
    {
     "data": {
      "image/png": "[encoded data removed]",
      "text/plain": [
       "<Figure size 864x576 with 3 Axes>"
      ]
     },
     "metadata": {
      "needs_background": "light"
     },
     "output_type": "display_data"
    },
    {
     "data": {
      "image/png": "[encoded data removed]",
      "text/plain": [
       "<Figure size 864x576 with 3 Axes>"
      ]
     },
     "metadata": {
      "needs_background": "light"
     },
     "output_type": "display_data"
    },
    {
     "data": {
      "image/png": "[encoded data removed]",
      "text/plain": [
       "<Figure size 864x576 with 3 Axes>"
      ]
     },
     "metadata": {
      "needs_background": "light"
     },
     "output_type": "display_data"
    },
    {
     "data": {
      "image/png": "[encoded data removed]",
      "text/plain": [
       "<Figure size 864x576 with 3 Axes>"
      ]
     },
     "metadata": {
      "needs_background": "light"
     },
     "output_type": "display_data"
    },
    {
     "data": {
      "image/png": "[encoded data removed]",
      "text/plain": [
       "<Figure size 864x576 with 3 Axes>"
      ]
     },
     "metadata": {
      "needs_background": "light"
     },
     "output_type": "display_data"
    },
    {
     "data": {
      "image/png": "[encoded data removed]",
      "text/plain": [
       "<Figure size 864x576 with 3 Axes>"
      ]
     },
     "metadata": {
      "needs_background": "light"
     },
     "output_type": "display_data"
    },
    {
     "data": {
      "image/png": "[encoded data removed]",
      "text/plain": [
       "<Figure size 864x576 with 3 Axes>"
      ]
     },
     "metadata": {
      "needs_background": "light"
     },
     "output_type": "display_data"
    }
   ],
   "source": [
    "for column in hack.columns.to_list():\n",
    "    fig, ax = plt.subplots(1,3, figsize=(12,8), sharey=True)\n",
    "    if hack[column].dtype.name in ['float64']:\n",
    "        ax[0].hist(hack[column].values)\n",
    "        ax[1].hist(predictions_mi[column].values)\n",
    "        ax[2].hist(predictions_k2[column].values)\n",
    "    else:\n",
    "        ax[0].barh(hack[column].value_counts().index, hack[column].value_counts().values)\n",
    "        ax[1].barh(predictions_mi[column].value_counts().index, predictions_mi[column].value_counts().values)\n",
    "        ax[2].barh(predictions_k2[column].value_counts().index, predictions_k2[column].value_counts().values)\n",
    "    ax[0].set_title(f'{column} True')\n",
    "    ax[1].set_title(f'{column} Sampled MI')\n",
    "    ax[2].set_title(f\"{column} Sampled K2\")\n",
    "    \n",
    "    plt.tight_layout()"
   ]
  },
  {
   "cell_type": "code",
   "execution_count": null,
   "id": "4e66d1da",
   "metadata": {},
   "outputs": [],
   "source": []
  }
 ],
 "metadata": {
  "kernelspec": {
   "display_name": "Python 3",
   "language": "python",
   "name": "python3"
  },
  "language_info": {
   "codemirror_mode": {
    "name": "ipython",
    "version": 3
   },
   "file_extension": ".py",
   "mimetype": "text/x-python",
   "name": "python",
   "nbconvert_exporter": "python",
   "pygments_lexer": "ipython3",
   "version": "3.8.8"
  }
 },
 "nbformat": 4,
 "nbformat_minor": 5
}
