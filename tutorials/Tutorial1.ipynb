{
 "cells": [
  {
   "cell_type": "code",
   "execution_count": 1,
   "id": "586d5a5c",
   "metadata": {},
   "outputs": [
    {
     "name": "stdout",
     "output_type": "stream",
     "text": [
      "['C:\\\\Users\\\\Roman\\\\Desktop\\\\GitBamt\\\\BAMT', 'C:\\\\Users\\\\Roman\\\\Desktop\\\\GitBamt', 'C:\\\\Users\\\\Roman\\\\Desktop\\\\GitBamt\\\\BAMT\\\\tutorials']\n"
     ]
    }
   ],
   "source": [
    "import os,sys\n",
    "from pathlib import Path\n",
    "currentdir = Path(os.getcwd())\n",
    "sys.path.insert(0, os.path.dirname(currentdir.parent))\n",
    "sys.path.insert(0, os.path.dirname(currentdir))\n",
    "print(str(sys.path[0:3]))"
   ]
  },
  {
   "cell_type": "code",
   "execution_count": 2,
   "id": "50ae0d4a",
   "metadata": {},
   "outputs": [],
   "source": [
    "import warnings\n",
    "warnings.filterwarnings(\"ignore\")"
   ]
  },
  {
   "cell_type": "code",
   "execution_count": 3,
   "id": "49a7aca5",
   "metadata": {},
   "outputs": [
    {
     "name": "stdout",
     "output_type": "stream",
     "text": [
      "Wall time: 5.46 s\n"
     ]
    }
   ],
   "source": [
    "%%time\n",
    "import BAMT.Networks as Nets\n",
    "import BAMT.Preprocessors as pp\n",
    "\n",
    "import pandas as pd\n",
    "import numpy as np\n",
    "from sklearn import preprocessing\n",
    "import matplotlib.pyplot as plt"
   ]
  },
  {
   "cell_type": "code",
   "execution_count": 4,
   "id": "2bf54179",
   "metadata": {},
   "outputs": [],
   "source": [
    "hack = pd.read_csv(r'../Data/hack_processed_with_rf.csv')"
   ]
  },
  {
   "cell_type": "code",
   "execution_count": 5,
   "id": "479a76e8",
   "metadata": {},
   "outputs": [
    {
     "data": {
      "text/html": [
       "<div>\n",
       "<style scoped>\n",
       "    .dataframe tbody tr th:only-of-type {\n",
       "        vertical-align: middle;\n",
       "    }\n",
       "\n",
       "    .dataframe tbody tr th {\n",
       "        vertical-align: top;\n",
       "    }\n",
       "\n",
       "    .dataframe thead th {\n",
       "        text-align: right;\n",
       "    }\n",
       "</style>\n",
       "<table border=\"1\" class=\"dataframe\">\n",
       "  <thead>\n",
       "    <tr style=\"text-align: right;\">\n",
       "      <th></th>\n",
       "      <th>Field name</th>\n",
       "      <th>Reservoir unit</th>\n",
       "      <th>Country</th>\n",
       "      <th>Region</th>\n",
       "      <th>Basin name</th>\n",
       "      <th>Tectonic regime</th>\n",
       "      <th>Latitude</th>\n",
       "      <th>Longitude</th>\n",
       "      <th>Operator company</th>\n",
       "      <th>Onshore/offshore</th>\n",
       "      <th>...</th>\n",
       "      <th>Period</th>\n",
       "      <th>Lithology</th>\n",
       "      <th>Gross</th>\n",
       "      <th>Netpay</th>\n",
       "      <th>Porosity</th>\n",
       "      <th>Permeability</th>\n",
       "      <th>Oil density</th>\n",
       "      <th>Oil recovery factor</th>\n",
       "      <th>Condensate recovery factor</th>\n",
       "      <th>Gas recovery factor</th>\n",
       "    </tr>\n",
       "  </thead>\n",
       "  <tbody>\n",
       "    <tr>\n",
       "      <th>68</th>\n",
       "      <td>BRAVO DOME</td>\n",
       "      <td>TUBB</td>\n",
       "      <td>USA</td>\n",
       "      <td>NORTH AMERICA</td>\n",
       "      <td>SIERRA GRANDE UPLIFT</td>\n",
       "      <td>COMPRESSION</td>\n",
       "      <td>36.0049</td>\n",
       "      <td>-103.8177</td>\n",
       "      <td>BP</td>\n",
       "      <td>ONSHORE</td>\n",
       "      <td>...</td>\n",
       "      <td>PERMIAN</td>\n",
       "      <td>SANDSTONE</td>\n",
       "      <td>75.0</td>\n",
       "      <td>36.0</td>\n",
       "      <td>20.0</td>\n",
       "      <td>42.0</td>\n",
       "      <td>NaN</td>\n",
       "      <td>NaN</td>\n",
       "      <td>NaN</td>\n",
       "      <td>0.80</td>\n",
       "    </tr>\n",
       "    <tr>\n",
       "      <th>393</th>\n",
       "      <td>SHATLYK</td>\n",
       "      <td>SHATLYK (SHATLYK EAST)</td>\n",
       "      <td>TURKMENISTAN</td>\n",
       "      <td>FORMER SOVIET UNION</td>\n",
       "      <td>AMU DARYA</td>\n",
       "      <td>COMPRESSION</td>\n",
       "      <td>37.3900</td>\n",
       "      <td>61.1000</td>\n",
       "      <td>TURKMENGAS</td>\n",
       "      <td>ONSHORE</td>\n",
       "      <td>...</td>\n",
       "      <td>CRETACEOUS</td>\n",
       "      <td>SANDSTONE</td>\n",
       "      <td>44.4</td>\n",
       "      <td>18.9</td>\n",
       "      <td>21.8</td>\n",
       "      <td>222.0</td>\n",
       "      <td>775.342466</td>\n",
       "      <td>NaN</td>\n",
       "      <td>NaN</td>\n",
       "      <td>0.84</td>\n",
       "    </tr>\n",
       "    <tr>\n",
       "      <th>27</th>\n",
       "      <td>AUK</td>\n",
       "      <td>ROTLIEGEND (AUK)</td>\n",
       "      <td>UK</td>\n",
       "      <td>EUROPE</td>\n",
       "      <td>NORTH SEA CENTRAL</td>\n",
       "      <td>EXTENSION</td>\n",
       "      <td>56.4125</td>\n",
       "      <td>2.0286</td>\n",
       "      <td>SHELL</td>\n",
       "      <td>OFFSHORE</td>\n",
       "      <td>...</td>\n",
       "      <td>PERMIAN</td>\n",
       "      <td>SANDSTONE</td>\n",
       "      <td>294.0</td>\n",
       "      <td>252.0</td>\n",
       "      <td>19.0</td>\n",
       "      <td>5.0</td>\n",
       "      <td>834.808260</td>\n",
       "      <td>NaN</td>\n",
       "      <td>NaN</td>\n",
       "      <td>NaN</td>\n",
       "    </tr>\n",
       "    <tr>\n",
       "      <th>369</th>\n",
       "      <td>REDWATER</td>\n",
       "      <td>LEDUC</td>\n",
       "      <td>CANADA</td>\n",
       "      <td>NORTH AMERICA</td>\n",
       "      <td>WESTERN CANADA</td>\n",
       "      <td>COMPRESSION</td>\n",
       "      <td>53.6500</td>\n",
       "      <td>-113.3333</td>\n",
       "      <td>IMPERIAL OIL RESOURCES</td>\n",
       "      <td>ONSHORE</td>\n",
       "      <td>...</td>\n",
       "      <td>DEVONIAN</td>\n",
       "      <td>LIMESTONE</td>\n",
       "      <td>240.0</td>\n",
       "      <td>30.0</td>\n",
       "      <td>8.0</td>\n",
       "      <td>100.0</td>\n",
       "      <td>849.849850</td>\n",
       "      <td>NaN</td>\n",
       "      <td>NaN</td>\n",
       "      <td>NaN</td>\n",
       "    </tr>\n",
       "    <tr>\n",
       "      <th>467</th>\n",
       "      <td>WEMBLEY</td>\n",
       "      <td>HALFWAY</td>\n",
       "      <td>CANADA</td>\n",
       "      <td>NORTH AMERICA</td>\n",
       "      <td>WESTERN CANADA</td>\n",
       "      <td>COMPRESSION</td>\n",
       "      <td>55.2197</td>\n",
       "      <td>-119.1749</td>\n",
       "      <td>BP AND OTHERS</td>\n",
       "      <td>ONSHORE</td>\n",
       "      <td>...</td>\n",
       "      <td>TRIASSIC</td>\n",
       "      <td>SANDSTONE</td>\n",
       "      <td>24.0</td>\n",
       "      <td>6.6</td>\n",
       "      <td>10.2</td>\n",
       "      <td>60.0</td>\n",
       "      <td>801.699717</td>\n",
       "      <td>0.2</td>\n",
       "      <td>NaN</td>\n",
       "      <td>NaN</td>\n",
       "    </tr>\n",
       "  </tbody>\n",
       "</table>\n",
       "<p>5 rows × 24 columns</p>\n",
       "</div>"
      ],
      "text/plain": [
       "     Field name          Reservoir unit       Country               Region  \\\n",
       "68   BRAVO DOME                    TUBB           USA        NORTH AMERICA   \n",
       "393     SHATLYK  SHATLYK (SHATLYK EAST)  TURKMENISTAN  FORMER SOVIET UNION   \n",
       "27          AUK        ROTLIEGEND (AUK)            UK               EUROPE   \n",
       "369    REDWATER                   LEDUC        CANADA        NORTH AMERICA   \n",
       "467     WEMBLEY                 HALFWAY        CANADA        NORTH AMERICA   \n",
       "\n",
       "               Basin name Tectonic regime  Latitude  Longitude  \\\n",
       "68   SIERRA GRANDE UPLIFT     COMPRESSION   36.0049  -103.8177   \n",
       "393             AMU DARYA     COMPRESSION   37.3900    61.1000   \n",
       "27      NORTH SEA CENTRAL       EXTENSION   56.4125     2.0286   \n",
       "369        WESTERN CANADA     COMPRESSION   53.6500  -113.3333   \n",
       "467        WESTERN CANADA     COMPRESSION   55.2197  -119.1749   \n",
       "\n",
       "           Operator company Onshore/offshore  ...      Period  Lithology  \\\n",
       "68                       BP          ONSHORE  ...     PERMIAN  SANDSTONE   \n",
       "393              TURKMENGAS          ONSHORE  ...  CRETACEOUS  SANDSTONE   \n",
       "27                    SHELL         OFFSHORE  ...     PERMIAN  SANDSTONE   \n",
       "369  IMPERIAL OIL RESOURCES          ONSHORE  ...    DEVONIAN  LIMESTONE   \n",
       "467           BP AND OTHERS          ONSHORE  ...    TRIASSIC  SANDSTONE   \n",
       "\n",
       "     Gross  Netpay Porosity Permeability  Oil density  Oil recovery factor  \\\n",
       "68    75.0    36.0     20.0         42.0          NaN                  NaN   \n",
       "393   44.4    18.9     21.8        222.0   775.342466                  NaN   \n",
       "27   294.0   252.0     19.0          5.0   834.808260                  NaN   \n",
       "369  240.0    30.0      8.0        100.0   849.849850                  NaN   \n",
       "467   24.0     6.6     10.2         60.0   801.699717                  0.2   \n",
       "\n",
       "     Condensate recovery factor  Gas recovery factor  \n",
       "68                          NaN                 0.80  \n",
       "393                         NaN                 0.84  \n",
       "27                          NaN                  NaN  \n",
       "369                         NaN                  NaN  \n",
       "467                         NaN                  NaN  \n",
       "\n",
       "[5 rows x 24 columns]"
      ]
     },
     "execution_count": 5,
     "metadata": {},
     "output_type": "execute_result"
    }
   ],
   "source": [
    "hack.sample(5)"
   ]
  },
  {
   "cell_type": "code",
   "execution_count": 6,
   "id": "2b2f81df",
   "metadata": {},
   "outputs": [
    {
     "name": "stdout",
     "output_type": "stream",
     "text": [
      "<class 'pandas.core.frame.DataFrame'>\n",
      "RangeIndex: 514 entries, 0 to 513\n",
      "Data columns (total 24 columns):\n",
      " #   Column                      Non-Null Count  Dtype  \n",
      "---  ------                      --------------  -----  \n",
      " 0   Field name                  514 non-null    object \n",
      " 1   Reservoir unit              514 non-null    object \n",
      " 2   Country                     514 non-null    object \n",
      " 3   Region                      514 non-null    object \n",
      " 4   Basin name                  514 non-null    object \n",
      " 5   Tectonic regime             442 non-null    object \n",
      " 6   Latitude                    514 non-null    float64\n",
      " 7   Longitude                   514 non-null    float64\n",
      " 8   Operator company            514 non-null    object \n",
      " 9   Onshore/offshore            514 non-null    object \n",
      " 10  Hydrocarbon type            514 non-null    object \n",
      " 11  Reservoir status            514 non-null    object \n",
      " 12  Structural setting          514 non-null    object \n",
      " 13  Depth                       514 non-null    float64\n",
      " 14  Period                      514 non-null    object \n",
      " 15  Lithology                   514 non-null    object \n",
      " 16  Gross                       514 non-null    float64\n",
      " 17  Netpay                      514 non-null    float64\n",
      " 18  Porosity                    442 non-null    float64\n",
      " 19  Permeability                514 non-null    float64\n",
      " 20  Oil density                 459 non-null    float64\n",
      " 21  Oil recovery factor         341 non-null    float64\n",
      " 22  Condensate recovery factor  15 non-null     float64\n",
      " 23  Gas recovery factor         108 non-null    float64\n",
      "dtypes: float64(11), object(13)\n",
      "memory usage: 96.5+ KB\n"
     ]
    }
   ],
   "source": [
    "hack.info()"
   ]
  },
  {
   "cell_type": "code",
   "execution_count": 7,
   "id": "9d92e3ef",
   "metadata": {},
   "outputs": [],
   "source": [
    "cols = ['Tectonic regime', 'Period', 'Lithology', 'Structural setting', 'Gross','Netpay','Porosity','Permeability', 'Depth']\n",
    "hack = hack[cols]"
   ]
  },
  {
   "cell_type": "code",
   "execution_count": 8,
   "id": "9fa1fd46",
   "metadata": {},
   "outputs": [],
   "source": [
    "encoder = preprocessing.LabelEncoder()\n",
    "discretizer = preprocessing.KBinsDiscretizer(n_bins=5, encode='ordinal', strategy='quantile')\n",
    "\n",
    "p = pp.Preprocessor([('encoder', encoder), ('discretizer', discretizer)])\n",
    "discretized_data, est = p.apply(hack)"
   ]
  },
  {
   "cell_type": "code",
   "execution_count": 9,
   "id": "446197c9",
   "metadata": {},
   "outputs": [
    {
     "data": {
      "text/html": [
       "<div>\n",
       "<style scoped>\n",
       "    .dataframe tbody tr th:only-of-type {\n",
       "        vertical-align: middle;\n",
       "    }\n",
       "\n",
       "    .dataframe tbody tr th {\n",
       "        vertical-align: top;\n",
       "    }\n",
       "\n",
       "    .dataframe thead th {\n",
       "        text-align: right;\n",
       "    }\n",
       "</style>\n",
       "<table border=\"1\" class=\"dataframe\">\n",
       "  <thead>\n",
       "    <tr style=\"text-align: right;\">\n",
       "      <th></th>\n",
       "      <th>Tectonic regime</th>\n",
       "      <th>Period</th>\n",
       "      <th>Lithology</th>\n",
       "      <th>Structural setting</th>\n",
       "      <th>Gross</th>\n",
       "      <th>Netpay</th>\n",
       "      <th>Porosity</th>\n",
       "      <th>Permeability</th>\n",
       "      <th>Depth</th>\n",
       "    </tr>\n",
       "  </thead>\n",
       "  <tbody>\n",
       "    <tr>\n",
       "      <th>77</th>\n",
       "      <td>0</td>\n",
       "      <td>4</td>\n",
       "      <td>11</td>\n",
       "      <td>10</td>\n",
       "      <td>2</td>\n",
       "      <td>2</td>\n",
       "      <td>3</td>\n",
       "      <td>4</td>\n",
       "      <td>0</td>\n",
       "    </tr>\n",
       "    <tr>\n",
       "      <th>139</th>\n",
       "      <td>0</td>\n",
       "      <td>21</td>\n",
       "      <td>11</td>\n",
       "      <td>2</td>\n",
       "      <td>0</td>\n",
       "      <td>0</td>\n",
       "      <td>3</td>\n",
       "      <td>1</td>\n",
       "      <td>0</td>\n",
       "    </tr>\n",
       "    <tr>\n",
       "      <th>179</th>\n",
       "      <td>5</td>\n",
       "      <td>15</td>\n",
       "      <td>15</td>\n",
       "      <td>11</td>\n",
       "      <td>3</td>\n",
       "      <td>4</td>\n",
       "      <td>4</td>\n",
       "      <td>3</td>\n",
       "      <td>0</td>\n",
       "    </tr>\n",
       "    <tr>\n",
       "      <th>349</th>\n",
       "      <td>2</td>\n",
       "      <td>12</td>\n",
       "      <td>11</td>\n",
       "      <td>6</td>\n",
       "      <td>3</td>\n",
       "      <td>4</td>\n",
       "      <td>4</td>\n",
       "      <td>4</td>\n",
       "      <td>2</td>\n",
       "    </tr>\n",
       "    <tr>\n",
       "      <th>18</th>\n",
       "      <td>5</td>\n",
       "      <td>9</td>\n",
       "      <td>12</td>\n",
       "      <td>3</td>\n",
       "      <td>0</td>\n",
       "      <td>2</td>\n",
       "      <td>0</td>\n",
       "      <td>1</td>\n",
       "      <td>0</td>\n",
       "    </tr>\n",
       "  </tbody>\n",
       "</table>\n",
       "</div>"
      ],
      "text/plain": [
       "     Tectonic regime  Period  Lithology  Structural setting  Gross  Netpay  \\\n",
       "77                 0       4         11                  10      2       2   \n",
       "139                0      21         11                   2      0       0   \n",
       "179                5      15         15                  11      3       4   \n",
       "349                2      12         11                   6      3       4   \n",
       "18                 5       9         12                   3      0       2   \n",
       "\n",
       "     Porosity  Permeability  Depth  \n",
       "77          3             4      0  \n",
       "139         3             1      0  \n",
       "179         4             3      0  \n",
       "349         4             4      2  \n",
       "18          0             1      0  "
      ]
     },
     "execution_count": 9,
     "metadata": {},
     "output_type": "execute_result"
    }
   ],
   "source": [
    "discretized_data.sample(5)"
   ]
  },
  {
   "cell_type": "markdown",
   "id": "c2b24921",
   "metadata": {},
   "source": [
    "## Group1 algorithm"
   ]
  },
  {
   "cell_type": "code",
   "execution_count": 10,
   "id": "0d227a5b",
   "metadata": {},
   "outputs": [],
   "source": [
    "bn = Nets.HybridBN(has_logit=True, use_mixture=True)\n",
    "d = p.info"
   ]
  },
  {
   "cell_type": "code",
   "execution_count": 11,
   "id": "1050cc44",
   "metadata": {},
   "outputs": [],
   "source": [
    "bn.add_nodes(d)\n",
    "bn.add_edges(discretized_data, scoring_function=('MI',))"
   ]
  },
  {
   "cell_type": "code",
   "execution_count": 12,
   "id": "febe125e",
   "metadata": {},
   "outputs": [
    {
     "data": {
      "text/html": [
       "<div>\n",
       "<style scoped>\n",
       "    .dataframe tbody tr th:only-of-type {\n",
       "        vertical-align: middle;\n",
       "    }\n",
       "\n",
       "    .dataframe tbody tr th {\n",
       "        vertical-align: top;\n",
       "    }\n",
       "\n",
       "    .dataframe thead th {\n",
       "        text-align: right;\n",
       "    }\n",
       "</style>\n",
       "<table border=\"1\" class=\"dataframe\">\n",
       "  <thead>\n",
       "    <tr style=\"text-align: right;\">\n",
       "      <th></th>\n",
       "      <th>name</th>\n",
       "      <th>node_type</th>\n",
       "      <th>data_type</th>\n",
       "      <th>parents</th>\n",
       "      <th>parents_types</th>\n",
       "    </tr>\n",
       "  </thead>\n",
       "  <tbody>\n",
       "    <tr>\n",
       "      <th>0</th>\n",
       "      <td>Tectonic regime</td>\n",
       "      <td>Discrete</td>\n",
       "      <td>disc</td>\n",
       "      <td>[]</td>\n",
       "      <td>[]</td>\n",
       "    </tr>\n",
       "    <tr>\n",
       "      <th>1</th>\n",
       "      <td>Period</td>\n",
       "      <td>ConditionalLogit</td>\n",
       "      <td>disc</td>\n",
       "      <td>[cont, disc, disc]</td>\n",
       "      <td>[Depth, Structural setting, Lithology]</td>\n",
       "    </tr>\n",
       "    <tr>\n",
       "      <th>2</th>\n",
       "      <td>Lithology</td>\n",
       "      <td>ConditionalLogit</td>\n",
       "      <td>disc</td>\n",
       "      <td>[cont, disc]</td>\n",
       "      <td>[Netpay, Structural setting]</td>\n",
       "    </tr>\n",
       "    <tr>\n",
       "      <th>3</th>\n",
       "      <td>Structural setting</td>\n",
       "      <td>Logit</td>\n",
       "      <td>disc</td>\n",
       "      <td>[cont]</td>\n",
       "      <td>[Permeability]</td>\n",
       "    </tr>\n",
       "    <tr>\n",
       "      <th>4</th>\n",
       "      <td>Gross</td>\n",
       "      <td>MixtureGaussian</td>\n",
       "      <td>cont</td>\n",
       "      <td>[cont]</td>\n",
       "      <td>[Porosity]</td>\n",
       "    </tr>\n",
       "    <tr>\n",
       "      <th>5</th>\n",
       "      <td>Netpay</td>\n",
       "      <td>MixtureGaussian</td>\n",
       "      <td>cont</td>\n",
       "      <td>[cont]</td>\n",
       "      <td>[Permeability]</td>\n",
       "    </tr>\n",
       "    <tr>\n",
       "      <th>6</th>\n",
       "      <td>Porosity</td>\n",
       "      <td>ConditionalMixtureGaussian</td>\n",
       "      <td>cont</td>\n",
       "      <td>[disc]</td>\n",
       "      <td>[Tectonic regime]</td>\n",
       "    </tr>\n",
       "    <tr>\n",
       "      <th>7</th>\n",
       "      <td>Permeability</td>\n",
       "      <td>MixtureGaussian</td>\n",
       "      <td>cont</td>\n",
       "      <td>[cont]</td>\n",
       "      <td>[Gross]</td>\n",
       "    </tr>\n",
       "    <tr>\n",
       "      <th>8</th>\n",
       "      <td>Depth</td>\n",
       "      <td>MixtureGaussian</td>\n",
       "      <td>cont</td>\n",
       "      <td>[cont]</td>\n",
       "      <td>[Gross]</td>\n",
       "    </tr>\n",
       "  </tbody>\n",
       "</table>\n",
       "</div>"
      ],
      "text/plain": [
       "                 name                   node_type data_type  \\\n",
       "0     Tectonic regime                    Discrete      disc   \n",
       "1              Period            ConditionalLogit      disc   \n",
       "2           Lithology            ConditionalLogit      disc   \n",
       "3  Structural setting                       Logit      disc   \n",
       "4               Gross             MixtureGaussian      cont   \n",
       "5              Netpay             MixtureGaussian      cont   \n",
       "6            Porosity  ConditionalMixtureGaussian      cont   \n",
       "7        Permeability             MixtureGaussian      cont   \n",
       "8               Depth             MixtureGaussian      cont   \n",
       "\n",
       "              parents                           parents_types  \n",
       "0                  []                                      []  \n",
       "1  [cont, disc, disc]  [Depth, Structural setting, Lithology]  \n",
       "2        [cont, disc]            [Netpay, Structural setting]  \n",
       "3              [cont]                          [Permeability]  \n",
       "4              [cont]                              [Porosity]  \n",
       "5              [cont]                          [Permeability]  \n",
       "6              [disc]                       [Tectonic regime]  \n",
       "7              [cont]                                 [Gross]  \n",
       "8              [cont]                                 [Gross]  "
      ]
     },
     "execution_count": 12,
     "metadata": {},
     "output_type": "execute_result"
    }
   ],
   "source": [
    "bn.get_info()"
   ]
  },
  {
   "cell_type": "code",
   "execution_count": 13,
   "id": "b4a2b8df",
   "metadata": {},
   "outputs": [
    {
     "name": "stdout",
     "output_type": "stream",
     "text": [
      "2021-12-28 19:08:14,579 | ERROR    | Networks.py-plot-0206 | This version allows only html format.\n"
     ]
    }
   ],
   "source": [
    "bn.plot('Test1')"
   ]
  },
  {
   "cell_type": "code",
   "execution_count": 25,
   "id": "568118ae",
   "metadata": {},
   "outputs": [
    {
     "data": {
      "text/html": [
       "\n",
       "        <iframe\n",
       "            width=\"100%\"\n",
       "            height=\"800px\"\n",
       "            src=\"visualization_result/Simple.html\"\n",
       "            frameborder=\"0\"\n",
       "            allowfullscreen\n",
       "        ></iframe>\n",
       "        "
      ],
      "text/plain": [
       "<IPython.lib.display.IFrame at 0x18b97402ac0>"
      ]
     },
     "execution_count": 25,
     "metadata": {},
     "output_type": "execute_result"
    }
   ],
   "source": [
    "bn.plot('Simple.html')"
   ]
  },
  {
   "cell_type": "markdown",
   "id": "03e6e976",
   "metadata": {},
   "source": [
    "## Group1. Params"
   ]
  },
  {
   "cell_type": "code",
   "execution_count": 26,
   "id": "fd32ef4b",
   "metadata": {},
   "outputs": [
    {
     "name": "stdout",
     "output_type": "stream",
     "text": [
      "[Tectonic regime, Period, Lithology, Structural setting, Gross, Netpay, Porosity, Permeability, Depth]\n"
     ]
    }
   ],
   "source": [
    "print(bn.nodes)"
   ]
  },
  {
   "cell_type": "code",
   "execution_count": 28,
   "id": "2741d343",
   "metadata": {},
   "outputs": [
    {
     "data": {
      "text/html": [
       "\n",
       "        <iframe\n",
       "            width=\"100%\"\n",
       "            height=\"800px\"\n",
       "            src=\"visualization_result/init_nodes.html\"\n",
       "            frameborder=\"0\"\n",
       "            allowfullscreen\n",
       "        ></iframe>\n",
       "        "
      ],
      "text/plain": [
       "<IPython.lib.display.IFrame at 0x18ba22b3f70>"
      ]
     },
     "execution_count": 28,
     "metadata": {},
     "output_type": "execute_result"
    }
   ],
   "source": [
    "params = {'init_nodes': ['Tectonic regime', 'Period', 'Lithology', 'Structural setting', 'Gross']}\n",
    "bn.add_edges(discretized_data, scoring_function=('MI',), params=params)\n",
    "bn.plot('init_nodes.html')"
   ]
  },
  {
   "cell_type": "code",
   "execution_count": 29,
   "id": "f8bc1baf",
   "metadata": {},
   "outputs": [
    {
     "data": {
      "text/html": [
       "\n",
       "        <iframe\n",
       "            width=\"100%\"\n",
       "            height=\"800px\"\n",
       "            src=\"visualization_result/whihe_list.html\"\n",
       "            frameborder=\"0\"\n",
       "            allowfullscreen\n",
       "        ></iframe>\n",
       "        "
      ],
      "text/plain": [
       "<IPython.lib.display.IFrame at 0x18ba23183d0>"
      ]
     },
     "execution_count": 29,
     "metadata": {},
     "output_type": "execute_result"
    }
   ],
   "source": [
    "params = {'init_nodes': ['Tectonic regime', 'Period', 'Lithology', 'Structural setting', 'Gross'],\n",
    "         'white_list': [('Period', 'Permeability'), ('Structural setting', 'Netpay'), ('Gross', 'Permeability')]}\n",
    "bn.add_edges(discretized_data, scoring_function=('MI',), params=params)\n",
    "bn.plot('whihe_list.html')"
   ]
  },
  {
   "cell_type": "code",
   "execution_count": 30,
   "id": "127cc72b",
   "metadata": {},
   "outputs": [
    {
     "data": {
      "text/html": [
       "\n",
       "        <iframe\n",
       "            width=\"100%\"\n",
       "            height=\"800px\"\n",
       "            src=\"visualization_result/init_edges.html\"\n",
       "            frameborder=\"0\"\n",
       "            allowfullscreen\n",
       "        ></iframe>\n",
       "        "
      ],
      "text/plain": [
       "<IPython.lib.display.IFrame at 0x18ba2302610>"
      ]
     },
     "execution_count": 30,
     "metadata": {},
     "output_type": "execute_result"
    }
   ],
   "source": [
    "params = {'init_nodes': ['Tectonic regime', 'Period', 'Lithology', 'Structural setting', 'Gross'],\n",
    "          'init_edges':[('Period', 'Permeability'), ('Structural setting', 'Netpay'), ('Gross', 'Permeability')],}\n",
    "bn.add_edges(discretized_data, scoring_function=('MI',), params=params)\n",
    "bn.plot('init_edges.html')"
   ]
  },
  {
   "cell_type": "code",
   "execution_count": 31,
   "id": "046ab206",
   "metadata": {},
   "outputs": [
    {
     "data": {
      "text/html": [
       "\n",
       "        <iframe\n",
       "            width=\"100%\"\n",
       "            height=\"800px\"\n",
       "            src=\"visualization_result/remove_init.html\"\n",
       "            frameborder=\"0\"\n",
       "            allowfullscreen\n",
       "        ></iframe>\n",
       "        "
      ],
      "text/plain": [
       "<IPython.lib.display.IFrame at 0x18ba23021f0>"
      ]
     },
     "execution_count": 31,
     "metadata": {},
     "output_type": "execute_result"
    }
   ],
   "source": [
    "params = {'init_nodes': ['Tectonic regime', 'Period', 'Lithology', 'Structural setting', 'Gross'],\n",
    "          'init_edges':[('Period', 'Permeability'), ('Structural setting', 'Netpay'), ('Gross', 'Permeability')],\n",
    "         'remove_init_edges':True}\n",
    "bn.add_edges(discretized_data, scoring_function=('MI',), params=params)\n",
    "bn.plot('remove_init.html')"
   ]
  },
  {
   "cell_type": "markdown",
   "id": "061d80ba",
   "metadata": {},
   "source": [
    "## Sampling"
   ]
  },
  {
   "cell_type": "code",
   "execution_count": 32,
   "id": "4b2c387e",
   "metadata": {},
   "outputs": [
    {
     "name": "stdout",
     "output_type": "stream",
     "text": [
      "2021-12-28 19:10:01,196 | ERROR    | Networks.py-sample-0174 | Parameter learning wasn't done. Call fit_parameters method\n"
     ]
    }
   ],
   "source": [
    "bn.sample(10)"
   ]
  },
  {
   "cell_type": "code",
   "execution_count": 34,
   "id": "f49267ee",
   "metadata": {},
   "outputs": [],
   "source": [
    "bn_1 = Nets.HybridBN(has_logit=True, use_mixture=True)\n",
    "d = p.info\n",
    "bn_1.add_nodes(d)"
   ]
  },
  {
   "cell_type": "code",
   "execution_count": 35,
   "id": "f0b3350d",
   "metadata": {},
   "outputs": [],
   "source": [
    "bn_2 = Nets.HybridBN(has_logit=True, use_mixture=True)\n",
    "d = p.info\n",
    "bn_2.add_nodes(d)"
   ]
  },
  {
   "cell_type": "code",
   "execution_count": 36,
   "id": "31448134",
   "metadata": {},
   "outputs": [
    {
     "data": {
      "application/vnd.jupyter.widget-view+json": {
       "model_id": "31733e05958147508970e8764d4a66f5",
       "version_major": 2,
       "version_minor": 0
      },
      "text/plain": [
       "  0%|          | 0/1000000 [00:00<?, ?it/s]"
      ]
     },
     "metadata": {},
     "output_type": "display_data"
    }
   ],
   "source": [
    "from pgmpy.estimators import K2Score\n",
    "bn_1.add_edges(discretized_data, scoring_function=('MI',))\n",
    "bn_2.add_edges(discretized_data, scoring_function=('K2',K2Score))"
   ]
  },
  {
   "cell_type": "code",
   "execution_count": 37,
   "id": "51eb9696",
   "metadata": {},
   "outputs": [
    {
     "name": "stdout",
     "output_type": "stream",
     "text": [
      "Wall time: 19.3 s\n"
     ]
    }
   ],
   "source": [
    "%%time\n",
    "bn_1.fit_parameters(hack)"
   ]
  },
  {
   "cell_type": "code",
   "execution_count": 38,
   "id": "c56eed93",
   "metadata": {},
   "outputs": [
    {
     "name": "stdout",
     "output_type": "stream",
     "text": [
      "Wall time: 38.4 s\n"
     ]
    }
   ],
   "source": [
    "%%time\n",
    "bn_2.fit_parameters(hack)"
   ]
  },
  {
   "cell_type": "code",
   "execution_count": 39,
   "id": "d6d2d4e0",
   "metadata": {},
   "outputs": [],
   "source": [
    "predictions_mi = bn_1.sample(514, as_df=True)\n",
    "predictions_k2 = bn_2.sample(514, as_df=True)"
   ]
  },
  {
   "cell_type": "code",
   "execution_count": 40,
   "id": "af1bde59",
   "metadata": {
    "scrolled": false
   },
   "outputs": [
    {
     "data": {
      "image/png": "[encoded data removed]",
      "text/plain": [
       "<Figure size 864x576 with 3 Axes>"
      ]
     },
     "metadata": {
      "needs_background": "light"
     },
     "output_type": "display_data"
    },
    {
     "data": {
      "image/png": "[encoded data removed]",
      "text/plain": [
       "<Figure size 864x576 with 3 Axes>"
      ]
     },
     "metadata": {
      "needs_background": "light"
     },
     "output_type": "display_data"
    },
    {
     "data": {
      "image/png": "[encoded data removed]",
      "text/plain": [
       "<Figure size 864x576 with 3 Axes>"
      ]
     },
     "metadata": {
      "needs_background": "light"
     },
     "output_type": "display_data"
    },
    {
     "data": {
      "image/png": "[encoded data removed]",
      "text/plain": [
       "<Figure size 864x576 with 3 Axes>"
      ]
     },
     "metadata": {
      "needs_background": "light"
     },
     "output_type": "display_data"
    },
    {
     "data": {
      "image/png": "[encoded data removed]",
      "text/plain": [
       "<Figure size 864x576 with 3 Axes>"
      ]
     },
     "metadata": {
      "needs_background": "light"
     },
     "output_type": "display_data"
    },
    {
     "data": {
      "image/png": "[encoded data removed]",
      "text/plain": [
       "<Figure size 864x576 with 3 Axes>"
      ]
     },
     "metadata": {
      "needs_background": "light"
     },
     "output_type": "display_data"
    },
    {
     "data": {
      "image/png": "[encoded data removed]",
      "text/plain": [
       "<Figure size 864x576 with 3 Axes>"
      ]
     },
     "metadata": {
      "needs_background": "light"
     },
     "output_type": "display_data"
    },
    {
     "data": {
      "image/png": "[encoded data removed]",
      "text/plain": [
       "<Figure size 864x576 with 3 Axes>"
      ]
     },
     "metadata": {
      "needs_background": "light"
     },
     "output_type": "display_data"
    },
    {
     "data": {
      "image/png": "[encoded data removed]",
      "text/plain": [
       "<Figure size 864x576 with 3 Axes>"
      ]
     },
     "metadata": {
      "needs_background": "light"
     },
     "output_type": "display_data"
    }
   ],
   "source": [
    "for column in hack.columns.to_list():\n",
    "    fig, ax = plt.subplots(1,3, figsize=(12,8), sharey=True)\n",
    "    if hack[column].dtype.name in ['float64']:\n",
    "        ax[0].hist(hack[column].values)\n",
    "        ax[1].hist(predictions_mi[column].values)\n",
    "        ax[2].hist(predictions_k2[column].values)\n",
    "    else:\n",
    "        ax[0].barh(hack[column].value_counts().index, hack[column].value_counts().values)\n",
    "        ax[1].barh(predictions_mi[column].value_counts().index, predictions_mi[column].value_counts().values)\n",
    "        ax[2].barh(predictions_k2[column].value_counts().index, predictions_k2[column].value_counts().values)\n",
    "    ax[0].set_title(f'{column} True')\n",
    "    ax[1].set_title(f'{column} Sampled MI')\n",
    "    ax[2].set_title(f\"{column} Sampled K2\")\n",
    "    \n",
    "    plt.tight_layout()"
   ]
  }
 ],
 "metadata": {
  "kernelspec": {
   "display_name": "Python 3",
   "language": "python",
   "name": "python3"
  },
  "language_info": {
   "codemirror_mode": {
    "name": "ipython",
    "version": 3
   },
   "file_extension": ".py",
   "mimetype": "text/x-python",
   "name": "python",
   "nbconvert_exporter": "python",
   "pygments_lexer": "ipython3",
   "version": "3.8.8"
  }
 },
 "nbformat": 4,
 "nbformat_minor": 5
}
