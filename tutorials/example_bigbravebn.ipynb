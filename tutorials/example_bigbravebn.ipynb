{
 "cells": [
  {
   "cell_type": "markdown",
   "metadata": {},
   "source": [
    "# Imports, system settings"
   ]
  },
  {
   "cell_type": "code",
   "execution_count": null,
   "metadata": {},
   "outputs": [],
   "source": [
    "import os, sys\n",
    "from pathlib import Path\n",
    "\n",
    "currentdir = Path(os.getcwd())\n",
    "sys.path.insert(0, os.path.dirname(currentdir.parent))\n",
    "sys.path.insert(0, os.path.dirname(currentdir))\n",
    "print(str(sys.path[0:3]))"
   ]
  },
  {
   "cell_type": "code",
   "execution_count": null,
   "metadata": {},
   "outputs": [],
   "source": [
    "import bamt.preprocessors as pp\n",
    "\n",
    "from bamt.networks.big_brave_bn import BigBraveBN\n",
    "from bamt.networks.continuous_bn import ContinuousBN\n",
    "from bamt.networks.discrete_bn import DiscreteBN\n",
    "\n",
    "import pandas as pd\n",
    "import numpy as np\n",
    "import matplotlib.pyplot as plt\n",
    "\n",
    "from pgmpy.estimators import K2Score\n",
    "from sklearn import preprocessing"
   ]
  },
  {
   "cell_type": "markdown",
   "metadata": {},
   "source": [
    "# Data Importing"
   ]
  },
  {
   "cell_type": "code",
   "execution_count": null,
   "metadata": {},
   "outputs": [],
   "source": [
    "data_discrete = pd.read_csv(r\"../Data/benchmark/pigs.csv\")\n",
    "data_continuous = pd.read_csv(r\"../Data/benchmark/arth150.csv\")"
   ]
  },
  {
   "cell_type": "markdown",
   "metadata": {},
   "source": [
    "# Discrete dataset structure learning"
   ]
  },
  {
   "cell_type": "code",
   "execution_count": null,
   "metadata": {},
   "outputs": [],
   "source": [
    "encoder = preprocessing.LabelEncoder()\n",
    "discretizer = preprocessing.KBinsDiscretizer(\n",
    "    n_bins=5, encode=\"ordinal\", strategy=\"uniform\"\n",
    ")\n",
    "\n",
    "p = pp.Preprocessor([(\"encoder\", encoder), (\"discretizer\", discretizer)])\n",
    "discretized_data, est = p.apply(data_discrete)\n",
    "\n",
    "info = p.info"
   ]
  },
  {
   "cell_type": "code",
   "execution_count": null,
   "metadata": {},
   "outputs": [],
   "source": [
    "space_restrictor = BigBraveBN()\n",
    "\n",
    "space_restrictor.set_possible_edges_by_brave(df=data_discrete)"
   ]
  },
  {
   "cell_type": "code",
   "execution_count": null,
   "metadata": {},
   "outputs": [],
   "source": [
    "ps = space_restrictor.possible_edges"
   ]
  },
  {
   "cell_type": "code",
   "execution_count": null,
   "metadata": {},
   "outputs": [],
   "source": [
    "bn_discrete = DiscreteBN()\n",
    "\n",
    "bn_discrete.add_nodes(descriptor=info)\n",
    "\n",
    "params = {\"white_list\": ps}\n",
    "bn_discrete.add_edges(discretized_data, scoring_function=(\"K2\", K2Score), params=params)"
   ]
  },
  {
   "cell_type": "markdown",
   "metadata": {},
   "source": [
    "# Continuous dataset structure learning"
   ]
  },
  {
   "cell_type": "code",
   "execution_count": null,
   "metadata": {},
   "outputs": [],
   "source": [
    "encoder = preprocessing.LabelEncoder()\n",
    "discretizer = preprocessing.KBinsDiscretizer(\n",
    "    n_bins=5, encode=\"ordinal\", strategy=\"uniform\"\n",
    ")\n",
    "\n",
    "p = pp.Preprocessor([(\"encoder\", encoder), (\"discretizer\", discretizer)])\n",
    "discretized_data, est = p.apply(data_continuous)\n",
    "\n",
    "info = p.info"
   ]
  },
  {
   "cell_type": "code",
   "execution_count": null,
   "metadata": {},
   "outputs": [],
   "source": [
    "space_restrictor = BigBraveBN()\n",
    "\n",
    "space_restrictor.set_possible_edges_by_brave(df=data_continuous)"
   ]
  },
  {
   "cell_type": "code",
   "execution_count": null,
   "metadata": {},
   "outputs": [],
   "source": [
    "ps = space_restrictor.possible_edges"
   ]
  },
  {
   "cell_type": "code",
   "execution_count": null,
   "metadata": {},
   "outputs": [],
   "source": [
    "bn_continuous = ContinuousBN()\n",
    "\n",
    "bn_continuous.add_nodes(descriptor=info)\n",
    "\n",
    "params = {\"white_list\": ps}\n",
    "bn_continuous.add_edges(\n",
    "    discretized_data, scoring_function=(\"K2\", K2Score), params=params\n",
    ")"
   ]
  }
 ],
 "metadata": {
  "kernelspec": {
   "display_name": "Python 3 (ipykernel)",
   "language": "python",
   "name": "python3"
  },
  "language_info": {
   "codemirror_mode": {
    "name": "ipython",
    "version": 3
   },
   "file_extension": ".py",
   "mimetype": "text/x-python",
   "name": "python",
   "nbconvert_exporter": "python",
   "pygments_lexer": "ipython3",
   "version": "3.10.9"
  },
  "vscode": {
   "interpreter": {
    "hash": "437f152d2723fe44563f852681ca8fe0beddb3586f2b60032d74f0fdbc572249"
   }
  }
 },
 "nbformat": 4,
 "nbformat_minor": 2
}
